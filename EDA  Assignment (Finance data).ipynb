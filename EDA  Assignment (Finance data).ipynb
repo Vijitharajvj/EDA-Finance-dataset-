{
 "cells": [
  {
   "cell_type": "markdown",
   "metadata": {},
   "source": [
    "# <h1><center>EDA Assignment</center></h1>  "
   ]
  },
  {
   "cell_type": "markdown",
   "metadata": {},
   "source": [
    "## About the dataset"
   ]
  },
  {
   "cell_type": "markdown",
   "metadata": {},
   "source": [
    "   This is a comprehensive dataset including numerous financial metrics that many professionals and investing gurus often use to value companies. This data is a look at the companies that comprise the S&P 500 (Standard & Poor's 500). \n",
    "   The S&P 500 is a capitalization-weighted index of the top 500 publicly traded companies in the United States (top 500 meaning the companies with the largest market cap). \n",
    "   The S&P 500 index is a useful index to study because it generally reflects the health of the overall U.S. stock market. The dataset was last updated in July 2020."
   ]
  },
  {
   "cell_type": "markdown",
   "metadata": {},
   "source": [
    "## Features and description"
   ]
  },
  {
   "cell_type": "markdown",
   "metadata": {},
   "source": [
    "\n",
    "There are 14 columns included in this dataset:\n",
    "\n",
    " - __4 character variables__:\n",
    "      - __Symbol__: Ticker symbol used to uniquely identify each company on a particular stock market\n",
    "      - __Name__: Legal name of the company\n",
    "      - __Sector__: An area of the economy where businesses share a related product or service\n",
    "      - __SEC Filings__: Helpful documents relating to a company\n",
    "\n",
    " - __10 numeric variables__:\n",
    "      - __Price__: Price per share of the company\n",
    "      - __Price to Earnings (PE)__: The ratio of a company’s share price to its earnings per share\n",
    "      - __Dividend Yield__: The ratio of the annual dividends per share divided by the price per share\n",
    "      - __Earnings Per Share (EPS)__: A company’s profit divided by the number of shares of its stock\n",
    "      - __52 week high and low__: The annual high and low of a company’s share price\n",
    "      - __Market Cap__: The market value of a company’s shares (calculated as share price x number of shares)\n",
    "      - __EBITDA__: A company’s earnings before interest, taxes, depreciation, and amortization; often used as a proxy for             its profitability\n",
    "      - __Price to Sales (PS)__: A company’s market cap divided by its total sales or revenue over the past year\n",
    "      - __Price to Book (PB)__: A company’s price per share divided by its book value"
   ]
  },
  {
   "cell_type": "markdown",
   "metadata": {},
   "source": [
    "### Importing libraries"
   ]
  },
  {
   "cell_type": "code",
   "execution_count": 1,
   "metadata": {},
   "outputs": [
    {
     "data": {
      "text/html": [
       "        <script type=\"text/javascript\">\n",
       "        window.PlotlyConfig = {MathJaxConfig: 'local'};\n",
       "        if (window.MathJax) {MathJax.Hub.Config({SVG: {font: \"STIX-Web\"}});}\n",
       "        if (typeof require !== 'undefined') {\n",
       "        require.undef(\"plotly\");\n",
       "        requirejs.config({\n",
       "            paths: {\n",
       "                'plotly': ['https://cdn.plot.ly/plotly-latest.min']\n",
       "            }\n",
       "        });\n",
       "        require(['plotly'], function(Plotly) {\n",
       "            window._Plotly = Plotly;\n",
       "        });\n",
       "        }\n",
       "        </script>\n",
       "        "
      ]
     },
     "metadata": {},
     "output_type": "display_data"
    },
    {
     "data": {
      "text/html": [
       "        <script type=\"text/javascript\">\n",
       "        window.PlotlyConfig = {MathJaxConfig: 'local'};\n",
       "        if (window.MathJax) {MathJax.Hub.Config({SVG: {font: \"STIX-Web\"}});}\n",
       "        if (typeof require !== 'undefined') {\n",
       "        require.undef(\"plotly\");\n",
       "        requirejs.config({\n",
       "            paths: {\n",
       "                'plotly': ['https://cdn.plot.ly/plotly-latest.min']\n",
       "            }\n",
       "        });\n",
       "        require(['plotly'], function(Plotly) {\n",
       "            window._Plotly = Plotly;\n",
       "        });\n",
       "        }\n",
       "        </script>\n",
       "        "
      ]
     },
     "metadata": {},
     "output_type": "display_data"
    }
   ],
   "source": [
    "import pandas as pd\n",
    "import numpy as np\n",
    "import plotly.express as px\n",
    "import plotly.graph_objects as go\n",
    "import chart_studio.plotly as py\n",
    "import cufflinks as cf\n",
    "from IPython.core.interactiveshell import InteractiveShell\n",
    "InteractiveShell.ast_node_interactivity='all'\n",
    "\n",
    "from plotly.offline import iplot,init_notebook_mode\n",
    "init_notebook_mode(connected=True)\n",
    "cf.go_offline(connected=True)\n",
    "import seaborn as sns"
   ]
  },
  {
   "cell_type": "markdown",
   "metadata": {},
   "source": [
    "### Reading the dataset"
   ]
  },
  {
   "cell_type": "code",
   "execution_count": 2,
   "metadata": {},
   "outputs": [],
   "source": [
    "data=pd.read_csv('../Integrify/Data/financials.csv')"
   ]
  },
  {
   "cell_type": "code",
   "execution_count": 3,
   "metadata": {},
   "outputs": [
    {
     "data": {
      "text/html": [
       "<div>\n",
       "<style scoped>\n",
       "    .dataframe tbody tr th:only-of-type {\n",
       "        vertical-align: middle;\n",
       "    }\n",
       "\n",
       "    .dataframe tbody tr th {\n",
       "        vertical-align: top;\n",
       "    }\n",
       "\n",
       "    .dataframe thead th {\n",
       "        text-align: right;\n",
       "    }\n",
       "</style>\n",
       "<table border=\"1\" class=\"dataframe\">\n",
       "  <thead>\n",
       "    <tr style=\"text-align: right;\">\n",
       "      <th></th>\n",
       "      <th>Symbol</th>\n",
       "      <th>Name</th>\n",
       "      <th>Sector</th>\n",
       "      <th>Price</th>\n",
       "      <th>Price/Earnings</th>\n",
       "      <th>Dividend Yield</th>\n",
       "      <th>Earnings/Share</th>\n",
       "      <th>52 Week Low</th>\n",
       "      <th>52 Week High</th>\n",
       "      <th>Market Cap</th>\n",
       "      <th>EBITDA</th>\n",
       "      <th>Price/Sales</th>\n",
       "      <th>Price/Book</th>\n",
       "      <th>SEC Filings</th>\n",
       "    </tr>\n",
       "  </thead>\n",
       "  <tbody>\n",
       "    <tr>\n",
       "      <th>0</th>\n",
       "      <td>MMM</td>\n",
       "      <td>3M Company</td>\n",
       "      <td>Industrials</td>\n",
       "      <td>222.89</td>\n",
       "      <td>24.31</td>\n",
       "      <td>2.332862</td>\n",
       "      <td>7.92</td>\n",
       "      <td>259.77</td>\n",
       "      <td>175.490</td>\n",
       "      <td>1.387211e+11</td>\n",
       "      <td>9.048000e+09</td>\n",
       "      <td>4.390271</td>\n",
       "      <td>11.34</td>\n",
       "      <td>http://www.sec.gov/cgi-bin/browse-edgar?action...</td>\n",
       "    </tr>\n",
       "    <tr>\n",
       "      <th>1</th>\n",
       "      <td>AOS</td>\n",
       "      <td>A.O. Smith Corp</td>\n",
       "      <td>Industrials</td>\n",
       "      <td>60.24</td>\n",
       "      <td>27.76</td>\n",
       "      <td>1.147959</td>\n",
       "      <td>1.70</td>\n",
       "      <td>68.39</td>\n",
       "      <td>48.925</td>\n",
       "      <td>1.078342e+10</td>\n",
       "      <td>6.010000e+08</td>\n",
       "      <td>3.575483</td>\n",
       "      <td>6.35</td>\n",
       "      <td>http://www.sec.gov/cgi-bin/browse-edgar?action...</td>\n",
       "    </tr>\n",
       "    <tr>\n",
       "      <th>2</th>\n",
       "      <td>ABT</td>\n",
       "      <td>Abbott Laboratories</td>\n",
       "      <td>Health Care</td>\n",
       "      <td>56.27</td>\n",
       "      <td>22.51</td>\n",
       "      <td>1.908982</td>\n",
       "      <td>0.26</td>\n",
       "      <td>64.60</td>\n",
       "      <td>42.280</td>\n",
       "      <td>1.021210e+11</td>\n",
       "      <td>5.744000e+09</td>\n",
       "      <td>3.740480</td>\n",
       "      <td>3.19</td>\n",
       "      <td>http://www.sec.gov/cgi-bin/browse-edgar?action...</td>\n",
       "    </tr>\n",
       "    <tr>\n",
       "      <th>3</th>\n",
       "      <td>ABBV</td>\n",
       "      <td>AbbVie Inc.</td>\n",
       "      <td>Health Care</td>\n",
       "      <td>108.48</td>\n",
       "      <td>19.41</td>\n",
       "      <td>2.499560</td>\n",
       "      <td>3.29</td>\n",
       "      <td>125.86</td>\n",
       "      <td>60.050</td>\n",
       "      <td>1.813863e+11</td>\n",
       "      <td>1.031000e+10</td>\n",
       "      <td>6.291571</td>\n",
       "      <td>26.14</td>\n",
       "      <td>http://www.sec.gov/cgi-bin/browse-edgar?action...</td>\n",
       "    </tr>\n",
       "    <tr>\n",
       "      <th>4</th>\n",
       "      <td>ACN</td>\n",
       "      <td>Accenture plc</td>\n",
       "      <td>Information Technology</td>\n",
       "      <td>150.51</td>\n",
       "      <td>25.47</td>\n",
       "      <td>1.714470</td>\n",
       "      <td>5.44</td>\n",
       "      <td>162.60</td>\n",
       "      <td>114.820</td>\n",
       "      <td>9.876586e+10</td>\n",
       "      <td>5.643228e+09</td>\n",
       "      <td>2.604117</td>\n",
       "      <td>10.62</td>\n",
       "      <td>http://www.sec.gov/cgi-bin/browse-edgar?action...</td>\n",
       "    </tr>\n",
       "  </tbody>\n",
       "</table>\n",
       "</div>"
      ],
      "text/plain": [
       "  Symbol                 Name                  Sector   Price  Price/Earnings  \\\n",
       "0    MMM           3M Company             Industrials  222.89           24.31   \n",
       "1    AOS      A.O. Smith Corp             Industrials   60.24           27.76   \n",
       "2    ABT  Abbott Laboratories             Health Care   56.27           22.51   \n",
       "3   ABBV          AbbVie Inc.             Health Care  108.48           19.41   \n",
       "4    ACN        Accenture plc  Information Technology  150.51           25.47   \n",
       "\n",
       "   Dividend Yield  Earnings/Share  52 Week Low  52 Week High    Market Cap  \\\n",
       "0        2.332862            7.92       259.77       175.490  1.387211e+11   \n",
       "1        1.147959            1.70        68.39        48.925  1.078342e+10   \n",
       "2        1.908982            0.26        64.60        42.280  1.021210e+11   \n",
       "3        2.499560            3.29       125.86        60.050  1.813863e+11   \n",
       "4        1.714470            5.44       162.60       114.820  9.876586e+10   \n",
       "\n",
       "         EBITDA  Price/Sales  Price/Book  \\\n",
       "0  9.048000e+09     4.390271       11.34   \n",
       "1  6.010000e+08     3.575483        6.35   \n",
       "2  5.744000e+09     3.740480        3.19   \n",
       "3  1.031000e+10     6.291571       26.14   \n",
       "4  5.643228e+09     2.604117       10.62   \n",
       "\n",
       "                                         SEC Filings  \n",
       "0  http://www.sec.gov/cgi-bin/browse-edgar?action...  \n",
       "1  http://www.sec.gov/cgi-bin/browse-edgar?action...  \n",
       "2  http://www.sec.gov/cgi-bin/browse-edgar?action...  \n",
       "3  http://www.sec.gov/cgi-bin/browse-edgar?action...  \n",
       "4  http://www.sec.gov/cgi-bin/browse-edgar?action...  "
      ]
     },
     "execution_count": 3,
     "metadata": {},
     "output_type": "execute_result"
    }
   ],
   "source": [
    "data.head()"
   ]
  },
  {
   "cell_type": "code",
   "execution_count": 4,
   "metadata": {},
   "outputs": [],
   "source": [
    "data.drop(columns='SEC Filings',inplace=True)"
   ]
  },
  {
   "cell_type": "code",
   "execution_count": 18,
   "metadata": {},
   "outputs": [],
   "source": [
    "#data.drop(columns='Name',inplace=True)"
   ]
  },
  {
   "cell_type": "code",
   "execution_count": 4,
   "metadata": {},
   "outputs": [],
   "source": [
    "data.rename(columns={'52 Week Low': '52 Week_High'}, inplace=True)\n"
   ]
  },
  {
   "cell_type": "code",
   "execution_count": 6,
   "metadata": {},
   "outputs": [],
   "source": [
    "data.rename(columns={'52 Week High': '52 Week_Low'}, inplace=True)"
   ]
  },
  {
   "cell_type": "markdown",
   "metadata": {},
   "source": [
    "### checking the shape of the data"
   ]
  },
  {
   "cell_type": "code",
   "execution_count": 8,
   "metadata": {},
   "outputs": [
    {
     "data": {
      "text/html": [
       "<div>\n",
       "<style scoped>\n",
       "    .dataframe tbody tr th:only-of-type {\n",
       "        vertical-align: middle;\n",
       "    }\n",
       "\n",
       "    .dataframe tbody tr th {\n",
       "        vertical-align: top;\n",
       "    }\n",
       "\n",
       "    .dataframe thead th {\n",
       "        text-align: right;\n",
       "    }\n",
       "</style>\n",
       "<table border=\"1\" class=\"dataframe\">\n",
       "  <thead>\n",
       "    <tr style=\"text-align: right;\">\n",
       "      <th></th>\n",
       "      <th>Symbol</th>\n",
       "      <th>Name</th>\n",
       "      <th>Sector</th>\n",
       "      <th>Price</th>\n",
       "      <th>Price/Earnings</th>\n",
       "      <th>Dividend Yield</th>\n",
       "      <th>Earnings/Share</th>\n",
       "      <th>52 Week_High</th>\n",
       "      <th>52 Week_Low</th>\n",
       "      <th>Market Cap</th>\n",
       "      <th>EBITDA</th>\n",
       "      <th>Price/Sales</th>\n",
       "      <th>Price/Book</th>\n",
       "      <th>SEC Filings</th>\n",
       "    </tr>\n",
       "  </thead>\n",
       "  <tbody>\n",
       "    <tr>\n",
       "      <th>0</th>\n",
       "      <td>MMM</td>\n",
       "      <td>3M Company</td>\n",
       "      <td>Industrials</td>\n",
       "      <td>222.89</td>\n",
       "      <td>24.31</td>\n",
       "      <td>2.332862</td>\n",
       "      <td>7.92</td>\n",
       "      <td>259.77</td>\n",
       "      <td>175.490</td>\n",
       "      <td>1.387211e+11</td>\n",
       "      <td>9.048000e+09</td>\n",
       "      <td>4.390271</td>\n",
       "      <td>11.34</td>\n",
       "      <td>http://www.sec.gov/cgi-bin/browse-edgar?action...</td>\n",
       "    </tr>\n",
       "    <tr>\n",
       "      <th>1</th>\n",
       "      <td>AOS</td>\n",
       "      <td>A.O. Smith Corp</td>\n",
       "      <td>Industrials</td>\n",
       "      <td>60.24</td>\n",
       "      <td>27.76</td>\n",
       "      <td>1.147959</td>\n",
       "      <td>1.70</td>\n",
       "      <td>68.39</td>\n",
       "      <td>48.925</td>\n",
       "      <td>1.078342e+10</td>\n",
       "      <td>6.010000e+08</td>\n",
       "      <td>3.575483</td>\n",
       "      <td>6.35</td>\n",
       "      <td>http://www.sec.gov/cgi-bin/browse-edgar?action...</td>\n",
       "    </tr>\n",
       "    <tr>\n",
       "      <th>2</th>\n",
       "      <td>ABT</td>\n",
       "      <td>Abbott Laboratories</td>\n",
       "      <td>Health Care</td>\n",
       "      <td>56.27</td>\n",
       "      <td>22.51</td>\n",
       "      <td>1.908982</td>\n",
       "      <td>0.26</td>\n",
       "      <td>64.60</td>\n",
       "      <td>42.280</td>\n",
       "      <td>1.021210e+11</td>\n",
       "      <td>5.744000e+09</td>\n",
       "      <td>3.740480</td>\n",
       "      <td>3.19</td>\n",
       "      <td>http://www.sec.gov/cgi-bin/browse-edgar?action...</td>\n",
       "    </tr>\n",
       "    <tr>\n",
       "      <th>3</th>\n",
       "      <td>ABBV</td>\n",
       "      <td>AbbVie Inc.</td>\n",
       "      <td>Health Care</td>\n",
       "      <td>108.48</td>\n",
       "      <td>19.41</td>\n",
       "      <td>2.499560</td>\n",
       "      <td>3.29</td>\n",
       "      <td>125.86</td>\n",
       "      <td>60.050</td>\n",
       "      <td>1.813863e+11</td>\n",
       "      <td>1.031000e+10</td>\n",
       "      <td>6.291571</td>\n",
       "      <td>26.14</td>\n",
       "      <td>http://www.sec.gov/cgi-bin/browse-edgar?action...</td>\n",
       "    </tr>\n",
       "    <tr>\n",
       "      <th>4</th>\n",
       "      <td>ACN</td>\n",
       "      <td>Accenture plc</td>\n",
       "      <td>Information Technology</td>\n",
       "      <td>150.51</td>\n",
       "      <td>25.47</td>\n",
       "      <td>1.714470</td>\n",
       "      <td>5.44</td>\n",
       "      <td>162.60</td>\n",
       "      <td>114.820</td>\n",
       "      <td>9.876586e+10</td>\n",
       "      <td>5.643228e+09</td>\n",
       "      <td>2.604117</td>\n",
       "      <td>10.62</td>\n",
       "      <td>http://www.sec.gov/cgi-bin/browse-edgar?action...</td>\n",
       "    </tr>\n",
       "  </tbody>\n",
       "</table>\n",
       "</div>"
      ],
      "text/plain": [
       "  Symbol                 Name                  Sector   Price  Price/Earnings  \\\n",
       "0    MMM           3M Company             Industrials  222.89           24.31   \n",
       "1    AOS      A.O. Smith Corp             Industrials   60.24           27.76   \n",
       "2    ABT  Abbott Laboratories             Health Care   56.27           22.51   \n",
       "3   ABBV          AbbVie Inc.             Health Care  108.48           19.41   \n",
       "4    ACN        Accenture plc  Information Technology  150.51           25.47   \n",
       "\n",
       "   Dividend Yield  Earnings/Share  52 Week_High  52 Week_Low    Market Cap  \\\n",
       "0        2.332862            7.92        259.77      175.490  1.387211e+11   \n",
       "1        1.147959            1.70         68.39       48.925  1.078342e+10   \n",
       "2        1.908982            0.26         64.60       42.280  1.021210e+11   \n",
       "3        2.499560            3.29        125.86       60.050  1.813863e+11   \n",
       "4        1.714470            5.44        162.60      114.820  9.876586e+10   \n",
       "\n",
       "         EBITDA  Price/Sales  Price/Book  \\\n",
       "0  9.048000e+09     4.390271       11.34   \n",
       "1  6.010000e+08     3.575483        6.35   \n",
       "2  5.744000e+09     3.740480        3.19   \n",
       "3  1.031000e+10     6.291571       26.14   \n",
       "4  5.643228e+09     2.604117       10.62   \n",
       "\n",
       "                                         SEC Filings  \n",
       "0  http://www.sec.gov/cgi-bin/browse-edgar?action...  \n",
       "1  http://www.sec.gov/cgi-bin/browse-edgar?action...  \n",
       "2  http://www.sec.gov/cgi-bin/browse-edgar?action...  \n",
       "3  http://www.sec.gov/cgi-bin/browse-edgar?action...  \n",
       "4  http://www.sec.gov/cgi-bin/browse-edgar?action...  "
      ]
     },
     "execution_count": 8,
     "metadata": {},
     "output_type": "execute_result"
    }
   ],
   "source": [
    "data.head()"
   ]
  },
  {
   "cell_type": "code",
   "execution_count": 6,
   "metadata": {},
   "outputs": [
    {
     "data": {
      "text/plain": [
       "(505, 13)"
      ]
     },
     "execution_count": 6,
     "metadata": {},
     "output_type": "execute_result"
    }
   ],
   "source": [
    "data.shape"
   ]
  },
  {
   "cell_type": "markdown",
   "metadata": {},
   "source": [
    "### checking the null values"
   ]
  },
  {
   "cell_type": "code",
   "execution_count": 7,
   "metadata": {},
   "outputs": [
    {
     "data": {
      "text/plain": [
       "Symbol            0\n",
       "Name              0\n",
       "Sector            0\n",
       "Price             0\n",
       "Price/Earnings    2\n",
       "Dividend Yield    0\n",
       "Earnings/Share    0\n",
       "52 Week Low       0\n",
       "52 Week High      0\n",
       "Market Cap        0\n",
       "EBITDA            0\n",
       "Price/Sales       0\n",
       "Price/Book        8\n",
       "dtype: int64"
      ]
     },
     "execution_count": 7,
     "metadata": {},
     "output_type": "execute_result"
    }
   ],
   "source": [
    "data.isna().sum()"
   ]
  },
  {
   "cell_type": "code",
   "execution_count": null,
   "metadata": {},
   "outputs": [],
   "source": [
    "#msno.matrix(data)"
   ]
  },
  {
   "cell_type": "code",
   "execution_count": 8,
   "metadata": {},
   "outputs": [
    {
     "data": {
      "text/plain": [
       "<AxesSubplot:>"
      ]
     },
     "execution_count": 8,
     "metadata": {},
     "output_type": "execute_result"
    },
    {
     "data": {
      "image/png": "[encoded data removed]",
      "text/plain": [
       "<Figure size 432x288 with 2 Axes>"
      ]
     },
     "metadata": {
      "needs_background": "light"
     },
     "output_type": "display_data"
    }
   ],
   "source": [
    "sns.heatmap(data.isna())"
   ]
  },
  {
   "cell_type": "code",
   "execution_count": 9,
   "metadata": {},
   "outputs": [],
   "source": [
    "data.dropna(inplace=True)"
   ]
  },
  {
   "cell_type": "code",
   "execution_count": 10,
   "metadata": {},
   "outputs": [
    {
     "data": {
      "text/plain": [
       "Symbol            0\n",
       "Name              0\n",
       "Sector            0\n",
       "Price             0\n",
       "Price/Earnings    0\n",
       "Dividend Yield    0\n",
       "Earnings/Share    0\n",
       "52 Week_High      0\n",
       "52 Week_Low       0\n",
       "Market Cap        0\n",
       "EBITDA            0\n",
       "Price/Sales       0\n",
       "Price/Book        0\n",
       "SEC Filings       0\n",
       "dtype: int64"
      ]
     },
     "execution_count": 10,
     "metadata": {},
     "output_type": "execute_result"
    }
   ],
   "source": [
    "data.isna().sum()"
   ]
  },
  {
   "cell_type": "code",
   "execution_count": 11,
   "metadata": {},
   "outputs": [
    {
     "data": {
      "text/plain": [
       "<AxesSubplot:>"
      ]
     },
     "execution_count": 11,
     "metadata": {},
     "output_type": "execute_result"
    },
    {
     "data": {
      "image/png": "[encoded data removed]",
      "text/plain": [
       "<Figure size 432x288 with 2 Axes>"
      ]
     },
     "metadata": {
      "needs_background": "light"
     },
     "output_type": "display_data"
    }
   ],
   "source": [
    "sns.heatmap(data.isna())"
   ]
  },
  {
   "cell_type": "code",
   "execution_count": 48,
   "metadata": {},
   "outputs": [
    {
     "data": {
      "text/plain": [
       "0"
      ]
     },
     "execution_count": 48,
     "metadata": {},
     "output_type": "execute_result"
    }
   ],
   "source": [
    "data.duplicated().sum()"
   ]
  },
  {
   "cell_type": "code",
   "execution_count": 209,
   "metadata": {},
   "outputs": [
    {
     "data": {
      "text/html": [
       "<style  type=\"text/css\" >\n",
       "#T_96df315c_c2cf_11eb_bf1a_28cdc4d31b92row0_col2,#T_96df315c_c2cf_11eb_bf1a_28cdc4d31b92row0_col3,#T_96df315c_c2cf_11eb_bf1a_28cdc4d31b92row0_col8,#T_96df315c_c2cf_11eb_bf1a_28cdc4d31b92row7_col0,#T_96df315c_c2cf_11eb_bf1a_28cdc4d31b92row7_col1,#T_96df315c_c2cf_11eb_bf1a_28cdc4d31b92row7_col4,#T_96df315c_c2cf_11eb_bf1a_28cdc4d31b92row7_col5,#T_96df315c_c2cf_11eb_bf1a_28cdc4d31b92row7_col6,#T_96df315c_c2cf_11eb_bf1a_28cdc4d31b92row7_col7,#T_96df315c_c2cf_11eb_bf1a_28cdc4d31b92row7_col9{\n",
       "            background-color:  yellow;\n",
       "        }</style><table id=\"T_96df315c_c2cf_11eb_bf1a_28cdc4d31b92\" ><thead>    <tr>        <th class=\"blank level0\" ></th>        <th class=\"col_heading level0 col0\" >Price</th>        <th class=\"col_heading level0 col1\" >Price/Earnings</th>        <th class=\"col_heading level0 col2\" >Dividend Yield</th>        <th class=\"col_heading level0 col3\" >Earnings/Share</th>        <th class=\"col_heading level0 col4\" >52 Week_High</th>        <th class=\"col_heading level0 col5\" >52 Week_Low</th>        <th class=\"col_heading level0 col6\" >Market Cap</th>        <th class=\"col_heading level0 col7\" >EBITDA</th>        <th class=\"col_heading level0 col8\" >Price/Sales</th>        <th class=\"col_heading level0 col9\" >Price/Book</th>    </tr></thead><tbody>\n",
       "                <tr>\n",
       "                        <th id=\"T_96df315c_c2cf_11eb_bf1a_28cdc4d31b92level0_row0\" class=\"row_heading level0 row0\" >count</th>\n",
       "                        <td id=\"T_96df315c_c2cf_11eb_bf1a_28cdc4d31b92row0_col0\" class=\"data row0 col0\" >495.000000</td>\n",
       "                        <td id=\"T_96df315c_c2cf_11eb_bf1a_28cdc4d31b92row0_col1\" class=\"data row0 col1\" >495.000000</td>\n",
       "                        <td id=\"T_96df315c_c2cf_11eb_bf1a_28cdc4d31b92row0_col2\" class=\"data row0 col2\" >495.000000</td>\n",
       "                        <td id=\"T_96df315c_c2cf_11eb_bf1a_28cdc4d31b92row0_col3\" class=\"data row0 col3\" >495.000000</td>\n",
       "                        <td id=\"T_96df315c_c2cf_11eb_bf1a_28cdc4d31b92row0_col4\" class=\"data row0 col4\" >495.000000</td>\n",
       "                        <td id=\"T_96df315c_c2cf_11eb_bf1a_28cdc4d31b92row0_col5\" class=\"data row0 col5\" >495.000000</td>\n",
       "                        <td id=\"T_96df315c_c2cf_11eb_bf1a_28cdc4d31b92row0_col6\" class=\"data row0 col6\" >495.000000</td>\n",
       "                        <td id=\"T_96df315c_c2cf_11eb_bf1a_28cdc4d31b92row0_col7\" class=\"data row0 col7\" >495.000000</td>\n",
       "                        <td id=\"T_96df315c_c2cf_11eb_bf1a_28cdc4d31b92row0_col8\" class=\"data row0 col8\" >495.000000</td>\n",
       "                        <td id=\"T_96df315c_c2cf_11eb_bf1a_28cdc4d31b92row0_col9\" class=\"data row0 col9\" >495.000000</td>\n",
       "            </tr>\n",
       "            <tr>\n",
       "                        <th id=\"T_96df315c_c2cf_11eb_bf1a_28cdc4d31b92level0_row1\" class=\"row_heading level0 row1\" >mean</th>\n",
       "                        <td id=\"T_96df315c_c2cf_11eb_bf1a_28cdc4d31b92row1_col0\" class=\"data row1 col0\" >104.106505</td>\n",
       "                        <td id=\"T_96df315c_c2cf_11eb_bf1a_28cdc4d31b92row1_col1\" class=\"data row1 col1\" >24.654303</td>\n",
       "                        <td id=\"T_96df315c_c2cf_11eb_bf1a_28cdc4d31b92row1_col2\" class=\"data row1 col2\" >1.901477</td>\n",
       "                        <td id=\"T_96df315c_c2cf_11eb_bf1a_28cdc4d31b92row1_col3\" class=\"data row1 col3\" >3.815192</td>\n",
       "                        <td id=\"T_96df315c_c2cf_11eb_bf1a_28cdc4d31b92row1_col4\" class=\"data row1 col4\" >122.985808</td>\n",
       "                        <td id=\"T_96df315c_c2cf_11eb_bf1a_28cdc4d31b92row1_col5\" class=\"data row1 col5\" >83.812053</td>\n",
       "                        <td id=\"T_96df315c_c2cf_11eb_bf1a_28cdc4d31b92row1_col6\" class=\"data row1 col6\" >49376646816.472725</td>\n",
       "                        <td id=\"T_96df315c_c2cf_11eb_bf1a_28cdc4d31b92row1_col7\" class=\"data row1 col7\" >3576405636.027111</td>\n",
       "                        <td id=\"T_96df315c_c2cf_11eb_bf1a_28cdc4d31b92row1_col8\" class=\"data row1 col8\" >3.953316</td>\n",
       "                        <td id=\"T_96df315c_c2cf_11eb_bf1a_28cdc4d31b92row1_col9\" class=\"data row1 col9\" >14.498687</td>\n",
       "            </tr>\n",
       "            <tr>\n",
       "                        <th id=\"T_96df315c_c2cf_11eb_bf1a_28cdc4d31b92level0_row2\" class=\"row_heading level0 row2\" >std</th>\n",
       "                        <td id=\"T_96df315c_c2cf_11eb_bf1a_28cdc4d31b92row2_col0\" class=\"data row2 col0\" >135.372594</td>\n",
       "                        <td id=\"T_96df315c_c2cf_11eb_bf1a_28cdc4d31b92row2_col1\" class=\"data row2 col1\" >40.767081</td>\n",
       "                        <td id=\"T_96df315c_c2cf_11eb_bf1a_28cdc4d31b92row2_col2\" class=\"data row2 col2\" >1.541039</td>\n",
       "                        <td id=\"T_96df315c_c2cf_11eb_bf1a_28cdc4d31b92row2_col3\" class=\"data row2 col3\" >5.529133</td>\n",
       "                        <td id=\"T_96df315c_c2cf_11eb_bf1a_28cdc4d31b92row2_col4\" class=\"data row2 col4\" >156.480433</td>\n",
       "                        <td id=\"T_96df315c_c2cf_11eb_bf1a_28cdc4d31b92row2_col5\" class=\"data row2 col5\" >106.497350</td>\n",
       "                        <td id=\"T_96df315c_c2cf_11eb_bf1a_28cdc4d31b92row2_col6\" class=\"data row2 col6\" >90691616349.663116</td>\n",
       "                        <td id=\"T_96df315c_c2cf_11eb_bf1a_28cdc4d31b92row2_col7\" class=\"data row2 col7\" >6880742483.653754</td>\n",
       "                        <td id=\"T_96df315c_c2cf_11eb_bf1a_28cdc4d31b92row2_col8\" class=\"data row2 col8\" >3.485055</td>\n",
       "                        <td id=\"T_96df315c_c2cf_11eb_bf1a_28cdc4d31b92row2_col9\" class=\"data row2 col9\" >89.838923</td>\n",
       "            </tr>\n",
       "            <tr>\n",
       "                        <th id=\"T_96df315c_c2cf_11eb_bf1a_28cdc4d31b92level0_row3\" class=\"row_heading level0 row3\" >min</th>\n",
       "                        <td id=\"T_96df315c_c2cf_11eb_bf1a_28cdc4d31b92row3_col0\" class=\"data row3 col0\" >2.820000</td>\n",
       "                        <td id=\"T_96df315c_c2cf_11eb_bf1a_28cdc4d31b92row3_col1\" class=\"data row3 col1\" >-251.530000</td>\n",
       "                        <td id=\"T_96df315c_c2cf_11eb_bf1a_28cdc4d31b92row3_col2\" class=\"data row3 col2\" >0.000000</td>\n",
       "                        <td id=\"T_96df315c_c2cf_11eb_bf1a_28cdc4d31b92row3_col3\" class=\"data row3 col3\" >-24.620000</td>\n",
       "                        <td id=\"T_96df315c_c2cf_11eb_bf1a_28cdc4d31b92row3_col4\" class=\"data row3 col4\" >6.590000</td>\n",
       "                        <td id=\"T_96df315c_c2cf_11eb_bf1a_28cdc4d31b92row3_col5\" class=\"data row3 col5\" >2.800000</td>\n",
       "                        <td id=\"T_96df315c_c2cf_11eb_bf1a_28cdc4d31b92row3_col6\" class=\"data row3 col6\" >2626102121.000000</td>\n",
       "                        <td id=\"T_96df315c_c2cf_11eb_bf1a_28cdc4d31b92row3_col7\" class=\"data row3 col7\" >-5067000000.000000</td>\n",
       "                        <td id=\"T_96df315c_c2cf_11eb_bf1a_28cdc4d31b92row3_col8\" class=\"data row3 col8\" >0.153186</td>\n",
       "                        <td id=\"T_96df315c_c2cf_11eb_bf1a_28cdc4d31b92row3_col9\" class=\"data row3 col9\" >0.510000</td>\n",
       "            </tr>\n",
       "            <tr>\n",
       "                        <th id=\"T_96df315c_c2cf_11eb_bf1a_28cdc4d31b92level0_row4\" class=\"row_heading level0 row4\" >25%</th>\n",
       "                        <td id=\"T_96df315c_c2cf_11eb_bf1a_28cdc4d31b92row4_col0\" class=\"data row4 col0\" >46.355000</td>\n",
       "                        <td id=\"T_96df315c_c2cf_11eb_bf1a_28cdc4d31b92row4_col1\" class=\"data row4 col1\" >15.350000</td>\n",
       "                        <td id=\"T_96df315c_c2cf_11eb_bf1a_28cdc4d31b92row4_col2\" class=\"data row4 col2\" >0.795585</td>\n",
       "                        <td id=\"T_96df315c_c2cf_11eb_bf1a_28cdc4d31b92row4_col3\" class=\"data row4 col3\" >1.525000</td>\n",
       "                        <td id=\"T_96df315c_c2cf_11eb_bf1a_28cdc4d31b92row4_col4\" class=\"data row4 col4\" >56.350000</td>\n",
       "                        <td id=\"T_96df315c_c2cf_11eb_bf1a_28cdc4d31b92row4_col5\" class=\"data row4 col5\" >38.520000</td>\n",
       "                        <td id=\"T_96df315c_c2cf_11eb_bf1a_28cdc4d31b92row4_col6\" class=\"data row4 col6\" >12749569942.000000</td>\n",
       "                        <td id=\"T_96df315c_c2cf_11eb_bf1a_28cdc4d31b92row4_col7\" class=\"data row4 col7\" >770898000.000000</td>\n",
       "                        <td id=\"T_96df315c_c2cf_11eb_bf1a_28cdc4d31b92row4_col8\" class=\"data row4 col8\" >1.631733</td>\n",
       "                        <td id=\"T_96df315c_c2cf_11eb_bf1a_28cdc4d31b92row4_col9\" class=\"data row4 col9\" >2.020000</td>\n",
       "            </tr>\n",
       "            <tr>\n",
       "                        <th id=\"T_96df315c_c2cf_11eb_bf1a_28cdc4d31b92level0_row5\" class=\"row_heading level0 row5\" >50%</th>\n",
       "                        <td id=\"T_96df315c_c2cf_11eb_bf1a_28cdc4d31b92row5_col0\" class=\"data row5 col0\" >73.920000</td>\n",
       "                        <td id=\"T_96df315c_c2cf_11eb_bf1a_28cdc4d31b92row5_col1\" class=\"data row5 col1\" >19.450000</td>\n",
       "                        <td id=\"T_96df315c_c2cf_11eb_bf1a_28cdc4d31b92row5_col2\" class=\"data row5 col2\" >1.790190</td>\n",
       "                        <td id=\"T_96df315c_c2cf_11eb_bf1a_28cdc4d31b92row5_col3\" class=\"data row5 col3\" >2.890000</td>\n",
       "                        <td id=\"T_96df315c_c2cf_11eb_bf1a_28cdc4d31b92row5_col4\" class=\"data row5 col4\" >86.680000</td>\n",
       "                        <td id=\"T_96df315c_c2cf_11eb_bf1a_28cdc4d31b92row5_col5\" class=\"data row5 col5\" >62.850000</td>\n",
       "                        <td id=\"T_96df315c_c2cf_11eb_bf1a_28cdc4d31b92row5_col6\" class=\"data row5 col6\" >21433781860.000000</td>\n",
       "                        <td id=\"T_96df315c_c2cf_11eb_bf1a_28cdc4d31b92row5_col7\" class=\"data row5 col7\" >1613000000.000000</td>\n",
       "                        <td id=\"T_96df315c_c2cf_11eb_bf1a_28cdc4d31b92row5_col8\" class=\"data row5 col8\" >2.880285</td>\n",
       "                        <td id=\"T_96df315c_c2cf_11eb_bf1a_28cdc4d31b92row5_col9\" class=\"data row5 col9\" >3.400000</td>\n",
       "            </tr>\n",
       "            <tr>\n",
       "                        <th id=\"T_96df315c_c2cf_11eb_bf1a_28cdc4d31b92level0_row6\" class=\"row_heading level0 row6\" >75%</th>\n",
       "                        <td id=\"T_96df315c_c2cf_11eb_bf1a_28cdc4d31b92row6_col0\" class=\"data row6 col0\" >116.735000</td>\n",
       "                        <td id=\"T_96df315c_c2cf_11eb_bf1a_28cdc4d31b92row6_col1\" class=\"data row6 col1\" >25.770000</td>\n",
       "                        <td id=\"T_96df315c_c2cf_11eb_bf1a_28cdc4d31b92row6_col2\" class=\"data row6 col2\" >2.797169</td>\n",
       "                        <td id=\"T_96df315c_c2cf_11eb_bf1a_28cdc4d31b92row6_col3\" class=\"data row6 col3\" >5.120000</td>\n",
       "                        <td id=\"T_96df315c_c2cf_11eb_bf1a_28cdc4d31b92row6_col4\" class=\"data row6 col4\" >140.315000</td>\n",
       "                        <td id=\"T_96df315c_c2cf_11eb_bf1a_28cdc4d31b92row6_col5\" class=\"data row6 col5\" >96.610000</td>\n",
       "                        <td id=\"T_96df315c_c2cf_11eb_bf1a_28cdc4d31b92row6_col6\" class=\"data row6 col6\" >44993152685.000000</td>\n",
       "                        <td id=\"T_96df315c_c2cf_11eb_bf1a_28cdc4d31b92row6_col7\" class=\"data row6 col7\" >3657500000.000000</td>\n",
       "                        <td id=\"T_96df315c_c2cf_11eb_bf1a_28cdc4d31b92row6_col8\" class=\"data row6 col8\" >4.728857</td>\n",
       "                        <td id=\"T_96df315c_c2cf_11eb_bf1a_28cdc4d31b92row6_col9\" class=\"data row6 col9\" >6.130000</td>\n",
       "            </tr>\n",
       "            <tr>\n",
       "                        <th id=\"T_96df315c_c2cf_11eb_bf1a_28cdc4d31b92level0_row7\" class=\"row_heading level0 row7\" >max</th>\n",
       "                        <td id=\"T_96df315c_c2cf_11eb_bf1a_28cdc4d31b92row7_col0\" class=\"data row7 col0\" >1806.060000</td>\n",
       "                        <td id=\"T_96df315c_c2cf_11eb_bf1a_28cdc4d31b92row7_col1\" class=\"data row7 col1\" >520.150000</td>\n",
       "                        <td id=\"T_96df315c_c2cf_11eb_bf1a_28cdc4d31b92row7_col2\" class=\"data row7 col2\" >12.661196</td>\n",
       "                        <td id=\"T_96df315c_c2cf_11eb_bf1a_28cdc4d31b92row7_col3\" class=\"data row7 col3\" >44.090000</td>\n",
       "                        <td id=\"T_96df315c_c2cf_11eb_bf1a_28cdc4d31b92row7_col4\" class=\"data row7 col4\" >2067.990000</td>\n",
       "                        <td id=\"T_96df315c_c2cf_11eb_bf1a_28cdc4d31b92row7_col5\" class=\"data row7 col5\" >1589.000000</td>\n",
       "                        <td id=\"T_96df315c_c2cf_11eb_bf1a_28cdc4d31b92row7_col6\" class=\"data row7 col6\" >809508034020.000000</td>\n",
       "                        <td id=\"T_96df315c_c2cf_11eb_bf1a_28cdc4d31b92row7_col7\" class=\"data row7 col7\" >79386000000.000000</td>\n",
       "                        <td id=\"T_96df315c_c2cf_11eb_bf1a_28cdc4d31b92row7_col8\" class=\"data row7 col8\" >20.094294</td>\n",
       "                        <td id=\"T_96df315c_c2cf_11eb_bf1a_28cdc4d31b92row7_col9\" class=\"data row7 col9\" >1403.380000</td>\n",
       "            </tr>\n",
       "    </tbody></table>"
      ],
      "text/plain": [
       "<pandas.io.formats.style.Styler at 0x24b75019c70>"
      ]
     },
     "execution_count": 209,
     "metadata": {},
     "output_type": "execute_result"
    }
   ],
   "source": [
    "data.describe().style.highlight_max()"
   ]
  },
  {
   "cell_type": "markdown",
   "metadata": {},
   "source": [
    "## Data Visualization"
   ]
  },
  {
   "cell_type": "markdown",
   "metadata": {},
   "source": [
    "#####  1.This graph shows the share price of each companies. \n",
    "     This graph clearly shows that PCLN has the highest share price."
   ]
  },
  {
   "cell_type": "code",
   "execution_count": 49,
   "metadata": {},
   "outputs": [
    {
     "data": {
      "application/vnd.plotly.v1+json": {
       "config": {
        "linkText": "Export to plot.ly",
        "plotlyServerURL": "https://plot.ly",
        "showLink": true
       },
       "data": [
        {
         "line": {
          "color": "rgba(55, 128, 191, 1.0)",
          "dash": "solid",
          "shape": "linear",
          "width": 1.3
         },
         "marker": {
          "size": 5,
          "symbol": "circle"
         },
         "mode": "markers",
         "name": "Price",
         "text": "",
         "type": "scatter",
         "x": [
          "MMM",
          "AOS",
          "ABT",
          "ABBV",
          "ACN",
          "ATVI",
          "AYI",
          "ADBE",
          "AAP",
          "AMD",
          "AES",
          "AET",
          "AMG",
          "AFL",
          "A",
          "APD",
          "AKAM",
          "ALK",
          "ALB",
          "ARE",
          "ALXN",
          "ALGN",
          "ALLE",
          "AGN",
          "ADS",
          "LNT",
          "ALL",
          "GOOGL",
          "GOOG",
          "MO",
          "AMZN",
          "AEE",
          "AAL",
          "AEP",
          "AXP",
          "AIG",
          "AMT",
          "AWK",
          "AMP",
          "ABC",
          "AME",
          "AMGN",
          "APH",
          "APC",
          "ADI",
          "ANDV",
          "ANSS",
          "ANTM",
          "AON",
          "APA",
          "AIV",
          "AAPL",
          "AMAT",
          "APTV",
          "ADM",
          "AJG",
          "AIZ",
          "T",
          "ADSK",
          "ADP",
          "AZO",
          "AVB",
          "AVY",
          "BHGE",
          "BLL",
          "BAC",
          "BAX",
          "BBT",
          "BDX",
          "BRK.B",
          "BBY",
          "BIIB",
          "BLK",
          "HRB",
          "BA",
          "BWA",
          "BXP",
          "BSX",
          "BHF",
          "BMY",
          "AVGO",
          "BF.B",
          "CHRW",
          "CA",
          "COG",
          "CDNS",
          "CPB",
          "COF",
          "CAH",
          "KMX",
          "CCL",
          "CAT",
          "CBOE",
          "CBG",
          "CBS",
          "CELG",
          "CNC",
          "CNP",
          "CTL",
          "CERN",
          "CF",
          "SCHW",
          "CHTR",
          "CHK",
          "CVX",
          "CMG",
          "CB",
          "CHD",
          "CI",
          "XEC",
          "CINF",
          "CTAS",
          "CSCO",
          "C",
          "CFG",
          "CTXS",
          "CME",
          "CMS",
          "KO",
          "CTSH",
          "CL",
          "CMCSA",
          "CMA",
          "CAG",
          "CXO",
          "COP",
          "ED",
          "STZ",
          "GLW",
          "COST",
          "COTY",
          "CCI",
          "CSRA",
          "CSX",
          "CMI",
          "CVS",
          "DHI",
          "DHR",
          "DRI",
          "DVA",
          "DE",
          "DAL",
          "XRAY",
          "DVN",
          "DLR",
          "DFS",
          "DISCA",
          "DISCK",
          "DISH",
          "DG",
          "DLTR",
          "D",
          "DOV",
          "DWDP",
          "DPS",
          "DTE",
          "DUK",
          "DRE",
          "DXC",
          "ETFC",
          "EMN",
          "ETN",
          "EBAY",
          "ECL",
          "EIX",
          "EW",
          "EA",
          "EMR",
          "ETR",
          "EVHC",
          "EOG",
          "EQT",
          "EFX",
          "EQIX",
          "EQR",
          "ESS",
          "EL",
          "RE",
          "ES",
          "EXC",
          "EXPE",
          "EXPD",
          "ESRX",
          "EXR",
          "XOM",
          "FFIV",
          "FB",
          "FAST",
          "FRT",
          "FDX",
          "FIS",
          "FITB",
          "FE",
          "FISV",
          "FLIR",
          "FLS",
          "FLR",
          "FMC",
          "F",
          "FTV",
          "FBHS",
          "BEN",
          "FCX",
          "GPS",
          "GRMN",
          "IT",
          "GD",
          "GE",
          "GGP",
          "GIS",
          "GM",
          "GPC",
          "GILD",
          "GPN",
          "GS",
          "GT",
          "GWW",
          "HAL",
          "HBI",
          "HOG",
          "HRS",
          "HIG",
          "HAS",
          "HCP",
          "HP",
          "HSIC",
          "HES",
          "HPE",
          "HLT",
          "HOLX",
          "HD",
          "HON",
          "HRL",
          "HST",
          "HPQ",
          "HUM",
          "HBAN",
          "HII",
          "IDXX",
          "INFO",
          "ITW",
          "ILMN",
          "INCY",
          "IR",
          "INTC",
          "ICE",
          "IBM",
          "IP",
          "IPG",
          "IFF",
          "INTU",
          "ISRG",
          "IVZ",
          "IQV",
          "IRM",
          "JBHT",
          "JEC",
          "SJM",
          "JNJ",
          "JCI",
          "JPM",
          "JNPR",
          "KSU",
          "K",
          "KEY",
          "KMB",
          "KIM",
          "KMI",
          "KLAC",
          "KSS",
          "KHC",
          "KR",
          "LB",
          "LLL",
          "LH",
          "LRCX",
          "LEG",
          "LEN",
          "LUK",
          "LLY",
          "LNC",
          "LKQ",
          "LMT",
          "L",
          "LOW",
          "LYB",
          "MTB",
          "MAC",
          "M",
          "MPC",
          "MAR",
          "MMC",
          "MLM",
          "MAS",
          "MA",
          "MAT",
          "MKC",
          "MCD",
          "MCK",
          "MDT",
          "MRK",
          "MET",
          "MTD",
          "MGM",
          "KORS",
          "MCHP",
          "MU",
          "MSFT",
          "MAA",
          "MHK",
          "TAP",
          "MDLZ",
          "MON",
          "MNST",
          "MCO",
          "MS",
          "MSI",
          "MYL",
          "NDAQ",
          "NOV",
          "NAVI",
          "NTAP",
          "NFLX",
          "NWL",
          "NFX",
          "NEM",
          "NWSA",
          "NWS",
          "NEE",
          "NLSN",
          "NKE",
          "NI",
          "NBL",
          "JWN",
          "NSC",
          "NTRS",
          "NOC",
          "NCLH",
          "NRG",
          "NUE",
          "NVDA",
          "ORLY",
          "OMC",
          "OKE",
          "ORCL",
          "PCAR",
          "PKG",
          "PH",
          "PDCO",
          "PAYX",
          "PYPL",
          "PNR",
          "PBCT",
          "PKI",
          "PFE",
          "PCG",
          "PM",
          "PSX",
          "PNW",
          "PXD",
          "PNC",
          "RL",
          "PPG",
          "PPL",
          "PX",
          "PCLN",
          "PFG",
          "PG",
          "PGR",
          "PLD",
          "PRU",
          "PEG",
          "PSA",
          "PHM",
          "PVH",
          "QRVO",
          "QCOM",
          "PWR",
          "DGX",
          "RRC",
          "RJF",
          "RTN",
          "O",
          "RHT",
          "REG",
          "REGN",
          "RF",
          "RSG",
          "RMD",
          "RHI",
          "ROK",
          "COL",
          "ROP",
          "ROST",
          "RCL",
          "SPGI",
          "CRM",
          "SBAC",
          "SCG",
          "SLB",
          "SNI",
          "STX",
          "SEE",
          "SRE",
          "SHW",
          "SIG",
          "SPG",
          "SWKS",
          "SLG",
          "SNA",
          "SO",
          "LUV",
          "SWK",
          "SBUX",
          "STT",
          "SRCL",
          "SYK",
          "STI",
          "SYMC",
          "SYF",
          "SNPS",
          "SYY",
          "TROW",
          "TGT",
          "TEL",
          "FTI",
          "TXN",
          "TXT",
          "BK",
          "CLX",
          "COO",
          "HSY",
          "MOS",
          "TRV",
          "DIS",
          "TMO",
          "TIF",
          "TWX",
          "TJX",
          "TMK",
          "TSS",
          "TSCO",
          "TRIP",
          "FOXA",
          "FOX",
          "TSN",
          "USB",
          "UDR",
          "ULTA",
          "UAA",
          "UA",
          "UAL",
          "UNH",
          "UPS",
          "URI",
          "UTX",
          "UHS",
          "UNM",
          "VFC",
          "VLO",
          "VAR",
          "VTR",
          "VRSN",
          "VRSK",
          "VZ",
          "VRTX",
          "VIAB",
          "V",
          "VNO",
          "VMC",
          "WMT",
          "WBA",
          "WM",
          "WAT",
          "WEC",
          "WFC",
          "HCN",
          "WDC",
          "WU",
          "WRK",
          "WY",
          "WHR",
          "WMB",
          "WLTW",
          "WYN",
          "WYNN",
          "XEL",
          "XRX",
          "XLNX",
          "XL",
          "XYL",
          "YUM",
          "ZBH",
          "ZION",
          "ZTS"
         ],
         "y": [
          222.89,
          60.24,
          56.27,
          108.48,
          150.51,
          65.83,
          145.41,
          185.16,
          109.63,
          11.22,
          10.06,
          178,
          179.11,
          83.25,
          65.05,
          152.8,
          62.49,
          64.04,
          105.18,
          114.58,
          108.47,
          220.71,
          77.32,
          164.2,
          240.6,
          37.14,
          90.06,
          1007.71,
          1001.52,
          64.05,
          1350.5,
          52.59,
          48.6,
          63.38,
          88.34,
          58.28,
          133.57,
          76.06,
          152.5,
          91.55,
          72.05,
          173.12,
          84.44,
          56.2,
          82.68,
          96.9,
          148.84,
          230.57,
          136.05,
          37.73,
          38.21,
          155.15,
          45.75,
          89.27,
          41.35,
          64.4,
          85.16,
          35.57,
          104.81,
          108.25,
          718.57,
          154.94,
          110.77,
          27.5,
          38.44,
          29.74,
          62.56,
          51.07,
          211.44,
          191.42,
          68.79,
          311.79,
          509.38,
          25.19,
          329.66,
          51.94,
          112.09,
          25.2,
          55.44,
          62.69,
          229.57,
          63.33,
          90.47,
          32.66,
          23.01,
          36.82,
          44.83,
          91.8,
          66.63,
          64.34,
          66.76,
          145.99,
          111.15,
          41.92,
          51.8,
          91.02,
          100.36,
          25.85,
          16.2,
          61.22,
          37.46,
          48.9,
          348.65,
          2.82,
          112.3,
          266.01,
          140.39,
          47.38,
          189.27,
          100.19,
          70.34,
          149.32,
          38.77,
          71.87,
          42.19,
          84.53,
          153.04,
          41.77,
          43.1,
          75.16,
          68.95,
          38.19,
          89.18,
          35.49,
          140.09,
          53.24,
          74.73,
          208.73,
          28.45,
          178.61,
          19.96,
          103.81,
          30.85,
          50.47,
          165.73,
          70.55,
          44.55,
          92.16,
          91.33,
          71.91,
          153.66,
          51.23,
          56.85,
          34.94,
          98.96,
          72.4,
          22.87,
          21.58,
          43.77,
          95.1,
          101.58,
          73.31,
          96.2,
          68.21,
          116.93,
          98.49,
          74.32,
          24.52,
          91.92,
          48.48,
          93.57,
          79.41,
          41.02,
          127.76,
          58.07,
          123.78,
          116.54,
          66.4,
          72.02,
          35.34,
          101.04,
          46.25,
          114,
          409.98,
          55.26,
          218.28,
          131.46,
          241.06,
          56.11,
          35.98,
          123.03,
          60.36,
          73.35,
          77.56,
          76.07,
          137.25,
          171.58,
          52.15,
          108.11,
          239.27,
          92.74,
          31.1,
          30.64,
          133.05,
          46.46,
          40.82,
          55.31,
          80.87,
          10.43,
          69.14,
          62.44,
          38,
          17.16,
          31.17,
          61.13,
          114.26,
          206.05,
          14.45,
          21.62,
          53.99,
          40.75,
          96.31,
          78.22,
          100.59,
          246.35,
          30.75,
          258.6,
          47.41,
          19.57,
          47.54,
          149.84,
          53.34,
          96.48,
          22.64,
          64.87,
          70.85,
          43,
          15.04,
          78.66,
          38.8,
          181.22,
          146.02,
          32.21,
          18.75,
          19.92,
          262.37,
          15.1,
          225.37,
          169.28,
          43.73,
          156.15,
          209.54,
          83.92,
          87.6,
          42.75,
          67,
          147.59,
          56.05,
          21.34,
          138,
          152.75,
          381.87,
          31.92,
          95.23,
          32.07,
          114.81,
          62.82,
          118.37,
          126.36,
          36.55,
          107.88,
          24.66,
          103.53,
          65.98,
          20.08,
          111.69,
          14.01,
          16.8,
          98.54,
          60.34,
          71.58,
          27.57,
          47.77,
          198.79,
          165.46,
          162.23,
          43.99,
          59.11,
          23.86,
          74.21,
          73.86,
          38.86,
          334.3,
          46.05,
          95.01,
          105.79,
          178.35,
          58.36,
          24,
          62.79,
          133.88,
          79.31,
          208.42,
          40.7,
          160.62,
          16,
          101.36,
          158.97,
          150.23,
          78.38,
          54.73,
          44.28,
          601,
          33.5,
          60.03,
          79.9,
          40,
          85.01,
          85.39,
          256.57,
          74.51,
          42.68,
          119.08,
          61.99,
          152.14,
          51.79,
          98.74,
          39.25,
          75.21,
          32.64,
          13.38,
          55.85,
          250.1,
          27.91,
          26.38,
          36.61,
          15.65,
          15.85,
          145.29,
          33.9,
          62.49,
          22.51,
          25.43,
          47.23,
          136.89,
          96.2,
          324.01,
          56.01,
          24,
          60.38,
          217.52,
          252.22,
          75.91,
          54.4,
          46.84,
          66.98,
          111.95,
          174.51,
          32.88,
          61.86,
          72.32,
          66.67,
          18.56,
          72.06,
          33.63,
          38.24,
          100.39,
          92.44,
          74.34,
          169.16,
          149.38,
          101.32,
          110.3,
          29.52,
          144.07,
          1806.06,
          60.38,
          80.22,
          51.07,
          58.33,
          103.38,
          46.73,
          180.49,
          28.67,
          142.68,
          76.85,
          62.42,
          33.51,
          96.42,
          12.82,
          86.06,
          198.74,
          47.56,
          124.65,
          55.58,
          322.62,
          17.9,
          62.72,
          89.26,
          52.26,
          178.73,
          133.31,
          259.4,
          75.06,
          122.45,
          173.31,
          104.03,
          159.85,
          35.6,
          67.4,
          86.46,
          47.44,
          42.62,
          103.36,
          387.65,
          49.38,
          152.18,
          99.04,
          90.61,
          156.72,
          43.4,
          55.63,
          152.86,
          53.77,
          98.54,
          70.55,
          148.01,
          65.8,
          25.59,
          34.98,
          82.62,
          57,
          101.99,
          71.11,
          95.27,
          29.1,
          97.66,
          55.54,
          53.29,
          127.76,
          223.17,
          97.65,
          24.13,
          135.01,
          101.35,
          198.73,
          99.62,
          93.02,
          74.36,
          80.52,
          81.17,
          65.94,
          40.05,
          34.56,
          34.09,
          73.92,
          52.65,
          32.92,
          209.09,
          13.14,
          11.95,
          63.37,
          216.46,
          109.28,
          161.99,
          127.48,
          114.87,
          47.87,
          78.75,
          86.77,
          112.82,
          50.92,
          105.62,
          92.28,
          49.04,
          151.6,
          32.71,
          113.86,
          66.18,
          121.47,
          100.02,
          68.22,
          79.12,
          191.79,
          59.5,
          55.4,
          54.67,
          80.09,
          18.81,
          60.93,
          33.6,
          164.95,
          28.56,
          152.36,
          113.56,
          169.28,
          42.44,
          29.8,
          62.82,
          41.26,
          70.24,
          76.3,
          115.53,
          50.71,
          71.51
         ]
        }
       ],
       "layout": {
        "legend": {
         "bgcolor": "#F5F6F9",
         "font": {
          "color": "#4D5663"
         }
        },
        "paper_bgcolor": "#F5F6F9",
        "plot_bgcolor": "#F5F6F9",
        "template": {
         "data": {
          "bar": [
           {
            "error_x": {
             "color": "#2a3f5f"
            },
            "error_y": {
             "color": "#2a3f5f"
            },
            "marker": {
             "line": {
              "color": "#E5ECF6",
              "width": 0.5
             }
            },
            "type": "bar"
           }
          ],
          "barpolar": [
           {
            "marker": {
             "line": {
              "color": "#E5ECF6",
              "width": 0.5
             }
            },
            "type": "barpolar"
           }
          ],
          "carpet": [
           {
            "aaxis": {
             "endlinecolor": "#2a3f5f",
             "gridcolor": "white",
             "linecolor": "white",
             "minorgridcolor": "white",
             "startlinecolor": "#2a3f5f"
            },
            "baxis": {
             "endlinecolor": "#2a3f5f",
             "gridcolor": "white",
             "linecolor": "white",
             "minorgridcolor": "white",
             "startlinecolor": "#2a3f5f"
            },
            "type": "carpet"
           }
          ],
          "choropleth": [
           {
            "colorbar": {
             "outlinewidth": 0,
             "ticks": ""
            },
            "type": "choropleth"
           }
          ],
          "contour": [
           {
            "colorbar": {
             "outlinewidth": 0,
             "ticks": ""
            },
            "colorscale": [
             [
              0,
              "#0d0887"
             ],
             [
              0.1111111111111111,
              "#46039f"
             ],
             [
              0.2222222222222222,
              "#7201a8"
             ],
             [
              0.3333333333333333,
              "#9c179e"
             ],
             [
              0.4444444444444444,
              "#bd3786"
             ],
             [
              0.5555555555555556,
              "#d8576b"
             ],
             [
              0.6666666666666666,
              "#ed7953"
             ],
             [
              0.7777777777777778,
              "#fb9f3a"
             ],
             [
              0.8888888888888888,
              "#fdca26"
             ],
             [
              1,
              "#f0f921"
             ]
            ],
            "type": "contour"
           }
          ],
          "contourcarpet": [
           {
            "colorbar": {
             "outlinewidth": 0,
             "ticks": ""
            },
            "type": "contourcarpet"
           }
          ],
          "heatmap": [
           {
            "colorbar": {
             "outlinewidth": 0,
             "ticks": ""
            },
            "colorscale": [
             [
              0,
              "#0d0887"
             ],
             [
              0.1111111111111111,
              "#46039f"
             ],
             [
              0.2222222222222222,
              "#7201a8"
             ],
             [
              0.3333333333333333,
              "#9c179e"
             ],
             [
              0.4444444444444444,
              "#bd3786"
             ],
             [
              0.5555555555555556,
              "#d8576b"
             ],
             [
              0.6666666666666666,
              "#ed7953"
             ],
             [
              0.7777777777777778,
              "#fb9f3a"
             ],
             [
              0.8888888888888888,
              "#fdca26"
             ],
             [
              1,
              "#f0f921"
             ]
            ],
            "type": "heatmap"
           }
          ],
          "heatmapgl": [
           {
            "colorbar": {
             "outlinewidth": 0,
             "ticks": ""
            },
            "colorscale": [
             [
              0,
              "#0d0887"
             ],
             [
              0.1111111111111111,
              "#46039f"
             ],
             [
              0.2222222222222222,
              "#7201a8"
             ],
             [
              0.3333333333333333,
              "#9c179e"
             ],
             [
              0.4444444444444444,
              "#bd3786"
             ],
             [
              0.5555555555555556,
              "#d8576b"
             ],
             [
              0.6666666666666666,
              "#ed7953"
             ],
             [
              0.7777777777777778,
              "#fb9f3a"
             ],
             [
              0.8888888888888888,
              "#fdca26"
             ],
             [
              1,
              "#f0f921"
             ]
            ],
            "type": "heatmapgl"
           }
          ],
          "histogram": [
           {
            "marker": {
             "colorbar": {
              "outlinewidth": 0,
              "ticks": ""
             }
            },
            "type": "histogram"
           }
          ],
          "histogram2d": [
           {
            "colorbar": {
             "outlinewidth": 0,
             "ticks": ""
            },
            "colorscale": [
             [
              0,
              "#0d0887"
             ],
             [
              0.1111111111111111,
              "#46039f"
             ],
             [
              0.2222222222222222,
              "#7201a8"
             ],
             [
              0.3333333333333333,
              "#9c179e"
             ],
             [
              0.4444444444444444,
              "#bd3786"
             ],
             [
              0.5555555555555556,
              "#d8576b"
             ],
             [
              0.6666666666666666,
              "#ed7953"
             ],
             [
              0.7777777777777778,
              "#fb9f3a"
             ],
             [
              0.8888888888888888,
              "#fdca26"
             ],
             [
              1,
              "#f0f921"
             ]
            ],
            "type": "histogram2d"
           }
          ],
          "histogram2dcontour": [
           {
            "colorbar": {
             "outlinewidth": 0,
             "ticks": ""
            },
            "colorscale": [
             [
              0,
              "#0d0887"
             ],
             [
              0.1111111111111111,
              "#46039f"
             ],
             [
              0.2222222222222222,
              "#7201a8"
             ],
             [
              0.3333333333333333,
              "#9c179e"
             ],
             [
              0.4444444444444444,
              "#bd3786"
             ],
             [
              0.5555555555555556,
              "#d8576b"
             ],
             [
              0.6666666666666666,
              "#ed7953"
             ],
             [
              0.7777777777777778,
              "#fb9f3a"
             ],
             [
              0.8888888888888888,
              "#fdca26"
             ],
             [
              1,
              "#f0f921"
             ]
            ],
            "type": "histogram2dcontour"
           }
          ],
          "mesh3d": [
           {
            "colorbar": {
             "outlinewidth": 0,
             "ticks": ""
            },
            "type": "mesh3d"
           }
          ],
          "parcoords": [
           {
            "line": {
             "colorbar": {
              "outlinewidth": 0,
              "ticks": ""
             }
            },
            "type": "parcoords"
           }
          ],
          "pie": [
           {
            "automargin": true,
            "type": "pie"
           }
          ],
          "scatter": [
           {
            "marker": {
             "colorbar": {
              "outlinewidth": 0,
              "ticks": ""
             }
            },
            "type": "scatter"
           }
          ],
          "scatter3d": [
           {
            "line": {
             "colorbar": {
              "outlinewidth": 0,
              "ticks": ""
             }
            },
            "marker": {
             "colorbar": {
              "outlinewidth": 0,
              "ticks": ""
             }
            },
            "type": "scatter3d"
           }
          ],
          "scattercarpet": [
           {
            "marker": {
             "colorbar": {
              "outlinewidth": 0,
              "ticks": ""
             }
            },
            "type": "scattercarpet"
           }
          ],
          "scattergeo": [
           {
            "marker": {
             "colorbar": {
              "outlinewidth": 0,
              "ticks": ""
             }
            },
            "type": "scattergeo"
           }
          ],
          "scattergl": [
           {
            "marker": {
             "colorbar": {
              "outlinewidth": 0,
              "ticks": ""
             }
            },
            "type": "scattergl"
           }
          ],
          "scattermapbox": [
           {
            "marker": {
             "colorbar": {
              "outlinewidth": 0,
              "ticks": ""
             }
            },
            "type": "scattermapbox"
           }
          ],
          "scatterpolar": [
           {
            "marker": {
             "colorbar": {
              "outlinewidth": 0,
              "ticks": ""
             }
            },
            "type": "scatterpolar"
           }
          ],
          "scatterpolargl": [
           {
            "marker": {
             "colorbar": {
              "outlinewidth": 0,
              "ticks": ""
             }
            },
            "type": "scatterpolargl"
           }
          ],
          "scatterternary": [
           {
            "marker": {
             "colorbar": {
              "outlinewidth": 0,
              "ticks": ""
             }
            },
            "type": "scatterternary"
           }
          ],
          "surface": [
           {
            "colorbar": {
             "outlinewidth": 0,
             "ticks": ""
            },
            "colorscale": [
             [
              0,
              "#0d0887"
             ],
             [
              0.1111111111111111,
              "#46039f"
             ],
             [
              0.2222222222222222,
              "#7201a8"
             ],
             [
              0.3333333333333333,
              "#9c179e"
             ],
             [
              0.4444444444444444,
              "#bd3786"
             ],
             [
              0.5555555555555556,
              "#d8576b"
             ],
             [
              0.6666666666666666,
              "#ed7953"
             ],
             [
              0.7777777777777778,
              "#fb9f3a"
             ],
             [
              0.8888888888888888,
              "#fdca26"
             ],
             [
              1,
              "#f0f921"
             ]
            ],
            "type": "surface"
           }
          ],
          "table": [
           {
            "cells": {
             "fill": {
              "color": "#EBF0F8"
             },
             "line": {
              "color": "white"
             }
            },
            "header": {
             "fill": {
              "color": "#C8D4E3"
             },
             "line": {
              "color": "white"
             }
            },
            "type": "table"
           }
          ]
         },
         "layout": {
          "annotationdefaults": {
           "arrowcolor": "#2a3f5f",
           "arrowhead": 0,
           "arrowwidth": 1
          },
          "autotypenumbers": "strict",
          "coloraxis": {
           "colorbar": {
            "outlinewidth": 0,
            "ticks": ""
           }
          },
          "colorscale": {
           "diverging": [
            [
             0,
             "#8e0152"
            ],
            [
             0.1,
             "#c51b7d"
            ],
            [
             0.2,
             "#de77ae"
            ],
            [
             0.3,
             "#f1b6da"
            ],
            [
             0.4,
             "#fde0ef"
            ],
            [
             0.5,
             "#f7f7f7"
            ],
            [
             0.6,
             "#e6f5d0"
            ],
            [
             0.7,
             "#b8e186"
            ],
            [
             0.8,
             "#7fbc41"
            ],
            [
             0.9,
             "#4d9221"
            ],
            [
             1,
             "#276419"
            ]
           ],
           "sequential": [
            [
             0,
             "#0d0887"
            ],
            [
             0.1111111111111111,
             "#46039f"
            ],
            [
             0.2222222222222222,
             "#7201a8"
            ],
            [
             0.3333333333333333,
             "#9c179e"
            ],
            [
             0.4444444444444444,
             "#bd3786"
            ],
            [
             0.5555555555555556,
             "#d8576b"
            ],
            [
             0.6666666666666666,
             "#ed7953"
            ],
            [
             0.7777777777777778,
             "#fb9f3a"
            ],
            [
             0.8888888888888888,
             "#fdca26"
            ],
            [
             1,
             "#f0f921"
            ]
           ],
           "sequentialminus": [
            [
             0,
             "#0d0887"
            ],
            [
             0.1111111111111111,
             "#46039f"
            ],
            [
             0.2222222222222222,
             "#7201a8"
            ],
            [
             0.3333333333333333,
             "#9c179e"
            ],
            [
             0.4444444444444444,
             "#bd3786"
            ],
            [
             0.5555555555555556,
             "#d8576b"
            ],
            [
             0.6666666666666666,
             "#ed7953"
            ],
            [
             0.7777777777777778,
             "#fb9f3a"
            ],
            [
             0.8888888888888888,
             "#fdca26"
            ],
            [
             1,
             "#f0f921"
            ]
           ]
          },
          "colorway": [
           "#636efa",
           "#EF553B",
           "#00cc96",
           "#ab63fa",
           "#FFA15A",
           "#19d3f3",
           "#FF6692",
           "#B6E880",
           "#FF97FF",
           "#FECB52"
          ],
          "font": {
           "color": "#2a3f5f"
          },
          "geo": {
           "bgcolor": "white",
           "lakecolor": "white",
           "landcolor": "#E5ECF6",
           "showlakes": true,
           "showland": true,
           "subunitcolor": "white"
          },
          "hoverlabel": {
           "align": "left"
          },
          "hovermode": "closest",
          "mapbox": {
           "style": "light"
          },
          "paper_bgcolor": "white",
          "plot_bgcolor": "#E5ECF6",
          "polar": {
           "angularaxis": {
            "gridcolor": "white",
            "linecolor": "white",
            "ticks": ""
           },
           "bgcolor": "#E5ECF6",
           "radialaxis": {
            "gridcolor": "white",
            "linecolor": "white",
            "ticks": ""
           }
          },
          "scene": {
           "xaxis": {
            "backgroundcolor": "#E5ECF6",
            "gridcolor": "white",
            "gridwidth": 2,
            "linecolor": "white",
            "showbackground": true,
            "ticks": "",
            "zerolinecolor": "white"
           },
           "yaxis": {
            "backgroundcolor": "#E5ECF6",
            "gridcolor": "white",
            "gridwidth": 2,
            "linecolor": "white",
            "showbackground": true,
            "ticks": "",
            "zerolinecolor": "white"
           },
           "zaxis": {
            "backgroundcolor": "#E5ECF6",
            "gridcolor": "white",
            "gridwidth": 2,
            "linecolor": "white",
            "showbackground": true,
            "ticks": "",
            "zerolinecolor": "white"
           }
          },
          "shapedefaults": {
           "line": {
            "color": "#2a3f5f"
           }
          },
          "ternary": {
           "aaxis": {
            "gridcolor": "white",
            "linecolor": "white",
            "ticks": ""
           },
           "baxis": {
            "gridcolor": "white",
            "linecolor": "white",
            "ticks": ""
           },
           "bgcolor": "#E5ECF6",
           "caxis": {
            "gridcolor": "white",
            "linecolor": "white",
            "ticks": ""
           }
          },
          "title": {
           "x": 0.05
          },
          "xaxis": {
           "automargin": true,
           "gridcolor": "white",
           "linecolor": "white",
           "ticks": "",
           "title": {
            "standoff": 15
           },
           "zerolinecolor": "white",
           "zerolinewidth": 2
          },
          "yaxis": {
           "automargin": true,
           "gridcolor": "white",
           "linecolor": "white",
           "ticks": "",
           "title": {
            "standoff": 15
           },
           "zerolinecolor": "white",
           "zerolinewidth": 2
          }
         }
        },
        "title": {
         "font": {
          "color": "#4D5663"
         },
         "text": "Share price of companies"
        },
        "xaxis": {
         "gridcolor": "#E1E5ED",
         "showgrid": true,
         "tickfont": {
          "color": "#4D5663"
         },
         "title": {
          "font": {
           "color": "#4D5663"
          },
          "text": "Company name"
         },
         "zerolinecolor": "#E1E5ED"
        },
        "yaxis": {
         "gridcolor": "#E1E5ED",
         "showgrid": true,
         "tickfont": {
          "color": "#4D5663"
         },
         "title": {
          "font": {
           "color": "#4D5663"
          },
          "text": "Price"
         },
         "zerolinecolor": "#E1E5ED"
        }
       }
      },
      "text/html": [
       "<div>                            <div id=\"d39a1237-6337-42cd-ba81-3b0a8eddc4ef\" class=\"plotly-graph-div\" style=\"height:525px; width:100%;\"></div>            <script type=\"text/javascript\">                require([\"plotly\"], function(Plotly) {                    window.PLOTLYENV=window.PLOTLYENV || {};\n",
       "                    window.PLOTLYENV.BASE_URL='https://plot.ly';                                    if (document.getElementById(\"d39a1237-6337-42cd-ba81-3b0a8eddc4ef\")) {                    Plotly.newPlot(                        \"d39a1237-6337-42cd-ba81-3b0a8eddc4ef\",                        [{\"line\": {\"color\": \"rgba(55, 128, 191, 1.0)\", \"dash\": \"solid\", \"shape\": \"linear\", \"width\": 1.3}, \"marker\": {\"size\": 5, \"symbol\": \"circle\"}, \"mode\": \"markers\", \"name\": \"Price\", \"text\": \"\", \"type\": \"scatter\", \"x\": [\"MMM\", \"AOS\", \"ABT\", \"ABBV\", \"ACN\", \"ATVI\", \"AYI\", \"ADBE\", \"AAP\", \"AMD\", \"AES\", \"AET\", \"AMG\", \"AFL\", \"A\", \"APD\", \"AKAM\", \"ALK\", \"ALB\", \"ARE\", \"ALXN\", \"ALGN\", \"ALLE\", \"AGN\", \"ADS\", \"LNT\", \"ALL\", \"GOOGL\", \"GOOG\", \"MO\", \"AMZN\", \"AEE\", \"AAL\", \"AEP\", \"AXP\", \"AIG\", \"AMT\", \"AWK\", \"AMP\", \"ABC\", \"AME\", \"AMGN\", \"APH\", \"APC\", \"ADI\", \"ANDV\", \"ANSS\", \"ANTM\", \"AON\", \"APA\", \"AIV\", \"AAPL\", \"AMAT\", \"APTV\", \"ADM\", \"AJG\", \"AIZ\", \"T\", \"ADSK\", \"ADP\", \"AZO\", \"AVB\", \"AVY\", \"BHGE\", \"BLL\", \"BAC\", \"BAX\", \"BBT\", \"BDX\", \"BRK.B\", \"BBY\", \"BIIB\", \"BLK\", \"HRB\", \"BA\", \"BWA\", \"BXP\", \"BSX\", \"BHF\", \"BMY\", \"AVGO\", \"BF.B\", \"CHRW\", \"CA\", \"COG\", \"CDNS\", \"CPB\", \"COF\", \"CAH\", \"KMX\", \"CCL\", \"CAT\", \"CBOE\", \"CBG\", \"CBS\", \"CELG\", \"CNC\", \"CNP\", \"CTL\", \"CERN\", \"CF\", \"SCHW\", \"CHTR\", \"CHK\", \"CVX\", \"CMG\", \"CB\", \"CHD\", \"CI\", \"XEC\", \"CINF\", \"CTAS\", \"CSCO\", \"C\", \"CFG\", \"CTXS\", \"CME\", \"CMS\", \"KO\", \"CTSH\", \"CL\", \"CMCSA\", \"CMA\", \"CAG\", \"CXO\", \"COP\", \"ED\", \"STZ\", \"GLW\", \"COST\", \"COTY\", \"CCI\", \"CSRA\", \"CSX\", \"CMI\", \"CVS\", \"DHI\", \"DHR\", \"DRI\", \"DVA\", \"DE\", \"DAL\", \"XRAY\", \"DVN\", \"DLR\", \"DFS\", \"DISCA\", \"DISCK\", \"DISH\", \"DG\", \"DLTR\", \"D\", \"DOV\", \"DWDP\", \"DPS\", \"DTE\", \"DUK\", \"DRE\", \"DXC\", \"ETFC\", \"EMN\", \"ETN\", \"EBAY\", \"ECL\", \"EIX\", \"EW\", \"EA\", \"EMR\", \"ETR\", \"EVHC\", \"EOG\", \"EQT\", \"EFX\", \"EQIX\", \"EQR\", \"ESS\", \"EL\", \"RE\", \"ES\", \"EXC\", \"EXPE\", \"EXPD\", \"ESRX\", \"EXR\", \"XOM\", \"FFIV\", \"FB\", \"FAST\", \"FRT\", \"FDX\", \"FIS\", \"FITB\", \"FE\", \"FISV\", \"FLIR\", \"FLS\", \"FLR\", \"FMC\", \"F\", \"FTV\", \"FBHS\", \"BEN\", \"FCX\", \"GPS\", \"GRMN\", \"IT\", \"GD\", \"GE\", \"GGP\", \"GIS\", \"GM\", \"GPC\", \"GILD\", \"GPN\", \"GS\", \"GT\", \"GWW\", \"HAL\", \"HBI\", \"HOG\", \"HRS\", \"HIG\", \"HAS\", \"HCP\", \"HP\", \"HSIC\", \"HES\", \"HPE\", \"HLT\", \"HOLX\", \"HD\", \"HON\", \"HRL\", \"HST\", \"HPQ\", \"HUM\", \"HBAN\", \"HII\", \"IDXX\", \"INFO\", \"ITW\", \"ILMN\", \"INCY\", \"IR\", \"INTC\", \"ICE\", \"IBM\", \"IP\", \"IPG\", \"IFF\", \"INTU\", \"ISRG\", \"IVZ\", \"IQV\", \"IRM\", \"JBHT\", \"JEC\", \"SJM\", \"JNJ\", \"JCI\", \"JPM\", \"JNPR\", \"KSU\", \"K\", \"KEY\", \"KMB\", \"KIM\", \"KMI\", \"KLAC\", \"KSS\", \"KHC\", \"KR\", \"LB\", \"LLL\", \"LH\", \"LRCX\", \"LEG\", \"LEN\", \"LUK\", \"LLY\", \"LNC\", \"LKQ\", \"LMT\", \"L\", \"LOW\", \"LYB\", \"MTB\", \"MAC\", \"M\", \"MPC\", \"MAR\", \"MMC\", \"MLM\", \"MAS\", \"MA\", \"MAT\", \"MKC\", \"MCD\", \"MCK\", \"MDT\", \"MRK\", \"MET\", \"MTD\", \"MGM\", \"KORS\", \"MCHP\", \"MU\", \"MSFT\", \"MAA\", \"MHK\", \"TAP\", \"MDLZ\", \"MON\", \"MNST\", \"MCO\", \"MS\", \"MSI\", \"MYL\", \"NDAQ\", \"NOV\", \"NAVI\", \"NTAP\", \"NFLX\", \"NWL\", \"NFX\", \"NEM\", \"NWSA\", \"NWS\", \"NEE\", \"NLSN\", \"NKE\", \"NI\", \"NBL\", \"JWN\", \"NSC\", \"NTRS\", \"NOC\", \"NCLH\", \"NRG\", \"NUE\", \"NVDA\", \"ORLY\", \"OMC\", \"OKE\", \"ORCL\", \"PCAR\", \"PKG\", \"PH\", \"PDCO\", \"PAYX\", \"PYPL\", \"PNR\", \"PBCT\", \"PKI\", \"PFE\", \"PCG\", \"PM\", \"PSX\", \"PNW\", \"PXD\", \"PNC\", \"RL\", \"PPG\", \"PPL\", \"PX\", \"PCLN\", \"PFG\", \"PG\", \"PGR\", \"PLD\", \"PRU\", \"PEG\", \"PSA\", \"PHM\", \"PVH\", \"QRVO\", \"QCOM\", \"PWR\", \"DGX\", \"RRC\", \"RJF\", \"RTN\", \"O\", \"RHT\", \"REG\", \"REGN\", \"RF\", \"RSG\", \"RMD\", \"RHI\", \"ROK\", \"COL\", \"ROP\", \"ROST\", \"RCL\", \"SPGI\", \"CRM\", \"SBAC\", \"SCG\", \"SLB\", \"SNI\", \"STX\", \"SEE\", \"SRE\", \"SHW\", \"SIG\", \"SPG\", \"SWKS\", \"SLG\", \"SNA\", \"SO\", \"LUV\", \"SWK\", \"SBUX\", \"STT\", \"SRCL\", \"SYK\", \"STI\", \"SYMC\", \"SYF\", \"SNPS\", \"SYY\", \"TROW\", \"TGT\", \"TEL\", \"FTI\", \"TXN\", \"TXT\", \"BK\", \"CLX\", \"COO\", \"HSY\", \"MOS\", \"TRV\", \"DIS\", \"TMO\", \"TIF\", \"TWX\", \"TJX\", \"TMK\", \"TSS\", \"TSCO\", \"TRIP\", \"FOXA\", \"FOX\", \"TSN\", \"USB\", \"UDR\", \"ULTA\", \"UAA\", \"UA\", \"UAL\", \"UNH\", \"UPS\", \"URI\", \"UTX\", \"UHS\", \"UNM\", \"VFC\", \"VLO\", \"VAR\", \"VTR\", \"VRSN\", \"VRSK\", \"VZ\", \"VRTX\", \"VIAB\", \"V\", \"VNO\", \"VMC\", \"WMT\", \"WBA\", \"WM\", \"WAT\", \"WEC\", \"WFC\", \"HCN\", \"WDC\", \"WU\", \"WRK\", \"WY\", \"WHR\", \"WMB\", \"WLTW\", \"WYN\", \"WYNN\", \"XEL\", \"XRX\", \"XLNX\", \"XL\", \"XYL\", \"YUM\", \"ZBH\", \"ZION\", \"ZTS\"], \"y\": [222.89, 60.24, 56.27, 108.48, 150.51, 65.83, 145.41, 185.16, 109.63, 11.22, 10.06, 178.0, 179.11, 83.25, 65.05, 152.8, 62.49, 64.04, 105.18, 114.58, 108.47, 220.71, 77.32, 164.2, 240.6, 37.14, 90.06, 1007.71, 1001.52, 64.05, 1350.5, 52.59, 48.6, 63.38, 88.34, 58.28, 133.57, 76.06, 152.5, 91.55, 72.05, 173.12, 84.44, 56.2, 82.68, 96.9, 148.84, 230.57, 136.05, 37.73, 38.21, 155.15, 45.75, 89.27, 41.35, 64.4, 85.16, 35.57, 104.81, 108.25, 718.57, 154.94, 110.77, 27.5, 38.44, 29.74, 62.56, 51.07, 211.44, 191.42, 68.79, 311.79, 509.38, 25.19, 329.66, 51.94, 112.09, 25.2, 55.44, 62.69, 229.57, 63.33, 90.47, 32.66, 23.01, 36.82, 44.83, 91.8, 66.63, 64.34, 66.76, 145.99, 111.15, 41.92, 51.8, 91.02, 100.36, 25.85, 16.2, 61.22, 37.46, 48.9, 348.65, 2.82, 112.3, 266.01, 140.39, 47.38, 189.27, 100.19, 70.34, 149.32, 38.77, 71.87, 42.19, 84.53, 153.04, 41.77, 43.1, 75.16, 68.95, 38.19, 89.18, 35.49, 140.09, 53.24, 74.73, 208.73, 28.45, 178.61, 19.96, 103.81, 30.85, 50.47, 165.73, 70.55, 44.55, 92.16, 91.33, 71.91, 153.66, 51.23, 56.85, 34.94, 98.96, 72.4, 22.87, 21.58, 43.77, 95.1, 101.58, 73.31, 96.2, 68.21, 116.93, 98.49, 74.32, 24.52, 91.92, 48.48, 93.57, 79.41, 41.02, 127.76, 58.07, 123.78, 116.54, 66.4, 72.02, 35.34, 101.04, 46.25, 114.0, 409.98, 55.26, 218.28, 131.46, 241.06, 56.11, 35.98, 123.03, 60.36, 73.35, 77.56, 76.07, 137.25, 171.58, 52.15, 108.11, 239.27, 92.74, 31.1, 30.64, 133.05, 46.46, 40.82, 55.31, 80.87, 10.43, 69.14, 62.44, 38.0, 17.16, 31.17, 61.13, 114.26, 206.05, 14.45, 21.62, 53.99, 40.75, 96.31, 78.22, 100.59, 246.35, 30.75, 258.6, 47.41, 19.57, 47.54, 149.84, 53.34, 96.48, 22.64, 64.87, 70.85, 43.0, 15.04, 78.66, 38.8, 181.22, 146.02, 32.21, 18.75, 19.92, 262.37, 15.1, 225.37, 169.28, 43.73, 156.15, 209.54, 83.92, 87.6, 42.75, 67.0, 147.59, 56.05, 21.34, 138.0, 152.75, 381.87, 31.92, 95.23, 32.07, 114.81, 62.82, 118.37, 126.36, 36.55, 107.88, 24.66, 103.53, 65.98, 20.08, 111.69, 14.01, 16.8, 98.54, 60.34, 71.58, 27.57, 47.77, 198.79, 165.46, 162.23, 43.99, 59.11, 23.86, 74.21, 73.86, 38.86, 334.3, 46.05, 95.01, 105.79, 178.35, 58.36, 24.0, 62.79, 133.88, 79.31, 208.42, 40.7, 160.62, 16.0, 101.36, 158.97, 150.23, 78.38, 54.73, 44.28, 601.0, 33.5, 60.03, 79.9, 40.0, 85.01, 85.39, 256.57, 74.51, 42.68, 119.08, 61.99, 152.14, 51.79, 98.74, 39.25, 75.21, 32.64, 13.38, 55.85, 250.1, 27.91, 26.38, 36.61, 15.65, 15.85, 145.29, 33.9, 62.49, 22.51, 25.43, 47.23, 136.89, 96.2, 324.01, 56.01, 24.0, 60.38, 217.52, 252.22, 75.91, 54.4, 46.84, 66.98, 111.95, 174.51, 32.88, 61.86, 72.32, 66.67, 18.56, 72.06, 33.63, 38.24, 100.39, 92.44, 74.34, 169.16, 149.38, 101.32, 110.3, 29.52, 144.07, 1806.06, 60.38, 80.22, 51.07, 58.33, 103.38, 46.73, 180.49, 28.67, 142.68, 76.85, 62.42, 33.51, 96.42, 12.82, 86.06, 198.74, 47.56, 124.65, 55.58, 322.62, 17.9, 62.72, 89.26, 52.26, 178.73, 133.31, 259.4, 75.06, 122.45, 173.31, 104.03, 159.85, 35.6, 67.4, 86.46, 47.44, 42.62, 103.36, 387.65, 49.38, 152.18, 99.04, 90.61, 156.72, 43.4, 55.63, 152.86, 53.77, 98.54, 70.55, 148.01, 65.8, 25.59, 34.98, 82.62, 57.0, 101.99, 71.11, 95.27, 29.1, 97.66, 55.54, 53.29, 127.76, 223.17, 97.65, 24.13, 135.01, 101.35, 198.73, 99.62, 93.02, 74.36, 80.52, 81.17, 65.94, 40.05, 34.56, 34.09, 73.92, 52.65, 32.92, 209.09, 13.14, 11.95, 63.37, 216.46, 109.28, 161.99, 127.48, 114.87, 47.87, 78.75, 86.77, 112.82, 50.92, 105.62, 92.28, 49.04, 151.6, 32.71, 113.86, 66.18, 121.47, 100.02, 68.22, 79.12, 191.79, 59.5, 55.4, 54.67, 80.09, 18.81, 60.93, 33.6, 164.95, 28.56, 152.36, 113.56, 169.28, 42.44, 29.8, 62.82, 41.26, 70.24, 76.3, 115.53, 50.71, 71.51]}],                        {\"legend\": {\"bgcolor\": \"#F5F6F9\", \"font\": {\"color\": \"#4D5663\"}}, \"paper_bgcolor\": \"#F5F6F9\", \"plot_bgcolor\": \"#F5F6F9\", \"template\": {\"data\": {\"bar\": [{\"error_x\": {\"color\": \"#2a3f5f\"}, \"error_y\": {\"color\": \"#2a3f5f\"}, \"marker\": {\"line\": {\"color\": \"#E5ECF6\", \"width\": 0.5}}, \"type\": \"bar\"}], \"barpolar\": [{\"marker\": {\"line\": {\"color\": \"#E5ECF6\", \"width\": 0.5}}, \"type\": \"barpolar\"}], \"carpet\": [{\"aaxis\": {\"endlinecolor\": \"#2a3f5f\", \"gridcolor\": \"white\", \"linecolor\": \"white\", \"minorgridcolor\": \"white\", \"startlinecolor\": \"#2a3f5f\"}, \"baxis\": {\"endlinecolor\": \"#2a3f5f\", \"gridcolor\": \"white\", \"linecolor\": \"white\", \"minorgridcolor\": \"white\", \"startlinecolor\": \"#2a3f5f\"}, \"type\": \"carpet\"}], \"choropleth\": [{\"colorbar\": {\"outlinewidth\": 0, \"ticks\": \"\"}, \"type\": \"choropleth\"}], \"contour\": [{\"colorbar\": {\"outlinewidth\": 0, \"ticks\": \"\"}, \"colorscale\": [[0.0, \"#0d0887\"], [0.1111111111111111, \"#46039f\"], [0.2222222222222222, \"#7201a8\"], [0.3333333333333333, \"#9c179e\"], [0.4444444444444444, \"#bd3786\"], [0.5555555555555556, \"#d8576b\"], [0.6666666666666666, \"#ed7953\"], [0.7777777777777778, \"#fb9f3a\"], [0.8888888888888888, \"#fdca26\"], [1.0, \"#f0f921\"]], \"type\": \"contour\"}], \"contourcarpet\": [{\"colorbar\": {\"outlinewidth\": 0, \"ticks\": \"\"}, \"type\": \"contourcarpet\"}], \"heatmap\": [{\"colorbar\": {\"outlinewidth\": 0, \"ticks\": \"\"}, \"colorscale\": [[0.0, \"#0d0887\"], [0.1111111111111111, \"#46039f\"], [0.2222222222222222, \"#7201a8\"], [0.3333333333333333, \"#9c179e\"], [0.4444444444444444, \"#bd3786\"], [0.5555555555555556, \"#d8576b\"], [0.6666666666666666, \"#ed7953\"], [0.7777777777777778, \"#fb9f3a\"], [0.8888888888888888, \"#fdca26\"], [1.0, \"#f0f921\"]], \"type\": \"heatmap\"}], \"heatmapgl\": [{\"colorbar\": {\"outlinewidth\": 0, \"ticks\": \"\"}, \"colorscale\": [[0.0, \"#0d0887\"], [0.1111111111111111, \"#46039f\"], [0.2222222222222222, \"#7201a8\"], [0.3333333333333333, \"#9c179e\"], [0.4444444444444444, \"#bd3786\"], [0.5555555555555556, \"#d8576b\"], [0.6666666666666666, \"#ed7953\"], [0.7777777777777778, \"#fb9f3a\"], [0.8888888888888888, \"#fdca26\"], [1.0, \"#f0f921\"]], \"type\": \"heatmapgl\"}], \"histogram\": [{\"marker\": {\"colorbar\": {\"outlinewidth\": 0, \"ticks\": \"\"}}, \"type\": \"histogram\"}], \"histogram2d\": [{\"colorbar\": {\"outlinewidth\": 0, \"ticks\": \"\"}, \"colorscale\": [[0.0, \"#0d0887\"], [0.1111111111111111, \"#46039f\"], [0.2222222222222222, \"#7201a8\"], [0.3333333333333333, \"#9c179e\"], [0.4444444444444444, \"#bd3786\"], [0.5555555555555556, \"#d8576b\"], [0.6666666666666666, \"#ed7953\"], [0.7777777777777778, \"#fb9f3a\"], [0.8888888888888888, \"#fdca26\"], [1.0, \"#f0f921\"]], \"type\": \"histogram2d\"}], \"histogram2dcontour\": [{\"colorbar\": {\"outlinewidth\": 0, \"ticks\": \"\"}, \"colorscale\": [[0.0, \"#0d0887\"], [0.1111111111111111, \"#46039f\"], [0.2222222222222222, \"#7201a8\"], [0.3333333333333333, \"#9c179e\"], [0.4444444444444444, \"#bd3786\"], [0.5555555555555556, \"#d8576b\"], [0.6666666666666666, \"#ed7953\"], [0.7777777777777778, \"#fb9f3a\"], [0.8888888888888888, \"#fdca26\"], [1.0, \"#f0f921\"]], \"type\": \"histogram2dcontour\"}], \"mesh3d\": [{\"colorbar\": {\"outlinewidth\": 0, \"ticks\": \"\"}, \"type\": \"mesh3d\"}], \"parcoords\": [{\"line\": {\"colorbar\": {\"outlinewidth\": 0, \"ticks\": \"\"}}, \"type\": \"parcoords\"}], \"pie\": [{\"automargin\": true, \"type\": \"pie\"}], \"scatter\": [{\"marker\": {\"colorbar\": {\"outlinewidth\": 0, \"ticks\": \"\"}}, \"type\": \"scatter\"}], \"scatter3d\": [{\"line\": {\"colorbar\": {\"outlinewidth\": 0, \"ticks\": \"\"}}, \"marker\": {\"colorbar\": {\"outlinewidth\": 0, \"ticks\": \"\"}}, \"type\": \"scatter3d\"}], \"scattercarpet\": [{\"marker\": {\"colorbar\": {\"outlinewidth\": 0, \"ticks\": \"\"}}, \"type\": \"scattercarpet\"}], \"scattergeo\": [{\"marker\": {\"colorbar\": {\"outlinewidth\": 0, \"ticks\": \"\"}}, \"type\": \"scattergeo\"}], \"scattergl\": [{\"marker\": {\"colorbar\": {\"outlinewidth\": 0, \"ticks\": \"\"}}, \"type\": \"scattergl\"}], \"scattermapbox\": [{\"marker\": {\"colorbar\": {\"outlinewidth\": 0, \"ticks\": \"\"}}, \"type\": \"scattermapbox\"}], \"scatterpolar\": [{\"marker\": {\"colorbar\": {\"outlinewidth\": 0, \"ticks\": \"\"}}, \"type\": \"scatterpolar\"}], \"scatterpolargl\": [{\"marker\": {\"colorbar\": {\"outlinewidth\": 0, \"ticks\": \"\"}}, \"type\": \"scatterpolargl\"}], \"scatterternary\": [{\"marker\": {\"colorbar\": {\"outlinewidth\": 0, \"ticks\": \"\"}}, \"type\": \"scatterternary\"}], \"surface\": [{\"colorbar\": {\"outlinewidth\": 0, \"ticks\": \"\"}, \"colorscale\": [[0.0, \"#0d0887\"], [0.1111111111111111, \"#46039f\"], [0.2222222222222222, \"#7201a8\"], [0.3333333333333333, \"#9c179e\"], [0.4444444444444444, \"#bd3786\"], [0.5555555555555556, \"#d8576b\"], [0.6666666666666666, \"#ed7953\"], [0.7777777777777778, \"#fb9f3a\"], [0.8888888888888888, \"#fdca26\"], [1.0, \"#f0f921\"]], \"type\": \"surface\"}], \"table\": [{\"cells\": {\"fill\": {\"color\": \"#EBF0F8\"}, \"line\": {\"color\": \"white\"}}, \"header\": {\"fill\": {\"color\": \"#C8D4E3\"}, \"line\": {\"color\": \"white\"}}, \"type\": \"table\"}]}, \"layout\": {\"annotationdefaults\": {\"arrowcolor\": \"#2a3f5f\", \"arrowhead\": 0, \"arrowwidth\": 1}, \"autotypenumbers\": \"strict\", \"coloraxis\": {\"colorbar\": {\"outlinewidth\": 0, \"ticks\": \"\"}}, \"colorscale\": {\"diverging\": [[0, \"#8e0152\"], [0.1, \"#c51b7d\"], [0.2, \"#de77ae\"], [0.3, \"#f1b6da\"], [0.4, \"#fde0ef\"], [0.5, \"#f7f7f7\"], [0.6, \"#e6f5d0\"], [0.7, \"#b8e186\"], [0.8, \"#7fbc41\"], [0.9, \"#4d9221\"], [1, \"#276419\"]], \"sequential\": [[0.0, \"#0d0887\"], [0.1111111111111111, \"#46039f\"], [0.2222222222222222, \"#7201a8\"], [0.3333333333333333, \"#9c179e\"], [0.4444444444444444, \"#bd3786\"], [0.5555555555555556, \"#d8576b\"], [0.6666666666666666, \"#ed7953\"], [0.7777777777777778, \"#fb9f3a\"], [0.8888888888888888, \"#fdca26\"], [1.0, \"#f0f921\"]], \"sequentialminus\": [[0.0, \"#0d0887\"], [0.1111111111111111, \"#46039f\"], [0.2222222222222222, \"#7201a8\"], [0.3333333333333333, \"#9c179e\"], [0.4444444444444444, \"#bd3786\"], [0.5555555555555556, \"#d8576b\"], [0.6666666666666666, \"#ed7953\"], [0.7777777777777778, \"#fb9f3a\"], [0.8888888888888888, \"#fdca26\"], [1.0, \"#f0f921\"]]}, \"colorway\": [\"#636efa\", \"#EF553B\", \"#00cc96\", \"#ab63fa\", \"#FFA15A\", \"#19d3f3\", \"#FF6692\", \"#B6E880\", \"#FF97FF\", \"#FECB52\"], \"font\": {\"color\": \"#2a3f5f\"}, \"geo\": {\"bgcolor\": \"white\", \"lakecolor\": \"white\", \"landcolor\": \"#E5ECF6\", \"showlakes\": true, \"showland\": true, \"subunitcolor\": \"white\"}, \"hoverlabel\": {\"align\": \"left\"}, \"hovermode\": \"closest\", \"mapbox\": {\"style\": \"light\"}, \"paper_bgcolor\": \"white\", \"plot_bgcolor\": \"#E5ECF6\", \"polar\": {\"angularaxis\": {\"gridcolor\": \"white\", \"linecolor\": \"white\", \"ticks\": \"\"}, \"bgcolor\": \"#E5ECF6\", \"radialaxis\": {\"gridcolor\": \"white\", \"linecolor\": \"white\", \"ticks\": \"\"}}, \"scene\": {\"xaxis\": {\"backgroundcolor\": \"#E5ECF6\", \"gridcolor\": \"white\", \"gridwidth\": 2, \"linecolor\": \"white\", \"showbackground\": true, \"ticks\": \"\", \"zerolinecolor\": \"white\"}, \"yaxis\": {\"backgroundcolor\": \"#E5ECF6\", \"gridcolor\": \"white\", \"gridwidth\": 2, \"linecolor\": \"white\", \"showbackground\": true, \"ticks\": \"\", \"zerolinecolor\": \"white\"}, \"zaxis\": {\"backgroundcolor\": \"#E5ECF6\", \"gridcolor\": \"white\", \"gridwidth\": 2, \"linecolor\": \"white\", \"showbackground\": true, \"ticks\": \"\", \"zerolinecolor\": \"white\"}}, \"shapedefaults\": {\"line\": {\"color\": \"#2a3f5f\"}}, \"ternary\": {\"aaxis\": {\"gridcolor\": \"white\", \"linecolor\": \"white\", \"ticks\": \"\"}, \"baxis\": {\"gridcolor\": \"white\", \"linecolor\": \"white\", \"ticks\": \"\"}, \"bgcolor\": \"#E5ECF6\", \"caxis\": {\"gridcolor\": \"white\", \"linecolor\": \"white\", \"ticks\": \"\"}}, \"title\": {\"x\": 0.05}, \"xaxis\": {\"automargin\": true, \"gridcolor\": \"white\", \"linecolor\": \"white\", \"ticks\": \"\", \"title\": {\"standoff\": 15}, \"zerolinecolor\": \"white\", \"zerolinewidth\": 2}, \"yaxis\": {\"automargin\": true, \"gridcolor\": \"white\", \"linecolor\": \"white\", \"ticks\": \"\", \"title\": {\"standoff\": 15}, \"zerolinecolor\": \"white\", \"zerolinewidth\": 2}}}, \"title\": {\"font\": {\"color\": \"#4D5663\"}, \"text\": \"Share price of companies\"}, \"xaxis\": {\"gridcolor\": \"#E1E5ED\", \"showgrid\": true, \"tickfont\": {\"color\": \"#4D5663\"}, \"title\": {\"font\": {\"color\": \"#4D5663\"}, \"text\": \"Company name\"}, \"zerolinecolor\": \"#E1E5ED\"}, \"yaxis\": {\"gridcolor\": \"#E1E5ED\", \"showgrid\": true, \"tickfont\": {\"color\": \"#4D5663\"}, \"title\": {\"font\": {\"color\": \"#4D5663\"}, \"text\": \"Price\"}, \"zerolinecolor\": \"#E1E5ED\"}},                        {\"showLink\": true, \"linkText\": \"Export to plot.ly\", \"plotlyServerURL\": \"https://plot.ly\", \"responsive\": true}                    ).then(function(){\n",
       "                            \n",
       "var gd = document.getElementById('d39a1237-6337-42cd-ba81-3b0a8eddc4ef');\n",
       "var x = new MutationObserver(function (mutations, observer) {{\n",
       "        var display = window.getComputedStyle(gd).display;\n",
       "        if (!display || display === 'none') {{\n",
       "            console.log([gd, 'removed!']);\n",
       "            Plotly.purge(gd);\n",
       "            observer.disconnect();\n",
       "        }}\n",
       "}});\n",
       "\n",
       "// Listen for the removal of the full notebook cells\n",
       "var notebookContainer = gd.closest('#notebook-container');\n",
       "if (notebookContainer) {{\n",
       "    x.observe(notebookContainer, {childList: true});\n",
       "}}\n",
       "\n",
       "// Listen for the clearing of the current output cell\n",
       "var outputEl = gd.closest('.output');\n",
       "if (outputEl) {{\n",
       "    x.observe(outputEl, {childList: true});\n",
       "}}\n",
       "\n",
       "                        })                };                });            </script>        </div>"
      ]
     },
     "metadata": {},
     "output_type": "display_data"
    }
   ],
   "source": [
    "data.iplot(x='Symbol',y='Price',mode='markers',size=5,color='blue',\n",
    "          xTitle='Company name',\n",
    "          yTitle='Price',\n",
    "          title='Share price of companies')\n",
    "\n",
    "# highlight the maximum"
   ]
  },
  {
   "cell_type": "markdown",
   "metadata": {},
   "source": [
    "#### 2. This graph shows the market capacity of companies. \n",
    "     Market capacity is the market value of a company’s shares (calculated as share price x number of shares)\n",
    "     It shows the company AAPL has the highest market value."
   ]
  },
  {
   "cell_type": "code",
   "execution_count": 205,
   "metadata": {},
   "outputs": [],
   "source": [
    "sy_mkt=pd.DataFrame([data['Symbol'],data['Market Cap']]).T\n",
    "sy_mkt.sort_values(by='Market Cap',inplace=True)"
   ]
  },
  {
   "cell_type": "code",
   "execution_count": 208,
   "metadata": {},
   "outputs": [
    {
     "data": {
      "application/vnd.plotly.v1+json": {
       "config": {
        "linkText": "Export to plot.ly",
        "plotlyServerURL": "https://plot.ly",
        "showLink": true
       },
       "data": [
        {
         "marker": {
          "color": "rgba(219, 64, 82, 0.6)",
          "line": {
           "color": "rgba(219, 64, 82, 1.0)",
           "width": 1
          }
         },
         "name": "Market Cap",
         "orientation": "h",
         "text": "",
         "type": "bar",
         "x": [
          2626102121,
          3034275549,
          3209792400,
          3255587970,
          3692691330,
          4212729247,
          4653993594,
          5134501276,
          5229448882,
          5330131216,
          5366628950,
          5381433872,
          5427884956,
          5498033502,
          5695123080,
          5700998508,
          5843402350,
          5856913571,
          6034600480,
          6156884142,
          6180487499,
          6218560288,
          6242377704,
          6527616000,
          6706992926,
          6920851212,
          7047165475,
          7066613254,
          7345243806,
          7541063495,
          7599609494,
          7685283970,
          7776566371,
          7903173734,
          7938833340,
          7978485059,
          8001938397,
          8006268615,
          8030036023,
          8077368506,
          8123611867,
          8158949890,
          8212509855,
          8244568238,
          8277363031,
          8320262123,
          8351767268,
          8397609889,
          8459271203,
          8473119166,
          8617714345,
          8670163500,
          8744185796,
          8753430477,
          8763756733,
          8792572352,
          8910389431,
          8951609207,
          9035293365,
          9050154422,
          9209106695,
          9267350000,
          9326484316,
          9356906461,
          9410249279,
          9496735699,
          9499107736,
          9614412169,
          9624169008,
          9726962131,
          9858367494,
          9877885146,
          9992628990,
          10053919023,
          10089082025,
          10104814319,
          10131892523,
          10133547517,
          10442174371,
          10570861198,
          10601008017,
          10628247899,
          10670678640,
          10692681720,
          10753423590,
          10754983829,
          10783419933,
          10808821635,
          10828314389,
          10890625200,
          10906904066,
          10967755538,
          11037040988,
          11040678071,
          11051273948,
          11116075286,
          11181493750,
          11191663795,
          11256432318,
          11270040447,
          11273961835,
          11297958140,
          11328642413,
          11362043297,
          11452961984,
          11478625926,
          11596117445,
          11745595320,
          11782151266,
          11827453706,
          11838963451,
          11840331607,
          11873960824,
          11916533018,
          11968488290,
          11993835688,
          12043374429,
          12177920000,
          12396862128,
          12466660892,
          12469931896,
          12638828950,
          12684517721,
          12732072001,
          12767067883,
          12778779911,
          12810515320,
          12844304115,
          12905744906,
          12915021000,
          12932483889,
          12940096785,
          12945366350,
          12998295607,
          13101112504,
          13116894887,
          13155919129,
          13177325251,
          13191507318,
          13199167493,
          13216271700,
          13233622689,
          13300000127,
          13377670080,
          13390513478,
          13428792315,
          13459353253,
          13467193376,
          13578300000,
          13612394896,
          13620847614,
          13632608582,
          13685178000,
          13706075072,
          13754977266,
          13756812736,
          13767688518,
          13784942453,
          13862042842,
          13906146184,
          14016129999,
          14113197720,
          14121334618,
          14163064455,
          14175422936,
          14226830813,
          14379717835,
          14383525286,
          14394715334,
          14438346000,
          14440591731,
          14554321748,
          14615967194,
          14639308205,
          14654954091,
          15066280977,
          15254672353,
          15311373377,
          15375210915,
          15422885020,
          15566645713,
          15594677147,
          15694951118,
          15696449735,
          16064078572,
          16078622033,
          16111166935,
          16229343134,
          16274969256,
          16420774443,
          16433340688,
          16520497264,
          16540418002,
          16626039679,
          16676145923,
          16766497291,
          16920023264,
          16964162228,
          17064975551,
          17123031000,
          17139651923,
          17271388000,
          17338613096,
          17377551986,
          17390873686,
          17799878487,
          17808073691,
          17969275816,
          18012494506,
          18027633617,
          18140726600,
          18220961259,
          18225400525,
          18237196861,
          18457199721,
          18493080922,
          18788041378,
          18865999082,
          18890296993,
          19317380000,
          19363059152,
          19393095636,
          19447670886,
          19572031314,
          19633674337,
          19722178609,
          19749449484,
          19897356456,
          19922021415,
          19926305632,
          20003317128,
          20309412381,
          20426488713,
          20431395736,
          20493281175,
          20587704101,
          20780269334,
          20831186176,
          20839814845,
          20867272020,
          20925508143,
          20943679019,
          21018887283,
          21032719056,
          21101697598,
          21209783858,
          21400952517,
          21433781860,
          21500640000,
          21559611927,
          21590903863,
          21698849265,
          21759187973,
          21856547430,
          21984606918,
          21988472489,
          22008050974,
          22021882339,
          22182794875,
          22197870556,
          22437653700,
          22589744920,
          22785450609,
          22799923883,
          22908130223,
          23253666810,
          23335777662,
          23472126000,
          23594770663,
          24123216432,
          24138050331,
          24152102921,
          24348294504,
          24421668509,
          24454698119,
          24465996443,
          24496399600,
          24594852352,
          24760297793,
          24800859640,
          24802396470,
          24906530300,
          24916503061,
          25151198417,
          25471355847,
          25759280346,
          25810865035,
          25853969330,
          26070297960,
          26163862235,
          26172439795,
          26242415796,
          26580644874,
          26918949723,
          26955335395,
          26957526800,
          27003303098,
          27247789759,
          27408621020,
          27418147452,
          27433540000,
          27447099863,
          27840827434,
          27967534829,
          28669230787,
          28893750000,
          29043337549,
          29803566306,
          29983119693,
          30189978000,
          30445320778,
          31062780000,
          31098243069,
          31534840262,
          31633740000,
          31701916517,
          31797645904,
          31811578855,
          31953288000,
          32129091747,
          32258539942,
          32295200000,
          32308459680,
          32498948310,
          32995712852,
          33333813618,
          33422948000,
          34351211637,
          34638387128,
          34734816899,
          34759468905,
          34822224800,
          34895294088,
          34983666316,
          35123123422,
          35488486675,
          35713732553,
          35950369241,
          35961772000,
          35991109776,
          36142506007,
          36403831015,
          36973617235,
          37730994828,
          37890226992,
          38059113300,
          38393603535,
          38460272282,
          38612712234,
          38903131815,
          39312309113,
          39369386348,
          39449596000,
          39816696539,
          40543547441,
          41233771565,
          41373051167,
          41697453163,
          41819440000,
          42087562920,
          42414328338,
          42449656350,
          42948664203,
          43356557470,
          43497224128,
          43556650000,
          44027094922,
          44040298425,
          44183023189,
          44216696399,
          44866621303,
          45119684067,
          46585950000,
          47136080000,
          47340511707,
          47543571860,
          47637260000,
          47680910480,
          47996220000,
          48139839531,
          48181450881,
          48576791974,
          48679364276,
          49180044050,
          49543264457,
          50337702249,
          50910130358,
          50910180308,
          51296481503,
          52078185682,
          52186628646,
          52518668144,
          53076824328,
          54360073164,
          54423298745,
          55994378108,
          56083904906,
          56668833898,
          57509096756,
          58782413951,
          59066255840,
          59197016353,
          59213892640,
          61164030149,
          61221978627,
          61536606173,
          61616643498,
          64180390701,
          65482462410,
          65827817742,
          66135313503,
          66351150000,
          67280478816,
          68424670566,
          69157726427,
          69661177770,
          69750188843,
          70862541911,
          73315000000,
          74185800000,
          74921079154,
          75323141722,
          76548976000,
          79489115000,
          80410990000,
          80439804508,
          82909678852,
          83226586345,
          84475986228,
          85907759858,
          86708878113,
          89618309338,
          90708000000,
          90940115897,
          91817448863,
          91822049046,
          92791974933,
          94550214268,
          96282828902,
          96436356833,
          96529311126,
          96978500251,
          97535400000,
          98102120000,
          98765855553,
          100262526470,
          102121042306,
          102506501960,
          105387272474,
          106776113744,
          108106822109,
          110107062300,
          114422168609,
          114805404842,
          126985101434,
          128133340000,
          132101623787,
          132249296250,
          138652800000,
          138721055226,
          142433003505,
          152241530340,
          153580671803,
          157817273295,
          165203312427,
          181386347059,
          186476996883,
          187102014193,
          189855335601,
          192709302000,
          199425716482,
          202302349740,
          205617405233,
          206318943299,
          208092277044,
          208505541949,
          211536000000,
          218834811333,
          218978820159,
          223378633329,
          226713270000,
          261401203633,
          270038723213,
          281463620775,
          304680931618,
          321478200969,
          326148660000,
          353062464971,
          386613611000,
          523423036576,
          685873374731,
          689978437468,
          728535558140,
          733823966137,
          809508034020
         ],
         "y": [
          "CHK",
          "SIG",
          "PDCO",
          "RRC",
          "NAVI",
          "EVHC",
          "AIZ",
          "CSRA",
          "SCG",
          "PWR",
          "UA",
          "HRB",
          "FLS",
          "BF.B",
          "NFX",
          "TRIP",
          "MAT",
          "UAA",
          "LEG",
          "AIV",
          "KIM",
          "SRCL",
          "AYI",
          "PBCT",
          "FLIR",
          "AES",
          "RHI",
          "BHF",
          "HP",
          "M",
          "ALLE",
          "CMG",
          "NI",
          "ALK",
          "XRX",
          "FLR",
          "SEE",
          "HBI",
          "NRG",
          "FRT",
          "AAP",
          "HOG",
          "JWN",
          "GT",
          "IPG",
          "DISCK",
          "PKI",
          "PNW",
          "TSCO",
          "MAC",
          "SLG",
          "LNT",
          "FFIV",
          "RL",
          "DISCA",
          "PHM",
          "LUK",
          "WU",
          "DRE",
          "UDR",
          "CF",
          "JNPR",
          "JEC",
          "NWSA",
          "IRM",
          "NWS",
          "SNA",
          "TMK",
          "FBHS",
          "MOS",
          "REG",
          "QRVO",
          "MAA",
          "KORS",
          "XEC",
          "AVY",
          "RE",
          "EXR",
          "AMG",
          "KSS",
          "VIAB",
          "HII",
          "ZION",
          "VAR",
          "XL",
          "VRSN",
          "AOS",
          "COG",
          "IT",
          "CDNS",
          "AKAM",
          "HCP",
          "KSU",
          "EXPD",
          "PKG",
          "UHS",
          "HOLX",
          "AMD",
          "UNM",
          "IFF",
          "FMC",
          "COO",
          "SNI",
          "CNP",
          "HSIC",
          "PVH",
          "BWA",
          "DRI",
          "ALB",
          "KMX",
          "CHD",
          "GRMN",
          "CMS",
          "CINF",
          "AJG",
          "WYN",
          "ARE",
          "WHR",
          "TAP",
          "PNR",
          "LKQ",
          "EQT",
          "GPS",
          "HAS",
          "SNPS",
          "VNO",
          "TIF",
          "NDAQ",
          "AEE",
          "XYL",
          "CHRW",
          "NOV",
          "JBHT",
          "CBOE",
          "COTY",
          "ETR",
          "ANSS",
          "NBL",
          "NCLH",
          "CTXS",
          "RJF",
          "RMD",
          "ULTA",
          "NLSN",
          "XRAY",
          "MAS",
          "MKC",
          "CPB",
          "DGX",
          "SJM",
          "IVZ",
          "ADS",
          "DVA",
          "FE",
          "ETFC",
          "MLM",
          "BLL",
          "O",
          "LB",
          "AWK",
          "HES",
          "STX",
          "EFX",
          "FTI",
          "CA",
          "EMN",
          "CAG",
          "ESS",
          "HST",
          "NWL",
          "CBG",
          "GPC",
          "LEN",
          "GWW",
          "URI",
          "APA",
          "TXT",
          "FAST",
          "NTAP",
          "IDXX",
          "DOV",
          "VRSK",
          "TSS",
          "ANDV",
          "WAT",
          "KLAC",
          "L",
          "LLL",
          "CMA",
          "MTD",
          "WRK",
          "SYMC",
          "CLX",
          "MSI",
          "CTAS",
          "HBAN",
          "GPN",
          "VMC",
          "XLNX",
          "LNC",
          "AME",
          "LH",
          "HRL",
          "OMC",
          "DHI",
          "BXP",
          "DTE",
          "INFO",
          "CNC",
          "ES",
          "HRS",
          "INCY",
          "WYNN",
          "CTL",
          "PFG",
          "SWKS",
          "ALGN",
          "VTR",
          "WEC",
          "DVN",
          "UAL",
          "MCHP",
          "EIX",
          "SBAC",
          "MGM",
          "EXPE",
          "NEM",
          "MHK",
          "AZO",
          "HIG",
          "NUE",
          "PCG",
          "IQV",
          "CBS",
          "CAH",
          "ABC",
          "WLTW",
          "BBY",
          "PPL",
          "HSY",
          "EQR",
          "HCN",
          "GGP",
          "DISH",
          "CERN",
          "DPS",
          "DLR",
          "ORLY",
          "RF",
          "XEL",
          "RSG",
          "MYL",
          "BEN",
          "AVB",
          "A",
          "OKE",
          "CFG",
          "CXO",
          "K",
          "COL",
          "FITB",
          "KEY",
          "IR",
          "RHT",
          "NTRS",
          "PAYX",
          "ED",
          "AMP",
          "ADM",
          "ROK",
          "PEG",
          "PCAR",
          "ADSK",
          "PH",
          "ZBH",
          "IP",
          "SWK",
          "AAL",
          "WDC",
          "HPE",
          "WMB",
          "APTV",
          "FTV",
          "DLTR",
          "KR",
          "GLW",
          "TROW",
          "FCX",
          "WY",
          "SRE",
          "ALXN",
          "HLT",
          "DG",
          "FISV",
          "APH",
          "TSN",
          "YUM",
          "ROP",
          "DXC",
          "RCL",
          "DFS",
          "EW",
          "MTB",
          "LRCX",
          "CMI",
          "SYF",
          "PPG",
          "ROST",
          "PXD",
          "MCO",
          "SYY",
          "PGR",
          "GIS",
          "MCK",
          "MPC",
          "AEP",
          "VFC",
          "ADI",
          "PLD",
          "APC",
          "PSA",
          "ILMN",
          "FIS",
          "STI",
          "BHGE",
          "EQIX",
          "AFL",
          "LUV",
          "APD",
          "EXC",
          "ALL",
          "JCI",
          "HPQ",
          "TEL",
          "AON",
          "WM",
          "BAX",
          "REGN",
          "ETN",
          "ZTS",
          "BSX",
          "MNST",
          "HUM",
          "SHW",
          "EA",
          "STT",
          "DAL",
          "ECL",
          "KMI",
          "TRV",
          "VLO",
          "VRTX",
          "KMB",
          "TGT",
          "NSC",
          "INTU",
          "ICE",
          "STZ",
          "MMC",
          "BBT",
          "F",
          "ESRX",
          "PX",
          "HAL",
          "SO",
          "LYB",
          "FOXA",
          "EMR",
          "CCI",
          "EBAY",
          "ISRG",
          "CTSH",
          "SPGI",
          "PRU",
          "CSX",
          "D",
          "COF",
          "CI",
          "PSX",
          "SPG",
          "TJX",
          "MU",
          "MET",
          "CCL",
          "EL",
          "ADP",
          "MAR",
          "BDX",
          "AMAT",
          "DUK",
          "DE",
          "ATVI",
          "MON",
          "AIG",
          "CME",
          "ITW",
          "BK",
          "AGN",
          "SYK",
          "NOC",
          "RTN",
          "AET",
          "AMT",
          "EOG",
          "ANTM",
          "GM",
          "CL",
          "GD",
          "COP",
          "MDLZ",
          "FOX",
          "DHR",
          "FDX",
          "CB",
          "BIIB",
          "NEE",
          "SCHW",
          "WBA",
          "PNC",
          "TWX",
          "CELG",
          "CVS",
          "SBUX",
          "CRM",
          "AXP",
          "COST",
          "LOW",
          "TMO",
          "LLY",
          "BLK",
          "CHTR",
          "KHC",
          "PYPL",
          "USB",
          "PCLN",
          "CAT",
          "AVGO",
          "ADBE",
          "QCOM",
          "UPS",
          "SLB",
          "GS",
          "MS",
          "LMT",
          "ACN",
          "TXN",
          "ABT",
          "BMY",
          "UTX",
          "NKE",
          "GILD",
          "MDT",
          "HON",
          "NFLX",
          "MO",
          "AMGN",
          "MCD",
          "GE",
          "NVDA",
          "MMM",
          "IBM",
          "MRK",
          "PM",
          "DIS",
          "DWDP",
          "ABBV",
          "CMCSA",
          "MA",
          "KO",
          "C",
          "CSCO",
          "ORCL",
          "BA",
          "PG",
          "VZ",
          "PFE",
          "INTC",
          "UNH",
          "CVX",
          "HD",
          "T",
          "BRK.B",
          "V",
          "WFC",
          "WMT",
          "BAC",
          "XOM",
          "JNJ",
          "JPM",
          "FB",
          "AMZN",
          "MSFT",
          "GOOG",
          "GOOGL",
          "AAPL"
         ]
        }
       ],
       "layout": {
        "legend": {
         "bgcolor": "#F5F6F9",
         "font": {
          "color": "#4D5663"
         }
        },
        "paper_bgcolor": "#F5F6F9",
        "plot_bgcolor": "#F5F6F9",
        "template": {
         "data": {
          "bar": [
           {
            "error_x": {
             "color": "#2a3f5f"
            },
            "error_y": {
             "color": "#2a3f5f"
            },
            "marker": {
             "line": {
              "color": "#E5ECF6",
              "width": 0.5
             }
            },
            "type": "bar"
           }
          ],
          "barpolar": [
           {
            "marker": {
             "line": {
              "color": "#E5ECF6",
              "width": 0.5
             }
            },
            "type": "barpolar"
           }
          ],
          "carpet": [
           {
            "aaxis": {
             "endlinecolor": "#2a3f5f",
             "gridcolor": "white",
             "linecolor": "white",
             "minorgridcolor": "white",
             "startlinecolor": "#2a3f5f"
            },
            "baxis": {
             "endlinecolor": "#2a3f5f",
             "gridcolor": "white",
             "linecolor": "white",
             "minorgridcolor": "white",
             "startlinecolor": "#2a3f5f"
            },
            "type": "carpet"
           }
          ],
          "choropleth": [
           {
            "colorbar": {
             "outlinewidth": 0,
             "ticks": ""
            },
            "type": "choropleth"
           }
          ],
          "contour": [
           {
            "colorbar": {
             "outlinewidth": 0,
             "ticks": ""
            },
            "colorscale": [
             [
              0,
              "#0d0887"
             ],
             [
              0.1111111111111111,
              "#46039f"
             ],
             [
              0.2222222222222222,
              "#7201a8"
             ],
             [
              0.3333333333333333,
              "#9c179e"
             ],
             [
              0.4444444444444444,
              "#bd3786"
             ],
             [
              0.5555555555555556,
              "#d8576b"
             ],
             [
              0.6666666666666666,
              "#ed7953"
             ],
             [
              0.7777777777777778,
              "#fb9f3a"
             ],
             [
              0.8888888888888888,
              "#fdca26"
             ],
             [
              1,
              "#f0f921"
             ]
            ],
            "type": "contour"
           }
          ],
          "contourcarpet": [
           {
            "colorbar": {
             "outlinewidth": 0,
             "ticks": ""
            },
            "type": "contourcarpet"
           }
          ],
          "heatmap": [
           {
            "colorbar": {
             "outlinewidth": 0,
             "ticks": ""
            },
            "colorscale": [
             [
              0,
              "#0d0887"
             ],
             [
              0.1111111111111111,
              "#46039f"
             ],
             [
              0.2222222222222222,
              "#7201a8"
             ],
             [
              0.3333333333333333,
              "#9c179e"
             ],
             [
              0.4444444444444444,
              "#bd3786"
             ],
             [
              0.5555555555555556,
              "#d8576b"
             ],
             [
              0.6666666666666666,
              "#ed7953"
             ],
             [
              0.7777777777777778,
              "#fb9f3a"
             ],
             [
              0.8888888888888888,
              "#fdca26"
             ],
             [
              1,
              "#f0f921"
             ]
            ],
            "type": "heatmap"
           }
          ],
          "heatmapgl": [
           {
            "colorbar": {
             "outlinewidth": 0,
             "ticks": ""
            },
            "colorscale": [
             [
              0,
              "#0d0887"
             ],
             [
              0.1111111111111111,
              "#46039f"
             ],
             [
              0.2222222222222222,
              "#7201a8"
             ],
             [
              0.3333333333333333,
              "#9c179e"
             ],
             [
              0.4444444444444444,
              "#bd3786"
             ],
             [
              0.5555555555555556,
              "#d8576b"
             ],
             [
              0.6666666666666666,
              "#ed7953"
             ],
             [
              0.7777777777777778,
              "#fb9f3a"
             ],
             [
              0.8888888888888888,
              "#fdca26"
             ],
             [
              1,
              "#f0f921"
             ]
            ],
            "type": "heatmapgl"
           }
          ],
          "histogram": [
           {
            "marker": {
             "colorbar": {
              "outlinewidth": 0,
              "ticks": ""
             }
            },
            "type": "histogram"
           }
          ],
          "histogram2d": [
           {
            "colorbar": {
             "outlinewidth": 0,
             "ticks": ""
            },
            "colorscale": [
             [
              0,
              "#0d0887"
             ],
             [
              0.1111111111111111,
              "#46039f"
             ],
             [
              0.2222222222222222,
              "#7201a8"
             ],
             [
              0.3333333333333333,
              "#9c179e"
             ],
             [
              0.4444444444444444,
              "#bd3786"
             ],
             [
              0.5555555555555556,
              "#d8576b"
             ],
             [
              0.6666666666666666,
              "#ed7953"
             ],
             [
              0.7777777777777778,
              "#fb9f3a"
             ],
             [
              0.8888888888888888,
              "#fdca26"
             ],
             [
              1,
              "#f0f921"
             ]
            ],
            "type": "histogram2d"
           }
          ],
          "histogram2dcontour": [
           {
            "colorbar": {
             "outlinewidth": 0,
             "ticks": ""
            },
            "colorscale": [
             [
              0,
              "#0d0887"
             ],
             [
              0.1111111111111111,
              "#46039f"
             ],
             [
              0.2222222222222222,
              "#7201a8"
             ],
             [
              0.3333333333333333,
              "#9c179e"
             ],
             [
              0.4444444444444444,
              "#bd3786"
             ],
             [
              0.5555555555555556,
              "#d8576b"
             ],
             [
              0.6666666666666666,
              "#ed7953"
             ],
             [
              0.7777777777777778,
              "#fb9f3a"
             ],
             [
              0.8888888888888888,
              "#fdca26"
             ],
             [
              1,
              "#f0f921"
             ]
            ],
            "type": "histogram2dcontour"
           }
          ],
          "mesh3d": [
           {
            "colorbar": {
             "outlinewidth": 0,
             "ticks": ""
            },
            "type": "mesh3d"
           }
          ],
          "parcoords": [
           {
            "line": {
             "colorbar": {
              "outlinewidth": 0,
              "ticks": ""
             }
            },
            "type": "parcoords"
           }
          ],
          "pie": [
           {
            "automargin": true,
            "type": "pie"
           }
          ],
          "scatter": [
           {
            "marker": {
             "colorbar": {
              "outlinewidth": 0,
              "ticks": ""
             }
            },
            "type": "scatter"
           }
          ],
          "scatter3d": [
           {
            "line": {
             "colorbar": {
              "outlinewidth": 0,
              "ticks": ""
             }
            },
            "marker": {
             "colorbar": {
              "outlinewidth": 0,
              "ticks": ""
             }
            },
            "type": "scatter3d"
           }
          ],
          "scattercarpet": [
           {
            "marker": {
             "colorbar": {
              "outlinewidth": 0,
              "ticks": ""
             }
            },
            "type": "scattercarpet"
           }
          ],
          "scattergeo": [
           {
            "marker": {
             "colorbar": {
              "outlinewidth": 0,
              "ticks": ""
             }
            },
            "type": "scattergeo"
           }
          ],
          "scattergl": [
           {
            "marker": {
             "colorbar": {
              "outlinewidth": 0,
              "ticks": ""
             }
            },
            "type": "scattergl"
           }
          ],
          "scattermapbox": [
           {
            "marker": {
             "colorbar": {
              "outlinewidth": 0,
              "ticks": ""
             }
            },
            "type": "scattermapbox"
           }
          ],
          "scatterpolar": [
           {
            "marker": {
             "colorbar": {
              "outlinewidth": 0,
              "ticks": ""
             }
            },
            "type": "scatterpolar"
           }
          ],
          "scatterpolargl": [
           {
            "marker": {
             "colorbar": {
              "outlinewidth": 0,
              "ticks": ""
             }
            },
            "type": "scatterpolargl"
           }
          ],
          "scatterternary": [
           {
            "marker": {
             "colorbar": {
              "outlinewidth": 0,
              "ticks": ""
             }
            },
            "type": "scatterternary"
           }
          ],
          "surface": [
           {
            "colorbar": {
             "outlinewidth": 0,
             "ticks": ""
            },
            "colorscale": [
             [
              0,
              "#0d0887"
             ],
             [
              0.1111111111111111,
              "#46039f"
             ],
             [
              0.2222222222222222,
              "#7201a8"
             ],
             [
              0.3333333333333333,
              "#9c179e"
             ],
             [
              0.4444444444444444,
              "#bd3786"
             ],
             [
              0.5555555555555556,
              "#d8576b"
             ],
             [
              0.6666666666666666,
              "#ed7953"
             ],
             [
              0.7777777777777778,
              "#fb9f3a"
             ],
             [
              0.8888888888888888,
              "#fdca26"
             ],
             [
              1,
              "#f0f921"
             ]
            ],
            "type": "surface"
           }
          ],
          "table": [
           {
            "cells": {
             "fill": {
              "color": "#EBF0F8"
             },
             "line": {
              "color": "white"
             }
            },
            "header": {
             "fill": {
              "color": "#C8D4E3"
             },
             "line": {
              "color": "white"
             }
            },
            "type": "table"
           }
          ]
         },
         "layout": {
          "annotationdefaults": {
           "arrowcolor": "#2a3f5f",
           "arrowhead": 0,
           "arrowwidth": 1
          },
          "autotypenumbers": "strict",
          "coloraxis": {
           "colorbar": {
            "outlinewidth": 0,
            "ticks": ""
           }
          },
          "colorscale": {
           "diverging": [
            [
             0,
             "#8e0152"
            ],
            [
             0.1,
             "#c51b7d"
            ],
            [
             0.2,
             "#de77ae"
            ],
            [
             0.3,
             "#f1b6da"
            ],
            [
             0.4,
             "#fde0ef"
            ],
            [
             0.5,
             "#f7f7f7"
            ],
            [
             0.6,
             "#e6f5d0"
            ],
            [
             0.7,
             "#b8e186"
            ],
            [
             0.8,
             "#7fbc41"
            ],
            [
             0.9,
             "#4d9221"
            ],
            [
             1,
             "#276419"
            ]
           ],
           "sequential": [
            [
             0,
             "#0d0887"
            ],
            [
             0.1111111111111111,
             "#46039f"
            ],
            [
             0.2222222222222222,
             "#7201a8"
            ],
            [
             0.3333333333333333,
             "#9c179e"
            ],
            [
             0.4444444444444444,
             "#bd3786"
            ],
            [
             0.5555555555555556,
             "#d8576b"
            ],
            [
             0.6666666666666666,
             "#ed7953"
            ],
            [
             0.7777777777777778,
             "#fb9f3a"
            ],
            [
             0.8888888888888888,
             "#fdca26"
            ],
            [
             1,
             "#f0f921"
            ]
           ],
           "sequentialminus": [
            [
             0,
             "#0d0887"
            ],
            [
             0.1111111111111111,
             "#46039f"
            ],
            [
             0.2222222222222222,
             "#7201a8"
            ],
            [
             0.3333333333333333,
             "#9c179e"
            ],
            [
             0.4444444444444444,
             "#bd3786"
            ],
            [
             0.5555555555555556,
             "#d8576b"
            ],
            [
             0.6666666666666666,
             "#ed7953"
            ],
            [
             0.7777777777777778,
             "#fb9f3a"
            ],
            [
             0.8888888888888888,
             "#fdca26"
            ],
            [
             1,
             "#f0f921"
            ]
           ]
          },
          "colorway": [
           "#636efa",
           "#EF553B",
           "#00cc96",
           "#ab63fa",
           "#FFA15A",
           "#19d3f3",
           "#FF6692",
           "#B6E880",
           "#FF97FF",
           "#FECB52"
          ],
          "font": {
           "color": "#2a3f5f"
          },
          "geo": {
           "bgcolor": "white",
           "lakecolor": "white",
           "landcolor": "#E5ECF6",
           "showlakes": true,
           "showland": true,
           "subunitcolor": "white"
          },
          "hoverlabel": {
           "align": "left"
          },
          "hovermode": "closest",
          "mapbox": {
           "style": "light"
          },
          "paper_bgcolor": "white",
          "plot_bgcolor": "#E5ECF6",
          "polar": {
           "angularaxis": {
            "gridcolor": "white",
            "linecolor": "white",
            "ticks": ""
           },
           "bgcolor": "#E5ECF6",
           "radialaxis": {
            "gridcolor": "white",
            "linecolor": "white",
            "ticks": ""
           }
          },
          "scene": {
           "xaxis": {
            "backgroundcolor": "#E5ECF6",
            "gridcolor": "white",
            "gridwidth": 2,
            "linecolor": "white",
            "showbackground": true,
            "ticks": "",
            "zerolinecolor": "white"
           },
           "yaxis": {
            "backgroundcolor": "#E5ECF6",
            "gridcolor": "white",
            "gridwidth": 2,
            "linecolor": "white",
            "showbackground": true,
            "ticks": "",
            "zerolinecolor": "white"
           },
           "zaxis": {
            "backgroundcolor": "#E5ECF6",
            "gridcolor": "white",
            "gridwidth": 2,
            "linecolor": "white",
            "showbackground": true,
            "ticks": "",
            "zerolinecolor": "white"
           }
          },
          "shapedefaults": {
           "line": {
            "color": "#2a3f5f"
           }
          },
          "ternary": {
           "aaxis": {
            "gridcolor": "white",
            "linecolor": "white",
            "ticks": ""
           },
           "baxis": {
            "gridcolor": "white",
            "linecolor": "white",
            "ticks": ""
           },
           "bgcolor": "#E5ECF6",
           "caxis": {
            "gridcolor": "white",
            "linecolor": "white",
            "ticks": ""
           }
          },
          "title": {
           "x": 0.05
          },
          "xaxis": {
           "automargin": true,
           "gridcolor": "white",
           "linecolor": "white",
           "ticks": "",
           "title": {
            "standoff": 15
           },
           "zerolinecolor": "white",
           "zerolinewidth": 2
          },
          "yaxis": {
           "automargin": true,
           "gridcolor": "white",
           "linecolor": "white",
           "ticks": "",
           "title": {
            "standoff": 15
           },
           "zerolinecolor": "white",
           "zerolinewidth": 2
          }
         }
        },
        "title": {
         "font": {
          "color": "#4D5663"
         },
         "text": "Share price of companies"
        },
        "xaxis": {
         "gridcolor": "#E1E5ED",
         "showgrid": true,
         "tickfont": {
          "color": "#4D5663"
         },
         "title": {
          "font": {
           "color": "#4D5663"
          },
          "text": "Company name"
         },
         "zerolinecolor": "#E1E5ED"
        },
        "yaxis": {
         "gridcolor": "#E1E5ED",
         "showgrid": true,
         "tickfont": {
          "color": "#4D5663"
         },
         "title": {
          "font": {
           "color": "#4D5663"
          },
          "text": "Price"
         },
         "zerolinecolor": "#E1E5ED"
        }
       }
      },
      "text/html": [
       "<div>                            <div id=\"49e5c74a-ed77-4a76-af57-7b8735cd4814\" class=\"plotly-graph-div\" style=\"height:525px; width:100%;\"></div>            <script type=\"text/javascript\">                require([\"plotly\"], function(Plotly) {                    window.PLOTLYENV=window.PLOTLYENV || {};\n",
       "                    window.PLOTLYENV.BASE_URL='https://plot.ly';                                    if (document.getElementById(\"49e5c74a-ed77-4a76-af57-7b8735cd4814\")) {                    Plotly.newPlot(                        \"49e5c74a-ed77-4a76-af57-7b8735cd4814\",                        [{\"marker\": {\"color\": \"rgba(219, 64, 82, 0.6)\", \"line\": {\"color\": \"rgba(219, 64, 82, 1.0)\", \"width\": 1}}, \"name\": \"Market Cap\", \"orientation\": \"h\", \"text\": \"\", \"type\": \"bar\", \"x\": [2626102121.0, 3034275549.0, 3209792400.0, 3255587970.0, 3692691330.0, 4212729247.0, 4653993594.0, 5134501276.0, 5229448882.0, 5330131216.0, 5366628950.0, 5381433872.0, 5427884956.0, 5498033502.0, 5695123080.0, 5700998508.0, 5843402350.0, 5856913571.0, 6034600480.0, 6156884142.0, 6180487499.0, 6218560288.0, 6242377704.0, 6527616000.0, 6706992926.0, 6920851212.0, 7047165475.0, 7066613254.0, 7345243806.0, 7541063495.0, 7599609494.0, 7685283970.0, 7776566371.0, 7903173734.0, 7938833340.0, 7978485059.0, 8001938397.0, 8006268615.0, 8030036023.0, 8077368506.0, 8123611867.0, 8158949890.0, 8212509855.0, 8244568238.0, 8277363031.0, 8320262123.0, 8351767268.0, 8397609889.0, 8459271203.0, 8473119166.0, 8617714345.0, 8670163500.0, 8744185796.0, 8753430477.0, 8763756733.0, 8792572352.0, 8910389431.0, 8951609207.0, 9035293365.0, 9050154422.0, 9209106695.0, 9267350000.0, 9326484316.0, 9356906461.0, 9410249279.0, 9496735699.0, 9499107736.0, 9614412169.0, 9624169008.0, 9726962131.0, 9858367494.0, 9877885146.0, 9992628990.0, 10053919023.0, 10089082025.0, 10104814319.0, 10131892523.0, 10133547517.0, 10442174371.0, 10570861198.0, 10601008017.0, 10628247899.0, 10670678640.0, 10692681720.0, 10753423590.0, 10754983829.0, 10783419933.0, 10808821635.0, 10828314389.0, 10890625200.0, 10906904066.0, 10967755538.0, 11037040988.0, 11040678071.0, 11051273948.0, 11116075286.0, 11181493750.0, 11191663795.0, 11256432318.0, 11270040447.0, 11273961835.0, 11297958140.0, 11328642413.0, 11362043297.0, 11452961984.0, 11478625926.0, 11596117445.0, 11745595320.0, 11782151266.0, 11827453706.0, 11838963451.0, 11840331607.0, 11873960824.0, 11916533018.0, 11968488290.0, 11993835688.0, 12043374429.0, 12177920000.0, 12396862128.0, 12466660892.0, 12469931896.0, 12638828950.0, 12684517721.0, 12732072001.0, 12767067883.0, 12778779911.0, 12810515320.0, 12844304115.0, 12905744906.0, 12915021000.0, 12932483889.0, 12940096785.0, 12945366350.0, 12998295607.0, 13101112504.0, 13116894887.0, 13155919129.0, 13177325251.0, 13191507318.0, 13199167493.0, 13216271700.0, 13233622689.0, 13300000127.0, 13377670080.0, 13390513478.0, 13428792315.0, 13459353253.0, 13467193376.0, 13578300000.0, 13612394896.0, 13620847614.0, 13632608582.0, 13685178000.0, 13706075072.0, 13754977266.0, 13756812736.0, 13767688518.0, 13784942453.0, 13862042842.0, 13906146184.0, 14016129999.0, 14113197720.0, 14121334618.0, 14163064455.0, 14175422936.0, 14226830813.0, 14379717835.0, 14383525286.0, 14394715334.0, 14438346000.0, 14440591731.0, 14554321748.0, 14615967194.0, 14639308205.0, 14654954091.0, 15066280977.0, 15254672353.0, 15311373377.0, 15375210915.0, 15422885020.0, 15566645713.0, 15594677147.0, 15694951118.0, 15696449735.0, 16064078572.0, 16078622033.0, 16111166935.0, 16229343134.0, 16274969256.0, 16420774443.0, 16433340688.0, 16520497264.0, 16540418002.0, 16626039679.0, 16676145923.0, 16766497291.0, 16920023264.0, 16964162228.0, 17064975551.0, 17123031000.0, 17139651923.0, 17271388000.0, 17338613096.0, 17377551986.0, 17390873686.0, 17799878487.0, 17808073691.0, 17969275816.0, 18012494506.0, 18027633617.0, 18140726600.0, 18220961259.0, 18225400525.0, 18237196861.0, 18457199721.0, 18493080922.0, 18788041378.0, 18865999082.0, 18890296993.0, 19317380000.0, 19363059152.0, 19393095636.0, 19447670886.0, 19572031314.0, 19633674337.0, 19722178609.0, 19749449484.0, 19897356456.0, 19922021415.0, 19926305632.0, 20003317128.0, 20309412381.0, 20426488713.0, 20431395736.0, 20493281175.0, 20587704101.0, 20780269334.0, 20831186176.0, 20839814845.0, 20867272020.0, 20925508143.0, 20943679019.0, 21018887283.0, 21032719056.0, 21101697598.0, 21209783858.0, 21400952517.0, 21433781860.0, 21500640000.0, 21559611927.0, 21590903863.0, 21698849265.0, 21759187973.0, 21856547430.0, 21984606918.0, 21988472489.0, 22008050974.0, 22021882339.0, 22182794875.0, 22197870556.0, 22437653700.0, 22589744920.0, 22785450609.0, 22799923883.0, 22908130223.0, 23253666810.0, 23335777662.0, 23472126000.0, 23594770663.0, 24123216432.0, 24138050331.0, 24152102921.0, 24348294504.0, 24421668509.0, 24454698119.0, 24465996443.0, 24496399600.0, 24594852352.0, 24760297793.0, 24800859640.0, 24802396470.0, 24906530300.0, 24916503061.0, 25151198417.0, 25471355847.0, 25759280346.0, 25810865035.0, 25853969330.0, 26070297960.0, 26163862235.0, 26172439795.0, 26242415796.0, 26580644874.0, 26918949723.0, 26955335395.0, 26957526800.0, 27003303098.0, 27247789759.0, 27408621020.0, 27418147452.0, 27433540000.0, 27447099863.0, 27840827434.0, 27967534829.0, 28669230787.0, 28893750000.0, 29043337549.0, 29803566306.0, 29983119693.0, 30189978000.0, 30445320778.0, 31062780000.0, 31098243069.0, 31534840262.0, 31633740000.0, 31701916517.0, 31797645904.0, 31811578855.0, 31953288000.0, 32129091747.0, 32258539942.0, 32295200000.0, 32308459680.0, 32498948310.0, 32995712852.0, 33333813618.0, 33422948000.0, 34351211637.0, 34638387128.0, 34734816899.0, 34759468905.0, 34822224800.0, 34895294088.0, 34983666316.0, 35123123422.0, 35488486675.0, 35713732553.0, 35950369241.0, 35961772000.0, 35991109776.0, 36142506007.0, 36403831015.0, 36973617235.0, 37730994828.0, 37890226992.0, 38059113300.0, 38393603535.0, 38460272282.0, 38612712234.0, 38903131815.0, 39312309113.0, 39369386348.0, 39449596000.0, 39816696539.0, 40543547441.0, 41233771565.0, 41373051167.0, 41697453163.0, 41819440000.0, 42087562920.0, 42414328338.0, 42449656350.0, 42948664203.0, 43356557470.0, 43497224128.0, 43556650000.0, 44027094922.0, 44040298425.0, 44183023189.0, 44216696399.0, 44866621303.0, 45119684067.0, 46585950000.0, 47136080000.0, 47340511707.0, 47543571860.0, 47637260000.0, 47680910480.0, 47996220000.0, 48139839531.0, 48181450881.0, 48576791974.0, 48679364276.0, 49180044050.0, 49543264457.0, 50337702249.0, 50910130358.0, 50910180308.0, 51296481503.0, 52078185682.0, 52186628646.0, 52518668144.0, 53076824328.0, 54360073164.0, 54423298745.0, 55994378108.0, 56083904906.0, 56668833898.0, 57509096756.0, 58782413951.0, 59066255840.0, 59197016353.0, 59213892640.0, 61164030149.0, 61221978627.0, 61536606173.0, 61616643498.0, 64180390701.0, 65482462410.0, 65827817742.0, 66135313503.0, 66351150000.0, 67280478816.0, 68424670566.0, 69157726427.0, 69661177770.0, 69750188843.0, 70862541911.0, 73315000000.0, 74185800000.0, 74921079154.0, 75323141722.0, 76548976000.0, 79489115000.0, 80410990000.0, 80439804508.0, 82909678852.0, 83226586345.0, 84475986228.0, 85907759858.0, 86708878113.0, 89618309338.0, 90708000000.0, 90940115897.0, 91817448863.0, 91822049046.0, 92791974933.0, 94550214268.0, 96282828902.0, 96436356833.0, 96529311126.0, 96978500251.0, 97535400000.0, 98102120000.0, 98765855553.0, 100262526470.0, 102121042306.0, 102506501960.0, 105387272474.0, 106776113744.0, 108106822109.0, 110107062300.0, 114422168609.0, 114805404842.0, 126985101434.0, 128133340000.0, 132101623787.0, 132249296250.0, 138652800000.0, 138721055226.0, 142433003505.0, 152241530340.0, 153580671803.0, 157817273295.0, 165203312427.0, 181386347059.0, 186476996883.0, 187102014193.0, 189855335601.0, 192709302000.0, 199425716482.0, 202302349740.0, 205617405233.0, 206318943299.0, 208092277044.0, 208505541949.0, 211536000000.0, 218834811333.0, 218978820159.0, 223378633329.0, 226713270000.0, 261401203633.0, 270038723213.0, 281463620775.0, 304680931618.0, 321478200969.0, 326148660000.0, 353062464971.0, 386613611000.0, 523423036576.0, 685873374731.0, 689978437468.0, 728535558140.0, 733823966137.0, 809508034020.0], \"y\": [\"CHK\", \"SIG\", \"PDCO\", \"RRC\", \"NAVI\", \"EVHC\", \"AIZ\", \"CSRA\", \"SCG\", \"PWR\", \"UA\", \"HRB\", \"FLS\", \"BF.B\", \"NFX\", \"TRIP\", \"MAT\", \"UAA\", \"LEG\", \"AIV\", \"KIM\", \"SRCL\", \"AYI\", \"PBCT\", \"FLIR\", \"AES\", \"RHI\", \"BHF\", \"HP\", \"M\", \"ALLE\", \"CMG\", \"NI\", \"ALK\", \"XRX\", \"FLR\", \"SEE\", \"HBI\", \"NRG\", \"FRT\", \"AAP\", \"HOG\", \"JWN\", \"GT\", \"IPG\", \"DISCK\", \"PKI\", \"PNW\", \"TSCO\", \"MAC\", \"SLG\", \"LNT\", \"FFIV\", \"RL\", \"DISCA\", \"PHM\", \"LUK\", \"WU\", \"DRE\", \"UDR\", \"CF\", \"JNPR\", \"JEC\", \"NWSA\", \"IRM\", \"NWS\", \"SNA\", \"TMK\", \"FBHS\", \"MOS\", \"REG\", \"QRVO\", \"MAA\", \"KORS\", \"XEC\", \"AVY\", \"RE\", \"EXR\", \"AMG\", \"KSS\", \"VIAB\", \"HII\", \"ZION\", \"VAR\", \"XL\", \"VRSN\", \"AOS\", \"COG\", \"IT\", \"CDNS\", \"AKAM\", \"HCP\", \"KSU\", \"EXPD\", \"PKG\", \"UHS\", \"HOLX\", \"AMD\", \"UNM\", \"IFF\", \"FMC\", \"COO\", \"SNI\", \"CNP\", \"HSIC\", \"PVH\", \"BWA\", \"DRI\", \"ALB\", \"KMX\", \"CHD\", \"GRMN\", \"CMS\", \"CINF\", \"AJG\", \"WYN\", \"ARE\", \"WHR\", \"TAP\", \"PNR\", \"LKQ\", \"EQT\", \"GPS\", \"HAS\", \"SNPS\", \"VNO\", \"TIF\", \"NDAQ\", \"AEE\", \"XYL\", \"CHRW\", \"NOV\", \"JBHT\", \"CBOE\", \"COTY\", \"ETR\", \"ANSS\", \"NBL\", \"NCLH\", \"CTXS\", \"RJF\", \"RMD\", \"ULTA\", \"NLSN\", \"XRAY\", \"MAS\", \"MKC\", \"CPB\", \"DGX\", \"SJM\", \"IVZ\", \"ADS\", \"DVA\", \"FE\", \"ETFC\", \"MLM\", \"BLL\", \"O\", \"LB\", \"AWK\", \"HES\", \"STX\", \"EFX\", \"FTI\", \"CA\", \"EMN\", \"CAG\", \"ESS\", \"HST\", \"NWL\", \"CBG\", \"GPC\", \"LEN\", \"GWW\", \"URI\", \"APA\", \"TXT\", \"FAST\", \"NTAP\", \"IDXX\", \"DOV\", \"VRSK\", \"TSS\", \"ANDV\", \"WAT\", \"KLAC\", \"L\", \"LLL\", \"CMA\", \"MTD\", \"WRK\", \"SYMC\", \"CLX\", \"MSI\", \"CTAS\", \"HBAN\", \"GPN\", \"VMC\", \"XLNX\", \"LNC\", \"AME\", \"LH\", \"HRL\", \"OMC\", \"DHI\", \"BXP\", \"DTE\", \"INFO\", \"CNC\", \"ES\", \"HRS\", \"INCY\", \"WYNN\", \"CTL\", \"PFG\", \"SWKS\", \"ALGN\", \"VTR\", \"WEC\", \"DVN\", \"UAL\", \"MCHP\", \"EIX\", \"SBAC\", \"MGM\", \"EXPE\", \"NEM\", \"MHK\", \"AZO\", \"HIG\", \"NUE\", \"PCG\", \"IQV\", \"CBS\", \"CAH\", \"ABC\", \"WLTW\", \"BBY\", \"PPL\", \"HSY\", \"EQR\", \"HCN\", \"GGP\", \"DISH\", \"CERN\", \"DPS\", \"DLR\", \"ORLY\", \"RF\", \"XEL\", \"RSG\", \"MYL\", \"BEN\", \"AVB\", \"A\", \"OKE\", \"CFG\", \"CXO\", \"K\", \"COL\", \"FITB\", \"KEY\", \"IR\", \"RHT\", \"NTRS\", \"PAYX\", \"ED\", \"AMP\", \"ADM\", \"ROK\", \"PEG\", \"PCAR\", \"ADSK\", \"PH\", \"ZBH\", \"IP\", \"SWK\", \"AAL\", \"WDC\", \"HPE\", \"WMB\", \"APTV\", \"FTV\", \"DLTR\", \"KR\", \"GLW\", \"TROW\", \"FCX\", \"WY\", \"SRE\", \"ALXN\", \"HLT\", \"DG\", \"FISV\", \"APH\", \"TSN\", \"YUM\", \"ROP\", \"DXC\", \"RCL\", \"DFS\", \"EW\", \"MTB\", \"LRCX\", \"CMI\", \"SYF\", \"PPG\", \"ROST\", \"PXD\", \"MCO\", \"SYY\", \"PGR\", \"GIS\", \"MCK\", \"MPC\", \"AEP\", \"VFC\", \"ADI\", \"PLD\", \"APC\", \"PSA\", \"ILMN\", \"FIS\", \"STI\", \"BHGE\", \"EQIX\", \"AFL\", \"LUV\", \"APD\", \"EXC\", \"ALL\", \"JCI\", \"HPQ\", \"TEL\", \"AON\", \"WM\", \"BAX\", \"REGN\", \"ETN\", \"ZTS\", \"BSX\", \"MNST\", \"HUM\", \"SHW\", \"EA\", \"STT\", \"DAL\", \"ECL\", \"KMI\", \"TRV\", \"VLO\", \"VRTX\", \"KMB\", \"TGT\", \"NSC\", \"INTU\", \"ICE\", \"STZ\", \"MMC\", \"BBT\", \"F\", \"ESRX\", \"PX\", \"HAL\", \"SO\", \"LYB\", \"FOXA\", \"EMR\", \"CCI\", \"EBAY\", \"ISRG\", \"CTSH\", \"SPGI\", \"PRU\", \"CSX\", \"D\", \"COF\", \"CI\", \"PSX\", \"SPG\", \"TJX\", \"MU\", \"MET\", \"CCL\", \"EL\", \"ADP\", \"MAR\", \"BDX\", \"AMAT\", \"DUK\", \"DE\", \"ATVI\", \"MON\", \"AIG\", \"CME\", \"ITW\", \"BK\", \"AGN\", \"SYK\", \"NOC\", \"RTN\", \"AET\", \"AMT\", \"EOG\", \"ANTM\", \"GM\", \"CL\", \"GD\", \"COP\", \"MDLZ\", \"FOX\", \"DHR\", \"FDX\", \"CB\", \"BIIB\", \"NEE\", \"SCHW\", \"WBA\", \"PNC\", \"TWX\", \"CELG\", \"CVS\", \"SBUX\", \"CRM\", \"AXP\", \"COST\", \"LOW\", \"TMO\", \"LLY\", \"BLK\", \"CHTR\", \"KHC\", \"PYPL\", \"USB\", \"PCLN\", \"CAT\", \"AVGO\", \"ADBE\", \"QCOM\", \"UPS\", \"SLB\", \"GS\", \"MS\", \"LMT\", \"ACN\", \"TXN\", \"ABT\", \"BMY\", \"UTX\", \"NKE\", \"GILD\", \"MDT\", \"HON\", \"NFLX\", \"MO\", \"AMGN\", \"MCD\", \"GE\", \"NVDA\", \"MMM\", \"IBM\", \"MRK\", \"PM\", \"DIS\", \"DWDP\", \"ABBV\", \"CMCSA\", \"MA\", \"KO\", \"C\", \"CSCO\", \"ORCL\", \"BA\", \"PG\", \"VZ\", \"PFE\", \"INTC\", \"UNH\", \"CVX\", \"HD\", \"T\", \"BRK.B\", \"V\", \"WFC\", \"WMT\", \"BAC\", \"XOM\", \"JNJ\", \"JPM\", \"FB\", \"AMZN\", \"MSFT\", \"GOOG\", \"GOOGL\", \"AAPL\"]}],                        {\"legend\": {\"bgcolor\": \"#F5F6F9\", \"font\": {\"color\": \"#4D5663\"}}, \"paper_bgcolor\": \"#F5F6F9\", \"plot_bgcolor\": \"#F5F6F9\", \"template\": {\"data\": {\"bar\": [{\"error_x\": {\"color\": \"#2a3f5f\"}, \"error_y\": {\"color\": \"#2a3f5f\"}, \"marker\": {\"line\": {\"color\": \"#E5ECF6\", \"width\": 0.5}}, \"type\": \"bar\"}], \"barpolar\": [{\"marker\": {\"line\": {\"color\": \"#E5ECF6\", \"width\": 0.5}}, \"type\": \"barpolar\"}], \"carpet\": [{\"aaxis\": {\"endlinecolor\": \"#2a3f5f\", \"gridcolor\": \"white\", \"linecolor\": \"white\", \"minorgridcolor\": \"white\", \"startlinecolor\": \"#2a3f5f\"}, \"baxis\": {\"endlinecolor\": \"#2a3f5f\", \"gridcolor\": \"white\", \"linecolor\": \"white\", \"minorgridcolor\": \"white\", \"startlinecolor\": \"#2a3f5f\"}, \"type\": \"carpet\"}], \"choropleth\": [{\"colorbar\": {\"outlinewidth\": 0, \"ticks\": \"\"}, \"type\": \"choropleth\"}], \"contour\": [{\"colorbar\": {\"outlinewidth\": 0, \"ticks\": \"\"}, \"colorscale\": [[0.0, \"#0d0887\"], [0.1111111111111111, \"#46039f\"], [0.2222222222222222, \"#7201a8\"], [0.3333333333333333, \"#9c179e\"], [0.4444444444444444, \"#bd3786\"], [0.5555555555555556, \"#d8576b\"], [0.6666666666666666, \"#ed7953\"], [0.7777777777777778, \"#fb9f3a\"], [0.8888888888888888, \"#fdca26\"], [1.0, \"#f0f921\"]], \"type\": \"contour\"}], \"contourcarpet\": [{\"colorbar\": {\"outlinewidth\": 0, \"ticks\": \"\"}, \"type\": \"contourcarpet\"}], \"heatmap\": [{\"colorbar\": {\"outlinewidth\": 0, \"ticks\": \"\"}, \"colorscale\": [[0.0, \"#0d0887\"], [0.1111111111111111, \"#46039f\"], [0.2222222222222222, \"#7201a8\"], [0.3333333333333333, \"#9c179e\"], [0.4444444444444444, \"#bd3786\"], [0.5555555555555556, \"#d8576b\"], [0.6666666666666666, \"#ed7953\"], [0.7777777777777778, \"#fb9f3a\"], [0.8888888888888888, \"#fdca26\"], [1.0, \"#f0f921\"]], \"type\": \"heatmap\"}], \"heatmapgl\": [{\"colorbar\": {\"outlinewidth\": 0, \"ticks\": \"\"}, \"colorscale\": [[0.0, \"#0d0887\"], [0.1111111111111111, \"#46039f\"], [0.2222222222222222, \"#7201a8\"], [0.3333333333333333, \"#9c179e\"], [0.4444444444444444, \"#bd3786\"], [0.5555555555555556, \"#d8576b\"], [0.6666666666666666, \"#ed7953\"], [0.7777777777777778, \"#fb9f3a\"], [0.8888888888888888, \"#fdca26\"], [1.0, \"#f0f921\"]], \"type\": \"heatmapgl\"}], \"histogram\": [{\"marker\": {\"colorbar\": {\"outlinewidth\": 0, \"ticks\": \"\"}}, \"type\": \"histogram\"}], \"histogram2d\": [{\"colorbar\": {\"outlinewidth\": 0, \"ticks\": \"\"}, \"colorscale\": [[0.0, \"#0d0887\"], [0.1111111111111111, \"#46039f\"], [0.2222222222222222, \"#7201a8\"], [0.3333333333333333, \"#9c179e\"], [0.4444444444444444, \"#bd3786\"], [0.5555555555555556, \"#d8576b\"], [0.6666666666666666, \"#ed7953\"], [0.7777777777777778, \"#fb9f3a\"], [0.8888888888888888, \"#fdca26\"], [1.0, \"#f0f921\"]], \"type\": \"histogram2d\"}], \"histogram2dcontour\": [{\"colorbar\": {\"outlinewidth\": 0, \"ticks\": \"\"}, \"colorscale\": [[0.0, \"#0d0887\"], [0.1111111111111111, \"#46039f\"], [0.2222222222222222, \"#7201a8\"], [0.3333333333333333, \"#9c179e\"], [0.4444444444444444, \"#bd3786\"], [0.5555555555555556, \"#d8576b\"], [0.6666666666666666, \"#ed7953\"], [0.7777777777777778, \"#fb9f3a\"], [0.8888888888888888, \"#fdca26\"], [1.0, \"#f0f921\"]], \"type\": \"histogram2dcontour\"}], \"mesh3d\": [{\"colorbar\": {\"outlinewidth\": 0, \"ticks\": \"\"}, \"type\": \"mesh3d\"}], \"parcoords\": [{\"line\": {\"colorbar\": {\"outlinewidth\": 0, \"ticks\": \"\"}}, \"type\": \"parcoords\"}], \"pie\": [{\"automargin\": true, \"type\": \"pie\"}], \"scatter\": [{\"marker\": {\"colorbar\": {\"outlinewidth\": 0, \"ticks\": \"\"}}, \"type\": \"scatter\"}], \"scatter3d\": [{\"line\": {\"colorbar\": {\"outlinewidth\": 0, \"ticks\": \"\"}}, \"marker\": {\"colorbar\": {\"outlinewidth\": 0, \"ticks\": \"\"}}, \"type\": \"scatter3d\"}], \"scattercarpet\": [{\"marker\": {\"colorbar\": {\"outlinewidth\": 0, \"ticks\": \"\"}}, \"type\": \"scattercarpet\"}], \"scattergeo\": [{\"marker\": {\"colorbar\": {\"outlinewidth\": 0, \"ticks\": \"\"}}, \"type\": \"scattergeo\"}], \"scattergl\": [{\"marker\": {\"colorbar\": {\"outlinewidth\": 0, \"ticks\": \"\"}}, \"type\": \"scattergl\"}], \"scattermapbox\": [{\"marker\": {\"colorbar\": {\"outlinewidth\": 0, \"ticks\": \"\"}}, \"type\": \"scattermapbox\"}], \"scatterpolar\": [{\"marker\": {\"colorbar\": {\"outlinewidth\": 0, \"ticks\": \"\"}}, \"type\": \"scatterpolar\"}], \"scatterpolargl\": [{\"marker\": {\"colorbar\": {\"outlinewidth\": 0, \"ticks\": \"\"}}, \"type\": \"scatterpolargl\"}], \"scatterternary\": [{\"marker\": {\"colorbar\": {\"outlinewidth\": 0, \"ticks\": \"\"}}, \"type\": \"scatterternary\"}], \"surface\": [{\"colorbar\": {\"outlinewidth\": 0, \"ticks\": \"\"}, \"colorscale\": [[0.0, \"#0d0887\"], [0.1111111111111111, \"#46039f\"], [0.2222222222222222, \"#7201a8\"], [0.3333333333333333, \"#9c179e\"], [0.4444444444444444, \"#bd3786\"], [0.5555555555555556, \"#d8576b\"], [0.6666666666666666, \"#ed7953\"], [0.7777777777777778, \"#fb9f3a\"], [0.8888888888888888, \"#fdca26\"], [1.0, \"#f0f921\"]], \"type\": \"surface\"}], \"table\": [{\"cells\": {\"fill\": {\"color\": \"#EBF0F8\"}, \"line\": {\"color\": \"white\"}}, \"header\": {\"fill\": {\"color\": \"#C8D4E3\"}, \"line\": {\"color\": \"white\"}}, \"type\": \"table\"}]}, \"layout\": {\"annotationdefaults\": {\"arrowcolor\": \"#2a3f5f\", \"arrowhead\": 0, \"arrowwidth\": 1}, \"autotypenumbers\": \"strict\", \"coloraxis\": {\"colorbar\": {\"outlinewidth\": 0, \"ticks\": \"\"}}, \"colorscale\": {\"diverging\": [[0, \"#8e0152\"], [0.1, \"#c51b7d\"], [0.2, \"#de77ae\"], [0.3, \"#f1b6da\"], [0.4, \"#fde0ef\"], [0.5, \"#f7f7f7\"], [0.6, \"#e6f5d0\"], [0.7, \"#b8e186\"], [0.8, \"#7fbc41\"], [0.9, \"#4d9221\"], [1, \"#276419\"]], \"sequential\": [[0.0, \"#0d0887\"], [0.1111111111111111, \"#46039f\"], [0.2222222222222222, \"#7201a8\"], [0.3333333333333333, \"#9c179e\"], [0.4444444444444444, \"#bd3786\"], [0.5555555555555556, \"#d8576b\"], [0.6666666666666666, \"#ed7953\"], [0.7777777777777778, \"#fb9f3a\"], [0.8888888888888888, \"#fdca26\"], [1.0, \"#f0f921\"]], \"sequentialminus\": [[0.0, \"#0d0887\"], [0.1111111111111111, \"#46039f\"], [0.2222222222222222, \"#7201a8\"], [0.3333333333333333, \"#9c179e\"], [0.4444444444444444, \"#bd3786\"], [0.5555555555555556, \"#d8576b\"], [0.6666666666666666, \"#ed7953\"], [0.7777777777777778, \"#fb9f3a\"], [0.8888888888888888, \"#fdca26\"], [1.0, \"#f0f921\"]]}, \"colorway\": [\"#636efa\", \"#EF553B\", \"#00cc96\", \"#ab63fa\", \"#FFA15A\", \"#19d3f3\", \"#FF6692\", \"#B6E880\", \"#FF97FF\", \"#FECB52\"], \"font\": {\"color\": \"#2a3f5f\"}, \"geo\": {\"bgcolor\": \"white\", \"lakecolor\": \"white\", \"landcolor\": \"#E5ECF6\", \"showlakes\": true, \"showland\": true, \"subunitcolor\": \"white\"}, \"hoverlabel\": {\"align\": \"left\"}, \"hovermode\": \"closest\", \"mapbox\": {\"style\": \"light\"}, \"paper_bgcolor\": \"white\", \"plot_bgcolor\": \"#E5ECF6\", \"polar\": {\"angularaxis\": {\"gridcolor\": \"white\", \"linecolor\": \"white\", \"ticks\": \"\"}, \"bgcolor\": \"#E5ECF6\", \"radialaxis\": {\"gridcolor\": \"white\", \"linecolor\": \"white\", \"ticks\": \"\"}}, \"scene\": {\"xaxis\": {\"backgroundcolor\": \"#E5ECF6\", \"gridcolor\": \"white\", \"gridwidth\": 2, \"linecolor\": \"white\", \"showbackground\": true, \"ticks\": \"\", \"zerolinecolor\": \"white\"}, \"yaxis\": {\"backgroundcolor\": \"#E5ECF6\", \"gridcolor\": \"white\", \"gridwidth\": 2, \"linecolor\": \"white\", \"showbackground\": true, \"ticks\": \"\", \"zerolinecolor\": \"white\"}, \"zaxis\": {\"backgroundcolor\": \"#E5ECF6\", \"gridcolor\": \"white\", \"gridwidth\": 2, \"linecolor\": \"white\", \"showbackground\": true, \"ticks\": \"\", \"zerolinecolor\": \"white\"}}, \"shapedefaults\": {\"line\": {\"color\": \"#2a3f5f\"}}, \"ternary\": {\"aaxis\": {\"gridcolor\": \"white\", \"linecolor\": \"white\", \"ticks\": \"\"}, \"baxis\": {\"gridcolor\": \"white\", \"linecolor\": \"white\", \"ticks\": \"\"}, \"bgcolor\": \"#E5ECF6\", \"caxis\": {\"gridcolor\": \"white\", \"linecolor\": \"white\", \"ticks\": \"\"}}, \"title\": {\"x\": 0.05}, \"xaxis\": {\"automargin\": true, \"gridcolor\": \"white\", \"linecolor\": \"white\", \"ticks\": \"\", \"title\": {\"standoff\": 15}, \"zerolinecolor\": \"white\", \"zerolinewidth\": 2}, \"yaxis\": {\"automargin\": true, \"gridcolor\": \"white\", \"linecolor\": \"white\", \"ticks\": \"\", \"title\": {\"standoff\": 15}, \"zerolinecolor\": \"white\", \"zerolinewidth\": 2}}}, \"title\": {\"font\": {\"color\": \"#4D5663\"}, \"text\": \"Share price of companies\"}, \"xaxis\": {\"gridcolor\": \"#E1E5ED\", \"showgrid\": true, \"tickfont\": {\"color\": \"#4D5663\"}, \"title\": {\"font\": {\"color\": \"#4D5663\"}, \"text\": \"Company name\"}, \"zerolinecolor\": \"#E1E5ED\"}, \"yaxis\": {\"gridcolor\": \"#E1E5ED\", \"showgrid\": true, \"tickfont\": {\"color\": \"#4D5663\"}, \"title\": {\"font\": {\"color\": \"#4D5663\"}, \"text\": \"Price\"}, \"zerolinecolor\": \"#E1E5ED\"}},                        {\"showLink\": true, \"linkText\": \"Export to plot.ly\", \"plotlyServerURL\": \"https://plot.ly\", \"responsive\": true}                    ).then(function(){\n",
       "                            \n",
       "var gd = document.getElementById('49e5c74a-ed77-4a76-af57-7b8735cd4814');\n",
       "var x = new MutationObserver(function (mutations, observer) {{\n",
       "        var display = window.getComputedStyle(gd).display;\n",
       "        if (!display || display === 'none') {{\n",
       "            console.log([gd, 'removed!']);\n",
       "            Plotly.purge(gd);\n",
       "            observer.disconnect();\n",
       "        }}\n",
       "}});\n",
       "\n",
       "// Listen for the removal of the full notebook cells\n",
       "var notebookContainer = gd.closest('#notebook-container');\n",
       "if (notebookContainer) {{\n",
       "    x.observe(notebookContainer, {childList: true});\n",
       "}}\n",
       "\n",
       "// Listen for the clearing of the current output cell\n",
       "var outputEl = gd.closest('.output');\n",
       "if (outputEl) {{\n",
       "    x.observe(outputEl, {childList: true});\n",
       "}}\n",
       "\n",
       "                        })                };                });            </script>        </div>"
      ]
     },
     "metadata": {},
     "output_type": "display_data"
    }
   ],
   "source": [
    "sy_mkt.iplot(x='Symbol',y='Market Cap',kind='barh',size=5,\n",
    "          xTitle='Company name',\n",
    "          yTitle='Price',\n",
    "          title='Share price of companies',color='red')\n"
   ]
  },
  {
   "cell_type": "markdown",
   "metadata": {},
   "source": [
    "#### 3.This graph shows the EBITDA of companies.\n",
    "    EBITDA means  A company’s earnings before interest, taxes, depreciation, and amortization; often used as a proxy for its profitability. We can see that the highest earnings is for AAPL and few companies have negative earnings also."
   ]
  },
  {
   "cell_type": "code",
   "execution_count": 196,
   "metadata": {},
   "outputs": [],
   "source": [
    "sy_ebitda=pd.DataFrame([data['Symbol'],data['EBITDA']]).T\n",
    "sy_ebitda.sort_values(by='EBITDA',inplace=True)\n",
    "\n",
    "valu=pd.concat([sy_ebitda.head(20),sy_ebitda.tail(20)])"
   ]
  },
  {
   "cell_type": "code",
   "execution_count": 199,
   "metadata": {},
   "outputs": [
    {
     "data": {
      "application/vnd.plotly.v1+json": {
       "config": {
        "linkText": "Export to plot.ly",
        "plotlyServerURL": "https://plot.ly",
        "showLink": true
       },
       "data": [
        {
         "marker": {
          "color": "rgba(128, 0, 128, 0.6)",
          "line": {
           "color": "rgba(128, 0, 128, 1.0)",
           "width": 1
          }
         },
         "name": "EBITDA",
         "orientation": "v",
         "text": "",
         "type": "bar",
         "x": [
          "FE",
          "AGN",
          "HES",
          "NBL",
          "XRAY",
          "ADSK",
          "GE",
          "MAT",
          "INCY",
          "RE",
          "MET",
          "CFG",
          "C",
          "CINF",
          "CI",
          "CB",
          "MS",
          "UNM",
          "COF",
          "CMA",
          "ORCL",
          "IBM",
          "PG",
          "UNH",
          "GILD",
          "PFE",
          "JNJ",
          "GM",
          "FB",
          "INTC",
          "CMCSA",
          "CVX",
          "WMT",
          "GOOG",
          "GOOGL",
          "XOM",
          "MSFT",
          "VZ",
          "T",
          "AAPL"
         ],
         "y": [
          -5067000000,
          -2888100000,
          -819000000,
          -518000000,
          -411100000,
          -378100000,
          -206000000,
          -203599000,
          -81686000,
          0,
          0,
          0,
          0,
          0,
          0,
          0,
          0,
          0,
          0,
          0,
          16545000000,
          16557000000,
          17249000000,
          17454000000,
          17590000000,
          20569000000,
          22430000000,
          23541000000,
          23624000000,
          26247000000,
          28675000000,
          28877000000,
          30721000000,
          32714000000,
          34217000000,
          39052000000,
          41079000000,
          45745000000,
          49653000000,
          79386000000
         ]
        }
       ],
       "layout": {
        "legend": {
         "bgcolor": "#F5F6F9",
         "font": {
          "color": "#4D5663"
         }
        },
        "paper_bgcolor": "#F5F6F9",
        "plot_bgcolor": "#F5F6F9",
        "template": {
         "data": {
          "bar": [
           {
            "error_x": {
             "color": "#2a3f5f"
            },
            "error_y": {
             "color": "#2a3f5f"
            },
            "marker": {
             "line": {
              "color": "#E5ECF6",
              "width": 0.5
             }
            },
            "type": "bar"
           }
          ],
          "barpolar": [
           {
            "marker": {
             "line": {
              "color": "#E5ECF6",
              "width": 0.5
             }
            },
            "type": "barpolar"
           }
          ],
          "carpet": [
           {
            "aaxis": {
             "endlinecolor": "#2a3f5f",
             "gridcolor": "white",
             "linecolor": "white",
             "minorgridcolor": "white",
             "startlinecolor": "#2a3f5f"
            },
            "baxis": {
             "endlinecolor": "#2a3f5f",
             "gridcolor": "white",
             "linecolor": "white",
             "minorgridcolor": "white",
             "startlinecolor": "#2a3f5f"
            },
            "type": "carpet"
           }
          ],
          "choropleth": [
           {
            "colorbar": {
             "outlinewidth": 0,
             "ticks": ""
            },
            "type": "choropleth"
           }
          ],
          "contour": [
           {
            "colorbar": {
             "outlinewidth": 0,
             "ticks": ""
            },
            "colorscale": [
             [
              0,
              "#0d0887"
             ],
             [
              0.1111111111111111,
              "#46039f"
             ],
             [
              0.2222222222222222,
              "#7201a8"
             ],
             [
              0.3333333333333333,
              "#9c179e"
             ],
             [
              0.4444444444444444,
              "#bd3786"
             ],
             [
              0.5555555555555556,
              "#d8576b"
             ],
             [
              0.6666666666666666,
              "#ed7953"
             ],
             [
              0.7777777777777778,
              "#fb9f3a"
             ],
             [
              0.8888888888888888,
              "#fdca26"
             ],
             [
              1,
              "#f0f921"
             ]
            ],
            "type": "contour"
           }
          ],
          "contourcarpet": [
           {
            "colorbar": {
             "outlinewidth": 0,
             "ticks": ""
            },
            "type": "contourcarpet"
           }
          ],
          "heatmap": [
           {
            "colorbar": {
             "outlinewidth": 0,
             "ticks": ""
            },
            "colorscale": [
             [
              0,
              "#0d0887"
             ],
             [
              0.1111111111111111,
              "#46039f"
             ],
             [
              0.2222222222222222,
              "#7201a8"
             ],
             [
              0.3333333333333333,
              "#9c179e"
             ],
             [
              0.4444444444444444,
              "#bd3786"
             ],
             [
              0.5555555555555556,
              "#d8576b"
             ],
             [
              0.6666666666666666,
              "#ed7953"
             ],
             [
              0.7777777777777778,
              "#fb9f3a"
             ],
             [
              0.8888888888888888,
              "#fdca26"
             ],
             [
              1,
              "#f0f921"
             ]
            ],
            "type": "heatmap"
           }
          ],
          "heatmapgl": [
           {
            "colorbar": {
             "outlinewidth": 0,
             "ticks": ""
            },
            "colorscale": [
             [
              0,
              "#0d0887"
             ],
             [
              0.1111111111111111,
              "#46039f"
             ],
             [
              0.2222222222222222,
              "#7201a8"
             ],
             [
              0.3333333333333333,
              "#9c179e"
             ],
             [
              0.4444444444444444,
              "#bd3786"
             ],
             [
              0.5555555555555556,
              "#d8576b"
             ],
             [
              0.6666666666666666,
              "#ed7953"
             ],
             [
              0.7777777777777778,
              "#fb9f3a"
             ],
             [
              0.8888888888888888,
              "#fdca26"
             ],
             [
              1,
              "#f0f921"
             ]
            ],
            "type": "heatmapgl"
           }
          ],
          "histogram": [
           {
            "marker": {
             "colorbar": {
              "outlinewidth": 0,
              "ticks": ""
             }
            },
            "type": "histogram"
           }
          ],
          "histogram2d": [
           {
            "colorbar": {
             "outlinewidth": 0,
             "ticks": ""
            },
            "colorscale": [
             [
              0,
              "#0d0887"
             ],
             [
              0.1111111111111111,
              "#46039f"
             ],
             [
              0.2222222222222222,
              "#7201a8"
             ],
             [
              0.3333333333333333,
              "#9c179e"
             ],
             [
              0.4444444444444444,
              "#bd3786"
             ],
             [
              0.5555555555555556,
              "#d8576b"
             ],
             [
              0.6666666666666666,
              "#ed7953"
             ],
             [
              0.7777777777777778,
              "#fb9f3a"
             ],
             [
              0.8888888888888888,
              "#fdca26"
             ],
             [
              1,
              "#f0f921"
             ]
            ],
            "type": "histogram2d"
           }
          ],
          "histogram2dcontour": [
           {
            "colorbar": {
             "outlinewidth": 0,
             "ticks": ""
            },
            "colorscale": [
             [
              0,
              "#0d0887"
             ],
             [
              0.1111111111111111,
              "#46039f"
             ],
             [
              0.2222222222222222,
              "#7201a8"
             ],
             [
              0.3333333333333333,
              "#9c179e"
             ],
             [
              0.4444444444444444,
              "#bd3786"
             ],
             [
              0.5555555555555556,
              "#d8576b"
             ],
             [
              0.6666666666666666,
              "#ed7953"
             ],
             [
              0.7777777777777778,
              "#fb9f3a"
             ],
             [
              0.8888888888888888,
              "#fdca26"
             ],
             [
              1,
              "#f0f921"
             ]
            ],
            "type": "histogram2dcontour"
           }
          ],
          "mesh3d": [
           {
            "colorbar": {
             "outlinewidth": 0,
             "ticks": ""
            },
            "type": "mesh3d"
           }
          ],
          "parcoords": [
           {
            "line": {
             "colorbar": {
              "outlinewidth": 0,
              "ticks": ""
             }
            },
            "type": "parcoords"
           }
          ],
          "pie": [
           {
            "automargin": true,
            "type": "pie"
           }
          ],
          "scatter": [
           {
            "marker": {
             "colorbar": {
              "outlinewidth": 0,
              "ticks": ""
             }
            },
            "type": "scatter"
           }
          ],
          "scatter3d": [
           {
            "line": {
             "colorbar": {
              "outlinewidth": 0,
              "ticks": ""
             }
            },
            "marker": {
             "colorbar": {
              "outlinewidth": 0,
              "ticks": ""
             }
            },
            "type": "scatter3d"
           }
          ],
          "scattercarpet": [
           {
            "marker": {
             "colorbar": {
              "outlinewidth": 0,
              "ticks": ""
             }
            },
            "type": "scattercarpet"
           }
          ],
          "scattergeo": [
           {
            "marker": {
             "colorbar": {
              "outlinewidth": 0,
              "ticks": ""
             }
            },
            "type": "scattergeo"
           }
          ],
          "scattergl": [
           {
            "marker": {
             "colorbar": {
              "outlinewidth": 0,
              "ticks": ""
             }
            },
            "type": "scattergl"
           }
          ],
          "scattermapbox": [
           {
            "marker": {
             "colorbar": {
              "outlinewidth": 0,
              "ticks": ""
             }
            },
            "type": "scattermapbox"
           }
          ],
          "scatterpolar": [
           {
            "marker": {
             "colorbar": {
              "outlinewidth": 0,
              "ticks": ""
             }
            },
            "type": "scatterpolar"
           }
          ],
          "scatterpolargl": [
           {
            "marker": {
             "colorbar": {
              "outlinewidth": 0,
              "ticks": ""
             }
            },
            "type": "scatterpolargl"
           }
          ],
          "scatterternary": [
           {
            "marker": {
             "colorbar": {
              "outlinewidth": 0,
              "ticks": ""
             }
            },
            "type": "scatterternary"
           }
          ],
          "surface": [
           {
            "colorbar": {
             "outlinewidth": 0,
             "ticks": ""
            },
            "colorscale": [
             [
              0,
              "#0d0887"
             ],
             [
              0.1111111111111111,
              "#46039f"
             ],
             [
              0.2222222222222222,
              "#7201a8"
             ],
             [
              0.3333333333333333,
              "#9c179e"
             ],
             [
              0.4444444444444444,
              "#bd3786"
             ],
             [
              0.5555555555555556,
              "#d8576b"
             ],
             [
              0.6666666666666666,
              "#ed7953"
             ],
             [
              0.7777777777777778,
              "#fb9f3a"
             ],
             [
              0.8888888888888888,
              "#fdca26"
             ],
             [
              1,
              "#f0f921"
             ]
            ],
            "type": "surface"
           }
          ],
          "table": [
           {
            "cells": {
             "fill": {
              "color": "#EBF0F8"
             },
             "line": {
              "color": "white"
             }
            },
            "header": {
             "fill": {
              "color": "#C8D4E3"
             },
             "line": {
              "color": "white"
             }
            },
            "type": "table"
           }
          ]
         },
         "layout": {
          "annotationdefaults": {
           "arrowcolor": "#2a3f5f",
           "arrowhead": 0,
           "arrowwidth": 1
          },
          "autotypenumbers": "strict",
          "coloraxis": {
           "colorbar": {
            "outlinewidth": 0,
            "ticks": ""
           }
          },
          "colorscale": {
           "diverging": [
            [
             0,
             "#8e0152"
            ],
            [
             0.1,
             "#c51b7d"
            ],
            [
             0.2,
             "#de77ae"
            ],
            [
             0.3,
             "#f1b6da"
            ],
            [
             0.4,
             "#fde0ef"
            ],
            [
             0.5,
             "#f7f7f7"
            ],
            [
             0.6,
             "#e6f5d0"
            ],
            [
             0.7,
             "#b8e186"
            ],
            [
             0.8,
             "#7fbc41"
            ],
            [
             0.9,
             "#4d9221"
            ],
            [
             1,
             "#276419"
            ]
           ],
           "sequential": [
            [
             0,
             "#0d0887"
            ],
            [
             0.1111111111111111,
             "#46039f"
            ],
            [
             0.2222222222222222,
             "#7201a8"
            ],
            [
             0.3333333333333333,
             "#9c179e"
            ],
            [
             0.4444444444444444,
             "#bd3786"
            ],
            [
             0.5555555555555556,
             "#d8576b"
            ],
            [
             0.6666666666666666,
             "#ed7953"
            ],
            [
             0.7777777777777778,
             "#fb9f3a"
            ],
            [
             0.8888888888888888,
             "#fdca26"
            ],
            [
             1,
             "#f0f921"
            ]
           ],
           "sequentialminus": [
            [
             0,
             "#0d0887"
            ],
            [
             0.1111111111111111,
             "#46039f"
            ],
            [
             0.2222222222222222,
             "#7201a8"
            ],
            [
             0.3333333333333333,
             "#9c179e"
            ],
            [
             0.4444444444444444,
             "#bd3786"
            ],
            [
             0.5555555555555556,
             "#d8576b"
            ],
            [
             0.6666666666666666,
             "#ed7953"
            ],
            [
             0.7777777777777778,
             "#fb9f3a"
            ],
            [
             0.8888888888888888,
             "#fdca26"
            ],
            [
             1,
             "#f0f921"
            ]
           ]
          },
          "colorway": [
           "#636efa",
           "#EF553B",
           "#00cc96",
           "#ab63fa",
           "#FFA15A",
           "#19d3f3",
           "#FF6692",
           "#B6E880",
           "#FF97FF",
           "#FECB52"
          ],
          "font": {
           "color": "#2a3f5f"
          },
          "geo": {
           "bgcolor": "white",
           "lakecolor": "white",
           "landcolor": "#E5ECF6",
           "showlakes": true,
           "showland": true,
           "subunitcolor": "white"
          },
          "hoverlabel": {
           "align": "left"
          },
          "hovermode": "closest",
          "mapbox": {
           "style": "light"
          },
          "paper_bgcolor": "white",
          "plot_bgcolor": "#E5ECF6",
          "polar": {
           "angularaxis": {
            "gridcolor": "white",
            "linecolor": "white",
            "ticks": ""
           },
           "bgcolor": "#E5ECF6",
           "radialaxis": {
            "gridcolor": "white",
            "linecolor": "white",
            "ticks": ""
           }
          },
          "scene": {
           "xaxis": {
            "backgroundcolor": "#E5ECF6",
            "gridcolor": "white",
            "gridwidth": 2,
            "linecolor": "white",
            "showbackground": true,
            "ticks": "",
            "zerolinecolor": "white"
           },
           "yaxis": {
            "backgroundcolor": "#E5ECF6",
            "gridcolor": "white",
            "gridwidth": 2,
            "linecolor": "white",
            "showbackground": true,
            "ticks": "",
            "zerolinecolor": "white"
           },
           "zaxis": {
            "backgroundcolor": "#E5ECF6",
            "gridcolor": "white",
            "gridwidth": 2,
            "linecolor": "white",
            "showbackground": true,
            "ticks": "",
            "zerolinecolor": "white"
           }
          },
          "shapedefaults": {
           "line": {
            "color": "#2a3f5f"
           }
          },
          "ternary": {
           "aaxis": {
            "gridcolor": "white",
            "linecolor": "white",
            "ticks": ""
           },
           "baxis": {
            "gridcolor": "white",
            "linecolor": "white",
            "ticks": ""
           },
           "bgcolor": "#E5ECF6",
           "caxis": {
            "gridcolor": "white",
            "linecolor": "white",
            "ticks": ""
           }
          },
          "title": {
           "x": 0.05
          },
          "xaxis": {
           "automargin": true,
           "gridcolor": "white",
           "linecolor": "white",
           "ticks": "",
           "title": {
            "standoff": 15
           },
           "zerolinecolor": "white",
           "zerolinewidth": 2
          },
          "yaxis": {
           "automargin": true,
           "gridcolor": "white",
           "linecolor": "white",
           "ticks": "",
           "title": {
            "standoff": 15
           },
           "zerolinecolor": "white",
           "zerolinewidth": 2
          }
         }
        },
        "title": {
         "font": {
          "color": "#4D5663"
         },
         "text": "Earning of companies- Top 20 and Bottom 20"
        },
        "xaxis": {
         "gridcolor": "#E1E5ED",
         "showgrid": true,
         "tickfont": {
          "color": "#4D5663"
         },
         "title": {
          "font": {
           "color": "#4D5663"
          },
          "text": "Company name"
         },
         "zerolinecolor": "#E1E5ED"
        },
        "yaxis": {
         "gridcolor": "#E1E5ED",
         "showgrid": true,
         "tickfont": {
          "color": "#4D5663"
         },
         "title": {
          "font": {
           "color": "#4D5663"
          },
          "text": "Earning of companies"
         },
         "zerolinecolor": "#E1E5ED"
        }
       }
      },
      "text/html": [
       "<div>                            <div id=\"9b81e36c-4dd1-4258-88d4-48fd0189edbc\" class=\"plotly-graph-div\" style=\"height:525px; width:100%;\"></div>            <script type=\"text/javascript\">                require([\"plotly\"], function(Plotly) {                    window.PLOTLYENV=window.PLOTLYENV || {};\n",
       "                    window.PLOTLYENV.BASE_URL='https://plot.ly';                                    if (document.getElementById(\"9b81e36c-4dd1-4258-88d4-48fd0189edbc\")) {                    Plotly.newPlot(                        \"9b81e36c-4dd1-4258-88d4-48fd0189edbc\",                        [{\"marker\": {\"color\": \"rgba(128, 0, 128, 0.6)\", \"line\": {\"color\": \"rgba(128, 0, 128, 1.0)\", \"width\": 1}}, \"name\": \"EBITDA\", \"orientation\": \"v\", \"text\": \"\", \"type\": \"bar\", \"x\": [\"FE\", \"AGN\", \"HES\", \"NBL\", \"XRAY\", \"ADSK\", \"GE\", \"MAT\", \"INCY\", \"RE\", \"MET\", \"CFG\", \"C\", \"CINF\", \"CI\", \"CB\", \"MS\", \"UNM\", \"COF\", \"CMA\", \"ORCL\", \"IBM\", \"PG\", \"UNH\", \"GILD\", \"PFE\", \"JNJ\", \"GM\", \"FB\", \"INTC\", \"CMCSA\", \"CVX\", \"WMT\", \"GOOG\", \"GOOGL\", \"XOM\", \"MSFT\", \"VZ\", \"T\", \"AAPL\"], \"y\": [-5067000000.0, -2888100000.0, -819000000.0, -518000000.0, -411100000.0, -378100000.0, -206000000.0, -203599000.0, -81686000.0, 0.0, 0.0, 0.0, 0.0, 0.0, 0.0, 0.0, 0.0, 0.0, 0.0, 0.0, 16545000000.0, 16557000000.0, 17249000000.0, 17454000000.0, 17590000000.0, 20569000000.0, 22430000000.0, 23541000000.0, 23624000000.0, 26247000000.0, 28675000000.0, 28877000000.0, 30721000000.0, 32714000000.0, 34217000000.0, 39052000000.0, 41079000000.0, 45745000000.0, 49653000000.0, 79386000000.0]}],                        {\"legend\": {\"bgcolor\": \"#F5F6F9\", \"font\": {\"color\": \"#4D5663\"}}, \"paper_bgcolor\": \"#F5F6F9\", \"plot_bgcolor\": \"#F5F6F9\", \"template\": {\"data\": {\"bar\": [{\"error_x\": {\"color\": \"#2a3f5f\"}, \"error_y\": {\"color\": \"#2a3f5f\"}, \"marker\": {\"line\": {\"color\": \"#E5ECF6\", \"width\": 0.5}}, \"type\": \"bar\"}], \"barpolar\": [{\"marker\": {\"line\": {\"color\": \"#E5ECF6\", \"width\": 0.5}}, \"type\": \"barpolar\"}], \"carpet\": [{\"aaxis\": {\"endlinecolor\": \"#2a3f5f\", \"gridcolor\": \"white\", \"linecolor\": \"white\", \"minorgridcolor\": \"white\", \"startlinecolor\": \"#2a3f5f\"}, \"baxis\": {\"endlinecolor\": \"#2a3f5f\", \"gridcolor\": \"white\", \"linecolor\": \"white\", \"minorgridcolor\": \"white\", \"startlinecolor\": \"#2a3f5f\"}, \"type\": \"carpet\"}], \"choropleth\": [{\"colorbar\": {\"outlinewidth\": 0, \"ticks\": \"\"}, \"type\": \"choropleth\"}], \"contour\": [{\"colorbar\": {\"outlinewidth\": 0, \"ticks\": \"\"}, \"colorscale\": [[0.0, \"#0d0887\"], [0.1111111111111111, \"#46039f\"], [0.2222222222222222, \"#7201a8\"], [0.3333333333333333, \"#9c179e\"], [0.4444444444444444, \"#bd3786\"], [0.5555555555555556, \"#d8576b\"], [0.6666666666666666, \"#ed7953\"], [0.7777777777777778, \"#fb9f3a\"], [0.8888888888888888, \"#fdca26\"], [1.0, \"#f0f921\"]], \"type\": \"contour\"}], \"contourcarpet\": [{\"colorbar\": {\"outlinewidth\": 0, \"ticks\": \"\"}, \"type\": \"contourcarpet\"}], \"heatmap\": [{\"colorbar\": {\"outlinewidth\": 0, \"ticks\": \"\"}, \"colorscale\": [[0.0, \"#0d0887\"], [0.1111111111111111, \"#46039f\"], [0.2222222222222222, \"#7201a8\"], [0.3333333333333333, \"#9c179e\"], [0.4444444444444444, \"#bd3786\"], [0.5555555555555556, \"#d8576b\"], [0.6666666666666666, \"#ed7953\"], [0.7777777777777778, \"#fb9f3a\"], [0.8888888888888888, \"#fdca26\"], [1.0, \"#f0f921\"]], \"type\": \"heatmap\"}], \"heatmapgl\": [{\"colorbar\": {\"outlinewidth\": 0, \"ticks\": \"\"}, \"colorscale\": [[0.0, \"#0d0887\"], [0.1111111111111111, \"#46039f\"], [0.2222222222222222, \"#7201a8\"], [0.3333333333333333, \"#9c179e\"], [0.4444444444444444, \"#bd3786\"], [0.5555555555555556, \"#d8576b\"], [0.6666666666666666, \"#ed7953\"], [0.7777777777777778, \"#fb9f3a\"], [0.8888888888888888, \"#fdca26\"], [1.0, \"#f0f921\"]], \"type\": \"heatmapgl\"}], \"histogram\": [{\"marker\": {\"colorbar\": {\"outlinewidth\": 0, \"ticks\": \"\"}}, \"type\": \"histogram\"}], \"histogram2d\": [{\"colorbar\": {\"outlinewidth\": 0, \"ticks\": \"\"}, \"colorscale\": [[0.0, \"#0d0887\"], [0.1111111111111111, \"#46039f\"], [0.2222222222222222, \"#7201a8\"], [0.3333333333333333, \"#9c179e\"], [0.4444444444444444, \"#bd3786\"], [0.5555555555555556, \"#d8576b\"], [0.6666666666666666, \"#ed7953\"], [0.7777777777777778, \"#fb9f3a\"], [0.8888888888888888, \"#fdca26\"], [1.0, \"#f0f921\"]], \"type\": \"histogram2d\"}], \"histogram2dcontour\": [{\"colorbar\": {\"outlinewidth\": 0, \"ticks\": \"\"}, \"colorscale\": [[0.0, \"#0d0887\"], [0.1111111111111111, \"#46039f\"], [0.2222222222222222, \"#7201a8\"], [0.3333333333333333, \"#9c179e\"], [0.4444444444444444, \"#bd3786\"], [0.5555555555555556, \"#d8576b\"], [0.6666666666666666, \"#ed7953\"], [0.7777777777777778, \"#fb9f3a\"], [0.8888888888888888, \"#fdca26\"], [1.0, \"#f0f921\"]], \"type\": \"histogram2dcontour\"}], \"mesh3d\": [{\"colorbar\": {\"outlinewidth\": 0, \"ticks\": \"\"}, \"type\": \"mesh3d\"}], \"parcoords\": [{\"line\": {\"colorbar\": {\"outlinewidth\": 0, \"ticks\": \"\"}}, \"type\": \"parcoords\"}], \"pie\": [{\"automargin\": true, \"type\": \"pie\"}], \"scatter\": [{\"marker\": {\"colorbar\": {\"outlinewidth\": 0, \"ticks\": \"\"}}, \"type\": \"scatter\"}], \"scatter3d\": [{\"line\": {\"colorbar\": {\"outlinewidth\": 0, \"ticks\": \"\"}}, \"marker\": {\"colorbar\": {\"outlinewidth\": 0, \"ticks\": \"\"}}, \"type\": \"scatter3d\"}], \"scattercarpet\": [{\"marker\": {\"colorbar\": {\"outlinewidth\": 0, \"ticks\": \"\"}}, \"type\": \"scattercarpet\"}], \"scattergeo\": [{\"marker\": {\"colorbar\": {\"outlinewidth\": 0, \"ticks\": \"\"}}, \"type\": \"scattergeo\"}], \"scattergl\": [{\"marker\": {\"colorbar\": {\"outlinewidth\": 0, \"ticks\": \"\"}}, \"type\": \"scattergl\"}], \"scattermapbox\": [{\"marker\": {\"colorbar\": {\"outlinewidth\": 0, \"ticks\": \"\"}}, \"type\": \"scattermapbox\"}], \"scatterpolar\": [{\"marker\": {\"colorbar\": {\"outlinewidth\": 0, \"ticks\": \"\"}}, \"type\": \"scatterpolar\"}], \"scatterpolargl\": [{\"marker\": {\"colorbar\": {\"outlinewidth\": 0, \"ticks\": \"\"}}, \"type\": \"scatterpolargl\"}], \"scatterternary\": [{\"marker\": {\"colorbar\": {\"outlinewidth\": 0, \"ticks\": \"\"}}, \"type\": \"scatterternary\"}], \"surface\": [{\"colorbar\": {\"outlinewidth\": 0, \"ticks\": \"\"}, \"colorscale\": [[0.0, \"#0d0887\"], [0.1111111111111111, \"#46039f\"], [0.2222222222222222, \"#7201a8\"], [0.3333333333333333, \"#9c179e\"], [0.4444444444444444, \"#bd3786\"], [0.5555555555555556, \"#d8576b\"], [0.6666666666666666, \"#ed7953\"], [0.7777777777777778, \"#fb9f3a\"], [0.8888888888888888, \"#fdca26\"], [1.0, \"#f0f921\"]], \"type\": \"surface\"}], \"table\": [{\"cells\": {\"fill\": {\"color\": \"#EBF0F8\"}, \"line\": {\"color\": \"white\"}}, \"header\": {\"fill\": {\"color\": \"#C8D4E3\"}, \"line\": {\"color\": \"white\"}}, \"type\": \"table\"}]}, \"layout\": {\"annotationdefaults\": {\"arrowcolor\": \"#2a3f5f\", \"arrowhead\": 0, \"arrowwidth\": 1}, \"autotypenumbers\": \"strict\", \"coloraxis\": {\"colorbar\": {\"outlinewidth\": 0, \"ticks\": \"\"}}, \"colorscale\": {\"diverging\": [[0, \"#8e0152\"], [0.1, \"#c51b7d\"], [0.2, \"#de77ae\"], [0.3, \"#f1b6da\"], [0.4, \"#fde0ef\"], [0.5, \"#f7f7f7\"], [0.6, \"#e6f5d0\"], [0.7, \"#b8e186\"], [0.8, \"#7fbc41\"], [0.9, \"#4d9221\"], [1, \"#276419\"]], \"sequential\": [[0.0, \"#0d0887\"], [0.1111111111111111, \"#46039f\"], [0.2222222222222222, \"#7201a8\"], [0.3333333333333333, \"#9c179e\"], [0.4444444444444444, \"#bd3786\"], [0.5555555555555556, \"#d8576b\"], [0.6666666666666666, \"#ed7953\"], [0.7777777777777778, \"#fb9f3a\"], [0.8888888888888888, \"#fdca26\"], [1.0, \"#f0f921\"]], \"sequentialminus\": [[0.0, \"#0d0887\"], [0.1111111111111111, \"#46039f\"], [0.2222222222222222, \"#7201a8\"], [0.3333333333333333, \"#9c179e\"], [0.4444444444444444, \"#bd3786\"], [0.5555555555555556, \"#d8576b\"], [0.6666666666666666, \"#ed7953\"], [0.7777777777777778, \"#fb9f3a\"], [0.8888888888888888, \"#fdca26\"], [1.0, \"#f0f921\"]]}, \"colorway\": [\"#636efa\", \"#EF553B\", \"#00cc96\", \"#ab63fa\", \"#FFA15A\", \"#19d3f3\", \"#FF6692\", \"#B6E880\", \"#FF97FF\", \"#FECB52\"], \"font\": {\"color\": \"#2a3f5f\"}, \"geo\": {\"bgcolor\": \"white\", \"lakecolor\": \"white\", \"landcolor\": \"#E5ECF6\", \"showlakes\": true, \"showland\": true, \"subunitcolor\": \"white\"}, \"hoverlabel\": {\"align\": \"left\"}, \"hovermode\": \"closest\", \"mapbox\": {\"style\": \"light\"}, \"paper_bgcolor\": \"white\", \"plot_bgcolor\": \"#E5ECF6\", \"polar\": {\"angularaxis\": {\"gridcolor\": \"white\", \"linecolor\": \"white\", \"ticks\": \"\"}, \"bgcolor\": \"#E5ECF6\", \"radialaxis\": {\"gridcolor\": \"white\", \"linecolor\": \"white\", \"ticks\": \"\"}}, \"scene\": {\"xaxis\": {\"backgroundcolor\": \"#E5ECF6\", \"gridcolor\": \"white\", \"gridwidth\": 2, \"linecolor\": \"white\", \"showbackground\": true, \"ticks\": \"\", \"zerolinecolor\": \"white\"}, \"yaxis\": {\"backgroundcolor\": \"#E5ECF6\", \"gridcolor\": \"white\", \"gridwidth\": 2, \"linecolor\": \"white\", \"showbackground\": true, \"ticks\": \"\", \"zerolinecolor\": \"white\"}, \"zaxis\": {\"backgroundcolor\": \"#E5ECF6\", \"gridcolor\": \"white\", \"gridwidth\": 2, \"linecolor\": \"white\", \"showbackground\": true, \"ticks\": \"\", \"zerolinecolor\": \"white\"}}, \"shapedefaults\": {\"line\": {\"color\": \"#2a3f5f\"}}, \"ternary\": {\"aaxis\": {\"gridcolor\": \"white\", \"linecolor\": \"white\", \"ticks\": \"\"}, \"baxis\": {\"gridcolor\": \"white\", \"linecolor\": \"white\", \"ticks\": \"\"}, \"bgcolor\": \"#E5ECF6\", \"caxis\": {\"gridcolor\": \"white\", \"linecolor\": \"white\", \"ticks\": \"\"}}, \"title\": {\"x\": 0.05}, \"xaxis\": {\"automargin\": true, \"gridcolor\": \"white\", \"linecolor\": \"white\", \"ticks\": \"\", \"title\": {\"standoff\": 15}, \"zerolinecolor\": \"white\", \"zerolinewidth\": 2}, \"yaxis\": {\"automargin\": true, \"gridcolor\": \"white\", \"linecolor\": \"white\", \"ticks\": \"\", \"title\": {\"standoff\": 15}, \"zerolinecolor\": \"white\", \"zerolinewidth\": 2}}}, \"title\": {\"font\": {\"color\": \"#4D5663\"}, \"text\": \"Earning of companies- Top 20 and Bottom 20\"}, \"xaxis\": {\"gridcolor\": \"#E1E5ED\", \"showgrid\": true, \"tickfont\": {\"color\": \"#4D5663\"}, \"title\": {\"font\": {\"color\": \"#4D5663\"}, \"text\": \"Company name\"}, \"zerolinecolor\": \"#E1E5ED\"}, \"yaxis\": {\"gridcolor\": \"#E1E5ED\", \"showgrid\": true, \"tickfont\": {\"color\": \"#4D5663\"}, \"title\": {\"font\": {\"color\": \"#4D5663\"}, \"text\": \"Earning of companies\"}, \"zerolinecolor\": \"#E1E5ED\"}},                        {\"showLink\": true, \"linkText\": \"Export to plot.ly\", \"plotlyServerURL\": \"https://plot.ly\", \"responsive\": true}                    ).then(function(){\n",
       "                            \n",
       "var gd = document.getElementById('9b81e36c-4dd1-4258-88d4-48fd0189edbc');\n",
       "var x = new MutationObserver(function (mutations, observer) {{\n",
       "        var display = window.getComputedStyle(gd).display;\n",
       "        if (!display || display === 'none') {{\n",
       "            console.log([gd, 'removed!']);\n",
       "            Plotly.purge(gd);\n",
       "            observer.disconnect();\n",
       "        }}\n",
       "}});\n",
       "\n",
       "// Listen for the removal of the full notebook cells\n",
       "var notebookContainer = gd.closest('#notebook-container');\n",
       "if (notebookContainer) {{\n",
       "    x.observe(notebookContainer, {childList: true});\n",
       "}}\n",
       "\n",
       "// Listen for the clearing of the current output cell\n",
       "var outputEl = gd.closest('.output');\n",
       "if (outputEl) {{\n",
       "    x.observe(outputEl, {childList: true});\n",
       "}}\n",
       "\n",
       "                        })                };                });            </script>        </div>"
      ]
     },
     "metadata": {},
     "output_type": "display_data"
    }
   ],
   "source": [
    "valu.iplot(x='Symbol',y='EBITDA',kind='bar',size=5,\n",
    "          xTitle='Company name',\n",
    "          yTitle='Earning of companies',\n",
    "          title='Earning of companies- Top 20 and Bottom 20',color='purple',sortbars=True)\n",
    "# select top 10 and bottom 10"
   ]
  },
  {
   "cell_type": "markdown",
   "metadata": {},
   "source": [
    "#### 4. This graph shows the earning per share of companies.\n",
    "    Earning per share is  A company’s profit divided by the number of shares of its stock. \n",
    "    The highest earning per share is for AZO and the lowest is for BHF"
   ]
  },
  {
   "cell_type": "code",
   "execution_count": 194,
   "metadata": {},
   "outputs": [],
   "source": [
    "sy_ear=pd.DataFrame([data['Symbol'],data['Earnings/Share']]).T\n",
    "sy_ear.sort_values(by='Earnings/Share',inplace=True)\n",
    "#val=sy_ear.loc[]\n",
    "#val\n",
    "val=pd.concat([sy_ear.head(20),sy_ear.tail(20)])\n"
   ]
  },
  {
   "cell_type": "code",
   "execution_count": 189,
   "metadata": {},
   "outputs": [
    {
     "data": {
      "application/vnd.plotly.v1+json": {
       "config": {
        "linkText": "Export to plot.ly",
        "plotlyServerURL": "https://plot.ly",
        "showLink": true
       },
       "data": [
        {
         "marker": {
          "color": "rgba(0, 128, 0, 0.6)",
          "line": {
           "color": "rgba(0, 128, 0, 1.0)",
           "width": 1
          }
         },
         "name": "Earnings/Share",
         "orientation": "v",
         "text": "",
         "type": "bar",
         "x": [
          "BHF",
          "HES",
          "FE",
          "CXO",
          "DVN",
          "NFX",
          "CHK",
          "NOV",
          "APC",
          "XEC",
          "APA",
          "PXD",
          "ETR",
          "C",
          "MAT",
          "RRC",
          "EQT",
          "ADSK",
          "NBL",
          "XL",
          "HII",
          "LYB",
          "MHK",
          "BA",
          "APD",
          "ADS",
          "MTD",
          "ANTM",
          "URI",
          "SHW",
          "NSC",
          "GOOG",
          "GOOGL",
          "MCK",
          "RE",
          "BLK",
          "CHTR",
          "AGN",
          "PCLN",
          "AZO"
         ],
         "y": [
          -24.62,
          -19.94,
          -14.49,
          -11.04,
          -6.89,
          -6.5,
          -6.44,
          -6.4,
          -5.9,
          -4.64,
          -3.72,
          -3.39,
          -3.26,
          -3.1,
          -3.06,
          -2.79,
          -2.69,
          -2.61,
          -2.32,
          -2.24,
          12.15,
          12.25,
          12.48,
          13.47,
          13.66,
          14.13,
          14.24,
          14.36,
          15.72,
          18.61,
          18.73,
          22.27,
          22.27,
          22.74,
          23.71,
          30.3,
          34.08,
          38.35,
          42.66,
          44.09
         ]
        }
       ],
       "layout": {
        "legend": {
         "bgcolor": "#F5F6F9",
         "font": {
          "color": "#4D5663"
         }
        },
        "paper_bgcolor": "#F5F6F9",
        "plot_bgcolor": "#F5F6F9",
        "template": {
         "data": {
          "bar": [
           {
            "error_x": {
             "color": "#2a3f5f"
            },
            "error_y": {
             "color": "#2a3f5f"
            },
            "marker": {
             "line": {
              "color": "#E5ECF6",
              "width": 0.5
             }
            },
            "type": "bar"
           }
          ],
          "barpolar": [
           {
            "marker": {
             "line": {
              "color": "#E5ECF6",
              "width": 0.5
             }
            },
            "type": "barpolar"
           }
          ],
          "carpet": [
           {
            "aaxis": {
             "endlinecolor": "#2a3f5f",
             "gridcolor": "white",
             "linecolor": "white",
             "minorgridcolor": "white",
             "startlinecolor": "#2a3f5f"
            },
            "baxis": {
             "endlinecolor": "#2a3f5f",
             "gridcolor": "white",
             "linecolor": "white",
             "minorgridcolor": "white",
             "startlinecolor": "#2a3f5f"
            },
            "type": "carpet"
           }
          ],
          "choropleth": [
           {
            "colorbar": {
             "outlinewidth": 0,
             "ticks": ""
            },
            "type": "choropleth"
           }
          ],
          "contour": [
           {
            "colorbar": {
             "outlinewidth": 0,
             "ticks": ""
            },
            "colorscale": [
             [
              0,
              "#0d0887"
             ],
             [
              0.1111111111111111,
              "#46039f"
             ],
             [
              0.2222222222222222,
              "#7201a8"
             ],
             [
              0.3333333333333333,
              "#9c179e"
             ],
             [
              0.4444444444444444,
              "#bd3786"
             ],
             [
              0.5555555555555556,
              "#d8576b"
             ],
             [
              0.6666666666666666,
              "#ed7953"
             ],
             [
              0.7777777777777778,
              "#fb9f3a"
             ],
             [
              0.8888888888888888,
              "#fdca26"
             ],
             [
              1,
              "#f0f921"
             ]
            ],
            "type": "contour"
           }
          ],
          "contourcarpet": [
           {
            "colorbar": {
             "outlinewidth": 0,
             "ticks": ""
            },
            "type": "contourcarpet"
           }
          ],
          "heatmap": [
           {
            "colorbar": {
             "outlinewidth": 0,
             "ticks": ""
            },
            "colorscale": [
             [
              0,
              "#0d0887"
             ],
             [
              0.1111111111111111,
              "#46039f"
             ],
             [
              0.2222222222222222,
              "#7201a8"
             ],
             [
              0.3333333333333333,
              "#9c179e"
             ],
             [
              0.4444444444444444,
              "#bd3786"
             ],
             [
              0.5555555555555556,
              "#d8576b"
             ],
             [
              0.6666666666666666,
              "#ed7953"
             ],
             [
              0.7777777777777778,
              "#fb9f3a"
             ],
             [
              0.8888888888888888,
              "#fdca26"
             ],
             [
              1,
              "#f0f921"
             ]
            ],
            "type": "heatmap"
           }
          ],
          "heatmapgl": [
           {
            "colorbar": {
             "outlinewidth": 0,
             "ticks": ""
            },
            "colorscale": [
             [
              0,
              "#0d0887"
             ],
             [
              0.1111111111111111,
              "#46039f"
             ],
             [
              0.2222222222222222,
              "#7201a8"
             ],
             [
              0.3333333333333333,
              "#9c179e"
             ],
             [
              0.4444444444444444,
              "#bd3786"
             ],
             [
              0.5555555555555556,
              "#d8576b"
             ],
             [
              0.6666666666666666,
              "#ed7953"
             ],
             [
              0.7777777777777778,
              "#fb9f3a"
             ],
             [
              0.8888888888888888,
              "#fdca26"
             ],
             [
              1,
              "#f0f921"
             ]
            ],
            "type": "heatmapgl"
           }
          ],
          "histogram": [
           {
            "marker": {
             "colorbar": {
              "outlinewidth": 0,
              "ticks": ""
             }
            },
            "type": "histogram"
           }
          ],
          "histogram2d": [
           {
            "colorbar": {
             "outlinewidth": 0,
             "ticks": ""
            },
            "colorscale": [
             [
              0,
              "#0d0887"
             ],
             [
              0.1111111111111111,
              "#46039f"
             ],
             [
              0.2222222222222222,
              "#7201a8"
             ],
             [
              0.3333333333333333,
              "#9c179e"
             ],
             [
              0.4444444444444444,
              "#bd3786"
             ],
             [
              0.5555555555555556,
              "#d8576b"
             ],
             [
              0.6666666666666666,
              "#ed7953"
             ],
             [
              0.7777777777777778,
              "#fb9f3a"
             ],
             [
              0.8888888888888888,
              "#fdca26"
             ],
             [
              1,
              "#f0f921"
             ]
            ],
            "type": "histogram2d"
           }
          ],
          "histogram2dcontour": [
           {
            "colorbar": {
             "outlinewidth": 0,
             "ticks": ""
            },
            "colorscale": [
             [
              0,
              "#0d0887"
             ],
             [
              0.1111111111111111,
              "#46039f"
             ],
             [
              0.2222222222222222,
              "#7201a8"
             ],
             [
              0.3333333333333333,
              "#9c179e"
             ],
             [
              0.4444444444444444,
              "#bd3786"
             ],
             [
              0.5555555555555556,
              "#d8576b"
             ],
             [
              0.6666666666666666,
              "#ed7953"
             ],
             [
              0.7777777777777778,
              "#fb9f3a"
             ],
             [
              0.8888888888888888,
              "#fdca26"
             ],
             [
              1,
              "#f0f921"
             ]
            ],
            "type": "histogram2dcontour"
           }
          ],
          "mesh3d": [
           {
            "colorbar": {
             "outlinewidth": 0,
             "ticks": ""
            },
            "type": "mesh3d"
           }
          ],
          "parcoords": [
           {
            "line": {
             "colorbar": {
              "outlinewidth": 0,
              "ticks": ""
             }
            },
            "type": "parcoords"
           }
          ],
          "pie": [
           {
            "automargin": true,
            "type": "pie"
           }
          ],
          "scatter": [
           {
            "marker": {
             "colorbar": {
              "outlinewidth": 0,
              "ticks": ""
             }
            },
            "type": "scatter"
           }
          ],
          "scatter3d": [
           {
            "line": {
             "colorbar": {
              "outlinewidth": 0,
              "ticks": ""
             }
            },
            "marker": {
             "colorbar": {
              "outlinewidth": 0,
              "ticks": ""
             }
            },
            "type": "scatter3d"
           }
          ],
          "scattercarpet": [
           {
            "marker": {
             "colorbar": {
              "outlinewidth": 0,
              "ticks": ""
             }
            },
            "type": "scattercarpet"
           }
          ],
          "scattergeo": [
           {
            "marker": {
             "colorbar": {
              "outlinewidth": 0,
              "ticks": ""
             }
            },
            "type": "scattergeo"
           }
          ],
          "scattergl": [
           {
            "marker": {
             "colorbar": {
              "outlinewidth": 0,
              "ticks": ""
             }
            },
            "type": "scattergl"
           }
          ],
          "scattermapbox": [
           {
            "marker": {
             "colorbar": {
              "outlinewidth": 0,
              "ticks": ""
             }
            },
            "type": "scattermapbox"
           }
          ],
          "scatterpolar": [
           {
            "marker": {
             "colorbar": {
              "outlinewidth": 0,
              "ticks": ""
             }
            },
            "type": "scatterpolar"
           }
          ],
          "scatterpolargl": [
           {
            "marker": {
             "colorbar": {
              "outlinewidth": 0,
              "ticks": ""
             }
            },
            "type": "scatterpolargl"
           }
          ],
          "scatterternary": [
           {
            "marker": {
             "colorbar": {
              "outlinewidth": 0,
              "ticks": ""
             }
            },
            "type": "scatterternary"
           }
          ],
          "surface": [
           {
            "colorbar": {
             "outlinewidth": 0,
             "ticks": ""
            },
            "colorscale": [
             [
              0,
              "#0d0887"
             ],
             [
              0.1111111111111111,
              "#46039f"
             ],
             [
              0.2222222222222222,
              "#7201a8"
             ],
             [
              0.3333333333333333,
              "#9c179e"
             ],
             [
              0.4444444444444444,
              "#bd3786"
             ],
             [
              0.5555555555555556,
              "#d8576b"
             ],
             [
              0.6666666666666666,
              "#ed7953"
             ],
             [
              0.7777777777777778,
              "#fb9f3a"
             ],
             [
              0.8888888888888888,
              "#fdca26"
             ],
             [
              1,
              "#f0f921"
             ]
            ],
            "type": "surface"
           }
          ],
          "table": [
           {
            "cells": {
             "fill": {
              "color": "#EBF0F8"
             },
             "line": {
              "color": "white"
             }
            },
            "header": {
             "fill": {
              "color": "#C8D4E3"
             },
             "line": {
              "color": "white"
             }
            },
            "type": "table"
           }
          ]
         },
         "layout": {
          "annotationdefaults": {
           "arrowcolor": "#2a3f5f",
           "arrowhead": 0,
           "arrowwidth": 1
          },
          "autotypenumbers": "strict",
          "coloraxis": {
           "colorbar": {
            "outlinewidth": 0,
            "ticks": ""
           }
          },
          "colorscale": {
           "diverging": [
            [
             0,
             "#8e0152"
            ],
            [
             0.1,
             "#c51b7d"
            ],
            [
             0.2,
             "#de77ae"
            ],
            [
             0.3,
             "#f1b6da"
            ],
            [
             0.4,
             "#fde0ef"
            ],
            [
             0.5,
             "#f7f7f7"
            ],
            [
             0.6,
             "#e6f5d0"
            ],
            [
             0.7,
             "#b8e186"
            ],
            [
             0.8,
             "#7fbc41"
            ],
            [
             0.9,
             "#4d9221"
            ],
            [
             1,
             "#276419"
            ]
           ],
           "sequential": [
            [
             0,
             "#0d0887"
            ],
            [
             0.1111111111111111,
             "#46039f"
            ],
            [
             0.2222222222222222,
             "#7201a8"
            ],
            [
             0.3333333333333333,
             "#9c179e"
            ],
            [
             0.4444444444444444,
             "#bd3786"
            ],
            [
             0.5555555555555556,
             "#d8576b"
            ],
            [
             0.6666666666666666,
             "#ed7953"
            ],
            [
             0.7777777777777778,
             "#fb9f3a"
            ],
            [
             0.8888888888888888,
             "#fdca26"
            ],
            [
             1,
             "#f0f921"
            ]
           ],
           "sequentialminus": [
            [
             0,
             "#0d0887"
            ],
            [
             0.1111111111111111,
             "#46039f"
            ],
            [
             0.2222222222222222,
             "#7201a8"
            ],
            [
             0.3333333333333333,
             "#9c179e"
            ],
            [
             0.4444444444444444,
             "#bd3786"
            ],
            [
             0.5555555555555556,
             "#d8576b"
            ],
            [
             0.6666666666666666,
             "#ed7953"
            ],
            [
             0.7777777777777778,
             "#fb9f3a"
            ],
            [
             0.8888888888888888,
             "#fdca26"
            ],
            [
             1,
             "#f0f921"
            ]
           ]
          },
          "colorway": [
           "#636efa",
           "#EF553B",
           "#00cc96",
           "#ab63fa",
           "#FFA15A",
           "#19d3f3",
           "#FF6692",
           "#B6E880",
           "#FF97FF",
           "#FECB52"
          ],
          "font": {
           "color": "#2a3f5f"
          },
          "geo": {
           "bgcolor": "white",
           "lakecolor": "white",
           "landcolor": "#E5ECF6",
           "showlakes": true,
           "showland": true,
           "subunitcolor": "white"
          },
          "hoverlabel": {
           "align": "left"
          },
          "hovermode": "closest",
          "mapbox": {
           "style": "light"
          },
          "paper_bgcolor": "white",
          "plot_bgcolor": "#E5ECF6",
          "polar": {
           "angularaxis": {
            "gridcolor": "white",
            "linecolor": "white",
            "ticks": ""
           },
           "bgcolor": "#E5ECF6",
           "radialaxis": {
            "gridcolor": "white",
            "linecolor": "white",
            "ticks": ""
           }
          },
          "scene": {
           "xaxis": {
            "backgroundcolor": "#E5ECF6",
            "gridcolor": "white",
            "gridwidth": 2,
            "linecolor": "white",
            "showbackground": true,
            "ticks": "",
            "zerolinecolor": "white"
           },
           "yaxis": {
            "backgroundcolor": "#E5ECF6",
            "gridcolor": "white",
            "gridwidth": 2,
            "linecolor": "white",
            "showbackground": true,
            "ticks": "",
            "zerolinecolor": "white"
           },
           "zaxis": {
            "backgroundcolor": "#E5ECF6",
            "gridcolor": "white",
            "gridwidth": 2,
            "linecolor": "white",
            "showbackground": true,
            "ticks": "",
            "zerolinecolor": "white"
           }
          },
          "shapedefaults": {
           "line": {
            "color": "#2a3f5f"
           }
          },
          "ternary": {
           "aaxis": {
            "gridcolor": "white",
            "linecolor": "white",
            "ticks": ""
           },
           "baxis": {
            "gridcolor": "white",
            "linecolor": "white",
            "ticks": ""
           },
           "bgcolor": "#E5ECF6",
           "caxis": {
            "gridcolor": "white",
            "linecolor": "white",
            "ticks": ""
           }
          },
          "title": {
           "x": 0.05
          },
          "xaxis": {
           "automargin": true,
           "gridcolor": "white",
           "linecolor": "white",
           "ticks": "",
           "title": {
            "standoff": 15
           },
           "zerolinecolor": "white",
           "zerolinewidth": 2
          },
          "yaxis": {
           "automargin": true,
           "gridcolor": "white",
           "linecolor": "white",
           "ticks": "",
           "title": {
            "standoff": 15
           },
           "zerolinecolor": "white",
           "zerolinewidth": 2
          }
         }
        },
        "title": {
         "font": {
          "color": "#4D5663"
         },
         "text": "Earning per share of companies, Lower and Higher"
        },
        "xaxis": {
         "gridcolor": "#E1E5ED",
         "showgrid": true,
         "tickfont": {
          "color": "#4D5663"
         },
         "title": {
          "font": {
           "color": "#4D5663"
          },
          "text": "Symbol"
         },
         "zerolinecolor": "#E1E5ED"
        },
        "yaxis": {
         "gridcolor": "#E1E5ED",
         "showgrid": true,
         "tickfont": {
          "color": "#4D5663"
         },
         "title": {
          "font": {
           "color": "#4D5663"
          },
          "text": "Earnings per share"
         },
         "zerolinecolor": "#E1E5ED"
        }
       }
      },
      "text/html": [
       "<div>                            <div id=\"fae56627-2950-4a27-86d8-831a3c1fed3e\" class=\"plotly-graph-div\" style=\"height:525px; width:100%;\"></div>            <script type=\"text/javascript\">                require([\"plotly\"], function(Plotly) {                    window.PLOTLYENV=window.PLOTLYENV || {};\n",
       "                    window.PLOTLYENV.BASE_URL='https://plot.ly';                                    if (document.getElementById(\"fae56627-2950-4a27-86d8-831a3c1fed3e\")) {                    Plotly.newPlot(                        \"fae56627-2950-4a27-86d8-831a3c1fed3e\",                        [{\"marker\": {\"color\": \"rgba(0, 128, 0, 0.6)\", \"line\": {\"color\": \"rgba(0, 128, 0, 1.0)\", \"width\": 1}}, \"name\": \"Earnings/Share\", \"orientation\": \"v\", \"text\": \"\", \"type\": \"bar\", \"x\": [\"BHF\", \"HES\", \"FE\", \"CXO\", \"DVN\", \"NFX\", \"CHK\", \"NOV\", \"APC\", \"XEC\", \"APA\", \"PXD\", \"ETR\", \"C\", \"MAT\", \"RRC\", \"EQT\", \"ADSK\", \"NBL\", \"XL\", \"HII\", \"LYB\", \"MHK\", \"BA\", \"APD\", \"ADS\", \"MTD\", \"ANTM\", \"URI\", \"SHW\", \"NSC\", \"GOOG\", \"GOOGL\", \"MCK\", \"RE\", \"BLK\", \"CHTR\", \"AGN\", \"PCLN\", \"AZO\"], \"y\": [-24.62, -19.94, -14.49, -11.04, -6.89, -6.5, -6.44, -6.4, -5.9, -4.64, -3.72, -3.39, -3.26, -3.1, -3.06, -2.79, -2.69, -2.61, -2.32, -2.24, 12.15, 12.25, 12.48, 13.47, 13.66, 14.13, 14.24, 14.36, 15.72, 18.61, 18.73, 22.27, 22.27, 22.74, 23.71, 30.3, 34.08, 38.35, 42.66, 44.09]}],                        {\"legend\": {\"bgcolor\": \"#F5F6F9\", \"font\": {\"color\": \"#4D5663\"}}, \"paper_bgcolor\": \"#F5F6F9\", \"plot_bgcolor\": \"#F5F6F9\", \"template\": {\"data\": {\"bar\": [{\"error_x\": {\"color\": \"#2a3f5f\"}, \"error_y\": {\"color\": \"#2a3f5f\"}, \"marker\": {\"line\": {\"color\": \"#E5ECF6\", \"width\": 0.5}}, \"type\": \"bar\"}], \"barpolar\": [{\"marker\": {\"line\": {\"color\": \"#E5ECF6\", \"width\": 0.5}}, \"type\": \"barpolar\"}], \"carpet\": [{\"aaxis\": {\"endlinecolor\": \"#2a3f5f\", \"gridcolor\": \"white\", \"linecolor\": \"white\", \"minorgridcolor\": \"white\", \"startlinecolor\": \"#2a3f5f\"}, \"baxis\": {\"endlinecolor\": \"#2a3f5f\", \"gridcolor\": \"white\", \"linecolor\": \"white\", \"minorgridcolor\": \"white\", \"startlinecolor\": \"#2a3f5f\"}, \"type\": \"carpet\"}], \"choropleth\": [{\"colorbar\": {\"outlinewidth\": 0, \"ticks\": \"\"}, \"type\": \"choropleth\"}], \"contour\": [{\"colorbar\": {\"outlinewidth\": 0, \"ticks\": \"\"}, \"colorscale\": [[0.0, \"#0d0887\"], [0.1111111111111111, \"#46039f\"], [0.2222222222222222, \"#7201a8\"], [0.3333333333333333, \"#9c179e\"], [0.4444444444444444, \"#bd3786\"], [0.5555555555555556, \"#d8576b\"], [0.6666666666666666, \"#ed7953\"], [0.7777777777777778, \"#fb9f3a\"], [0.8888888888888888, \"#fdca26\"], [1.0, \"#f0f921\"]], \"type\": \"contour\"}], \"contourcarpet\": [{\"colorbar\": {\"outlinewidth\": 0, \"ticks\": \"\"}, \"type\": \"contourcarpet\"}], \"heatmap\": [{\"colorbar\": {\"outlinewidth\": 0, \"ticks\": \"\"}, \"colorscale\": [[0.0, \"#0d0887\"], [0.1111111111111111, \"#46039f\"], [0.2222222222222222, \"#7201a8\"], [0.3333333333333333, \"#9c179e\"], [0.4444444444444444, \"#bd3786\"], [0.5555555555555556, \"#d8576b\"], [0.6666666666666666, \"#ed7953\"], [0.7777777777777778, \"#fb9f3a\"], [0.8888888888888888, \"#fdca26\"], [1.0, \"#f0f921\"]], \"type\": \"heatmap\"}], \"heatmapgl\": [{\"colorbar\": {\"outlinewidth\": 0, \"ticks\": \"\"}, \"colorscale\": [[0.0, \"#0d0887\"], [0.1111111111111111, \"#46039f\"], [0.2222222222222222, \"#7201a8\"], [0.3333333333333333, \"#9c179e\"], [0.4444444444444444, \"#bd3786\"], [0.5555555555555556, \"#d8576b\"], [0.6666666666666666, \"#ed7953\"], [0.7777777777777778, \"#fb9f3a\"], [0.8888888888888888, \"#fdca26\"], [1.0, \"#f0f921\"]], \"type\": \"heatmapgl\"}], \"histogram\": [{\"marker\": {\"colorbar\": {\"outlinewidth\": 0, \"ticks\": \"\"}}, \"type\": \"histogram\"}], \"histogram2d\": [{\"colorbar\": {\"outlinewidth\": 0, \"ticks\": \"\"}, \"colorscale\": [[0.0, \"#0d0887\"], [0.1111111111111111, \"#46039f\"], [0.2222222222222222, \"#7201a8\"], [0.3333333333333333, \"#9c179e\"], [0.4444444444444444, \"#bd3786\"], [0.5555555555555556, \"#d8576b\"], [0.6666666666666666, \"#ed7953\"], [0.7777777777777778, \"#fb9f3a\"], [0.8888888888888888, \"#fdca26\"], [1.0, \"#f0f921\"]], \"type\": \"histogram2d\"}], \"histogram2dcontour\": [{\"colorbar\": {\"outlinewidth\": 0, \"ticks\": \"\"}, \"colorscale\": [[0.0, \"#0d0887\"], [0.1111111111111111, \"#46039f\"], [0.2222222222222222, \"#7201a8\"], [0.3333333333333333, \"#9c179e\"], [0.4444444444444444, \"#bd3786\"], [0.5555555555555556, \"#d8576b\"], [0.6666666666666666, \"#ed7953\"], [0.7777777777777778, \"#fb9f3a\"], [0.8888888888888888, \"#fdca26\"], [1.0, \"#f0f921\"]], \"type\": \"histogram2dcontour\"}], \"mesh3d\": [{\"colorbar\": {\"outlinewidth\": 0, \"ticks\": \"\"}, \"type\": \"mesh3d\"}], \"parcoords\": [{\"line\": {\"colorbar\": {\"outlinewidth\": 0, \"ticks\": \"\"}}, \"type\": \"parcoords\"}], \"pie\": [{\"automargin\": true, \"type\": \"pie\"}], \"scatter\": [{\"marker\": {\"colorbar\": {\"outlinewidth\": 0, \"ticks\": \"\"}}, \"type\": \"scatter\"}], \"scatter3d\": [{\"line\": {\"colorbar\": {\"outlinewidth\": 0, \"ticks\": \"\"}}, \"marker\": {\"colorbar\": {\"outlinewidth\": 0, \"ticks\": \"\"}}, \"type\": \"scatter3d\"}], \"scattercarpet\": [{\"marker\": {\"colorbar\": {\"outlinewidth\": 0, \"ticks\": \"\"}}, \"type\": \"scattercarpet\"}], \"scattergeo\": [{\"marker\": {\"colorbar\": {\"outlinewidth\": 0, \"ticks\": \"\"}}, \"type\": \"scattergeo\"}], \"scattergl\": [{\"marker\": {\"colorbar\": {\"outlinewidth\": 0, \"ticks\": \"\"}}, \"type\": \"scattergl\"}], \"scattermapbox\": [{\"marker\": {\"colorbar\": {\"outlinewidth\": 0, \"ticks\": \"\"}}, \"type\": \"scattermapbox\"}], \"scatterpolar\": [{\"marker\": {\"colorbar\": {\"outlinewidth\": 0, \"ticks\": \"\"}}, \"type\": \"scatterpolar\"}], \"scatterpolargl\": [{\"marker\": {\"colorbar\": {\"outlinewidth\": 0, \"ticks\": \"\"}}, \"type\": \"scatterpolargl\"}], \"scatterternary\": [{\"marker\": {\"colorbar\": {\"outlinewidth\": 0, \"ticks\": \"\"}}, \"type\": \"scatterternary\"}], \"surface\": [{\"colorbar\": {\"outlinewidth\": 0, \"ticks\": \"\"}, \"colorscale\": [[0.0, \"#0d0887\"], [0.1111111111111111, \"#46039f\"], [0.2222222222222222, \"#7201a8\"], [0.3333333333333333, \"#9c179e\"], [0.4444444444444444, \"#bd3786\"], [0.5555555555555556, \"#d8576b\"], [0.6666666666666666, \"#ed7953\"], [0.7777777777777778, \"#fb9f3a\"], [0.8888888888888888, \"#fdca26\"], [1.0, \"#f0f921\"]], \"type\": \"surface\"}], \"table\": [{\"cells\": {\"fill\": {\"color\": \"#EBF0F8\"}, \"line\": {\"color\": \"white\"}}, \"header\": {\"fill\": {\"color\": \"#C8D4E3\"}, \"line\": {\"color\": \"white\"}}, \"type\": \"table\"}]}, \"layout\": {\"annotationdefaults\": {\"arrowcolor\": \"#2a3f5f\", \"arrowhead\": 0, \"arrowwidth\": 1}, \"autotypenumbers\": \"strict\", \"coloraxis\": {\"colorbar\": {\"outlinewidth\": 0, \"ticks\": \"\"}}, \"colorscale\": {\"diverging\": [[0, \"#8e0152\"], [0.1, \"#c51b7d\"], [0.2, \"#de77ae\"], [0.3, \"#f1b6da\"], [0.4, \"#fde0ef\"], [0.5, \"#f7f7f7\"], [0.6, \"#e6f5d0\"], [0.7, \"#b8e186\"], [0.8, \"#7fbc41\"], [0.9, \"#4d9221\"], [1, \"#276419\"]], \"sequential\": [[0.0, \"#0d0887\"], [0.1111111111111111, \"#46039f\"], [0.2222222222222222, \"#7201a8\"], [0.3333333333333333, \"#9c179e\"], [0.4444444444444444, \"#bd3786\"], [0.5555555555555556, \"#d8576b\"], [0.6666666666666666, \"#ed7953\"], [0.7777777777777778, \"#fb9f3a\"], [0.8888888888888888, \"#fdca26\"], [1.0, \"#f0f921\"]], \"sequentialminus\": [[0.0, \"#0d0887\"], [0.1111111111111111, \"#46039f\"], [0.2222222222222222, \"#7201a8\"], [0.3333333333333333, \"#9c179e\"], [0.4444444444444444, \"#bd3786\"], [0.5555555555555556, \"#d8576b\"], [0.6666666666666666, \"#ed7953\"], [0.7777777777777778, \"#fb9f3a\"], [0.8888888888888888, \"#fdca26\"], [1.0, \"#f0f921\"]]}, \"colorway\": [\"#636efa\", \"#EF553B\", \"#00cc96\", \"#ab63fa\", \"#FFA15A\", \"#19d3f3\", \"#FF6692\", \"#B6E880\", \"#FF97FF\", \"#FECB52\"], \"font\": {\"color\": \"#2a3f5f\"}, \"geo\": {\"bgcolor\": \"white\", \"lakecolor\": \"white\", \"landcolor\": \"#E5ECF6\", \"showlakes\": true, \"showland\": true, \"subunitcolor\": \"white\"}, \"hoverlabel\": {\"align\": \"left\"}, \"hovermode\": \"closest\", \"mapbox\": {\"style\": \"light\"}, \"paper_bgcolor\": \"white\", \"plot_bgcolor\": \"#E5ECF6\", \"polar\": {\"angularaxis\": {\"gridcolor\": \"white\", \"linecolor\": \"white\", \"ticks\": \"\"}, \"bgcolor\": \"#E5ECF6\", \"radialaxis\": {\"gridcolor\": \"white\", \"linecolor\": \"white\", \"ticks\": \"\"}}, \"scene\": {\"xaxis\": {\"backgroundcolor\": \"#E5ECF6\", \"gridcolor\": \"white\", \"gridwidth\": 2, \"linecolor\": \"white\", \"showbackground\": true, \"ticks\": \"\", \"zerolinecolor\": \"white\"}, \"yaxis\": {\"backgroundcolor\": \"#E5ECF6\", \"gridcolor\": \"white\", \"gridwidth\": 2, \"linecolor\": \"white\", \"showbackground\": true, \"ticks\": \"\", \"zerolinecolor\": \"white\"}, \"zaxis\": {\"backgroundcolor\": \"#E5ECF6\", \"gridcolor\": \"white\", \"gridwidth\": 2, \"linecolor\": \"white\", \"showbackground\": true, \"ticks\": \"\", \"zerolinecolor\": \"white\"}}, \"shapedefaults\": {\"line\": {\"color\": \"#2a3f5f\"}}, \"ternary\": {\"aaxis\": {\"gridcolor\": \"white\", \"linecolor\": \"white\", \"ticks\": \"\"}, \"baxis\": {\"gridcolor\": \"white\", \"linecolor\": \"white\", \"ticks\": \"\"}, \"bgcolor\": \"#E5ECF6\", \"caxis\": {\"gridcolor\": \"white\", \"linecolor\": \"white\", \"ticks\": \"\"}}, \"title\": {\"x\": 0.05}, \"xaxis\": {\"automargin\": true, \"gridcolor\": \"white\", \"linecolor\": \"white\", \"ticks\": \"\", \"title\": {\"standoff\": 15}, \"zerolinecolor\": \"white\", \"zerolinewidth\": 2}, \"yaxis\": {\"automargin\": true, \"gridcolor\": \"white\", \"linecolor\": \"white\", \"ticks\": \"\", \"title\": {\"standoff\": 15}, \"zerolinecolor\": \"white\", \"zerolinewidth\": 2}}}, \"title\": {\"font\": {\"color\": \"#4D5663\"}, \"text\": \"Earning per share of companies, Lower and Higher\"}, \"xaxis\": {\"gridcolor\": \"#E1E5ED\", \"showgrid\": true, \"tickfont\": {\"color\": \"#4D5663\"}, \"title\": {\"font\": {\"color\": \"#4D5663\"}, \"text\": \"Symbol\"}, \"zerolinecolor\": \"#E1E5ED\"}, \"yaxis\": {\"gridcolor\": \"#E1E5ED\", \"showgrid\": true, \"tickfont\": {\"color\": \"#4D5663\"}, \"title\": {\"font\": {\"color\": \"#4D5663\"}, \"text\": \"Earnings per share\"}, \"zerolinecolor\": \"#E1E5ED\"}},                        {\"showLink\": true, \"linkText\": \"Export to plot.ly\", \"plotlyServerURL\": \"https://plot.ly\", \"responsive\": true}                    ).then(function(){\n",
       "                            \n",
       "var gd = document.getElementById('fae56627-2950-4a27-86d8-831a3c1fed3e');\n",
       "var x = new MutationObserver(function (mutations, observer) {{\n",
       "        var display = window.getComputedStyle(gd).display;\n",
       "        if (!display || display === 'none') {{\n",
       "            console.log([gd, 'removed!']);\n",
       "            Plotly.purge(gd);\n",
       "            observer.disconnect();\n",
       "        }}\n",
       "}});\n",
       "\n",
       "// Listen for the removal of the full notebook cells\n",
       "var notebookContainer = gd.closest('#notebook-container');\n",
       "if (notebookContainer) {{\n",
       "    x.observe(notebookContainer, {childList: true});\n",
       "}}\n",
       "\n",
       "// Listen for the clearing of the current output cell\n",
       "var outputEl = gd.closest('.output');\n",
       "if (outputEl) {{\n",
       "    x.observe(outputEl, {childList: true});\n",
       "}}\n",
       "\n",
       "                        })                };                });            </script>        </div>"
      ]
     },
     "metadata": {},
     "output_type": "display_data"
    }
   ],
   "source": [
    "val.iplot(x='Symbol',y='Earnings/Share',kind='bar',color='green',\n",
    "          xTitle='Symbol',yTitle='Earnings per share',\n",
    "          title='Earning per share of companies, Lower and Higher')\n"
   ]
  },
  {
   "cell_type": "code",
   "execution_count": null,
   "metadata": {},
   "outputs": [],
   "source": []
  },
  {
   "cell_type": "markdown",
   "metadata": {},
   "source": [
    "#### 5. Evaluating the sector wise market capacity.\n",
    " - This graph shows that the market capacity is more for IT sector "
   ]
  },
  {
   "cell_type": "code",
   "execution_count": 131,
   "metadata": {},
   "outputs": [
    {
     "data": {
      "text/plain": [
       "Sector\n",
       "Information Technology        6.727122e+12\n",
       "Financials                    3.442649e+12\n",
       "Health Care                   3.197584e+12\n",
       "Consumer Discretionary        3.193496e+12\n",
       "Industrials                   2.282663e+12\n",
       "Consumer Staples              1.925663e+12\n",
       "Energy                        1.289971e+12\n",
       "Materials                     6.923003e+11\n",
       "Real Estate                   6.253157e+11\n",
       "Utilities                     6.116326e+11\n",
       "Telecommunication Services    4.530427e+11\n",
       "Name: Market Cap, dtype: float64"
      ]
     },
     "execution_count": 131,
     "metadata": {},
     "output_type": "execute_result"
    }
   ],
   "source": [
    "mkt=pd.Series(data.groupby('Sector')['Market Cap'].sum()).sort_values(ascending=False)\n",
    "mkt"
   ]
  },
  {
   "cell_type": "code",
   "execution_count": 134,
   "metadata": {},
   "outputs": [
    {
     "data": {
      "application/vnd.plotly.v1+json": {
       "config": {
        "plotlyServerURL": "https://plot.ly"
       },
       "data": [
        {
         "alignmentgroup": "True",
         "hovertemplate": "Sector=%{x}<br>value=%{y}<br>color=%{marker.color}<extra></extra>",
         "legendgroup": "",
         "marker": {
          "color": [
           6727121800912,
           3442649464852,
           3197583610665,
           3193496467613,
           2282663378921,
           1925663117062,
           1289971015040,
           692300259151,
           625315677562,
           611632638471,
           453042743905
          ],
          "coloraxis": "coloraxis"
         },
         "name": "",
         "offsetgroup": "",
         "orientation": "v",
         "showlegend": false,
         "textposition": "auto",
         "type": "bar",
         "x": [
          "Information Technology",
          "Financials",
          "Health Care",
          "Consumer Discretionary",
          "Industrials",
          "Consumer Staples",
          "Energy",
          "Materials",
          "Real Estate",
          "Utilities",
          "Telecommunication Services"
         ],
         "xaxis": "x",
         "y": [
          6727121800912,
          3442649464852,
          3197583610665,
          3193496467613,
          2282663378921,
          1925663117062,
          1289971015040,
          692300259151,
          625315677562,
          611632638471,
          453042743905
         ],
         "yaxis": "y"
        }
       ],
       "layout": {
        "barmode": "relative",
        "coloraxis": {
         "colorbar": {
          "title": {
           "text": "color"
          }
         },
         "colorscale": [
          [
           0,
           "#0d0887"
          ],
          [
           0.1111111111111111,
           "#46039f"
          ],
          [
           0.2222222222222222,
           "#7201a8"
          ],
          [
           0.3333333333333333,
           "#9c179e"
          ],
          [
           0.4444444444444444,
           "#bd3786"
          ],
          [
           0.5555555555555556,
           "#d8576b"
          ],
          [
           0.6666666666666666,
           "#ed7953"
          ],
          [
           0.7777777777777778,
           "#fb9f3a"
          ],
          [
           0.8888888888888888,
           "#fdca26"
          ],
          [
           1,
           "#f0f921"
          ]
         ]
        },
        "legend": {
         "tracegroupgap": 0
        },
        "template": {
         "data": {
          "bar": [
           {
            "error_x": {
             "color": "#2a3f5f"
            },
            "error_y": {
             "color": "#2a3f5f"
            },
            "marker": {
             "line": {
              "color": "#E5ECF6",
              "width": 0.5
             }
            },
            "type": "bar"
           }
          ],
          "barpolar": [
           {
            "marker": {
             "line": {
              "color": "#E5ECF6",
              "width": 0.5
             }
            },
            "type": "barpolar"
           }
          ],
          "carpet": [
           {
            "aaxis": {
             "endlinecolor": "#2a3f5f",
             "gridcolor": "white",
             "linecolor": "white",
             "minorgridcolor": "white",
             "startlinecolor": "#2a3f5f"
            },
            "baxis": {
             "endlinecolor": "#2a3f5f",
             "gridcolor": "white",
             "linecolor": "white",
             "minorgridcolor": "white",
             "startlinecolor": "#2a3f5f"
            },
            "type": "carpet"
           }
          ],
          "choropleth": [
           {
            "colorbar": {
             "outlinewidth": 0,
             "ticks": ""
            },
            "type": "choropleth"
           }
          ],
          "contour": [
           {
            "colorbar": {
             "outlinewidth": 0,
             "ticks": ""
            },
            "colorscale": [
             [
              0,
              "#0d0887"
             ],
             [
              0.1111111111111111,
              "#46039f"
             ],
             [
              0.2222222222222222,
              "#7201a8"
             ],
             [
              0.3333333333333333,
              "#9c179e"
             ],
             [
              0.4444444444444444,
              "#bd3786"
             ],
             [
              0.5555555555555556,
              "#d8576b"
             ],
             [
              0.6666666666666666,
              "#ed7953"
             ],
             [
              0.7777777777777778,
              "#fb9f3a"
             ],
             [
              0.8888888888888888,
              "#fdca26"
             ],
             [
              1,
              "#f0f921"
             ]
            ],
            "type": "contour"
           }
          ],
          "contourcarpet": [
           {
            "colorbar": {
             "outlinewidth": 0,
             "ticks": ""
            },
            "type": "contourcarpet"
           }
          ],
          "heatmap": [
           {
            "colorbar": {
             "outlinewidth": 0,
             "ticks": ""
            },
            "colorscale": [
             [
              0,
              "#0d0887"
             ],
             [
              0.1111111111111111,
              "#46039f"
             ],
             [
              0.2222222222222222,
              "#7201a8"
             ],
             [
              0.3333333333333333,
              "#9c179e"
             ],
             [
              0.4444444444444444,
              "#bd3786"
             ],
             [
              0.5555555555555556,
              "#d8576b"
             ],
             [
              0.6666666666666666,
              "#ed7953"
             ],
             [
              0.7777777777777778,
              "#fb9f3a"
             ],
             [
              0.8888888888888888,
              "#fdca26"
             ],
             [
              1,
              "#f0f921"
             ]
            ],
            "type": "heatmap"
           }
          ],
          "heatmapgl": [
           {
            "colorbar": {
             "outlinewidth": 0,
             "ticks": ""
            },
            "colorscale": [
             [
              0,
              "#0d0887"
             ],
             [
              0.1111111111111111,
              "#46039f"
             ],
             [
              0.2222222222222222,
              "#7201a8"
             ],
             [
              0.3333333333333333,
              "#9c179e"
             ],
             [
              0.4444444444444444,
              "#bd3786"
             ],
             [
              0.5555555555555556,
              "#d8576b"
             ],
             [
              0.6666666666666666,
              "#ed7953"
             ],
             [
              0.7777777777777778,
              "#fb9f3a"
             ],
             [
              0.8888888888888888,
              "#fdca26"
             ],
             [
              1,
              "#f0f921"
             ]
            ],
            "type": "heatmapgl"
           }
          ],
          "histogram": [
           {
            "marker": {
             "colorbar": {
              "outlinewidth": 0,
              "ticks": ""
             }
            },
            "type": "histogram"
           }
          ],
          "histogram2d": [
           {
            "colorbar": {
             "outlinewidth": 0,
             "ticks": ""
            },
            "colorscale": [
             [
              0,
              "#0d0887"
             ],
             [
              0.1111111111111111,
              "#46039f"
             ],
             [
              0.2222222222222222,
              "#7201a8"
             ],
             [
              0.3333333333333333,
              "#9c179e"
             ],
             [
              0.4444444444444444,
              "#bd3786"
             ],
             [
              0.5555555555555556,
              "#d8576b"
             ],
             [
              0.6666666666666666,
              "#ed7953"
             ],
             [
              0.7777777777777778,
              "#fb9f3a"
             ],
             [
              0.8888888888888888,
              "#fdca26"
             ],
             [
              1,
              "#f0f921"
             ]
            ],
            "type": "histogram2d"
           }
          ],
          "histogram2dcontour": [
           {
            "colorbar": {
             "outlinewidth": 0,
             "ticks": ""
            },
            "colorscale": [
             [
              0,
              "#0d0887"
             ],
             [
              0.1111111111111111,
              "#46039f"
             ],
             [
              0.2222222222222222,
              "#7201a8"
             ],
             [
              0.3333333333333333,
              "#9c179e"
             ],
             [
              0.4444444444444444,
              "#bd3786"
             ],
             [
              0.5555555555555556,
              "#d8576b"
             ],
             [
              0.6666666666666666,
              "#ed7953"
             ],
             [
              0.7777777777777778,
              "#fb9f3a"
             ],
             [
              0.8888888888888888,
              "#fdca26"
             ],
             [
              1,
              "#f0f921"
             ]
            ],
            "type": "histogram2dcontour"
           }
          ],
          "mesh3d": [
           {
            "colorbar": {
             "outlinewidth": 0,
             "ticks": ""
            },
            "type": "mesh3d"
           }
          ],
          "parcoords": [
           {
            "line": {
             "colorbar": {
              "outlinewidth": 0,
              "ticks": ""
             }
            },
            "type": "parcoords"
           }
          ],
          "pie": [
           {
            "automargin": true,
            "type": "pie"
           }
          ],
          "scatter": [
           {
            "marker": {
             "colorbar": {
              "outlinewidth": 0,
              "ticks": ""
             }
            },
            "type": "scatter"
           }
          ],
          "scatter3d": [
           {
            "line": {
             "colorbar": {
              "outlinewidth": 0,
              "ticks": ""
             }
            },
            "marker": {
             "colorbar": {
              "outlinewidth": 0,
              "ticks": ""
             }
            },
            "type": "scatter3d"
           }
          ],
          "scattercarpet": [
           {
            "marker": {
             "colorbar": {
              "outlinewidth": 0,
              "ticks": ""
             }
            },
            "type": "scattercarpet"
           }
          ],
          "scattergeo": [
           {
            "marker": {
             "colorbar": {
              "outlinewidth": 0,
              "ticks": ""
             }
            },
            "type": "scattergeo"
           }
          ],
          "scattergl": [
           {
            "marker": {
             "colorbar": {
              "outlinewidth": 0,
              "ticks": ""
             }
            },
            "type": "scattergl"
           }
          ],
          "scattermapbox": [
           {
            "marker": {
             "colorbar": {
              "outlinewidth": 0,
              "ticks": ""
             }
            },
            "type": "scattermapbox"
           }
          ],
          "scatterpolar": [
           {
            "marker": {
             "colorbar": {
              "outlinewidth": 0,
              "ticks": ""
             }
            },
            "type": "scatterpolar"
           }
          ],
          "scatterpolargl": [
           {
            "marker": {
             "colorbar": {
              "outlinewidth": 0,
              "ticks": ""
             }
            },
            "type": "scatterpolargl"
           }
          ],
          "scatterternary": [
           {
            "marker": {
             "colorbar": {
              "outlinewidth": 0,
              "ticks": ""
             }
            },
            "type": "scatterternary"
           }
          ],
          "surface": [
           {
            "colorbar": {
             "outlinewidth": 0,
             "ticks": ""
            },
            "colorscale": [
             [
              0,
              "#0d0887"
             ],
             [
              0.1111111111111111,
              "#46039f"
             ],
             [
              0.2222222222222222,
              "#7201a8"
             ],
             [
              0.3333333333333333,
              "#9c179e"
             ],
             [
              0.4444444444444444,
              "#bd3786"
             ],
             [
              0.5555555555555556,
              "#d8576b"
             ],
             [
              0.6666666666666666,
              "#ed7953"
             ],
             [
              0.7777777777777778,
              "#fb9f3a"
             ],
             [
              0.8888888888888888,
              "#fdca26"
             ],
             [
              1,
              "#f0f921"
             ]
            ],
            "type": "surface"
           }
          ],
          "table": [
           {
            "cells": {
             "fill": {
              "color": "#EBF0F8"
             },
             "line": {
              "color": "white"
             }
            },
            "header": {
             "fill": {
              "color": "#C8D4E3"
             },
             "line": {
              "color": "white"
             }
            },
            "type": "table"
           }
          ]
         },
         "layout": {
          "annotationdefaults": {
           "arrowcolor": "#2a3f5f",
           "arrowhead": 0,
           "arrowwidth": 1
          },
          "autotypenumbers": "strict",
          "coloraxis": {
           "colorbar": {
            "outlinewidth": 0,
            "ticks": ""
           }
          },
          "colorscale": {
           "diverging": [
            [
             0,
             "#8e0152"
            ],
            [
             0.1,
             "#c51b7d"
            ],
            [
             0.2,
             "#de77ae"
            ],
            [
             0.3,
             "#f1b6da"
            ],
            [
             0.4,
             "#fde0ef"
            ],
            [
             0.5,
             "#f7f7f7"
            ],
            [
             0.6,
             "#e6f5d0"
            ],
            [
             0.7,
             "#b8e186"
            ],
            [
             0.8,
             "#7fbc41"
            ],
            [
             0.9,
             "#4d9221"
            ],
            [
             1,
             "#276419"
            ]
           ],
           "sequential": [
            [
             0,
             "#0d0887"
            ],
            [
             0.1111111111111111,
             "#46039f"
            ],
            [
             0.2222222222222222,
             "#7201a8"
            ],
            [
             0.3333333333333333,
             "#9c179e"
            ],
            [
             0.4444444444444444,
             "#bd3786"
            ],
            [
             0.5555555555555556,
             "#d8576b"
            ],
            [
             0.6666666666666666,
             "#ed7953"
            ],
            [
             0.7777777777777778,
             "#fb9f3a"
            ],
            [
             0.8888888888888888,
             "#fdca26"
            ],
            [
             1,
             "#f0f921"
            ]
           ],
           "sequentialminus": [
            [
             0,
             "#0d0887"
            ],
            [
             0.1111111111111111,
             "#46039f"
            ],
            [
             0.2222222222222222,
             "#7201a8"
            ],
            [
             0.3333333333333333,
             "#9c179e"
            ],
            [
             0.4444444444444444,
             "#bd3786"
            ],
            [
             0.5555555555555556,
             "#d8576b"
            ],
            [
             0.6666666666666666,
             "#ed7953"
            ],
            [
             0.7777777777777778,
             "#fb9f3a"
            ],
            [
             0.8888888888888888,
             "#fdca26"
            ],
            [
             1,
             "#f0f921"
            ]
           ]
          },
          "colorway": [
           "#636efa",
           "#EF553B",
           "#00cc96",
           "#ab63fa",
           "#FFA15A",
           "#19d3f3",
           "#FF6692",
           "#B6E880",
           "#FF97FF",
           "#FECB52"
          ],
          "font": {
           "color": "#2a3f5f"
          },
          "geo": {
           "bgcolor": "white",
           "lakecolor": "white",
           "landcolor": "#E5ECF6",
           "showlakes": true,
           "showland": true,
           "subunitcolor": "white"
          },
          "hoverlabel": {
           "align": "left"
          },
          "hovermode": "closest",
          "mapbox": {
           "style": "light"
          },
          "paper_bgcolor": "white",
          "plot_bgcolor": "#E5ECF6",
          "polar": {
           "angularaxis": {
            "gridcolor": "white",
            "linecolor": "white",
            "ticks": ""
           },
           "bgcolor": "#E5ECF6",
           "radialaxis": {
            "gridcolor": "white",
            "linecolor": "white",
            "ticks": ""
           }
          },
          "scene": {
           "xaxis": {
            "backgroundcolor": "#E5ECF6",
            "gridcolor": "white",
            "gridwidth": 2,
            "linecolor": "white",
            "showbackground": true,
            "ticks": "",
            "zerolinecolor": "white"
           },
           "yaxis": {
            "backgroundcolor": "#E5ECF6",
            "gridcolor": "white",
            "gridwidth": 2,
            "linecolor": "white",
            "showbackground": true,
            "ticks": "",
            "zerolinecolor": "white"
           },
           "zaxis": {
            "backgroundcolor": "#E5ECF6",
            "gridcolor": "white",
            "gridwidth": 2,
            "linecolor": "white",
            "showbackground": true,
            "ticks": "",
            "zerolinecolor": "white"
           }
          },
          "shapedefaults": {
           "line": {
            "color": "#2a3f5f"
           }
          },
          "ternary": {
           "aaxis": {
            "gridcolor": "white",
            "linecolor": "white",
            "ticks": ""
           },
           "baxis": {
            "gridcolor": "white",
            "linecolor": "white",
            "ticks": ""
           },
           "bgcolor": "#E5ECF6",
           "caxis": {
            "gridcolor": "white",
            "linecolor": "white",
            "ticks": ""
           }
          },
          "title": {
           "x": 0.05
          },
          "xaxis": {
           "automargin": true,
           "gridcolor": "white",
           "linecolor": "white",
           "ticks": "",
           "title": {
            "standoff": 15
           },
           "zerolinecolor": "white",
           "zerolinewidth": 2
          },
          "yaxis": {
           "automargin": true,
           "gridcolor": "white",
           "linecolor": "white",
           "ticks": "",
           "title": {
            "standoff": 15
           },
           "zerolinecolor": "white",
           "zerolinewidth": 2
          }
         }
        },
        "title": {
         "text": "Sector wise Market price evaluation"
        },
        "xaxis": {
         "anchor": "y",
         "domain": [
          0,
          1
         ],
         "title": {
          "text": "Sector"
         }
        },
        "yaxis": {
         "anchor": "x",
         "domain": [
          0,
          1
         ],
         "title": {
          "text": "value"
         }
        }
       }
      },
      "text/html": [
       "<div>                            <div id=\"e0df81bc-adb6-40de-9012-994db3c43eab\" class=\"plotly-graph-div\" style=\"height:525px; width:100%;\"></div>            <script type=\"text/javascript\">                require([\"plotly\"], function(Plotly) {                    window.PLOTLYENV=window.PLOTLYENV || {};                                    if (document.getElementById(\"e0df81bc-adb6-40de-9012-994db3c43eab\")) {                    Plotly.newPlot(                        \"e0df81bc-adb6-40de-9012-994db3c43eab\",                        [{\"alignmentgroup\": \"True\", \"hovertemplate\": \"Sector=%{x}<br>value=%{y}<br>color=%{marker.color}<extra></extra>\", \"legendgroup\": \"\", \"marker\": {\"color\": [6727121800912.0, 3442649464852.0, 3197583610665.0, 3193496467613.0, 2282663378921.0, 1925663117062.0, 1289971015040.0, 692300259151.0, 625315677562.0, 611632638471.0, 453042743905.0], \"coloraxis\": \"coloraxis\"}, \"name\": \"\", \"offsetgroup\": \"\", \"orientation\": \"v\", \"showlegend\": false, \"textposition\": \"auto\", \"type\": \"bar\", \"x\": [\"Information Technology\", \"Financials\", \"Health Care\", \"Consumer Discretionary\", \"Industrials\", \"Consumer Staples\", \"Energy\", \"Materials\", \"Real Estate\", \"Utilities\", \"Telecommunication Services\"], \"xaxis\": \"x\", \"y\": [6727121800912.0, 3442649464852.0, 3197583610665.0, 3193496467613.0, 2282663378921.0, 1925663117062.0, 1289971015040.0, 692300259151.0, 625315677562.0, 611632638471.0, 453042743905.0], \"yaxis\": \"y\"}],                        {\"barmode\": \"relative\", \"coloraxis\": {\"colorbar\": {\"title\": {\"text\": \"color\"}}, \"colorscale\": [[0.0, \"#0d0887\"], [0.1111111111111111, \"#46039f\"], [0.2222222222222222, \"#7201a8\"], [0.3333333333333333, \"#9c179e\"], [0.4444444444444444, \"#bd3786\"], [0.5555555555555556, \"#d8576b\"], [0.6666666666666666, \"#ed7953\"], [0.7777777777777778, \"#fb9f3a\"], [0.8888888888888888, \"#fdca26\"], [1.0, \"#f0f921\"]]}, \"legend\": {\"tracegroupgap\": 0}, \"template\": {\"data\": {\"bar\": [{\"error_x\": {\"color\": \"#2a3f5f\"}, \"error_y\": {\"color\": \"#2a3f5f\"}, \"marker\": {\"line\": {\"color\": \"#E5ECF6\", \"width\": 0.5}}, \"type\": \"bar\"}], \"barpolar\": [{\"marker\": {\"line\": {\"color\": \"#E5ECF6\", \"width\": 0.5}}, \"type\": \"barpolar\"}], \"carpet\": [{\"aaxis\": {\"endlinecolor\": \"#2a3f5f\", \"gridcolor\": \"white\", \"linecolor\": \"white\", \"minorgridcolor\": \"white\", \"startlinecolor\": \"#2a3f5f\"}, \"baxis\": {\"endlinecolor\": \"#2a3f5f\", \"gridcolor\": \"white\", \"linecolor\": \"white\", \"minorgridcolor\": \"white\", \"startlinecolor\": \"#2a3f5f\"}, \"type\": \"carpet\"}], \"choropleth\": [{\"colorbar\": {\"outlinewidth\": 0, \"ticks\": \"\"}, \"type\": \"choropleth\"}], \"contour\": [{\"colorbar\": {\"outlinewidth\": 0, \"ticks\": \"\"}, \"colorscale\": [[0.0, \"#0d0887\"], [0.1111111111111111, \"#46039f\"], [0.2222222222222222, \"#7201a8\"], [0.3333333333333333, \"#9c179e\"], [0.4444444444444444, \"#bd3786\"], [0.5555555555555556, \"#d8576b\"], [0.6666666666666666, \"#ed7953\"], [0.7777777777777778, \"#fb9f3a\"], [0.8888888888888888, \"#fdca26\"], [1.0, \"#f0f921\"]], \"type\": \"contour\"}], \"contourcarpet\": [{\"colorbar\": {\"outlinewidth\": 0, \"ticks\": \"\"}, \"type\": \"contourcarpet\"}], \"heatmap\": [{\"colorbar\": {\"outlinewidth\": 0, \"ticks\": \"\"}, \"colorscale\": [[0.0, \"#0d0887\"], [0.1111111111111111, \"#46039f\"], [0.2222222222222222, \"#7201a8\"], [0.3333333333333333, \"#9c179e\"], [0.4444444444444444, \"#bd3786\"], [0.5555555555555556, \"#d8576b\"], [0.6666666666666666, \"#ed7953\"], [0.7777777777777778, \"#fb9f3a\"], [0.8888888888888888, \"#fdca26\"], [1.0, \"#f0f921\"]], \"type\": \"heatmap\"}], \"heatmapgl\": [{\"colorbar\": {\"outlinewidth\": 0, \"ticks\": \"\"}, \"colorscale\": [[0.0, \"#0d0887\"], [0.1111111111111111, \"#46039f\"], [0.2222222222222222, \"#7201a8\"], [0.3333333333333333, \"#9c179e\"], [0.4444444444444444, \"#bd3786\"], [0.5555555555555556, \"#d8576b\"], [0.6666666666666666, \"#ed7953\"], [0.7777777777777778, \"#fb9f3a\"], [0.8888888888888888, \"#fdca26\"], [1.0, \"#f0f921\"]], \"type\": \"heatmapgl\"}], \"histogram\": [{\"marker\": {\"colorbar\": {\"outlinewidth\": 0, \"ticks\": \"\"}}, \"type\": \"histogram\"}], \"histogram2d\": [{\"colorbar\": {\"outlinewidth\": 0, \"ticks\": \"\"}, \"colorscale\": [[0.0, \"#0d0887\"], [0.1111111111111111, \"#46039f\"], [0.2222222222222222, \"#7201a8\"], [0.3333333333333333, \"#9c179e\"], [0.4444444444444444, \"#bd3786\"], [0.5555555555555556, \"#d8576b\"], [0.6666666666666666, \"#ed7953\"], [0.7777777777777778, \"#fb9f3a\"], [0.8888888888888888, \"#fdca26\"], [1.0, \"#f0f921\"]], \"type\": \"histogram2d\"}], \"histogram2dcontour\": [{\"colorbar\": {\"outlinewidth\": 0, \"ticks\": \"\"}, \"colorscale\": [[0.0, \"#0d0887\"], [0.1111111111111111, \"#46039f\"], [0.2222222222222222, \"#7201a8\"], [0.3333333333333333, \"#9c179e\"], [0.4444444444444444, \"#bd3786\"], [0.5555555555555556, \"#d8576b\"], [0.6666666666666666, \"#ed7953\"], [0.7777777777777778, \"#fb9f3a\"], [0.8888888888888888, \"#fdca26\"], [1.0, \"#f0f921\"]], \"type\": \"histogram2dcontour\"}], \"mesh3d\": [{\"colorbar\": {\"outlinewidth\": 0, \"ticks\": \"\"}, \"type\": \"mesh3d\"}], \"parcoords\": [{\"line\": {\"colorbar\": {\"outlinewidth\": 0, \"ticks\": \"\"}}, \"type\": \"parcoords\"}], \"pie\": [{\"automargin\": true, \"type\": \"pie\"}], \"scatter\": [{\"marker\": {\"colorbar\": {\"outlinewidth\": 0, \"ticks\": \"\"}}, \"type\": \"scatter\"}], \"scatter3d\": [{\"line\": {\"colorbar\": {\"outlinewidth\": 0, \"ticks\": \"\"}}, \"marker\": {\"colorbar\": {\"outlinewidth\": 0, \"ticks\": \"\"}}, \"type\": \"scatter3d\"}], \"scattercarpet\": [{\"marker\": {\"colorbar\": {\"outlinewidth\": 0, \"ticks\": \"\"}}, \"type\": \"scattercarpet\"}], \"scattergeo\": [{\"marker\": {\"colorbar\": {\"outlinewidth\": 0, \"ticks\": \"\"}}, \"type\": \"scattergeo\"}], \"scattergl\": [{\"marker\": {\"colorbar\": {\"outlinewidth\": 0, \"ticks\": \"\"}}, \"type\": \"scattergl\"}], \"scattermapbox\": [{\"marker\": {\"colorbar\": {\"outlinewidth\": 0, \"ticks\": \"\"}}, \"type\": \"scattermapbox\"}], \"scatterpolar\": [{\"marker\": {\"colorbar\": {\"outlinewidth\": 0, \"ticks\": \"\"}}, \"type\": \"scatterpolar\"}], \"scatterpolargl\": [{\"marker\": {\"colorbar\": {\"outlinewidth\": 0, \"ticks\": \"\"}}, \"type\": \"scatterpolargl\"}], \"scatterternary\": [{\"marker\": {\"colorbar\": {\"outlinewidth\": 0, \"ticks\": \"\"}}, \"type\": \"scatterternary\"}], \"surface\": [{\"colorbar\": {\"outlinewidth\": 0, \"ticks\": \"\"}, \"colorscale\": [[0.0, \"#0d0887\"], [0.1111111111111111, \"#46039f\"], [0.2222222222222222, \"#7201a8\"], [0.3333333333333333, \"#9c179e\"], [0.4444444444444444, \"#bd3786\"], [0.5555555555555556, \"#d8576b\"], [0.6666666666666666, \"#ed7953\"], [0.7777777777777778, \"#fb9f3a\"], [0.8888888888888888, \"#fdca26\"], [1.0, \"#f0f921\"]], \"type\": \"surface\"}], \"table\": [{\"cells\": {\"fill\": {\"color\": \"#EBF0F8\"}, \"line\": {\"color\": \"white\"}}, \"header\": {\"fill\": {\"color\": \"#C8D4E3\"}, \"line\": {\"color\": \"white\"}}, \"type\": \"table\"}]}, \"layout\": {\"annotationdefaults\": {\"arrowcolor\": \"#2a3f5f\", \"arrowhead\": 0, \"arrowwidth\": 1}, \"autotypenumbers\": \"strict\", \"coloraxis\": {\"colorbar\": {\"outlinewidth\": 0, \"ticks\": \"\"}}, \"colorscale\": {\"diverging\": [[0, \"#8e0152\"], [0.1, \"#c51b7d\"], [0.2, \"#de77ae\"], [0.3, \"#f1b6da\"], [0.4, \"#fde0ef\"], [0.5, \"#f7f7f7\"], [0.6, \"#e6f5d0\"], [0.7, \"#b8e186\"], [0.8, \"#7fbc41\"], [0.9, \"#4d9221\"], [1, \"#276419\"]], \"sequential\": [[0.0, \"#0d0887\"], [0.1111111111111111, \"#46039f\"], [0.2222222222222222, \"#7201a8\"], [0.3333333333333333, \"#9c179e\"], [0.4444444444444444, \"#bd3786\"], [0.5555555555555556, \"#d8576b\"], [0.6666666666666666, \"#ed7953\"], [0.7777777777777778, \"#fb9f3a\"], [0.8888888888888888, \"#fdca26\"], [1.0, \"#f0f921\"]], \"sequentialminus\": [[0.0, \"#0d0887\"], [0.1111111111111111, \"#46039f\"], [0.2222222222222222, \"#7201a8\"], [0.3333333333333333, \"#9c179e\"], [0.4444444444444444, \"#bd3786\"], [0.5555555555555556, \"#d8576b\"], [0.6666666666666666, \"#ed7953\"], [0.7777777777777778, \"#fb9f3a\"], [0.8888888888888888, \"#fdca26\"], [1.0, \"#f0f921\"]]}, \"colorway\": [\"#636efa\", \"#EF553B\", \"#00cc96\", \"#ab63fa\", \"#FFA15A\", \"#19d3f3\", \"#FF6692\", \"#B6E880\", \"#FF97FF\", \"#FECB52\"], \"font\": {\"color\": \"#2a3f5f\"}, \"geo\": {\"bgcolor\": \"white\", \"lakecolor\": \"white\", \"landcolor\": \"#E5ECF6\", \"showlakes\": true, \"showland\": true, \"subunitcolor\": \"white\"}, \"hoverlabel\": {\"align\": \"left\"}, \"hovermode\": \"closest\", \"mapbox\": {\"style\": \"light\"}, \"paper_bgcolor\": \"white\", \"plot_bgcolor\": \"#E5ECF6\", \"polar\": {\"angularaxis\": {\"gridcolor\": \"white\", \"linecolor\": \"white\", \"ticks\": \"\"}, \"bgcolor\": \"#E5ECF6\", \"radialaxis\": {\"gridcolor\": \"white\", \"linecolor\": \"white\", \"ticks\": \"\"}}, \"scene\": {\"xaxis\": {\"backgroundcolor\": \"#E5ECF6\", \"gridcolor\": \"white\", \"gridwidth\": 2, \"linecolor\": \"white\", \"showbackground\": true, \"ticks\": \"\", \"zerolinecolor\": \"white\"}, \"yaxis\": {\"backgroundcolor\": \"#E5ECF6\", \"gridcolor\": \"white\", \"gridwidth\": 2, \"linecolor\": \"white\", \"showbackground\": true, \"ticks\": \"\", \"zerolinecolor\": \"white\"}, \"zaxis\": {\"backgroundcolor\": \"#E5ECF6\", \"gridcolor\": \"white\", \"gridwidth\": 2, \"linecolor\": \"white\", \"showbackground\": true, \"ticks\": \"\", \"zerolinecolor\": \"white\"}}, \"shapedefaults\": {\"line\": {\"color\": \"#2a3f5f\"}}, \"ternary\": {\"aaxis\": {\"gridcolor\": \"white\", \"linecolor\": \"white\", \"ticks\": \"\"}, \"baxis\": {\"gridcolor\": \"white\", \"linecolor\": \"white\", \"ticks\": \"\"}, \"bgcolor\": \"#E5ECF6\", \"caxis\": {\"gridcolor\": \"white\", \"linecolor\": \"white\", \"ticks\": \"\"}}, \"title\": {\"x\": 0.05}, \"xaxis\": {\"automargin\": true, \"gridcolor\": \"white\", \"linecolor\": \"white\", \"ticks\": \"\", \"title\": {\"standoff\": 15}, \"zerolinecolor\": \"white\", \"zerolinewidth\": 2}, \"yaxis\": {\"automargin\": true, \"gridcolor\": \"white\", \"linecolor\": \"white\", \"ticks\": \"\", \"title\": {\"standoff\": 15}, \"zerolinecolor\": \"white\", \"zerolinewidth\": 2}}}, \"title\": {\"text\": \"Sector wise Market price evaluation\"}, \"xaxis\": {\"anchor\": \"y\", \"domain\": [0.0, 1.0], \"title\": {\"text\": \"Sector\"}}, \"yaxis\": {\"anchor\": \"x\", \"domain\": [0.0, 1.0], \"title\": {\"text\": \"value\"}}},                        {\"responsive\": true}                    ).then(function(){\n",
       "                            \n",
       "var gd = document.getElementById('e0df81bc-adb6-40de-9012-994db3c43eab');\n",
       "var x = new MutationObserver(function (mutations, observer) {{\n",
       "        var display = window.getComputedStyle(gd).display;\n",
       "        if (!display || display === 'none') {{\n",
       "            console.log([gd, 'removed!']);\n",
       "            Plotly.purge(gd);\n",
       "            observer.disconnect();\n",
       "        }}\n",
       "}});\n",
       "\n",
       "// Listen for the removal of the full notebook cells\n",
       "var notebookContainer = gd.closest('#notebook-container');\n",
       "if (notebookContainer) {{\n",
       "    x.observe(notebookContainer, {childList: true});\n",
       "}}\n",
       "\n",
       "// Listen for the clearing of the current output cell\n",
       "var outputEl = gd.closest('.output');\n",
       "if (outputEl) {{\n",
       "    x.observe(outputEl, {childList: true});\n",
       "}}\n",
       "\n",
       "                        })                };                });            </script>        </div>"
      ]
     },
     "metadata": {},
     "output_type": "display_data"
    }
   ],
   "source": [
    "fig1=px.bar(mkt,\n",
    "      title='Sector wise Market price evaluation',color=mkt.values);\n",
    "fig1\n",
    "# highlight the max"
   ]
  },
  {
   "cell_type": "markdown",
   "metadata": {},
   "source": [
    "#### 6. Evaluating the sector wise average share price.\n",
    " - This graph shows that the average share price is more in Health care sector"
   ]
  },
  {
   "cell_type": "code",
   "execution_count": 338,
   "metadata": {},
   "outputs": [
    {
     "data": {
      "text/plain": [
       "Sector\n",
       "Consumer Discretionary        125.904512\n",
       "Consumer Staples               78.843333\n",
       "Energy                         58.941667\n",
       "Financials                     89.056029\n",
       "Health Care                   133.950000\n",
       "Industrials                   115.611875\n",
       "Information Technology        119.242857\n",
       "Materials                     102.386800\n",
       "Real Estate                    88.712727\n",
       "Telecommunication Services     33.603333\n",
       "Utilities                      55.194643\n",
       "Name: Price, dtype: float64"
      ]
     },
     "execution_count": 338,
     "metadata": {},
     "output_type": "execute_result"
    }
   ],
   "source": [
    "mn=data.groupby('Sector')['Price'].mean()\n",
    "mn"
   ]
  },
  {
   "cell_type": "code",
   "execution_count": 363,
   "metadata": {},
   "outputs": [
    {
     "data": {
      "application/vnd.plotly.v1+json": {
       "config": {
        "plotlyServerURL": "https://plot.ly"
       },
       "data": [
        {
         "alignmentgroup": "True",
         "hovertemplate": "Sector=%{x}<br>value=%{y}<br>text=%{text}<br>color=%{marker.color}<extra></extra>",
         "legendgroup": "",
         "marker": {
          "color": [
           125.90451219512198,
           78.84333333333333,
           58.94166666666668,
           89.05602941176471,
           133.95,
           115.61187499999998,
           119.24285714285712,
           102.38679999999998,
           88.71272727272726,
           33.60333333333333,
           55.19464285714286
          ],
          "coloraxis": "coloraxis"
         },
         "name": "",
         "offsetgroup": "",
         "orientation": "v",
         "showlegend": false,
         "text": [
          125.9,
          78.84,
          58.94,
          89.06,
          133.95,
          115.61,
          119.24,
          102.39,
          88.71,
          33.6,
          55.19
         ],
         "textposition": "outside",
         "type": "bar",
         "x": [
          "Consumer Discretionary",
          "Consumer Staples",
          "Energy",
          "Financials",
          "Health Care",
          "Industrials",
          "Information Technology",
          "Materials",
          "Real Estate",
          "Telecommunication Services",
          "Utilities"
         ],
         "xaxis": "x",
         "y": [
          125.90451219512198,
          78.84333333333333,
          58.94166666666668,
          89.05602941176471,
          133.95,
          115.61187499999998,
          119.24285714285712,
          102.38679999999998,
          88.71272727272726,
          33.60333333333333,
          55.19464285714286
         ],
         "yaxis": "y"
        }
       ],
       "layout": {
        "barmode": "relative",
        "coloraxis": {
         "colorbar": {
          "title": {
           "text": "color"
          }
         },
         "colorscale": [
          [
           0,
           "rgb(228, 241, 225)"
          ],
          [
           0.16666666666666666,
           "rgb(180, 217, 204)"
          ],
          [
           0.3333333333333333,
           "rgb(137, 192, 182)"
          ],
          [
           0.5,
           "rgb(99, 166, 160)"
          ],
          [
           0.6666666666666666,
           "rgb(68, 140, 138)"
          ],
          [
           0.8333333333333334,
           "rgb(40, 114, 116)"
          ],
          [
           1,
           "rgb(13, 88, 95)"
          ]
         ]
        },
        "legend": {
         "tracegroupgap": 0
        },
        "template": {
         "data": {
          "bar": [
           {
            "error_x": {
             "color": "#2a3f5f"
            },
            "error_y": {
             "color": "#2a3f5f"
            },
            "marker": {
             "line": {
              "color": "#E5ECF6",
              "width": 0.5
             }
            },
            "type": "bar"
           }
          ],
          "barpolar": [
           {
            "marker": {
             "line": {
              "color": "#E5ECF6",
              "width": 0.5
             }
            },
            "type": "barpolar"
           }
          ],
          "carpet": [
           {
            "aaxis": {
             "endlinecolor": "#2a3f5f",
             "gridcolor": "white",
             "linecolor": "white",
             "minorgridcolor": "white",
             "startlinecolor": "#2a3f5f"
            },
            "baxis": {
             "endlinecolor": "#2a3f5f",
             "gridcolor": "white",
             "linecolor": "white",
             "minorgridcolor": "white",
             "startlinecolor": "#2a3f5f"
            },
            "type": "carpet"
           }
          ],
          "choropleth": [
           {
            "colorbar": {
             "outlinewidth": 0,
             "ticks": ""
            },
            "type": "choropleth"
           }
          ],
          "contour": [
           {
            "colorbar": {
             "outlinewidth": 0,
             "ticks": ""
            },
            "colorscale": [
             [
              0,
              "#0d0887"
             ],
             [
              0.1111111111111111,
              "#46039f"
             ],
             [
              0.2222222222222222,
              "#7201a8"
             ],
             [
              0.3333333333333333,
              "#9c179e"
             ],
             [
              0.4444444444444444,
              "#bd3786"
             ],
             [
              0.5555555555555556,
              "#d8576b"
             ],
             [
              0.6666666666666666,
              "#ed7953"
             ],
             [
              0.7777777777777778,
              "#fb9f3a"
             ],
             [
              0.8888888888888888,
              "#fdca26"
             ],
             [
              1,
              "#f0f921"
             ]
            ],
            "type": "contour"
           }
          ],
          "contourcarpet": [
           {
            "colorbar": {
             "outlinewidth": 0,
             "ticks": ""
            },
            "type": "contourcarpet"
           }
          ],
          "heatmap": [
           {
            "colorbar": {
             "outlinewidth": 0,
             "ticks": ""
            },
            "colorscale": [
             [
              0,
              "#0d0887"
             ],
             [
              0.1111111111111111,
              "#46039f"
             ],
             [
              0.2222222222222222,
              "#7201a8"
             ],
             [
              0.3333333333333333,
              "#9c179e"
             ],
             [
              0.4444444444444444,
              "#bd3786"
             ],
             [
              0.5555555555555556,
              "#d8576b"
             ],
             [
              0.6666666666666666,
              "#ed7953"
             ],
             [
              0.7777777777777778,
              "#fb9f3a"
             ],
             [
              0.8888888888888888,
              "#fdca26"
             ],
             [
              1,
              "#f0f921"
             ]
            ],
            "type": "heatmap"
           }
          ],
          "heatmapgl": [
           {
            "colorbar": {
             "outlinewidth": 0,
             "ticks": ""
            },
            "colorscale": [
             [
              0,
              "#0d0887"
             ],
             [
              0.1111111111111111,
              "#46039f"
             ],
             [
              0.2222222222222222,
              "#7201a8"
             ],
             [
              0.3333333333333333,
              "#9c179e"
             ],
             [
              0.4444444444444444,
              "#bd3786"
             ],
             [
              0.5555555555555556,
              "#d8576b"
             ],
             [
              0.6666666666666666,
              "#ed7953"
             ],
             [
              0.7777777777777778,
              "#fb9f3a"
             ],
             [
              0.8888888888888888,
              "#fdca26"
             ],
             [
              1,
              "#f0f921"
             ]
            ],
            "type": "heatmapgl"
           }
          ],
          "histogram": [
           {
            "marker": {
             "colorbar": {
              "outlinewidth": 0,
              "ticks": ""
             }
            },
            "type": "histogram"
           }
          ],
          "histogram2d": [
           {
            "colorbar": {
             "outlinewidth": 0,
             "ticks": ""
            },
            "colorscale": [
             [
              0,
              "#0d0887"
             ],
             [
              0.1111111111111111,
              "#46039f"
             ],
             [
              0.2222222222222222,
              "#7201a8"
             ],
             [
              0.3333333333333333,
              "#9c179e"
             ],
             [
              0.4444444444444444,
              "#bd3786"
             ],
             [
              0.5555555555555556,
              "#d8576b"
             ],
             [
              0.6666666666666666,
              "#ed7953"
             ],
             [
              0.7777777777777778,
              "#fb9f3a"
             ],
             [
              0.8888888888888888,
              "#fdca26"
             ],
             [
              1,
              "#f0f921"
             ]
            ],
            "type": "histogram2d"
           }
          ],
          "histogram2dcontour": [
           {
            "colorbar": {
             "outlinewidth": 0,
             "ticks": ""
            },
            "colorscale": [
             [
              0,
              "#0d0887"
             ],
             [
              0.1111111111111111,
              "#46039f"
             ],
             [
              0.2222222222222222,
              "#7201a8"
             ],
             [
              0.3333333333333333,
              "#9c179e"
             ],
             [
              0.4444444444444444,
              "#bd3786"
             ],
             [
              0.5555555555555556,
              "#d8576b"
             ],
             [
              0.6666666666666666,
              "#ed7953"
             ],
             [
              0.7777777777777778,
              "#fb9f3a"
             ],
             [
              0.8888888888888888,
              "#fdca26"
             ],
             [
              1,
              "#f0f921"
             ]
            ],
            "type": "histogram2dcontour"
           }
          ],
          "mesh3d": [
           {
            "colorbar": {
             "outlinewidth": 0,
             "ticks": ""
            },
            "type": "mesh3d"
           }
          ],
          "parcoords": [
           {
            "line": {
             "colorbar": {
              "outlinewidth": 0,
              "ticks": ""
             }
            },
            "type": "parcoords"
           }
          ],
          "pie": [
           {
            "automargin": true,
            "type": "pie"
           }
          ],
          "scatter": [
           {
            "marker": {
             "colorbar": {
              "outlinewidth": 0,
              "ticks": ""
             }
            },
            "type": "scatter"
           }
          ],
          "scatter3d": [
           {
            "line": {
             "colorbar": {
              "outlinewidth": 0,
              "ticks": ""
             }
            },
            "marker": {
             "colorbar": {
              "outlinewidth": 0,
              "ticks": ""
             }
            },
            "type": "scatter3d"
           }
          ],
          "scattercarpet": [
           {
            "marker": {
             "colorbar": {
              "outlinewidth": 0,
              "ticks": ""
             }
            },
            "type": "scattercarpet"
           }
          ],
          "scattergeo": [
           {
            "marker": {
             "colorbar": {
              "outlinewidth": 0,
              "ticks": ""
             }
            },
            "type": "scattergeo"
           }
          ],
          "scattergl": [
           {
            "marker": {
             "colorbar": {
              "outlinewidth": 0,
              "ticks": ""
             }
            },
            "type": "scattergl"
           }
          ],
          "scattermapbox": [
           {
            "marker": {
             "colorbar": {
              "outlinewidth": 0,
              "ticks": ""
             }
            },
            "type": "scattermapbox"
           }
          ],
          "scatterpolar": [
           {
            "marker": {
             "colorbar": {
              "outlinewidth": 0,
              "ticks": ""
             }
            },
            "type": "scatterpolar"
           }
          ],
          "scatterpolargl": [
           {
            "marker": {
             "colorbar": {
              "outlinewidth": 0,
              "ticks": ""
             }
            },
            "type": "scatterpolargl"
           }
          ],
          "scatterternary": [
           {
            "marker": {
             "colorbar": {
              "outlinewidth": 0,
              "ticks": ""
             }
            },
            "type": "scatterternary"
           }
          ],
          "surface": [
           {
            "colorbar": {
             "outlinewidth": 0,
             "ticks": ""
            },
            "colorscale": [
             [
              0,
              "#0d0887"
             ],
             [
              0.1111111111111111,
              "#46039f"
             ],
             [
              0.2222222222222222,
              "#7201a8"
             ],
             [
              0.3333333333333333,
              "#9c179e"
             ],
             [
              0.4444444444444444,
              "#bd3786"
             ],
             [
              0.5555555555555556,
              "#d8576b"
             ],
             [
              0.6666666666666666,
              "#ed7953"
             ],
             [
              0.7777777777777778,
              "#fb9f3a"
             ],
             [
              0.8888888888888888,
              "#fdca26"
             ],
             [
              1,
              "#f0f921"
             ]
            ],
            "type": "surface"
           }
          ],
          "table": [
           {
            "cells": {
             "fill": {
              "color": "#EBF0F8"
             },
             "line": {
              "color": "white"
             }
            },
            "header": {
             "fill": {
              "color": "#C8D4E3"
             },
             "line": {
              "color": "white"
             }
            },
            "type": "table"
           }
          ]
         },
         "layout": {
          "annotationdefaults": {
           "arrowcolor": "#2a3f5f",
           "arrowhead": 0,
           "arrowwidth": 1
          },
          "autotypenumbers": "strict",
          "coloraxis": {
           "colorbar": {
            "outlinewidth": 0,
            "ticks": ""
           }
          },
          "colorscale": {
           "diverging": [
            [
             0,
             "#8e0152"
            ],
            [
             0.1,
             "#c51b7d"
            ],
            [
             0.2,
             "#de77ae"
            ],
            [
             0.3,
             "#f1b6da"
            ],
            [
             0.4,
             "#fde0ef"
            ],
            [
             0.5,
             "#f7f7f7"
            ],
            [
             0.6,
             "#e6f5d0"
            ],
            [
             0.7,
             "#b8e186"
            ],
            [
             0.8,
             "#7fbc41"
            ],
            [
             0.9,
             "#4d9221"
            ],
            [
             1,
             "#276419"
            ]
           ],
           "sequential": [
            [
             0,
             "#0d0887"
            ],
            [
             0.1111111111111111,
             "#46039f"
            ],
            [
             0.2222222222222222,
             "#7201a8"
            ],
            [
             0.3333333333333333,
             "#9c179e"
            ],
            [
             0.4444444444444444,
             "#bd3786"
            ],
            [
             0.5555555555555556,
             "#d8576b"
            ],
            [
             0.6666666666666666,
             "#ed7953"
            ],
            [
             0.7777777777777778,
             "#fb9f3a"
            ],
            [
             0.8888888888888888,
             "#fdca26"
            ],
            [
             1,
             "#f0f921"
            ]
           ],
           "sequentialminus": [
            [
             0,
             "#0d0887"
            ],
            [
             0.1111111111111111,
             "#46039f"
            ],
            [
             0.2222222222222222,
             "#7201a8"
            ],
            [
             0.3333333333333333,
             "#9c179e"
            ],
            [
             0.4444444444444444,
             "#bd3786"
            ],
            [
             0.5555555555555556,
             "#d8576b"
            ],
            [
             0.6666666666666666,
             "#ed7953"
            ],
            [
             0.7777777777777778,
             "#fb9f3a"
            ],
            [
             0.8888888888888888,
             "#fdca26"
            ],
            [
             1,
             "#f0f921"
            ]
           ]
          },
          "colorway": [
           "#636efa",
           "#EF553B",
           "#00cc96",
           "#ab63fa",
           "#FFA15A",
           "#19d3f3",
           "#FF6692",
           "#B6E880",
           "#FF97FF",
           "#FECB52"
          ],
          "font": {
           "color": "#2a3f5f"
          },
          "geo": {
           "bgcolor": "white",
           "lakecolor": "white",
           "landcolor": "#E5ECF6",
           "showlakes": true,
           "showland": true,
           "subunitcolor": "white"
          },
          "hoverlabel": {
           "align": "left"
          },
          "hovermode": "closest",
          "mapbox": {
           "style": "light"
          },
          "paper_bgcolor": "white",
          "plot_bgcolor": "#E5ECF6",
          "polar": {
           "angularaxis": {
            "gridcolor": "white",
            "linecolor": "white",
            "ticks": ""
           },
           "bgcolor": "#E5ECF6",
           "radialaxis": {
            "gridcolor": "white",
            "linecolor": "white",
            "ticks": ""
           }
          },
          "scene": {
           "xaxis": {
            "backgroundcolor": "#E5ECF6",
            "gridcolor": "white",
            "gridwidth": 2,
            "linecolor": "white",
            "showbackground": true,
            "ticks": "",
            "zerolinecolor": "white"
           },
           "yaxis": {
            "backgroundcolor": "#E5ECF6",
            "gridcolor": "white",
            "gridwidth": 2,
            "linecolor": "white",
            "showbackground": true,
            "ticks": "",
            "zerolinecolor": "white"
           },
           "zaxis": {
            "backgroundcolor": "#E5ECF6",
            "gridcolor": "white",
            "gridwidth": 2,
            "linecolor": "white",
            "showbackground": true,
            "ticks": "",
            "zerolinecolor": "white"
           }
          },
          "shapedefaults": {
           "line": {
            "color": "#2a3f5f"
           }
          },
          "ternary": {
           "aaxis": {
            "gridcolor": "white",
            "linecolor": "white",
            "ticks": ""
           },
           "baxis": {
            "gridcolor": "white",
            "linecolor": "white",
            "ticks": ""
           },
           "bgcolor": "#E5ECF6",
           "caxis": {
            "gridcolor": "white",
            "linecolor": "white",
            "ticks": ""
           }
          },
          "title": {
           "x": 0.05
          },
          "xaxis": {
           "automargin": true,
           "gridcolor": "white",
           "linecolor": "white",
           "ticks": "",
           "title": {
            "standoff": 15
           },
           "zerolinecolor": "white",
           "zerolinewidth": 2
          },
          "yaxis": {
           "automargin": true,
           "gridcolor": "white",
           "linecolor": "white",
           "ticks": "",
           "title": {
            "standoff": 15
           },
           "zerolinecolor": "white",
           "zerolinewidth": 2
          }
         }
        },
        "title": {
         "text": "Sector wise share price evaluation"
        },
        "uniformtext": {
         "minsize": 8,
         "mode": "hide"
        },
        "xaxis": {
         "anchor": "y",
         "domain": [
          0,
          1
         ],
         "title": {
          "text": "Sector"
         }
        },
        "yaxis": {
         "anchor": "x",
         "domain": [
          0,
          1
         ],
         "title": {
          "text": "value"
         }
        }
       }
      },
      "text/html": [
       "<div>                            <div id=\"347fbde9-24be-4a64-97d7-cb703993bcd7\" class=\"plotly-graph-div\" style=\"height:525px; width:100%;\"></div>            <script type=\"text/javascript\">                require([\"plotly\"], function(Plotly) {                    window.PLOTLYENV=window.PLOTLYENV || {};                                    if (document.getElementById(\"347fbde9-24be-4a64-97d7-cb703993bcd7\")) {                    Plotly.newPlot(                        \"347fbde9-24be-4a64-97d7-cb703993bcd7\",                        [{\"alignmentgroup\": \"True\", \"hovertemplate\": \"Sector=%{x}<br>value=%{y}<br>text=%{text}<br>color=%{marker.color}<extra></extra>\", \"legendgroup\": \"\", \"marker\": {\"color\": [125.90451219512198, 78.84333333333333, 58.94166666666668, 89.05602941176471, 133.95, 115.61187499999998, 119.24285714285712, 102.38679999999998, 88.71272727272726, 33.60333333333333, 55.19464285714286], \"coloraxis\": \"coloraxis\"}, \"name\": \"\", \"offsetgroup\": \"\", \"orientation\": \"v\", \"showlegend\": false, \"text\": [125.9, 78.84, 58.94, 89.06, 133.95, 115.61, 119.24, 102.39, 88.71, 33.6, 55.19], \"textposition\": \"outside\", \"type\": \"bar\", \"x\": [\"Consumer Discretionary\", \"Consumer Staples\", \"Energy\", \"Financials\", \"Health Care\", \"Industrials\", \"Information Technology\", \"Materials\", \"Real Estate\", \"Telecommunication Services\", \"Utilities\"], \"xaxis\": \"x\", \"y\": [125.90451219512198, 78.84333333333333, 58.94166666666668, 89.05602941176471, 133.95, 115.61187499999998, 119.24285714285712, 102.38679999999998, 88.71272727272726, 33.60333333333333, 55.19464285714286], \"yaxis\": \"y\"}],                        {\"barmode\": \"relative\", \"coloraxis\": {\"colorbar\": {\"title\": {\"text\": \"color\"}}, \"colorscale\": [[0.0, \"rgb(228, 241, 225)\"], [0.16666666666666666, \"rgb(180, 217, 204)\"], [0.3333333333333333, \"rgb(137, 192, 182)\"], [0.5, \"rgb(99, 166, 160)\"], [0.6666666666666666, \"rgb(68, 140, 138)\"], [0.8333333333333334, \"rgb(40, 114, 116)\"], [1.0, \"rgb(13, 88, 95)\"]]}, \"legend\": {\"tracegroupgap\": 0}, \"template\": {\"data\": {\"bar\": [{\"error_x\": {\"color\": \"#2a3f5f\"}, \"error_y\": {\"color\": \"#2a3f5f\"}, \"marker\": {\"line\": {\"color\": \"#E5ECF6\", \"width\": 0.5}}, \"type\": \"bar\"}], \"barpolar\": [{\"marker\": {\"line\": {\"color\": \"#E5ECF6\", \"width\": 0.5}}, \"type\": \"barpolar\"}], \"carpet\": [{\"aaxis\": {\"endlinecolor\": \"#2a3f5f\", \"gridcolor\": \"white\", \"linecolor\": \"white\", \"minorgridcolor\": \"white\", \"startlinecolor\": \"#2a3f5f\"}, \"baxis\": {\"endlinecolor\": \"#2a3f5f\", \"gridcolor\": \"white\", \"linecolor\": \"white\", \"minorgridcolor\": \"white\", \"startlinecolor\": \"#2a3f5f\"}, \"type\": \"carpet\"}], \"choropleth\": [{\"colorbar\": {\"outlinewidth\": 0, \"ticks\": \"\"}, \"type\": \"choropleth\"}], \"contour\": [{\"colorbar\": {\"outlinewidth\": 0, \"ticks\": \"\"}, \"colorscale\": [[0.0, \"#0d0887\"], [0.1111111111111111, \"#46039f\"], [0.2222222222222222, \"#7201a8\"], [0.3333333333333333, \"#9c179e\"], [0.4444444444444444, \"#bd3786\"], [0.5555555555555556, \"#d8576b\"], [0.6666666666666666, \"#ed7953\"], [0.7777777777777778, \"#fb9f3a\"], [0.8888888888888888, \"#fdca26\"], [1.0, \"#f0f921\"]], \"type\": \"contour\"}], \"contourcarpet\": [{\"colorbar\": {\"outlinewidth\": 0, \"ticks\": \"\"}, \"type\": \"contourcarpet\"}], \"heatmap\": [{\"colorbar\": {\"outlinewidth\": 0, \"ticks\": \"\"}, \"colorscale\": [[0.0, \"#0d0887\"], [0.1111111111111111, \"#46039f\"], [0.2222222222222222, \"#7201a8\"], [0.3333333333333333, \"#9c179e\"], [0.4444444444444444, \"#bd3786\"], [0.5555555555555556, \"#d8576b\"], [0.6666666666666666, \"#ed7953\"], [0.7777777777777778, \"#fb9f3a\"], [0.8888888888888888, \"#fdca26\"], [1.0, \"#f0f921\"]], \"type\": \"heatmap\"}], \"heatmapgl\": [{\"colorbar\": {\"outlinewidth\": 0, \"ticks\": \"\"}, \"colorscale\": [[0.0, \"#0d0887\"], [0.1111111111111111, \"#46039f\"], [0.2222222222222222, \"#7201a8\"], [0.3333333333333333, \"#9c179e\"], [0.4444444444444444, \"#bd3786\"], [0.5555555555555556, \"#d8576b\"], [0.6666666666666666, \"#ed7953\"], [0.7777777777777778, \"#fb9f3a\"], [0.8888888888888888, \"#fdca26\"], [1.0, \"#f0f921\"]], \"type\": \"heatmapgl\"}], \"histogram\": [{\"marker\": {\"colorbar\": {\"outlinewidth\": 0, \"ticks\": \"\"}}, \"type\": \"histogram\"}], \"histogram2d\": [{\"colorbar\": {\"outlinewidth\": 0, \"ticks\": \"\"}, \"colorscale\": [[0.0, \"#0d0887\"], [0.1111111111111111, \"#46039f\"], [0.2222222222222222, \"#7201a8\"], [0.3333333333333333, \"#9c179e\"], [0.4444444444444444, \"#bd3786\"], [0.5555555555555556, \"#d8576b\"], [0.6666666666666666, \"#ed7953\"], [0.7777777777777778, \"#fb9f3a\"], [0.8888888888888888, \"#fdca26\"], [1.0, \"#f0f921\"]], \"type\": \"histogram2d\"}], \"histogram2dcontour\": [{\"colorbar\": {\"outlinewidth\": 0, \"ticks\": \"\"}, \"colorscale\": [[0.0, \"#0d0887\"], [0.1111111111111111, \"#46039f\"], [0.2222222222222222, \"#7201a8\"], [0.3333333333333333, \"#9c179e\"], [0.4444444444444444, \"#bd3786\"], [0.5555555555555556, \"#d8576b\"], [0.6666666666666666, \"#ed7953\"], [0.7777777777777778, \"#fb9f3a\"], [0.8888888888888888, \"#fdca26\"], [1.0, \"#f0f921\"]], \"type\": \"histogram2dcontour\"}], \"mesh3d\": [{\"colorbar\": {\"outlinewidth\": 0, \"ticks\": \"\"}, \"type\": \"mesh3d\"}], \"parcoords\": [{\"line\": {\"colorbar\": {\"outlinewidth\": 0, \"ticks\": \"\"}}, \"type\": \"parcoords\"}], \"pie\": [{\"automargin\": true, \"type\": \"pie\"}], \"scatter\": [{\"marker\": {\"colorbar\": {\"outlinewidth\": 0, \"ticks\": \"\"}}, \"type\": \"scatter\"}], \"scatter3d\": [{\"line\": {\"colorbar\": {\"outlinewidth\": 0, \"ticks\": \"\"}}, \"marker\": {\"colorbar\": {\"outlinewidth\": 0, \"ticks\": \"\"}}, \"type\": \"scatter3d\"}], \"scattercarpet\": [{\"marker\": {\"colorbar\": {\"outlinewidth\": 0, \"ticks\": \"\"}}, \"type\": \"scattercarpet\"}], \"scattergeo\": [{\"marker\": {\"colorbar\": {\"outlinewidth\": 0, \"ticks\": \"\"}}, \"type\": \"scattergeo\"}], \"scattergl\": [{\"marker\": {\"colorbar\": {\"outlinewidth\": 0, \"ticks\": \"\"}}, \"type\": \"scattergl\"}], \"scattermapbox\": [{\"marker\": {\"colorbar\": {\"outlinewidth\": 0, \"ticks\": \"\"}}, \"type\": \"scattermapbox\"}], \"scatterpolar\": [{\"marker\": {\"colorbar\": {\"outlinewidth\": 0, \"ticks\": \"\"}}, \"type\": \"scatterpolar\"}], \"scatterpolargl\": [{\"marker\": {\"colorbar\": {\"outlinewidth\": 0, \"ticks\": \"\"}}, \"type\": \"scatterpolargl\"}], \"scatterternary\": [{\"marker\": {\"colorbar\": {\"outlinewidth\": 0, \"ticks\": \"\"}}, \"type\": \"scatterternary\"}], \"surface\": [{\"colorbar\": {\"outlinewidth\": 0, \"ticks\": \"\"}, \"colorscale\": [[0.0, \"#0d0887\"], [0.1111111111111111, \"#46039f\"], [0.2222222222222222, \"#7201a8\"], [0.3333333333333333, \"#9c179e\"], [0.4444444444444444, \"#bd3786\"], [0.5555555555555556, \"#d8576b\"], [0.6666666666666666, \"#ed7953\"], [0.7777777777777778, \"#fb9f3a\"], [0.8888888888888888, \"#fdca26\"], [1.0, \"#f0f921\"]], \"type\": \"surface\"}], \"table\": [{\"cells\": {\"fill\": {\"color\": \"#EBF0F8\"}, \"line\": {\"color\": \"white\"}}, \"header\": {\"fill\": {\"color\": \"#C8D4E3\"}, \"line\": {\"color\": \"white\"}}, \"type\": \"table\"}]}, \"layout\": {\"annotationdefaults\": {\"arrowcolor\": \"#2a3f5f\", \"arrowhead\": 0, \"arrowwidth\": 1}, \"autotypenumbers\": \"strict\", \"coloraxis\": {\"colorbar\": {\"outlinewidth\": 0, \"ticks\": \"\"}}, \"colorscale\": {\"diverging\": [[0, \"#8e0152\"], [0.1, \"#c51b7d\"], [0.2, \"#de77ae\"], [0.3, \"#f1b6da\"], [0.4, \"#fde0ef\"], [0.5, \"#f7f7f7\"], [0.6, \"#e6f5d0\"], [0.7, \"#b8e186\"], [0.8, \"#7fbc41\"], [0.9, \"#4d9221\"], [1, \"#276419\"]], \"sequential\": [[0.0, \"#0d0887\"], [0.1111111111111111, \"#46039f\"], [0.2222222222222222, \"#7201a8\"], [0.3333333333333333, \"#9c179e\"], [0.4444444444444444, \"#bd3786\"], [0.5555555555555556, \"#d8576b\"], [0.6666666666666666, \"#ed7953\"], [0.7777777777777778, \"#fb9f3a\"], [0.8888888888888888, \"#fdca26\"], [1.0, \"#f0f921\"]], \"sequentialminus\": [[0.0, \"#0d0887\"], [0.1111111111111111, \"#46039f\"], [0.2222222222222222, \"#7201a8\"], [0.3333333333333333, \"#9c179e\"], [0.4444444444444444, \"#bd3786\"], [0.5555555555555556, \"#d8576b\"], [0.6666666666666666, \"#ed7953\"], [0.7777777777777778, \"#fb9f3a\"], [0.8888888888888888, \"#fdca26\"], [1.0, \"#f0f921\"]]}, \"colorway\": [\"#636efa\", \"#EF553B\", \"#00cc96\", \"#ab63fa\", \"#FFA15A\", \"#19d3f3\", \"#FF6692\", \"#B6E880\", \"#FF97FF\", \"#FECB52\"], \"font\": {\"color\": \"#2a3f5f\"}, \"geo\": {\"bgcolor\": \"white\", \"lakecolor\": \"white\", \"landcolor\": \"#E5ECF6\", \"showlakes\": true, \"showland\": true, \"subunitcolor\": \"white\"}, \"hoverlabel\": {\"align\": \"left\"}, \"hovermode\": \"closest\", \"mapbox\": {\"style\": \"light\"}, \"paper_bgcolor\": \"white\", \"plot_bgcolor\": \"#E5ECF6\", \"polar\": {\"angularaxis\": {\"gridcolor\": \"white\", \"linecolor\": \"white\", \"ticks\": \"\"}, \"bgcolor\": \"#E5ECF6\", \"radialaxis\": {\"gridcolor\": \"white\", \"linecolor\": \"white\", \"ticks\": \"\"}}, \"scene\": {\"xaxis\": {\"backgroundcolor\": \"#E5ECF6\", \"gridcolor\": \"white\", \"gridwidth\": 2, \"linecolor\": \"white\", \"showbackground\": true, \"ticks\": \"\", \"zerolinecolor\": \"white\"}, \"yaxis\": {\"backgroundcolor\": \"#E5ECF6\", \"gridcolor\": \"white\", \"gridwidth\": 2, \"linecolor\": \"white\", \"showbackground\": true, \"ticks\": \"\", \"zerolinecolor\": \"white\"}, \"zaxis\": {\"backgroundcolor\": \"#E5ECF6\", \"gridcolor\": \"white\", \"gridwidth\": 2, \"linecolor\": \"white\", \"showbackground\": true, \"ticks\": \"\", \"zerolinecolor\": \"white\"}}, \"shapedefaults\": {\"line\": {\"color\": \"#2a3f5f\"}}, \"ternary\": {\"aaxis\": {\"gridcolor\": \"white\", \"linecolor\": \"white\", \"ticks\": \"\"}, \"baxis\": {\"gridcolor\": \"white\", \"linecolor\": \"white\", \"ticks\": \"\"}, \"bgcolor\": \"#E5ECF6\", \"caxis\": {\"gridcolor\": \"white\", \"linecolor\": \"white\", \"ticks\": \"\"}}, \"title\": {\"x\": 0.05}, \"xaxis\": {\"automargin\": true, \"gridcolor\": \"white\", \"linecolor\": \"white\", \"ticks\": \"\", \"title\": {\"standoff\": 15}, \"zerolinecolor\": \"white\", \"zerolinewidth\": 2}, \"yaxis\": {\"automargin\": true, \"gridcolor\": \"white\", \"linecolor\": \"white\", \"ticks\": \"\", \"title\": {\"standoff\": 15}, \"zerolinecolor\": \"white\", \"zerolinewidth\": 2}}}, \"title\": {\"text\": \"Sector wise share price evaluation\"}, \"uniformtext\": {\"minsize\": 8, \"mode\": \"hide\"}, \"xaxis\": {\"anchor\": \"y\", \"domain\": [0.0, 1.0], \"title\": {\"text\": \"Sector\"}}, \"yaxis\": {\"anchor\": \"x\", \"domain\": [0.0, 1.0], \"title\": {\"text\": \"value\"}}},                        {\"responsive\": true}                    ).then(function(){\n",
       "                            \n",
       "var gd = document.getElementById('347fbde9-24be-4a64-97d7-cb703993bcd7');\n",
       "var x = new MutationObserver(function (mutations, observer) {{\n",
       "        var display = window.getComputedStyle(gd).display;\n",
       "        if (!display || display === 'none') {{\n",
       "            console.log([gd, 'removed!']);\n",
       "            Plotly.purge(gd);\n",
       "            observer.disconnect();\n",
       "        }}\n",
       "}});\n",
       "\n",
       "// Listen for the removal of the full notebook cells\n",
       "var notebookContainer = gd.closest('#notebook-container');\n",
       "if (notebookContainer) {{\n",
       "    x.observe(notebookContainer, {childList: true});\n",
       "}}\n",
       "\n",
       "// Listen for the clearing of the current output cell\n",
       "var outputEl = gd.closest('.output');\n",
       "if (outputEl) {{\n",
       "    x.observe(outputEl, {childList: true});\n",
       "}}\n",
       "\n",
       "                        })                };                });            </script>        </div>"
      ]
     },
     "metadata": {},
     "output_type": "display_data"
    }
   ],
   "source": [
    "fig=px.bar(data.groupby('Sector')['Price'].mean(),\n",
    "      title='Sector wise share price evaluation',\n",
    "           text=mn.values.round(2),\n",
    "           color=mn.values,color_continuous_scale='mint')\n",
    "\n",
    "fig.update_traces( textposition='outside')\n",
    "\n",
    "fig.update_layout(uniformtext_minsize=8, uniformtext_mode='hide')\n",
    "\n",
    "fig.show();"
   ]
  },
  {
   "cell_type": "markdown",
   "metadata": {},
   "source": [
    "#### 7. Sector wise average annual highest and lowest share price\n"
   ]
  },
  {
   "cell_type": "code",
   "execution_count": 349,
   "metadata": {},
   "outputs": [
    {
     "data": {
      "text/html": [
       "<style  type=\"text/css\" >\n",
       "#T_47b365fc_c2fa_11eb_9337_28cdc4d31b92row4_col1,#T_47b365fc_c2fa_11eb_9337_28cdc4d31b92row4_col2,#T_47b365fc_c2fa_11eb_9337_28cdc4d31b92row9_col1,#T_47b365fc_c2fa_11eb_9337_28cdc4d31b92row9_col2{\n",
       "            background-color:  yellow;\n",
       "        }</style><table id=\"T_47b365fc_c2fa_11eb_9337_28cdc4d31b92\" ><thead>    <tr>        <th class=\"blank level0\" ></th>        <th class=\"col_heading level0 col0\" >Sector</th>        <th class=\"col_heading level0 col1\" >52 Week_Low</th>        <th class=\"col_heading level0 col2\" >52 Week_High</th>    </tr></thead><tbody>\n",
       "                <tr>\n",
       "                        <th id=\"T_47b365fc_c2fa_11eb_9337_28cdc4d31b92level0_row0\" class=\"row_heading level0 row0\" >0</th>\n",
       "                        <td id=\"T_47b365fc_c2fa_11eb_9337_28cdc4d31b92row0_col0\" class=\"data row0 col0\" >Consumer Discretionary</td>\n",
       "                        <td id=\"T_47b365fc_c2fa_11eb_9337_28cdc4d31b92row0_col1\" class=\"data row0 col1\" >97.642056</td>\n",
       "                        <td id=\"T_47b365fc_c2fa_11eb_9337_28cdc4d31b92row0_col2\" class=\"data row0 col2\" >148.947194</td>\n",
       "            </tr>\n",
       "            <tr>\n",
       "                        <th id=\"T_47b365fc_c2fa_11eb_9337_28cdc4d31b92level0_row1\" class=\"row_heading level0 row1\" >1</th>\n",
       "                        <td id=\"T_47b365fc_c2fa_11eb_9337_28cdc4d31b92row1_col0\" class=\"data row1 col0\" >Consumer Staples</td>\n",
       "                        <td id=\"T_47b365fc_c2fa_11eb_9337_28cdc4d31b92row1_col1\" class=\"data row1 col1\" >67.843364</td>\n",
       "                        <td id=\"T_47b365fc_c2fa_11eb_9337_28cdc4d31b92row1_col2\" class=\"data row1 col2\" >91.932961</td>\n",
       "            </tr>\n",
       "            <tr>\n",
       "                        <th id=\"T_47b365fc_c2fa_11eb_9337_28cdc4d31b92level0_row2\" class=\"row_heading level0 row2\" >2</th>\n",
       "                        <td id=\"T_47b365fc_c2fa_11eb_9337_28cdc4d31b92row2_col0\" class=\"data row2 col0\" >Energy</td>\n",
       "                        <td id=\"T_47b365fc_c2fa_11eb_9337_28cdc4d31b92row2_col1\" class=\"data row2 col1\" >49.092317</td>\n",
       "                        <td id=\"T_47b365fc_c2fa_11eb_9337_28cdc4d31b92row2_col2\" class=\"data row2 col2\" >74.175333</td>\n",
       "            </tr>\n",
       "            <tr>\n",
       "                        <th id=\"T_47b365fc_c2fa_11eb_9337_28cdc4d31b92level0_row3\" class=\"row_heading level0 row3\" >3</th>\n",
       "                        <td id=\"T_47b365fc_c2fa_11eb_9337_28cdc4d31b92row3_col0\" class=\"data row3 col0\" >Financials</td>\n",
       "                        <td id=\"T_47b365fc_c2fa_11eb_9337_28cdc4d31b92row3_col1\" class=\"data row3 col1\" >72.694468</td>\n",
       "                        <td id=\"T_47b365fc_c2fa_11eb_9337_28cdc4d31b92row3_col2\" class=\"data row3 col2\" >101.821849</td>\n",
       "            </tr>\n",
       "            <tr>\n",
       "                        <th id=\"T_47b365fc_c2fa_11eb_9337_28cdc4d31b92level0_row4\" class=\"row_heading level0 row4\" >4</th>\n",
       "                        <td id=\"T_47b365fc_c2fa_11eb_9337_28cdc4d31b92row4_col0\" class=\"data row4 col0\" >Health Care</td>\n",
       "                        <td id=\"T_47b365fc_c2fa_11eb_9337_28cdc4d31b92row4_col1\" class=\"data row4 col1\" >104.949397</td>\n",
       "                        <td id=\"T_47b365fc_c2fa_11eb_9337_28cdc4d31b92row4_col2\" class=\"data row4 col2\" >162.771197</td>\n",
       "            </tr>\n",
       "            <tr>\n",
       "                        <th id=\"T_47b365fc_c2fa_11eb_9337_28cdc4d31b92level0_row5\" class=\"row_heading level0 row5\" >5</th>\n",
       "                        <td id=\"T_47b365fc_c2fa_11eb_9337_28cdc4d31b92row5_col0\" class=\"data row5 col0\" >Industrials</td>\n",
       "                        <td id=\"T_47b365fc_c2fa_11eb_9337_28cdc4d31b92row5_col1\" class=\"data row5 col1\" >89.992900</td>\n",
       "                        <td id=\"T_47b365fc_c2fa_11eb_9337_28cdc4d31b92row5_col2\" class=\"data row5 col2\" >133.144139</td>\n",
       "            </tr>\n",
       "            <tr>\n",
       "                        <th id=\"T_47b365fc_c2fa_11eb_9337_28cdc4d31b92level0_row6\" class=\"row_heading level0 row6\" >6</th>\n",
       "                        <td id=\"T_47b365fc_c2fa_11eb_9337_28cdc4d31b92row6_col0\" class=\"data row6 col0\" >Information Technology</td>\n",
       "                        <td id=\"T_47b365fc_c2fa_11eb_9337_28cdc4d31b92row6_col1\" class=\"data row6 col1\" >91.891416</td>\n",
       "                        <td id=\"T_47b365fc_c2fa_11eb_9337_28cdc4d31b92row6_col2\" class=\"data row6 col2\" >138.778641</td>\n",
       "            </tr>\n",
       "            <tr>\n",
       "                        <th id=\"T_47b365fc_c2fa_11eb_9337_28cdc4d31b92level0_row7\" class=\"row_heading level0 row7\" >7</th>\n",
       "                        <td id=\"T_47b365fc_c2fa_11eb_9337_28cdc4d31b92row7_col0\" class=\"data row7 col0\" >Materials</td>\n",
       "                        <td id=\"T_47b365fc_c2fa_11eb_9337_28cdc4d31b92row7_col1\" class=\"data row7 col1\" >85.583248</td>\n",
       "                        <td id=\"T_47b365fc_c2fa_11eb_9337_28cdc4d31b92row7_col2\" class=\"data row7 col2\" >118.038852</td>\n",
       "            </tr>\n",
       "            <tr>\n",
       "                        <th id=\"T_47b365fc_c2fa_11eb_9337_28cdc4d31b92level0_row8\" class=\"row_heading level0 row8\" >8</th>\n",
       "                        <td id=\"T_47b365fc_c2fa_11eb_9337_28cdc4d31b92row8_col0\" class=\"data row8 col0\" >Real Estate</td>\n",
       "                        <td id=\"T_47b365fc_c2fa_11eb_9337_28cdc4d31b92row8_col1\" class=\"data row8 col1\" >82.878088</td>\n",
       "                        <td id=\"T_47b365fc_c2fa_11eb_9337_28cdc4d31b92row8_col2\" class=\"data row8 col2\" >110.550455</td>\n",
       "            </tr>\n",
       "            <tr>\n",
       "                        <th id=\"T_47b365fc_c2fa_11eb_9337_28cdc4d31b92level0_row9\" class=\"row_heading level0 row9\" >9</th>\n",
       "                        <td id=\"T_47b365fc_c2fa_11eb_9337_28cdc4d31b92row9_col0\" class=\"data row9 col0\" >Telecommunication Services</td>\n",
       "                        <td id=\"T_47b365fc_c2fa_11eb_9337_28cdc4d31b92row9_col1\" class=\"data row9 col1\" >29.503667</td>\n",
       "                        <td id=\"T_47b365fc_c2fa_11eb_9337_28cdc4d31b92row9_col2\" class=\"data row9 col2\" >41.693333</td>\n",
       "            </tr>\n",
       "            <tr>\n",
       "                        <th id=\"T_47b365fc_c2fa_11eb_9337_28cdc4d31b92level0_row10\" class=\"row_heading level0 row10\" >10</th>\n",
       "                        <td id=\"T_47b365fc_c2fa_11eb_9337_28cdc4d31b92row10_col0\" class=\"data row10 col0\" >Utilities</td>\n",
       "                        <td id=\"T_47b365fc_c2fa_11eb_9337_28cdc4d31b92row10_col1\" class=\"data row10 col1\" >52.802321</td>\n",
       "                        <td id=\"T_47b365fc_c2fa_11eb_9337_28cdc4d31b92row10_col2\" class=\"data row10 col2\" >68.497321</td>\n",
       "            </tr>\n",
       "    </tbody></table>"
      ],
      "text/plain": [
       "<pandas.io.formats.style.Styler at 0x24b73728be0>"
      ]
     },
     "execution_count": 349,
     "metadata": {},
     "output_type": "execute_result"
    }
   ],
   "source": [
    "c=data.groupby('Sector')[['52 Week_Low','52 Week_High']].mean()\n",
    "c.reset_index(inplace=True)\n",
    "c.style.highlight_max().highlight_min()\n"
   ]
  },
  {
   "cell_type": "code",
   "execution_count": 381,
   "metadata": {},
   "outputs": [],
   "source": [
    "#data.groupby('Sector')[['52 Week_Low','52 Week_High']].mean().iplot(mode='lines+markers',size=5,\n",
    "                                                                   #xTitle='Sector',\n",
    "                                                                   #yTitle='Lowest and Highest share price in a year',\n",
    "                                                                   #title='Sector wise average Highest and Lowest share price',)"
   ]
  },
  {
   "cell_type": "code",
   "execution_count": 380,
   "metadata": {},
   "outputs": [
    {
     "data": {
      "application/vnd.plotly.v1+json": {
       "config": {
        "plotlyServerURL": "https://plot.ly"
       },
       "data": [
        {
         "hovertemplate": "variable=52 Week_Low<br>Sector=%{x}<br>value=%{y}<extra></extra>",
         "legendgroup": "52 Week_Low",
         "line": {
          "color": "#636efa",
          "dash": "solid"
         },
         "mode": "lines",
         "name": "52 Week_Low",
         "orientation": "v",
         "showlegend": true,
         "type": "scatter",
         "x": [
          "Consumer Discretionary",
          "Consumer Staples",
          "Energy",
          "Financials",
          "Health Care",
          "Industrials",
          "Information Technology",
          "Materials",
          "Real Estate",
          "Telecommunication Services",
          "Utilities"
         ],
         "xaxis": "x",
         "y": [
          97.64205552439029,
          67.84336363636362,
          49.09231666666667,
          72.69446764705884,
          104.94939711864409,
          89.9929,
          91.89141571428574,
          85.583248,
          82.87808787878787,
          29.503666666666664,
          52.802321428571425
         ],
         "yaxis": "y"
        },
        {
         "hovertemplate": "variable=52 Week_High<br>Sector=%{x}<br>value=%{y}<extra></extra>",
         "legendgroup": "52 Week_High",
         "line": {
          "color": "#EF553B",
          "dash": "solid"
         },
         "mode": "lines",
         "name": "52 Week_High",
         "orientation": "v",
         "showlegend": true,
         "type": "scatter",
         "x": [
          "Consumer Discretionary",
          "Consumer Staples",
          "Energy",
          "Financials",
          "Health Care",
          "Industrials",
          "Information Technology",
          "Materials",
          "Real Estate",
          "Telecommunication Services",
          "Utilities"
         ],
         "xaxis": "x",
         "y": [
          148.94719390243898,
          91.93296060606062,
          74.17533333333331,
          101.8218485294118,
          162.77119661016954,
          133.14413906249996,
          138.77864142857146,
          118.038852,
          110.55045454545456,
          41.693333333333335,
          68.49732142857142
         ],
         "yaxis": "y"
        }
       ],
       "layout": {
        "annotations": [
         {
          "arrowhead": 1,
          "showarrow": true,
          "text": "Highest",
          "x": "Health Care",
          "y": 104
         },
         {
          "showarrow": true,
          "text": "Highest",
          "x": "Health Care",
          "y": 162,
          "yshift": 10
         }
        ],
        "legend": {
         "title": {
          "text": "variable"
         },
         "tracegroupgap": 0
        },
        "margin": {
         "t": 60
        },
        "showlegend": true,
        "template": {
         "data": {
          "bar": [
           {
            "error_x": {
             "color": "#2a3f5f"
            },
            "error_y": {
             "color": "#2a3f5f"
            },
            "marker": {
             "line": {
              "color": "#E5ECF6",
              "width": 0.5
             }
            },
            "type": "bar"
           }
          ],
          "barpolar": [
           {
            "marker": {
             "line": {
              "color": "#E5ECF6",
              "width": 0.5
             }
            },
            "type": "barpolar"
           }
          ],
          "carpet": [
           {
            "aaxis": {
             "endlinecolor": "#2a3f5f",
             "gridcolor": "white",
             "linecolor": "white",
             "minorgridcolor": "white",
             "startlinecolor": "#2a3f5f"
            },
            "baxis": {
             "endlinecolor": "#2a3f5f",
             "gridcolor": "white",
             "linecolor": "white",
             "minorgridcolor": "white",
             "startlinecolor": "#2a3f5f"
            },
            "type": "carpet"
           }
          ],
          "choropleth": [
           {
            "colorbar": {
             "outlinewidth": 0,
             "ticks": ""
            },
            "type": "choropleth"
           }
          ],
          "contour": [
           {
            "colorbar": {
             "outlinewidth": 0,
             "ticks": ""
            },
            "colorscale": [
             [
              0,
              "#0d0887"
             ],
             [
              0.1111111111111111,
              "#46039f"
             ],
             [
              0.2222222222222222,
              "#7201a8"
             ],
             [
              0.3333333333333333,
              "#9c179e"
             ],
             [
              0.4444444444444444,
              "#bd3786"
             ],
             [
              0.5555555555555556,
              "#d8576b"
             ],
             [
              0.6666666666666666,
              "#ed7953"
             ],
             [
              0.7777777777777778,
              "#fb9f3a"
             ],
             [
              0.8888888888888888,
              "#fdca26"
             ],
             [
              1,
              "#f0f921"
             ]
            ],
            "type": "contour"
           }
          ],
          "contourcarpet": [
           {
            "colorbar": {
             "outlinewidth": 0,
             "ticks": ""
            },
            "type": "contourcarpet"
           }
          ],
          "heatmap": [
           {
            "colorbar": {
             "outlinewidth": 0,
             "ticks": ""
            },
            "colorscale": [
             [
              0,
              "#0d0887"
             ],
             [
              0.1111111111111111,
              "#46039f"
             ],
             [
              0.2222222222222222,
              "#7201a8"
             ],
             [
              0.3333333333333333,
              "#9c179e"
             ],
             [
              0.4444444444444444,
              "#bd3786"
             ],
             [
              0.5555555555555556,
              "#d8576b"
             ],
             [
              0.6666666666666666,
              "#ed7953"
             ],
             [
              0.7777777777777778,
              "#fb9f3a"
             ],
             [
              0.8888888888888888,
              "#fdca26"
             ],
             [
              1,
              "#f0f921"
             ]
            ],
            "type": "heatmap"
           }
          ],
          "heatmapgl": [
           {
            "colorbar": {
             "outlinewidth": 0,
             "ticks": ""
            },
            "colorscale": [
             [
              0,
              "#0d0887"
             ],
             [
              0.1111111111111111,
              "#46039f"
             ],
             [
              0.2222222222222222,
              "#7201a8"
             ],
             [
              0.3333333333333333,
              "#9c179e"
             ],
             [
              0.4444444444444444,
              "#bd3786"
             ],
             [
              0.5555555555555556,
              "#d8576b"
             ],
             [
              0.6666666666666666,
              "#ed7953"
             ],
             [
              0.7777777777777778,
              "#fb9f3a"
             ],
             [
              0.8888888888888888,
              "#fdca26"
             ],
             [
              1,
              "#f0f921"
             ]
            ],
            "type": "heatmapgl"
           }
          ],
          "histogram": [
           {
            "marker": {
             "colorbar": {
              "outlinewidth": 0,
              "ticks": ""
             }
            },
            "type": "histogram"
           }
          ],
          "histogram2d": [
           {
            "colorbar": {
             "outlinewidth": 0,
             "ticks": ""
            },
            "colorscale": [
             [
              0,
              "#0d0887"
             ],
             [
              0.1111111111111111,
              "#46039f"
             ],
             [
              0.2222222222222222,
              "#7201a8"
             ],
             [
              0.3333333333333333,
              "#9c179e"
             ],
             [
              0.4444444444444444,
              "#bd3786"
             ],
             [
              0.5555555555555556,
              "#d8576b"
             ],
             [
              0.6666666666666666,
              "#ed7953"
             ],
             [
              0.7777777777777778,
              "#fb9f3a"
             ],
             [
              0.8888888888888888,
              "#fdca26"
             ],
             [
              1,
              "#f0f921"
             ]
            ],
            "type": "histogram2d"
           }
          ],
          "histogram2dcontour": [
           {
            "colorbar": {
             "outlinewidth": 0,
             "ticks": ""
            },
            "colorscale": [
             [
              0,
              "#0d0887"
             ],
             [
              0.1111111111111111,
              "#46039f"
             ],
             [
              0.2222222222222222,
              "#7201a8"
             ],
             [
              0.3333333333333333,
              "#9c179e"
             ],
             [
              0.4444444444444444,
              "#bd3786"
             ],
             [
              0.5555555555555556,
              "#d8576b"
             ],
             [
              0.6666666666666666,
              "#ed7953"
             ],
             [
              0.7777777777777778,
              "#fb9f3a"
             ],
             [
              0.8888888888888888,
              "#fdca26"
             ],
             [
              1,
              "#f0f921"
             ]
            ],
            "type": "histogram2dcontour"
           }
          ],
          "mesh3d": [
           {
            "colorbar": {
             "outlinewidth": 0,
             "ticks": ""
            },
            "type": "mesh3d"
           }
          ],
          "parcoords": [
           {
            "line": {
             "colorbar": {
              "outlinewidth": 0,
              "ticks": ""
             }
            },
            "type": "parcoords"
           }
          ],
          "pie": [
           {
            "automargin": true,
            "type": "pie"
           }
          ],
          "scatter": [
           {
            "marker": {
             "colorbar": {
              "outlinewidth": 0,
              "ticks": ""
             }
            },
            "type": "scatter"
           }
          ],
          "scatter3d": [
           {
            "line": {
             "colorbar": {
              "outlinewidth": 0,
              "ticks": ""
             }
            },
            "marker": {
             "colorbar": {
              "outlinewidth": 0,
              "ticks": ""
             }
            },
            "type": "scatter3d"
           }
          ],
          "scattercarpet": [
           {
            "marker": {
             "colorbar": {
              "outlinewidth": 0,
              "ticks": ""
             }
            },
            "type": "scattercarpet"
           }
          ],
          "scattergeo": [
           {
            "marker": {
             "colorbar": {
              "outlinewidth": 0,
              "ticks": ""
             }
            },
            "type": "scattergeo"
           }
          ],
          "scattergl": [
           {
            "marker": {
             "colorbar": {
              "outlinewidth": 0,
              "ticks": ""
             }
            },
            "type": "scattergl"
           }
          ],
          "scattermapbox": [
           {
            "marker": {
             "colorbar": {
              "outlinewidth": 0,
              "ticks": ""
             }
            },
            "type": "scattermapbox"
           }
          ],
          "scatterpolar": [
           {
            "marker": {
             "colorbar": {
              "outlinewidth": 0,
              "ticks": ""
             }
            },
            "type": "scatterpolar"
           }
          ],
          "scatterpolargl": [
           {
            "marker": {
             "colorbar": {
              "outlinewidth": 0,
              "ticks": ""
             }
            },
            "type": "scatterpolargl"
           }
          ],
          "scatterternary": [
           {
            "marker": {
             "colorbar": {
              "outlinewidth": 0,
              "ticks": ""
             }
            },
            "type": "scatterternary"
           }
          ],
          "surface": [
           {
            "colorbar": {
             "outlinewidth": 0,
             "ticks": ""
            },
            "colorscale": [
             [
              0,
              "#0d0887"
             ],
             [
              0.1111111111111111,
              "#46039f"
             ],
             [
              0.2222222222222222,
              "#7201a8"
             ],
             [
              0.3333333333333333,
              "#9c179e"
             ],
             [
              0.4444444444444444,
              "#bd3786"
             ],
             [
              0.5555555555555556,
              "#d8576b"
             ],
             [
              0.6666666666666666,
              "#ed7953"
             ],
             [
              0.7777777777777778,
              "#fb9f3a"
             ],
             [
              0.8888888888888888,
              "#fdca26"
             ],
             [
              1,
              "#f0f921"
             ]
            ],
            "type": "surface"
           }
          ],
          "table": [
           {
            "cells": {
             "fill": {
              "color": "#EBF0F8"
             },
             "line": {
              "color": "white"
             }
            },
            "header": {
             "fill": {
              "color": "#C8D4E3"
             },
             "line": {
              "color": "white"
             }
            },
            "type": "table"
           }
          ]
         },
         "layout": {
          "annotationdefaults": {
           "arrowcolor": "#2a3f5f",
           "arrowhead": 0,
           "arrowwidth": 1
          },
          "autotypenumbers": "strict",
          "coloraxis": {
           "colorbar": {
            "outlinewidth": 0,
            "ticks": ""
           }
          },
          "colorscale": {
           "diverging": [
            [
             0,
             "#8e0152"
            ],
            [
             0.1,
             "#c51b7d"
            ],
            [
             0.2,
             "#de77ae"
            ],
            [
             0.3,
             "#f1b6da"
            ],
            [
             0.4,
             "#fde0ef"
            ],
            [
             0.5,
             "#f7f7f7"
            ],
            [
             0.6,
             "#e6f5d0"
            ],
            [
             0.7,
             "#b8e186"
            ],
            [
             0.8,
             "#7fbc41"
            ],
            [
             0.9,
             "#4d9221"
            ],
            [
             1,
             "#276419"
            ]
           ],
           "sequential": [
            [
             0,
             "#0d0887"
            ],
            [
             0.1111111111111111,
             "#46039f"
            ],
            [
             0.2222222222222222,
             "#7201a8"
            ],
            [
             0.3333333333333333,
             "#9c179e"
            ],
            [
             0.4444444444444444,
             "#bd3786"
            ],
            [
             0.5555555555555556,
             "#d8576b"
            ],
            [
             0.6666666666666666,
             "#ed7953"
            ],
            [
             0.7777777777777778,
             "#fb9f3a"
            ],
            [
             0.8888888888888888,
             "#fdca26"
            ],
            [
             1,
             "#f0f921"
            ]
           ],
           "sequentialminus": [
            [
             0,
             "#0d0887"
            ],
            [
             0.1111111111111111,
             "#46039f"
            ],
            [
             0.2222222222222222,
             "#7201a8"
            ],
            [
             0.3333333333333333,
             "#9c179e"
            ],
            [
             0.4444444444444444,
             "#bd3786"
            ],
            [
             0.5555555555555556,
             "#d8576b"
            ],
            [
             0.6666666666666666,
             "#ed7953"
            ],
            [
             0.7777777777777778,
             "#fb9f3a"
            ],
            [
             0.8888888888888888,
             "#fdca26"
            ],
            [
             1,
             "#f0f921"
            ]
           ]
          },
          "colorway": [
           "#636efa",
           "#EF553B",
           "#00cc96",
           "#ab63fa",
           "#FFA15A",
           "#19d3f3",
           "#FF6692",
           "#B6E880",
           "#FF97FF",
           "#FECB52"
          ],
          "font": {
           "color": "#2a3f5f"
          },
          "geo": {
           "bgcolor": "white",
           "lakecolor": "white",
           "landcolor": "#E5ECF6",
           "showlakes": true,
           "showland": true,
           "subunitcolor": "white"
          },
          "hoverlabel": {
           "align": "left"
          },
          "hovermode": "closest",
          "mapbox": {
           "style": "light"
          },
          "paper_bgcolor": "white",
          "plot_bgcolor": "#E5ECF6",
          "polar": {
           "angularaxis": {
            "gridcolor": "white",
            "linecolor": "white",
            "ticks": ""
           },
           "bgcolor": "#E5ECF6",
           "radialaxis": {
            "gridcolor": "white",
            "linecolor": "white",
            "ticks": ""
           }
          },
          "scene": {
           "xaxis": {
            "backgroundcolor": "#E5ECF6",
            "gridcolor": "white",
            "gridwidth": 2,
            "linecolor": "white",
            "showbackground": true,
            "ticks": "",
            "zerolinecolor": "white"
           },
           "yaxis": {
            "backgroundcolor": "#E5ECF6",
            "gridcolor": "white",
            "gridwidth": 2,
            "linecolor": "white",
            "showbackground": true,
            "ticks": "",
            "zerolinecolor": "white"
           },
           "zaxis": {
            "backgroundcolor": "#E5ECF6",
            "gridcolor": "white",
            "gridwidth": 2,
            "linecolor": "white",
            "showbackground": true,
            "ticks": "",
            "zerolinecolor": "white"
           }
          },
          "shapedefaults": {
           "line": {
            "color": "#2a3f5f"
           }
          },
          "ternary": {
           "aaxis": {
            "gridcolor": "white",
            "linecolor": "white",
            "ticks": ""
           },
           "baxis": {
            "gridcolor": "white",
            "linecolor": "white",
            "ticks": ""
           },
           "bgcolor": "#E5ECF6",
           "caxis": {
            "gridcolor": "white",
            "linecolor": "white",
            "ticks": ""
           }
          },
          "title": {
           "x": 0.05
          },
          "xaxis": {
           "automargin": true,
           "gridcolor": "white",
           "linecolor": "white",
           "ticks": "",
           "title": {
            "standoff": 15
           },
           "zerolinecolor": "white",
           "zerolinewidth": 2
          },
          "yaxis": {
           "automargin": true,
           "gridcolor": "white",
           "linecolor": "white",
           "ticks": "",
           "title": {
            "standoff": 15
           },
           "zerolinecolor": "white",
           "zerolinewidth": 2
          }
         }
        },
        "xaxis": {
         "anchor": "y",
         "domain": [
          0,
          1
         ],
         "title": {
          "text": "Sector"
         }
        },
        "yaxis": {
         "anchor": "x",
         "domain": [
          0,
          1
         ],
         "title": {
          "text": "value"
         }
        }
       }
      },
      "text/html": [
       "<div>                            <div id=\"36c7dbbe-2e33-44fb-aaa8-db18f19e358a\" class=\"plotly-graph-div\" style=\"height:525px; width:100%;\"></div>            <script type=\"text/javascript\">                require([\"plotly\"], function(Plotly) {                    window.PLOTLYENV=window.PLOTLYENV || {};                                    if (document.getElementById(\"36c7dbbe-2e33-44fb-aaa8-db18f19e358a\")) {                    Plotly.newPlot(                        \"36c7dbbe-2e33-44fb-aaa8-db18f19e358a\",                        [{\"hovertemplate\": \"variable=52 Week_Low<br>Sector=%{x}<br>value=%{y}<extra></extra>\", \"legendgroup\": \"52 Week_Low\", \"line\": {\"color\": \"#636efa\", \"dash\": \"solid\"}, \"mode\": \"lines\", \"name\": \"52 Week_Low\", \"orientation\": \"v\", \"showlegend\": true, \"type\": \"scatter\", \"x\": [\"Consumer Discretionary\", \"Consumer Staples\", \"Energy\", \"Financials\", \"Health Care\", \"Industrials\", \"Information Technology\", \"Materials\", \"Real Estate\", \"Telecommunication Services\", \"Utilities\"], \"xaxis\": \"x\", \"y\": [97.64205552439029, 67.84336363636362, 49.09231666666667, 72.69446764705884, 104.94939711864409, 89.9929, 91.89141571428574, 85.583248, 82.87808787878787, 29.503666666666664, 52.802321428571425], \"yaxis\": \"y\"}, {\"hovertemplate\": \"variable=52 Week_High<br>Sector=%{x}<br>value=%{y}<extra></extra>\", \"legendgroup\": \"52 Week_High\", \"line\": {\"color\": \"#EF553B\", \"dash\": \"solid\"}, \"mode\": \"lines\", \"name\": \"52 Week_High\", \"orientation\": \"v\", \"showlegend\": true, \"type\": \"scatter\", \"x\": [\"Consumer Discretionary\", \"Consumer Staples\", \"Energy\", \"Financials\", \"Health Care\", \"Industrials\", \"Information Technology\", \"Materials\", \"Real Estate\", \"Telecommunication Services\", \"Utilities\"], \"xaxis\": \"x\", \"y\": [148.94719390243898, 91.93296060606062, 74.17533333333331, 101.8218485294118, 162.77119661016954, 133.14413906249996, 138.77864142857146, 118.038852, 110.55045454545456, 41.693333333333335, 68.49732142857142], \"yaxis\": \"y\"}],                        {\"annotations\": [{\"arrowhead\": 1, \"showarrow\": true, \"text\": \"Highest\", \"x\": \"Health Care\", \"y\": 104}, {\"showarrow\": true, \"text\": \"Highest\", \"x\": \"Health Care\", \"y\": 162, \"yshift\": 10}], \"legend\": {\"title\": {\"text\": \"variable\"}, \"tracegroupgap\": 0}, \"margin\": {\"t\": 60}, \"showlegend\": true, \"template\": {\"data\": {\"bar\": [{\"error_x\": {\"color\": \"#2a3f5f\"}, \"error_y\": {\"color\": \"#2a3f5f\"}, \"marker\": {\"line\": {\"color\": \"#E5ECF6\", \"width\": 0.5}}, \"type\": \"bar\"}], \"barpolar\": [{\"marker\": {\"line\": {\"color\": \"#E5ECF6\", \"width\": 0.5}}, \"type\": \"barpolar\"}], \"carpet\": [{\"aaxis\": {\"endlinecolor\": \"#2a3f5f\", \"gridcolor\": \"white\", \"linecolor\": \"white\", \"minorgridcolor\": \"white\", \"startlinecolor\": \"#2a3f5f\"}, \"baxis\": {\"endlinecolor\": \"#2a3f5f\", \"gridcolor\": \"white\", \"linecolor\": \"white\", \"minorgridcolor\": \"white\", \"startlinecolor\": \"#2a3f5f\"}, \"type\": \"carpet\"}], \"choropleth\": [{\"colorbar\": {\"outlinewidth\": 0, \"ticks\": \"\"}, \"type\": \"choropleth\"}], \"contour\": [{\"colorbar\": {\"outlinewidth\": 0, \"ticks\": \"\"}, \"colorscale\": [[0.0, \"#0d0887\"], [0.1111111111111111, \"#46039f\"], [0.2222222222222222, \"#7201a8\"], [0.3333333333333333, \"#9c179e\"], [0.4444444444444444, \"#bd3786\"], [0.5555555555555556, \"#d8576b\"], [0.6666666666666666, \"#ed7953\"], [0.7777777777777778, \"#fb9f3a\"], [0.8888888888888888, \"#fdca26\"], [1.0, \"#f0f921\"]], \"type\": \"contour\"}], \"contourcarpet\": [{\"colorbar\": {\"outlinewidth\": 0, \"ticks\": \"\"}, \"type\": \"contourcarpet\"}], \"heatmap\": [{\"colorbar\": {\"outlinewidth\": 0, \"ticks\": \"\"}, \"colorscale\": [[0.0, \"#0d0887\"], [0.1111111111111111, \"#46039f\"], [0.2222222222222222, \"#7201a8\"], [0.3333333333333333, \"#9c179e\"], [0.4444444444444444, \"#bd3786\"], [0.5555555555555556, \"#d8576b\"], [0.6666666666666666, \"#ed7953\"], [0.7777777777777778, \"#fb9f3a\"], [0.8888888888888888, \"#fdca26\"], [1.0, \"#f0f921\"]], \"type\": \"heatmap\"}], \"heatmapgl\": [{\"colorbar\": {\"outlinewidth\": 0, \"ticks\": \"\"}, \"colorscale\": [[0.0, \"#0d0887\"], [0.1111111111111111, \"#46039f\"], [0.2222222222222222, \"#7201a8\"], [0.3333333333333333, \"#9c179e\"], [0.4444444444444444, \"#bd3786\"], [0.5555555555555556, \"#d8576b\"], [0.6666666666666666, \"#ed7953\"], [0.7777777777777778, \"#fb9f3a\"], [0.8888888888888888, \"#fdca26\"], [1.0, \"#f0f921\"]], \"type\": \"heatmapgl\"}], \"histogram\": [{\"marker\": {\"colorbar\": {\"outlinewidth\": 0, \"ticks\": \"\"}}, \"type\": \"histogram\"}], \"histogram2d\": [{\"colorbar\": {\"outlinewidth\": 0, \"ticks\": \"\"}, \"colorscale\": [[0.0, \"#0d0887\"], [0.1111111111111111, \"#46039f\"], [0.2222222222222222, \"#7201a8\"], [0.3333333333333333, \"#9c179e\"], [0.4444444444444444, \"#bd3786\"], [0.5555555555555556, \"#d8576b\"], [0.6666666666666666, \"#ed7953\"], [0.7777777777777778, \"#fb9f3a\"], [0.8888888888888888, \"#fdca26\"], [1.0, \"#f0f921\"]], \"type\": \"histogram2d\"}], \"histogram2dcontour\": [{\"colorbar\": {\"outlinewidth\": 0, \"ticks\": \"\"}, \"colorscale\": [[0.0, \"#0d0887\"], [0.1111111111111111, \"#46039f\"], [0.2222222222222222, \"#7201a8\"], [0.3333333333333333, \"#9c179e\"], [0.4444444444444444, \"#bd3786\"], [0.5555555555555556, \"#d8576b\"], [0.6666666666666666, \"#ed7953\"], [0.7777777777777778, \"#fb9f3a\"], [0.8888888888888888, \"#fdca26\"], [1.0, \"#f0f921\"]], \"type\": \"histogram2dcontour\"}], \"mesh3d\": [{\"colorbar\": {\"outlinewidth\": 0, \"ticks\": \"\"}, \"type\": \"mesh3d\"}], \"parcoords\": [{\"line\": {\"colorbar\": {\"outlinewidth\": 0, \"ticks\": \"\"}}, \"type\": \"parcoords\"}], \"pie\": [{\"automargin\": true, \"type\": \"pie\"}], \"scatter\": [{\"marker\": {\"colorbar\": {\"outlinewidth\": 0, \"ticks\": \"\"}}, \"type\": \"scatter\"}], \"scatter3d\": [{\"line\": {\"colorbar\": {\"outlinewidth\": 0, \"ticks\": \"\"}}, \"marker\": {\"colorbar\": {\"outlinewidth\": 0, \"ticks\": \"\"}}, \"type\": \"scatter3d\"}], \"scattercarpet\": [{\"marker\": {\"colorbar\": {\"outlinewidth\": 0, \"ticks\": \"\"}}, \"type\": \"scattercarpet\"}], \"scattergeo\": [{\"marker\": {\"colorbar\": {\"outlinewidth\": 0, \"ticks\": \"\"}}, \"type\": \"scattergeo\"}], \"scattergl\": [{\"marker\": {\"colorbar\": {\"outlinewidth\": 0, \"ticks\": \"\"}}, \"type\": \"scattergl\"}], \"scattermapbox\": [{\"marker\": {\"colorbar\": {\"outlinewidth\": 0, \"ticks\": \"\"}}, \"type\": \"scattermapbox\"}], \"scatterpolar\": [{\"marker\": {\"colorbar\": {\"outlinewidth\": 0, \"ticks\": \"\"}}, \"type\": \"scatterpolar\"}], \"scatterpolargl\": [{\"marker\": {\"colorbar\": {\"outlinewidth\": 0, \"ticks\": \"\"}}, \"type\": \"scatterpolargl\"}], \"scatterternary\": [{\"marker\": {\"colorbar\": {\"outlinewidth\": 0, \"ticks\": \"\"}}, \"type\": \"scatterternary\"}], \"surface\": [{\"colorbar\": {\"outlinewidth\": 0, \"ticks\": \"\"}, \"colorscale\": [[0.0, \"#0d0887\"], [0.1111111111111111, \"#46039f\"], [0.2222222222222222, \"#7201a8\"], [0.3333333333333333, \"#9c179e\"], [0.4444444444444444, \"#bd3786\"], [0.5555555555555556, \"#d8576b\"], [0.6666666666666666, \"#ed7953\"], [0.7777777777777778, \"#fb9f3a\"], [0.8888888888888888, \"#fdca26\"], [1.0, \"#f0f921\"]], \"type\": \"surface\"}], \"table\": [{\"cells\": {\"fill\": {\"color\": \"#EBF0F8\"}, \"line\": {\"color\": \"white\"}}, \"header\": {\"fill\": {\"color\": \"#C8D4E3\"}, \"line\": {\"color\": \"white\"}}, \"type\": \"table\"}]}, \"layout\": {\"annotationdefaults\": {\"arrowcolor\": \"#2a3f5f\", \"arrowhead\": 0, \"arrowwidth\": 1}, \"autotypenumbers\": \"strict\", \"coloraxis\": {\"colorbar\": {\"outlinewidth\": 0, \"ticks\": \"\"}}, \"colorscale\": {\"diverging\": [[0, \"#8e0152\"], [0.1, \"#c51b7d\"], [0.2, \"#de77ae\"], [0.3, \"#f1b6da\"], [0.4, \"#fde0ef\"], [0.5, \"#f7f7f7\"], [0.6, \"#e6f5d0\"], [0.7, \"#b8e186\"], [0.8, \"#7fbc41\"], [0.9, \"#4d9221\"], [1, \"#276419\"]], \"sequential\": [[0.0, \"#0d0887\"], [0.1111111111111111, \"#46039f\"], [0.2222222222222222, \"#7201a8\"], [0.3333333333333333, \"#9c179e\"], [0.4444444444444444, \"#bd3786\"], [0.5555555555555556, \"#d8576b\"], [0.6666666666666666, \"#ed7953\"], [0.7777777777777778, \"#fb9f3a\"], [0.8888888888888888, \"#fdca26\"], [1.0, \"#f0f921\"]], \"sequentialminus\": [[0.0, \"#0d0887\"], [0.1111111111111111, \"#46039f\"], [0.2222222222222222, \"#7201a8\"], [0.3333333333333333, \"#9c179e\"], [0.4444444444444444, \"#bd3786\"], [0.5555555555555556, \"#d8576b\"], [0.6666666666666666, \"#ed7953\"], [0.7777777777777778, \"#fb9f3a\"], [0.8888888888888888, \"#fdca26\"], [1.0, \"#f0f921\"]]}, \"colorway\": [\"#636efa\", \"#EF553B\", \"#00cc96\", \"#ab63fa\", \"#FFA15A\", \"#19d3f3\", \"#FF6692\", \"#B6E880\", \"#FF97FF\", \"#FECB52\"], \"font\": {\"color\": \"#2a3f5f\"}, \"geo\": {\"bgcolor\": \"white\", \"lakecolor\": \"white\", \"landcolor\": \"#E5ECF6\", \"showlakes\": true, \"showland\": true, \"subunitcolor\": \"white\"}, \"hoverlabel\": {\"align\": \"left\"}, \"hovermode\": \"closest\", \"mapbox\": {\"style\": \"light\"}, \"paper_bgcolor\": \"white\", \"plot_bgcolor\": \"#E5ECF6\", \"polar\": {\"angularaxis\": {\"gridcolor\": \"white\", \"linecolor\": \"white\", \"ticks\": \"\"}, \"bgcolor\": \"#E5ECF6\", \"radialaxis\": {\"gridcolor\": \"white\", \"linecolor\": \"white\", \"ticks\": \"\"}}, \"scene\": {\"xaxis\": {\"backgroundcolor\": \"#E5ECF6\", \"gridcolor\": \"white\", \"gridwidth\": 2, \"linecolor\": \"white\", \"showbackground\": true, \"ticks\": \"\", \"zerolinecolor\": \"white\"}, \"yaxis\": {\"backgroundcolor\": \"#E5ECF6\", \"gridcolor\": \"white\", \"gridwidth\": 2, \"linecolor\": \"white\", \"showbackground\": true, \"ticks\": \"\", \"zerolinecolor\": \"white\"}, \"zaxis\": {\"backgroundcolor\": \"#E5ECF6\", \"gridcolor\": \"white\", \"gridwidth\": 2, \"linecolor\": \"white\", \"showbackground\": true, \"ticks\": \"\", \"zerolinecolor\": \"white\"}}, \"shapedefaults\": {\"line\": {\"color\": \"#2a3f5f\"}}, \"ternary\": {\"aaxis\": {\"gridcolor\": \"white\", \"linecolor\": \"white\", \"ticks\": \"\"}, \"baxis\": {\"gridcolor\": \"white\", \"linecolor\": \"white\", \"ticks\": \"\"}, \"bgcolor\": \"#E5ECF6\", \"caxis\": {\"gridcolor\": \"white\", \"linecolor\": \"white\", \"ticks\": \"\"}}, \"title\": {\"x\": 0.05}, \"xaxis\": {\"automargin\": true, \"gridcolor\": \"white\", \"linecolor\": \"white\", \"ticks\": \"\", \"title\": {\"standoff\": 15}, \"zerolinecolor\": \"white\", \"zerolinewidth\": 2}, \"yaxis\": {\"automargin\": true, \"gridcolor\": \"white\", \"linecolor\": \"white\", \"ticks\": \"\", \"title\": {\"standoff\": 15}, \"zerolinecolor\": \"white\", \"zerolinewidth\": 2}}}, \"xaxis\": {\"anchor\": \"y\", \"domain\": [0.0, 1.0], \"title\": {\"text\": \"Sector\"}}, \"yaxis\": {\"anchor\": \"x\", \"domain\": [0.0, 1.0], \"title\": {\"text\": \"value\"}}},                        {\"responsive\": true}                    ).then(function(){\n",
       "                            \n",
       "var gd = document.getElementById('36c7dbbe-2e33-44fb-aaa8-db18f19e358a');\n",
       "var x = new MutationObserver(function (mutations, observer) {{\n",
       "        var display = window.getComputedStyle(gd).display;\n",
       "        if (!display || display === 'none') {{\n",
       "            console.log([gd, 'removed!']);\n",
       "            Plotly.purge(gd);\n",
       "            observer.disconnect();\n",
       "        }}\n",
       "}});\n",
       "\n",
       "// Listen for the removal of the full notebook cells\n",
       "var notebookContainer = gd.closest('#notebook-container');\n",
       "if (notebookContainer) {{\n",
       "    x.observe(notebookContainer, {childList: true});\n",
       "}}\n",
       "\n",
       "// Listen for the clearing of the current output cell\n",
       "var outputEl = gd.closest('.output');\n",
       "if (outputEl) {{\n",
       "    x.observe(outputEl, {childList: true});\n",
       "}}\n",
       "\n",
       "                        })                };                });            </script>        </div>"
      ]
     },
     "metadata": {},
     "output_type": "display_data"
    }
   ],
   "source": [
    "f_l=px.line(c,x='Sector',y=['52 Week_Low','52 Week_High'],\n",
    "           )\n",
    "f_l.add_annotation(x='Health Care', y=104,\n",
    "            text=\"Highest\",\n",
    "            showarrow=True,\n",
    "            arrowhead=1)\n",
    "f_l.add_annotation(x='Health Care', y=162,\n",
    "            text=\"Highest\",\n",
    "            showarrow=True,\n",
    "            yshift=10)\n",
    "\n",
    "f_l.update_layout(showlegend=True)\n",
    "\n",
    "f_l.show();\n",
    "            "
   ]
  },
  {
   "cell_type": "markdown",
   "metadata": {},
   "source": [
    "#### 8. This graph shows company wise high and low share price in a year"
   ]
  },
  {
   "cell_type": "code",
   "execution_count": 17,
   "metadata": {},
   "outputs": [],
   "source": [
    "import plotly.graph_objects as pg"
   ]
  },
  {
   "cell_type": "code",
   "execution_count": 18,
   "metadata": {},
   "outputs": [
    {
     "name": "stderr",
     "output_type": "stream",
     "text": [
      "C:\\Users\\BY\\anaconda3\\lib\\site-packages\\plotly\\graph_objs\\_deprecations.py:378: DeprecationWarning:\n",
      "\n",
      "plotly.graph_objs.Line is deprecated.\n",
      "Please replace it with one of the following more specific types\n",
      "  - plotly.graph_objs.scatter.Line\n",
      "  - plotly.graph_objs.layout.shape.Line\n",
      "  - etc.\n",
      "\n",
      "\n"
     ]
    },
    {
     "data": {
      "application/vnd.plotly.v1+json": {
       "config": {
        "plotlyServerURL": "https://plot.ly"
       },
       "data": [
        {
         "name": "52 Week_Low",
         "type": "scatter",
         "x": [
          "MMM",
          "AOS",
          "ABT",
          "ABBV",
          "ACN",
          "ATVI",
          "AYI",
          "ADBE",
          "AAP",
          "AMD",
          "AES",
          "AET",
          "AMG",
          "AFL",
          "A",
          "APD",
          "AKAM",
          "ALK",
          "ALB",
          "ARE",
          "ALXN",
          "ALGN",
          "ALLE",
          "AGN",
          "ADS",
          "LNT",
          "ALL",
          "GOOGL",
          "GOOG",
          "MO",
          "AMZN",
          "AEE",
          "AAL",
          "AEP",
          "AXP",
          "AIG",
          "AMT",
          "AWK",
          "AMP",
          "ABC",
          "AME",
          "AMGN",
          "APH",
          "APC",
          "ADI",
          "ANDV",
          "ANSS",
          "ANTM",
          "AON",
          "APA",
          "AIV",
          "AAPL",
          "AMAT",
          "APTV",
          "ADM",
          "AJG",
          "AIZ",
          "T",
          "ADSK",
          "ADP",
          "AZO",
          "AVB",
          "AVY",
          "BHGE",
          "BLL",
          "BAC",
          "BAX",
          "BBT",
          "BDX",
          "BRK.B",
          "BBY",
          "BIIB",
          "BLK",
          "HRB",
          "BA",
          "BWA",
          "BXP",
          "BSX",
          "BHF",
          "BMY",
          "AVGO",
          "BF.B",
          "CHRW",
          "CA",
          "COG",
          "CDNS",
          "CPB",
          "COF",
          "CAH",
          "KMX",
          "CCL",
          "CAT",
          "CBOE",
          "CBG",
          "CBS",
          "CELG",
          "CNC",
          "CNP",
          "CTL",
          "CERN",
          "CF",
          "SCHW",
          "CHTR",
          "CHK",
          "CVX",
          "CMG",
          "CB",
          "CHD",
          "CI",
          "XEC",
          "CINF",
          "CTAS",
          "CSCO",
          "C",
          "CFG",
          "CTXS",
          "CME",
          "CMS",
          "KO",
          "CTSH",
          "CL",
          "CMCSA",
          "CMA",
          "CAG",
          "CXO",
          "COP",
          "ED",
          "STZ",
          "GLW",
          "COST",
          "COTY",
          "CCI",
          "CSRA",
          "CSX",
          "CMI",
          "CVS",
          "DHI",
          "DHR",
          "DRI",
          "DVA",
          "DE",
          "DAL",
          "XRAY",
          "DVN",
          "DLR",
          "DFS",
          "DISCA",
          "DISCK",
          "DISH",
          "DG",
          "DLTR",
          "D",
          "DOV",
          "DWDP",
          "DPS",
          "DTE",
          "DUK",
          "DRE",
          "DXC",
          "ETFC",
          "EMN",
          "ETN",
          "EBAY",
          "ECL",
          "EIX",
          "EW",
          "EA",
          "EMR",
          "ETR",
          "EVHC",
          "EOG",
          "EQT",
          "EFX",
          "EQIX",
          "EQR",
          "ESS",
          "EL",
          "RE",
          "ES",
          "EXC",
          "EXPE",
          "EXPD",
          "ESRX",
          "EXR",
          "XOM",
          "FFIV",
          "FB",
          "FAST",
          "FRT",
          "FDX",
          "FIS",
          "FITB",
          "FE",
          "FISV",
          "FLIR",
          "FLS",
          "FLR",
          "FMC",
          "F",
          "FTV",
          "FBHS",
          "BEN",
          "FCX",
          "GPS",
          "GRMN",
          "IT",
          "GD",
          "GE",
          "GGP",
          "GIS",
          "GM",
          "GPC",
          "GILD",
          "GPN",
          "GS",
          "GT",
          "GWW",
          "HAL",
          "HBI",
          "HOG",
          "HRS",
          "HIG",
          "HAS",
          "HCP",
          "HP",
          "HSIC",
          "HES",
          "HPE",
          "HLT",
          "HOLX",
          "HD",
          "HON",
          "HRL",
          "HST",
          "HPQ",
          "HUM",
          "HBAN",
          "HII",
          "IDXX",
          "INFO",
          "ITW",
          "ILMN",
          "INCY",
          "IR",
          "INTC",
          "ICE",
          "IBM",
          "IP",
          "IPG",
          "IFF",
          "INTU",
          "ISRG",
          "IVZ",
          "IQV",
          "IRM",
          "JBHT",
          "JEC",
          "SJM",
          "JNJ",
          "JCI",
          "JPM",
          "JNPR",
          "KSU",
          "K",
          "KEY",
          "KMB",
          "KIM",
          "KMI",
          "KLAC",
          "KSS",
          "KHC",
          "KR",
          "LB",
          "LLL",
          "LH",
          "LRCX",
          "LEG",
          "LEN",
          "LUK",
          "LLY",
          "LNC",
          "LKQ",
          "LMT",
          "L",
          "LOW",
          "LYB",
          "MTB",
          "MAC",
          "M",
          "MPC",
          "MAR",
          "MMC",
          "MLM",
          "MAS",
          "MA",
          "MAT",
          "MKC",
          "MCD",
          "MCK",
          "MDT",
          "MRK",
          "MET",
          "MTD",
          "MGM",
          "KORS",
          "MCHP",
          "MU",
          "MSFT",
          "MAA",
          "MHK",
          "TAP",
          "MDLZ",
          "MON",
          "MNST",
          "MCO",
          "MS",
          "MSI",
          "MYL",
          "NDAQ",
          "NOV",
          "NAVI",
          "NTAP",
          "NFLX",
          "NWL",
          "NFX",
          "NEM",
          "NWSA",
          "NWS",
          "NEE",
          "NLSN",
          "NKE",
          "NI",
          "NBL",
          "JWN",
          "NSC",
          "NTRS",
          "NOC",
          "NCLH",
          "NRG",
          "NUE",
          "NVDA",
          "ORLY",
          "OMC",
          "OKE",
          "ORCL",
          "PCAR",
          "PKG",
          "PH",
          "PDCO",
          "PAYX",
          "PYPL",
          "PNR",
          "PBCT",
          "PKI",
          "PFE",
          "PCG",
          "PM",
          "PSX",
          "PNW",
          "PXD",
          "PNC",
          "RL",
          "PPG",
          "PPL",
          "PX",
          "PCLN",
          "PFG",
          "PG",
          "PGR",
          "PLD",
          "PRU",
          "PEG",
          "PSA",
          "PHM",
          "PVH",
          "QRVO",
          "QCOM",
          "PWR",
          "DGX",
          "RRC",
          "RJF",
          "RTN",
          "O",
          "RHT",
          "REG",
          "REGN",
          "RF",
          "RSG",
          "RMD",
          "RHI",
          "ROK",
          "COL",
          "ROP",
          "ROST",
          "RCL",
          "SPGI",
          "CRM",
          "SBAC",
          "SCG",
          "SLB",
          "SNI",
          "STX",
          "SEE",
          "SRE",
          "SHW",
          "SIG",
          "SPG",
          "SWKS",
          "SLG",
          "SNA",
          "SO",
          "LUV",
          "SWK",
          "SBUX",
          "STT",
          "SRCL",
          "SYK",
          "STI",
          "SYMC",
          "SYF",
          "SNPS",
          "SYY",
          "TROW",
          "TGT",
          "TEL",
          "FTI",
          "TXN",
          "TXT",
          "BK",
          "CLX",
          "COO",
          "HSY",
          "MOS",
          "TRV",
          "DIS",
          "TMO",
          "TIF",
          "TWX",
          "TJX",
          "TMK",
          "TSS",
          "TSCO",
          "TRIP",
          "FOXA",
          "FOX",
          "TSN",
          "USB",
          "UDR",
          "ULTA",
          "UAA",
          "UA",
          "UAL",
          "UNH",
          "UPS",
          "URI",
          "UTX",
          "UHS",
          "UNM",
          "VFC",
          "VLO",
          "VAR",
          "VTR",
          "VRSN",
          "VRSK",
          "VZ",
          "VRTX",
          "VIAB",
          "V",
          "VNO",
          "VMC",
          "WMT",
          "WBA",
          "WM",
          "WAT",
          "WEC",
          "WFC",
          "HCN",
          "WDC",
          "WU",
          "WRK",
          "WY",
          "WHR",
          "WMB",
          "WLTW",
          "WYN",
          "WYNN",
          "XEL",
          "XRX",
          "XLNX",
          "XL",
          "XYL",
          "YUM",
          "ZBH",
          "ZION",
          "ZTS"
         ],
         "y": [
          175.49,
          48.925,
          42.28,
          60.05,
          114.82,
          38.93,
          142,
          114.45100000000001,
          78.81,
          9.7,
          10,
          119.51,
          148.81,
          68.8,
          49.23,
          133.6301,
          44.65,
          59.25,
          90.35,
          106.89,
          96.18,
          92.61,
          66.72,
          160.07,
          209,
          36.84,
          77.73,
          824.3,
          803.1903,
          60.01,
          812.5,
          51.81,
          39.21,
          62.69,
          75.51,
          57.85,
          103.36,
          71.89,
          118.84,
          71.9,
          51.31,
          152.16,
          67.26,
          39.96,
          74.65,
          75.11,
          94.52,
          156.81,
          113.2201,
          38.14,
          38.85,
          131.12,
          34.58,
          82.97,
          38.59,
          53.63,
          85.91,
          32.55,
          81.75,
          95.5,
          491.13,
          156.01,
          78.471,
          28.03,
          35.6,
          22.07,
          48.15,
          41.17,
          175.66,
          160.93,
          41.67,
          244.28,
          368,
          19.85,
          163.69,
          37.54,
          111.87,
          23.29,
          52.751000000000005,
          51.12,
          202.61,
          45.415,
          63.41,
          30.45,
          21.4,
          29.01,
          43.5,
          76.05,
          54.66,
          54.29,
          54.75,
          90.34,
          76.75,
          30.43,
          52.75,
          92.85,
          65.03,
          25.51,
          13.161,
          51.2617,
          25.04,
          37.16,
          308.3,
          2.8,
          102.55,
          263,
          130.17,
          43.21,
          141.93,
          89.49,
          68.24,
          113.79,
          30.36,
          56.14,
          31.51,
          73.3346,
          114.8176,
          41.07,
          40.22,
          54.76,
          66.26,
          34.78,
          64.04,
          32.16,
          106.73,
          42.265,
          72.63,
          152.01,
          26.31,
          150,
          14.24,
          86.93,
          27.38,
          45.41,
          143.8301,
          66.45,
          29.3716,
          78.97,
          71.7,
          52.51,
          106.72,
          43.81,
          52.535,
          28.7947,
          101.101,
          57.5,
          15.99,
          14.99,
          42.48,
          65.97,
          65.63,
          71.59,
          75.51,
          64.01,
          83.23,
          96.56,
          72.93,
          24.73,
          67.76,
          32.25,
          76.02,
          69.45,
          31.89,
          119.61,
          58.76,
          89.2,
          81.27,
          56.77,
          69.63,
          23.77,
          81.99,
          47.13,
          90.72,
          361.9,
          56.07,
          214.03,
          81.69,
          208.81,
          55.2,
          33.3,
          115.55,
          51.96,
          55.8,
          71.34,
          76.05,
          114.63,
          132.44,
          39.79,
          109.74,
          182.89,
          77.63,
          23.2,
          27.93,
          106.2,
          33.75,
          37.51,
          37.0351,
          56.53,
          10.19,
          54.8844,
          55.25,
          37.01,
          11.05,
          21.02,
          48.5,
          97.96,
          181.94,
          14.71,
          18.83,
          49.65,
          31.92,
          79.86,
          63.75899999999999,
          76.47,
          209.62,
          28.81,
          155,
          38.181,
          18.9,
          44.52,
          104.16,
          46.35,
          87.92,
          22.8,
          42.16,
          65.28,
          37.25,
          12.815,
          55.79,
          35.76,
          136.82,
          119.31,
          29.75,
          17.26,
          15.39,
          189.01,
          12.14,
          183.42,
          140.63,
          37.82,
          126.52,
          158.0203,
          84.21,
          77.26,
          33.23,
          56.8,
          139.13,
          49.6,
          18.3,
          116.3,
          111.9,
          233.10643,
          29.36,
          75.94,
          32.05,
          83.35,
          49.31,
          99.565,
          113.15,
          34.51,
          81.635,
          23.87,
          81.54,
          58.76,
          16.28,
          109.67,
          14.33,
          16.56,
          86.33,
          35.16,
          72.05,
          19.69,
          35,
          159.43,
          130.292,
          113.1982,
          42,
          43.647053,
          22.23,
          75.71,
          61.45,
          27.85,
          256.4,
          45.01,
          70.76,
          78.01,
          141.12,
          52.12,
          17.405,
          47.39,
          85.3725,
          69.33,
          191.09,
          31.29,
          105.8,
          12.71,
          90.25,
          124.36,
          133.82,
          75.44,
          53.63,
          44.58,
          459.34,
          25.15,
          32.38,
          69.76,
          22.64,
          63.22,
          86.95,
          209.9,
          75.79,
          39.19,
          106.97,
          41.02,
          106.48,
          40.06,
          77.23,
          29.39,
          65.98,
          29.9,
          11.481,
          37.43,
          138.26,
          23.85,
          24.41,
          31.42,
          12,
          12.35,
          124.18,
          34.22,
          50.35,
          21.93,
          22.985,
          37.7924,
          109.27,
          83.17,
          231.98,
          46.96,
          14.52,
          51.67,
          95.17,
          169.43,
          65.32,
          47.14,
          40.01,
          61.93,
          88.47,
          145.38,
          32.07,
          54.2,
          39.92,
          57.63,
          15.965,
          52.63,
          31.67,
          38.45,
          96.66,
          75.135,
          73.81,
          125.46,
          115.25,
          66.06,
          99.57,
          29.205,
          115.53,
          1589,
          58.9401,
          80.1,
          36.84,
          48.69,
          97.88,
          41.67,
          180.9254,
          21.06,
          84.53,
          62.68,
          48.92,
          30.23,
          90.1,
          12.7,
          71.35,
          147.86,
          48.89,
          78.48,
          56.66,
          319.5,
          13,
          57.53,
          67.04,
          42.92,
          147.67,
          89.9,
          191.22,
          52.85,
          93.4,
          124.64,
          79.63,
          103.51,
          35.31,
          61.02,
          64.87,
          30.6,
          41.22,
          100.63,
          302.0101,
          46.09,
          150.15,
          90.53,
          91.2,
          140.83,
          42.63,
          49.76,
          121.09,
          52.58,
          75.27,
          61.25,
          122.01,
          51.96,
          25.65,
          26.01,
          64.75,
          48.85,
          66.7,
          48.56,
          71.93,
          24.53,
          74.52,
          45,
          44.91,
          124.09,
          187.02,
          98.851,
          19.23,
          113.76,
          96.2,
          151.69,
          77.93,
          85.88,
          66.44,
          73.53,
          50.96,
          49.87,
          29.5,
          24.81,
          24.3,
          57.2,
          49.535,
          33.31,
          187.96,
          11.4,
          10.36,
          56.51,
          156.49,
          102.12,
          100.62100000000001,
          107.05,
          95.26,
          43.55,
          48.05,
          60.69,
          77.73,
          51.8,
          81.17,
          75.6,
          42.8,
          84.39,
          22.13,
          84.88,
          66.0101,
          108.95,
          66.89,
          63.82,
          69.55,
          145.94,
          56.63,
          49.27,
          55.29,
          71.38,
          18.39,
          49.23,
          30.9504,
          158.8,
          26.8188,
          120.869,
          80.11,
          92.67,
          41.16,
          26.64,
          54.99,
          33.77,
          46.86,
          62.85,
          108.17,
          38.43,
          52
         ]
        },
        {
         "name": "52 Week_High",
         "type": "scatter",
         "x": [
          "MMM",
          "AOS",
          "ABT",
          "ABBV",
          "ACN",
          "ATVI",
          "AYI",
          "ADBE",
          "AAP",
          "AMD",
          "AES",
          "AET",
          "AMG",
          "AFL",
          "A",
          "APD",
          "AKAM",
          "ALK",
          "ALB",
          "ARE",
          "ALXN",
          "ALGN",
          "ALLE",
          "AGN",
          "ADS",
          "LNT",
          "ALL",
          "GOOGL",
          "GOOG",
          "MO",
          "AMZN",
          "AEE",
          "AAL",
          "AEP",
          "AXP",
          "AIG",
          "AMT",
          "AWK",
          "AMP",
          "ABC",
          "AME",
          "AMGN",
          "APH",
          "APC",
          "ADI",
          "ANDV",
          "ANSS",
          "ANTM",
          "AON",
          "APA",
          "AIV",
          "AAPL",
          "AMAT",
          "APTV",
          "ADM",
          "AJG",
          "AIZ",
          "T",
          "ADSK",
          "ADP",
          "AZO",
          "AVB",
          "AVY",
          "BHGE",
          "BLL",
          "BAC",
          "BAX",
          "BBT",
          "BDX",
          "BRK.B",
          "BBY",
          "BIIB",
          "BLK",
          "HRB",
          "BA",
          "BWA",
          "BXP",
          "BSX",
          "BHF",
          "BMY",
          "AVGO",
          "BF.B",
          "CHRW",
          "CA",
          "COG",
          "CDNS",
          "CPB",
          "COF",
          "CAH",
          "KMX",
          "CCL",
          "CAT",
          "CBOE",
          "CBG",
          "CBS",
          "CELG",
          "CNC",
          "CNP",
          "CTL",
          "CERN",
          "CF",
          "SCHW",
          "CHTR",
          "CHK",
          "CVX",
          "CMG",
          "CB",
          "CHD",
          "CI",
          "XEC",
          "CINF",
          "CTAS",
          "CSCO",
          "C",
          "CFG",
          "CTXS",
          "CME",
          "CMS",
          "KO",
          "CTSH",
          "CL",
          "CMCSA",
          "CMA",
          "CAG",
          "CXO",
          "COP",
          "ED",
          "STZ",
          "GLW",
          "COST",
          "COTY",
          "CCI",
          "CSRA",
          "CSX",
          "CMI",
          "CVS",
          "DHI",
          "DHR",
          "DRI",
          "DVA",
          "DE",
          "DAL",
          "XRAY",
          "DVN",
          "DLR",
          "DFS",
          "DISCA",
          "DISCK",
          "DISH",
          "DG",
          "DLTR",
          "D",
          "DOV",
          "DWDP",
          "DPS",
          "DTE",
          "DUK",
          "DRE",
          "DXC",
          "ETFC",
          "EMN",
          "ETN",
          "EBAY",
          "ECL",
          "EIX",
          "EW",
          "EA",
          "EMR",
          "ETR",
          "EVHC",
          "EOG",
          "EQT",
          "EFX",
          "EQIX",
          "EQR",
          "ESS",
          "EL",
          "RE",
          "ES",
          "EXC",
          "EXPE",
          "EXPD",
          "ESRX",
          "EXR",
          "XOM",
          "FFIV",
          "FB",
          "FAST",
          "FRT",
          "FDX",
          "FIS",
          "FITB",
          "FE",
          "FISV",
          "FLIR",
          "FLS",
          "FLR",
          "FMC",
          "F",
          "FTV",
          "FBHS",
          "BEN",
          "FCX",
          "GPS",
          "GRMN",
          "IT",
          "GD",
          "GE",
          "GGP",
          "GIS",
          "GM",
          "GPC",
          "GILD",
          "GPN",
          "GS",
          "GT",
          "GWW",
          "HAL",
          "HBI",
          "HOG",
          "HRS",
          "HIG",
          "HAS",
          "HCP",
          "HP",
          "HSIC",
          "HES",
          "HPE",
          "HLT",
          "HOLX",
          "HD",
          "HON",
          "HRL",
          "HST",
          "HPQ",
          "HUM",
          "HBAN",
          "HII",
          "IDXX",
          "INFO",
          "ITW",
          "ILMN",
          "INCY",
          "IR",
          "INTC",
          "ICE",
          "IBM",
          "IP",
          "IPG",
          "IFF",
          "INTU",
          "ISRG",
          "IVZ",
          "IQV",
          "IRM",
          "JBHT",
          "JEC",
          "SJM",
          "JNJ",
          "JCI",
          "JPM",
          "JNPR",
          "KSU",
          "K",
          "KEY",
          "KMB",
          "KIM",
          "KMI",
          "KLAC",
          "KSS",
          "KHC",
          "KR",
          "LB",
          "LLL",
          "LH",
          "LRCX",
          "LEG",
          "LEN",
          "LUK",
          "LLY",
          "LNC",
          "LKQ",
          "LMT",
          "L",
          "LOW",
          "LYB",
          "MTB",
          "MAC",
          "M",
          "MPC",
          "MAR",
          "MMC",
          "MLM",
          "MAS",
          "MA",
          "MAT",
          "MKC",
          "MCD",
          "MCK",
          "MDT",
          "MRK",
          "MET",
          "MTD",
          "MGM",
          "KORS",
          "MCHP",
          "MU",
          "MSFT",
          "MAA",
          "MHK",
          "TAP",
          "MDLZ",
          "MON",
          "MNST",
          "MCO",
          "MS",
          "MSI",
          "MYL",
          "NDAQ",
          "NOV",
          "NAVI",
          "NTAP",
          "NFLX",
          "NWL",
          "NFX",
          "NEM",
          "NWSA",
          "NWS",
          "NEE",
          "NLSN",
          "NKE",
          "NI",
          "NBL",
          "JWN",
          "NSC",
          "NTRS",
          "NOC",
          "NCLH",
          "NRG",
          "NUE",
          "NVDA",
          "ORLY",
          "OMC",
          "OKE",
          "ORCL",
          "PCAR",
          "PKG",
          "PH",
          "PDCO",
          "PAYX",
          "PYPL",
          "PNR",
          "PBCT",
          "PKI",
          "PFE",
          "PCG",
          "PM",
          "PSX",
          "PNW",
          "PXD",
          "PNC",
          "RL",
          "PPG",
          "PPL",
          "PX",
          "PCLN",
          "PFG",
          "PG",
          "PGR",
          "PLD",
          "PRU",
          "PEG",
          "PSA",
          "PHM",
          "PVH",
          "QRVO",
          "QCOM",
          "PWR",
          "DGX",
          "RRC",
          "RJF",
          "RTN",
          "O",
          "RHT",
          "REG",
          "REGN",
          "RF",
          "RSG",
          "RMD",
          "RHI",
          "ROK",
          "COL",
          "ROP",
          "ROST",
          "RCL",
          "SPGI",
          "CRM",
          "SBAC",
          "SCG",
          "SLB",
          "SNI",
          "STX",
          "SEE",
          "SRE",
          "SHW",
          "SIG",
          "SPG",
          "SWKS",
          "SLG",
          "SNA",
          "SO",
          "LUV",
          "SWK",
          "SBUX",
          "STT",
          "SRCL",
          "SYK",
          "STI",
          "SYMC",
          "SYF",
          "SNPS",
          "SYY",
          "TROW",
          "TGT",
          "TEL",
          "FTI",
          "TXN",
          "TXT",
          "BK",
          "CLX",
          "COO",
          "HSY",
          "MOS",
          "TRV",
          "DIS",
          "TMO",
          "TIF",
          "TWX",
          "TJX",
          "TMK",
          "TSS",
          "TSCO",
          "TRIP",
          "FOXA",
          "FOX",
          "TSN",
          "USB",
          "UDR",
          "ULTA",
          "UAA",
          "UA",
          "UAL",
          "UNH",
          "UPS",
          "URI",
          "UTX",
          "UHS",
          "UNM",
          "VFC",
          "VLO",
          "VAR",
          "VTR",
          "VRSN",
          "VRSK",
          "VZ",
          "VRTX",
          "VIAB",
          "V",
          "VNO",
          "VMC",
          "WMT",
          "WBA",
          "WM",
          "WAT",
          "WEC",
          "WFC",
          "HCN",
          "WDC",
          "WU",
          "WRK",
          "WY",
          "WHR",
          "WMB",
          "WLTW",
          "WYN",
          "WYNN",
          "XEL",
          "XRX",
          "XLNX",
          "XL",
          "XYL",
          "YUM",
          "ZBH",
          "ZION",
          "ZTS"
         ],
         "y": [
          259.77,
          68.39,
          64.6,
          125.86,
          162.6,
          74.945,
          225.36,
          204.45,
          169.55,
          15.65,
          12.05,
          194.4,
          216.995,
          91.73,
          75,
          175.17,
          69.56,
          101.43,
          144.99,
          134.37,
          149.34,
          287.32,
          89.81,
          256.8,
          278.33,
          45.55,
          105.36,
          1198,
          1186.89,
          77.79,
          1498,
          64.89,
          59.08,
          78.07,
          102.385,
          67.3,
          155.28,
          92.37,
          183.9,
          106.27,
          78.51,
          201.23,
          93.62,
          70,
          98.38,
          121.71,
          164.9,
          267.95,
          152.78,
          57.9,
          46.855,
          180.1,
          60.89,
          96.91,
          47.44,
          70.55,
          106.985,
          42.7,
          131.1,
          125.24,
          797.89,
          199.52,
          123.67,
          57.73,
          43.24,
          32.67,
          72.58,
          55.99,
          248.3888,
          217.62,
          78.59,
          370.57,
          594.52,
          31.8,
          361.45,
          58.22,
          140.13,
          29.93,
          75,
          66.1,
          285.68,
          69.9028,
          100.18,
          36.56,
          29.57,
          46,
          64.23,
          106.5,
          84.88,
          77.64,
          72.7,
          173.24,
          138.54,
          46.6,
          70.095,
          147.17,
          112.42,
          30.45,
          27.61,
          73.86,
          43.98,
          56.25,
          408.83,
          6.59,
          133.88,
          499,
          157.5,
          54.1799,
          227.13,
          136.31,
          81.98,
          169.96,
          42.98,
          80.7,
          48.23,
          95,
          163,
          50.85,
          48.615,
          79.28,
          77.91,
          44,
          98.18,
          41.68,
          162.91,
          61.315,
          89.7,
          229.5,
          35.1,
          199.88,
          21.175,
          114.97,
          33.79,
          60.04,
          194.18,
          84,
          53.32,
          104.82,
          100.11,
          80.71,
          171.96,
          60.79,
          68.98,
          47.25,
          127.23,
          81.93,
          30.25,
          29.18,
          66.5,
          105.82,
          116.65,
          85.3,
          109.06,
          77.08,
          126.65,
          116.74,
          91.8,
          30.14,
          102.95,
          56,
          104.08,
          89.85,
          46.99,
          140.5,
          83.38,
          138.48,
          131.01,
          74.45,
          87.95,
          73,
          119,
          67.84,
          147.02,
          495.345,
          70.455,
          270.04,
          138.74,
          277.17,
          66.15,
          42.67,
          161,
          67.54,
          83.485,
          88.56,
          89.3,
          149.5,
          195.32,
          57.815,
          143.79,
          274.66,
          103.65,
          33.91,
          35.22,
          144.2,
          52.88,
          51.92,
          62.09,
          98.7,
          13.48,
          76.68,
          73.62,
          47.65,
          20.25,
          35.68,
          64.96,
          142.16,
          229.54,
          30.59,
          25.72,
          63.73,
          46.76,
          107.75,
          89.54,
          113.26,
          273.79,
          37.2,
          298.145,
          57.86,
          25.73,
          63.4,
          160.67,
          59.2,
          116.2,
          33.67,
          75.02,
          93.495,
          55.48,
          24.88,
          88.11,
          46.8,
          207.605,
          165.13,
          38,
          21.53,
          24.1,
          293.35,
          16.53,
          253.44,
          198.73,
          49.19,
          179.07,
          248.97,
          153.15,
          97.67,
          50.85,
          76.1378,
          182.79,
          66.94,
          25.71,
          157.4,
          170.59,
          452,
          38.43,
          110.67,
          41.53,
          126.49,
          72.18,
          143.68,
          148.32,
          44.37,
          117.3529,
          30.96,
          114.85,
          76.69,
          22.22,
          136.21,
          25.15,
          22.75,
          121.65,
          69.14,
          97.77,
          34.75,
          63.1,
          218.705,
          181.715,
          219.7,
          54.97,
          72.17,
          28.3,
          89.09,
          86.68,
          43.8599,
          361.79,
          53.59,
          108.98,
          121.95,
          193.85,
          69.73,
          33.73,
          73.53,
          149.21,
          86.54,
          244.32,
          46.445,
          177.11,
          26.3,
          109.67,
          178.7,
          178.86,
          89.72,
          66.8,
          56.58,
          697.26,
          38.41,
          69.95,
          99.17,
          49.89,
          96.07,
          110.95,
          286.85,
          102.14,
          47.23,
          123.15,
          70.215,
          167.23,
          58.05,
          107.78,
          47.82,
          83.29,
          41.895,
          16.97,
          64.0599,
          286.81,
          55.08,
          43.74,
          42.04,
          17.29,
          17.7,
          159.64,
          45.73,
          68.83,
          27.76,
          39.6,
          53,
          157.1499,
          108.91,
          349.18,
          61.48,
          29.78,
          70.48,
          249.27,
          279.23,
          86.71,
          61.36,
          53.14,
          79.69,
          131.1316,
          212.8,
          48.295,
          73.1,
          86.32,
          74.84,
          20.14,
          84.49,
          39.43,
          71.57,
          123.55,
          107.47,
          92.48,
          199.83,
          160.07,
          119.33,
          122.0697,
          40.2,
          166.95,
          2067.99,
          75.585,
          94.67,
          58.25,
          67.53,
          127.14,
          53.28,
          232.21,
          35.21,
          157.96,
          85.24,
          69.28,
          40.105,
          112.965,
          34.09,
          99.1,
          213.45,
          63.6,
          135.77,
          72.05,
          543.5518,
          19.9,
          69.4,
          104.78,
          60.59,
          210.72,
          139.63,
          290.415,
          85.66,
          135.65,
          185.38,
          114.52,
          177.67,
          71.28,
          82.71,
          88.87,
          56.45,
          50.62,
          122.975,
          435.15,
          77.94,
          187.35,
          117.65,
          115.34,
          185.47,
          53.51,
          66.985,
          176.62,
          64.87,
          114.27,
          88,
          170,
          72.06,
          34.2,
          40.59,
          94.8,
          64.27,
          120.07,
          78.7,
          108.23,
          35,
          120.75,
          62.19,
          58.99,
          150.4,
          256.39,
          116.49,
          34.36,
          150.55,
          116.1,
          226.44,
          111.44,
          103.9,
          81.46,
          93.595,
          89.92,
          82.68,
          53.29,
          39.135,
          38.56,
          84.65,
          58.5,
          40.71,
          314.86,
          23.46,
          21.805,
          83.04,
          250.79,
          135.53,
          189,
          139.24,
          129.74,
          58.73,
          82.95,
          99.95,
          130.29,
          72.36,
          118.28,
          100.54,
          54.77,
          174.955,
          46.72,
          126.88,
          111.72,
          141.2,
          109.98,
          88,
          89.73,
          220.2,
          70.09,
          66.31,
          78.17,
          95.77,
          22.21,
          71.55,
          37.89,
          202.99,
          33.67,
          165,
          127.96,
          203.63,
          52.22,
          37.42,
          77.26,
          47.27,
          76.81,
          86.93,
          133.49,
          55.61,
          80.13
         ]
        }
       ],
       "layout": {
        "template": {
         "data": {
          "bar": [
           {
            "error_x": {
             "color": "#2a3f5f"
            },
            "error_y": {
             "color": "#2a3f5f"
            },
            "marker": {
             "line": {
              "color": "#E5ECF6",
              "width": 0.5
             }
            },
            "type": "bar"
           }
          ],
          "barpolar": [
           {
            "marker": {
             "line": {
              "color": "#E5ECF6",
              "width": 0.5
             }
            },
            "type": "barpolar"
           }
          ],
          "carpet": [
           {
            "aaxis": {
             "endlinecolor": "#2a3f5f",
             "gridcolor": "white",
             "linecolor": "white",
             "minorgridcolor": "white",
             "startlinecolor": "#2a3f5f"
            },
            "baxis": {
             "endlinecolor": "#2a3f5f",
             "gridcolor": "white",
             "linecolor": "white",
             "minorgridcolor": "white",
             "startlinecolor": "#2a3f5f"
            },
            "type": "carpet"
           }
          ],
          "choropleth": [
           {
            "colorbar": {
             "outlinewidth": 0,
             "ticks": ""
            },
            "type": "choropleth"
           }
          ],
          "contour": [
           {
            "colorbar": {
             "outlinewidth": 0,
             "ticks": ""
            },
            "colorscale": [
             [
              0,
              "#0d0887"
             ],
             [
              0.1111111111111111,
              "#46039f"
             ],
             [
              0.2222222222222222,
              "#7201a8"
             ],
             [
              0.3333333333333333,
              "#9c179e"
             ],
             [
              0.4444444444444444,
              "#bd3786"
             ],
             [
              0.5555555555555556,
              "#d8576b"
             ],
             [
              0.6666666666666666,
              "#ed7953"
             ],
             [
              0.7777777777777778,
              "#fb9f3a"
             ],
             [
              0.8888888888888888,
              "#fdca26"
             ],
             [
              1,
              "#f0f921"
             ]
            ],
            "type": "contour"
           }
          ],
          "contourcarpet": [
           {
            "colorbar": {
             "outlinewidth": 0,
             "ticks": ""
            },
            "type": "contourcarpet"
           }
          ],
          "heatmap": [
           {
            "colorbar": {
             "outlinewidth": 0,
             "ticks": ""
            },
            "colorscale": [
             [
              0,
              "#0d0887"
             ],
             [
              0.1111111111111111,
              "#46039f"
             ],
             [
              0.2222222222222222,
              "#7201a8"
             ],
             [
              0.3333333333333333,
              "#9c179e"
             ],
             [
              0.4444444444444444,
              "#bd3786"
             ],
             [
              0.5555555555555556,
              "#d8576b"
             ],
             [
              0.6666666666666666,
              "#ed7953"
             ],
             [
              0.7777777777777778,
              "#fb9f3a"
             ],
             [
              0.8888888888888888,
              "#fdca26"
             ],
             [
              1,
              "#f0f921"
             ]
            ],
            "type": "heatmap"
           }
          ],
          "heatmapgl": [
           {
            "colorbar": {
             "outlinewidth": 0,
             "ticks": ""
            },
            "colorscale": [
             [
              0,
              "#0d0887"
             ],
             [
              0.1111111111111111,
              "#46039f"
             ],
             [
              0.2222222222222222,
              "#7201a8"
             ],
             [
              0.3333333333333333,
              "#9c179e"
             ],
             [
              0.4444444444444444,
              "#bd3786"
             ],
             [
              0.5555555555555556,
              "#d8576b"
             ],
             [
              0.6666666666666666,
              "#ed7953"
             ],
             [
              0.7777777777777778,
              "#fb9f3a"
             ],
             [
              0.8888888888888888,
              "#fdca26"
             ],
             [
              1,
              "#f0f921"
             ]
            ],
            "type": "heatmapgl"
           }
          ],
          "histogram": [
           {
            "marker": {
             "colorbar": {
              "outlinewidth": 0,
              "ticks": ""
             }
            },
            "type": "histogram"
           }
          ],
          "histogram2d": [
           {
            "colorbar": {
             "outlinewidth": 0,
             "ticks": ""
            },
            "colorscale": [
             [
              0,
              "#0d0887"
             ],
             [
              0.1111111111111111,
              "#46039f"
             ],
             [
              0.2222222222222222,
              "#7201a8"
             ],
             [
              0.3333333333333333,
              "#9c179e"
             ],
             [
              0.4444444444444444,
              "#bd3786"
             ],
             [
              0.5555555555555556,
              "#d8576b"
             ],
             [
              0.6666666666666666,
              "#ed7953"
             ],
             [
              0.7777777777777778,
              "#fb9f3a"
             ],
             [
              0.8888888888888888,
              "#fdca26"
             ],
             [
              1,
              "#f0f921"
             ]
            ],
            "type": "histogram2d"
           }
          ],
          "histogram2dcontour": [
           {
            "colorbar": {
             "outlinewidth": 0,
             "ticks": ""
            },
            "colorscale": [
             [
              0,
              "#0d0887"
             ],
             [
              0.1111111111111111,
              "#46039f"
             ],
             [
              0.2222222222222222,
              "#7201a8"
             ],
             [
              0.3333333333333333,
              "#9c179e"
             ],
             [
              0.4444444444444444,
              "#bd3786"
             ],
             [
              0.5555555555555556,
              "#d8576b"
             ],
             [
              0.6666666666666666,
              "#ed7953"
             ],
             [
              0.7777777777777778,
              "#fb9f3a"
             ],
             [
              0.8888888888888888,
              "#fdca26"
             ],
             [
              1,
              "#f0f921"
             ]
            ],
            "type": "histogram2dcontour"
           }
          ],
          "mesh3d": [
           {
            "colorbar": {
             "outlinewidth": 0,
             "ticks": ""
            },
            "type": "mesh3d"
           }
          ],
          "parcoords": [
           {
            "line": {
             "colorbar": {
              "outlinewidth": 0,
              "ticks": ""
             }
            },
            "type": "parcoords"
           }
          ],
          "pie": [
           {
            "automargin": true,
            "type": "pie"
           }
          ],
          "scatter": [
           {
            "marker": {
             "colorbar": {
              "outlinewidth": 0,
              "ticks": ""
             }
            },
            "type": "scatter"
           }
          ],
          "scatter3d": [
           {
            "line": {
             "colorbar": {
              "outlinewidth": 0,
              "ticks": ""
             }
            },
            "marker": {
             "colorbar": {
              "outlinewidth": 0,
              "ticks": ""
             }
            },
            "type": "scatter3d"
           }
          ],
          "scattercarpet": [
           {
            "marker": {
             "colorbar": {
              "outlinewidth": 0,
              "ticks": ""
             }
            },
            "type": "scattercarpet"
           }
          ],
          "scattergeo": [
           {
            "marker": {
             "colorbar": {
              "outlinewidth": 0,
              "ticks": ""
             }
            },
            "type": "scattergeo"
           }
          ],
          "scattergl": [
           {
            "marker": {
             "colorbar": {
              "outlinewidth": 0,
              "ticks": ""
             }
            },
            "type": "scattergl"
           }
          ],
          "scattermapbox": [
           {
            "marker": {
             "colorbar": {
              "outlinewidth": 0,
              "ticks": ""
             }
            },
            "type": "scattermapbox"
           }
          ],
          "scatterpolar": [
           {
            "marker": {
             "colorbar": {
              "outlinewidth": 0,
              "ticks": ""
             }
            },
            "type": "scatterpolar"
           }
          ],
          "scatterpolargl": [
           {
            "marker": {
             "colorbar": {
              "outlinewidth": 0,
              "ticks": ""
             }
            },
            "type": "scatterpolargl"
           }
          ],
          "scatterternary": [
           {
            "marker": {
             "colorbar": {
              "outlinewidth": 0,
              "ticks": ""
             }
            },
            "type": "scatterternary"
           }
          ],
          "surface": [
           {
            "colorbar": {
             "outlinewidth": 0,
             "ticks": ""
            },
            "colorscale": [
             [
              0,
              "#0d0887"
             ],
             [
              0.1111111111111111,
              "#46039f"
             ],
             [
              0.2222222222222222,
              "#7201a8"
             ],
             [
              0.3333333333333333,
              "#9c179e"
             ],
             [
              0.4444444444444444,
              "#bd3786"
             ],
             [
              0.5555555555555556,
              "#d8576b"
             ],
             [
              0.6666666666666666,
              "#ed7953"
             ],
             [
              0.7777777777777778,
              "#fb9f3a"
             ],
             [
              0.8888888888888888,
              "#fdca26"
             ],
             [
              1,
              "#f0f921"
             ]
            ],
            "type": "surface"
           }
          ],
          "table": [
           {
            "cells": {
             "fill": {
              "color": "#EBF0F8"
             },
             "line": {
              "color": "white"
             }
            },
            "header": {
             "fill": {
              "color": "#C8D4E3"
             },
             "line": {
              "color": "white"
             }
            },
            "type": "table"
           }
          ]
         },
         "layout": {
          "annotationdefaults": {
           "arrowcolor": "#2a3f5f",
           "arrowhead": 0,
           "arrowwidth": 1
          },
          "autotypenumbers": "strict",
          "coloraxis": {
           "colorbar": {
            "outlinewidth": 0,
            "ticks": ""
           }
          },
          "colorscale": {
           "diverging": [
            [
             0,
             "#8e0152"
            ],
            [
             0.1,
             "#c51b7d"
            ],
            [
             0.2,
             "#de77ae"
            ],
            [
             0.3,
             "#f1b6da"
            ],
            [
             0.4,
             "#fde0ef"
            ],
            [
             0.5,
             "#f7f7f7"
            ],
            [
             0.6,
             "#e6f5d0"
            ],
            [
             0.7,
             "#b8e186"
            ],
            [
             0.8,
             "#7fbc41"
            ],
            [
             0.9,
             "#4d9221"
            ],
            [
             1,
             "#276419"
            ]
           ],
           "sequential": [
            [
             0,
             "#0d0887"
            ],
            [
             0.1111111111111111,
             "#46039f"
            ],
            [
             0.2222222222222222,
             "#7201a8"
            ],
            [
             0.3333333333333333,
             "#9c179e"
            ],
            [
             0.4444444444444444,
             "#bd3786"
            ],
            [
             0.5555555555555556,
             "#d8576b"
            ],
            [
             0.6666666666666666,
             "#ed7953"
            ],
            [
             0.7777777777777778,
             "#fb9f3a"
            ],
            [
             0.8888888888888888,
             "#fdca26"
            ],
            [
             1,
             "#f0f921"
            ]
           ],
           "sequentialminus": [
            [
             0,
             "#0d0887"
            ],
            [
             0.1111111111111111,
             "#46039f"
            ],
            [
             0.2222222222222222,
             "#7201a8"
            ],
            [
             0.3333333333333333,
             "#9c179e"
            ],
            [
             0.4444444444444444,
             "#bd3786"
            ],
            [
             0.5555555555555556,
             "#d8576b"
            ],
            [
             0.6666666666666666,
             "#ed7953"
            ],
            [
             0.7777777777777778,
             "#fb9f3a"
            ],
            [
             0.8888888888888888,
             "#fdca26"
            ],
            [
             1,
             "#f0f921"
            ]
           ]
          },
          "colorway": [
           "#636efa",
           "#EF553B",
           "#00cc96",
           "#ab63fa",
           "#FFA15A",
           "#19d3f3",
           "#FF6692",
           "#B6E880",
           "#FF97FF",
           "#FECB52"
          ],
          "font": {
           "color": "#2a3f5f"
          },
          "geo": {
           "bgcolor": "white",
           "lakecolor": "white",
           "landcolor": "#E5ECF6",
           "showlakes": true,
           "showland": true,
           "subunitcolor": "white"
          },
          "hoverlabel": {
           "align": "left"
          },
          "hovermode": "closest",
          "mapbox": {
           "style": "light"
          },
          "paper_bgcolor": "white",
          "plot_bgcolor": "#E5ECF6",
          "polar": {
           "angularaxis": {
            "gridcolor": "white",
            "linecolor": "white",
            "ticks": ""
           },
           "bgcolor": "#E5ECF6",
           "radialaxis": {
            "gridcolor": "white",
            "linecolor": "white",
            "ticks": ""
           }
          },
          "scene": {
           "xaxis": {
            "backgroundcolor": "#E5ECF6",
            "gridcolor": "white",
            "gridwidth": 2,
            "linecolor": "white",
            "showbackground": true,
            "ticks": "",
            "zerolinecolor": "white"
           },
           "yaxis": {
            "backgroundcolor": "#E5ECF6",
            "gridcolor": "white",
            "gridwidth": 2,
            "linecolor": "white",
            "showbackground": true,
            "ticks": "",
            "zerolinecolor": "white"
           },
           "zaxis": {
            "backgroundcolor": "#E5ECF6",
            "gridcolor": "white",
            "gridwidth": 2,
            "linecolor": "white",
            "showbackground": true,
            "ticks": "",
            "zerolinecolor": "white"
           }
          },
          "shapedefaults": {
           "line": {
            "color": "#2a3f5f"
           }
          },
          "ternary": {
           "aaxis": {
            "gridcolor": "white",
            "linecolor": "white",
            "ticks": ""
           },
           "baxis": {
            "gridcolor": "white",
            "linecolor": "white",
            "ticks": ""
           },
           "bgcolor": "#E5ECF6",
           "caxis": {
            "gridcolor": "white",
            "linecolor": "white",
            "ticks": ""
           }
          },
          "title": {
           "x": 0.05
          },
          "xaxis": {
           "automargin": true,
           "gridcolor": "white",
           "linecolor": "white",
           "ticks": "",
           "title": {
            "standoff": 15
           },
           "zerolinecolor": "white",
           "zerolinewidth": 2
          },
          "yaxis": {
           "automargin": true,
           "gridcolor": "white",
           "linecolor": "white",
           "ticks": "",
           "title": {
            "standoff": 15
           },
           "zerolinecolor": "white",
           "zerolinewidth": 2
          }
         }
        },
        "updatemenus": [
         {
          "active": 0,
          "buttons": [
           {
            "args": [
             {
              "visible": [
               true,
               true
              ]
             },
             {
              "title": "Both"
             }
            ],
            "label": "Both",
            "method": "update"
           },
           {
            "args": [
             {
              "visible": [
               true,
               false
              ]
             },
             {
              "title": "52 Week_Low"
             }
            ],
            "label": "52 Week_Low",
            "method": "update"
           },
           {
            "args": [
             {
              "visible": [
               false,
               true
              ]
             },
             {
              "title": "52 Week_High"
             }
            ],
            "label": "52 Week_High",
            "method": "update"
           }
          ]
         }
        ]
       }
      },
      "text/html": [
       "<div>                            <div id=\"1e0f5ef8-e182-4237-9eba-14d0454498e6\" class=\"plotly-graph-div\" style=\"height:525px; width:100%;\"></div>            <script type=\"text/javascript\">                require([\"plotly\"], function(Plotly) {                    window.PLOTLYENV=window.PLOTLYENV || {};                                    if (document.getElementById(\"1e0f5ef8-e182-4237-9eba-14d0454498e6\")) {                    Plotly.newPlot(                        \"1e0f5ef8-e182-4237-9eba-14d0454498e6\",                        [{\"name\": \"52 Week_Low\", \"type\": \"scatter\", \"x\": [\"MMM\", \"AOS\", \"ABT\", \"ABBV\", \"ACN\", \"ATVI\", \"AYI\", \"ADBE\", \"AAP\", \"AMD\", \"AES\", \"AET\", \"AMG\", \"AFL\", \"A\", \"APD\", \"AKAM\", \"ALK\", \"ALB\", \"ARE\", \"ALXN\", \"ALGN\", \"ALLE\", \"AGN\", \"ADS\", \"LNT\", \"ALL\", \"GOOGL\", \"GOOG\", \"MO\", \"AMZN\", \"AEE\", \"AAL\", \"AEP\", \"AXP\", \"AIG\", \"AMT\", \"AWK\", \"AMP\", \"ABC\", \"AME\", \"AMGN\", \"APH\", \"APC\", \"ADI\", \"ANDV\", \"ANSS\", \"ANTM\", \"AON\", \"APA\", \"AIV\", \"AAPL\", \"AMAT\", \"APTV\", \"ADM\", \"AJG\", \"AIZ\", \"T\", \"ADSK\", \"ADP\", \"AZO\", \"AVB\", \"AVY\", \"BHGE\", \"BLL\", \"BAC\", \"BAX\", \"BBT\", \"BDX\", \"BRK.B\", \"BBY\", \"BIIB\", \"BLK\", \"HRB\", \"BA\", \"BWA\", \"BXP\", \"BSX\", \"BHF\", \"BMY\", \"AVGO\", \"BF.B\", \"CHRW\", \"CA\", \"COG\", \"CDNS\", \"CPB\", \"COF\", \"CAH\", \"KMX\", \"CCL\", \"CAT\", \"CBOE\", \"CBG\", \"CBS\", \"CELG\", \"CNC\", \"CNP\", \"CTL\", \"CERN\", \"CF\", \"SCHW\", \"CHTR\", \"CHK\", \"CVX\", \"CMG\", \"CB\", \"CHD\", \"CI\", \"XEC\", \"CINF\", \"CTAS\", \"CSCO\", \"C\", \"CFG\", \"CTXS\", \"CME\", \"CMS\", \"KO\", \"CTSH\", \"CL\", \"CMCSA\", \"CMA\", \"CAG\", \"CXO\", \"COP\", \"ED\", \"STZ\", \"GLW\", \"COST\", \"COTY\", \"CCI\", \"CSRA\", \"CSX\", \"CMI\", \"CVS\", \"DHI\", \"DHR\", \"DRI\", \"DVA\", \"DE\", \"DAL\", \"XRAY\", \"DVN\", \"DLR\", \"DFS\", \"DISCA\", \"DISCK\", \"DISH\", \"DG\", \"DLTR\", \"D\", \"DOV\", \"DWDP\", \"DPS\", \"DTE\", \"DUK\", \"DRE\", \"DXC\", \"ETFC\", \"EMN\", \"ETN\", \"EBAY\", \"ECL\", \"EIX\", \"EW\", \"EA\", \"EMR\", \"ETR\", \"EVHC\", \"EOG\", \"EQT\", \"EFX\", \"EQIX\", \"EQR\", \"ESS\", \"EL\", \"RE\", \"ES\", \"EXC\", \"EXPE\", \"EXPD\", \"ESRX\", \"EXR\", \"XOM\", \"FFIV\", \"FB\", \"FAST\", \"FRT\", \"FDX\", \"FIS\", \"FITB\", \"FE\", \"FISV\", \"FLIR\", \"FLS\", \"FLR\", \"FMC\", \"F\", \"FTV\", \"FBHS\", \"BEN\", \"FCX\", \"GPS\", \"GRMN\", \"IT\", \"GD\", \"GE\", \"GGP\", \"GIS\", \"GM\", \"GPC\", \"GILD\", \"GPN\", \"GS\", \"GT\", \"GWW\", \"HAL\", \"HBI\", \"HOG\", \"HRS\", \"HIG\", \"HAS\", \"HCP\", \"HP\", \"HSIC\", \"HES\", \"HPE\", \"HLT\", \"HOLX\", \"HD\", \"HON\", \"HRL\", \"HST\", \"HPQ\", \"HUM\", \"HBAN\", \"HII\", \"IDXX\", \"INFO\", \"ITW\", \"ILMN\", \"INCY\", \"IR\", \"INTC\", \"ICE\", \"IBM\", \"IP\", \"IPG\", \"IFF\", \"INTU\", \"ISRG\", \"IVZ\", \"IQV\", \"IRM\", \"JBHT\", \"JEC\", \"SJM\", \"JNJ\", \"JCI\", \"JPM\", \"JNPR\", \"KSU\", \"K\", \"KEY\", \"KMB\", \"KIM\", \"KMI\", \"KLAC\", \"KSS\", \"KHC\", \"KR\", \"LB\", \"LLL\", \"LH\", \"LRCX\", \"LEG\", \"LEN\", \"LUK\", \"LLY\", \"LNC\", \"LKQ\", \"LMT\", \"L\", \"LOW\", \"LYB\", \"MTB\", \"MAC\", \"M\", \"MPC\", \"MAR\", \"MMC\", \"MLM\", \"MAS\", \"MA\", \"MAT\", \"MKC\", \"MCD\", \"MCK\", \"MDT\", \"MRK\", \"MET\", \"MTD\", \"MGM\", \"KORS\", \"MCHP\", \"MU\", \"MSFT\", \"MAA\", \"MHK\", \"TAP\", \"MDLZ\", \"MON\", \"MNST\", \"MCO\", \"MS\", \"MSI\", \"MYL\", \"NDAQ\", \"NOV\", \"NAVI\", \"NTAP\", \"NFLX\", \"NWL\", \"NFX\", \"NEM\", \"NWSA\", \"NWS\", \"NEE\", \"NLSN\", \"NKE\", \"NI\", \"NBL\", \"JWN\", \"NSC\", \"NTRS\", \"NOC\", \"NCLH\", \"NRG\", \"NUE\", \"NVDA\", \"ORLY\", \"OMC\", \"OKE\", \"ORCL\", \"PCAR\", \"PKG\", \"PH\", \"PDCO\", \"PAYX\", \"PYPL\", \"PNR\", \"PBCT\", \"PKI\", \"PFE\", \"PCG\", \"PM\", \"PSX\", \"PNW\", \"PXD\", \"PNC\", \"RL\", \"PPG\", \"PPL\", \"PX\", \"PCLN\", \"PFG\", \"PG\", \"PGR\", \"PLD\", \"PRU\", \"PEG\", \"PSA\", \"PHM\", \"PVH\", \"QRVO\", \"QCOM\", \"PWR\", \"DGX\", \"RRC\", \"RJF\", \"RTN\", \"O\", \"RHT\", \"REG\", \"REGN\", \"RF\", \"RSG\", \"RMD\", \"RHI\", \"ROK\", \"COL\", \"ROP\", \"ROST\", \"RCL\", \"SPGI\", \"CRM\", \"SBAC\", \"SCG\", \"SLB\", \"SNI\", \"STX\", \"SEE\", \"SRE\", \"SHW\", \"SIG\", \"SPG\", \"SWKS\", \"SLG\", \"SNA\", \"SO\", \"LUV\", \"SWK\", \"SBUX\", \"STT\", \"SRCL\", \"SYK\", \"STI\", \"SYMC\", \"SYF\", \"SNPS\", \"SYY\", \"TROW\", \"TGT\", \"TEL\", \"FTI\", \"TXN\", \"TXT\", \"BK\", \"CLX\", \"COO\", \"HSY\", \"MOS\", \"TRV\", \"DIS\", \"TMO\", \"TIF\", \"TWX\", \"TJX\", \"TMK\", \"TSS\", \"TSCO\", \"TRIP\", \"FOXA\", \"FOX\", \"TSN\", \"USB\", \"UDR\", \"ULTA\", \"UAA\", \"UA\", \"UAL\", \"UNH\", \"UPS\", \"URI\", \"UTX\", \"UHS\", \"UNM\", \"VFC\", \"VLO\", \"VAR\", \"VTR\", \"VRSN\", \"VRSK\", \"VZ\", \"VRTX\", \"VIAB\", \"V\", \"VNO\", \"VMC\", \"WMT\", \"WBA\", \"WM\", \"WAT\", \"WEC\", \"WFC\", \"HCN\", \"WDC\", \"WU\", \"WRK\", \"WY\", \"WHR\", \"WMB\", \"WLTW\", \"WYN\", \"WYNN\", \"XEL\", \"XRX\", \"XLNX\", \"XL\", \"XYL\", \"YUM\", \"ZBH\", \"ZION\", \"ZTS\"], \"y\": [175.49, 48.925, 42.28, 60.05, 114.82, 38.93, 142.0, 114.45100000000001, 78.81, 9.7, 10.0, 119.51, 148.81, 68.8, 49.23, 133.6301, 44.65, 59.25, 90.35, 106.89, 96.18, 92.61, 66.72, 160.07, 209.0, 36.84, 77.73, 824.3, 803.1903, 60.01, 812.5, 51.81, 39.21, 62.69, 75.51, 57.85, 103.36, 71.89, 118.84, 71.9, 51.31, 152.16, 67.26, 39.96, 74.65, 75.11, 94.52, 156.81, 113.2201, 38.14, 38.85, 131.12, 34.58, 82.97, 38.59, 53.63, 85.91, 32.55, 81.75, 95.5, 491.13, 156.01, 78.471, 28.03, 35.6, 22.07, 48.15, 41.17, 175.66, 160.93, 41.67, 244.28, 368.0, 19.85, 163.69, 37.54, 111.87, 23.29, 52.751000000000005, 51.12, 202.61, 45.415, 63.41, 30.45, 21.4, 29.01, 43.5, 76.05, 54.66, 54.29, 54.75, 90.34, 76.75, 30.43, 52.75, 92.85, 65.03, 25.51, 13.161, 51.2617, 25.04, 37.16, 308.3, 2.8, 102.55, 263.0, 130.17, 43.21, 141.93, 89.49, 68.24, 113.79, 30.36, 56.14, 31.51, 73.3346, 114.8176, 41.07, 40.22, 54.76, 66.26, 34.78, 64.04, 32.16, 106.73, 42.265, 72.63, 152.01, 26.31, 150.0, 14.24, 86.93, 27.38, 45.41, 143.8301, 66.45, 29.3716, 78.97, 71.7, 52.51, 106.72, 43.81, 52.535, 28.7947, 101.101, 57.5, 15.99, 14.99, 42.48, 65.97, 65.63, 71.59, 75.51, 64.01, 83.23, 96.56, 72.93, 24.73, 67.76, 32.25, 76.02, 69.45, 31.89, 119.61, 58.76, 89.2, 81.27, 56.77, 69.63, 23.77, 81.99, 47.13, 90.72, 361.9, 56.07, 214.03, 81.69, 208.81, 55.2, 33.3, 115.55, 51.96, 55.8, 71.34, 76.05, 114.63, 132.44, 39.79, 109.74, 182.89, 77.63, 23.2, 27.93, 106.2, 33.75, 37.51, 37.0351, 56.53, 10.19, 54.8844, 55.25, 37.01, 11.05, 21.02, 48.5, 97.96, 181.94, 14.71, 18.83, 49.65, 31.92, 79.86, 63.75899999999999, 76.47, 209.62, 28.81, 155.0, 38.181, 18.9, 44.52, 104.16, 46.35, 87.92, 22.8, 42.16, 65.28, 37.25, 12.815, 55.79, 35.76, 136.82, 119.31, 29.75, 17.26, 15.39, 189.01, 12.14, 183.42, 140.63, 37.82, 126.52, 158.0203, 84.21, 77.26, 33.23, 56.8, 139.13, 49.6, 18.3, 116.3, 111.9, 233.10643, 29.36, 75.94, 32.05, 83.35, 49.31, 99.565, 113.15, 34.51, 81.635, 23.87, 81.54, 58.76, 16.28, 109.67, 14.33, 16.56, 86.33, 35.16, 72.05, 19.69, 35.0, 159.43, 130.292, 113.1982, 42.0, 43.647053, 22.23, 75.71, 61.45, 27.85, 256.4, 45.01, 70.76, 78.01, 141.12, 52.12, 17.405, 47.39, 85.3725, 69.33, 191.09, 31.29, 105.8, 12.71, 90.25, 124.36, 133.82, 75.44, 53.63, 44.58, 459.34, 25.15, 32.38, 69.76, 22.64, 63.22, 86.95, 209.9, 75.79, 39.19, 106.97, 41.02, 106.48, 40.06, 77.23, 29.39, 65.98, 29.9, 11.481, 37.43, 138.26, 23.85, 24.41, 31.42, 12.0, 12.35, 124.18, 34.22, 50.35, 21.93, 22.985, 37.7924, 109.27, 83.17, 231.98, 46.96, 14.52, 51.67, 95.17, 169.43, 65.32, 47.14, 40.01, 61.93, 88.47, 145.38, 32.07, 54.2, 39.92, 57.63, 15.965, 52.63, 31.67, 38.45, 96.66, 75.135, 73.81, 125.46, 115.25, 66.06, 99.57, 29.205, 115.53, 1589.0, 58.9401, 80.1, 36.84, 48.69, 97.88, 41.67, 180.9254, 21.06, 84.53, 62.68, 48.92, 30.23, 90.1, 12.7, 71.35, 147.86, 48.89, 78.48, 56.66, 319.5, 13.0, 57.53, 67.04, 42.92, 147.67, 89.9, 191.22, 52.85, 93.4, 124.64, 79.63, 103.51, 35.31, 61.02, 64.87, 30.6, 41.22, 100.63, 302.0101, 46.09, 150.15, 90.53, 91.2, 140.83, 42.63, 49.76, 121.09, 52.58, 75.27, 61.25, 122.01, 51.96, 25.65, 26.01, 64.75, 48.85, 66.7, 48.56, 71.93, 24.53, 74.52, 45.0, 44.91, 124.09, 187.02, 98.851, 19.23, 113.76, 96.2, 151.69, 77.93, 85.88, 66.44, 73.53, 50.96, 49.87, 29.5, 24.81, 24.3, 57.2, 49.535, 33.31, 187.96, 11.4, 10.36, 56.51, 156.49, 102.12, 100.62100000000001, 107.05, 95.26, 43.55, 48.05, 60.69, 77.73, 51.8, 81.17, 75.6, 42.8, 84.39, 22.13, 84.88, 66.0101, 108.95, 66.89, 63.82, 69.55, 145.94, 56.63, 49.27, 55.29, 71.38, 18.39, 49.23, 30.9504, 158.8, 26.8188, 120.869, 80.11, 92.67, 41.16, 26.64, 54.99, 33.77, 46.86, 62.85, 108.17, 38.43, 52.0]}, {\"name\": \"52 Week_High\", \"type\": \"scatter\", \"x\": [\"MMM\", \"AOS\", \"ABT\", \"ABBV\", \"ACN\", \"ATVI\", \"AYI\", \"ADBE\", \"AAP\", \"AMD\", \"AES\", \"AET\", \"AMG\", \"AFL\", \"A\", \"APD\", \"AKAM\", \"ALK\", \"ALB\", \"ARE\", \"ALXN\", \"ALGN\", \"ALLE\", \"AGN\", \"ADS\", \"LNT\", \"ALL\", \"GOOGL\", \"GOOG\", \"MO\", \"AMZN\", \"AEE\", \"AAL\", \"AEP\", \"AXP\", \"AIG\", \"AMT\", \"AWK\", \"AMP\", \"ABC\", \"AME\", \"AMGN\", \"APH\", \"APC\", \"ADI\", \"ANDV\", \"ANSS\", \"ANTM\", \"AON\", \"APA\", \"AIV\", \"AAPL\", \"AMAT\", \"APTV\", \"ADM\", \"AJG\", \"AIZ\", \"T\", \"ADSK\", \"ADP\", \"AZO\", \"AVB\", \"AVY\", \"BHGE\", \"BLL\", \"BAC\", \"BAX\", \"BBT\", \"BDX\", \"BRK.B\", \"BBY\", \"BIIB\", \"BLK\", \"HRB\", \"BA\", \"BWA\", \"BXP\", \"BSX\", \"BHF\", \"BMY\", \"AVGO\", \"BF.B\", \"CHRW\", \"CA\", \"COG\", \"CDNS\", \"CPB\", \"COF\", \"CAH\", \"KMX\", \"CCL\", \"CAT\", \"CBOE\", \"CBG\", \"CBS\", \"CELG\", \"CNC\", \"CNP\", \"CTL\", \"CERN\", \"CF\", \"SCHW\", \"CHTR\", \"CHK\", \"CVX\", \"CMG\", \"CB\", \"CHD\", \"CI\", \"XEC\", \"CINF\", \"CTAS\", \"CSCO\", \"C\", \"CFG\", \"CTXS\", \"CME\", \"CMS\", \"KO\", \"CTSH\", \"CL\", \"CMCSA\", \"CMA\", \"CAG\", \"CXO\", \"COP\", \"ED\", \"STZ\", \"GLW\", \"COST\", \"COTY\", \"CCI\", \"CSRA\", \"CSX\", \"CMI\", \"CVS\", \"DHI\", \"DHR\", \"DRI\", \"DVA\", \"DE\", \"DAL\", \"XRAY\", \"DVN\", \"DLR\", \"DFS\", \"DISCA\", \"DISCK\", \"DISH\", \"DG\", \"DLTR\", \"D\", \"DOV\", \"DWDP\", \"DPS\", \"DTE\", \"DUK\", \"DRE\", \"DXC\", \"ETFC\", \"EMN\", \"ETN\", \"EBAY\", \"ECL\", \"EIX\", \"EW\", \"EA\", \"EMR\", \"ETR\", \"EVHC\", \"EOG\", \"EQT\", \"EFX\", \"EQIX\", \"EQR\", \"ESS\", \"EL\", \"RE\", \"ES\", \"EXC\", \"EXPE\", \"EXPD\", \"ESRX\", \"EXR\", \"XOM\", \"FFIV\", \"FB\", \"FAST\", \"FRT\", \"FDX\", \"FIS\", \"FITB\", \"FE\", \"FISV\", \"FLIR\", \"FLS\", \"FLR\", \"FMC\", \"F\", \"FTV\", \"FBHS\", \"BEN\", \"FCX\", \"GPS\", \"GRMN\", \"IT\", \"GD\", \"GE\", \"GGP\", \"GIS\", \"GM\", \"GPC\", \"GILD\", \"GPN\", \"GS\", \"GT\", \"GWW\", \"HAL\", \"HBI\", \"HOG\", \"HRS\", \"HIG\", \"HAS\", \"HCP\", \"HP\", \"HSIC\", \"HES\", \"HPE\", \"HLT\", \"HOLX\", \"HD\", \"HON\", \"HRL\", \"HST\", \"HPQ\", \"HUM\", \"HBAN\", \"HII\", \"IDXX\", \"INFO\", \"ITW\", \"ILMN\", \"INCY\", \"IR\", \"INTC\", \"ICE\", \"IBM\", \"IP\", \"IPG\", \"IFF\", \"INTU\", \"ISRG\", \"IVZ\", \"IQV\", \"IRM\", \"JBHT\", \"JEC\", \"SJM\", \"JNJ\", \"JCI\", \"JPM\", \"JNPR\", \"KSU\", \"K\", \"KEY\", \"KMB\", \"KIM\", \"KMI\", \"KLAC\", \"KSS\", \"KHC\", \"KR\", \"LB\", \"LLL\", \"LH\", \"LRCX\", \"LEG\", \"LEN\", \"LUK\", \"LLY\", \"LNC\", \"LKQ\", \"LMT\", \"L\", \"LOW\", \"LYB\", \"MTB\", \"MAC\", \"M\", \"MPC\", \"MAR\", \"MMC\", \"MLM\", \"MAS\", \"MA\", \"MAT\", \"MKC\", \"MCD\", \"MCK\", \"MDT\", \"MRK\", \"MET\", \"MTD\", \"MGM\", \"KORS\", \"MCHP\", \"MU\", \"MSFT\", \"MAA\", \"MHK\", \"TAP\", \"MDLZ\", \"MON\", \"MNST\", \"MCO\", \"MS\", \"MSI\", \"MYL\", \"NDAQ\", \"NOV\", \"NAVI\", \"NTAP\", \"NFLX\", \"NWL\", \"NFX\", \"NEM\", \"NWSA\", \"NWS\", \"NEE\", \"NLSN\", \"NKE\", \"NI\", \"NBL\", \"JWN\", \"NSC\", \"NTRS\", \"NOC\", \"NCLH\", \"NRG\", \"NUE\", \"NVDA\", \"ORLY\", \"OMC\", \"OKE\", \"ORCL\", \"PCAR\", \"PKG\", \"PH\", \"PDCO\", \"PAYX\", \"PYPL\", \"PNR\", \"PBCT\", \"PKI\", \"PFE\", \"PCG\", \"PM\", \"PSX\", \"PNW\", \"PXD\", \"PNC\", \"RL\", \"PPG\", \"PPL\", \"PX\", \"PCLN\", \"PFG\", \"PG\", \"PGR\", \"PLD\", \"PRU\", \"PEG\", \"PSA\", \"PHM\", \"PVH\", \"QRVO\", \"QCOM\", \"PWR\", \"DGX\", \"RRC\", \"RJF\", \"RTN\", \"O\", \"RHT\", \"REG\", \"REGN\", \"RF\", \"RSG\", \"RMD\", \"RHI\", \"ROK\", \"COL\", \"ROP\", \"ROST\", \"RCL\", \"SPGI\", \"CRM\", \"SBAC\", \"SCG\", \"SLB\", \"SNI\", \"STX\", \"SEE\", \"SRE\", \"SHW\", \"SIG\", \"SPG\", \"SWKS\", \"SLG\", \"SNA\", \"SO\", \"LUV\", \"SWK\", \"SBUX\", \"STT\", \"SRCL\", \"SYK\", \"STI\", \"SYMC\", \"SYF\", \"SNPS\", \"SYY\", \"TROW\", \"TGT\", \"TEL\", \"FTI\", \"TXN\", \"TXT\", \"BK\", \"CLX\", \"COO\", \"HSY\", \"MOS\", \"TRV\", \"DIS\", \"TMO\", \"TIF\", \"TWX\", \"TJX\", \"TMK\", \"TSS\", \"TSCO\", \"TRIP\", \"FOXA\", \"FOX\", \"TSN\", \"USB\", \"UDR\", \"ULTA\", \"UAA\", \"UA\", \"UAL\", \"UNH\", \"UPS\", \"URI\", \"UTX\", \"UHS\", \"UNM\", \"VFC\", \"VLO\", \"VAR\", \"VTR\", \"VRSN\", \"VRSK\", \"VZ\", \"VRTX\", \"VIAB\", \"V\", \"VNO\", \"VMC\", \"WMT\", \"WBA\", \"WM\", \"WAT\", \"WEC\", \"WFC\", \"HCN\", \"WDC\", \"WU\", \"WRK\", \"WY\", \"WHR\", \"WMB\", \"WLTW\", \"WYN\", \"WYNN\", \"XEL\", \"XRX\", \"XLNX\", \"XL\", \"XYL\", \"YUM\", \"ZBH\", \"ZION\", \"ZTS\"], \"y\": [259.77, 68.39, 64.6, 125.86, 162.6, 74.945, 225.36, 204.45, 169.55, 15.65, 12.05, 194.4, 216.995, 91.73, 75.0, 175.17, 69.56, 101.43, 144.99, 134.37, 149.34, 287.32, 89.81, 256.8, 278.33, 45.55, 105.36, 1198.0, 1186.89, 77.79, 1498.0, 64.89, 59.08, 78.07, 102.385, 67.3, 155.28, 92.37, 183.9, 106.27, 78.51, 201.23, 93.62, 70.0, 98.38, 121.71, 164.9, 267.95, 152.78, 57.9, 46.855, 180.1, 60.89, 96.91, 47.44, 70.55, 106.985, 42.7, 131.1, 125.24, 797.89, 199.52, 123.67, 57.73, 43.24, 32.67, 72.58, 55.99, 248.3888, 217.62, 78.59, 370.57, 594.52, 31.8, 361.45, 58.22, 140.13, 29.93, 75.0, 66.1, 285.68, 69.9028, 100.18, 36.56, 29.57, 46.0, 64.23, 106.5, 84.88, 77.64, 72.7, 173.24, 138.54, 46.6, 70.095, 147.17, 112.42, 30.45, 27.61, 73.86, 43.98, 56.25, 408.83, 6.59, 133.88, 499.0, 157.5, 54.1799, 227.13, 136.31, 81.98, 169.96, 42.98, 80.7, 48.23, 95.0, 163.0, 50.85, 48.615, 79.28, 77.91, 44.0, 98.18, 41.68, 162.91, 61.315, 89.7, 229.5, 35.1, 199.88, 21.175, 114.97, 33.79, 60.04, 194.18, 84.0, 53.32, 104.82, 100.11, 80.71, 171.96, 60.79, 68.98, 47.25, 127.23, 81.93, 30.25, 29.18, 66.5, 105.82, 116.65, 85.3, 109.06, 77.08, 126.65, 116.74, 91.8, 30.14, 102.95, 56.0, 104.08, 89.85, 46.99, 140.5, 83.38, 138.48, 131.01, 74.45, 87.95, 73.0, 119.0, 67.84, 147.02, 495.345, 70.455, 270.04, 138.74, 277.17, 66.15, 42.67, 161.0, 67.54, 83.485, 88.56, 89.3, 149.5, 195.32, 57.815, 143.79, 274.66, 103.65, 33.91, 35.22, 144.2, 52.88, 51.92, 62.09, 98.7, 13.48, 76.68, 73.62, 47.65, 20.25, 35.68, 64.96, 142.16, 229.54, 30.59, 25.72, 63.73, 46.76, 107.75, 89.54, 113.26, 273.79, 37.2, 298.145, 57.86, 25.73, 63.4, 160.67, 59.2, 116.2, 33.67, 75.02, 93.495, 55.48, 24.88, 88.11, 46.8, 207.605, 165.13, 38.0, 21.53, 24.1, 293.35, 16.53, 253.44, 198.73, 49.19, 179.07, 248.97, 153.15, 97.67, 50.85, 76.1378, 182.79, 66.94, 25.71, 157.4, 170.59, 452.0, 38.43, 110.67, 41.53, 126.49, 72.18, 143.68, 148.32, 44.37, 117.3529, 30.96, 114.85, 76.69, 22.22, 136.21, 25.15, 22.75, 121.65, 69.14, 97.77, 34.75, 63.1, 218.705, 181.715, 219.7, 54.97, 72.17, 28.3, 89.09, 86.68, 43.8599, 361.79, 53.59, 108.98, 121.95, 193.85, 69.73, 33.73, 73.53, 149.21, 86.54, 244.32, 46.445, 177.11, 26.3, 109.67, 178.7, 178.86, 89.72, 66.8, 56.58, 697.26, 38.41, 69.95, 99.17, 49.89, 96.07, 110.95, 286.85, 102.14, 47.23, 123.15, 70.215, 167.23, 58.05, 107.78, 47.82, 83.29, 41.895, 16.97, 64.0599, 286.81, 55.08, 43.74, 42.04, 17.29, 17.7, 159.64, 45.73, 68.83, 27.76, 39.6, 53.0, 157.1499, 108.91, 349.18, 61.48, 29.78, 70.48, 249.27, 279.23, 86.71, 61.36, 53.14, 79.69, 131.1316, 212.8, 48.295, 73.1, 86.32, 74.84, 20.14, 84.49, 39.43, 71.57, 123.55, 107.47, 92.48, 199.83, 160.07, 119.33, 122.0697, 40.2, 166.95, 2067.99, 75.585, 94.67, 58.25, 67.53, 127.14, 53.28, 232.21, 35.21, 157.96, 85.24, 69.28, 40.105, 112.965, 34.09, 99.1, 213.45, 63.6, 135.77, 72.05, 543.5518, 19.9, 69.4, 104.78, 60.59, 210.72, 139.63, 290.415, 85.66, 135.65, 185.38, 114.52, 177.67, 71.28, 82.71, 88.87, 56.45, 50.62, 122.975, 435.15, 77.94, 187.35, 117.65, 115.34, 185.47, 53.51, 66.985, 176.62, 64.87, 114.27, 88.0, 170.0, 72.06, 34.2, 40.59, 94.8, 64.27, 120.07, 78.7, 108.23, 35.0, 120.75, 62.19, 58.99, 150.4, 256.39, 116.49, 34.36, 150.55, 116.1, 226.44, 111.44, 103.9, 81.46, 93.595, 89.92, 82.68, 53.29, 39.135, 38.56, 84.65, 58.5, 40.71, 314.86, 23.46, 21.805, 83.04, 250.79, 135.53, 189.0, 139.24, 129.74, 58.73, 82.95, 99.95, 130.29, 72.36, 118.28, 100.54, 54.77, 174.955, 46.72, 126.88, 111.72, 141.2, 109.98, 88.0, 89.73, 220.2, 70.09, 66.31, 78.17, 95.77, 22.21, 71.55, 37.89, 202.99, 33.67, 165.0, 127.96, 203.63, 52.22, 37.42, 77.26, 47.27, 76.81, 86.93, 133.49, 55.61, 80.13]}],                        {\"template\": {\"data\": {\"bar\": [{\"error_x\": {\"color\": \"#2a3f5f\"}, \"error_y\": {\"color\": \"#2a3f5f\"}, \"marker\": {\"line\": {\"color\": \"#E5ECF6\", \"width\": 0.5}}, \"type\": \"bar\"}], \"barpolar\": [{\"marker\": {\"line\": {\"color\": \"#E5ECF6\", \"width\": 0.5}}, \"type\": \"barpolar\"}], \"carpet\": [{\"aaxis\": {\"endlinecolor\": \"#2a3f5f\", \"gridcolor\": \"white\", \"linecolor\": \"white\", \"minorgridcolor\": \"white\", \"startlinecolor\": \"#2a3f5f\"}, \"baxis\": {\"endlinecolor\": \"#2a3f5f\", \"gridcolor\": \"white\", \"linecolor\": \"white\", \"minorgridcolor\": \"white\", \"startlinecolor\": \"#2a3f5f\"}, \"type\": \"carpet\"}], \"choropleth\": [{\"colorbar\": {\"outlinewidth\": 0, \"ticks\": \"\"}, \"type\": \"choropleth\"}], \"contour\": [{\"colorbar\": {\"outlinewidth\": 0, \"ticks\": \"\"}, \"colorscale\": [[0.0, \"#0d0887\"], [0.1111111111111111, \"#46039f\"], [0.2222222222222222, \"#7201a8\"], [0.3333333333333333, \"#9c179e\"], [0.4444444444444444, \"#bd3786\"], [0.5555555555555556, \"#d8576b\"], [0.6666666666666666, \"#ed7953\"], [0.7777777777777778, \"#fb9f3a\"], [0.8888888888888888, \"#fdca26\"], [1.0, \"#f0f921\"]], \"type\": \"contour\"}], \"contourcarpet\": [{\"colorbar\": {\"outlinewidth\": 0, \"ticks\": \"\"}, \"type\": \"contourcarpet\"}], \"heatmap\": [{\"colorbar\": {\"outlinewidth\": 0, \"ticks\": \"\"}, \"colorscale\": [[0.0, \"#0d0887\"], [0.1111111111111111, \"#46039f\"], [0.2222222222222222, \"#7201a8\"], [0.3333333333333333, \"#9c179e\"], [0.4444444444444444, \"#bd3786\"], [0.5555555555555556, \"#d8576b\"], [0.6666666666666666, \"#ed7953\"], [0.7777777777777778, \"#fb9f3a\"], [0.8888888888888888, \"#fdca26\"], [1.0, \"#f0f921\"]], \"type\": \"heatmap\"}], \"heatmapgl\": [{\"colorbar\": {\"outlinewidth\": 0, \"ticks\": \"\"}, \"colorscale\": [[0.0, \"#0d0887\"], [0.1111111111111111, \"#46039f\"], [0.2222222222222222, \"#7201a8\"], [0.3333333333333333, \"#9c179e\"], [0.4444444444444444, \"#bd3786\"], [0.5555555555555556, \"#d8576b\"], [0.6666666666666666, \"#ed7953\"], [0.7777777777777778, \"#fb9f3a\"], [0.8888888888888888, \"#fdca26\"], [1.0, \"#f0f921\"]], \"type\": \"heatmapgl\"}], \"histogram\": [{\"marker\": {\"colorbar\": {\"outlinewidth\": 0, \"ticks\": \"\"}}, \"type\": \"histogram\"}], \"histogram2d\": [{\"colorbar\": {\"outlinewidth\": 0, \"ticks\": \"\"}, \"colorscale\": [[0.0, \"#0d0887\"], [0.1111111111111111, \"#46039f\"], [0.2222222222222222, \"#7201a8\"], [0.3333333333333333, \"#9c179e\"], [0.4444444444444444, \"#bd3786\"], [0.5555555555555556, \"#d8576b\"], [0.6666666666666666, \"#ed7953\"], [0.7777777777777778, \"#fb9f3a\"], [0.8888888888888888, \"#fdca26\"], [1.0, \"#f0f921\"]], \"type\": \"histogram2d\"}], \"histogram2dcontour\": [{\"colorbar\": {\"outlinewidth\": 0, \"ticks\": \"\"}, \"colorscale\": [[0.0, \"#0d0887\"], [0.1111111111111111, \"#46039f\"], [0.2222222222222222, \"#7201a8\"], [0.3333333333333333, \"#9c179e\"], [0.4444444444444444, \"#bd3786\"], [0.5555555555555556, \"#d8576b\"], [0.6666666666666666, \"#ed7953\"], [0.7777777777777778, \"#fb9f3a\"], [0.8888888888888888, \"#fdca26\"], [1.0, \"#f0f921\"]], \"type\": \"histogram2dcontour\"}], \"mesh3d\": [{\"colorbar\": {\"outlinewidth\": 0, \"ticks\": \"\"}, \"type\": \"mesh3d\"}], \"parcoords\": [{\"line\": {\"colorbar\": {\"outlinewidth\": 0, \"ticks\": \"\"}}, \"type\": \"parcoords\"}], \"pie\": [{\"automargin\": true, \"type\": \"pie\"}], \"scatter\": [{\"marker\": {\"colorbar\": {\"outlinewidth\": 0, \"ticks\": \"\"}}, \"type\": \"scatter\"}], \"scatter3d\": [{\"line\": {\"colorbar\": {\"outlinewidth\": 0, \"ticks\": \"\"}}, \"marker\": {\"colorbar\": {\"outlinewidth\": 0, \"ticks\": \"\"}}, \"type\": \"scatter3d\"}], \"scattercarpet\": [{\"marker\": {\"colorbar\": {\"outlinewidth\": 0, \"ticks\": \"\"}}, \"type\": \"scattercarpet\"}], \"scattergeo\": [{\"marker\": {\"colorbar\": {\"outlinewidth\": 0, \"ticks\": \"\"}}, \"type\": \"scattergeo\"}], \"scattergl\": [{\"marker\": {\"colorbar\": {\"outlinewidth\": 0, \"ticks\": \"\"}}, \"type\": \"scattergl\"}], \"scattermapbox\": [{\"marker\": {\"colorbar\": {\"outlinewidth\": 0, \"ticks\": \"\"}}, \"type\": \"scattermapbox\"}], \"scatterpolar\": [{\"marker\": {\"colorbar\": {\"outlinewidth\": 0, \"ticks\": \"\"}}, \"type\": \"scatterpolar\"}], \"scatterpolargl\": [{\"marker\": {\"colorbar\": {\"outlinewidth\": 0, \"ticks\": \"\"}}, \"type\": \"scatterpolargl\"}], \"scatterternary\": [{\"marker\": {\"colorbar\": {\"outlinewidth\": 0, \"ticks\": \"\"}}, \"type\": \"scatterternary\"}], \"surface\": [{\"colorbar\": {\"outlinewidth\": 0, \"ticks\": \"\"}, \"colorscale\": [[0.0, \"#0d0887\"], [0.1111111111111111, \"#46039f\"], [0.2222222222222222, \"#7201a8\"], [0.3333333333333333, \"#9c179e\"], [0.4444444444444444, \"#bd3786\"], [0.5555555555555556, \"#d8576b\"], [0.6666666666666666, \"#ed7953\"], [0.7777777777777778, \"#fb9f3a\"], [0.8888888888888888, \"#fdca26\"], [1.0, \"#f0f921\"]], \"type\": \"surface\"}], \"table\": [{\"cells\": {\"fill\": {\"color\": \"#EBF0F8\"}, \"line\": {\"color\": \"white\"}}, \"header\": {\"fill\": {\"color\": \"#C8D4E3\"}, \"line\": {\"color\": \"white\"}}, \"type\": \"table\"}]}, \"layout\": {\"annotationdefaults\": {\"arrowcolor\": \"#2a3f5f\", \"arrowhead\": 0, \"arrowwidth\": 1}, \"autotypenumbers\": \"strict\", \"coloraxis\": {\"colorbar\": {\"outlinewidth\": 0, \"ticks\": \"\"}}, \"colorscale\": {\"diverging\": [[0, \"#8e0152\"], [0.1, \"#c51b7d\"], [0.2, \"#de77ae\"], [0.3, \"#f1b6da\"], [0.4, \"#fde0ef\"], [0.5, \"#f7f7f7\"], [0.6, \"#e6f5d0\"], [0.7, \"#b8e186\"], [0.8, \"#7fbc41\"], [0.9, \"#4d9221\"], [1, \"#276419\"]], \"sequential\": [[0.0, \"#0d0887\"], [0.1111111111111111, \"#46039f\"], [0.2222222222222222, \"#7201a8\"], [0.3333333333333333, \"#9c179e\"], [0.4444444444444444, \"#bd3786\"], [0.5555555555555556, \"#d8576b\"], [0.6666666666666666, \"#ed7953\"], [0.7777777777777778, \"#fb9f3a\"], [0.8888888888888888, \"#fdca26\"], [1.0, \"#f0f921\"]], \"sequentialminus\": [[0.0, \"#0d0887\"], [0.1111111111111111, \"#46039f\"], [0.2222222222222222, \"#7201a8\"], [0.3333333333333333, \"#9c179e\"], [0.4444444444444444, \"#bd3786\"], [0.5555555555555556, \"#d8576b\"], [0.6666666666666666, \"#ed7953\"], [0.7777777777777778, \"#fb9f3a\"], [0.8888888888888888, \"#fdca26\"], [1.0, \"#f0f921\"]]}, \"colorway\": [\"#636efa\", \"#EF553B\", \"#00cc96\", \"#ab63fa\", \"#FFA15A\", \"#19d3f3\", \"#FF6692\", \"#B6E880\", \"#FF97FF\", \"#FECB52\"], \"font\": {\"color\": \"#2a3f5f\"}, \"geo\": {\"bgcolor\": \"white\", \"lakecolor\": \"white\", \"landcolor\": \"#E5ECF6\", \"showlakes\": true, \"showland\": true, \"subunitcolor\": \"white\"}, \"hoverlabel\": {\"align\": \"left\"}, \"hovermode\": \"closest\", \"mapbox\": {\"style\": \"light\"}, \"paper_bgcolor\": \"white\", \"plot_bgcolor\": \"#E5ECF6\", \"polar\": {\"angularaxis\": {\"gridcolor\": \"white\", \"linecolor\": \"white\", \"ticks\": \"\"}, \"bgcolor\": \"#E5ECF6\", \"radialaxis\": {\"gridcolor\": \"white\", \"linecolor\": \"white\", \"ticks\": \"\"}}, \"scene\": {\"xaxis\": {\"backgroundcolor\": \"#E5ECF6\", \"gridcolor\": \"white\", \"gridwidth\": 2, \"linecolor\": \"white\", \"showbackground\": true, \"ticks\": \"\", \"zerolinecolor\": \"white\"}, \"yaxis\": {\"backgroundcolor\": \"#E5ECF6\", \"gridcolor\": \"white\", \"gridwidth\": 2, \"linecolor\": \"white\", \"showbackground\": true, \"ticks\": \"\", \"zerolinecolor\": \"white\"}, \"zaxis\": {\"backgroundcolor\": \"#E5ECF6\", \"gridcolor\": \"white\", \"gridwidth\": 2, \"linecolor\": \"white\", \"showbackground\": true, \"ticks\": \"\", \"zerolinecolor\": \"white\"}}, \"shapedefaults\": {\"line\": {\"color\": \"#2a3f5f\"}}, \"ternary\": {\"aaxis\": {\"gridcolor\": \"white\", \"linecolor\": \"white\", \"ticks\": \"\"}, \"baxis\": {\"gridcolor\": \"white\", \"linecolor\": \"white\", \"ticks\": \"\"}, \"bgcolor\": \"#E5ECF6\", \"caxis\": {\"gridcolor\": \"white\", \"linecolor\": \"white\", \"ticks\": \"\"}}, \"title\": {\"x\": 0.05}, \"xaxis\": {\"automargin\": true, \"gridcolor\": \"white\", \"linecolor\": \"white\", \"ticks\": \"\", \"title\": {\"standoff\": 15}, \"zerolinecolor\": \"white\", \"zerolinewidth\": 2}, \"yaxis\": {\"automargin\": true, \"gridcolor\": \"white\", \"linecolor\": \"white\", \"ticks\": \"\", \"title\": {\"standoff\": 15}, \"zerolinecolor\": \"white\", \"zerolinewidth\": 2}}}, \"updatemenus\": [{\"active\": 0, \"buttons\": [{\"args\": [{\"visible\": [true, true]}, {\"title\": \"Both\"}], \"label\": \"Both\", \"method\": \"update\"}, {\"args\": [{\"visible\": [true, false]}, {\"title\": \"52 Week_Low\"}], \"label\": \"52 Week_Low\", \"method\": \"update\"}, {\"args\": [{\"visible\": [false, true]}, {\"title\": \"52 Week_High\"}], \"label\": \"52 Week_High\", \"method\": \"update\"}]}]},                        {\"responsive\": true}                    ).then(function(){\n",
       "                            \n",
       "var gd = document.getElementById('1e0f5ef8-e182-4237-9eba-14d0454498e6');\n",
       "var x = new MutationObserver(function (mutations, observer) {{\n",
       "        var display = window.getComputedStyle(gd).display;\n",
       "        if (!display || display === 'none') {{\n",
       "            console.log([gd, 'removed!']);\n",
       "            Plotly.purge(gd);\n",
       "            observer.disconnect();\n",
       "        }}\n",
       "}});\n",
       "\n",
       "// Listen for the removal of the full notebook cells\n",
       "var notebookContainer = gd.closest('#notebook-container');\n",
       "if (notebookContainer) {{\n",
       "    x.observe(notebookContainer, {childList: true});\n",
       "}}\n",
       "\n",
       "// Listen for the clearing of the current output cell\n",
       "var outputEl = gd.closest('.output');\n",
       "if (outputEl) {{\n",
       "    x.observe(outputEl, {childList: true});\n",
       "}}\n",
       "\n",
       "                        })                };                });            </script>        </div>"
      ]
     },
     "metadata": {},
     "output_type": "display_data"
    },
    {
     "data": {
      "application/vnd.plotly.v1+json": {
       "config": {
        "plotlyServerURL": "https://plot.ly"
       },
       "data": [
        {
         "name": "52 Week_Low",
         "type": "scatter",
         "x": [
          "MMM",
          "AOS",
          "ABT",
          "ABBV",
          "ACN",
          "ATVI",
          "AYI",
          "ADBE",
          "AAP",
          "AMD",
          "AES",
          "AET",
          "AMG",
          "AFL",
          "A",
          "APD",
          "AKAM",
          "ALK",
          "ALB",
          "ARE",
          "ALXN",
          "ALGN",
          "ALLE",
          "AGN",
          "ADS",
          "LNT",
          "ALL",
          "GOOGL",
          "GOOG",
          "MO",
          "AMZN",
          "AEE",
          "AAL",
          "AEP",
          "AXP",
          "AIG",
          "AMT",
          "AWK",
          "AMP",
          "ABC",
          "AME",
          "AMGN",
          "APH",
          "APC",
          "ADI",
          "ANDV",
          "ANSS",
          "ANTM",
          "AON",
          "APA",
          "AIV",
          "AAPL",
          "AMAT",
          "APTV",
          "ADM",
          "AJG",
          "AIZ",
          "T",
          "ADSK",
          "ADP",
          "AZO",
          "AVB",
          "AVY",
          "BHGE",
          "BLL",
          "BAC",
          "BAX",
          "BBT",
          "BDX",
          "BRK.B",
          "BBY",
          "BIIB",
          "BLK",
          "HRB",
          "BA",
          "BWA",
          "BXP",
          "BSX",
          "BHF",
          "BMY",
          "AVGO",
          "BF.B",
          "CHRW",
          "CA",
          "COG",
          "CDNS",
          "CPB",
          "COF",
          "CAH",
          "KMX",
          "CCL",
          "CAT",
          "CBOE",
          "CBG",
          "CBS",
          "CELG",
          "CNC",
          "CNP",
          "CTL",
          "CERN",
          "CF",
          "SCHW",
          "CHTR",
          "CHK",
          "CVX",
          "CMG",
          "CB",
          "CHD",
          "CI",
          "XEC",
          "CINF",
          "CTAS",
          "CSCO",
          "C",
          "CFG",
          "CTXS",
          "CME",
          "CMS",
          "KO",
          "CTSH",
          "CL",
          "CMCSA",
          "CMA",
          "CAG",
          "CXO",
          "COP",
          "ED",
          "STZ",
          "GLW",
          "COST",
          "COTY",
          "CCI",
          "CSRA",
          "CSX",
          "CMI",
          "CVS",
          "DHI",
          "DHR",
          "DRI",
          "DVA",
          "DE",
          "DAL",
          "XRAY",
          "DVN",
          "DLR",
          "DFS",
          "DISCA",
          "DISCK",
          "DISH",
          "DG",
          "DLTR",
          "D",
          "DOV",
          "DWDP",
          "DPS",
          "DTE",
          "DUK",
          "DRE",
          "DXC",
          "ETFC",
          "EMN",
          "ETN",
          "EBAY",
          "ECL",
          "EIX",
          "EW",
          "EA",
          "EMR",
          "ETR",
          "EVHC",
          "EOG",
          "EQT",
          "EFX",
          "EQIX",
          "EQR",
          "ESS",
          "EL",
          "RE",
          "ES",
          "EXC",
          "EXPE",
          "EXPD",
          "ESRX",
          "EXR",
          "XOM",
          "FFIV",
          "FB",
          "FAST",
          "FRT",
          "FDX",
          "FIS",
          "FITB",
          "FE",
          "FISV",
          "FLIR",
          "FLS",
          "FLR",
          "FMC",
          "F",
          "FTV",
          "FBHS",
          "BEN",
          "FCX",
          "GPS",
          "GRMN",
          "IT",
          "GD",
          "GE",
          "GGP",
          "GIS",
          "GM",
          "GPC",
          "GILD",
          "GPN",
          "GS",
          "GT",
          "GWW",
          "HAL",
          "HBI",
          "HOG",
          "HRS",
          "HIG",
          "HAS",
          "HCP",
          "HP",
          "HSIC",
          "HES",
          "HPE",
          "HLT",
          "HOLX",
          "HD",
          "HON",
          "HRL",
          "HST",
          "HPQ",
          "HUM",
          "HBAN",
          "HII",
          "IDXX",
          "INFO",
          "ITW",
          "ILMN",
          "INCY",
          "IR",
          "INTC",
          "ICE",
          "IBM",
          "IP",
          "IPG",
          "IFF",
          "INTU",
          "ISRG",
          "IVZ",
          "IQV",
          "IRM",
          "JBHT",
          "JEC",
          "SJM",
          "JNJ",
          "JCI",
          "JPM",
          "JNPR",
          "KSU",
          "K",
          "KEY",
          "KMB",
          "KIM",
          "KMI",
          "KLAC",
          "KSS",
          "KHC",
          "KR",
          "LB",
          "LLL",
          "LH",
          "LRCX",
          "LEG",
          "LEN",
          "LUK",
          "LLY",
          "LNC",
          "LKQ",
          "LMT",
          "L",
          "LOW",
          "LYB",
          "MTB",
          "MAC",
          "M",
          "MPC",
          "MAR",
          "MMC",
          "MLM",
          "MAS",
          "MA",
          "MAT",
          "MKC",
          "MCD",
          "MCK",
          "MDT",
          "MRK",
          "MET",
          "MTD",
          "MGM",
          "KORS",
          "MCHP",
          "MU",
          "MSFT",
          "MAA",
          "MHK",
          "TAP",
          "MDLZ",
          "MON",
          "MNST",
          "MCO",
          "MS",
          "MSI",
          "MYL",
          "NDAQ",
          "NOV",
          "NAVI",
          "NTAP",
          "NFLX",
          "NWL",
          "NFX",
          "NEM",
          "NWSA",
          "NWS",
          "NEE",
          "NLSN",
          "NKE",
          "NI",
          "NBL",
          "JWN",
          "NSC",
          "NTRS",
          "NOC",
          "NCLH",
          "NRG",
          "NUE",
          "NVDA",
          "ORLY",
          "OMC",
          "OKE",
          "ORCL",
          "PCAR",
          "PKG",
          "PH",
          "PDCO",
          "PAYX",
          "PYPL",
          "PNR",
          "PBCT",
          "PKI",
          "PFE",
          "PCG",
          "PM",
          "PSX",
          "PNW",
          "PXD",
          "PNC",
          "RL",
          "PPG",
          "PPL",
          "PX",
          "PCLN",
          "PFG",
          "PG",
          "PGR",
          "PLD",
          "PRU",
          "PEG",
          "PSA",
          "PHM",
          "PVH",
          "QRVO",
          "QCOM",
          "PWR",
          "DGX",
          "RRC",
          "RJF",
          "RTN",
          "O",
          "RHT",
          "REG",
          "REGN",
          "RF",
          "RSG",
          "RMD",
          "RHI",
          "ROK",
          "COL",
          "ROP",
          "ROST",
          "RCL",
          "SPGI",
          "CRM",
          "SBAC",
          "SCG",
          "SLB",
          "SNI",
          "STX",
          "SEE",
          "SRE",
          "SHW",
          "SIG",
          "SPG",
          "SWKS",
          "SLG",
          "SNA",
          "SO",
          "LUV",
          "SWK",
          "SBUX",
          "STT",
          "SRCL",
          "SYK",
          "STI",
          "SYMC",
          "SYF",
          "SNPS",
          "SYY",
          "TROW",
          "TGT",
          "TEL",
          "FTI",
          "TXN",
          "TXT",
          "BK",
          "CLX",
          "COO",
          "HSY",
          "MOS",
          "TRV",
          "DIS",
          "TMO",
          "TIF",
          "TWX",
          "TJX",
          "TMK",
          "TSS",
          "TSCO",
          "TRIP",
          "FOXA",
          "FOX",
          "TSN",
          "USB",
          "UDR",
          "ULTA",
          "UAA",
          "UA",
          "UAL",
          "UNH",
          "UPS",
          "URI",
          "UTX",
          "UHS",
          "UNM",
          "VFC",
          "VLO",
          "VAR",
          "VTR",
          "VRSN",
          "VRSK",
          "VZ",
          "VRTX",
          "VIAB",
          "V",
          "VNO",
          "VMC",
          "WMT",
          "WBA",
          "WM",
          "WAT",
          "WEC",
          "WFC",
          "HCN",
          "WDC",
          "WU",
          "WRK",
          "WY",
          "WHR",
          "WMB",
          "WLTW",
          "WYN",
          "WYNN",
          "XEL",
          "XRX",
          "XLNX",
          "XL",
          "XYL",
          "YUM",
          "ZBH",
          "ZION",
          "ZTS"
         ],
         "y": [
          175.49,
          48.925,
          42.28,
          60.05,
          114.82,
          38.93,
          142,
          114.45100000000001,
          78.81,
          9.7,
          10,
          119.51,
          148.81,
          68.8,
          49.23,
          133.6301,
          44.65,
          59.25,
          90.35,
          106.89,
          96.18,
          92.61,
          66.72,
          160.07,
          209,
          36.84,
          77.73,
          824.3,
          803.1903,
          60.01,
          812.5,
          51.81,
          39.21,
          62.69,
          75.51,
          57.85,
          103.36,
          71.89,
          118.84,
          71.9,
          51.31,
          152.16,
          67.26,
          39.96,
          74.65,
          75.11,
          94.52,
          156.81,
          113.2201,
          38.14,
          38.85,
          131.12,
          34.58,
          82.97,
          38.59,
          53.63,
          85.91,
          32.55,
          81.75,
          95.5,
          491.13,
          156.01,
          78.471,
          28.03,
          35.6,
          22.07,
          48.15,
          41.17,
          175.66,
          160.93,
          41.67,
          244.28,
          368,
          19.85,
          163.69,
          37.54,
          111.87,
          23.29,
          52.751000000000005,
          51.12,
          202.61,
          45.415,
          63.41,
          30.45,
          21.4,
          29.01,
          43.5,
          76.05,
          54.66,
          54.29,
          54.75,
          90.34,
          76.75,
          30.43,
          52.75,
          92.85,
          65.03,
          25.51,
          13.161,
          51.2617,
          25.04,
          37.16,
          308.3,
          2.8,
          102.55,
          263,
          130.17,
          43.21,
          141.93,
          89.49,
          68.24,
          113.79,
          30.36,
          56.14,
          31.51,
          73.3346,
          114.8176,
          41.07,
          40.22,
          54.76,
          66.26,
          34.78,
          64.04,
          32.16,
          106.73,
          42.265,
          72.63,
          152.01,
          26.31,
          150,
          14.24,
          86.93,
          27.38,
          45.41,
          143.8301,
          66.45,
          29.3716,
          78.97,
          71.7,
          52.51,
          106.72,
          43.81,
          52.535,
          28.7947,
          101.101,
          57.5,
          15.99,
          14.99,
          42.48,
          65.97,
          65.63,
          71.59,
          75.51,
          64.01,
          83.23,
          96.56,
          72.93,
          24.73,
          67.76,
          32.25,
          76.02,
          69.45,
          31.89,
          119.61,
          58.76,
          89.2,
          81.27,
          56.77,
          69.63,
          23.77,
          81.99,
          47.13,
          90.72,
          361.9,
          56.07,
          214.03,
          81.69,
          208.81,
          55.2,
          33.3,
          115.55,
          51.96,
          55.8,
          71.34,
          76.05,
          114.63,
          132.44,
          39.79,
          109.74,
          182.89,
          77.63,
          23.2,
          27.93,
          106.2,
          33.75,
          37.51,
          37.0351,
          56.53,
          10.19,
          54.8844,
          55.25,
          37.01,
          11.05,
          21.02,
          48.5,
          97.96,
          181.94,
          14.71,
          18.83,
          49.65,
          31.92,
          79.86,
          63.75899999999999,
          76.47,
          209.62,
          28.81,
          155,
          38.181,
          18.9,
          44.52,
          104.16,
          46.35,
          87.92,
          22.8,
          42.16,
          65.28,
          37.25,
          12.815,
          55.79,
          35.76,
          136.82,
          119.31,
          29.75,
          17.26,
          15.39,
          189.01,
          12.14,
          183.42,
          140.63,
          37.82,
          126.52,
          158.0203,
          84.21,
          77.26,
          33.23,
          56.8,
          139.13,
          49.6,
          18.3,
          116.3,
          111.9,
          233.10643,
          29.36,
          75.94,
          32.05,
          83.35,
          49.31,
          99.565,
          113.15,
          34.51,
          81.635,
          23.87,
          81.54,
          58.76,
          16.28,
          109.67,
          14.33,
          16.56,
          86.33,
          35.16,
          72.05,
          19.69,
          35,
          159.43,
          130.292,
          113.1982,
          42,
          43.647053,
          22.23,
          75.71,
          61.45,
          27.85,
          256.4,
          45.01,
          70.76,
          78.01,
          141.12,
          52.12,
          17.405,
          47.39,
          85.3725,
          69.33,
          191.09,
          31.29,
          105.8,
          12.71,
          90.25,
          124.36,
          133.82,
          75.44,
          53.63,
          44.58,
          459.34,
          25.15,
          32.38,
          69.76,
          22.64,
          63.22,
          86.95,
          209.9,
          75.79,
          39.19,
          106.97,
          41.02,
          106.48,
          40.06,
          77.23,
          29.39,
          65.98,
          29.9,
          11.481,
          37.43,
          138.26,
          23.85,
          24.41,
          31.42,
          12,
          12.35,
          124.18,
          34.22,
          50.35,
          21.93,
          22.985,
          37.7924,
          109.27,
          83.17,
          231.98,
          46.96,
          14.52,
          51.67,
          95.17,
          169.43,
          65.32,
          47.14,
          40.01,
          61.93,
          88.47,
          145.38,
          32.07,
          54.2,
          39.92,
          57.63,
          15.965,
          52.63,
          31.67,
          38.45,
          96.66,
          75.135,
          73.81,
          125.46,
          115.25,
          66.06,
          99.57,
          29.205,
          115.53,
          1589,
          58.9401,
          80.1,
          36.84,
          48.69,
          97.88,
          41.67,
          180.9254,
          21.06,
          84.53,
          62.68,
          48.92,
          30.23,
          90.1,
          12.7,
          71.35,
          147.86,
          48.89,
          78.48,
          56.66,
          319.5,
          13,
          57.53,
          67.04,
          42.92,
          147.67,
          89.9,
          191.22,
          52.85,
          93.4,
          124.64,
          79.63,
          103.51,
          35.31,
          61.02,
          64.87,
          30.6,
          41.22,
          100.63,
          302.0101,
          46.09,
          150.15,
          90.53,
          91.2,
          140.83,
          42.63,
          49.76,
          121.09,
          52.58,
          75.27,
          61.25,
          122.01,
          51.96,
          25.65,
          26.01,
          64.75,
          48.85,
          66.7,
          48.56,
          71.93,
          24.53,
          74.52,
          45,
          44.91,
          124.09,
          187.02,
          98.851,
          19.23,
          113.76,
          96.2,
          151.69,
          77.93,
          85.88,
          66.44,
          73.53,
          50.96,
          49.87,
          29.5,
          24.81,
          24.3,
          57.2,
          49.535,
          33.31,
          187.96,
          11.4,
          10.36,
          56.51,
          156.49,
          102.12,
          100.62100000000001,
          107.05,
          95.26,
          43.55,
          48.05,
          60.69,
          77.73,
          51.8,
          81.17,
          75.6,
          42.8,
          84.39,
          22.13,
          84.88,
          66.0101,
          108.95,
          66.89,
          63.82,
          69.55,
          145.94,
          56.63,
          49.27,
          55.29,
          71.38,
          18.39,
          49.23,
          30.9504,
          158.8,
          26.8188,
          120.869,
          80.11,
          92.67,
          41.16,
          26.64,
          54.99,
          33.77,
          46.86,
          62.85,
          108.17,
          38.43,
          52
         ]
        },
        {
         "name": "52 Week_High",
         "type": "scatter",
         "x": [
          "MMM",
          "AOS",
          "ABT",
          "ABBV",
          "ACN",
          "ATVI",
          "AYI",
          "ADBE",
          "AAP",
          "AMD",
          "AES",
          "AET",
          "AMG",
          "AFL",
          "A",
          "APD",
          "AKAM",
          "ALK",
          "ALB",
          "ARE",
          "ALXN",
          "ALGN",
          "ALLE",
          "AGN",
          "ADS",
          "LNT",
          "ALL",
          "GOOGL",
          "GOOG",
          "MO",
          "AMZN",
          "AEE",
          "AAL",
          "AEP",
          "AXP",
          "AIG",
          "AMT",
          "AWK",
          "AMP",
          "ABC",
          "AME",
          "AMGN",
          "APH",
          "APC",
          "ADI",
          "ANDV",
          "ANSS",
          "ANTM",
          "AON",
          "APA",
          "AIV",
          "AAPL",
          "AMAT",
          "APTV",
          "ADM",
          "AJG",
          "AIZ",
          "T",
          "ADSK",
          "ADP",
          "AZO",
          "AVB",
          "AVY",
          "BHGE",
          "BLL",
          "BAC",
          "BAX",
          "BBT",
          "BDX",
          "BRK.B",
          "BBY",
          "BIIB",
          "BLK",
          "HRB",
          "BA",
          "BWA",
          "BXP",
          "BSX",
          "BHF",
          "BMY",
          "AVGO",
          "BF.B",
          "CHRW",
          "CA",
          "COG",
          "CDNS",
          "CPB",
          "COF",
          "CAH",
          "KMX",
          "CCL",
          "CAT",
          "CBOE",
          "CBG",
          "CBS",
          "CELG",
          "CNC",
          "CNP",
          "CTL",
          "CERN",
          "CF",
          "SCHW",
          "CHTR",
          "CHK",
          "CVX",
          "CMG",
          "CB",
          "CHD",
          "CI",
          "XEC",
          "CINF",
          "CTAS",
          "CSCO",
          "C",
          "CFG",
          "CTXS",
          "CME",
          "CMS",
          "KO",
          "CTSH",
          "CL",
          "CMCSA",
          "CMA",
          "CAG",
          "CXO",
          "COP",
          "ED",
          "STZ",
          "GLW",
          "COST",
          "COTY",
          "CCI",
          "CSRA",
          "CSX",
          "CMI",
          "CVS",
          "DHI",
          "DHR",
          "DRI",
          "DVA",
          "DE",
          "DAL",
          "XRAY",
          "DVN",
          "DLR",
          "DFS",
          "DISCA",
          "DISCK",
          "DISH",
          "DG",
          "DLTR",
          "D",
          "DOV",
          "DWDP",
          "DPS",
          "DTE",
          "DUK",
          "DRE",
          "DXC",
          "ETFC",
          "EMN",
          "ETN",
          "EBAY",
          "ECL",
          "EIX",
          "EW",
          "EA",
          "EMR",
          "ETR",
          "EVHC",
          "EOG",
          "EQT",
          "EFX",
          "EQIX",
          "EQR",
          "ESS",
          "EL",
          "RE",
          "ES",
          "EXC",
          "EXPE",
          "EXPD",
          "ESRX",
          "EXR",
          "XOM",
          "FFIV",
          "FB",
          "FAST",
          "FRT",
          "FDX",
          "FIS",
          "FITB",
          "FE",
          "FISV",
          "FLIR",
          "FLS",
          "FLR",
          "FMC",
          "F",
          "FTV",
          "FBHS",
          "BEN",
          "FCX",
          "GPS",
          "GRMN",
          "IT",
          "GD",
          "GE",
          "GGP",
          "GIS",
          "GM",
          "GPC",
          "GILD",
          "GPN",
          "GS",
          "GT",
          "GWW",
          "HAL",
          "HBI",
          "HOG",
          "HRS",
          "HIG",
          "HAS",
          "HCP",
          "HP",
          "HSIC",
          "HES",
          "HPE",
          "HLT",
          "HOLX",
          "HD",
          "HON",
          "HRL",
          "HST",
          "HPQ",
          "HUM",
          "HBAN",
          "HII",
          "IDXX",
          "INFO",
          "ITW",
          "ILMN",
          "INCY",
          "IR",
          "INTC",
          "ICE",
          "IBM",
          "IP",
          "IPG",
          "IFF",
          "INTU",
          "ISRG",
          "IVZ",
          "IQV",
          "IRM",
          "JBHT",
          "JEC",
          "SJM",
          "JNJ",
          "JCI",
          "JPM",
          "JNPR",
          "KSU",
          "K",
          "KEY",
          "KMB",
          "KIM",
          "KMI",
          "KLAC",
          "KSS",
          "KHC",
          "KR",
          "LB",
          "LLL",
          "LH",
          "LRCX",
          "LEG",
          "LEN",
          "LUK",
          "LLY",
          "LNC",
          "LKQ",
          "LMT",
          "L",
          "LOW",
          "LYB",
          "MTB",
          "MAC",
          "M",
          "MPC",
          "MAR",
          "MMC",
          "MLM",
          "MAS",
          "MA",
          "MAT",
          "MKC",
          "MCD",
          "MCK",
          "MDT",
          "MRK",
          "MET",
          "MTD",
          "MGM",
          "KORS",
          "MCHP",
          "MU",
          "MSFT",
          "MAA",
          "MHK",
          "TAP",
          "MDLZ",
          "MON",
          "MNST",
          "MCO",
          "MS",
          "MSI",
          "MYL",
          "NDAQ",
          "NOV",
          "NAVI",
          "NTAP",
          "NFLX",
          "NWL",
          "NFX",
          "NEM",
          "NWSA",
          "NWS",
          "NEE",
          "NLSN",
          "NKE",
          "NI",
          "NBL",
          "JWN",
          "NSC",
          "NTRS",
          "NOC",
          "NCLH",
          "NRG",
          "NUE",
          "NVDA",
          "ORLY",
          "OMC",
          "OKE",
          "ORCL",
          "PCAR",
          "PKG",
          "PH",
          "PDCO",
          "PAYX",
          "PYPL",
          "PNR",
          "PBCT",
          "PKI",
          "PFE",
          "PCG",
          "PM",
          "PSX",
          "PNW",
          "PXD",
          "PNC",
          "RL",
          "PPG",
          "PPL",
          "PX",
          "PCLN",
          "PFG",
          "PG",
          "PGR",
          "PLD",
          "PRU",
          "PEG",
          "PSA",
          "PHM",
          "PVH",
          "QRVO",
          "QCOM",
          "PWR",
          "DGX",
          "RRC",
          "RJF",
          "RTN",
          "O",
          "RHT",
          "REG",
          "REGN",
          "RF",
          "RSG",
          "RMD",
          "RHI",
          "ROK",
          "COL",
          "ROP",
          "ROST",
          "RCL",
          "SPGI",
          "CRM",
          "SBAC",
          "SCG",
          "SLB",
          "SNI",
          "STX",
          "SEE",
          "SRE",
          "SHW",
          "SIG",
          "SPG",
          "SWKS",
          "SLG",
          "SNA",
          "SO",
          "LUV",
          "SWK",
          "SBUX",
          "STT",
          "SRCL",
          "SYK",
          "STI",
          "SYMC",
          "SYF",
          "SNPS",
          "SYY",
          "TROW",
          "TGT",
          "TEL",
          "FTI",
          "TXN",
          "TXT",
          "BK",
          "CLX",
          "COO",
          "HSY",
          "MOS",
          "TRV",
          "DIS",
          "TMO",
          "TIF",
          "TWX",
          "TJX",
          "TMK",
          "TSS",
          "TSCO",
          "TRIP",
          "FOXA",
          "FOX",
          "TSN",
          "USB",
          "UDR",
          "ULTA",
          "UAA",
          "UA",
          "UAL",
          "UNH",
          "UPS",
          "URI",
          "UTX",
          "UHS",
          "UNM",
          "VFC",
          "VLO",
          "VAR",
          "VTR",
          "VRSN",
          "VRSK",
          "VZ",
          "VRTX",
          "VIAB",
          "V",
          "VNO",
          "VMC",
          "WMT",
          "WBA",
          "WM",
          "WAT",
          "WEC",
          "WFC",
          "HCN",
          "WDC",
          "WU",
          "WRK",
          "WY",
          "WHR",
          "WMB",
          "WLTW",
          "WYN",
          "WYNN",
          "XEL",
          "XRX",
          "XLNX",
          "XL",
          "XYL",
          "YUM",
          "ZBH",
          "ZION",
          "ZTS"
         ],
         "y": [
          259.77,
          68.39,
          64.6,
          125.86,
          162.6,
          74.945,
          225.36,
          204.45,
          169.55,
          15.65,
          12.05,
          194.4,
          216.995,
          91.73,
          75,
          175.17,
          69.56,
          101.43,
          144.99,
          134.37,
          149.34,
          287.32,
          89.81,
          256.8,
          278.33,
          45.55,
          105.36,
          1198,
          1186.89,
          77.79,
          1498,
          64.89,
          59.08,
          78.07,
          102.385,
          67.3,
          155.28,
          92.37,
          183.9,
          106.27,
          78.51,
          201.23,
          93.62,
          70,
          98.38,
          121.71,
          164.9,
          267.95,
          152.78,
          57.9,
          46.855,
          180.1,
          60.89,
          96.91,
          47.44,
          70.55,
          106.985,
          42.7,
          131.1,
          125.24,
          797.89,
          199.52,
          123.67,
          57.73,
          43.24,
          32.67,
          72.58,
          55.99,
          248.3888,
          217.62,
          78.59,
          370.57,
          594.52,
          31.8,
          361.45,
          58.22,
          140.13,
          29.93,
          75,
          66.1,
          285.68,
          69.9028,
          100.18,
          36.56,
          29.57,
          46,
          64.23,
          106.5,
          84.88,
          77.64,
          72.7,
          173.24,
          138.54,
          46.6,
          70.095,
          147.17,
          112.42,
          30.45,
          27.61,
          73.86,
          43.98,
          56.25,
          408.83,
          6.59,
          133.88,
          499,
          157.5,
          54.1799,
          227.13,
          136.31,
          81.98,
          169.96,
          42.98,
          80.7,
          48.23,
          95,
          163,
          50.85,
          48.615,
          79.28,
          77.91,
          44,
          98.18,
          41.68,
          162.91,
          61.315,
          89.7,
          229.5,
          35.1,
          199.88,
          21.175,
          114.97,
          33.79,
          60.04,
          194.18,
          84,
          53.32,
          104.82,
          100.11,
          80.71,
          171.96,
          60.79,
          68.98,
          47.25,
          127.23,
          81.93,
          30.25,
          29.18,
          66.5,
          105.82,
          116.65,
          85.3,
          109.06,
          77.08,
          126.65,
          116.74,
          91.8,
          30.14,
          102.95,
          56,
          104.08,
          89.85,
          46.99,
          140.5,
          83.38,
          138.48,
          131.01,
          74.45,
          87.95,
          73,
          119,
          67.84,
          147.02,
          495.345,
          70.455,
          270.04,
          138.74,
          277.17,
          66.15,
          42.67,
          161,
          67.54,
          83.485,
          88.56,
          89.3,
          149.5,
          195.32,
          57.815,
          143.79,
          274.66,
          103.65,
          33.91,
          35.22,
          144.2,
          52.88,
          51.92,
          62.09,
          98.7,
          13.48,
          76.68,
          73.62,
          47.65,
          20.25,
          35.68,
          64.96,
          142.16,
          229.54,
          30.59,
          25.72,
          63.73,
          46.76,
          107.75,
          89.54,
          113.26,
          273.79,
          37.2,
          298.145,
          57.86,
          25.73,
          63.4,
          160.67,
          59.2,
          116.2,
          33.67,
          75.02,
          93.495,
          55.48,
          24.88,
          88.11,
          46.8,
          207.605,
          165.13,
          38,
          21.53,
          24.1,
          293.35,
          16.53,
          253.44,
          198.73,
          49.19,
          179.07,
          248.97,
          153.15,
          97.67,
          50.85,
          76.1378,
          182.79,
          66.94,
          25.71,
          157.4,
          170.59,
          452,
          38.43,
          110.67,
          41.53,
          126.49,
          72.18,
          143.68,
          148.32,
          44.37,
          117.3529,
          30.96,
          114.85,
          76.69,
          22.22,
          136.21,
          25.15,
          22.75,
          121.65,
          69.14,
          97.77,
          34.75,
          63.1,
          218.705,
          181.715,
          219.7,
          54.97,
          72.17,
          28.3,
          89.09,
          86.68,
          43.8599,
          361.79,
          53.59,
          108.98,
          121.95,
          193.85,
          69.73,
          33.73,
          73.53,
          149.21,
          86.54,
          244.32,
          46.445,
          177.11,
          26.3,
          109.67,
          178.7,
          178.86,
          89.72,
          66.8,
          56.58,
          697.26,
          38.41,
          69.95,
          99.17,
          49.89,
          96.07,
          110.95,
          286.85,
          102.14,
          47.23,
          123.15,
          70.215,
          167.23,
          58.05,
          107.78,
          47.82,
          83.29,
          41.895,
          16.97,
          64.0599,
          286.81,
          55.08,
          43.74,
          42.04,
          17.29,
          17.7,
          159.64,
          45.73,
          68.83,
          27.76,
          39.6,
          53,
          157.1499,
          108.91,
          349.18,
          61.48,
          29.78,
          70.48,
          249.27,
          279.23,
          86.71,
          61.36,
          53.14,
          79.69,
          131.1316,
          212.8,
          48.295,
          73.1,
          86.32,
          74.84,
          20.14,
          84.49,
          39.43,
          71.57,
          123.55,
          107.47,
          92.48,
          199.83,
          160.07,
          119.33,
          122.0697,
          40.2,
          166.95,
          2067.99,
          75.585,
          94.67,
          58.25,
          67.53,
          127.14,
          53.28,
          232.21,
          35.21,
          157.96,
          85.24,
          69.28,
          40.105,
          112.965,
          34.09,
          99.1,
          213.45,
          63.6,
          135.77,
          72.05,
          543.5518,
          19.9,
          69.4,
          104.78,
          60.59,
          210.72,
          139.63,
          290.415,
          85.66,
          135.65,
          185.38,
          114.52,
          177.67,
          71.28,
          82.71,
          88.87,
          56.45,
          50.62,
          122.975,
          435.15,
          77.94,
          187.35,
          117.65,
          115.34,
          185.47,
          53.51,
          66.985,
          176.62,
          64.87,
          114.27,
          88,
          170,
          72.06,
          34.2,
          40.59,
          94.8,
          64.27,
          120.07,
          78.7,
          108.23,
          35,
          120.75,
          62.19,
          58.99,
          150.4,
          256.39,
          116.49,
          34.36,
          150.55,
          116.1,
          226.44,
          111.44,
          103.9,
          81.46,
          93.595,
          89.92,
          82.68,
          53.29,
          39.135,
          38.56,
          84.65,
          58.5,
          40.71,
          314.86,
          23.46,
          21.805,
          83.04,
          250.79,
          135.53,
          189,
          139.24,
          129.74,
          58.73,
          82.95,
          99.95,
          130.29,
          72.36,
          118.28,
          100.54,
          54.77,
          174.955,
          46.72,
          126.88,
          111.72,
          141.2,
          109.98,
          88,
          89.73,
          220.2,
          70.09,
          66.31,
          78.17,
          95.77,
          22.21,
          71.55,
          37.89,
          202.99,
          33.67,
          165,
          127.96,
          203.63,
          52.22,
          37.42,
          77.26,
          47.27,
          76.81,
          86.93,
          133.49,
          55.61,
          80.13
         ]
        }
       ],
       "layout": {
        "template": {
         "data": {
          "bar": [
           {
            "error_x": {
             "color": "#2a3f5f"
            },
            "error_y": {
             "color": "#2a3f5f"
            },
            "marker": {
             "line": {
              "color": "#E5ECF6",
              "width": 0.5
             }
            },
            "type": "bar"
           }
          ],
          "barpolar": [
           {
            "marker": {
             "line": {
              "color": "#E5ECF6",
              "width": 0.5
             }
            },
            "type": "barpolar"
           }
          ],
          "carpet": [
           {
            "aaxis": {
             "endlinecolor": "#2a3f5f",
             "gridcolor": "white",
             "linecolor": "white",
             "minorgridcolor": "white",
             "startlinecolor": "#2a3f5f"
            },
            "baxis": {
             "endlinecolor": "#2a3f5f",
             "gridcolor": "white",
             "linecolor": "white",
             "minorgridcolor": "white",
             "startlinecolor": "#2a3f5f"
            },
            "type": "carpet"
           }
          ],
          "choropleth": [
           {
            "colorbar": {
             "outlinewidth": 0,
             "ticks": ""
            },
            "type": "choropleth"
           }
          ],
          "contour": [
           {
            "colorbar": {
             "outlinewidth": 0,
             "ticks": ""
            },
            "colorscale": [
             [
              0,
              "#0d0887"
             ],
             [
              0.1111111111111111,
              "#46039f"
             ],
             [
              0.2222222222222222,
              "#7201a8"
             ],
             [
              0.3333333333333333,
              "#9c179e"
             ],
             [
              0.4444444444444444,
              "#bd3786"
             ],
             [
              0.5555555555555556,
              "#d8576b"
             ],
             [
              0.6666666666666666,
              "#ed7953"
             ],
             [
              0.7777777777777778,
              "#fb9f3a"
             ],
             [
              0.8888888888888888,
              "#fdca26"
             ],
             [
              1,
              "#f0f921"
             ]
            ],
            "type": "contour"
           }
          ],
          "contourcarpet": [
           {
            "colorbar": {
             "outlinewidth": 0,
             "ticks": ""
            },
            "type": "contourcarpet"
           }
          ],
          "heatmap": [
           {
            "colorbar": {
             "outlinewidth": 0,
             "ticks": ""
            },
            "colorscale": [
             [
              0,
              "#0d0887"
             ],
             [
              0.1111111111111111,
              "#46039f"
             ],
             [
              0.2222222222222222,
              "#7201a8"
             ],
             [
              0.3333333333333333,
              "#9c179e"
             ],
             [
              0.4444444444444444,
              "#bd3786"
             ],
             [
              0.5555555555555556,
              "#d8576b"
             ],
             [
              0.6666666666666666,
              "#ed7953"
             ],
             [
              0.7777777777777778,
              "#fb9f3a"
             ],
             [
              0.8888888888888888,
              "#fdca26"
             ],
             [
              1,
              "#f0f921"
             ]
            ],
            "type": "heatmap"
           }
          ],
          "heatmapgl": [
           {
            "colorbar": {
             "outlinewidth": 0,
             "ticks": ""
            },
            "colorscale": [
             [
              0,
              "#0d0887"
             ],
             [
              0.1111111111111111,
              "#46039f"
             ],
             [
              0.2222222222222222,
              "#7201a8"
             ],
             [
              0.3333333333333333,
              "#9c179e"
             ],
             [
              0.4444444444444444,
              "#bd3786"
             ],
             [
              0.5555555555555556,
              "#d8576b"
             ],
             [
              0.6666666666666666,
              "#ed7953"
             ],
             [
              0.7777777777777778,
              "#fb9f3a"
             ],
             [
              0.8888888888888888,
              "#fdca26"
             ],
             [
              1,
              "#f0f921"
             ]
            ],
            "type": "heatmapgl"
           }
          ],
          "histogram": [
           {
            "marker": {
             "colorbar": {
              "outlinewidth": 0,
              "ticks": ""
             }
            },
            "type": "histogram"
           }
          ],
          "histogram2d": [
           {
            "colorbar": {
             "outlinewidth": 0,
             "ticks": ""
            },
            "colorscale": [
             [
              0,
              "#0d0887"
             ],
             [
              0.1111111111111111,
              "#46039f"
             ],
             [
              0.2222222222222222,
              "#7201a8"
             ],
             [
              0.3333333333333333,
              "#9c179e"
             ],
             [
              0.4444444444444444,
              "#bd3786"
             ],
             [
              0.5555555555555556,
              "#d8576b"
             ],
             [
              0.6666666666666666,
              "#ed7953"
             ],
             [
              0.7777777777777778,
              "#fb9f3a"
             ],
             [
              0.8888888888888888,
              "#fdca26"
             ],
             [
              1,
              "#f0f921"
             ]
            ],
            "type": "histogram2d"
           }
          ],
          "histogram2dcontour": [
           {
            "colorbar": {
             "outlinewidth": 0,
             "ticks": ""
            },
            "colorscale": [
             [
              0,
              "#0d0887"
             ],
             [
              0.1111111111111111,
              "#46039f"
             ],
             [
              0.2222222222222222,
              "#7201a8"
             ],
             [
              0.3333333333333333,
              "#9c179e"
             ],
             [
              0.4444444444444444,
              "#bd3786"
             ],
             [
              0.5555555555555556,
              "#d8576b"
             ],
             [
              0.6666666666666666,
              "#ed7953"
             ],
             [
              0.7777777777777778,
              "#fb9f3a"
             ],
             [
              0.8888888888888888,
              "#fdca26"
             ],
             [
              1,
              "#f0f921"
             ]
            ],
            "type": "histogram2dcontour"
           }
          ],
          "mesh3d": [
           {
            "colorbar": {
             "outlinewidth": 0,
             "ticks": ""
            },
            "type": "mesh3d"
           }
          ],
          "parcoords": [
           {
            "line": {
             "colorbar": {
              "outlinewidth": 0,
              "ticks": ""
             }
            },
            "type": "parcoords"
           }
          ],
          "pie": [
           {
            "automargin": true,
            "type": "pie"
           }
          ],
          "scatter": [
           {
            "marker": {
             "colorbar": {
              "outlinewidth": 0,
              "ticks": ""
             }
            },
            "type": "scatter"
           }
          ],
          "scatter3d": [
           {
            "line": {
             "colorbar": {
              "outlinewidth": 0,
              "ticks": ""
             }
            },
            "marker": {
             "colorbar": {
              "outlinewidth": 0,
              "ticks": ""
             }
            },
            "type": "scatter3d"
           }
          ],
          "scattercarpet": [
           {
            "marker": {
             "colorbar": {
              "outlinewidth": 0,
              "ticks": ""
             }
            },
            "type": "scattercarpet"
           }
          ],
          "scattergeo": [
           {
            "marker": {
             "colorbar": {
              "outlinewidth": 0,
              "ticks": ""
             }
            },
            "type": "scattergeo"
           }
          ],
          "scattergl": [
           {
            "marker": {
             "colorbar": {
              "outlinewidth": 0,
              "ticks": ""
             }
            },
            "type": "scattergl"
           }
          ],
          "scattermapbox": [
           {
            "marker": {
             "colorbar": {
              "outlinewidth": 0,
              "ticks": ""
             }
            },
            "type": "scattermapbox"
           }
          ],
          "scatterpolar": [
           {
            "marker": {
             "colorbar": {
              "outlinewidth": 0,
              "ticks": ""
             }
            },
            "type": "scatterpolar"
           }
          ],
          "scatterpolargl": [
           {
            "marker": {
             "colorbar": {
              "outlinewidth": 0,
              "ticks": ""
             }
            },
            "type": "scatterpolargl"
           }
          ],
          "scatterternary": [
           {
            "marker": {
             "colorbar": {
              "outlinewidth": 0,
              "ticks": ""
             }
            },
            "type": "scatterternary"
           }
          ],
          "surface": [
           {
            "colorbar": {
             "outlinewidth": 0,
             "ticks": ""
            },
            "colorscale": [
             [
              0,
              "#0d0887"
             ],
             [
              0.1111111111111111,
              "#46039f"
             ],
             [
              0.2222222222222222,
              "#7201a8"
             ],
             [
              0.3333333333333333,
              "#9c179e"
             ],
             [
              0.4444444444444444,
              "#bd3786"
             ],
             [
              0.5555555555555556,
              "#d8576b"
             ],
             [
              0.6666666666666666,
              "#ed7953"
             ],
             [
              0.7777777777777778,
              "#fb9f3a"
             ],
             [
              0.8888888888888888,
              "#fdca26"
             ],
             [
              1,
              "#f0f921"
             ]
            ],
            "type": "surface"
           }
          ],
          "table": [
           {
            "cells": {
             "fill": {
              "color": "#EBF0F8"
             },
             "line": {
              "color": "white"
             }
            },
            "header": {
             "fill": {
              "color": "#C8D4E3"
             },
             "line": {
              "color": "white"
             }
            },
            "type": "table"
           }
          ]
         },
         "layout": {
          "annotationdefaults": {
           "arrowcolor": "#2a3f5f",
           "arrowhead": 0,
           "arrowwidth": 1
          },
          "autotypenumbers": "strict",
          "coloraxis": {
           "colorbar": {
            "outlinewidth": 0,
            "ticks": ""
           }
          },
          "colorscale": {
           "diverging": [
            [
             0,
             "#8e0152"
            ],
            [
             0.1,
             "#c51b7d"
            ],
            [
             0.2,
             "#de77ae"
            ],
            [
             0.3,
             "#f1b6da"
            ],
            [
             0.4,
             "#fde0ef"
            ],
            [
             0.5,
             "#f7f7f7"
            ],
            [
             0.6,
             "#e6f5d0"
            ],
            [
             0.7,
             "#b8e186"
            ],
            [
             0.8,
             "#7fbc41"
            ],
            [
             0.9,
             "#4d9221"
            ],
            [
             1,
             "#276419"
            ]
           ],
           "sequential": [
            [
             0,
             "#0d0887"
            ],
            [
             0.1111111111111111,
             "#46039f"
            ],
            [
             0.2222222222222222,
             "#7201a8"
            ],
            [
             0.3333333333333333,
             "#9c179e"
            ],
            [
             0.4444444444444444,
             "#bd3786"
            ],
            [
             0.5555555555555556,
             "#d8576b"
            ],
            [
             0.6666666666666666,
             "#ed7953"
            ],
            [
             0.7777777777777778,
             "#fb9f3a"
            ],
            [
             0.8888888888888888,
             "#fdca26"
            ],
            [
             1,
             "#f0f921"
            ]
           ],
           "sequentialminus": [
            [
             0,
             "#0d0887"
            ],
            [
             0.1111111111111111,
             "#46039f"
            ],
            [
             0.2222222222222222,
             "#7201a8"
            ],
            [
             0.3333333333333333,
             "#9c179e"
            ],
            [
             0.4444444444444444,
             "#bd3786"
            ],
            [
             0.5555555555555556,
             "#d8576b"
            ],
            [
             0.6666666666666666,
             "#ed7953"
            ],
            [
             0.7777777777777778,
             "#fb9f3a"
            ],
            [
             0.8888888888888888,
             "#fdca26"
            ],
            [
             1,
             "#f0f921"
            ]
           ]
          },
          "colorway": [
           "#636efa",
           "#EF553B",
           "#00cc96",
           "#ab63fa",
           "#FFA15A",
           "#19d3f3",
           "#FF6692",
           "#B6E880",
           "#FF97FF",
           "#FECB52"
          ],
          "font": {
           "color": "#2a3f5f"
          },
          "geo": {
           "bgcolor": "white",
           "lakecolor": "white",
           "landcolor": "#E5ECF6",
           "showlakes": true,
           "showland": true,
           "subunitcolor": "white"
          },
          "hoverlabel": {
           "align": "left"
          },
          "hovermode": "closest",
          "mapbox": {
           "style": "light"
          },
          "paper_bgcolor": "white",
          "plot_bgcolor": "#E5ECF6",
          "polar": {
           "angularaxis": {
            "gridcolor": "white",
            "linecolor": "white",
            "ticks": ""
           },
           "bgcolor": "#E5ECF6",
           "radialaxis": {
            "gridcolor": "white",
            "linecolor": "white",
            "ticks": ""
           }
          },
          "scene": {
           "xaxis": {
            "backgroundcolor": "#E5ECF6",
            "gridcolor": "white",
            "gridwidth": 2,
            "linecolor": "white",
            "showbackground": true,
            "ticks": "",
            "zerolinecolor": "white"
           },
           "yaxis": {
            "backgroundcolor": "#E5ECF6",
            "gridcolor": "white",
            "gridwidth": 2,
            "linecolor": "white",
            "showbackground": true,
            "ticks": "",
            "zerolinecolor": "white"
           },
           "zaxis": {
            "backgroundcolor": "#E5ECF6",
            "gridcolor": "white",
            "gridwidth": 2,
            "linecolor": "white",
            "showbackground": true,
            "ticks": "",
            "zerolinecolor": "white"
           }
          },
          "shapedefaults": {
           "line": {
            "color": "#2a3f5f"
           }
          },
          "ternary": {
           "aaxis": {
            "gridcolor": "white",
            "linecolor": "white",
            "ticks": ""
           },
           "baxis": {
            "gridcolor": "white",
            "linecolor": "white",
            "ticks": ""
           },
           "bgcolor": "#E5ECF6",
           "caxis": {
            "gridcolor": "white",
            "linecolor": "white",
            "ticks": ""
           }
          },
          "title": {
           "x": 0.05
          },
          "xaxis": {
           "automargin": true,
           "gridcolor": "white",
           "linecolor": "white",
           "ticks": "",
           "title": {
            "standoff": 15
           },
           "zerolinecolor": "white",
           "zerolinewidth": 2
          },
          "yaxis": {
           "automargin": true,
           "gridcolor": "white",
           "linecolor": "white",
           "ticks": "",
           "title": {
            "standoff": 15
           },
           "zerolinecolor": "white",
           "zerolinewidth": 2
          }
         }
        },
        "updatemenus": [
         {
          "active": 0,
          "buttons": [
           {
            "args": [
             {
              "visible": [
               true,
               true
              ]
             },
             {
              "title": "Both"
             }
            ],
            "label": "Both",
            "method": "update"
           },
           {
            "args": [
             {
              "visible": [
               true,
               false
              ]
             },
             {
              "title": "52 Week_Low"
             }
            ],
            "label": "52 Week_Low",
            "method": "update"
           },
           {
            "args": [
             {
              "visible": [
               false,
               true
              ]
             },
             {
              "title": "52 Week_High"
             }
            ],
            "label": "52 Week_High",
            "method": "update"
           }
          ]
         }
        ]
       }
      },
      "text/html": [
       "<div>                            <div id=\"1127d81b-da7d-473b-ba17-b8d598a7a2bb\" class=\"plotly-graph-div\" style=\"height:525px; width:100%;\"></div>            <script type=\"text/javascript\">                require([\"plotly\"], function(Plotly) {                    window.PLOTLYENV=window.PLOTLYENV || {};                                    if (document.getElementById(\"1127d81b-da7d-473b-ba17-b8d598a7a2bb\")) {                    Plotly.newPlot(                        \"1127d81b-da7d-473b-ba17-b8d598a7a2bb\",                        [{\"name\": \"52 Week_Low\", \"type\": \"scatter\", \"x\": [\"MMM\", \"AOS\", \"ABT\", \"ABBV\", \"ACN\", \"ATVI\", \"AYI\", \"ADBE\", \"AAP\", \"AMD\", \"AES\", \"AET\", \"AMG\", \"AFL\", \"A\", \"APD\", \"AKAM\", \"ALK\", \"ALB\", \"ARE\", \"ALXN\", \"ALGN\", \"ALLE\", \"AGN\", \"ADS\", \"LNT\", \"ALL\", \"GOOGL\", \"GOOG\", \"MO\", \"AMZN\", \"AEE\", \"AAL\", \"AEP\", \"AXP\", \"AIG\", \"AMT\", \"AWK\", \"AMP\", \"ABC\", \"AME\", \"AMGN\", \"APH\", \"APC\", \"ADI\", \"ANDV\", \"ANSS\", \"ANTM\", \"AON\", \"APA\", \"AIV\", \"AAPL\", \"AMAT\", \"APTV\", \"ADM\", \"AJG\", \"AIZ\", \"T\", \"ADSK\", \"ADP\", \"AZO\", \"AVB\", \"AVY\", \"BHGE\", \"BLL\", \"BAC\", \"BAX\", \"BBT\", \"BDX\", \"BRK.B\", \"BBY\", \"BIIB\", \"BLK\", \"HRB\", \"BA\", \"BWA\", \"BXP\", \"BSX\", \"BHF\", \"BMY\", \"AVGO\", \"BF.B\", \"CHRW\", \"CA\", \"COG\", \"CDNS\", \"CPB\", \"COF\", \"CAH\", \"KMX\", \"CCL\", \"CAT\", \"CBOE\", \"CBG\", \"CBS\", \"CELG\", \"CNC\", \"CNP\", \"CTL\", \"CERN\", \"CF\", \"SCHW\", \"CHTR\", \"CHK\", \"CVX\", \"CMG\", \"CB\", \"CHD\", \"CI\", \"XEC\", \"CINF\", \"CTAS\", \"CSCO\", \"C\", \"CFG\", \"CTXS\", \"CME\", \"CMS\", \"KO\", \"CTSH\", \"CL\", \"CMCSA\", \"CMA\", \"CAG\", \"CXO\", \"COP\", \"ED\", \"STZ\", \"GLW\", \"COST\", \"COTY\", \"CCI\", \"CSRA\", \"CSX\", \"CMI\", \"CVS\", \"DHI\", \"DHR\", \"DRI\", \"DVA\", \"DE\", \"DAL\", \"XRAY\", \"DVN\", \"DLR\", \"DFS\", \"DISCA\", \"DISCK\", \"DISH\", \"DG\", \"DLTR\", \"D\", \"DOV\", \"DWDP\", \"DPS\", \"DTE\", \"DUK\", \"DRE\", \"DXC\", \"ETFC\", \"EMN\", \"ETN\", \"EBAY\", \"ECL\", \"EIX\", \"EW\", \"EA\", \"EMR\", \"ETR\", \"EVHC\", \"EOG\", \"EQT\", \"EFX\", \"EQIX\", \"EQR\", \"ESS\", \"EL\", \"RE\", \"ES\", \"EXC\", \"EXPE\", \"EXPD\", \"ESRX\", \"EXR\", \"XOM\", \"FFIV\", \"FB\", \"FAST\", \"FRT\", \"FDX\", \"FIS\", \"FITB\", \"FE\", \"FISV\", \"FLIR\", \"FLS\", \"FLR\", \"FMC\", \"F\", \"FTV\", \"FBHS\", \"BEN\", \"FCX\", \"GPS\", \"GRMN\", \"IT\", \"GD\", \"GE\", \"GGP\", \"GIS\", \"GM\", \"GPC\", \"GILD\", \"GPN\", \"GS\", \"GT\", \"GWW\", \"HAL\", \"HBI\", \"HOG\", \"HRS\", \"HIG\", \"HAS\", \"HCP\", \"HP\", \"HSIC\", \"HES\", \"HPE\", \"HLT\", \"HOLX\", \"HD\", \"HON\", \"HRL\", \"HST\", \"HPQ\", \"HUM\", \"HBAN\", \"HII\", \"IDXX\", \"INFO\", \"ITW\", \"ILMN\", \"INCY\", \"IR\", \"INTC\", \"ICE\", \"IBM\", \"IP\", \"IPG\", \"IFF\", \"INTU\", \"ISRG\", \"IVZ\", \"IQV\", \"IRM\", \"JBHT\", \"JEC\", \"SJM\", \"JNJ\", \"JCI\", \"JPM\", \"JNPR\", \"KSU\", \"K\", \"KEY\", \"KMB\", \"KIM\", \"KMI\", \"KLAC\", \"KSS\", \"KHC\", \"KR\", \"LB\", \"LLL\", \"LH\", \"LRCX\", \"LEG\", \"LEN\", \"LUK\", \"LLY\", \"LNC\", \"LKQ\", \"LMT\", \"L\", \"LOW\", \"LYB\", \"MTB\", \"MAC\", \"M\", \"MPC\", \"MAR\", \"MMC\", \"MLM\", \"MAS\", \"MA\", \"MAT\", \"MKC\", \"MCD\", \"MCK\", \"MDT\", \"MRK\", \"MET\", \"MTD\", \"MGM\", \"KORS\", \"MCHP\", \"MU\", \"MSFT\", \"MAA\", \"MHK\", \"TAP\", \"MDLZ\", \"MON\", \"MNST\", \"MCO\", \"MS\", \"MSI\", \"MYL\", \"NDAQ\", \"NOV\", \"NAVI\", \"NTAP\", \"NFLX\", \"NWL\", \"NFX\", \"NEM\", \"NWSA\", \"NWS\", \"NEE\", \"NLSN\", \"NKE\", \"NI\", \"NBL\", \"JWN\", \"NSC\", \"NTRS\", \"NOC\", \"NCLH\", \"NRG\", \"NUE\", \"NVDA\", \"ORLY\", \"OMC\", \"OKE\", \"ORCL\", \"PCAR\", \"PKG\", \"PH\", \"PDCO\", \"PAYX\", \"PYPL\", \"PNR\", \"PBCT\", \"PKI\", \"PFE\", \"PCG\", \"PM\", \"PSX\", \"PNW\", \"PXD\", \"PNC\", \"RL\", \"PPG\", \"PPL\", \"PX\", \"PCLN\", \"PFG\", \"PG\", \"PGR\", \"PLD\", \"PRU\", \"PEG\", \"PSA\", \"PHM\", \"PVH\", \"QRVO\", \"QCOM\", \"PWR\", \"DGX\", \"RRC\", \"RJF\", \"RTN\", \"O\", \"RHT\", \"REG\", \"REGN\", \"RF\", \"RSG\", \"RMD\", \"RHI\", \"ROK\", \"COL\", \"ROP\", \"ROST\", \"RCL\", \"SPGI\", \"CRM\", \"SBAC\", \"SCG\", \"SLB\", \"SNI\", \"STX\", \"SEE\", \"SRE\", \"SHW\", \"SIG\", \"SPG\", \"SWKS\", \"SLG\", \"SNA\", \"SO\", \"LUV\", \"SWK\", \"SBUX\", \"STT\", \"SRCL\", \"SYK\", \"STI\", \"SYMC\", \"SYF\", \"SNPS\", \"SYY\", \"TROW\", \"TGT\", \"TEL\", \"FTI\", \"TXN\", \"TXT\", \"BK\", \"CLX\", \"COO\", \"HSY\", \"MOS\", \"TRV\", \"DIS\", \"TMO\", \"TIF\", \"TWX\", \"TJX\", \"TMK\", \"TSS\", \"TSCO\", \"TRIP\", \"FOXA\", \"FOX\", \"TSN\", \"USB\", \"UDR\", \"ULTA\", \"UAA\", \"UA\", \"UAL\", \"UNH\", \"UPS\", \"URI\", \"UTX\", \"UHS\", \"UNM\", \"VFC\", \"VLO\", \"VAR\", \"VTR\", \"VRSN\", \"VRSK\", \"VZ\", \"VRTX\", \"VIAB\", \"V\", \"VNO\", \"VMC\", \"WMT\", \"WBA\", \"WM\", \"WAT\", \"WEC\", \"WFC\", \"HCN\", \"WDC\", \"WU\", \"WRK\", \"WY\", \"WHR\", \"WMB\", \"WLTW\", \"WYN\", \"WYNN\", \"XEL\", \"XRX\", \"XLNX\", \"XL\", \"XYL\", \"YUM\", \"ZBH\", \"ZION\", \"ZTS\"], \"y\": [175.49, 48.925, 42.28, 60.05, 114.82, 38.93, 142.0, 114.45100000000001, 78.81, 9.7, 10.0, 119.51, 148.81, 68.8, 49.23, 133.6301, 44.65, 59.25, 90.35, 106.89, 96.18, 92.61, 66.72, 160.07, 209.0, 36.84, 77.73, 824.3, 803.1903, 60.01, 812.5, 51.81, 39.21, 62.69, 75.51, 57.85, 103.36, 71.89, 118.84, 71.9, 51.31, 152.16, 67.26, 39.96, 74.65, 75.11, 94.52, 156.81, 113.2201, 38.14, 38.85, 131.12, 34.58, 82.97, 38.59, 53.63, 85.91, 32.55, 81.75, 95.5, 491.13, 156.01, 78.471, 28.03, 35.6, 22.07, 48.15, 41.17, 175.66, 160.93, 41.67, 244.28, 368.0, 19.85, 163.69, 37.54, 111.87, 23.29, 52.751000000000005, 51.12, 202.61, 45.415, 63.41, 30.45, 21.4, 29.01, 43.5, 76.05, 54.66, 54.29, 54.75, 90.34, 76.75, 30.43, 52.75, 92.85, 65.03, 25.51, 13.161, 51.2617, 25.04, 37.16, 308.3, 2.8, 102.55, 263.0, 130.17, 43.21, 141.93, 89.49, 68.24, 113.79, 30.36, 56.14, 31.51, 73.3346, 114.8176, 41.07, 40.22, 54.76, 66.26, 34.78, 64.04, 32.16, 106.73, 42.265, 72.63, 152.01, 26.31, 150.0, 14.24, 86.93, 27.38, 45.41, 143.8301, 66.45, 29.3716, 78.97, 71.7, 52.51, 106.72, 43.81, 52.535, 28.7947, 101.101, 57.5, 15.99, 14.99, 42.48, 65.97, 65.63, 71.59, 75.51, 64.01, 83.23, 96.56, 72.93, 24.73, 67.76, 32.25, 76.02, 69.45, 31.89, 119.61, 58.76, 89.2, 81.27, 56.77, 69.63, 23.77, 81.99, 47.13, 90.72, 361.9, 56.07, 214.03, 81.69, 208.81, 55.2, 33.3, 115.55, 51.96, 55.8, 71.34, 76.05, 114.63, 132.44, 39.79, 109.74, 182.89, 77.63, 23.2, 27.93, 106.2, 33.75, 37.51, 37.0351, 56.53, 10.19, 54.8844, 55.25, 37.01, 11.05, 21.02, 48.5, 97.96, 181.94, 14.71, 18.83, 49.65, 31.92, 79.86, 63.75899999999999, 76.47, 209.62, 28.81, 155.0, 38.181, 18.9, 44.52, 104.16, 46.35, 87.92, 22.8, 42.16, 65.28, 37.25, 12.815, 55.79, 35.76, 136.82, 119.31, 29.75, 17.26, 15.39, 189.01, 12.14, 183.42, 140.63, 37.82, 126.52, 158.0203, 84.21, 77.26, 33.23, 56.8, 139.13, 49.6, 18.3, 116.3, 111.9, 233.10643, 29.36, 75.94, 32.05, 83.35, 49.31, 99.565, 113.15, 34.51, 81.635, 23.87, 81.54, 58.76, 16.28, 109.67, 14.33, 16.56, 86.33, 35.16, 72.05, 19.69, 35.0, 159.43, 130.292, 113.1982, 42.0, 43.647053, 22.23, 75.71, 61.45, 27.85, 256.4, 45.01, 70.76, 78.01, 141.12, 52.12, 17.405, 47.39, 85.3725, 69.33, 191.09, 31.29, 105.8, 12.71, 90.25, 124.36, 133.82, 75.44, 53.63, 44.58, 459.34, 25.15, 32.38, 69.76, 22.64, 63.22, 86.95, 209.9, 75.79, 39.19, 106.97, 41.02, 106.48, 40.06, 77.23, 29.39, 65.98, 29.9, 11.481, 37.43, 138.26, 23.85, 24.41, 31.42, 12.0, 12.35, 124.18, 34.22, 50.35, 21.93, 22.985, 37.7924, 109.27, 83.17, 231.98, 46.96, 14.52, 51.67, 95.17, 169.43, 65.32, 47.14, 40.01, 61.93, 88.47, 145.38, 32.07, 54.2, 39.92, 57.63, 15.965, 52.63, 31.67, 38.45, 96.66, 75.135, 73.81, 125.46, 115.25, 66.06, 99.57, 29.205, 115.53, 1589.0, 58.9401, 80.1, 36.84, 48.69, 97.88, 41.67, 180.9254, 21.06, 84.53, 62.68, 48.92, 30.23, 90.1, 12.7, 71.35, 147.86, 48.89, 78.48, 56.66, 319.5, 13.0, 57.53, 67.04, 42.92, 147.67, 89.9, 191.22, 52.85, 93.4, 124.64, 79.63, 103.51, 35.31, 61.02, 64.87, 30.6, 41.22, 100.63, 302.0101, 46.09, 150.15, 90.53, 91.2, 140.83, 42.63, 49.76, 121.09, 52.58, 75.27, 61.25, 122.01, 51.96, 25.65, 26.01, 64.75, 48.85, 66.7, 48.56, 71.93, 24.53, 74.52, 45.0, 44.91, 124.09, 187.02, 98.851, 19.23, 113.76, 96.2, 151.69, 77.93, 85.88, 66.44, 73.53, 50.96, 49.87, 29.5, 24.81, 24.3, 57.2, 49.535, 33.31, 187.96, 11.4, 10.36, 56.51, 156.49, 102.12, 100.62100000000001, 107.05, 95.26, 43.55, 48.05, 60.69, 77.73, 51.8, 81.17, 75.6, 42.8, 84.39, 22.13, 84.88, 66.0101, 108.95, 66.89, 63.82, 69.55, 145.94, 56.63, 49.27, 55.29, 71.38, 18.39, 49.23, 30.9504, 158.8, 26.8188, 120.869, 80.11, 92.67, 41.16, 26.64, 54.99, 33.77, 46.86, 62.85, 108.17, 38.43, 52.0]}, {\"name\": \"52 Week_High\", \"type\": \"scatter\", \"x\": [\"MMM\", \"AOS\", \"ABT\", \"ABBV\", \"ACN\", \"ATVI\", \"AYI\", \"ADBE\", \"AAP\", \"AMD\", \"AES\", \"AET\", \"AMG\", \"AFL\", \"A\", \"APD\", \"AKAM\", \"ALK\", \"ALB\", \"ARE\", \"ALXN\", \"ALGN\", \"ALLE\", \"AGN\", \"ADS\", \"LNT\", \"ALL\", \"GOOGL\", \"GOOG\", \"MO\", \"AMZN\", \"AEE\", \"AAL\", \"AEP\", \"AXP\", \"AIG\", \"AMT\", \"AWK\", \"AMP\", \"ABC\", \"AME\", \"AMGN\", \"APH\", \"APC\", \"ADI\", \"ANDV\", \"ANSS\", \"ANTM\", \"AON\", \"APA\", \"AIV\", \"AAPL\", \"AMAT\", \"APTV\", \"ADM\", \"AJG\", \"AIZ\", \"T\", \"ADSK\", \"ADP\", \"AZO\", \"AVB\", \"AVY\", \"BHGE\", \"BLL\", \"BAC\", \"BAX\", \"BBT\", \"BDX\", \"BRK.B\", \"BBY\", \"BIIB\", \"BLK\", \"HRB\", \"BA\", \"BWA\", \"BXP\", \"BSX\", \"BHF\", \"BMY\", \"AVGO\", \"BF.B\", \"CHRW\", \"CA\", \"COG\", \"CDNS\", \"CPB\", \"COF\", \"CAH\", \"KMX\", \"CCL\", \"CAT\", \"CBOE\", \"CBG\", \"CBS\", \"CELG\", \"CNC\", \"CNP\", \"CTL\", \"CERN\", \"CF\", \"SCHW\", \"CHTR\", \"CHK\", \"CVX\", \"CMG\", \"CB\", \"CHD\", \"CI\", \"XEC\", \"CINF\", \"CTAS\", \"CSCO\", \"C\", \"CFG\", \"CTXS\", \"CME\", \"CMS\", \"KO\", \"CTSH\", \"CL\", \"CMCSA\", \"CMA\", \"CAG\", \"CXO\", \"COP\", \"ED\", \"STZ\", \"GLW\", \"COST\", \"COTY\", \"CCI\", \"CSRA\", \"CSX\", \"CMI\", \"CVS\", \"DHI\", \"DHR\", \"DRI\", \"DVA\", \"DE\", \"DAL\", \"XRAY\", \"DVN\", \"DLR\", \"DFS\", \"DISCA\", \"DISCK\", \"DISH\", \"DG\", \"DLTR\", \"D\", \"DOV\", \"DWDP\", \"DPS\", \"DTE\", \"DUK\", \"DRE\", \"DXC\", \"ETFC\", \"EMN\", \"ETN\", \"EBAY\", \"ECL\", \"EIX\", \"EW\", \"EA\", \"EMR\", \"ETR\", \"EVHC\", \"EOG\", \"EQT\", \"EFX\", \"EQIX\", \"EQR\", \"ESS\", \"EL\", \"RE\", \"ES\", \"EXC\", \"EXPE\", \"EXPD\", \"ESRX\", \"EXR\", \"XOM\", \"FFIV\", \"FB\", \"FAST\", \"FRT\", \"FDX\", \"FIS\", \"FITB\", \"FE\", \"FISV\", \"FLIR\", \"FLS\", \"FLR\", \"FMC\", \"F\", \"FTV\", \"FBHS\", \"BEN\", \"FCX\", \"GPS\", \"GRMN\", \"IT\", \"GD\", \"GE\", \"GGP\", \"GIS\", \"GM\", \"GPC\", \"GILD\", \"GPN\", \"GS\", \"GT\", \"GWW\", \"HAL\", \"HBI\", \"HOG\", \"HRS\", \"HIG\", \"HAS\", \"HCP\", \"HP\", \"HSIC\", \"HES\", \"HPE\", \"HLT\", \"HOLX\", \"HD\", \"HON\", \"HRL\", \"HST\", \"HPQ\", \"HUM\", \"HBAN\", \"HII\", \"IDXX\", \"INFO\", \"ITW\", \"ILMN\", \"INCY\", \"IR\", \"INTC\", \"ICE\", \"IBM\", \"IP\", \"IPG\", \"IFF\", \"INTU\", \"ISRG\", \"IVZ\", \"IQV\", \"IRM\", \"JBHT\", \"JEC\", \"SJM\", \"JNJ\", \"JCI\", \"JPM\", \"JNPR\", \"KSU\", \"K\", \"KEY\", \"KMB\", \"KIM\", \"KMI\", \"KLAC\", \"KSS\", \"KHC\", \"KR\", \"LB\", \"LLL\", \"LH\", \"LRCX\", \"LEG\", \"LEN\", \"LUK\", \"LLY\", \"LNC\", \"LKQ\", \"LMT\", \"L\", \"LOW\", \"LYB\", \"MTB\", \"MAC\", \"M\", \"MPC\", \"MAR\", \"MMC\", \"MLM\", \"MAS\", \"MA\", \"MAT\", \"MKC\", \"MCD\", \"MCK\", \"MDT\", \"MRK\", \"MET\", \"MTD\", \"MGM\", \"KORS\", \"MCHP\", \"MU\", \"MSFT\", \"MAA\", \"MHK\", \"TAP\", \"MDLZ\", \"MON\", \"MNST\", \"MCO\", \"MS\", \"MSI\", \"MYL\", \"NDAQ\", \"NOV\", \"NAVI\", \"NTAP\", \"NFLX\", \"NWL\", \"NFX\", \"NEM\", \"NWSA\", \"NWS\", \"NEE\", \"NLSN\", \"NKE\", \"NI\", \"NBL\", \"JWN\", \"NSC\", \"NTRS\", \"NOC\", \"NCLH\", \"NRG\", \"NUE\", \"NVDA\", \"ORLY\", \"OMC\", \"OKE\", \"ORCL\", \"PCAR\", \"PKG\", \"PH\", \"PDCO\", \"PAYX\", \"PYPL\", \"PNR\", \"PBCT\", \"PKI\", \"PFE\", \"PCG\", \"PM\", \"PSX\", \"PNW\", \"PXD\", \"PNC\", \"RL\", \"PPG\", \"PPL\", \"PX\", \"PCLN\", \"PFG\", \"PG\", \"PGR\", \"PLD\", \"PRU\", \"PEG\", \"PSA\", \"PHM\", \"PVH\", \"QRVO\", \"QCOM\", \"PWR\", \"DGX\", \"RRC\", \"RJF\", \"RTN\", \"O\", \"RHT\", \"REG\", \"REGN\", \"RF\", \"RSG\", \"RMD\", \"RHI\", \"ROK\", \"COL\", \"ROP\", \"ROST\", \"RCL\", \"SPGI\", \"CRM\", \"SBAC\", \"SCG\", \"SLB\", \"SNI\", \"STX\", \"SEE\", \"SRE\", \"SHW\", \"SIG\", \"SPG\", \"SWKS\", \"SLG\", \"SNA\", \"SO\", \"LUV\", \"SWK\", \"SBUX\", \"STT\", \"SRCL\", \"SYK\", \"STI\", \"SYMC\", \"SYF\", \"SNPS\", \"SYY\", \"TROW\", \"TGT\", \"TEL\", \"FTI\", \"TXN\", \"TXT\", \"BK\", \"CLX\", \"COO\", \"HSY\", \"MOS\", \"TRV\", \"DIS\", \"TMO\", \"TIF\", \"TWX\", \"TJX\", \"TMK\", \"TSS\", \"TSCO\", \"TRIP\", \"FOXA\", \"FOX\", \"TSN\", \"USB\", \"UDR\", \"ULTA\", \"UAA\", \"UA\", \"UAL\", \"UNH\", \"UPS\", \"URI\", \"UTX\", \"UHS\", \"UNM\", \"VFC\", \"VLO\", \"VAR\", \"VTR\", \"VRSN\", \"VRSK\", \"VZ\", \"VRTX\", \"VIAB\", \"V\", \"VNO\", \"VMC\", \"WMT\", \"WBA\", \"WM\", \"WAT\", \"WEC\", \"WFC\", \"HCN\", \"WDC\", \"WU\", \"WRK\", \"WY\", \"WHR\", \"WMB\", \"WLTW\", \"WYN\", \"WYNN\", \"XEL\", \"XRX\", \"XLNX\", \"XL\", \"XYL\", \"YUM\", \"ZBH\", \"ZION\", \"ZTS\"], \"y\": [259.77, 68.39, 64.6, 125.86, 162.6, 74.945, 225.36, 204.45, 169.55, 15.65, 12.05, 194.4, 216.995, 91.73, 75.0, 175.17, 69.56, 101.43, 144.99, 134.37, 149.34, 287.32, 89.81, 256.8, 278.33, 45.55, 105.36, 1198.0, 1186.89, 77.79, 1498.0, 64.89, 59.08, 78.07, 102.385, 67.3, 155.28, 92.37, 183.9, 106.27, 78.51, 201.23, 93.62, 70.0, 98.38, 121.71, 164.9, 267.95, 152.78, 57.9, 46.855, 180.1, 60.89, 96.91, 47.44, 70.55, 106.985, 42.7, 131.1, 125.24, 797.89, 199.52, 123.67, 57.73, 43.24, 32.67, 72.58, 55.99, 248.3888, 217.62, 78.59, 370.57, 594.52, 31.8, 361.45, 58.22, 140.13, 29.93, 75.0, 66.1, 285.68, 69.9028, 100.18, 36.56, 29.57, 46.0, 64.23, 106.5, 84.88, 77.64, 72.7, 173.24, 138.54, 46.6, 70.095, 147.17, 112.42, 30.45, 27.61, 73.86, 43.98, 56.25, 408.83, 6.59, 133.88, 499.0, 157.5, 54.1799, 227.13, 136.31, 81.98, 169.96, 42.98, 80.7, 48.23, 95.0, 163.0, 50.85, 48.615, 79.28, 77.91, 44.0, 98.18, 41.68, 162.91, 61.315, 89.7, 229.5, 35.1, 199.88, 21.175, 114.97, 33.79, 60.04, 194.18, 84.0, 53.32, 104.82, 100.11, 80.71, 171.96, 60.79, 68.98, 47.25, 127.23, 81.93, 30.25, 29.18, 66.5, 105.82, 116.65, 85.3, 109.06, 77.08, 126.65, 116.74, 91.8, 30.14, 102.95, 56.0, 104.08, 89.85, 46.99, 140.5, 83.38, 138.48, 131.01, 74.45, 87.95, 73.0, 119.0, 67.84, 147.02, 495.345, 70.455, 270.04, 138.74, 277.17, 66.15, 42.67, 161.0, 67.54, 83.485, 88.56, 89.3, 149.5, 195.32, 57.815, 143.79, 274.66, 103.65, 33.91, 35.22, 144.2, 52.88, 51.92, 62.09, 98.7, 13.48, 76.68, 73.62, 47.65, 20.25, 35.68, 64.96, 142.16, 229.54, 30.59, 25.72, 63.73, 46.76, 107.75, 89.54, 113.26, 273.79, 37.2, 298.145, 57.86, 25.73, 63.4, 160.67, 59.2, 116.2, 33.67, 75.02, 93.495, 55.48, 24.88, 88.11, 46.8, 207.605, 165.13, 38.0, 21.53, 24.1, 293.35, 16.53, 253.44, 198.73, 49.19, 179.07, 248.97, 153.15, 97.67, 50.85, 76.1378, 182.79, 66.94, 25.71, 157.4, 170.59, 452.0, 38.43, 110.67, 41.53, 126.49, 72.18, 143.68, 148.32, 44.37, 117.3529, 30.96, 114.85, 76.69, 22.22, 136.21, 25.15, 22.75, 121.65, 69.14, 97.77, 34.75, 63.1, 218.705, 181.715, 219.7, 54.97, 72.17, 28.3, 89.09, 86.68, 43.8599, 361.79, 53.59, 108.98, 121.95, 193.85, 69.73, 33.73, 73.53, 149.21, 86.54, 244.32, 46.445, 177.11, 26.3, 109.67, 178.7, 178.86, 89.72, 66.8, 56.58, 697.26, 38.41, 69.95, 99.17, 49.89, 96.07, 110.95, 286.85, 102.14, 47.23, 123.15, 70.215, 167.23, 58.05, 107.78, 47.82, 83.29, 41.895, 16.97, 64.0599, 286.81, 55.08, 43.74, 42.04, 17.29, 17.7, 159.64, 45.73, 68.83, 27.76, 39.6, 53.0, 157.1499, 108.91, 349.18, 61.48, 29.78, 70.48, 249.27, 279.23, 86.71, 61.36, 53.14, 79.69, 131.1316, 212.8, 48.295, 73.1, 86.32, 74.84, 20.14, 84.49, 39.43, 71.57, 123.55, 107.47, 92.48, 199.83, 160.07, 119.33, 122.0697, 40.2, 166.95, 2067.99, 75.585, 94.67, 58.25, 67.53, 127.14, 53.28, 232.21, 35.21, 157.96, 85.24, 69.28, 40.105, 112.965, 34.09, 99.1, 213.45, 63.6, 135.77, 72.05, 543.5518, 19.9, 69.4, 104.78, 60.59, 210.72, 139.63, 290.415, 85.66, 135.65, 185.38, 114.52, 177.67, 71.28, 82.71, 88.87, 56.45, 50.62, 122.975, 435.15, 77.94, 187.35, 117.65, 115.34, 185.47, 53.51, 66.985, 176.62, 64.87, 114.27, 88.0, 170.0, 72.06, 34.2, 40.59, 94.8, 64.27, 120.07, 78.7, 108.23, 35.0, 120.75, 62.19, 58.99, 150.4, 256.39, 116.49, 34.36, 150.55, 116.1, 226.44, 111.44, 103.9, 81.46, 93.595, 89.92, 82.68, 53.29, 39.135, 38.56, 84.65, 58.5, 40.71, 314.86, 23.46, 21.805, 83.04, 250.79, 135.53, 189.0, 139.24, 129.74, 58.73, 82.95, 99.95, 130.29, 72.36, 118.28, 100.54, 54.77, 174.955, 46.72, 126.88, 111.72, 141.2, 109.98, 88.0, 89.73, 220.2, 70.09, 66.31, 78.17, 95.77, 22.21, 71.55, 37.89, 202.99, 33.67, 165.0, 127.96, 203.63, 52.22, 37.42, 77.26, 47.27, 76.81, 86.93, 133.49, 55.61, 80.13]}],                        {\"template\": {\"data\": {\"bar\": [{\"error_x\": {\"color\": \"#2a3f5f\"}, \"error_y\": {\"color\": \"#2a3f5f\"}, \"marker\": {\"line\": {\"color\": \"#E5ECF6\", \"width\": 0.5}}, \"type\": \"bar\"}], \"barpolar\": [{\"marker\": {\"line\": {\"color\": \"#E5ECF6\", \"width\": 0.5}}, \"type\": \"barpolar\"}], \"carpet\": [{\"aaxis\": {\"endlinecolor\": \"#2a3f5f\", \"gridcolor\": \"white\", \"linecolor\": \"white\", \"minorgridcolor\": \"white\", \"startlinecolor\": \"#2a3f5f\"}, \"baxis\": {\"endlinecolor\": \"#2a3f5f\", \"gridcolor\": \"white\", \"linecolor\": \"white\", \"minorgridcolor\": \"white\", \"startlinecolor\": \"#2a3f5f\"}, \"type\": \"carpet\"}], \"choropleth\": [{\"colorbar\": {\"outlinewidth\": 0, \"ticks\": \"\"}, \"type\": \"choropleth\"}], \"contour\": [{\"colorbar\": {\"outlinewidth\": 0, \"ticks\": \"\"}, \"colorscale\": [[0.0, \"#0d0887\"], [0.1111111111111111, \"#46039f\"], [0.2222222222222222, \"#7201a8\"], [0.3333333333333333, \"#9c179e\"], [0.4444444444444444, \"#bd3786\"], [0.5555555555555556, \"#d8576b\"], [0.6666666666666666, \"#ed7953\"], [0.7777777777777778, \"#fb9f3a\"], [0.8888888888888888, \"#fdca26\"], [1.0, \"#f0f921\"]], \"type\": \"contour\"}], \"contourcarpet\": [{\"colorbar\": {\"outlinewidth\": 0, \"ticks\": \"\"}, \"type\": \"contourcarpet\"}], \"heatmap\": [{\"colorbar\": {\"outlinewidth\": 0, \"ticks\": \"\"}, \"colorscale\": [[0.0, \"#0d0887\"], [0.1111111111111111, \"#46039f\"], [0.2222222222222222, \"#7201a8\"], [0.3333333333333333, \"#9c179e\"], [0.4444444444444444, \"#bd3786\"], [0.5555555555555556, \"#d8576b\"], [0.6666666666666666, \"#ed7953\"], [0.7777777777777778, \"#fb9f3a\"], [0.8888888888888888, \"#fdca26\"], [1.0, \"#f0f921\"]], \"type\": \"heatmap\"}], \"heatmapgl\": [{\"colorbar\": {\"outlinewidth\": 0, \"ticks\": \"\"}, \"colorscale\": [[0.0, \"#0d0887\"], [0.1111111111111111, \"#46039f\"], [0.2222222222222222, \"#7201a8\"], [0.3333333333333333, \"#9c179e\"], [0.4444444444444444, \"#bd3786\"], [0.5555555555555556, \"#d8576b\"], [0.6666666666666666, \"#ed7953\"], [0.7777777777777778, \"#fb9f3a\"], [0.8888888888888888, \"#fdca26\"], [1.0, \"#f0f921\"]], \"type\": \"heatmapgl\"}], \"histogram\": [{\"marker\": {\"colorbar\": {\"outlinewidth\": 0, \"ticks\": \"\"}}, \"type\": \"histogram\"}], \"histogram2d\": [{\"colorbar\": {\"outlinewidth\": 0, \"ticks\": \"\"}, \"colorscale\": [[0.0, \"#0d0887\"], [0.1111111111111111, \"#46039f\"], [0.2222222222222222, \"#7201a8\"], [0.3333333333333333, \"#9c179e\"], [0.4444444444444444, \"#bd3786\"], [0.5555555555555556, \"#d8576b\"], [0.6666666666666666, \"#ed7953\"], [0.7777777777777778, \"#fb9f3a\"], [0.8888888888888888, \"#fdca26\"], [1.0, \"#f0f921\"]], \"type\": \"histogram2d\"}], \"histogram2dcontour\": [{\"colorbar\": {\"outlinewidth\": 0, \"ticks\": \"\"}, \"colorscale\": [[0.0, \"#0d0887\"], [0.1111111111111111, \"#46039f\"], [0.2222222222222222, \"#7201a8\"], [0.3333333333333333, \"#9c179e\"], [0.4444444444444444, \"#bd3786\"], [0.5555555555555556, \"#d8576b\"], [0.6666666666666666, \"#ed7953\"], [0.7777777777777778, \"#fb9f3a\"], [0.8888888888888888, \"#fdca26\"], [1.0, \"#f0f921\"]], \"type\": \"histogram2dcontour\"}], \"mesh3d\": [{\"colorbar\": {\"outlinewidth\": 0, \"ticks\": \"\"}, \"type\": \"mesh3d\"}], \"parcoords\": [{\"line\": {\"colorbar\": {\"outlinewidth\": 0, \"ticks\": \"\"}}, \"type\": \"parcoords\"}], \"pie\": [{\"automargin\": true, \"type\": \"pie\"}], \"scatter\": [{\"marker\": {\"colorbar\": {\"outlinewidth\": 0, \"ticks\": \"\"}}, \"type\": \"scatter\"}], \"scatter3d\": [{\"line\": {\"colorbar\": {\"outlinewidth\": 0, \"ticks\": \"\"}}, \"marker\": {\"colorbar\": {\"outlinewidth\": 0, \"ticks\": \"\"}}, \"type\": \"scatter3d\"}], \"scattercarpet\": [{\"marker\": {\"colorbar\": {\"outlinewidth\": 0, \"ticks\": \"\"}}, \"type\": \"scattercarpet\"}], \"scattergeo\": [{\"marker\": {\"colorbar\": {\"outlinewidth\": 0, \"ticks\": \"\"}}, \"type\": \"scattergeo\"}], \"scattergl\": [{\"marker\": {\"colorbar\": {\"outlinewidth\": 0, \"ticks\": \"\"}}, \"type\": \"scattergl\"}], \"scattermapbox\": [{\"marker\": {\"colorbar\": {\"outlinewidth\": 0, \"ticks\": \"\"}}, \"type\": \"scattermapbox\"}], \"scatterpolar\": [{\"marker\": {\"colorbar\": {\"outlinewidth\": 0, \"ticks\": \"\"}}, \"type\": \"scatterpolar\"}], \"scatterpolargl\": [{\"marker\": {\"colorbar\": {\"outlinewidth\": 0, \"ticks\": \"\"}}, \"type\": \"scatterpolargl\"}], \"scatterternary\": [{\"marker\": {\"colorbar\": {\"outlinewidth\": 0, \"ticks\": \"\"}}, \"type\": \"scatterternary\"}], \"surface\": [{\"colorbar\": {\"outlinewidth\": 0, \"ticks\": \"\"}, \"colorscale\": [[0.0, \"#0d0887\"], [0.1111111111111111, \"#46039f\"], [0.2222222222222222, \"#7201a8\"], [0.3333333333333333, \"#9c179e\"], [0.4444444444444444, \"#bd3786\"], [0.5555555555555556, \"#d8576b\"], [0.6666666666666666, \"#ed7953\"], [0.7777777777777778, \"#fb9f3a\"], [0.8888888888888888, \"#fdca26\"], [1.0, \"#f0f921\"]], \"type\": \"surface\"}], \"table\": [{\"cells\": {\"fill\": {\"color\": \"#EBF0F8\"}, \"line\": {\"color\": \"white\"}}, \"header\": {\"fill\": {\"color\": \"#C8D4E3\"}, \"line\": {\"color\": \"white\"}}, \"type\": \"table\"}]}, \"layout\": {\"annotationdefaults\": {\"arrowcolor\": \"#2a3f5f\", \"arrowhead\": 0, \"arrowwidth\": 1}, \"autotypenumbers\": \"strict\", \"coloraxis\": {\"colorbar\": {\"outlinewidth\": 0, \"ticks\": \"\"}}, \"colorscale\": {\"diverging\": [[0, \"#8e0152\"], [0.1, \"#c51b7d\"], [0.2, \"#de77ae\"], [0.3, \"#f1b6da\"], [0.4, \"#fde0ef\"], [0.5, \"#f7f7f7\"], [0.6, \"#e6f5d0\"], [0.7, \"#b8e186\"], [0.8, \"#7fbc41\"], [0.9, \"#4d9221\"], [1, \"#276419\"]], \"sequential\": [[0.0, \"#0d0887\"], [0.1111111111111111, \"#46039f\"], [0.2222222222222222, \"#7201a8\"], [0.3333333333333333, \"#9c179e\"], [0.4444444444444444, \"#bd3786\"], [0.5555555555555556, \"#d8576b\"], [0.6666666666666666, \"#ed7953\"], [0.7777777777777778, \"#fb9f3a\"], [0.8888888888888888, \"#fdca26\"], [1.0, \"#f0f921\"]], \"sequentialminus\": [[0.0, \"#0d0887\"], [0.1111111111111111, \"#46039f\"], [0.2222222222222222, \"#7201a8\"], [0.3333333333333333, \"#9c179e\"], [0.4444444444444444, \"#bd3786\"], [0.5555555555555556, \"#d8576b\"], [0.6666666666666666, \"#ed7953\"], [0.7777777777777778, \"#fb9f3a\"], [0.8888888888888888, \"#fdca26\"], [1.0, \"#f0f921\"]]}, \"colorway\": [\"#636efa\", \"#EF553B\", \"#00cc96\", \"#ab63fa\", \"#FFA15A\", \"#19d3f3\", \"#FF6692\", \"#B6E880\", \"#FF97FF\", \"#FECB52\"], \"font\": {\"color\": \"#2a3f5f\"}, \"geo\": {\"bgcolor\": \"white\", \"lakecolor\": \"white\", \"landcolor\": \"#E5ECF6\", \"showlakes\": true, \"showland\": true, \"subunitcolor\": \"white\"}, \"hoverlabel\": {\"align\": \"left\"}, \"hovermode\": \"closest\", \"mapbox\": {\"style\": \"light\"}, \"paper_bgcolor\": \"white\", \"plot_bgcolor\": \"#E5ECF6\", \"polar\": {\"angularaxis\": {\"gridcolor\": \"white\", \"linecolor\": \"white\", \"ticks\": \"\"}, \"bgcolor\": \"#E5ECF6\", \"radialaxis\": {\"gridcolor\": \"white\", \"linecolor\": \"white\", \"ticks\": \"\"}}, \"scene\": {\"xaxis\": {\"backgroundcolor\": \"#E5ECF6\", \"gridcolor\": \"white\", \"gridwidth\": 2, \"linecolor\": \"white\", \"showbackground\": true, \"ticks\": \"\", \"zerolinecolor\": \"white\"}, \"yaxis\": {\"backgroundcolor\": \"#E5ECF6\", \"gridcolor\": \"white\", \"gridwidth\": 2, \"linecolor\": \"white\", \"showbackground\": true, \"ticks\": \"\", \"zerolinecolor\": \"white\"}, \"zaxis\": {\"backgroundcolor\": \"#E5ECF6\", \"gridcolor\": \"white\", \"gridwidth\": 2, \"linecolor\": \"white\", \"showbackground\": true, \"ticks\": \"\", \"zerolinecolor\": \"white\"}}, \"shapedefaults\": {\"line\": {\"color\": \"#2a3f5f\"}}, \"ternary\": {\"aaxis\": {\"gridcolor\": \"white\", \"linecolor\": \"white\", \"ticks\": \"\"}, \"baxis\": {\"gridcolor\": \"white\", \"linecolor\": \"white\", \"ticks\": \"\"}, \"bgcolor\": \"#E5ECF6\", \"caxis\": {\"gridcolor\": \"white\", \"linecolor\": \"white\", \"ticks\": \"\"}}, \"title\": {\"x\": 0.05}, \"xaxis\": {\"automargin\": true, \"gridcolor\": \"white\", \"linecolor\": \"white\", \"ticks\": \"\", \"title\": {\"standoff\": 15}, \"zerolinecolor\": \"white\", \"zerolinewidth\": 2}, \"yaxis\": {\"automargin\": true, \"gridcolor\": \"white\", \"linecolor\": \"white\", \"ticks\": \"\", \"title\": {\"standoff\": 15}, \"zerolinecolor\": \"white\", \"zerolinewidth\": 2}}}, \"updatemenus\": [{\"active\": 0, \"buttons\": [{\"args\": [{\"visible\": [true, true]}, {\"title\": \"Both\"}], \"label\": \"Both\", \"method\": \"update\"}, {\"args\": [{\"visible\": [true, false]}, {\"title\": \"52 Week_Low\"}], \"label\": \"52 Week_Low\", \"method\": \"update\"}, {\"args\": [{\"visible\": [false, true]}, {\"title\": \"52 Week_High\"}], \"label\": \"52 Week_High\", \"method\": \"update\"}]}]},                        {\"responsive\": true}                    ).then(function(){\n",
       "                            \n",
       "var gd = document.getElementById('1127d81b-da7d-473b-ba17-b8d598a7a2bb');\n",
       "var x = new MutationObserver(function (mutations, observer) {{\n",
       "        var display = window.getComputedStyle(gd).display;\n",
       "        if (!display || display === 'none') {{\n",
       "            console.log([gd, 'removed!']);\n",
       "            Plotly.purge(gd);\n",
       "            observer.disconnect();\n",
       "        }}\n",
       "}});\n",
       "\n",
       "// Listen for the removal of the full notebook cells\n",
       "var notebookContainer = gd.closest('#notebook-container');\n",
       "if (notebookContainer) {{\n",
       "    x.observe(notebookContainer, {childList: true});\n",
       "}}\n",
       "\n",
       "// Listen for the clearing of the current output cell\n",
       "var outputEl = gd.closest('.output');\n",
       "if (outputEl) {{\n",
       "    x.observe(outputEl, {childList: true});\n",
       "}}\n",
       "\n",
       "                        })                };                });            </script>        </div>"
      ]
     },
     "metadata": {},
     "output_type": "display_data"
    }
   ],
   "source": [
    "x = data['Symbol']\n",
    "  \n",
    "plot = pg.Figure(data=[go.Line(\n",
    "    name='52 Week_Low',\n",
    "    x=x,\n",
    "    y=data['52 Week_Low']\n",
    "),\n",
    "    go.Line(\n",
    "    name='52 Week_High',\n",
    "    x=x,\n",
    "    y=data['52 Week_High']\n",
    ")\n",
    "])\n",
    "  \n",
    "  \n",
    "# Add dropdown\n",
    "plot.update_layout(\n",
    "    updatemenus=[\n",
    "        dict(\n",
    "            active=0,\n",
    "            buttons=list([\n",
    "                dict(label=\"Both\",\n",
    "                     method=\"update\",\n",
    "                     args=[{\"visible\": [True, True]},\n",
    "                           {\"title\": \"Both\"}]),\n",
    "                dict(label=\"52 Week_Low\",\n",
    "                     method=\"update\",\n",
    "                     args=[{\"visible\": [True, False]},\n",
    "                           {\"title\": \"52 Week_Low\",\n",
    "                            }]),\n",
    "                dict(label=\"52 Week_High\",\n",
    "                     method=\"update\",\n",
    "                     args=[{\"visible\": [False, True]},\n",
    "                           {\"title\": \"52 Week_High\",\n",
    "                            }]),\n",
    "            ]),\n",
    "        )\n",
    "    ])\n",
    "  \n",
    "plot.show()\n"
   ]
  },
  {
   "cell_type": "markdown",
   "metadata": {},
   "source": [
    "#### 9. Dividend yield of companies.\n",
    " \n",
    "   Dividend yield is the ratio of the annual dividends per share divided by the price per share.\n",
    "   We can see that dividend yield is high for CTL.\n",
    "\n"
   ]
  },
  {
   "cell_type": "code",
   "execution_count": 83,
   "metadata": {},
   "outputs": [],
   "source": [
    "from plotly.subplots import make_subplots\n",
    "\n",
    "sp=make_subplots()"
   ]
  },
  {
   "cell_type": "code",
   "execution_count": 59,
   "metadata": {},
   "outputs": [
    {
     "data": {
      "application/vnd.plotly.v1+json": {
       "config": {
        "plotlyServerURL": "https://plot.ly"
       },
       "data": [
        {
         "hovertemplate": "<b>%{hovertext}</b><br><br>Sector=Industrials<br>Symbol=%{x}<br>Dividend Yield=%{marker.size}<extra></extra>",
         "hovertext": [
          "MMM",
          "AOS",
          "AYI",
          "ALK",
          "ALLE",
          "AAL",
          "AME",
          "BA",
          "CHRW",
          "CAT",
          "CTAS",
          "CSX",
          "CMI",
          "DE",
          "DAL",
          "DOV",
          "ETN",
          "EMR",
          "EFX",
          "EXPD",
          "FAST",
          "FDX",
          "FLS",
          "FLR",
          "FTV",
          "FBHS",
          "GD",
          "GE",
          "GWW",
          "HON",
          "HII",
          "INFO",
          "ITW",
          "IR",
          "JBHT",
          "JEC",
          "JCI",
          "KSU",
          "LLL",
          "LMT",
          "MAS",
          "NLSN",
          "NSC",
          "NOC",
          "PCAR",
          "PH",
          "PNR",
          "PWR",
          "RTN",
          "RSG",
          "RHI",
          "ROK",
          "COL",
          "ROP",
          "LUV",
          "SRCL",
          "TXT",
          "UAL",
          "UPS",
          "URI",
          "UTX",
          "VRSK",
          "WM",
          "XYL"
         ],
         "legendgroup": "Industrials",
         "marker": {
          "color": "#636efa",
          "size": [
           2.3328617,
           1.1479591999999998,
           0.35118526,
           1.9928383,
           0.8004001999999999,
           0.7782101,
           0.75512403,
           1.9648397000000002,
           1.987685,
           2.0215108,
           1.0344826999999999,
           1.5102888,
           2.5008682999999996,
           1.4866204,
           2.2655525,
           1.8815053,
           2.9404557000000002,
           2.813225,
           1.3265306000000001,
           1.3520038,
           2.7798648,
           0.7963368000000001,
           1.8291216000000001,
           1.4726508,
           0.39057052,
           1.2618296,
           1.5631542,
           3.147541,
           1.9700643,
           1.9710299,
           1.2264713,
           0,
           1.9089574,
           1.9739006999999997,
           0.8139042,
           0.9089531999999999,
           2.7659574,
           1.3445379,
           1.4444605,
           2.315954,
           0.98383695,
           3.6208732000000006,
           2.018503,
           1.3030859,
           1.455816,
           1.4401833,
           2.03933,
           0,
           1.5612764,
           2.1362228,
           1.7075773,
           1.7692552,
           0.9748892,
           0.61985797,
           0.863707,
           0,
           0.1381454,
           0,
           2.9666696,
           0,
           2.1216943,
           0,
           2.0800195,
           1.1700793999999999
          ],
          "sizemode": "area",
          "sizeref": 0.0202579136,
          "symbol": "circle"
         },
         "mode": "markers",
         "name": "Industrials",
         "orientation": "v",
         "showlegend": true,
         "type": "scatter",
         "x": [
          "MMM",
          "AOS",
          "AYI",
          "ALK",
          "ALLE",
          "AAL",
          "AME",
          "BA",
          "CHRW",
          "CAT",
          "CTAS",
          "CSX",
          "CMI",
          "DE",
          "DAL",
          "DOV",
          "ETN",
          "EMR",
          "EFX",
          "EXPD",
          "FAST",
          "FDX",
          "FLS",
          "FLR",
          "FTV",
          "FBHS",
          "GD",
          "GE",
          "GWW",
          "HON",
          "HII",
          "INFO",
          "ITW",
          "IR",
          "JBHT",
          "JEC",
          "JCI",
          "KSU",
          "LLL",
          "LMT",
          "MAS",
          "NLSN",
          "NSC",
          "NOC",
          "PCAR",
          "PH",
          "PNR",
          "PWR",
          "RTN",
          "RSG",
          "RHI",
          "ROK",
          "COL",
          "ROP",
          "LUV",
          "SRCL",
          "TXT",
          "UAL",
          "UPS",
          "URI",
          "UTX",
          "VRSK",
          "WM",
          "XYL"
         ],
         "xaxis": "x",
         "y": [
          2.3328617,
          1.1479591999999998,
          0.35118526,
          1.9928383,
          0.8004001999999999,
          0.7782101,
          0.75512403,
          1.9648397000000002,
          1.987685,
          2.0215108,
          1.0344826999999999,
          1.5102888,
          2.5008682999999996,
          1.4866204,
          2.2655525,
          1.8815053,
          2.9404557000000002,
          2.813225,
          1.3265306000000001,
          1.3520038,
          2.7798648,
          0.7963368000000001,
          1.8291216000000001,
          1.4726508,
          0.39057052,
          1.2618296,
          1.5631542,
          3.147541,
          1.9700643,
          1.9710299,
          1.2264713,
          0,
          1.9089574,
          1.9739006999999997,
          0.8139042,
          0.9089531999999999,
          2.7659574,
          1.3445379,
          1.4444605,
          2.315954,
          0.98383695,
          3.6208732000000006,
          2.018503,
          1.3030859,
          1.455816,
          1.4401833,
          2.03933,
          0,
          1.5612764,
          2.1362228,
          1.7075773,
          1.7692552,
          0.9748892,
          0.61985797,
          0.863707,
          0,
          0.1381454,
          0,
          2.9666696,
          0,
          2.1216943,
          0,
          2.0800195,
          1.1700793999999999
         ],
         "yaxis": "y"
        },
        {
         "hovertemplate": "<b>%{hovertext}</b><br><br>Sector=Health Care<br>Symbol=%{x}<br>Dividend Yield=%{marker.size}<extra></extra>",
         "hovertext": [
          "ABT",
          "ABBV",
          "AET",
          "A",
          "ALXN",
          "ALGN",
          "AGN",
          "ABC",
          "AMGN",
          "ANTM",
          "BAX",
          "BDX",
          "BIIB",
          "BSX",
          "BMY",
          "CAH",
          "CELG",
          "CNC",
          "CERN",
          "CI",
          "DHR",
          "DVA",
          "XRAY",
          "EW",
          "EVHC",
          "ESRX",
          "GILD",
          "HSIC",
          "HOLX",
          "HUM",
          "IDXX",
          "ILMN",
          "INCY",
          "ISRG",
          "IQV",
          "JNJ",
          "LH",
          "LLY",
          "MCK",
          "MDT",
          "MRK",
          "MTD",
          "MYL",
          "PDCO",
          "PKI",
          "PFE",
          "DGX",
          "REGN",
          "RMD",
          "SYK",
          "COO",
          "TMO",
          "UNH",
          "UHS",
          "VAR",
          "VRTX",
          "WAT",
          "ZBH",
          "ZTS"
         ],
         "legendgroup": "Health Care",
         "marker": {
          "color": "#EF553B",
          "size": [
           1.9089824,
           2.4995599,
           1.1019889999999999,
           0.8756978999999999,
           0,
           0,
           1.643289,
           1.6132456,
           2.9751507999999998,
           1.2581781,
           0.97635394,
           1.3518385,
           0,
           0,
           2.5546862999999997,
           2.8394227,
           0,
           0,
           0,
           0.020466639,
           0.5879265,
           0,
           0.60034305,
           0,
           0,
           0,
           2.754954,
           0,
           0,
           0.6040015000000001,
           0,
           0,
           0,
           0,
           0,
           2.5566885,
           0,
           2.9327424,
           0.8898775999999999,
           2.2618315,
           3.4359339999999996,
           0,
           0,
           3.0723782,
           0.3695394,
           3.8879358999999996,
           1.9884668999999997,
           0,
           1.5120423,
           1.2234008,
           0.026033757,
           0.32763190000000003,
           1.3284917,
           0.34153005,
           0,
           0,
           0,
           0.7948335999999999,
           0.68237203
          ],
          "sizemode": "area",
          "sizeref": 0.0202579136,
          "symbol": "circle"
         },
         "mode": "markers",
         "name": "Health Care",
         "orientation": "v",
         "showlegend": true,
         "type": "scatter",
         "x": [
          "ABT",
          "ABBV",
          "AET",
          "A",
          "ALXN",
          "ALGN",
          "AGN",
          "ABC",
          "AMGN",
          "ANTM",
          "BAX",
          "BDX",
          "BIIB",
          "BSX",
          "BMY",
          "CAH",
          "CELG",
          "CNC",
          "CERN",
          "CI",
          "DHR",
          "DVA",
          "XRAY",
          "EW",
          "EVHC",
          "ESRX",
          "GILD",
          "HSIC",
          "HOLX",
          "HUM",
          "IDXX",
          "ILMN",
          "INCY",
          "ISRG",
          "IQV",
          "JNJ",
          "LH",
          "LLY",
          "MCK",
          "MDT",
          "MRK",
          "MTD",
          "MYL",
          "PDCO",
          "PKI",
          "PFE",
          "DGX",
          "REGN",
          "RMD",
          "SYK",
          "COO",
          "TMO",
          "UNH",
          "UHS",
          "VAR",
          "VRTX",
          "WAT",
          "ZBH",
          "ZTS"
         ],
         "xaxis": "x",
         "y": [
          1.9089824,
          2.4995599,
          1.1019889999999999,
          0.8756978999999999,
          0,
          0,
          1.643289,
          1.6132456,
          2.9751507999999998,
          1.2581781,
          0.97635394,
          1.3518385,
          0,
          0,
          2.5546862999999997,
          2.8394227,
          0,
          0,
          0,
          0.020466639,
          0.5879265,
          0,
          0.60034305,
          0,
          0,
          0,
          2.754954,
          0,
          0,
          0.6040015000000001,
          0,
          0,
          0,
          0,
          0,
          2.5566885,
          0,
          2.9327424,
          0.8898775999999999,
          2.2618315,
          3.4359339999999996,
          0,
          0,
          3.0723782,
          0.3695394,
          3.8879358999999996,
          1.9884668999999997,
          0,
          1.5120423,
          1.2234008,
          0.026033757,
          0.32763190000000003,
          1.3284917,
          0.34153005,
          0,
          0,
          0,
          0.7948335999999999,
          0.68237203
         ],
         "yaxis": "y"
        },
        {
         "hovertemplate": "<b>%{hovertext}</b><br><br>Sector=Information Technology<br>Symbol=%{x}<br>Dividend Yield=%{marker.size}<extra></extra>",
         "hovertext": [
          "ACN",
          "ATVI",
          "ADBE",
          "AMD",
          "AKAM",
          "ADS",
          "GOOGL",
          "GOOG",
          "APH",
          "ADI",
          "ANSS",
          "AAPL",
          "AMAT",
          "ADSK",
          "ADP",
          "AVGO",
          "CA",
          "CDNS",
          "CSCO",
          "CTXS",
          "CTSH",
          "GLW",
          "CSRA",
          "DXC",
          "EBAY",
          "EA",
          "FFIV",
          "FB",
          "FIS",
          "FISV",
          "FLIR",
          "IT",
          "GPN",
          "HRS",
          "HPE",
          "HPQ",
          "INTC",
          "IBM",
          "INTU",
          "JNPR",
          "KLAC",
          "LRCX",
          "MA",
          "MCHP",
          "MU",
          "MSFT",
          "MSI",
          "NTAP",
          "NFLX",
          "NVDA",
          "ORCL",
          "PAYX",
          "PYPL",
          "QRVO",
          "QCOM",
          "RHT",
          "CRM",
          "STX",
          "SWKS",
          "SYMC",
          "SNPS",
          "TEL",
          "TXN",
          "TSS",
          "VRSN",
          "V",
          "WDC",
          "WU",
          "XRX",
          "XLNX"
         ],
         "legendgroup": "Information Technology",
         "marker": {
          "color": "#00cc96",
          "size": [
           1.7144699,
           0.43190324,
           0,
           0,
           0,
           0.9240122,
           0,
           0,
           0.8608971,
           2.108963,
           0,
           1.5795412,
           0.8215239,
           0,
           2.2190912,
           2.9488583,
           3,
           0,
           2.8755577000000003,
           0,
           1.0454783,
           2.0791416000000003,
           1.275917,
           0.7493755,
           0,
           0,
           0,
           0,
           1.322724,
           0,
           1.2396694,
           0,
           0.037622273,
           1.4922442,
           1.9280206000000002,
           2.6270627999999996,
           2.6548672000000004,
           3.8999026,
           0.96720195,
           1.5754233999999998,
           2.2988505,
           1.1652973999999998,
           0.5926628,
           1.7512966,
           0,
           1.8747908,
           2.0266979,
           1.3881658000000001,
           0,
           0.26223776,
           1.5551462999999999,
           3.0892801,
           0,
           0,
           3.5055351000000003,
           0,
           0,
           5.085772,
           1.2629502000000001,
           1.1286682,
           0,
           1.6062645,
           2.4318494999999998,
           0.6091133000000001,
           0,
           0.70204765,
           2.389201,
           3.5915854,
           3.207184,
           2.0904882
          ],
          "sizemode": "area",
          "sizeref": 0.0202579136,
          "symbol": "circle"
         },
         "mode": "markers",
         "name": "Information Technology",
         "orientation": "v",
         "showlegend": true,
         "type": "scatter",
         "x": [
          "ACN",
          "ATVI",
          "ADBE",
          "AMD",
          "AKAM",
          "ADS",
          "GOOGL",
          "GOOG",
          "APH",
          "ADI",
          "ANSS",
          "AAPL",
          "AMAT",
          "ADSK",
          "ADP",
          "AVGO",
          "CA",
          "CDNS",
          "CSCO",
          "CTXS",
          "CTSH",
          "GLW",
          "CSRA",
          "DXC",
          "EBAY",
          "EA",
          "FFIV",
          "FB",
          "FIS",
          "FISV",
          "FLIR",
          "IT",
          "GPN",
          "HRS",
          "HPE",
          "HPQ",
          "INTC",
          "IBM",
          "INTU",
          "JNPR",
          "KLAC",
          "LRCX",
          "MA",
          "MCHP",
          "MU",
          "MSFT",
          "MSI",
          "NTAP",
          "NFLX",
          "NVDA",
          "ORCL",
          "PAYX",
          "PYPL",
          "QRVO",
          "QCOM",
          "RHT",
          "CRM",
          "STX",
          "SWKS",
          "SYMC",
          "SNPS",
          "TEL",
          "TXN",
          "TSS",
          "VRSN",
          "V",
          "WDC",
          "WU",
          "XRX",
          "XLNX"
         ],
         "xaxis": "x",
         "y": [
          1.7144699,
          0.43190324,
          0,
          0,
          0,
          0.9240122,
          0,
          0,
          0.8608971,
          2.108963,
          0,
          1.5795412,
          0.8215239,
          0,
          2.2190912,
          2.9488583,
          3,
          0,
          2.8755577000000003,
          0,
          1.0454783,
          2.0791416000000003,
          1.275917,
          0.7493755,
          0,
          0,
          0,
          0,
          1.322724,
          0,
          1.2396694,
          0,
          0.037622273,
          1.4922442,
          1.9280206000000002,
          2.6270627999999996,
          2.6548672000000004,
          3.8999026,
          0.96720195,
          1.5754233999999998,
          2.2988505,
          1.1652973999999998,
          0.5926628,
          1.7512966,
          0,
          1.8747908,
          2.0266979,
          1.3881658000000001,
          0,
          0.26223776,
          1.5551462999999999,
          3.0892801,
          0,
          0,
          3.5055351000000003,
          0,
          0,
          5.085772,
          1.2629502000000001,
          1.1286682,
          0,
          1.6062645,
          2.4318494999999998,
          0.6091133000000001,
          0,
          0.70204765,
          2.389201,
          3.5915854,
          3.207184,
          2.0904882
         ],
         "yaxis": "y"
        },
        {
         "hovertemplate": "<b>%{hovertext}</b><br><br>Sector=Consumer Discretionary<br>Symbol=%{x}<br>Dividend Yield=%{marker.size}<extra></extra>",
         "hovertext": [
          "AAP",
          "AMZN",
          "APTV",
          "AZO",
          "BBY",
          "BWA",
          "KMX",
          "CCL",
          "CBS",
          "CHTR",
          "CMG",
          "CMCSA",
          "DHI",
          "DRI",
          "DISCA",
          "DISCK",
          "DISH",
          "DG",
          "DLTR",
          "EXPE",
          "F",
          "GPS",
          "GRMN",
          "GM",
          "GPC",
          "GT",
          "HBI",
          "HOG",
          "HAS",
          "HLT",
          "HD",
          "IPG",
          "KSS",
          "LB",
          "LEG",
          "LEN",
          "LKQ",
          "LOW",
          "M",
          "MAR",
          "MAT",
          "MCD",
          "MGM",
          "KORS",
          "MHK",
          "NWL",
          "NWSA",
          "NWS",
          "NKE",
          "JWN",
          "NCLH",
          "ORLY",
          "OMC",
          "RL",
          "PCLN",
          "PHM",
          "PVH",
          "ROST",
          "RCL",
          "SNI",
          "SIG",
          "SNA",
          "SWK",
          "SBUX",
          "TGT",
          "DIS",
          "TIF",
          "TWX",
          "TJX",
          "TSCO",
          "TRIP",
          "FOXA",
          "FOX",
          "ULTA",
          "UAA",
          "UA",
          "VFC",
          "VIAB",
          "WHR",
          "WYN",
          "WYNN",
          "YUM"
         ],
         "legendgroup": "Consumer Discretionary",
         "marker": {
          "color": "#ab63fa",
          "size": [
           0.21832074,
           0,
           0.9392678,
           0,
           1.9085041,
           1.2363636,
           0,
           2.6041667,
           1.3473053999999998,
           0,
           0,
           1.8929017,
           1.0801469,
           2.6503997000000004,
           0,
           0,
           0,
           1.0625255,
           0,
           0.92785895,
           6.7843865999999995,
           2.8203557,
           3.2339884999999997,
           3.5857513,
           2.7198548,
           1.6731401999999997,
           2.7322404,
           3.0218647,
           2.2304833,
           0.7315289,
           1.8610487,
           3.3802817000000003,
           3.4965036,
           4.886988,
           3.1454785,
           0.26268265,
           0,
           1.6413131,
           6.098546,
           0.9452879000000001,
           0,
           2.4379939999999998,
           1.2687428,
           0,
           0,
           3.1228786,
           1.2453299999999998,
           1.2269938999999999,
           1.2189548000000001,
           3.0020284999999998,
           0,
           0,
           3.1838683999999997,
           1.8570102,
           0,
           1.2036108,
           0.100529455,
           0.82061803,
           1.8674136000000001,
           1.3761468000000001,
           2.4730754,
           1.968433,
           1.5775635000000001,
           2.203452,
           3.3856654,
           1.6036655,
           1.9402406000000003,
           1.6927768,
           1.64042,
           1.6030874,
           0,
           0.9983361,
           1.0084034,
           0,
           0,
           0,
           2.2865665,
           2.622091,
           2.5652986,
           1.9541779,
           1.1279043,
           1.7970798
          ],
          "sizemode": "area",
          "sizeref": 0.0202579136,
          "symbol": "circle"
         },
         "mode": "markers",
         "name": "Consumer Discretionary",
         "orientation": "v",
         "showlegend": true,
         "type": "scatter",
         "x": [
          "AAP",
          "AMZN",
          "APTV",
          "AZO",
          "BBY",
          "BWA",
          "KMX",
          "CCL",
          "CBS",
          "CHTR",
          "CMG",
          "CMCSA",
          "DHI",
          "DRI",
          "DISCA",
          "DISCK",
          "DISH",
          "DG",
          "DLTR",
          "EXPE",
          "F",
          "GPS",
          "GRMN",
          "GM",
          "GPC",
          "GT",
          "HBI",
          "HOG",
          "HAS",
          "HLT",
          "HD",
          "IPG",
          "KSS",
          "LB",
          "LEG",
          "LEN",
          "LKQ",
          "LOW",
          "M",
          "MAR",
          "MAT",
          "MCD",
          "MGM",
          "KORS",
          "MHK",
          "NWL",
          "NWSA",
          "NWS",
          "NKE",
          "JWN",
          "NCLH",
          "ORLY",
          "OMC",
          "RL",
          "PCLN",
          "PHM",
          "PVH",
          "ROST",
          "RCL",
          "SNI",
          "SIG",
          "SNA",
          "SWK",
          "SBUX",
          "TGT",
          "DIS",
          "TIF",
          "TWX",
          "TJX",
          "TSCO",
          "TRIP",
          "FOXA",
          "FOX",
          "ULTA",
          "UAA",
          "UA",
          "VFC",
          "VIAB",
          "WHR",
          "WYN",
          "WYNN",
          "YUM"
         ],
         "xaxis": "x",
         "y": [
          0.21832074,
          0,
          0.9392678,
          0,
          1.9085041,
          1.2363636,
          0,
          2.6041667,
          1.3473053999999998,
          0,
          0,
          1.8929017,
          1.0801469,
          2.6503997000000004,
          0,
          0,
          0,
          1.0625255,
          0,
          0.92785895,
          6.7843865999999995,
          2.8203557,
          3.2339884999999997,
          3.5857513,
          2.7198548,
          1.6731401999999997,
          2.7322404,
          3.0218647,
          2.2304833,
          0.7315289,
          1.8610487,
          3.3802817000000003,
          3.4965036,
          4.886988,
          3.1454785,
          0.26268265,
          0,
          1.6413131,
          6.098546,
          0.9452879000000001,
          0,
          2.4379939999999998,
          1.2687428,
          0,
          0,
          3.1228786,
          1.2453299999999998,
          1.2269938999999999,
          1.2189548000000001,
          3.0020284999999998,
          0,
          0,
          3.1838683999999997,
          1.8570102,
          0,
          1.2036108,
          0.100529455,
          0.82061803,
          1.8674136000000001,
          1.3761468000000001,
          2.4730754,
          1.968433,
          1.5775635000000001,
          2.203452,
          3.3856654,
          1.6036655,
          1.9402406000000003,
          1.6927768,
          1.64042,
          1.6030874,
          0,
          0.9983361,
          1.0084034,
          0,
          0,
          0,
          2.2865665,
          2.622091,
          2.5652986,
          1.9541779,
          1.1279043,
          1.7970798
         ],
         "yaxis": "y"
        },
        {
         "hovertemplate": "<b>%{hovertext}</b><br><br>Sector=Utilities<br>Symbol=%{x}<br>Dividend Yield=%{marker.size}<extra></extra>",
         "hovertext": [
          "AES",
          "LNT",
          "AEE",
          "AEP",
          "AWK",
          "CNP",
          "CMS",
          "ED",
          "D",
          "DTE",
          "DUK",
          "EIX",
          "ETR",
          "ES",
          "EXC",
          "FE",
          "NEE",
          "NI",
          "NRG",
          "PCG",
          "PNW",
          "PPL",
          "PEG",
          "SCG",
          "SRE",
          "SO",
          "WEC",
          "XEL"
         ],
         "legendgroup": "Utilities",
         "marker": {
          "color": "#FFA15A",
          "size": [
           4.961832,
           3.5733333,
           3.4404964,
           3.8479443,
           2.129297,
           4.2109255999999995,
           3.3918407,
           3.8001595,
           4.5281997,
           3.5559585,
           4.784946400000001,
           4.0542803,
           4.892126,
           3.3397784,
           3.8174273999999997,
           4.673807,
           2.6537917,
           3.3780859,
           1.4195583999999999,
           0,
           3.698776,
           5.2196894,
           3.60587,
           6.6830335000000005,
           3.1607263,
           5.353022599999999,
           3.6919480000000005,
           3.3914273
          ],
          "sizemode": "area",
          "sizeref": 0.0202579136,
          "symbol": "circle"
         },
         "mode": "markers",
         "name": "Utilities",
         "orientation": "v",
         "showlegend": true,
         "type": "scatter",
         "x": [
          "AES",
          "LNT",
          "AEE",
          "AEP",
          "AWK",
          "CNP",
          "CMS",
          "ED",
          "D",
          "DTE",
          "DUK",
          "EIX",
          "ETR",
          "ES",
          "EXC",
          "FE",
          "NEE",
          "NI",
          "NRG",
          "PCG",
          "PNW",
          "PPL",
          "PEG",
          "SCG",
          "SRE",
          "SO",
          "WEC",
          "XEL"
         ],
         "xaxis": "x",
         "y": [
          4.961832,
          3.5733333,
          3.4404964,
          3.8479443,
          2.129297,
          4.2109255999999995,
          3.3918407,
          3.8001595,
          4.5281997,
          3.5559585,
          4.784946400000001,
          4.0542803,
          4.892126,
          3.3397784,
          3.8174273999999997,
          4.673807,
          2.6537917,
          3.3780859,
          1.4195583999999999,
          0,
          3.698776,
          5.2196894,
          3.60587,
          6.6830335000000005,
          3.1607263,
          5.353022599999999,
          3.6919480000000005,
          3.3914273
         ],
         "yaxis": "y"
        },
        {
         "hovertemplate": "<b>%{hovertext}</b><br><br>Sector=Financials<br>Symbol=%{x}<br>Dividend Yield=%{marker.size}<extra></extra>",
         "hovertext": [
          "AMG",
          "AFL",
          "ALL",
          "AXP",
          "AIG",
          "AMP",
          "AON",
          "AJG",
          "AIZ",
          "BAC",
          "BBT",
          "BRK.B",
          "BLK",
          "HRB",
          "BHF",
          "COF",
          "CBOE",
          "SCHW",
          "CB",
          "CINF",
          "C",
          "CFG",
          "CME",
          "CMA",
          "DFS",
          "ETFC",
          "RE",
          "FITB",
          "BEN",
          "GS",
          "HIG",
          "HBAN",
          "ICE",
          "IVZ",
          "JPM",
          "KEY",
          "LUK",
          "LNC",
          "L",
          "MTB",
          "MMC",
          "MET",
          "MCO",
          "MS",
          "NDAQ",
          "NAVI",
          "NTRS",
          "PBCT",
          "PNC",
          "PFG",
          "PGR",
          "PRU",
          "RJF",
          "RF",
          "SPGI",
          "STT",
          "STI",
          "SYF",
          "TROW",
          "BK",
          "TRV",
          "TMK",
          "USB",
          "UNM",
          "WFC",
          "WLTW",
          "XL",
          "ZION"
         ],
         "legendgroup": "Financials",
         "marker": {
          "color": "#19d3f3",
          "size": [
           0.6387395,
           2.4299066000000002,
           1.5278208,
           1.4955667,
           2.1167521000000002,
           2.0735743,
           1.0245464,
           2.4807137999999997,
           2.5313594,
           1.536,
           2.4526197999999995,
           0,
           2.1643557999999996,
           3.7296038,
           0,
           1.6306564,
           0.9426962999999999,
           0.76878726,
           1.9251627,
           2.918904,
           1.7068942999999999,
           1.9625335,
           3.6828613,
           1.2823253000000001,
           1.8269607,
           0,
           2.1078234,
           1.9789734,
           2.3326569999999998,
           1.1668611999999998,
           1.7901897,
           2.8132992000000003,
           5.4298644,
           3.466826,
           1.9845841,
           1.9876952,
           1.5993601999999998,
           1.6813145,
           4.5131635999999995,
           1.6218846000000002,
           1.8257058999999998,
           3.4587116,
           1.1140649999999999,
           1.8331805,
           1.9671283,
           4.558404400000001,
           1.6678249,
           3.59375,
           1.9354837999999999,
           3.1914895,
           2.1061797,
           2.6985697999999996,
           1.0982976,
           1.8987342,
           1.0947506,
           1.6228749,
           2.3185046000000002,
           1.6,
           2.140443,
           1.7347307,
           2.0261714,
           0.7204611,
           2.189781,
           1.8189006999999997,
           2.7111576,
           1.347058,
           2.0952382,
           1.480933
          ],
          "sizemode": "area",
          "sizeref": 0.0202579136,
          "symbol": "circle"
         },
         "mode": "markers",
         "name": "Financials",
         "orientation": "v",
         "showlegend": true,
         "type": "scatter",
         "x": [
          "AMG",
          "AFL",
          "ALL",
          "AXP",
          "AIG",
          "AMP",
          "AON",
          "AJG",
          "AIZ",
          "BAC",
          "BBT",
          "BRK.B",
          "BLK",
          "HRB",
          "BHF",
          "COF",
          "CBOE",
          "SCHW",
          "CB",
          "CINF",
          "C",
          "CFG",
          "CME",
          "CMA",
          "DFS",
          "ETFC",
          "RE",
          "FITB",
          "BEN",
          "GS",
          "HIG",
          "HBAN",
          "ICE",
          "IVZ",
          "JPM",
          "KEY",
          "LUK",
          "LNC",
          "L",
          "MTB",
          "MMC",
          "MET",
          "MCO",
          "MS",
          "NDAQ",
          "NAVI",
          "NTRS",
          "PBCT",
          "PNC",
          "PFG",
          "PGR",
          "PRU",
          "RJF",
          "RF",
          "SPGI",
          "STT",
          "STI",
          "SYF",
          "TROW",
          "BK",
          "TRV",
          "TMK",
          "USB",
          "UNM",
          "WFC",
          "WLTW",
          "XL",
          "ZION"
         ],
         "xaxis": "x",
         "y": [
          0.6387395,
          2.4299066000000002,
          1.5278208,
          1.4955667,
          2.1167521000000002,
          2.0735743,
          1.0245464,
          2.4807137999999997,
          2.5313594,
          1.536,
          2.4526197999999995,
          0,
          2.1643557999999996,
          3.7296038,
          0,
          1.6306564,
          0.9426962999999999,
          0.76878726,
          1.9251627,
          2.918904,
          1.7068942999999999,
          1.9625335,
          3.6828613,
          1.2823253000000001,
          1.8269607,
          0,
          2.1078234,
          1.9789734,
          2.3326569999999998,
          1.1668611999999998,
          1.7901897,
          2.8132992000000003,
          5.4298644,
          3.466826,
          1.9845841,
          1.9876952,
          1.5993601999999998,
          1.6813145,
          4.5131635999999995,
          1.6218846000000002,
          1.8257058999999998,
          3.4587116,
          1.1140649999999999,
          1.8331805,
          1.9671283,
          4.558404400000001,
          1.6678249,
          3.59375,
          1.9354837999999999,
          3.1914895,
          2.1061797,
          2.6985697999999996,
          1.0982976,
          1.8987342,
          1.0947506,
          1.6228749,
          2.3185046000000002,
          1.6,
          2.140443,
          1.7347307,
          2.0261714,
          0.7204611,
          2.189781,
          1.8189006999999997,
          2.7111576,
          1.347058,
          2.0952382,
          1.480933
         ],
         "yaxis": "y"
        },
        {
         "hovertemplate": "<b>%{hovertext}</b><br><br>Sector=Materials<br>Symbol=%{x}<br>Dividend Yield=%{marker.size}<extra></extra>",
         "hovertext": [
          "APD",
          "ALB",
          "AVY",
          "BLL",
          "CF",
          "DWDP",
          "EMN",
          "ECL",
          "FMC",
          "FCX",
          "IP",
          "IFF",
          "LYB",
          "MLM",
          "MON",
          "NEM",
          "NUE",
          "PKG",
          "PPG",
          "PX",
          "SEE",
          "SHW",
          "MOS",
          "VMC",
          "WRK"
         ],
         "legendgroup": "Materials",
         "marker": {
          "color": "#FF6692",
          "size": [
           2.7811136000000003,
           1.2004126,
           1.5682174999999998,
           1.0170354,
           3.0395136000000003,
           2.1529746,
           2.2630835,
           1.2319711000000002,
           0.785995,
           1.1198208,
           3.2067509999999997,
           1.9341276,
           3.264714,
           0.8042038,
           1.7938709,
           0.8101539000000001,
           2.415766,
           2.1514556000000002,
           1.5771488999999999,
           2.1998534,
           1.4427412,
           0.8426688,
           0.3960396,
           0.7797879,
           2.6699783999999998
          ],
          "sizemode": "area",
          "sizeref": 0.0202579136,
          "symbol": "circle"
         },
         "mode": "markers",
         "name": "Materials",
         "orientation": "v",
         "showlegend": true,
         "type": "scatter",
         "x": [
          "APD",
          "ALB",
          "AVY",
          "BLL",
          "CF",
          "DWDP",
          "EMN",
          "ECL",
          "FMC",
          "FCX",
          "IP",
          "IFF",
          "LYB",
          "MLM",
          "MON",
          "NEM",
          "NUE",
          "PKG",
          "PPG",
          "PX",
          "SEE",
          "SHW",
          "MOS",
          "VMC",
          "WRK"
         ],
         "xaxis": "x",
         "y": [
          2.7811136000000003,
          1.2004126,
          1.5682174999999998,
          1.0170354,
          3.0395136000000003,
          2.1529746,
          2.2630835,
          1.2319711000000002,
          0.785995,
          1.1198208,
          3.2067509999999997,
          1.9341276,
          3.264714,
          0.8042038,
          1.7938709,
          0.8101539000000001,
          2.415766,
          2.1514556000000002,
          1.5771488999999999,
          2.1998534,
          1.4427412,
          0.8426688,
          0.3960396,
          0.7797879,
          2.6699783999999998
         ],
         "yaxis": "y"
        },
        {
         "hovertemplate": "<b>%{hovertext}</b><br><br>Sector=Real Estate<br>Symbol=%{x}<br>Dividend Yield=%{marker.size}<extra></extra>",
         "hovertext": [
          "ARE",
          "AMT",
          "AIV",
          "AVB",
          "BXP",
          "CBG",
          "CCI",
          "DLR",
          "DRE",
          "EQIX",
          "EQR",
          "ESS",
          "EXR",
          "FRT",
          "GGP",
          "HCP",
          "HST",
          "IRM",
          "KIM",
          "MAC",
          "MAA",
          "PLD",
          "PSA",
          "O",
          "REG",
          "SBAC",
          "SPG",
          "SLG",
          "UDR",
          "VTR",
          "VNO",
          "HCN",
          "WY"
         ],
         "legendgroup": "Real Estate",
         "marker": {
          "color": "#B6E880",
          "size": [
           3.0262272,
           2,
           3.8765620000000003,
           3.7149355,
           2.7744062,
           0,
           3.8620690000000004,
           3.5710857000000003,
           3.1533307999999995,
           1.8775817,
           3.5437917999999997,
           3.2138102,
           3.879632,
           3.5925992,
           4.0054620000000005,
           6.330197,
           4.1131105,
           7.08258,
           7.713498599999999,
           4.917760400000001,
           4.19652,
           2.931379,
           4.316159,
           5.3720360000000005,
           3.6850338,
           0,
           5.0368075,
           3.4998921999999997,
           3.6686389999999998,
           5.965641000000001,
           3.744428,
           6.1538463,
           3.7079953999999997
          ],
          "sizemode": "area",
          "sizeref": 0.0202579136,
          "symbol": "circle"
         },
         "mode": "markers",
         "name": "Real Estate",
         "orientation": "v",
         "showlegend": true,
         "type": "scatter",
         "x": [
          "ARE",
          "AMT",
          "AIV",
          "AVB",
          "BXP",
          "CBG",
          "CCI",
          "DLR",
          "DRE",
          "EQIX",
          "EQR",
          "ESS",
          "EXR",
          "FRT",
          "GGP",
          "HCP",
          "HST",
          "IRM",
          "KIM",
          "MAC",
          "MAA",
          "PLD",
          "PSA",
          "O",
          "REG",
          "SBAC",
          "SPG",
          "SLG",
          "UDR",
          "VTR",
          "VNO",
          "HCN",
          "WY"
         ],
         "xaxis": "x",
         "y": [
          3.0262272,
          2,
          3.8765620000000003,
          3.7149355,
          2.7744062,
          0,
          3.8620690000000004,
          3.5710857000000003,
          3.1533307999999995,
          1.8775817,
          3.5437917999999997,
          3.2138102,
          3.879632,
          3.5925992,
          4.0054620000000005,
          6.330197,
          4.1131105,
          7.08258,
          7.713498599999999,
          4.917760400000001,
          4.19652,
          2.931379,
          4.316159,
          5.3720360000000005,
          3.6850338,
          0,
          5.0368075,
          3.4998921999999997,
          3.6686389999999998,
          5.965641000000001,
          3.744428,
          6.1538463,
          3.7079953999999997
         ],
         "yaxis": "y"
        },
        {
         "hovertemplate": "<b>%{hovertext}</b><br><br>Sector=Consumer Staples<br>Symbol=%{x}<br>Dividend Yield=%{marker.size}<extra></extra>",
         "hovertext": [
          "MO",
          "ADM",
          "BF.B",
          "CPB",
          "CHD",
          "KO",
          "CL",
          "CAG",
          "STZ",
          "COST",
          "COTY",
          "CVS",
          "DPS",
          "EL",
          "GIS",
          "HRL",
          "SJM",
          "K",
          "KMB",
          "KHC",
          "KR",
          "MKC",
          "TAP",
          "MDLZ",
          "MNST",
          "PM",
          "PG",
          "SYY",
          "CLX",
          "HSY",
          "TSN",
          "WMT",
          "WBA"
         ],
         "legendgroup": "Consumer Staples",
         "marker": {
          "color": "#FF97FF",
          "size": [
           3.9526875,
           3.1761081,
           1.1216964,
           3.125,
           1.8366054,
           3.3213644,
           2.2801766,
           2.3683476000000003,
           0.9712818000000001,
           1.0917627,
           2.8604119999999997,
           2.6899797999999997,
           1.9661016,
           1.1283498,
           3.5864594,
           2.2907757999999996,
           2.6036884999999996,
           3.3639620000000003,
           3.5599858999999996,
           3.3990483,
           1.7301039,
           2.0261056,
           2.1533613,
           1.9977299,
           0,
           4.328479,
           3.3704788999999997,
           2.4644873,
           2.6286967,
           2.6494346,
           1.6353229,
           1.983471,
           2.2368238
          ],
          "sizemode": "area",
          "sizeref": 0.0202579136,
          "symbol": "circle"
         },
         "mode": "markers",
         "name": "Consumer Staples",
         "orientation": "v",
         "showlegend": true,
         "type": "scatter",
         "x": [
          "MO",
          "ADM",
          "BF.B",
          "CPB",
          "CHD",
          "KO",
          "CL",
          "CAG",
          "STZ",
          "COST",
          "COTY",
          "CVS",
          "DPS",
          "EL",
          "GIS",
          "HRL",
          "SJM",
          "K",
          "KMB",
          "KHC",
          "KR",
          "MKC",
          "TAP",
          "MDLZ",
          "MNST",
          "PM",
          "PG",
          "SYY",
          "CLX",
          "HSY",
          "TSN",
          "WMT",
          "WBA"
         ],
         "xaxis": "x",
         "y": [
          3.9526875,
          3.1761081,
          1.1216964,
          3.125,
          1.8366054,
          3.3213644,
          2.2801766,
          2.3683476000000003,
          0.9712818000000001,
          1.0917627,
          2.8604119999999997,
          2.6899797999999997,
          1.9661016,
          1.1283498,
          3.5864594,
          2.2907757999999996,
          2.6036884999999996,
          3.3639620000000003,
          3.5599858999999996,
          3.3990483,
          1.7301039,
          2.0261056,
          2.1533613,
          1.9977299,
          0,
          4.328479,
          3.3704788999999997,
          2.4644873,
          2.6286967,
          2.6494346,
          1.6353229,
          1.983471,
          2.2368238
         ],
         "yaxis": "y"
        },
        {
         "hovertemplate": "<b>%{hovertext}</b><br><br>Sector=Energy<br>Symbol=%{x}<br>Dividend Yield=%{marker.size}<extra></extra>",
         "hovertext": [
          "APC",
          "ANDV",
          "APA",
          "BHGE",
          "COG",
          "CHK",
          "CVX",
          "XEC",
          "CXO",
          "COP",
          "DVN",
          "EOG",
          "EQT",
          "XOM",
          "HAL",
          "HP",
          "HES",
          "KMI",
          "MPC",
          "NOV",
          "NFX",
          "NBL",
          "OKE",
          "PSX",
          "PXD",
          "RRC",
          "SLB",
          "FTI",
          "VLO",
          "WMB"
         ],
         "legendgroup": "Energy",
         "marker": {
          "color": "#FECB52",
          "size": [
           1.7029973000000003,
           2.3454582999999998,
           2.528445,
           2.4991322,
           1.0269575999999998,
           0,
           3.885853,
           0.30214334,
           0,
           2.049254,
           0.6528835999999999,
           0.63339007,
           0.25183629999999996,
           4.0031195,
           1.4489836999999999,
           4.149992500000001,
           2.2670596,
           2.891845,
           2.8268552000000002,
           0.5873715,
           0,
           1.4771048999999998,
           5.4436197,
           2.9285639999999997,
           0.1816118,
           0.6097561,
           2.8673835,
           1.7060366999999999,
           3.5618877,
           4
          ],
          "sizemode": "area",
          "sizeref": 0.0202579136,
          "symbol": "circle"
         },
         "mode": "markers",
         "name": "Energy",
         "orientation": "v",
         "showlegend": true,
         "type": "scatter",
         "x": [
          "APC",
          "ANDV",
          "APA",
          "BHGE",
          "COG",
          "CHK",
          "CVX",
          "XEC",
          "CXO",
          "COP",
          "DVN",
          "EOG",
          "EQT",
          "XOM",
          "HAL",
          "HP",
          "HES",
          "KMI",
          "MPC",
          "NOV",
          "NFX",
          "NBL",
          "OKE",
          "PSX",
          "PXD",
          "RRC",
          "SLB",
          "FTI",
          "VLO",
          "WMB"
         ],
         "xaxis": "x",
         "y": [
          1.7029973000000003,
          2.3454582999999998,
          2.528445,
          2.4991322,
          1.0269575999999998,
          0,
          3.885853,
          0.30214334,
          0,
          2.049254,
          0.6528835999999999,
          0.63339007,
          0.25183629999999996,
          4.0031195,
          1.4489836999999999,
          4.149992500000001,
          2.2670596,
          2.891845,
          2.8268552000000002,
          0.5873715,
          0,
          1.4771048999999998,
          5.4436197,
          2.9285639999999997,
          0.1816118,
          0.6097561,
          2.8673835,
          1.7060366999999999,
          3.5618877,
          4
         ],
         "yaxis": "y"
        },
        {
         "hovertemplate": "<b>%{hovertext}</b><br><br>Sector=Telecommunication Services<br>Symbol=%{x}<br>Dividend Yield=%{marker.size}<extra></extra>",
         "hovertext": [
          "T",
          "CTL",
          "VZ"
         ],
         "legendgroup": "Telecommunication Services",
         "marker": {
          "color": "#636efa",
          "size": [
           5.4156512999999995,
           12.661196,
           4.626544
          ],
          "sizemode": "area",
          "sizeref": 0.0202579136,
          "symbol": "circle"
         },
         "mode": "markers",
         "name": "Telecommunication Services",
         "orientation": "v",
         "showlegend": true,
         "type": "scatter",
         "x": [
          "T",
          "CTL",
          "VZ"
         ],
         "xaxis": "x",
         "y": [
          5.4156512999999995,
          12.661196,
          4.626544
         ],
         "yaxis": "y"
        }
       ],
       "layout": {
        "legend": {
         "itemsizing": "constant",
         "title": {
          "text": "Sector"
         },
         "tracegroupgap": 0
        },
        "margin": {
         "t": 60
        },
        "template": {
         "data": {
          "bar": [
           {
            "error_x": {
             "color": "#2a3f5f"
            },
            "error_y": {
             "color": "#2a3f5f"
            },
            "marker": {
             "line": {
              "color": "#E5ECF6",
              "width": 0.5
             }
            },
            "type": "bar"
           }
          ],
          "barpolar": [
           {
            "marker": {
             "line": {
              "color": "#E5ECF6",
              "width": 0.5
             }
            },
            "type": "barpolar"
           }
          ],
          "carpet": [
           {
            "aaxis": {
             "endlinecolor": "#2a3f5f",
             "gridcolor": "white",
             "linecolor": "white",
             "minorgridcolor": "white",
             "startlinecolor": "#2a3f5f"
            },
            "baxis": {
             "endlinecolor": "#2a3f5f",
             "gridcolor": "white",
             "linecolor": "white",
             "minorgridcolor": "white",
             "startlinecolor": "#2a3f5f"
            },
            "type": "carpet"
           }
          ],
          "choropleth": [
           {
            "colorbar": {
             "outlinewidth": 0,
             "ticks": ""
            },
            "type": "choropleth"
           }
          ],
          "contour": [
           {
            "colorbar": {
             "outlinewidth": 0,
             "ticks": ""
            },
            "colorscale": [
             [
              0,
              "#0d0887"
             ],
             [
              0.1111111111111111,
              "#46039f"
             ],
             [
              0.2222222222222222,
              "#7201a8"
             ],
             [
              0.3333333333333333,
              "#9c179e"
             ],
             [
              0.4444444444444444,
              "#bd3786"
             ],
             [
              0.5555555555555556,
              "#d8576b"
             ],
             [
              0.6666666666666666,
              "#ed7953"
             ],
             [
              0.7777777777777778,
              "#fb9f3a"
             ],
             [
              0.8888888888888888,
              "#fdca26"
             ],
             [
              1,
              "#f0f921"
             ]
            ],
            "type": "contour"
           }
          ],
          "contourcarpet": [
           {
            "colorbar": {
             "outlinewidth": 0,
             "ticks": ""
            },
            "type": "contourcarpet"
           }
          ],
          "heatmap": [
           {
            "colorbar": {
             "outlinewidth": 0,
             "ticks": ""
            },
            "colorscale": [
             [
              0,
              "#0d0887"
             ],
             [
              0.1111111111111111,
              "#46039f"
             ],
             [
              0.2222222222222222,
              "#7201a8"
             ],
             [
              0.3333333333333333,
              "#9c179e"
             ],
             [
              0.4444444444444444,
              "#bd3786"
             ],
             [
              0.5555555555555556,
              "#d8576b"
             ],
             [
              0.6666666666666666,
              "#ed7953"
             ],
             [
              0.7777777777777778,
              "#fb9f3a"
             ],
             [
              0.8888888888888888,
              "#fdca26"
             ],
             [
              1,
              "#f0f921"
             ]
            ],
            "type": "heatmap"
           }
          ],
          "heatmapgl": [
           {
            "colorbar": {
             "outlinewidth": 0,
             "ticks": ""
            },
            "colorscale": [
             [
              0,
              "#0d0887"
             ],
             [
              0.1111111111111111,
              "#46039f"
             ],
             [
              0.2222222222222222,
              "#7201a8"
             ],
             [
              0.3333333333333333,
              "#9c179e"
             ],
             [
              0.4444444444444444,
              "#bd3786"
             ],
             [
              0.5555555555555556,
              "#d8576b"
             ],
             [
              0.6666666666666666,
              "#ed7953"
             ],
             [
              0.7777777777777778,
              "#fb9f3a"
             ],
             [
              0.8888888888888888,
              "#fdca26"
             ],
             [
              1,
              "#f0f921"
             ]
            ],
            "type": "heatmapgl"
           }
          ],
          "histogram": [
           {
            "marker": {
             "colorbar": {
              "outlinewidth": 0,
              "ticks": ""
             }
            },
            "type": "histogram"
           }
          ],
          "histogram2d": [
           {
            "colorbar": {
             "outlinewidth": 0,
             "ticks": ""
            },
            "colorscale": [
             [
              0,
              "#0d0887"
             ],
             [
              0.1111111111111111,
              "#46039f"
             ],
             [
              0.2222222222222222,
              "#7201a8"
             ],
             [
              0.3333333333333333,
              "#9c179e"
             ],
             [
              0.4444444444444444,
              "#bd3786"
             ],
             [
              0.5555555555555556,
              "#d8576b"
             ],
             [
              0.6666666666666666,
              "#ed7953"
             ],
             [
              0.7777777777777778,
              "#fb9f3a"
             ],
             [
              0.8888888888888888,
              "#fdca26"
             ],
             [
              1,
              "#f0f921"
             ]
            ],
            "type": "histogram2d"
           }
          ],
          "histogram2dcontour": [
           {
            "colorbar": {
             "outlinewidth": 0,
             "ticks": ""
            },
            "colorscale": [
             [
              0,
              "#0d0887"
             ],
             [
              0.1111111111111111,
              "#46039f"
             ],
             [
              0.2222222222222222,
              "#7201a8"
             ],
             [
              0.3333333333333333,
              "#9c179e"
             ],
             [
              0.4444444444444444,
              "#bd3786"
             ],
             [
              0.5555555555555556,
              "#d8576b"
             ],
             [
              0.6666666666666666,
              "#ed7953"
             ],
             [
              0.7777777777777778,
              "#fb9f3a"
             ],
             [
              0.8888888888888888,
              "#fdca26"
             ],
             [
              1,
              "#f0f921"
             ]
            ],
            "type": "histogram2dcontour"
           }
          ],
          "mesh3d": [
           {
            "colorbar": {
             "outlinewidth": 0,
             "ticks": ""
            },
            "type": "mesh3d"
           }
          ],
          "parcoords": [
           {
            "line": {
             "colorbar": {
              "outlinewidth": 0,
              "ticks": ""
             }
            },
            "type": "parcoords"
           }
          ],
          "pie": [
           {
            "automargin": true,
            "type": "pie"
           }
          ],
          "scatter": [
           {
            "marker": {
             "colorbar": {
              "outlinewidth": 0,
              "ticks": ""
             }
            },
            "type": "scatter"
           }
          ],
          "scatter3d": [
           {
            "line": {
             "colorbar": {
              "outlinewidth": 0,
              "ticks": ""
             }
            },
            "marker": {
             "colorbar": {
              "outlinewidth": 0,
              "ticks": ""
             }
            },
            "type": "scatter3d"
           }
          ],
          "scattercarpet": [
           {
            "marker": {
             "colorbar": {
              "outlinewidth": 0,
              "ticks": ""
             }
            },
            "type": "scattercarpet"
           }
          ],
          "scattergeo": [
           {
            "marker": {
             "colorbar": {
              "outlinewidth": 0,
              "ticks": ""
             }
            },
            "type": "scattergeo"
           }
          ],
          "scattergl": [
           {
            "marker": {
             "colorbar": {
              "outlinewidth": 0,
              "ticks": ""
             }
            },
            "type": "scattergl"
           }
          ],
          "scattermapbox": [
           {
            "marker": {
             "colorbar": {
              "outlinewidth": 0,
              "ticks": ""
             }
            },
            "type": "scattermapbox"
           }
          ],
          "scatterpolar": [
           {
            "marker": {
             "colorbar": {
              "outlinewidth": 0,
              "ticks": ""
             }
            },
            "type": "scatterpolar"
           }
          ],
          "scatterpolargl": [
           {
            "marker": {
             "colorbar": {
              "outlinewidth": 0,
              "ticks": ""
             }
            },
            "type": "scatterpolargl"
           }
          ],
          "scatterternary": [
           {
            "marker": {
             "colorbar": {
              "outlinewidth": 0,
              "ticks": ""
             }
            },
            "type": "scatterternary"
           }
          ],
          "surface": [
           {
            "colorbar": {
             "outlinewidth": 0,
             "ticks": ""
            },
            "colorscale": [
             [
              0,
              "#0d0887"
             ],
             [
              0.1111111111111111,
              "#46039f"
             ],
             [
              0.2222222222222222,
              "#7201a8"
             ],
             [
              0.3333333333333333,
              "#9c179e"
             ],
             [
              0.4444444444444444,
              "#bd3786"
             ],
             [
              0.5555555555555556,
              "#d8576b"
             ],
             [
              0.6666666666666666,
              "#ed7953"
             ],
             [
              0.7777777777777778,
              "#fb9f3a"
             ],
             [
              0.8888888888888888,
              "#fdca26"
             ],
             [
              1,
              "#f0f921"
             ]
            ],
            "type": "surface"
           }
          ],
          "table": [
           {
            "cells": {
             "fill": {
              "color": "#EBF0F8"
             },
             "line": {
              "color": "white"
             }
            },
            "header": {
             "fill": {
              "color": "#C8D4E3"
             },
             "line": {
              "color": "white"
             }
            },
            "type": "table"
           }
          ]
         },
         "layout": {
          "annotationdefaults": {
           "arrowcolor": "#2a3f5f",
           "arrowhead": 0,
           "arrowwidth": 1
          },
          "autotypenumbers": "strict",
          "coloraxis": {
           "colorbar": {
            "outlinewidth": 0,
            "ticks": ""
           }
          },
          "colorscale": {
           "diverging": [
            [
             0,
             "#8e0152"
            ],
            [
             0.1,
             "#c51b7d"
            ],
            [
             0.2,
             "#de77ae"
            ],
            [
             0.3,
             "#f1b6da"
            ],
            [
             0.4,
             "#fde0ef"
            ],
            [
             0.5,
             "#f7f7f7"
            ],
            [
             0.6,
             "#e6f5d0"
            ],
            [
             0.7,
             "#b8e186"
            ],
            [
             0.8,
             "#7fbc41"
            ],
            [
             0.9,
             "#4d9221"
            ],
            [
             1,
             "#276419"
            ]
           ],
           "sequential": [
            [
             0,
             "#0d0887"
            ],
            [
             0.1111111111111111,
             "#46039f"
            ],
            [
             0.2222222222222222,
             "#7201a8"
            ],
            [
             0.3333333333333333,
             "#9c179e"
            ],
            [
             0.4444444444444444,
             "#bd3786"
            ],
            [
             0.5555555555555556,
             "#d8576b"
            ],
            [
             0.6666666666666666,
             "#ed7953"
            ],
            [
             0.7777777777777778,
             "#fb9f3a"
            ],
            [
             0.8888888888888888,
             "#fdca26"
            ],
            [
             1,
             "#f0f921"
            ]
           ],
           "sequentialminus": [
            [
             0,
             "#0d0887"
            ],
            [
             0.1111111111111111,
             "#46039f"
            ],
            [
             0.2222222222222222,
             "#7201a8"
            ],
            [
             0.3333333333333333,
             "#9c179e"
            ],
            [
             0.4444444444444444,
             "#bd3786"
            ],
            [
             0.5555555555555556,
             "#d8576b"
            ],
            [
             0.6666666666666666,
             "#ed7953"
            ],
            [
             0.7777777777777778,
             "#fb9f3a"
            ],
            [
             0.8888888888888888,
             "#fdca26"
            ],
            [
             1,
             "#f0f921"
            ]
           ]
          },
          "colorway": [
           "#636efa",
           "#EF553B",
           "#00cc96",
           "#ab63fa",
           "#FFA15A",
           "#19d3f3",
           "#FF6692",
           "#B6E880",
           "#FF97FF",
           "#FECB52"
          ],
          "font": {
           "color": "#2a3f5f"
          },
          "geo": {
           "bgcolor": "white",
           "lakecolor": "white",
           "landcolor": "#E5ECF6",
           "showlakes": true,
           "showland": true,
           "subunitcolor": "white"
          },
          "hoverlabel": {
           "align": "left"
          },
          "hovermode": "closest",
          "mapbox": {
           "style": "light"
          },
          "paper_bgcolor": "white",
          "plot_bgcolor": "#E5ECF6",
          "polar": {
           "angularaxis": {
            "gridcolor": "white",
            "linecolor": "white",
            "ticks": ""
           },
           "bgcolor": "#E5ECF6",
           "radialaxis": {
            "gridcolor": "white",
            "linecolor": "white",
            "ticks": ""
           }
          },
          "scene": {
           "xaxis": {
            "backgroundcolor": "#E5ECF6",
            "gridcolor": "white",
            "gridwidth": 2,
            "linecolor": "white",
            "showbackground": true,
            "ticks": "",
            "zerolinecolor": "white"
           },
           "yaxis": {
            "backgroundcolor": "#E5ECF6",
            "gridcolor": "white",
            "gridwidth": 2,
            "linecolor": "white",
            "showbackground": true,
            "ticks": "",
            "zerolinecolor": "white"
           },
           "zaxis": {
            "backgroundcolor": "#E5ECF6",
            "gridcolor": "white",
            "gridwidth": 2,
            "linecolor": "white",
            "showbackground": true,
            "ticks": "",
            "zerolinecolor": "white"
           }
          },
          "shapedefaults": {
           "line": {
            "color": "#2a3f5f"
           }
          },
          "ternary": {
           "aaxis": {
            "gridcolor": "white",
            "linecolor": "white",
            "ticks": ""
           },
           "baxis": {
            "gridcolor": "white",
            "linecolor": "white",
            "ticks": ""
           },
           "bgcolor": "#E5ECF6",
           "caxis": {
            "gridcolor": "white",
            "linecolor": "white",
            "ticks": ""
           }
          },
          "title": {
           "x": 0.05
          },
          "xaxis": {
           "automargin": true,
           "gridcolor": "white",
           "linecolor": "white",
           "ticks": "",
           "title": {
            "standoff": 15
           },
           "zerolinecolor": "white",
           "zerolinewidth": 2
          },
          "yaxis": {
           "automargin": true,
           "gridcolor": "white",
           "linecolor": "white",
           "ticks": "",
           "title": {
            "standoff": 15
           },
           "zerolinecolor": "white",
           "zerolinewidth": 2
          }
         }
        },
        "xaxis": {
         "anchor": "y",
         "domain": [
          0,
          1
         ],
         "title": {
          "text": "Symbol"
         }
        },
        "yaxis": {
         "anchor": "x",
         "domain": [
          0,
          1
         ],
         "title": {
          "text": "Dividend Yield"
         }
        }
       }
      },
      "text/html": [
       "<div>                            <div id=\"4994f2e0-7c62-42e5-bc34-62df90a41ad7\" class=\"plotly-graph-div\" style=\"height:525px; width:100%;\"></div>            <script type=\"text/javascript\">                require([\"plotly\"], function(Plotly) {                    window.PLOTLYENV=window.PLOTLYENV || {};                                    if (document.getElementById(\"4994f2e0-7c62-42e5-bc34-62df90a41ad7\")) {                    Plotly.newPlot(                        \"4994f2e0-7c62-42e5-bc34-62df90a41ad7\",                        [{\"hovertemplate\": \"<b>%{hovertext}</b><br><br>Sector=Industrials<br>Symbol=%{x}<br>Dividend Yield=%{marker.size}<extra></extra>\", \"hovertext\": [\"MMM\", \"AOS\", \"AYI\", \"ALK\", \"ALLE\", \"AAL\", \"AME\", \"BA\", \"CHRW\", \"CAT\", \"CTAS\", \"CSX\", \"CMI\", \"DE\", \"DAL\", \"DOV\", \"ETN\", \"EMR\", \"EFX\", \"EXPD\", \"FAST\", \"FDX\", \"FLS\", \"FLR\", \"FTV\", \"FBHS\", \"GD\", \"GE\", \"GWW\", \"HON\", \"HII\", \"INFO\", \"ITW\", \"IR\", \"JBHT\", \"JEC\", \"JCI\", \"KSU\", \"LLL\", \"LMT\", \"MAS\", \"NLSN\", \"NSC\", \"NOC\", \"PCAR\", \"PH\", \"PNR\", \"PWR\", \"RTN\", \"RSG\", \"RHI\", \"ROK\", \"COL\", \"ROP\", \"LUV\", \"SRCL\", \"TXT\", \"UAL\", \"UPS\", \"URI\", \"UTX\", \"VRSK\", \"WM\", \"XYL\"], \"legendgroup\": \"Industrials\", \"marker\": {\"color\": \"#636efa\", \"size\": [2.3328617, 1.1479591999999998, 0.35118526, 1.9928383, 0.8004001999999999, 0.7782101, 0.75512403, 1.9648397000000002, 1.987685, 2.0215108, 1.0344826999999999, 1.5102888, 2.5008682999999996, 1.4866204, 2.2655525, 1.8815053, 2.9404557000000002, 2.813225, 1.3265306000000001, 1.3520038, 2.7798648, 0.7963368000000001, 1.8291216000000001, 1.4726508, 0.39057052, 1.2618296, 1.5631542, 3.147541, 1.9700643, 1.9710299, 1.2264713, 0.0, 1.9089574, 1.9739006999999997, 0.8139042, 0.9089531999999999, 2.7659574, 1.3445379, 1.4444605, 2.315954, 0.98383695, 3.6208732000000006, 2.018503, 1.3030859, 1.455816, 1.4401833, 2.03933, 0.0, 1.5612764, 2.1362228, 1.7075773, 1.7692552, 0.9748892, 0.61985797, 0.863707, 0.0, 0.1381454, 0.0, 2.9666696, 0.0, 2.1216943, 0.0, 2.0800195, 1.1700793999999999], \"sizemode\": \"area\", \"sizeref\": 0.0202579136, \"symbol\": \"circle\"}, \"mode\": \"markers\", \"name\": \"Industrials\", \"orientation\": \"v\", \"showlegend\": true, \"type\": \"scatter\", \"x\": [\"MMM\", \"AOS\", \"AYI\", \"ALK\", \"ALLE\", \"AAL\", \"AME\", \"BA\", \"CHRW\", \"CAT\", \"CTAS\", \"CSX\", \"CMI\", \"DE\", \"DAL\", \"DOV\", \"ETN\", \"EMR\", \"EFX\", \"EXPD\", \"FAST\", \"FDX\", \"FLS\", \"FLR\", \"FTV\", \"FBHS\", \"GD\", \"GE\", \"GWW\", \"HON\", \"HII\", \"INFO\", \"ITW\", \"IR\", \"JBHT\", \"JEC\", \"JCI\", \"KSU\", \"LLL\", \"LMT\", \"MAS\", \"NLSN\", \"NSC\", \"NOC\", \"PCAR\", \"PH\", \"PNR\", \"PWR\", \"RTN\", \"RSG\", \"RHI\", \"ROK\", \"COL\", \"ROP\", \"LUV\", \"SRCL\", \"TXT\", \"UAL\", \"UPS\", \"URI\", \"UTX\", \"VRSK\", \"WM\", \"XYL\"], \"xaxis\": \"x\", \"y\": [2.3328617, 1.1479591999999998, 0.35118526, 1.9928383, 0.8004001999999999, 0.7782101, 0.75512403, 1.9648397000000002, 1.987685, 2.0215108, 1.0344826999999999, 1.5102888, 2.5008682999999996, 1.4866204, 2.2655525, 1.8815053, 2.9404557000000002, 2.813225, 1.3265306000000001, 1.3520038, 2.7798648, 0.7963368000000001, 1.8291216000000001, 1.4726508, 0.39057052, 1.2618296, 1.5631542, 3.147541, 1.9700643, 1.9710299, 1.2264713, 0.0, 1.9089574, 1.9739006999999997, 0.8139042, 0.9089531999999999, 2.7659574, 1.3445379, 1.4444605, 2.315954, 0.98383695, 3.6208732000000006, 2.018503, 1.3030859, 1.455816, 1.4401833, 2.03933, 0.0, 1.5612764, 2.1362228, 1.7075773, 1.7692552, 0.9748892, 0.61985797, 0.863707, 0.0, 0.1381454, 0.0, 2.9666696, 0.0, 2.1216943, 0.0, 2.0800195, 1.1700793999999999], \"yaxis\": \"y\"}, {\"hovertemplate\": \"<b>%{hovertext}</b><br><br>Sector=Health Care<br>Symbol=%{x}<br>Dividend Yield=%{marker.size}<extra></extra>\", \"hovertext\": [\"ABT\", \"ABBV\", \"AET\", \"A\", \"ALXN\", \"ALGN\", \"AGN\", \"ABC\", \"AMGN\", \"ANTM\", \"BAX\", \"BDX\", \"BIIB\", \"BSX\", \"BMY\", \"CAH\", \"CELG\", \"CNC\", \"CERN\", \"CI\", \"DHR\", \"DVA\", \"XRAY\", \"EW\", \"EVHC\", \"ESRX\", \"GILD\", \"HSIC\", \"HOLX\", \"HUM\", \"IDXX\", \"ILMN\", \"INCY\", \"ISRG\", \"IQV\", \"JNJ\", \"LH\", \"LLY\", \"MCK\", \"MDT\", \"MRK\", \"MTD\", \"MYL\", \"PDCO\", \"PKI\", \"PFE\", \"DGX\", \"REGN\", \"RMD\", \"SYK\", \"COO\", \"TMO\", \"UNH\", \"UHS\", \"VAR\", \"VRTX\", \"WAT\", \"ZBH\", \"ZTS\"], \"legendgroup\": \"Health Care\", \"marker\": {\"color\": \"#EF553B\", \"size\": [1.9089824, 2.4995599, 1.1019889999999999, 0.8756978999999999, 0.0, 0.0, 1.643289, 1.6132456, 2.9751507999999998, 1.2581781, 0.97635394, 1.3518385, 0.0, 0.0, 2.5546862999999997, 2.8394227, 0.0, 0.0, 0.0, 0.020466639, 0.5879265, 0.0, 0.60034305, 0.0, 0.0, 0.0, 2.754954, 0.0, 0.0, 0.6040015000000001, 0.0, 0.0, 0.0, 0.0, 0.0, 2.5566885, 0.0, 2.9327424, 0.8898775999999999, 2.2618315, 3.4359339999999996, 0.0, 0.0, 3.0723782, 0.3695394, 3.8879358999999996, 1.9884668999999997, 0.0, 1.5120423, 1.2234008, 0.026033757, 0.32763190000000003, 1.3284917, 0.34153005, 0.0, 0.0, 0.0, 0.7948335999999999, 0.68237203], \"sizemode\": \"area\", \"sizeref\": 0.0202579136, \"symbol\": \"circle\"}, \"mode\": \"markers\", \"name\": \"Health Care\", \"orientation\": \"v\", \"showlegend\": true, \"type\": \"scatter\", \"x\": [\"ABT\", \"ABBV\", \"AET\", \"A\", \"ALXN\", \"ALGN\", \"AGN\", \"ABC\", \"AMGN\", \"ANTM\", \"BAX\", \"BDX\", \"BIIB\", \"BSX\", \"BMY\", \"CAH\", \"CELG\", \"CNC\", \"CERN\", \"CI\", \"DHR\", \"DVA\", \"XRAY\", \"EW\", \"EVHC\", \"ESRX\", \"GILD\", \"HSIC\", \"HOLX\", \"HUM\", \"IDXX\", \"ILMN\", \"INCY\", \"ISRG\", \"IQV\", \"JNJ\", \"LH\", \"LLY\", \"MCK\", \"MDT\", \"MRK\", \"MTD\", \"MYL\", \"PDCO\", \"PKI\", \"PFE\", \"DGX\", \"REGN\", \"RMD\", \"SYK\", \"COO\", \"TMO\", \"UNH\", \"UHS\", \"VAR\", \"VRTX\", \"WAT\", \"ZBH\", \"ZTS\"], \"xaxis\": \"x\", \"y\": [1.9089824, 2.4995599, 1.1019889999999999, 0.8756978999999999, 0.0, 0.0, 1.643289, 1.6132456, 2.9751507999999998, 1.2581781, 0.97635394, 1.3518385, 0.0, 0.0, 2.5546862999999997, 2.8394227, 0.0, 0.0, 0.0, 0.020466639, 0.5879265, 0.0, 0.60034305, 0.0, 0.0, 0.0, 2.754954, 0.0, 0.0, 0.6040015000000001, 0.0, 0.0, 0.0, 0.0, 0.0, 2.5566885, 0.0, 2.9327424, 0.8898775999999999, 2.2618315, 3.4359339999999996, 0.0, 0.0, 3.0723782, 0.3695394, 3.8879358999999996, 1.9884668999999997, 0.0, 1.5120423, 1.2234008, 0.026033757, 0.32763190000000003, 1.3284917, 0.34153005, 0.0, 0.0, 0.0, 0.7948335999999999, 0.68237203], \"yaxis\": \"y\"}, {\"hovertemplate\": \"<b>%{hovertext}</b><br><br>Sector=Information Technology<br>Symbol=%{x}<br>Dividend Yield=%{marker.size}<extra></extra>\", \"hovertext\": [\"ACN\", \"ATVI\", \"ADBE\", \"AMD\", \"AKAM\", \"ADS\", \"GOOGL\", \"GOOG\", \"APH\", \"ADI\", \"ANSS\", \"AAPL\", \"AMAT\", \"ADSK\", \"ADP\", \"AVGO\", \"CA\", \"CDNS\", \"CSCO\", \"CTXS\", \"CTSH\", \"GLW\", \"CSRA\", \"DXC\", \"EBAY\", \"EA\", \"FFIV\", \"FB\", \"FIS\", \"FISV\", \"FLIR\", \"IT\", \"GPN\", \"HRS\", \"HPE\", \"HPQ\", \"INTC\", \"IBM\", \"INTU\", \"JNPR\", \"KLAC\", \"LRCX\", \"MA\", \"MCHP\", \"MU\", \"MSFT\", \"MSI\", \"NTAP\", \"NFLX\", \"NVDA\", \"ORCL\", \"PAYX\", \"PYPL\", \"QRVO\", \"QCOM\", \"RHT\", \"CRM\", \"STX\", \"SWKS\", \"SYMC\", \"SNPS\", \"TEL\", \"TXN\", \"TSS\", \"VRSN\", \"V\", \"WDC\", \"WU\", \"XRX\", \"XLNX\"], \"legendgroup\": \"Information Technology\", \"marker\": {\"color\": \"#00cc96\", \"size\": [1.7144699, 0.43190324, 0.0, 0.0, 0.0, 0.9240122, 0.0, 0.0, 0.8608971, 2.108963, 0.0, 1.5795412, 0.8215239, 0.0, 2.2190912, 2.9488583, 3.0, 0.0, 2.8755577000000003, 0.0, 1.0454783, 2.0791416000000003, 1.275917, 0.7493755, 0.0, 0.0, 0.0, 0.0, 1.322724, 0.0, 1.2396694, 0.0, 0.037622273, 1.4922442, 1.9280206000000002, 2.6270627999999996, 2.6548672000000004, 3.8999026, 0.96720195, 1.5754233999999998, 2.2988505, 1.1652973999999998, 0.5926628, 1.7512966, 0.0, 1.8747908, 2.0266979, 1.3881658000000001, 0.0, 0.26223776, 1.5551462999999999, 3.0892801, 0.0, 0.0, 3.5055351000000003, 0.0, 0.0, 5.085772, 1.2629502000000001, 1.1286682, 0.0, 1.6062645, 2.4318494999999998, 0.6091133000000001, 0.0, 0.70204765, 2.389201, 3.5915854, 3.207184, 2.0904882], \"sizemode\": \"area\", \"sizeref\": 0.0202579136, \"symbol\": \"circle\"}, \"mode\": \"markers\", \"name\": \"Information Technology\", \"orientation\": \"v\", \"showlegend\": true, \"type\": \"scatter\", \"x\": [\"ACN\", \"ATVI\", \"ADBE\", \"AMD\", \"AKAM\", \"ADS\", \"GOOGL\", \"GOOG\", \"APH\", \"ADI\", \"ANSS\", \"AAPL\", \"AMAT\", \"ADSK\", \"ADP\", \"AVGO\", \"CA\", \"CDNS\", \"CSCO\", \"CTXS\", \"CTSH\", \"GLW\", \"CSRA\", \"DXC\", \"EBAY\", \"EA\", \"FFIV\", \"FB\", \"FIS\", \"FISV\", \"FLIR\", \"IT\", \"GPN\", \"HRS\", \"HPE\", \"HPQ\", \"INTC\", \"IBM\", \"INTU\", \"JNPR\", \"KLAC\", \"LRCX\", \"MA\", \"MCHP\", \"MU\", \"MSFT\", \"MSI\", \"NTAP\", \"NFLX\", \"NVDA\", \"ORCL\", \"PAYX\", \"PYPL\", \"QRVO\", \"QCOM\", \"RHT\", \"CRM\", \"STX\", \"SWKS\", \"SYMC\", \"SNPS\", \"TEL\", \"TXN\", \"TSS\", \"VRSN\", \"V\", \"WDC\", \"WU\", \"XRX\", \"XLNX\"], \"xaxis\": \"x\", \"y\": [1.7144699, 0.43190324, 0.0, 0.0, 0.0, 0.9240122, 0.0, 0.0, 0.8608971, 2.108963, 0.0, 1.5795412, 0.8215239, 0.0, 2.2190912, 2.9488583, 3.0, 0.0, 2.8755577000000003, 0.0, 1.0454783, 2.0791416000000003, 1.275917, 0.7493755, 0.0, 0.0, 0.0, 0.0, 1.322724, 0.0, 1.2396694, 0.0, 0.037622273, 1.4922442, 1.9280206000000002, 2.6270627999999996, 2.6548672000000004, 3.8999026, 0.96720195, 1.5754233999999998, 2.2988505, 1.1652973999999998, 0.5926628, 1.7512966, 0.0, 1.8747908, 2.0266979, 1.3881658000000001, 0.0, 0.26223776, 1.5551462999999999, 3.0892801, 0.0, 0.0, 3.5055351000000003, 0.0, 0.0, 5.085772, 1.2629502000000001, 1.1286682, 0.0, 1.6062645, 2.4318494999999998, 0.6091133000000001, 0.0, 0.70204765, 2.389201, 3.5915854, 3.207184, 2.0904882], \"yaxis\": \"y\"}, {\"hovertemplate\": \"<b>%{hovertext}</b><br><br>Sector=Consumer Discretionary<br>Symbol=%{x}<br>Dividend Yield=%{marker.size}<extra></extra>\", \"hovertext\": [\"AAP\", \"AMZN\", \"APTV\", \"AZO\", \"BBY\", \"BWA\", \"KMX\", \"CCL\", \"CBS\", \"CHTR\", \"CMG\", \"CMCSA\", \"DHI\", \"DRI\", \"DISCA\", \"DISCK\", \"DISH\", \"DG\", \"DLTR\", \"EXPE\", \"F\", \"GPS\", \"GRMN\", \"GM\", \"GPC\", \"GT\", \"HBI\", \"HOG\", \"HAS\", \"HLT\", \"HD\", \"IPG\", \"KSS\", \"LB\", \"LEG\", \"LEN\", \"LKQ\", \"LOW\", \"M\", \"MAR\", \"MAT\", \"MCD\", \"MGM\", \"KORS\", \"MHK\", \"NWL\", \"NWSA\", \"NWS\", \"NKE\", \"JWN\", \"NCLH\", \"ORLY\", \"OMC\", \"RL\", \"PCLN\", \"PHM\", \"PVH\", \"ROST\", \"RCL\", \"SNI\", \"SIG\", \"SNA\", \"SWK\", \"SBUX\", \"TGT\", \"DIS\", \"TIF\", \"TWX\", \"TJX\", \"TSCO\", \"TRIP\", \"FOXA\", \"FOX\", \"ULTA\", \"UAA\", \"UA\", \"VFC\", \"VIAB\", \"WHR\", \"WYN\", \"WYNN\", \"YUM\"], \"legendgroup\": \"Consumer Discretionary\", \"marker\": {\"color\": \"#ab63fa\", \"size\": [0.21832074, 0.0, 0.9392678, 0.0, 1.9085041, 1.2363636, 0.0, 2.6041667, 1.3473053999999998, 0.0, 0.0, 1.8929017, 1.0801469, 2.6503997000000004, 0.0, 0.0, 0.0, 1.0625255, 0.0, 0.92785895, 6.7843865999999995, 2.8203557, 3.2339884999999997, 3.5857513, 2.7198548, 1.6731401999999997, 2.7322404, 3.0218647, 2.2304833, 0.7315289, 1.8610487, 3.3802817000000003, 3.4965036, 4.886988, 3.1454785, 0.26268265, 0.0, 1.6413131, 6.098546, 0.9452879000000001, 0.0, 2.4379939999999998, 1.2687428, 0.0, 0.0, 3.1228786, 1.2453299999999998, 1.2269938999999999, 1.2189548000000001, 3.0020284999999998, 0.0, 0.0, 3.1838683999999997, 1.8570102, 0.0, 1.2036108, 0.100529455, 0.82061803, 1.8674136000000001, 1.3761468000000001, 2.4730754, 1.968433, 1.5775635000000001, 2.203452, 3.3856654, 1.6036655, 1.9402406000000003, 1.6927768, 1.64042, 1.6030874, 0.0, 0.9983361, 1.0084034, 0.0, 0.0, 0.0, 2.2865665, 2.622091, 2.5652986, 1.9541779, 1.1279043, 1.7970798], \"sizemode\": \"area\", \"sizeref\": 0.0202579136, \"symbol\": \"circle\"}, \"mode\": \"markers\", \"name\": \"Consumer Discretionary\", \"orientation\": \"v\", \"showlegend\": true, \"type\": \"scatter\", \"x\": [\"AAP\", \"AMZN\", \"APTV\", \"AZO\", \"BBY\", \"BWA\", \"KMX\", \"CCL\", \"CBS\", \"CHTR\", \"CMG\", \"CMCSA\", \"DHI\", \"DRI\", \"DISCA\", \"DISCK\", \"DISH\", \"DG\", \"DLTR\", \"EXPE\", \"F\", \"GPS\", \"GRMN\", \"GM\", \"GPC\", \"GT\", \"HBI\", \"HOG\", \"HAS\", \"HLT\", \"HD\", \"IPG\", \"KSS\", \"LB\", \"LEG\", \"LEN\", \"LKQ\", \"LOW\", \"M\", \"MAR\", \"MAT\", \"MCD\", \"MGM\", \"KORS\", \"MHK\", \"NWL\", \"NWSA\", \"NWS\", \"NKE\", \"JWN\", \"NCLH\", \"ORLY\", \"OMC\", \"RL\", \"PCLN\", \"PHM\", \"PVH\", \"ROST\", \"RCL\", \"SNI\", \"SIG\", \"SNA\", \"SWK\", \"SBUX\", \"TGT\", \"DIS\", \"TIF\", \"TWX\", \"TJX\", \"TSCO\", \"TRIP\", \"FOXA\", \"FOX\", \"ULTA\", \"UAA\", \"UA\", \"VFC\", \"VIAB\", \"WHR\", \"WYN\", \"WYNN\", \"YUM\"], \"xaxis\": \"x\", \"y\": [0.21832074, 0.0, 0.9392678, 0.0, 1.9085041, 1.2363636, 0.0, 2.6041667, 1.3473053999999998, 0.0, 0.0, 1.8929017, 1.0801469, 2.6503997000000004, 0.0, 0.0, 0.0, 1.0625255, 0.0, 0.92785895, 6.7843865999999995, 2.8203557, 3.2339884999999997, 3.5857513, 2.7198548, 1.6731401999999997, 2.7322404, 3.0218647, 2.2304833, 0.7315289, 1.8610487, 3.3802817000000003, 3.4965036, 4.886988, 3.1454785, 0.26268265, 0.0, 1.6413131, 6.098546, 0.9452879000000001, 0.0, 2.4379939999999998, 1.2687428, 0.0, 0.0, 3.1228786, 1.2453299999999998, 1.2269938999999999, 1.2189548000000001, 3.0020284999999998, 0.0, 0.0, 3.1838683999999997, 1.8570102, 0.0, 1.2036108, 0.100529455, 0.82061803, 1.8674136000000001, 1.3761468000000001, 2.4730754, 1.968433, 1.5775635000000001, 2.203452, 3.3856654, 1.6036655, 1.9402406000000003, 1.6927768, 1.64042, 1.6030874, 0.0, 0.9983361, 1.0084034, 0.0, 0.0, 0.0, 2.2865665, 2.622091, 2.5652986, 1.9541779, 1.1279043, 1.7970798], \"yaxis\": \"y\"}, {\"hovertemplate\": \"<b>%{hovertext}</b><br><br>Sector=Utilities<br>Symbol=%{x}<br>Dividend Yield=%{marker.size}<extra></extra>\", \"hovertext\": [\"AES\", \"LNT\", \"AEE\", \"AEP\", \"AWK\", \"CNP\", \"CMS\", \"ED\", \"D\", \"DTE\", \"DUK\", \"EIX\", \"ETR\", \"ES\", \"EXC\", \"FE\", \"NEE\", \"NI\", \"NRG\", \"PCG\", \"PNW\", \"PPL\", \"PEG\", \"SCG\", \"SRE\", \"SO\", \"WEC\", \"XEL\"], \"legendgroup\": \"Utilities\", \"marker\": {\"color\": \"#FFA15A\", \"size\": [4.961832, 3.5733333, 3.4404964, 3.8479443, 2.129297, 4.2109255999999995, 3.3918407, 3.8001595, 4.5281997, 3.5559585, 4.784946400000001, 4.0542803, 4.892126, 3.3397784, 3.8174273999999997, 4.673807, 2.6537917, 3.3780859, 1.4195583999999999, 0.0, 3.698776, 5.2196894, 3.60587, 6.6830335000000005, 3.1607263, 5.353022599999999, 3.6919480000000005, 3.3914273], \"sizemode\": \"area\", \"sizeref\": 0.0202579136, \"symbol\": \"circle\"}, \"mode\": \"markers\", \"name\": \"Utilities\", \"orientation\": \"v\", \"showlegend\": true, \"type\": \"scatter\", \"x\": [\"AES\", \"LNT\", \"AEE\", \"AEP\", \"AWK\", \"CNP\", \"CMS\", \"ED\", \"D\", \"DTE\", \"DUK\", \"EIX\", \"ETR\", \"ES\", \"EXC\", \"FE\", \"NEE\", \"NI\", \"NRG\", \"PCG\", \"PNW\", \"PPL\", \"PEG\", \"SCG\", \"SRE\", \"SO\", \"WEC\", \"XEL\"], \"xaxis\": \"x\", \"y\": [4.961832, 3.5733333, 3.4404964, 3.8479443, 2.129297, 4.2109255999999995, 3.3918407, 3.8001595, 4.5281997, 3.5559585, 4.784946400000001, 4.0542803, 4.892126, 3.3397784, 3.8174273999999997, 4.673807, 2.6537917, 3.3780859, 1.4195583999999999, 0.0, 3.698776, 5.2196894, 3.60587, 6.6830335000000005, 3.1607263, 5.353022599999999, 3.6919480000000005, 3.3914273], \"yaxis\": \"y\"}, {\"hovertemplate\": \"<b>%{hovertext}</b><br><br>Sector=Financials<br>Symbol=%{x}<br>Dividend Yield=%{marker.size}<extra></extra>\", \"hovertext\": [\"AMG\", \"AFL\", \"ALL\", \"AXP\", \"AIG\", \"AMP\", \"AON\", \"AJG\", \"AIZ\", \"BAC\", \"BBT\", \"BRK.B\", \"BLK\", \"HRB\", \"BHF\", \"COF\", \"CBOE\", \"SCHW\", \"CB\", \"CINF\", \"C\", \"CFG\", \"CME\", \"CMA\", \"DFS\", \"ETFC\", \"RE\", \"FITB\", \"BEN\", \"GS\", \"HIG\", \"HBAN\", \"ICE\", \"IVZ\", \"JPM\", \"KEY\", \"LUK\", \"LNC\", \"L\", \"MTB\", \"MMC\", \"MET\", \"MCO\", \"MS\", \"NDAQ\", \"NAVI\", \"NTRS\", \"PBCT\", \"PNC\", \"PFG\", \"PGR\", \"PRU\", \"RJF\", \"RF\", \"SPGI\", \"STT\", \"STI\", \"SYF\", \"TROW\", \"BK\", \"TRV\", \"TMK\", \"USB\", \"UNM\", \"WFC\", \"WLTW\", \"XL\", \"ZION\"], \"legendgroup\": \"Financials\", \"marker\": {\"color\": \"#19d3f3\", \"size\": [0.6387395, 2.4299066000000002, 1.5278208, 1.4955667, 2.1167521000000002, 2.0735743, 1.0245464, 2.4807137999999997, 2.5313594, 1.536, 2.4526197999999995, 0.0, 2.1643557999999996, 3.7296038, 0.0, 1.6306564, 0.9426962999999999, 0.76878726, 1.9251627, 2.918904, 1.7068942999999999, 1.9625335, 3.6828613, 1.2823253000000001, 1.8269607, 0.0, 2.1078234, 1.9789734, 2.3326569999999998, 1.1668611999999998, 1.7901897, 2.8132992000000003, 5.4298644, 3.466826, 1.9845841, 1.9876952, 1.5993601999999998, 1.6813145, 4.5131635999999995, 1.6218846000000002, 1.8257058999999998, 3.4587116, 1.1140649999999999, 1.8331805, 1.9671283, 4.558404400000001, 1.6678249, 3.59375, 1.9354837999999999, 3.1914895, 2.1061797, 2.6985697999999996, 1.0982976, 1.8987342, 1.0947506, 1.6228749, 2.3185046000000002, 1.6, 2.140443, 1.7347307, 2.0261714, 0.7204611, 2.189781, 1.8189006999999997, 2.7111576, 1.347058, 2.0952382, 1.480933], \"sizemode\": \"area\", \"sizeref\": 0.0202579136, \"symbol\": \"circle\"}, \"mode\": \"markers\", \"name\": \"Financials\", \"orientation\": \"v\", \"showlegend\": true, \"type\": \"scatter\", \"x\": [\"AMG\", \"AFL\", \"ALL\", \"AXP\", \"AIG\", \"AMP\", \"AON\", \"AJG\", \"AIZ\", \"BAC\", \"BBT\", \"BRK.B\", \"BLK\", \"HRB\", \"BHF\", \"COF\", \"CBOE\", \"SCHW\", \"CB\", \"CINF\", \"C\", \"CFG\", \"CME\", \"CMA\", \"DFS\", \"ETFC\", \"RE\", \"FITB\", \"BEN\", \"GS\", \"HIG\", \"HBAN\", \"ICE\", \"IVZ\", \"JPM\", \"KEY\", \"LUK\", \"LNC\", \"L\", \"MTB\", \"MMC\", \"MET\", \"MCO\", \"MS\", \"NDAQ\", \"NAVI\", \"NTRS\", \"PBCT\", \"PNC\", \"PFG\", \"PGR\", \"PRU\", \"RJF\", \"RF\", \"SPGI\", \"STT\", \"STI\", \"SYF\", \"TROW\", \"BK\", \"TRV\", \"TMK\", \"USB\", \"UNM\", \"WFC\", \"WLTW\", \"XL\", \"ZION\"], \"xaxis\": \"x\", \"y\": [0.6387395, 2.4299066000000002, 1.5278208, 1.4955667, 2.1167521000000002, 2.0735743, 1.0245464, 2.4807137999999997, 2.5313594, 1.536, 2.4526197999999995, 0.0, 2.1643557999999996, 3.7296038, 0.0, 1.6306564, 0.9426962999999999, 0.76878726, 1.9251627, 2.918904, 1.7068942999999999, 1.9625335, 3.6828613, 1.2823253000000001, 1.8269607, 0.0, 2.1078234, 1.9789734, 2.3326569999999998, 1.1668611999999998, 1.7901897, 2.8132992000000003, 5.4298644, 3.466826, 1.9845841, 1.9876952, 1.5993601999999998, 1.6813145, 4.5131635999999995, 1.6218846000000002, 1.8257058999999998, 3.4587116, 1.1140649999999999, 1.8331805, 1.9671283, 4.558404400000001, 1.6678249, 3.59375, 1.9354837999999999, 3.1914895, 2.1061797, 2.6985697999999996, 1.0982976, 1.8987342, 1.0947506, 1.6228749, 2.3185046000000002, 1.6, 2.140443, 1.7347307, 2.0261714, 0.7204611, 2.189781, 1.8189006999999997, 2.7111576, 1.347058, 2.0952382, 1.480933], \"yaxis\": \"y\"}, {\"hovertemplate\": \"<b>%{hovertext}</b><br><br>Sector=Materials<br>Symbol=%{x}<br>Dividend Yield=%{marker.size}<extra></extra>\", \"hovertext\": [\"APD\", \"ALB\", \"AVY\", \"BLL\", \"CF\", \"DWDP\", \"EMN\", \"ECL\", \"FMC\", \"FCX\", \"IP\", \"IFF\", \"LYB\", \"MLM\", \"MON\", \"NEM\", \"NUE\", \"PKG\", \"PPG\", \"PX\", \"SEE\", \"SHW\", \"MOS\", \"VMC\", \"WRK\"], \"legendgroup\": \"Materials\", \"marker\": {\"color\": \"#FF6692\", \"size\": [2.7811136000000003, 1.2004126, 1.5682174999999998, 1.0170354, 3.0395136000000003, 2.1529746, 2.2630835, 1.2319711000000002, 0.785995, 1.1198208, 3.2067509999999997, 1.9341276, 3.264714, 0.8042038, 1.7938709, 0.8101539000000001, 2.415766, 2.1514556000000002, 1.5771488999999999, 2.1998534, 1.4427412, 0.8426688, 0.3960396, 0.7797879, 2.6699783999999998], \"sizemode\": \"area\", \"sizeref\": 0.0202579136, \"symbol\": \"circle\"}, \"mode\": \"markers\", \"name\": \"Materials\", \"orientation\": \"v\", \"showlegend\": true, \"type\": \"scatter\", \"x\": [\"APD\", \"ALB\", \"AVY\", \"BLL\", \"CF\", \"DWDP\", \"EMN\", \"ECL\", \"FMC\", \"FCX\", \"IP\", \"IFF\", \"LYB\", \"MLM\", \"MON\", \"NEM\", \"NUE\", \"PKG\", \"PPG\", \"PX\", \"SEE\", \"SHW\", \"MOS\", \"VMC\", \"WRK\"], \"xaxis\": \"x\", \"y\": [2.7811136000000003, 1.2004126, 1.5682174999999998, 1.0170354, 3.0395136000000003, 2.1529746, 2.2630835, 1.2319711000000002, 0.785995, 1.1198208, 3.2067509999999997, 1.9341276, 3.264714, 0.8042038, 1.7938709, 0.8101539000000001, 2.415766, 2.1514556000000002, 1.5771488999999999, 2.1998534, 1.4427412, 0.8426688, 0.3960396, 0.7797879, 2.6699783999999998], \"yaxis\": \"y\"}, {\"hovertemplate\": \"<b>%{hovertext}</b><br><br>Sector=Real Estate<br>Symbol=%{x}<br>Dividend Yield=%{marker.size}<extra></extra>\", \"hovertext\": [\"ARE\", \"AMT\", \"AIV\", \"AVB\", \"BXP\", \"CBG\", \"CCI\", \"DLR\", \"DRE\", \"EQIX\", \"EQR\", \"ESS\", \"EXR\", \"FRT\", \"GGP\", \"HCP\", \"HST\", \"IRM\", \"KIM\", \"MAC\", \"MAA\", \"PLD\", \"PSA\", \"O\", \"REG\", \"SBAC\", \"SPG\", \"SLG\", \"UDR\", \"VTR\", \"VNO\", \"HCN\", \"WY\"], \"legendgroup\": \"Real Estate\", \"marker\": {\"color\": \"#B6E880\", \"size\": [3.0262272, 2.0, 3.8765620000000003, 3.7149355, 2.7744062, 0.0, 3.8620690000000004, 3.5710857000000003, 3.1533307999999995, 1.8775817, 3.5437917999999997, 3.2138102, 3.879632, 3.5925992, 4.0054620000000005, 6.330197, 4.1131105, 7.08258, 7.713498599999999, 4.917760400000001, 4.19652, 2.931379, 4.316159, 5.3720360000000005, 3.6850338, 0.0, 5.0368075, 3.4998921999999997, 3.6686389999999998, 5.965641000000001, 3.744428, 6.1538463, 3.7079953999999997], \"sizemode\": \"area\", \"sizeref\": 0.0202579136, \"symbol\": \"circle\"}, \"mode\": \"markers\", \"name\": \"Real Estate\", \"orientation\": \"v\", \"showlegend\": true, \"type\": \"scatter\", \"x\": [\"ARE\", \"AMT\", \"AIV\", \"AVB\", \"BXP\", \"CBG\", \"CCI\", \"DLR\", \"DRE\", \"EQIX\", \"EQR\", \"ESS\", \"EXR\", \"FRT\", \"GGP\", \"HCP\", \"HST\", \"IRM\", \"KIM\", \"MAC\", \"MAA\", \"PLD\", \"PSA\", \"O\", \"REG\", \"SBAC\", \"SPG\", \"SLG\", \"UDR\", \"VTR\", \"VNO\", \"HCN\", \"WY\"], \"xaxis\": \"x\", \"y\": [3.0262272, 2.0, 3.8765620000000003, 3.7149355, 2.7744062, 0.0, 3.8620690000000004, 3.5710857000000003, 3.1533307999999995, 1.8775817, 3.5437917999999997, 3.2138102, 3.879632, 3.5925992, 4.0054620000000005, 6.330197, 4.1131105, 7.08258, 7.713498599999999, 4.917760400000001, 4.19652, 2.931379, 4.316159, 5.3720360000000005, 3.6850338, 0.0, 5.0368075, 3.4998921999999997, 3.6686389999999998, 5.965641000000001, 3.744428, 6.1538463, 3.7079953999999997], \"yaxis\": \"y\"}, {\"hovertemplate\": \"<b>%{hovertext}</b><br><br>Sector=Consumer Staples<br>Symbol=%{x}<br>Dividend Yield=%{marker.size}<extra></extra>\", \"hovertext\": [\"MO\", \"ADM\", \"BF.B\", \"CPB\", \"CHD\", \"KO\", \"CL\", \"CAG\", \"STZ\", \"COST\", \"COTY\", \"CVS\", \"DPS\", \"EL\", \"GIS\", \"HRL\", \"SJM\", \"K\", \"KMB\", \"KHC\", \"KR\", \"MKC\", \"TAP\", \"MDLZ\", \"MNST\", \"PM\", \"PG\", \"SYY\", \"CLX\", \"HSY\", \"TSN\", \"WMT\", \"WBA\"], \"legendgroup\": \"Consumer Staples\", \"marker\": {\"color\": \"#FF97FF\", \"size\": [3.9526875, 3.1761081, 1.1216964, 3.125, 1.8366054, 3.3213644, 2.2801766, 2.3683476000000003, 0.9712818000000001, 1.0917627, 2.8604119999999997, 2.6899797999999997, 1.9661016, 1.1283498, 3.5864594, 2.2907757999999996, 2.6036884999999996, 3.3639620000000003, 3.5599858999999996, 3.3990483, 1.7301039, 2.0261056, 2.1533613, 1.9977299, 0.0, 4.328479, 3.3704788999999997, 2.4644873, 2.6286967, 2.6494346, 1.6353229, 1.983471, 2.2368238], \"sizemode\": \"area\", \"sizeref\": 0.0202579136, \"symbol\": \"circle\"}, \"mode\": \"markers\", \"name\": \"Consumer Staples\", \"orientation\": \"v\", \"showlegend\": true, \"type\": \"scatter\", \"x\": [\"MO\", \"ADM\", \"BF.B\", \"CPB\", \"CHD\", \"KO\", \"CL\", \"CAG\", \"STZ\", \"COST\", \"COTY\", \"CVS\", \"DPS\", \"EL\", \"GIS\", \"HRL\", \"SJM\", \"K\", \"KMB\", \"KHC\", \"KR\", \"MKC\", \"TAP\", \"MDLZ\", \"MNST\", \"PM\", \"PG\", \"SYY\", \"CLX\", \"HSY\", \"TSN\", \"WMT\", \"WBA\"], \"xaxis\": \"x\", \"y\": [3.9526875, 3.1761081, 1.1216964, 3.125, 1.8366054, 3.3213644, 2.2801766, 2.3683476000000003, 0.9712818000000001, 1.0917627, 2.8604119999999997, 2.6899797999999997, 1.9661016, 1.1283498, 3.5864594, 2.2907757999999996, 2.6036884999999996, 3.3639620000000003, 3.5599858999999996, 3.3990483, 1.7301039, 2.0261056, 2.1533613, 1.9977299, 0.0, 4.328479, 3.3704788999999997, 2.4644873, 2.6286967, 2.6494346, 1.6353229, 1.983471, 2.2368238], \"yaxis\": \"y\"}, {\"hovertemplate\": \"<b>%{hovertext}</b><br><br>Sector=Energy<br>Symbol=%{x}<br>Dividend Yield=%{marker.size}<extra></extra>\", \"hovertext\": [\"APC\", \"ANDV\", \"APA\", \"BHGE\", \"COG\", \"CHK\", \"CVX\", \"XEC\", \"CXO\", \"COP\", \"DVN\", \"EOG\", \"EQT\", \"XOM\", \"HAL\", \"HP\", \"HES\", \"KMI\", \"MPC\", \"NOV\", \"NFX\", \"NBL\", \"OKE\", \"PSX\", \"PXD\", \"RRC\", \"SLB\", \"FTI\", \"VLO\", \"WMB\"], \"legendgroup\": \"Energy\", \"marker\": {\"color\": \"#FECB52\", \"size\": [1.7029973000000003, 2.3454582999999998, 2.528445, 2.4991322, 1.0269575999999998, 0.0, 3.885853, 0.30214334, 0.0, 2.049254, 0.6528835999999999, 0.63339007, 0.25183629999999996, 4.0031195, 1.4489836999999999, 4.149992500000001, 2.2670596, 2.891845, 2.8268552000000002, 0.5873715, 0.0, 1.4771048999999998, 5.4436197, 2.9285639999999997, 0.1816118, 0.6097561, 2.8673835, 1.7060366999999999, 3.5618877, 4.0], \"sizemode\": \"area\", \"sizeref\": 0.0202579136, \"symbol\": \"circle\"}, \"mode\": \"markers\", \"name\": \"Energy\", \"orientation\": \"v\", \"showlegend\": true, \"type\": \"scatter\", \"x\": [\"APC\", \"ANDV\", \"APA\", \"BHGE\", \"COG\", \"CHK\", \"CVX\", \"XEC\", \"CXO\", \"COP\", \"DVN\", \"EOG\", \"EQT\", \"XOM\", \"HAL\", \"HP\", \"HES\", \"KMI\", \"MPC\", \"NOV\", \"NFX\", \"NBL\", \"OKE\", \"PSX\", \"PXD\", \"RRC\", \"SLB\", \"FTI\", \"VLO\", \"WMB\"], \"xaxis\": \"x\", \"y\": [1.7029973000000003, 2.3454582999999998, 2.528445, 2.4991322, 1.0269575999999998, 0.0, 3.885853, 0.30214334, 0.0, 2.049254, 0.6528835999999999, 0.63339007, 0.25183629999999996, 4.0031195, 1.4489836999999999, 4.149992500000001, 2.2670596, 2.891845, 2.8268552000000002, 0.5873715, 0.0, 1.4771048999999998, 5.4436197, 2.9285639999999997, 0.1816118, 0.6097561, 2.8673835, 1.7060366999999999, 3.5618877, 4.0], \"yaxis\": \"y\"}, {\"hovertemplate\": \"<b>%{hovertext}</b><br><br>Sector=Telecommunication Services<br>Symbol=%{x}<br>Dividend Yield=%{marker.size}<extra></extra>\", \"hovertext\": [\"T\", \"CTL\", \"VZ\"], \"legendgroup\": \"Telecommunication Services\", \"marker\": {\"color\": \"#636efa\", \"size\": [5.4156512999999995, 12.661196, 4.626544], \"sizemode\": \"area\", \"sizeref\": 0.0202579136, \"symbol\": \"circle\"}, \"mode\": \"markers\", \"name\": \"Telecommunication Services\", \"orientation\": \"v\", \"showlegend\": true, \"type\": \"scatter\", \"x\": [\"T\", \"CTL\", \"VZ\"], \"xaxis\": \"x\", \"y\": [5.4156512999999995, 12.661196, 4.626544], \"yaxis\": \"y\"}],                        {\"legend\": {\"itemsizing\": \"constant\", \"title\": {\"text\": \"Sector\"}, \"tracegroupgap\": 0}, \"margin\": {\"t\": 60}, \"template\": {\"data\": {\"bar\": [{\"error_x\": {\"color\": \"#2a3f5f\"}, \"error_y\": {\"color\": \"#2a3f5f\"}, \"marker\": {\"line\": {\"color\": \"#E5ECF6\", \"width\": 0.5}}, \"type\": \"bar\"}], \"barpolar\": [{\"marker\": {\"line\": {\"color\": \"#E5ECF6\", \"width\": 0.5}}, \"type\": \"barpolar\"}], \"carpet\": [{\"aaxis\": {\"endlinecolor\": \"#2a3f5f\", \"gridcolor\": \"white\", \"linecolor\": \"white\", \"minorgridcolor\": \"white\", \"startlinecolor\": \"#2a3f5f\"}, \"baxis\": {\"endlinecolor\": \"#2a3f5f\", \"gridcolor\": \"white\", \"linecolor\": \"white\", \"minorgridcolor\": \"white\", \"startlinecolor\": \"#2a3f5f\"}, \"type\": \"carpet\"}], \"choropleth\": [{\"colorbar\": {\"outlinewidth\": 0, \"ticks\": \"\"}, \"type\": \"choropleth\"}], \"contour\": [{\"colorbar\": {\"outlinewidth\": 0, \"ticks\": \"\"}, \"colorscale\": [[0.0, \"#0d0887\"], [0.1111111111111111, \"#46039f\"], [0.2222222222222222, \"#7201a8\"], [0.3333333333333333, \"#9c179e\"], [0.4444444444444444, \"#bd3786\"], [0.5555555555555556, \"#d8576b\"], [0.6666666666666666, \"#ed7953\"], [0.7777777777777778, \"#fb9f3a\"], [0.8888888888888888, \"#fdca26\"], [1.0, \"#f0f921\"]], \"type\": \"contour\"}], \"contourcarpet\": [{\"colorbar\": {\"outlinewidth\": 0, \"ticks\": \"\"}, \"type\": \"contourcarpet\"}], \"heatmap\": [{\"colorbar\": {\"outlinewidth\": 0, \"ticks\": \"\"}, \"colorscale\": [[0.0, \"#0d0887\"], [0.1111111111111111, \"#46039f\"], [0.2222222222222222, \"#7201a8\"], [0.3333333333333333, \"#9c179e\"], [0.4444444444444444, \"#bd3786\"], [0.5555555555555556, \"#d8576b\"], [0.6666666666666666, \"#ed7953\"], [0.7777777777777778, \"#fb9f3a\"], [0.8888888888888888, \"#fdca26\"], [1.0, \"#f0f921\"]], \"type\": \"heatmap\"}], \"heatmapgl\": [{\"colorbar\": {\"outlinewidth\": 0, \"ticks\": \"\"}, \"colorscale\": [[0.0, \"#0d0887\"], [0.1111111111111111, \"#46039f\"], [0.2222222222222222, \"#7201a8\"], [0.3333333333333333, \"#9c179e\"], [0.4444444444444444, \"#bd3786\"], [0.5555555555555556, \"#d8576b\"], [0.6666666666666666, \"#ed7953\"], [0.7777777777777778, \"#fb9f3a\"], [0.8888888888888888, \"#fdca26\"], [1.0, \"#f0f921\"]], \"type\": \"heatmapgl\"}], \"histogram\": [{\"marker\": {\"colorbar\": {\"outlinewidth\": 0, \"ticks\": \"\"}}, \"type\": \"histogram\"}], \"histogram2d\": [{\"colorbar\": {\"outlinewidth\": 0, \"ticks\": \"\"}, \"colorscale\": [[0.0, \"#0d0887\"], [0.1111111111111111, \"#46039f\"], [0.2222222222222222, \"#7201a8\"], [0.3333333333333333, \"#9c179e\"], [0.4444444444444444, \"#bd3786\"], [0.5555555555555556, \"#d8576b\"], [0.6666666666666666, \"#ed7953\"], [0.7777777777777778, \"#fb9f3a\"], [0.8888888888888888, \"#fdca26\"], [1.0, \"#f0f921\"]], \"type\": \"histogram2d\"}], \"histogram2dcontour\": [{\"colorbar\": {\"outlinewidth\": 0, \"ticks\": \"\"}, \"colorscale\": [[0.0, \"#0d0887\"], [0.1111111111111111, \"#46039f\"], [0.2222222222222222, \"#7201a8\"], [0.3333333333333333, \"#9c179e\"], [0.4444444444444444, \"#bd3786\"], [0.5555555555555556, \"#d8576b\"], [0.6666666666666666, \"#ed7953\"], [0.7777777777777778, \"#fb9f3a\"], [0.8888888888888888, \"#fdca26\"], [1.0, \"#f0f921\"]], \"type\": \"histogram2dcontour\"}], \"mesh3d\": [{\"colorbar\": {\"outlinewidth\": 0, \"ticks\": \"\"}, \"type\": \"mesh3d\"}], \"parcoords\": [{\"line\": {\"colorbar\": {\"outlinewidth\": 0, \"ticks\": \"\"}}, \"type\": \"parcoords\"}], \"pie\": [{\"automargin\": true, \"type\": \"pie\"}], \"scatter\": [{\"marker\": {\"colorbar\": {\"outlinewidth\": 0, \"ticks\": \"\"}}, \"type\": \"scatter\"}], \"scatter3d\": [{\"line\": {\"colorbar\": {\"outlinewidth\": 0, \"ticks\": \"\"}}, \"marker\": {\"colorbar\": {\"outlinewidth\": 0, \"ticks\": \"\"}}, \"type\": \"scatter3d\"}], \"scattercarpet\": [{\"marker\": {\"colorbar\": {\"outlinewidth\": 0, \"ticks\": \"\"}}, \"type\": \"scattercarpet\"}], \"scattergeo\": [{\"marker\": {\"colorbar\": {\"outlinewidth\": 0, \"ticks\": \"\"}}, \"type\": \"scattergeo\"}], \"scattergl\": [{\"marker\": {\"colorbar\": {\"outlinewidth\": 0, \"ticks\": \"\"}}, \"type\": \"scattergl\"}], \"scattermapbox\": [{\"marker\": {\"colorbar\": {\"outlinewidth\": 0, \"ticks\": \"\"}}, \"type\": \"scattermapbox\"}], \"scatterpolar\": [{\"marker\": {\"colorbar\": {\"outlinewidth\": 0, \"ticks\": \"\"}}, \"type\": \"scatterpolar\"}], \"scatterpolargl\": [{\"marker\": {\"colorbar\": {\"outlinewidth\": 0, \"ticks\": \"\"}}, \"type\": \"scatterpolargl\"}], \"scatterternary\": [{\"marker\": {\"colorbar\": {\"outlinewidth\": 0, \"ticks\": \"\"}}, \"type\": \"scatterternary\"}], \"surface\": [{\"colorbar\": {\"outlinewidth\": 0, \"ticks\": \"\"}, \"colorscale\": [[0.0, \"#0d0887\"], [0.1111111111111111, \"#46039f\"], [0.2222222222222222, \"#7201a8\"], [0.3333333333333333, \"#9c179e\"], [0.4444444444444444, \"#bd3786\"], [0.5555555555555556, \"#d8576b\"], [0.6666666666666666, \"#ed7953\"], [0.7777777777777778, \"#fb9f3a\"], [0.8888888888888888, \"#fdca26\"], [1.0, \"#f0f921\"]], \"type\": \"surface\"}], \"table\": [{\"cells\": {\"fill\": {\"color\": \"#EBF0F8\"}, \"line\": {\"color\": \"white\"}}, \"header\": {\"fill\": {\"color\": \"#C8D4E3\"}, \"line\": {\"color\": \"white\"}}, \"type\": \"table\"}]}, \"layout\": {\"annotationdefaults\": {\"arrowcolor\": \"#2a3f5f\", \"arrowhead\": 0, \"arrowwidth\": 1}, \"autotypenumbers\": \"strict\", \"coloraxis\": {\"colorbar\": {\"outlinewidth\": 0, \"ticks\": \"\"}}, \"colorscale\": {\"diverging\": [[0, \"#8e0152\"], [0.1, \"#c51b7d\"], [0.2, \"#de77ae\"], [0.3, \"#f1b6da\"], [0.4, \"#fde0ef\"], [0.5, \"#f7f7f7\"], [0.6, \"#e6f5d0\"], [0.7, \"#b8e186\"], [0.8, \"#7fbc41\"], [0.9, \"#4d9221\"], [1, \"#276419\"]], \"sequential\": [[0.0, \"#0d0887\"], [0.1111111111111111, \"#46039f\"], [0.2222222222222222, \"#7201a8\"], [0.3333333333333333, \"#9c179e\"], [0.4444444444444444, \"#bd3786\"], [0.5555555555555556, \"#d8576b\"], [0.6666666666666666, \"#ed7953\"], [0.7777777777777778, \"#fb9f3a\"], [0.8888888888888888, \"#fdca26\"], [1.0, \"#f0f921\"]], \"sequentialminus\": [[0.0, \"#0d0887\"], [0.1111111111111111, \"#46039f\"], [0.2222222222222222, \"#7201a8\"], [0.3333333333333333, \"#9c179e\"], [0.4444444444444444, \"#bd3786\"], [0.5555555555555556, \"#d8576b\"], [0.6666666666666666, \"#ed7953\"], [0.7777777777777778, \"#fb9f3a\"], [0.8888888888888888, \"#fdca26\"], [1.0, \"#f0f921\"]]}, \"colorway\": [\"#636efa\", \"#EF553B\", \"#00cc96\", \"#ab63fa\", \"#FFA15A\", \"#19d3f3\", \"#FF6692\", \"#B6E880\", \"#FF97FF\", \"#FECB52\"], \"font\": {\"color\": \"#2a3f5f\"}, \"geo\": {\"bgcolor\": \"white\", \"lakecolor\": \"white\", \"landcolor\": \"#E5ECF6\", \"showlakes\": true, \"showland\": true, \"subunitcolor\": \"white\"}, \"hoverlabel\": {\"align\": \"left\"}, \"hovermode\": \"closest\", \"mapbox\": {\"style\": \"light\"}, \"paper_bgcolor\": \"white\", \"plot_bgcolor\": \"#E5ECF6\", \"polar\": {\"angularaxis\": {\"gridcolor\": \"white\", \"linecolor\": \"white\", \"ticks\": \"\"}, \"bgcolor\": \"#E5ECF6\", \"radialaxis\": {\"gridcolor\": \"white\", \"linecolor\": \"white\", \"ticks\": \"\"}}, \"scene\": {\"xaxis\": {\"backgroundcolor\": \"#E5ECF6\", \"gridcolor\": \"white\", \"gridwidth\": 2, \"linecolor\": \"white\", \"showbackground\": true, \"ticks\": \"\", \"zerolinecolor\": \"white\"}, \"yaxis\": {\"backgroundcolor\": \"#E5ECF6\", \"gridcolor\": \"white\", \"gridwidth\": 2, \"linecolor\": \"white\", \"showbackground\": true, \"ticks\": \"\", \"zerolinecolor\": \"white\"}, \"zaxis\": {\"backgroundcolor\": \"#E5ECF6\", \"gridcolor\": \"white\", \"gridwidth\": 2, \"linecolor\": \"white\", \"showbackground\": true, \"ticks\": \"\", \"zerolinecolor\": \"white\"}}, \"shapedefaults\": {\"line\": {\"color\": \"#2a3f5f\"}}, \"ternary\": {\"aaxis\": {\"gridcolor\": \"white\", \"linecolor\": \"white\", \"ticks\": \"\"}, \"baxis\": {\"gridcolor\": \"white\", \"linecolor\": \"white\", \"ticks\": \"\"}, \"bgcolor\": \"#E5ECF6\", \"caxis\": {\"gridcolor\": \"white\", \"linecolor\": \"white\", \"ticks\": \"\"}}, \"title\": {\"x\": 0.05}, \"xaxis\": {\"automargin\": true, \"gridcolor\": \"white\", \"linecolor\": \"white\", \"ticks\": \"\", \"title\": {\"standoff\": 15}, \"zerolinecolor\": \"white\", \"zerolinewidth\": 2}, \"yaxis\": {\"automargin\": true, \"gridcolor\": \"white\", \"linecolor\": \"white\", \"ticks\": \"\", \"title\": {\"standoff\": 15}, \"zerolinecolor\": \"white\", \"zerolinewidth\": 2}}}, \"xaxis\": {\"anchor\": \"y\", \"domain\": [0.0, 1.0], \"title\": {\"text\": \"Symbol\"}}, \"yaxis\": {\"anchor\": \"x\", \"domain\": [0.0, 1.0], \"title\": {\"text\": \"Dividend Yield\"}}},                        {\"responsive\": true}                    ).then(function(){\n",
       "                            \n",
       "var gd = document.getElementById('4994f2e0-7c62-42e5-bc34-62df90a41ad7');\n",
       "var x = new MutationObserver(function (mutations, observer) {{\n",
       "        var display = window.getComputedStyle(gd).display;\n",
       "        if (!display || display === 'none') {{\n",
       "            console.log([gd, 'removed!']);\n",
       "            Plotly.purge(gd);\n",
       "            observer.disconnect();\n",
       "        }}\n",
       "}});\n",
       "\n",
       "// Listen for the removal of the full notebook cells\n",
       "var notebookContainer = gd.closest('#notebook-container');\n",
       "if (notebookContainer) {{\n",
       "    x.observe(notebookContainer, {childList: true});\n",
       "}}\n",
       "\n",
       "// Listen for the clearing of the current output cell\n",
       "var outputEl = gd.closest('.output');\n",
       "if (outputEl) {{\n",
       "    x.observe(outputEl, {childList: true});\n",
       "}}\n",
       "\n",
       "                        })                };                });            </script>        </div>"
      ]
     },
     "metadata": {},
     "output_type": "display_data"
    }
   ],
   "source": [
    "fig5 = px.scatter(data, x=\"Symbol\", y=\"Dividend Yield\",\n",
    "         size=\"Dividend Yield\", color=\"Sector\",\n",
    "                 hover_name=\"Symbol\", size_max=25)\n",
    "fig5.show()"
   ]
  },
  {
   "cell_type": "code",
   "execution_count": 28,
   "metadata": {},
   "outputs": [],
   "source": [
    "#data.iplot(x='Symbol',y='Dividend Yield')"
   ]
  },
  {
   "cell_type": "markdown",
   "metadata": {},
   "source": [
    "#### 10. Sector wise Dividend yield."
   ]
  },
  {
   "cell_type": "code",
   "execution_count": 321,
   "metadata": {},
   "outputs": [
    {
     "data": {
      "text/html": [
       "<style  type=\"text/css\" >\n",
       "#T_5a783c19_c2f8_11eb_9a67_28cdc4d31b92row0_col1{\n",
       "            width:  10em;\n",
       "             height:  80%;\n",
       "            background:  linear-gradient(90deg,#d65f5f 100.0%, transparent 100.0%);\n",
       "        }#T_5a783c19_c2f8_11eb_9a67_28cdc4d31b92row1_col1{\n",
       "            width:  10em;\n",
       "             height:  80%;\n",
       "            background:  linear-gradient(90deg,#d65f5f 44.8%, transparent 44.8%);\n",
       "        }#T_5a783c19_c2f8_11eb_9a67_28cdc4d31b92row2_col1{\n",
       "            width:  10em;\n",
       "             height:  80%;\n",
       "            background:  linear-gradient(90deg,#d65f5f 42.8%, transparent 42.8%);\n",
       "        }#T_5a783c19_c2f8_11eb_9a67_28cdc4d31b92row3_col1{\n",
       "            width:  10em;\n",
       "             height:  80%;\n",
       "            background:  linear-gradient(90deg,#d65f5f 22.7%, transparent 22.7%);\n",
       "        }#T_5a783c19_c2f8_11eb_9a67_28cdc4d31b92row4_col1{\n",
       "            width:  10em;\n",
       "             height:  80%;\n",
       "            background:  linear-gradient(90deg,#d65f5f 16.6%, transparent 16.6%);\n",
       "        }#T_5a783c19_c2f8_11eb_9a67_28cdc4d31b92row5_col1{\n",
       "            width:  10em;\n",
       "             height:  80%;\n",
       "            background:  linear-gradient(90deg,#d65f5f 15.8%, transparent 15.8%);\n",
       "        }#T_5a783c19_c2f8_11eb_9a67_28cdc4d31b92row6_col1{\n",
       "            width:  10em;\n",
       "             height:  80%;\n",
       "            background:  linear-gradient(90deg,#d65f5f 12.4%, transparent 12.4%);\n",
       "        }#T_5a783c19_c2f8_11eb_9a67_28cdc4d31b92row7_col1{\n",
       "            width:  10em;\n",
       "             height:  80%;\n",
       "            background:  linear-gradient(90deg,#d65f5f 10.0%, transparent 10.0%);\n",
       "        }#T_5a783c19_c2f8_11eb_9a67_28cdc4d31b92row8_col1{\n",
       "            width:  10em;\n",
       "             height:  80%;\n",
       "            background:  linear-gradient(90deg,#d65f5f 8.9%, transparent 8.9%);\n",
       "        }#T_5a783c19_c2f8_11eb_9a67_28cdc4d31b92row9_col1{\n",
       "            width:  10em;\n",
       "             height:  80%;\n",
       "            background:  linear-gradient(90deg,#d65f5f 4.8%, transparent 4.8%);\n",
       "        }#T_5a783c19_c2f8_11eb_9a67_28cdc4d31b92row10_col1{\n",
       "            width:  10em;\n",
       "             height:  80%;\n",
       "        }</style><table id=\"T_5a783c19_c2f8_11eb_9a67_28cdc4d31b92\" ><thead>    <tr>        <th class=\"blank level0\" ></th>        <th class=\"col_heading level0 col0\" >Sector</th>        <th class=\"col_heading level0 col1\" >Dividend Yield</th>    </tr></thead><tbody>\n",
       "                <tr>\n",
       "                        <th id=\"T_5a783c19_c2f8_11eb_9a67_28cdc4d31b92level0_row0\" class=\"row_heading level0 row0\" >0</th>\n",
       "                        <td id=\"T_5a783c19_c2f8_11eb_9a67_28cdc4d31b92row0_col0\" class=\"data row0 col0\" >Telecommunication Services</td>\n",
       "                        <td id=\"T_5a783c19_c2f8_11eb_9a67_28cdc4d31b92row0_col1\" class=\"data row0 col1\" >7.567797</td>\n",
       "            </tr>\n",
       "            <tr>\n",
       "                        <th id=\"T_5a783c19_c2f8_11eb_9a67_28cdc4d31b92level0_row1\" class=\"row_heading level0 row1\" >1</th>\n",
       "                        <td id=\"T_5a783c19_c2f8_11eb_9a67_28cdc4d31b92row1_col0\" class=\"data row1 col0\" >Real Estate</td>\n",
       "                        <td id=\"T_5a783c19_c2f8_11eb_9a67_28cdc4d31b92row1_col1\" class=\"data row1 col1\" >3.894758</td>\n",
       "            </tr>\n",
       "            <tr>\n",
       "                        <th id=\"T_5a783c19_c2f8_11eb_9a67_28cdc4d31b92level0_row2\" class=\"row_heading level0 row2\" >2</th>\n",
       "                        <td id=\"T_5a783c19_c2f8_11eb_9a67_28cdc4d31b92row2_col0\" class=\"data row2 col0\" >Utilities</td>\n",
       "                        <td id=\"T_5a783c19_c2f8_11eb_9a67_28cdc4d31b92row2_col1\" class=\"data row2 col1\" >3.759224</td>\n",
       "            </tr>\n",
       "            <tr>\n",
       "                        <th id=\"T_5a783c19_c2f8_11eb_9a67_28cdc4d31b92level0_row3\" class=\"row_heading level0 row3\" >3</th>\n",
       "                        <td id=\"T_5a783c19_c2f8_11eb_9a67_28cdc4d31b92row3_col0\" class=\"data row3 col0\" >Consumer Staples</td>\n",
       "                        <td id=\"T_5a783c19_c2f8_11eb_9a67_28cdc4d31b92row3_col1\" class=\"data row3 col1\" >2.421160</td>\n",
       "            </tr>\n",
       "            <tr>\n",
       "                        <th id=\"T_5a783c19_c2f8_11eb_9a67_28cdc4d31b92level0_row4\" class=\"row_heading level0 row4\" >4</th>\n",
       "                        <td id=\"T_5a783c19_c2f8_11eb_9a67_28cdc4d31b92row4_col0\" class=\"data row4 col0\" >Financials</td>\n",
       "                        <td id=\"T_5a783c19_c2f8_11eb_9a67_28cdc4d31b92row4_col1\" class=\"data row4 col1\" >2.017241</td>\n",
       "            </tr>\n",
       "            <tr>\n",
       "                        <th id=\"T_5a783c19_c2f8_11eb_9a67_28cdc4d31b92level0_row5\" class=\"row_heading level0 row5\" >5</th>\n",
       "                        <td id=\"T_5a783c19_c2f8_11eb_9a67_28cdc4d31b92row5_col0\" class=\"data row5 col0\" >Energy</td>\n",
       "                        <td id=\"T_5a783c19_c2f8_11eb_9a67_28cdc4d31b92row5_col1\" class=\"data row5 col1\" >1.960985</td>\n",
       "            </tr>\n",
       "            <tr>\n",
       "                        <th id=\"T_5a783c19_c2f8_11eb_9a67_28cdc4d31b92level0_row6\" class=\"row_heading level0 row6\" >6</th>\n",
       "                        <td id=\"T_5a783c19_c2f8_11eb_9a67_28cdc4d31b92row6_col0\" class=\"data row6 col0\" >Materials</td>\n",
       "                        <td id=\"T_5a783c19_c2f8_11eb_9a67_28cdc4d31b92row6_col1\" class=\"data row6 col1\" >1.737976</td>\n",
       "            </tr>\n",
       "            <tr>\n",
       "                        <th id=\"T_5a783c19_c2f8_11eb_9a67_28cdc4d31b92level0_row7\" class=\"row_heading level0 row7\" >7</th>\n",
       "                        <td id=\"T_5a783c19_c2f8_11eb_9a67_28cdc4d31b92row7_col0\" class=\"data row7 col0\" >Consumer Discretionary</td>\n",
       "                        <td id=\"T_5a783c19_c2f8_11eb_9a67_28cdc4d31b92row7_col1\" class=\"data row7 col1\" >1.579266</td>\n",
       "            </tr>\n",
       "            <tr>\n",
       "                        <th id=\"T_5a783c19_c2f8_11eb_9a67_28cdc4d31b92level0_row8\" class=\"row_heading level0 row8\" >8</th>\n",
       "                        <td id=\"T_5a783c19_c2f8_11eb_9a67_28cdc4d31b92row8_col0\" class=\"data row8 col0\" >Industrials</td>\n",
       "                        <td id=\"T_5a783c19_c2f8_11eb_9a67_28cdc4d31b92row8_col1\" class=\"data row8 col1\" >1.501569</td>\n",
       "            </tr>\n",
       "            <tr>\n",
       "                        <th id=\"T_5a783c19_c2f8_11eb_9a67_28cdc4d31b92level0_row9\" class=\"row_heading level0 row9\" >9</th>\n",
       "                        <td id=\"T_5a783c19_c2f8_11eb_9a67_28cdc4d31b92row9_col0\" class=\"data row9 col0\" >Information Technology</td>\n",
       "                        <td id=\"T_5a783c19_c2f8_11eb_9a67_28cdc4d31b92row9_col1\" class=\"data row9 col1\" >1.228494</td>\n",
       "            </tr>\n",
       "            <tr>\n",
       "                        <th id=\"T_5a783c19_c2f8_11eb_9a67_28cdc4d31b92level0_row10\" class=\"row_heading level0 row10\" >10</th>\n",
       "                        <td id=\"T_5a783c19_c2f8_11eb_9a67_28cdc4d31b92row10_col0\" class=\"data row10 col0\" >Health Care</td>\n",
       "                        <td id=\"T_5a783c19_c2f8_11eb_9a67_28cdc4d31b92row10_col1\" class=\"data row10 col1\" >0.911827</td>\n",
       "            </tr>\n",
       "    </tbody></table>"
      ],
      "text/plain": [
       "<pandas.io.formats.style.Styler at 0x24b73843070>"
      ]
     },
     "execution_count": 321,
     "metadata": {},
     "output_type": "execute_result"
    }
   ],
   "source": [
    "D_y=pd.DataFrame(data.groupby('Sector')['Dividend Yield'].mean()).sort_values(by='Dividend Yield',ascending=False)\n",
    "D_y.reset_index(inplace=True)\n",
    "D_y.style.bar()"
   ]
  },
  {
   "cell_type": "code",
   "execution_count": 322,
   "metadata": {},
   "outputs": [
    {
     "data": {
      "application/vnd.plotly.v1+json": {
       "config": {
        "plotlyServerURL": "https://plot.ly"
       },
       "data": [
        {
         "alignmentgroup": "True",
         "hovertemplate": "Sector=%{x}<br>Dividend Yield=%{marker.color}<extra></extra>",
         "legendgroup": "",
         "marker": {
          "color": [
           7.5677971,
           3.894758090909091,
           3.759224342857143,
           2.4211602575757576,
           2.0172406950000004,
           1.960984737,
           1.737975948,
           1.5792663746951228,
           1.50156921765625,
           1.2284936224714285,
           0.9118273960338983
          ],
          "coloraxis": "coloraxis"
         },
         "name": "",
         "offsetgroup": "",
         "orientation": "v",
         "showlegend": false,
         "textposition": "auto",
         "type": "bar",
         "x": [
          "Telecommunication Services",
          "Real Estate",
          "Utilities",
          "Consumer Staples",
          "Financials",
          "Energy",
          "Materials",
          "Consumer Discretionary",
          "Industrials",
          "Information Technology",
          "Health Care"
         ],
         "xaxis": "x",
         "y": [
          7.5677971,
          3.894758090909091,
          3.759224342857143,
          2.4211602575757576,
          2.0172406950000004,
          1.960984737,
          1.737975948,
          1.5792663746951228,
          1.50156921765625,
          1.2284936224714285,
          0.9118273960338983
         ],
         "yaxis": "y"
        }
       ],
       "layout": {
        "barmode": "relative",
        "coloraxis": {
         "colorbar": {
          "title": {
           "text": "Dividend Yield"
          }
         },
         "colorscale": [
          [
           0,
           "#0d0887"
          ],
          [
           0.1111111111111111,
           "#46039f"
          ],
          [
           0.2222222222222222,
           "#7201a8"
          ],
          [
           0.3333333333333333,
           "#9c179e"
          ],
          [
           0.4444444444444444,
           "#bd3786"
          ],
          [
           0.5555555555555556,
           "#d8576b"
          ],
          [
           0.6666666666666666,
           "#ed7953"
          ],
          [
           0.7777777777777778,
           "#fb9f3a"
          ],
          [
           0.8888888888888888,
           "#fdca26"
          ],
          [
           1,
           "#f0f921"
          ]
         ]
        },
        "legend": {
         "tracegroupgap": 0
        },
        "template": {
         "data": {
          "bar": [
           {
            "error_x": {
             "color": "#2a3f5f"
            },
            "error_y": {
             "color": "#2a3f5f"
            },
            "marker": {
             "line": {
              "color": "#E5ECF6",
              "width": 0.5
             }
            },
            "type": "bar"
           }
          ],
          "barpolar": [
           {
            "marker": {
             "line": {
              "color": "#E5ECF6",
              "width": 0.5
             }
            },
            "type": "barpolar"
           }
          ],
          "carpet": [
           {
            "aaxis": {
             "endlinecolor": "#2a3f5f",
             "gridcolor": "white",
             "linecolor": "white",
             "minorgridcolor": "white",
             "startlinecolor": "#2a3f5f"
            },
            "baxis": {
             "endlinecolor": "#2a3f5f",
             "gridcolor": "white",
             "linecolor": "white",
             "minorgridcolor": "white",
             "startlinecolor": "#2a3f5f"
            },
            "type": "carpet"
           }
          ],
          "choropleth": [
           {
            "colorbar": {
             "outlinewidth": 0,
             "ticks": ""
            },
            "type": "choropleth"
           }
          ],
          "contour": [
           {
            "colorbar": {
             "outlinewidth": 0,
             "ticks": ""
            },
            "colorscale": [
             [
              0,
              "#0d0887"
             ],
             [
              0.1111111111111111,
              "#46039f"
             ],
             [
              0.2222222222222222,
              "#7201a8"
             ],
             [
              0.3333333333333333,
              "#9c179e"
             ],
             [
              0.4444444444444444,
              "#bd3786"
             ],
             [
              0.5555555555555556,
              "#d8576b"
             ],
             [
              0.6666666666666666,
              "#ed7953"
             ],
             [
              0.7777777777777778,
              "#fb9f3a"
             ],
             [
              0.8888888888888888,
              "#fdca26"
             ],
             [
              1,
              "#f0f921"
             ]
            ],
            "type": "contour"
           }
          ],
          "contourcarpet": [
           {
            "colorbar": {
             "outlinewidth": 0,
             "ticks": ""
            },
            "type": "contourcarpet"
           }
          ],
          "heatmap": [
           {
            "colorbar": {
             "outlinewidth": 0,
             "ticks": ""
            },
            "colorscale": [
             [
              0,
              "#0d0887"
             ],
             [
              0.1111111111111111,
              "#46039f"
             ],
             [
              0.2222222222222222,
              "#7201a8"
             ],
             [
              0.3333333333333333,
              "#9c179e"
             ],
             [
              0.4444444444444444,
              "#bd3786"
             ],
             [
              0.5555555555555556,
              "#d8576b"
             ],
             [
              0.6666666666666666,
              "#ed7953"
             ],
             [
              0.7777777777777778,
              "#fb9f3a"
             ],
             [
              0.8888888888888888,
              "#fdca26"
             ],
             [
              1,
              "#f0f921"
             ]
            ],
            "type": "heatmap"
           }
          ],
          "heatmapgl": [
           {
            "colorbar": {
             "outlinewidth": 0,
             "ticks": ""
            },
            "colorscale": [
             [
              0,
              "#0d0887"
             ],
             [
              0.1111111111111111,
              "#46039f"
             ],
             [
              0.2222222222222222,
              "#7201a8"
             ],
             [
              0.3333333333333333,
              "#9c179e"
             ],
             [
              0.4444444444444444,
              "#bd3786"
             ],
             [
              0.5555555555555556,
              "#d8576b"
             ],
             [
              0.6666666666666666,
              "#ed7953"
             ],
             [
              0.7777777777777778,
              "#fb9f3a"
             ],
             [
              0.8888888888888888,
              "#fdca26"
             ],
             [
              1,
              "#f0f921"
             ]
            ],
            "type": "heatmapgl"
           }
          ],
          "histogram": [
           {
            "marker": {
             "colorbar": {
              "outlinewidth": 0,
              "ticks": ""
             }
            },
            "type": "histogram"
           }
          ],
          "histogram2d": [
           {
            "colorbar": {
             "outlinewidth": 0,
             "ticks": ""
            },
            "colorscale": [
             [
              0,
              "#0d0887"
             ],
             [
              0.1111111111111111,
              "#46039f"
             ],
             [
              0.2222222222222222,
              "#7201a8"
             ],
             [
              0.3333333333333333,
              "#9c179e"
             ],
             [
              0.4444444444444444,
              "#bd3786"
             ],
             [
              0.5555555555555556,
              "#d8576b"
             ],
             [
              0.6666666666666666,
              "#ed7953"
             ],
             [
              0.7777777777777778,
              "#fb9f3a"
             ],
             [
              0.8888888888888888,
              "#fdca26"
             ],
             [
              1,
              "#f0f921"
             ]
            ],
            "type": "histogram2d"
           }
          ],
          "histogram2dcontour": [
           {
            "colorbar": {
             "outlinewidth": 0,
             "ticks": ""
            },
            "colorscale": [
             [
              0,
              "#0d0887"
             ],
             [
              0.1111111111111111,
              "#46039f"
             ],
             [
              0.2222222222222222,
              "#7201a8"
             ],
             [
              0.3333333333333333,
              "#9c179e"
             ],
             [
              0.4444444444444444,
              "#bd3786"
             ],
             [
              0.5555555555555556,
              "#d8576b"
             ],
             [
              0.6666666666666666,
              "#ed7953"
             ],
             [
              0.7777777777777778,
              "#fb9f3a"
             ],
             [
              0.8888888888888888,
              "#fdca26"
             ],
             [
              1,
              "#f0f921"
             ]
            ],
            "type": "histogram2dcontour"
           }
          ],
          "mesh3d": [
           {
            "colorbar": {
             "outlinewidth": 0,
             "ticks": ""
            },
            "type": "mesh3d"
           }
          ],
          "parcoords": [
           {
            "line": {
             "colorbar": {
              "outlinewidth": 0,
              "ticks": ""
             }
            },
            "type": "parcoords"
           }
          ],
          "pie": [
           {
            "automargin": true,
            "type": "pie"
           }
          ],
          "scatter": [
           {
            "marker": {
             "colorbar": {
              "outlinewidth": 0,
              "ticks": ""
             }
            },
            "type": "scatter"
           }
          ],
          "scatter3d": [
           {
            "line": {
             "colorbar": {
              "outlinewidth": 0,
              "ticks": ""
             }
            },
            "marker": {
             "colorbar": {
              "outlinewidth": 0,
              "ticks": ""
             }
            },
            "type": "scatter3d"
           }
          ],
          "scattercarpet": [
           {
            "marker": {
             "colorbar": {
              "outlinewidth": 0,
              "ticks": ""
             }
            },
            "type": "scattercarpet"
           }
          ],
          "scattergeo": [
           {
            "marker": {
             "colorbar": {
              "outlinewidth": 0,
              "ticks": ""
             }
            },
            "type": "scattergeo"
           }
          ],
          "scattergl": [
           {
            "marker": {
             "colorbar": {
              "outlinewidth": 0,
              "ticks": ""
             }
            },
            "type": "scattergl"
           }
          ],
          "scattermapbox": [
           {
            "marker": {
             "colorbar": {
              "outlinewidth": 0,
              "ticks": ""
             }
            },
            "type": "scattermapbox"
           }
          ],
          "scatterpolar": [
           {
            "marker": {
             "colorbar": {
              "outlinewidth": 0,
              "ticks": ""
             }
            },
            "type": "scatterpolar"
           }
          ],
          "scatterpolargl": [
           {
            "marker": {
             "colorbar": {
              "outlinewidth": 0,
              "ticks": ""
             }
            },
            "type": "scatterpolargl"
           }
          ],
          "scatterternary": [
           {
            "marker": {
             "colorbar": {
              "outlinewidth": 0,
              "ticks": ""
             }
            },
            "type": "scatterternary"
           }
          ],
          "surface": [
           {
            "colorbar": {
             "outlinewidth": 0,
             "ticks": ""
            },
            "colorscale": [
             [
              0,
              "#0d0887"
             ],
             [
              0.1111111111111111,
              "#46039f"
             ],
             [
              0.2222222222222222,
              "#7201a8"
             ],
             [
              0.3333333333333333,
              "#9c179e"
             ],
             [
              0.4444444444444444,
              "#bd3786"
             ],
             [
              0.5555555555555556,
              "#d8576b"
             ],
             [
              0.6666666666666666,
              "#ed7953"
             ],
             [
              0.7777777777777778,
              "#fb9f3a"
             ],
             [
              0.8888888888888888,
              "#fdca26"
             ],
             [
              1,
              "#f0f921"
             ]
            ],
            "type": "surface"
           }
          ],
          "table": [
           {
            "cells": {
             "fill": {
              "color": "#EBF0F8"
             },
             "line": {
              "color": "white"
             }
            },
            "header": {
             "fill": {
              "color": "#C8D4E3"
             },
             "line": {
              "color": "white"
             }
            },
            "type": "table"
           }
          ]
         },
         "layout": {
          "annotationdefaults": {
           "arrowcolor": "#2a3f5f",
           "arrowhead": 0,
           "arrowwidth": 1
          },
          "autotypenumbers": "strict",
          "coloraxis": {
           "colorbar": {
            "outlinewidth": 0,
            "ticks": ""
           }
          },
          "colorscale": {
           "diverging": [
            [
             0,
             "#8e0152"
            ],
            [
             0.1,
             "#c51b7d"
            ],
            [
             0.2,
             "#de77ae"
            ],
            [
             0.3,
             "#f1b6da"
            ],
            [
             0.4,
             "#fde0ef"
            ],
            [
             0.5,
             "#f7f7f7"
            ],
            [
             0.6,
             "#e6f5d0"
            ],
            [
             0.7,
             "#b8e186"
            ],
            [
             0.8,
             "#7fbc41"
            ],
            [
             0.9,
             "#4d9221"
            ],
            [
             1,
             "#276419"
            ]
           ],
           "sequential": [
            [
             0,
             "#0d0887"
            ],
            [
             0.1111111111111111,
             "#46039f"
            ],
            [
             0.2222222222222222,
             "#7201a8"
            ],
            [
             0.3333333333333333,
             "#9c179e"
            ],
            [
             0.4444444444444444,
             "#bd3786"
            ],
            [
             0.5555555555555556,
             "#d8576b"
            ],
            [
             0.6666666666666666,
             "#ed7953"
            ],
            [
             0.7777777777777778,
             "#fb9f3a"
            ],
            [
             0.8888888888888888,
             "#fdca26"
            ],
            [
             1,
             "#f0f921"
            ]
           ],
           "sequentialminus": [
            [
             0,
             "#0d0887"
            ],
            [
             0.1111111111111111,
             "#46039f"
            ],
            [
             0.2222222222222222,
             "#7201a8"
            ],
            [
             0.3333333333333333,
             "#9c179e"
            ],
            [
             0.4444444444444444,
             "#bd3786"
            ],
            [
             0.5555555555555556,
             "#d8576b"
            ],
            [
             0.6666666666666666,
             "#ed7953"
            ],
            [
             0.7777777777777778,
             "#fb9f3a"
            ],
            [
             0.8888888888888888,
             "#fdca26"
            ],
            [
             1,
             "#f0f921"
            ]
           ]
          },
          "colorway": [
           "#636efa",
           "#EF553B",
           "#00cc96",
           "#ab63fa",
           "#FFA15A",
           "#19d3f3",
           "#FF6692",
           "#B6E880",
           "#FF97FF",
           "#FECB52"
          ],
          "font": {
           "color": "#2a3f5f"
          },
          "geo": {
           "bgcolor": "white",
           "lakecolor": "white",
           "landcolor": "#E5ECF6",
           "showlakes": true,
           "showland": true,
           "subunitcolor": "white"
          },
          "hoverlabel": {
           "align": "left"
          },
          "hovermode": "closest",
          "mapbox": {
           "style": "light"
          },
          "paper_bgcolor": "white",
          "plot_bgcolor": "#E5ECF6",
          "polar": {
           "angularaxis": {
            "gridcolor": "white",
            "linecolor": "white",
            "ticks": ""
           },
           "bgcolor": "#E5ECF6",
           "radialaxis": {
            "gridcolor": "white",
            "linecolor": "white",
            "ticks": ""
           }
          },
          "scene": {
           "xaxis": {
            "backgroundcolor": "#E5ECF6",
            "gridcolor": "white",
            "gridwidth": 2,
            "linecolor": "white",
            "showbackground": true,
            "ticks": "",
            "zerolinecolor": "white"
           },
           "yaxis": {
            "backgroundcolor": "#E5ECF6",
            "gridcolor": "white",
            "gridwidth": 2,
            "linecolor": "white",
            "showbackground": true,
            "ticks": "",
            "zerolinecolor": "white"
           },
           "zaxis": {
            "backgroundcolor": "#E5ECF6",
            "gridcolor": "white",
            "gridwidth": 2,
            "linecolor": "white",
            "showbackground": true,
            "ticks": "",
            "zerolinecolor": "white"
           }
          },
          "shapedefaults": {
           "line": {
            "color": "#2a3f5f"
           }
          },
          "ternary": {
           "aaxis": {
            "gridcolor": "white",
            "linecolor": "white",
            "ticks": ""
           },
           "baxis": {
            "gridcolor": "white",
            "linecolor": "white",
            "ticks": ""
           },
           "bgcolor": "#E5ECF6",
           "caxis": {
            "gridcolor": "white",
            "linecolor": "white",
            "ticks": ""
           }
          },
          "title": {
           "x": 0.05
          },
          "xaxis": {
           "automargin": true,
           "gridcolor": "white",
           "linecolor": "white",
           "ticks": "",
           "title": {
            "standoff": 15
           },
           "zerolinecolor": "white",
           "zerolinewidth": 2
          },
          "yaxis": {
           "automargin": true,
           "gridcolor": "white",
           "linecolor": "white",
           "ticks": "",
           "title": {
            "standoff": 15
           },
           "zerolinecolor": "white",
           "zerolinewidth": 2
          }
         }
        },
        "title": {
         "text": "Sector wise Dividend yield"
        },
        "xaxis": {
         "anchor": "y",
         "domain": [
          0,
          1
         ],
         "title": {
          "text": "Sector"
         }
        },
        "yaxis": {
         "anchor": "x",
         "domain": [
          0,
          1
         ],
         "title": {
          "text": "Dividend Yield"
         }
        }
       }
      },
      "text/html": [
       "<div>                            <div id=\"3288852c-d403-4f9b-9452-54ef202654dc\" class=\"plotly-graph-div\" style=\"height:525px; width:100%;\"></div>            <script type=\"text/javascript\">                require([\"plotly\"], function(Plotly) {                    window.PLOTLYENV=window.PLOTLYENV || {};                                    if (document.getElementById(\"3288852c-d403-4f9b-9452-54ef202654dc\")) {                    Plotly.newPlot(                        \"3288852c-d403-4f9b-9452-54ef202654dc\",                        [{\"alignmentgroup\": \"True\", \"hovertemplate\": \"Sector=%{x}<br>Dividend Yield=%{marker.color}<extra></extra>\", \"legendgroup\": \"\", \"marker\": {\"color\": [7.5677971, 3.894758090909091, 3.759224342857143, 2.4211602575757576, 2.0172406950000004, 1.960984737, 1.737975948, 1.5792663746951228, 1.50156921765625, 1.2284936224714285, 0.9118273960338983], \"coloraxis\": \"coloraxis\"}, \"name\": \"\", \"offsetgroup\": \"\", \"orientation\": \"v\", \"showlegend\": false, \"textposition\": \"auto\", \"type\": \"bar\", \"x\": [\"Telecommunication Services\", \"Real Estate\", \"Utilities\", \"Consumer Staples\", \"Financials\", \"Energy\", \"Materials\", \"Consumer Discretionary\", \"Industrials\", \"Information Technology\", \"Health Care\"], \"xaxis\": \"x\", \"y\": [7.5677971, 3.894758090909091, 3.759224342857143, 2.4211602575757576, 2.0172406950000004, 1.960984737, 1.737975948, 1.5792663746951228, 1.50156921765625, 1.2284936224714285, 0.9118273960338983], \"yaxis\": \"y\"}],                        {\"barmode\": \"relative\", \"coloraxis\": {\"colorbar\": {\"title\": {\"text\": \"Dividend Yield\"}}, \"colorscale\": [[0.0, \"#0d0887\"], [0.1111111111111111, \"#46039f\"], [0.2222222222222222, \"#7201a8\"], [0.3333333333333333, \"#9c179e\"], [0.4444444444444444, \"#bd3786\"], [0.5555555555555556, \"#d8576b\"], [0.6666666666666666, \"#ed7953\"], [0.7777777777777778, \"#fb9f3a\"], [0.8888888888888888, \"#fdca26\"], [1.0, \"#f0f921\"]]}, \"legend\": {\"tracegroupgap\": 0}, \"template\": {\"data\": {\"bar\": [{\"error_x\": {\"color\": \"#2a3f5f\"}, \"error_y\": {\"color\": \"#2a3f5f\"}, \"marker\": {\"line\": {\"color\": \"#E5ECF6\", \"width\": 0.5}}, \"type\": \"bar\"}], \"barpolar\": [{\"marker\": {\"line\": {\"color\": \"#E5ECF6\", \"width\": 0.5}}, \"type\": \"barpolar\"}], \"carpet\": [{\"aaxis\": {\"endlinecolor\": \"#2a3f5f\", \"gridcolor\": \"white\", \"linecolor\": \"white\", \"minorgridcolor\": \"white\", \"startlinecolor\": \"#2a3f5f\"}, \"baxis\": {\"endlinecolor\": \"#2a3f5f\", \"gridcolor\": \"white\", \"linecolor\": \"white\", \"minorgridcolor\": \"white\", \"startlinecolor\": \"#2a3f5f\"}, \"type\": \"carpet\"}], \"choropleth\": [{\"colorbar\": {\"outlinewidth\": 0, \"ticks\": \"\"}, \"type\": \"choropleth\"}], \"contour\": [{\"colorbar\": {\"outlinewidth\": 0, \"ticks\": \"\"}, \"colorscale\": [[0.0, \"#0d0887\"], [0.1111111111111111, \"#46039f\"], [0.2222222222222222, \"#7201a8\"], [0.3333333333333333, \"#9c179e\"], [0.4444444444444444, \"#bd3786\"], [0.5555555555555556, \"#d8576b\"], [0.6666666666666666, \"#ed7953\"], [0.7777777777777778, \"#fb9f3a\"], [0.8888888888888888, \"#fdca26\"], [1.0, \"#f0f921\"]], \"type\": \"contour\"}], \"contourcarpet\": [{\"colorbar\": {\"outlinewidth\": 0, \"ticks\": \"\"}, \"type\": \"contourcarpet\"}], \"heatmap\": [{\"colorbar\": {\"outlinewidth\": 0, \"ticks\": \"\"}, \"colorscale\": [[0.0, \"#0d0887\"], [0.1111111111111111, \"#46039f\"], [0.2222222222222222, \"#7201a8\"], [0.3333333333333333, \"#9c179e\"], [0.4444444444444444, \"#bd3786\"], [0.5555555555555556, \"#d8576b\"], [0.6666666666666666, \"#ed7953\"], [0.7777777777777778, \"#fb9f3a\"], [0.8888888888888888, \"#fdca26\"], [1.0, \"#f0f921\"]], \"type\": \"heatmap\"}], \"heatmapgl\": [{\"colorbar\": {\"outlinewidth\": 0, \"ticks\": \"\"}, \"colorscale\": [[0.0, \"#0d0887\"], [0.1111111111111111, \"#46039f\"], [0.2222222222222222, \"#7201a8\"], [0.3333333333333333, \"#9c179e\"], [0.4444444444444444, \"#bd3786\"], [0.5555555555555556, \"#d8576b\"], [0.6666666666666666, \"#ed7953\"], [0.7777777777777778, \"#fb9f3a\"], [0.8888888888888888, \"#fdca26\"], [1.0, \"#f0f921\"]], \"type\": \"heatmapgl\"}], \"histogram\": [{\"marker\": {\"colorbar\": {\"outlinewidth\": 0, \"ticks\": \"\"}}, \"type\": \"histogram\"}], \"histogram2d\": [{\"colorbar\": {\"outlinewidth\": 0, \"ticks\": \"\"}, \"colorscale\": [[0.0, \"#0d0887\"], [0.1111111111111111, \"#46039f\"], [0.2222222222222222, \"#7201a8\"], [0.3333333333333333, \"#9c179e\"], [0.4444444444444444, \"#bd3786\"], [0.5555555555555556, \"#d8576b\"], [0.6666666666666666, \"#ed7953\"], [0.7777777777777778, \"#fb9f3a\"], [0.8888888888888888, \"#fdca26\"], [1.0, \"#f0f921\"]], \"type\": \"histogram2d\"}], \"histogram2dcontour\": [{\"colorbar\": {\"outlinewidth\": 0, \"ticks\": \"\"}, \"colorscale\": [[0.0, \"#0d0887\"], [0.1111111111111111, \"#46039f\"], [0.2222222222222222, \"#7201a8\"], [0.3333333333333333, \"#9c179e\"], [0.4444444444444444, \"#bd3786\"], [0.5555555555555556, \"#d8576b\"], [0.6666666666666666, \"#ed7953\"], [0.7777777777777778, \"#fb9f3a\"], [0.8888888888888888, \"#fdca26\"], [1.0, \"#f0f921\"]], \"type\": \"histogram2dcontour\"}], \"mesh3d\": [{\"colorbar\": {\"outlinewidth\": 0, \"ticks\": \"\"}, \"type\": \"mesh3d\"}], \"parcoords\": [{\"line\": {\"colorbar\": {\"outlinewidth\": 0, \"ticks\": \"\"}}, \"type\": \"parcoords\"}], \"pie\": [{\"automargin\": true, \"type\": \"pie\"}], \"scatter\": [{\"marker\": {\"colorbar\": {\"outlinewidth\": 0, \"ticks\": \"\"}}, \"type\": \"scatter\"}], \"scatter3d\": [{\"line\": {\"colorbar\": {\"outlinewidth\": 0, \"ticks\": \"\"}}, \"marker\": {\"colorbar\": {\"outlinewidth\": 0, \"ticks\": \"\"}}, \"type\": \"scatter3d\"}], \"scattercarpet\": [{\"marker\": {\"colorbar\": {\"outlinewidth\": 0, \"ticks\": \"\"}}, \"type\": \"scattercarpet\"}], \"scattergeo\": [{\"marker\": {\"colorbar\": {\"outlinewidth\": 0, \"ticks\": \"\"}}, \"type\": \"scattergeo\"}], \"scattergl\": [{\"marker\": {\"colorbar\": {\"outlinewidth\": 0, \"ticks\": \"\"}}, \"type\": \"scattergl\"}], \"scattermapbox\": [{\"marker\": {\"colorbar\": {\"outlinewidth\": 0, \"ticks\": \"\"}}, \"type\": \"scattermapbox\"}], \"scatterpolar\": [{\"marker\": {\"colorbar\": {\"outlinewidth\": 0, \"ticks\": \"\"}}, \"type\": \"scatterpolar\"}], \"scatterpolargl\": [{\"marker\": {\"colorbar\": {\"outlinewidth\": 0, \"ticks\": \"\"}}, \"type\": \"scatterpolargl\"}], \"scatterternary\": [{\"marker\": {\"colorbar\": {\"outlinewidth\": 0, \"ticks\": \"\"}}, \"type\": \"scatterternary\"}], \"surface\": [{\"colorbar\": {\"outlinewidth\": 0, \"ticks\": \"\"}, \"colorscale\": [[0.0, \"#0d0887\"], [0.1111111111111111, \"#46039f\"], [0.2222222222222222, \"#7201a8\"], [0.3333333333333333, \"#9c179e\"], [0.4444444444444444, \"#bd3786\"], [0.5555555555555556, \"#d8576b\"], [0.6666666666666666, \"#ed7953\"], [0.7777777777777778, \"#fb9f3a\"], [0.8888888888888888, \"#fdca26\"], [1.0, \"#f0f921\"]], \"type\": \"surface\"}], \"table\": [{\"cells\": {\"fill\": {\"color\": \"#EBF0F8\"}, \"line\": {\"color\": \"white\"}}, \"header\": {\"fill\": {\"color\": \"#C8D4E3\"}, \"line\": {\"color\": \"white\"}}, \"type\": \"table\"}]}, \"layout\": {\"annotationdefaults\": {\"arrowcolor\": \"#2a3f5f\", \"arrowhead\": 0, \"arrowwidth\": 1}, \"autotypenumbers\": \"strict\", \"coloraxis\": {\"colorbar\": {\"outlinewidth\": 0, \"ticks\": \"\"}}, \"colorscale\": {\"diverging\": [[0, \"#8e0152\"], [0.1, \"#c51b7d\"], [0.2, \"#de77ae\"], [0.3, \"#f1b6da\"], [0.4, \"#fde0ef\"], [0.5, \"#f7f7f7\"], [0.6, \"#e6f5d0\"], [0.7, \"#b8e186\"], [0.8, \"#7fbc41\"], [0.9, \"#4d9221\"], [1, \"#276419\"]], \"sequential\": [[0.0, \"#0d0887\"], [0.1111111111111111, \"#46039f\"], [0.2222222222222222, \"#7201a8\"], [0.3333333333333333, \"#9c179e\"], [0.4444444444444444, \"#bd3786\"], [0.5555555555555556, \"#d8576b\"], [0.6666666666666666, \"#ed7953\"], [0.7777777777777778, \"#fb9f3a\"], [0.8888888888888888, \"#fdca26\"], [1.0, \"#f0f921\"]], \"sequentialminus\": [[0.0, \"#0d0887\"], [0.1111111111111111, \"#46039f\"], [0.2222222222222222, \"#7201a8\"], [0.3333333333333333, \"#9c179e\"], [0.4444444444444444, \"#bd3786\"], [0.5555555555555556, \"#d8576b\"], [0.6666666666666666, \"#ed7953\"], [0.7777777777777778, \"#fb9f3a\"], [0.8888888888888888, \"#fdca26\"], [1.0, \"#f0f921\"]]}, \"colorway\": [\"#636efa\", \"#EF553B\", \"#00cc96\", \"#ab63fa\", \"#FFA15A\", \"#19d3f3\", \"#FF6692\", \"#B6E880\", \"#FF97FF\", \"#FECB52\"], \"font\": {\"color\": \"#2a3f5f\"}, \"geo\": {\"bgcolor\": \"white\", \"lakecolor\": \"white\", \"landcolor\": \"#E5ECF6\", \"showlakes\": true, \"showland\": true, \"subunitcolor\": \"white\"}, \"hoverlabel\": {\"align\": \"left\"}, \"hovermode\": \"closest\", \"mapbox\": {\"style\": \"light\"}, \"paper_bgcolor\": \"white\", \"plot_bgcolor\": \"#E5ECF6\", \"polar\": {\"angularaxis\": {\"gridcolor\": \"white\", \"linecolor\": \"white\", \"ticks\": \"\"}, \"bgcolor\": \"#E5ECF6\", \"radialaxis\": {\"gridcolor\": \"white\", \"linecolor\": \"white\", \"ticks\": \"\"}}, \"scene\": {\"xaxis\": {\"backgroundcolor\": \"#E5ECF6\", \"gridcolor\": \"white\", \"gridwidth\": 2, \"linecolor\": \"white\", \"showbackground\": true, \"ticks\": \"\", \"zerolinecolor\": \"white\"}, \"yaxis\": {\"backgroundcolor\": \"#E5ECF6\", \"gridcolor\": \"white\", \"gridwidth\": 2, \"linecolor\": \"white\", \"showbackground\": true, \"ticks\": \"\", \"zerolinecolor\": \"white\"}, \"zaxis\": {\"backgroundcolor\": \"#E5ECF6\", \"gridcolor\": \"white\", \"gridwidth\": 2, \"linecolor\": \"white\", \"showbackground\": true, \"ticks\": \"\", \"zerolinecolor\": \"white\"}}, \"shapedefaults\": {\"line\": {\"color\": \"#2a3f5f\"}}, \"ternary\": {\"aaxis\": {\"gridcolor\": \"white\", \"linecolor\": \"white\", \"ticks\": \"\"}, \"baxis\": {\"gridcolor\": \"white\", \"linecolor\": \"white\", \"ticks\": \"\"}, \"bgcolor\": \"#E5ECF6\", \"caxis\": {\"gridcolor\": \"white\", \"linecolor\": \"white\", \"ticks\": \"\"}}, \"title\": {\"x\": 0.05}, \"xaxis\": {\"automargin\": true, \"gridcolor\": \"white\", \"linecolor\": \"white\", \"ticks\": \"\", \"title\": {\"standoff\": 15}, \"zerolinecolor\": \"white\", \"zerolinewidth\": 2}, \"yaxis\": {\"automargin\": true, \"gridcolor\": \"white\", \"linecolor\": \"white\", \"ticks\": \"\", \"title\": {\"standoff\": 15}, \"zerolinecolor\": \"white\", \"zerolinewidth\": 2}}}, \"title\": {\"text\": \"Sector wise Dividend yield\"}, \"xaxis\": {\"anchor\": \"y\", \"domain\": [0.0, 1.0], \"title\": {\"text\": \"Sector\"}}, \"yaxis\": {\"anchor\": \"x\", \"domain\": [0.0, 1.0], \"title\": {\"text\": \"Dividend Yield\"}}},                        {\"responsive\": true}                    ).then(function(){\n",
       "                            \n",
       "var gd = document.getElementById('3288852c-d403-4f9b-9452-54ef202654dc');\n",
       "var x = new MutationObserver(function (mutations, observer) {{\n",
       "        var display = window.getComputedStyle(gd).display;\n",
       "        if (!display || display === 'none') {{\n",
       "            console.log([gd, 'removed!']);\n",
       "            Plotly.purge(gd);\n",
       "            observer.disconnect();\n",
       "        }}\n",
       "}});\n",
       "\n",
       "// Listen for the removal of the full notebook cells\n",
       "var notebookContainer = gd.closest('#notebook-container');\n",
       "if (notebookContainer) {{\n",
       "    x.observe(notebookContainer, {childList: true});\n",
       "}}\n",
       "\n",
       "// Listen for the clearing of the current output cell\n",
       "var outputEl = gd.closest('.output');\n",
       "if (outputEl) {{\n",
       "    x.observe(outputEl, {childList: true});\n",
       "}}\n",
       "\n",
       "                        })                };                });            </script>        </div>"
      ]
     },
     "metadata": {},
     "output_type": "display_data"
    }
   ],
   "source": [
    "fig4=px.bar(D_y,x='Sector',y='Dividend Yield',\n",
    "            color='Dividend Yield',\n",
    "      title='Sector wise Dividend yield');\n",
    "fig4"
   ]
  },
  {
   "cell_type": "code",
   "execution_count": 108,
   "metadata": {},
   "outputs": [
    {
     "data": {
      "text/plain": [
       "Consumer Discretionary        82\n",
       "Information Technology        70\n",
       "Financials                    68\n",
       "Industrials                   64\n",
       "Health Care                   59\n",
       "Consumer Staples              33\n",
       "Real Estate                   33\n",
       "Energy                        30\n",
       "Utilities                     28\n",
       "Materials                     25\n",
       "Telecommunication Services     3\n",
       "Name: Sector, dtype: int64"
      ]
     },
     "execution_count": 108,
     "metadata": {},
     "output_type": "execute_result"
    }
   ],
   "source": [
    "data.Sector.value_counts()"
   ]
  },
  {
   "cell_type": "code",
   "execution_count": 134,
   "metadata": {},
   "outputs": [],
   "source": [
    "m=pd.DataFrame(data.groupby(['Sector','Symbol'])['Price'].sum())"
   ]
  },
  {
   "cell_type": "code",
   "execution_count": 140,
   "metadata": {},
   "outputs": [
    {
     "data": {
      "text/html": [
       "<div>\n",
       "<style scoped>\n",
       "    .dataframe tbody tr th:only-of-type {\n",
       "        vertical-align: middle;\n",
       "    }\n",
       "\n",
       "    .dataframe tbody tr th {\n",
       "        vertical-align: top;\n",
       "    }\n",
       "\n",
       "    .dataframe thead th {\n",
       "        text-align: right;\n",
       "    }\n",
       "</style>\n",
       "<table border=\"1\" class=\"dataframe\">\n",
       "  <thead>\n",
       "    <tr style=\"text-align: right;\">\n",
       "      <th></th>\n",
       "      <th></th>\n",
       "      <th>Price</th>\n",
       "    </tr>\n",
       "    <tr>\n",
       "      <th>Sector</th>\n",
       "      <th>Symbol</th>\n",
       "      <th></th>\n",
       "    </tr>\n",
       "  </thead>\n",
       "  <tbody>\n",
       "    <tr>\n",
       "      <th rowspan=\"5\" valign=\"top\">Consumer Discretionary</th>\n",
       "      <th>AAP</th>\n",
       "      <td>109.63</td>\n",
       "    </tr>\n",
       "    <tr>\n",
       "      <th>AMZN</th>\n",
       "      <td>1350.50</td>\n",
       "    </tr>\n",
       "    <tr>\n",
       "      <th>APTV</th>\n",
       "      <td>89.27</td>\n",
       "    </tr>\n",
       "    <tr>\n",
       "      <th>AZO</th>\n",
       "      <td>718.57</td>\n",
       "    </tr>\n",
       "    <tr>\n",
       "      <th>BBY</th>\n",
       "      <td>68.79</td>\n",
       "    </tr>\n",
       "    <tr>\n",
       "      <th>...</th>\n",
       "      <th>...</th>\n",
       "      <td>...</td>\n",
       "    </tr>\n",
       "    <tr>\n",
       "      <th rowspan=\"5\" valign=\"top\">Utilities</th>\n",
       "      <th>SCG</th>\n",
       "      <td>35.60</td>\n",
       "    </tr>\n",
       "    <tr>\n",
       "      <th>SO</th>\n",
       "      <td>43.40</td>\n",
       "    </tr>\n",
       "    <tr>\n",
       "      <th>SRE</th>\n",
       "      <td>103.36</td>\n",
       "    </tr>\n",
       "    <tr>\n",
       "      <th>WEC</th>\n",
       "      <td>59.50</td>\n",
       "    </tr>\n",
       "    <tr>\n",
       "      <th>XEL</th>\n",
       "      <td>42.44</td>\n",
       "    </tr>\n",
       "  </tbody>\n",
       "</table>\n",
       "<p>495 rows × 1 columns</p>\n",
       "</div>"
      ],
      "text/plain": [
       "                                 Price\n",
       "Sector                 Symbol         \n",
       "Consumer Discretionary AAP      109.63\n",
       "                       AMZN    1350.50\n",
       "                       APTV      89.27\n",
       "                       AZO      718.57\n",
       "                       BBY       68.79\n",
       "...                                ...\n",
       "Utilities              SCG       35.60\n",
       "                       SO        43.40\n",
       "                       SRE      103.36\n",
       "                       WEC       59.50\n",
       "                       XEL       42.44\n",
       "\n",
       "[495 rows x 1 columns]"
      ]
     },
     "execution_count": 140,
     "metadata": {},
     "output_type": "execute_result"
    }
   ],
   "source": [
    "m"
   ]
  },
  {
   "cell_type": "markdown",
   "metadata": {},
   "source": [
    "#### 11. Share price of companies "
   ]
  },
  {
   "cell_type": "code",
   "execution_count": 299,
   "metadata": {},
   "outputs": [
    {
     "name": "stderr",
     "output_type": "stream",
     "text": [
      "C:\\Users\\BY\\anaconda3\\lib\\site-packages\\cufflinks\\plotlytools.py:807: FutureWarning:\n",
      "\n",
      "The pandas.np module is deprecated and will be removed from pandas in a future version. Import numpy directly instead\n",
      "\n",
      "C:\\Users\\BY\\anaconda3\\lib\\site-packages\\cufflinks\\plotlytools.py:810: FutureWarning:\n",
      "\n",
      "The pandas.np module is deprecated and will be removed from pandas in a future version. Import numpy directly instead\n",
      "\n"
     ]
    },
    {
     "data": {
      "application/vnd.plotly.v1+json": {
       "config": {
        "linkText": "Export to plot.ly",
        "plotlyServerURL": "https://plot.ly",
        "showLink": true
       },
       "data": [
        {
         "marker": {
          "color": "rgba(255, 153, 51, 1.0)",
          "line": {
           "width": 1.3
          },
          "opacity": 0.8,
          "size": 4,
          "symbol": "circle"
         },
         "mode": "markers",
         "name": "Industrials",
         "textfont": {
          "color": "#4D5663"
         },
         "type": "scatter",
         "x": [
          "MMM",
          "AOS",
          "AYI",
          "ALK",
          "ALLE",
          "AAL",
          "AME",
          "BA",
          "CHRW",
          "CAT",
          "CTAS",
          "CSX",
          "CMI",
          "DE",
          "DAL",
          "DOV",
          "ETN",
          "EMR",
          "EFX",
          "EXPD",
          "FAST",
          "FDX",
          "FLS",
          "FLR",
          "FTV",
          "FBHS",
          "GD",
          "GE",
          "GWW",
          "HON",
          "HII",
          "INFO",
          "ITW",
          "IR",
          "JBHT",
          "JEC",
          "JCI",
          "KSU",
          "LLL",
          "LMT",
          "MAS",
          "NLSN",
          "NSC",
          "NOC",
          "PCAR",
          "PH",
          "PNR",
          "PWR",
          "RTN",
          "RSG",
          "RHI",
          "ROK",
          "COL",
          "ROP",
          "LUV",
          "SRCL",
          "TXT",
          "UAL",
          "UPS",
          "URI",
          "UTX",
          "VRSK",
          "WM",
          "XYL"
         ],
         "y": [
          222.89,
          60.24,
          145.41,
          64.04,
          77.32,
          48.6,
          72.05,
          329.66,
          90.47,
          145.99,
          149.32,
          50.47,
          165.73,
          153.66,
          51.23,
          96.2,
          79.41,
          66.4,
          114,
          60.36,
          52.15,
          239.27,
          40.82,
          55.31,
          69.14,
          62.44,
          206.05,
          14.45,
          258.6,
          146.02,
          225.37,
          43.73,
          156.15,
          87.6,
          114.81,
          62.82,
          36.55,
          103.53,
          198.79,
          334.3,
          40.7,
          33.9,
          136.89,
          324.01,
          66.98,
          174.51,
          66.67,
          33.51,
          198.74,
          62.72,
          52.26,
          178.73,
          133.31,
          259.4,
          55.63,
          70.55,
          55.54,
          63.37,
          109.28,
          161.99,
          127.48,
          92.28,
          79.12,
          70.24
         ]
        },
        {
         "marker": {
          "color": "rgba(55, 128, 191, 1.0)",
          "line": {
           "width": 1.3
          },
          "opacity": 0.8,
          "size": 4,
          "symbol": "circle"
         },
         "mode": "markers",
         "name": "Health Care",
         "textfont": {
          "color": "#4D5663"
         },
         "type": "scatter",
         "x": [
          "ABT",
          "ABBV",
          "AET",
          "A",
          "ALXN",
          "ALGN",
          "AGN",
          "ABC",
          "AMGN",
          "ANTM",
          "BAX",
          "BDX",
          "BIIB",
          "BSX",
          "BMY",
          "CAH",
          "CELG",
          "CNC",
          "CERN",
          "CI",
          "DHR",
          "DVA",
          "XRAY",
          "EW",
          "EVHC",
          "ESRX",
          "GILD",
          "HSIC",
          "HOLX",
          "HUM",
          "IDXX",
          "ILMN",
          "INCY",
          "ISRG",
          "IQV",
          "JNJ",
          "LH",
          "LLY",
          "MCK",
          "MDT",
          "MRK",
          "MTD",
          "MYL",
          "PDCO",
          "PKI",
          "PFE",
          "DGX",
          "REGN",
          "RMD",
          "SYK",
          "COO",
          "TMO",
          "UNH",
          "UHS",
          "VAR",
          "VRTX",
          "WAT",
          "ZBH",
          "ZTS"
         ],
         "y": [
          56.27,
          108.48,
          178,
          65.05,
          108.47,
          220.71,
          164.2,
          91.55,
          173.12,
          230.57,
          62.56,
          211.44,
          311.79,
          25.2,
          62.69,
          66.63,
          91.02,
          100.36,
          61.22,
          189.27,
          92.16,
          71.91,
          56.85,
          123.78,
          35.34,
          73.35,
          78.22,
          70.85,
          38.8,
          262.37,
          169.28,
          209.54,
          83.92,
          381.87,
          95.23,
          126.36,
          165.46,
          74.21,
          150.23,
          78.38,
          54.73,
          601,
          39.25,
          32.88,
          72.06,
          33.63,
          96.42,
          322.62,
          89.26,
          148.01,
          223.17,
          198.73,
          216.46,
          114.87,
          112.82,
          151.6,
          191.79,
          115.53,
          71.51
         ]
        },
        {
         "marker": {
          "color": "rgba(50, 171, 96, 1.0)",
          "line": {
           "width": 1.3
          },
          "opacity": 0.8,
          "size": 4,
          "symbol": "circle"
         },
         "mode": "markers",
         "name": "Information Technology",
         "textfont": {
          "color": "#4D5663"
         },
         "type": "scatter",
         "x": [
          "ACN",
          "ATVI",
          "ADBE",
          "AMD",
          "AKAM",
          "ADS",
          "GOOGL",
          "GOOG",
          "APH",
          "ADI",
          "ANSS",
          "AAPL",
          "AMAT",
          "ADSK",
          "ADP",
          "AVGO",
          "CA",
          "CDNS",
          "CSCO",
          "CTXS",
          "CTSH",
          "GLW",
          "CSRA",
          "DXC",
          "EBAY",
          "EA",
          "FFIV",
          "FB",
          "FIS",
          "FISV",
          "FLIR",
          "IT",
          "GPN",
          "HRS",
          "HPE",
          "HPQ",
          "INTC",
          "IBM",
          "INTU",
          "JNPR",
          "KLAC",
          "LRCX",
          "MA",
          "MCHP",
          "MU",
          "MSFT",
          "MSI",
          "NTAP",
          "NFLX",
          "NVDA",
          "ORCL",
          "PAYX",
          "PYPL",
          "QRVO",
          "QCOM",
          "RHT",
          "CRM",
          "STX",
          "SWKS",
          "SYMC",
          "SNPS",
          "TEL",
          "TXN",
          "TSS",
          "VRSN",
          "V",
          "WDC",
          "WU",
          "XRX",
          "XLNX"
         ],
         "y": [
          150.51,
          65.83,
          185.16,
          11.22,
          62.49,
          240.6,
          1007.71,
          1001.52,
          84.44,
          82.68,
          148.84,
          155.15,
          45.75,
          104.81,
          108.25,
          229.57,
          32.66,
          36.82,
          38.77,
          84.53,
          75.16,
          28.45,
          30.85,
          91.92,
          41.02,
          116.54,
          137.25,
          171.58,
          92.74,
          133.05,
          46.46,
          114.26,
          100.59,
          149.84,
          15.04,
          19.92,
          42.75,
          147.59,
          152.75,
          24.66,
          98.54,
          162.23,
          160.62,
          79.9,
          40,
          85.01,
          98.74,
          55.85,
          250.1,
          217.52,
          46.84,
          61.86,
          72.32,
          76.85,
          62.42,
          124.65,
          104.03,
          47.44,
          99.04,
          25.59,
          82.62,
          95.27,
          97.66,
          81.17,
          105.62,
          113.86,
          80.09,
          18.81,
          29.8,
          62.82
         ]
        },
        {
         "marker": {
          "color": "rgba(128, 0, 128, 1.0)",
          "line": {
           "width": 1.3
          },
          "opacity": 0.8,
          "size": 4,
          "symbol": "circle"
         },
         "mode": "markers",
         "name": "Consumer Discretionary",
         "textfont": {
          "color": "#4D5663"
         },
         "type": "scatter",
         "x": [
          "AAP",
          "AMZN",
          "APTV",
          "AZO",
          "BBY",
          "BWA",
          "KMX",
          "CCL",
          "CBS",
          "CHTR",
          "CMG",
          "CMCSA",
          "DHI",
          "DRI",
          "DISCA",
          "DISCK",
          "DISH",
          "DG",
          "DLTR",
          "EXPE",
          "F",
          "GPS",
          "GRMN",
          "GM",
          "GPC",
          "GT",
          "HBI",
          "HOG",
          "HAS",
          "HLT",
          "HD",
          "IPG",
          "KSS",
          "LB",
          "LEG",
          "LEN",
          "LKQ",
          "LOW",
          "M",
          "MAR",
          "MAT",
          "MCD",
          "MGM",
          "KORS",
          "MHK",
          "NWL",
          "NWSA",
          "NWS",
          "NKE",
          "JWN",
          "NCLH",
          "ORLY",
          "OMC",
          "RL",
          "PCLN",
          "PHM",
          "PVH",
          "ROST",
          "RCL",
          "SNI",
          "SIG",
          "SNA",
          "SWK",
          "SBUX",
          "TGT",
          "DIS",
          "TIF",
          "TWX",
          "TJX",
          "TSCO",
          "TRIP",
          "FOXA",
          "FOX",
          "ULTA",
          "UAA",
          "UA",
          "VFC",
          "VIAB",
          "WHR",
          "WYN",
          "WYNN",
          "YUM"
         ],
         "y": [
          109.63,
          1350.5,
          89.27,
          718.57,
          68.79,
          51.94,
          64.34,
          66.76,
          51.8,
          348.65,
          266.01,
          38.19,
          44.55,
          91.33,
          22.87,
          21.58,
          43.77,
          95.1,
          101.58,
          123.03,
          10.43,
          31.17,
          61.13,
          40.75,
          96.31,
          30.75,
          19.57,
          47.54,
          96.48,
          78.66,
          181.22,
          21.34,
          60.34,
          47.77,
          43.99,
          59.11,
          38.86,
          95.01,
          24,
          133.88,
          16,
          158.97,
          33.5,
          60.03,
          256.57,
          27.91,
          15.65,
          15.85,
          62.49,
          47.23,
          56.01,
          252.22,
          75.91,
          101.32,
          1806.06,
          28.67,
          142.68,
          75.06,
          122.45,
          86.46,
          49.38,
          156.72,
          152.86,
          53.77,
          71.11,
          101.35,
          99.62,
          93.02,
          74.36,
          65.94,
          40.05,
          34.56,
          34.09,
          209.09,
          13.14,
          11.95,
          78.75,
          32.71,
          164.95,
          113.56,
          169.28,
          76.3
         ]
        },
        {
         "marker": {
          "color": "rgba(219, 64, 82, 1.0)",
          "line": {
           "width": 1.3
          },
          "opacity": 0.8,
          "size": 4,
          "symbol": "circle"
         },
         "mode": "markers",
         "name": "Utilities",
         "textfont": {
          "color": "#4D5663"
         },
         "type": "scatter",
         "x": [
          "AES",
          "LNT",
          "AEE",
          "AEP",
          "AWK",
          "CNP",
          "CMS",
          "ED",
          "D",
          "DTE",
          "DUK",
          "EIX",
          "ETR",
          "ES",
          "EXC",
          "FE",
          "NEE",
          "NI",
          "NRG",
          "PCG",
          "PNW",
          "PPL",
          "PEG",
          "SCG",
          "SRE",
          "SO",
          "WEC",
          "XEL"
         ],
         "y": [
          10.06,
          37.14,
          52.59,
          63.38,
          76.06,
          25.85,
          41.77,
          74.73,
          73.31,
          98.49,
          74.32,
          58.07,
          72.02,
          56.11,
          35.98,
          30.64,
          145.29,
          22.51,
          24,
          38.24,
          74.34,
          29.52,
          46.73,
          35.6,
          103.36,
          43.4,
          59.5,
          42.44
         ]
        },
        {
         "marker": {
          "color": "rgba(0, 128, 128, 1.0)",
          "line": {
           "width": 1.3
          },
          "opacity": 0.8,
          "size": 4,
          "symbol": "circle"
         },
         "mode": "markers",
         "name": "Financials",
         "textfont": {
          "color": "#4D5663"
         },
         "type": "scatter",
         "x": [
          "AMG",
          "AFL",
          "ALL",
          "AXP",
          "AIG",
          "AMP",
          "AON",
          "AJG",
          "AIZ",
          "BAC",
          "BBT",
          "BRK.B",
          "BLK",
          "HRB",
          "BHF",
          "COF",
          "CBOE",
          "SCHW",
          "CB",
          "CINF",
          "C",
          "CFG",
          "CME",
          "CMA",
          "DFS",
          "ETFC",
          "RE",
          "FITB",
          "BEN",
          "GS",
          "HIG",
          "HBAN",
          "ICE",
          "IVZ",
          "JPM",
          "KEY",
          "LUK",
          "LNC",
          "L",
          "MTB",
          "MMC",
          "MET",
          "MCO",
          "MS",
          "NDAQ",
          "NAVI",
          "NTRS",
          "PBCT",
          "PNC",
          "PFG",
          "PGR",
          "PRU",
          "RJF",
          "RF",
          "SPGI",
          "STT",
          "STI",
          "SYF",
          "TROW",
          "BK",
          "TRV",
          "TMK",
          "USB",
          "UNM",
          "WFC",
          "WLTW",
          "XL",
          "ZION"
         ],
         "y": [
          179.11,
          83.25,
          90.06,
          88.34,
          58.28,
          152.5,
          136.05,
          64.4,
          85.16,
          29.74,
          51.07,
          191.42,
          509.38,
          25.19,
          55.44,
          91.8,
          111.15,
          48.9,
          140.39,
          70.34,
          71.87,
          42.19,
          153.04,
          89.18,
          72.4,
          48.48,
          241.06,
          31.1,
          38,
          246.35,
          53.34,
          15.1,
          67,
          31.92,
          107.88,
          20.08,
          23.86,
          73.86,
          46.05,
          178.35,
          79.31,
          44.28,
          152.14,
          51.79,
          75.21,
          13.38,
          96.2,
          18.56,
          149.38,
          60.38,
          51.07,
          103.38,
          86.06,
          17.9,
          173.31,
          98.54,
          65.8,
          34.98,
          101.99,
          53.29,
          135.01,
          80.52,
          52.65,
          47.87,
          55.4,
          152.36,
          41.26,
          50.71
         ]
        },
        {
         "marker": {
          "color": "rgba(255, 255, 51, 1.0)",
          "line": {
           "width": 1.3
          },
          "opacity": 0.8,
          "size": 4,
          "symbol": "circle"
         },
         "mode": "markers",
         "name": "Materials",
         "textfont": {
          "color": "#4D5663"
         },
         "type": "scatter",
         "x": [
          "APD",
          "ALB",
          "AVY",
          "BLL",
          "CF",
          "DWDP",
          "EMN",
          "ECL",
          "FMC",
          "FCX",
          "IP",
          "IFF",
          "LYB",
          "MLM",
          "MON",
          "NEM",
          "NUE",
          "PKG",
          "PPG",
          "PX",
          "SEE",
          "SHW",
          "MOS",
          "VMC",
          "WRK"
         ],
         "y": [
          152.8,
          105.18,
          110.77,
          38.44,
          37.46,
          68.21,
          93.57,
          127.76,
          80.87,
          17.16,
          56.05,
          138,
          105.79,
          208.42,
          119.08,
          36.61,
          60.38,
          111.95,
          110.3,
          144.07,
          42.62,
          387.65,
          24.13,
          121.47,
          60.93
         ]
        },
        {
         "marker": {
          "color": "rgba(128, 128, 0, 1.0)",
          "line": {
           "width": 1.3
          },
          "opacity": 0.8,
          "size": 4,
          "symbol": "circle"
         },
         "mode": "markers",
         "name": "Real Estate",
         "textfont": {
          "color": "#4D5663"
         },
         "type": "scatter",
         "x": [
          "ARE",
          "AMT",
          "AIV",
          "AVB",
          "BXP",
          "CBG",
          "CCI",
          "DLR",
          "DRE",
          "EQIX",
          "EQR",
          "ESS",
          "EXR",
          "FRT",
          "GGP",
          "HCP",
          "HST",
          "IRM",
          "KIM",
          "MAC",
          "MAA",
          "PLD",
          "PSA",
          "O",
          "REG",
          "SBAC",
          "SPG",
          "SLG",
          "UDR",
          "VTR",
          "VNO",
          "HCN",
          "WY"
         ],
         "y": [
          114.58,
          133.57,
          38.21,
          154.94,
          112.09,
          41.92,
          103.81,
          98.96,
          24.52,
          409.98,
          55.26,
          218.28,
          77.56,
          108.11,
          21.62,
          22.64,
          18.75,
          32.07,
          14.01,
          58.36,
          85.39,
          58.33,
          180.49,
          47.56,
          55.58,
          159.85,
          152.18,
          90.61,
          32.92,
          50.92,
          66.18,
          54.67,
          33.6
         ]
        },
        {
         "marker": {
          "color": "rgba(251, 128, 114, 1.0)",
          "line": {
           "width": 1.3
          },
          "opacity": 0.8,
          "size": 4,
          "symbol": "circle"
         },
         "mode": "markers",
         "name": "Consumer Staples",
         "textfont": {
          "color": "#4D5663"
         },
         "type": "scatter",
         "x": [
          "MO",
          "ADM",
          "BF.B",
          "CPB",
          "CHD",
          "KO",
          "CL",
          "CAG",
          "STZ",
          "COST",
          "COTY",
          "CVS",
          "DPS",
          "EL",
          "GIS",
          "HRL",
          "SJM",
          "K",
          "KMB",
          "KHC",
          "KR",
          "MKC",
          "TAP",
          "MDLZ",
          "MNST",
          "PM",
          "PG",
          "SYY",
          "CLX",
          "HSY",
          "TSN",
          "WMT",
          "WBA"
         ],
         "y": [
          64.05,
          41.35,
          63.33,
          44.83,
          47.38,
          43.1,
          68.95,
          35.49,
          208.73,
          178.61,
          19.96,
          70.55,
          116.93,
          131.46,
          53.99,
          32.21,
          118.37,
          65.98,
          111.69,
          71.58,
          27.57,
          101.36,
          74.51,
          42.68,
          61.99,
          100.39,
          80.22,
          57,
          127.76,
          97.65,
          73.92,
          100.02,
          68.22
         ]
        },
        {
         "marker": {
          "color": "rgba(128, 177, 211, 1.0)",
          "line": {
           "width": 1.3
          },
          "opacity": 0.8,
          "size": 4,
          "symbol": "circle"
         },
         "mode": "markers",
         "name": "Energy",
         "textfont": {
          "color": "#4D5663"
         },
         "type": "scatter",
         "x": [
          "APC",
          "ANDV",
          "APA",
          "BHGE",
          "COG",
          "CHK",
          "CVX",
          "XEC",
          "CXO",
          "COP",
          "DVN",
          "EOG",
          "EQT",
          "XOM",
          "HAL",
          "HP",
          "HES",
          "KMI",
          "MPC",
          "NOV",
          "NFX",
          "NBL",
          "OKE",
          "PSX",
          "PXD",
          "RRC",
          "SLB",
          "FTI",
          "VLO",
          "WMB"
         ],
         "y": [
          56.2,
          96.9,
          37.73,
          27.5,
          23.01,
          2.82,
          112.3,
          100.19,
          140.09,
          53.24,
          34.94,
          101.04,
          46.25,
          76.07,
          47.41,
          64.87,
          43,
          16.8,
          62.79,
          32.64,
          26.38,
          25.43,
          54.4,
          92.44,
          169.16,
          12.82,
          67.4,
          29.1,
          86.77,
          28.56
         ]
        },
        {
         "marker": {
          "color": "rgba(128, 177, 211, 0.8999999999999999)",
          "line": {
           "width": 1.3
          },
          "opacity": 0.8,
          "size": 4,
          "symbol": "circle"
         },
         "mode": "markers",
         "name": "Telecommunication Services",
         "textfont": {
          "color": "#4D5663"
         },
         "type": "scatter",
         "x": [
          "T",
          "CTL",
          "VZ"
         ],
         "y": [
          35.57,
          16.2,
          49.04
         ]
        }
       ],
       "layout": {
        "legend": {
         "bgcolor": "#F5F6F9",
         "font": {
          "color": "#4D5663"
         }
        },
        "paper_bgcolor": "#F5F6F9",
        "plot_bgcolor": "#F5F6F9",
        "template": {
         "data": {
          "bar": [
           {
            "error_x": {
             "color": "#2a3f5f"
            },
            "error_y": {
             "color": "#2a3f5f"
            },
            "marker": {
             "line": {
              "color": "#E5ECF6",
              "width": 0.5
             }
            },
            "type": "bar"
           }
          ],
          "barpolar": [
           {
            "marker": {
             "line": {
              "color": "#E5ECF6",
              "width": 0.5
             }
            },
            "type": "barpolar"
           }
          ],
          "carpet": [
           {
            "aaxis": {
             "endlinecolor": "#2a3f5f",
             "gridcolor": "white",
             "linecolor": "white",
             "minorgridcolor": "white",
             "startlinecolor": "#2a3f5f"
            },
            "baxis": {
             "endlinecolor": "#2a3f5f",
             "gridcolor": "white",
             "linecolor": "white",
             "minorgridcolor": "white",
             "startlinecolor": "#2a3f5f"
            },
            "type": "carpet"
           }
          ],
          "choropleth": [
           {
            "colorbar": {
             "outlinewidth": 0,
             "ticks": ""
            },
            "type": "choropleth"
           }
          ],
          "contour": [
           {
            "colorbar": {
             "outlinewidth": 0,
             "ticks": ""
            },
            "colorscale": [
             [
              0,
              "#0d0887"
             ],
             [
              0.1111111111111111,
              "#46039f"
             ],
             [
              0.2222222222222222,
              "#7201a8"
             ],
             [
              0.3333333333333333,
              "#9c179e"
             ],
             [
              0.4444444444444444,
              "#bd3786"
             ],
             [
              0.5555555555555556,
              "#d8576b"
             ],
             [
              0.6666666666666666,
              "#ed7953"
             ],
             [
              0.7777777777777778,
              "#fb9f3a"
             ],
             [
              0.8888888888888888,
              "#fdca26"
             ],
             [
              1,
              "#f0f921"
             ]
            ],
            "type": "contour"
           }
          ],
          "contourcarpet": [
           {
            "colorbar": {
             "outlinewidth": 0,
             "ticks": ""
            },
            "type": "contourcarpet"
           }
          ],
          "heatmap": [
           {
            "colorbar": {
             "outlinewidth": 0,
             "ticks": ""
            },
            "colorscale": [
             [
              0,
              "#0d0887"
             ],
             [
              0.1111111111111111,
              "#46039f"
             ],
             [
              0.2222222222222222,
              "#7201a8"
             ],
             [
              0.3333333333333333,
              "#9c179e"
             ],
             [
              0.4444444444444444,
              "#bd3786"
             ],
             [
              0.5555555555555556,
              "#d8576b"
             ],
             [
              0.6666666666666666,
              "#ed7953"
             ],
             [
              0.7777777777777778,
              "#fb9f3a"
             ],
             [
              0.8888888888888888,
              "#fdca26"
             ],
             [
              1,
              "#f0f921"
             ]
            ],
            "type": "heatmap"
           }
          ],
          "heatmapgl": [
           {
            "colorbar": {
             "outlinewidth": 0,
             "ticks": ""
            },
            "colorscale": [
             [
              0,
              "#0d0887"
             ],
             [
              0.1111111111111111,
              "#46039f"
             ],
             [
              0.2222222222222222,
              "#7201a8"
             ],
             [
              0.3333333333333333,
              "#9c179e"
             ],
             [
              0.4444444444444444,
              "#bd3786"
             ],
             [
              0.5555555555555556,
              "#d8576b"
             ],
             [
              0.6666666666666666,
              "#ed7953"
             ],
             [
              0.7777777777777778,
              "#fb9f3a"
             ],
             [
              0.8888888888888888,
              "#fdca26"
             ],
             [
              1,
              "#f0f921"
             ]
            ],
            "type": "heatmapgl"
           }
          ],
          "histogram": [
           {
            "marker": {
             "colorbar": {
              "outlinewidth": 0,
              "ticks": ""
             }
            },
            "type": "histogram"
           }
          ],
          "histogram2d": [
           {
            "colorbar": {
             "outlinewidth": 0,
             "ticks": ""
            },
            "colorscale": [
             [
              0,
              "#0d0887"
             ],
             [
              0.1111111111111111,
              "#46039f"
             ],
             [
              0.2222222222222222,
              "#7201a8"
             ],
             [
              0.3333333333333333,
              "#9c179e"
             ],
             [
              0.4444444444444444,
              "#bd3786"
             ],
             [
              0.5555555555555556,
              "#d8576b"
             ],
             [
              0.6666666666666666,
              "#ed7953"
             ],
             [
              0.7777777777777778,
              "#fb9f3a"
             ],
             [
              0.8888888888888888,
              "#fdca26"
             ],
             [
              1,
              "#f0f921"
             ]
            ],
            "type": "histogram2d"
           }
          ],
          "histogram2dcontour": [
           {
            "colorbar": {
             "outlinewidth": 0,
             "ticks": ""
            },
            "colorscale": [
             [
              0,
              "#0d0887"
             ],
             [
              0.1111111111111111,
              "#46039f"
             ],
             [
              0.2222222222222222,
              "#7201a8"
             ],
             [
              0.3333333333333333,
              "#9c179e"
             ],
             [
              0.4444444444444444,
              "#bd3786"
             ],
             [
              0.5555555555555556,
              "#d8576b"
             ],
             [
              0.6666666666666666,
              "#ed7953"
             ],
             [
              0.7777777777777778,
              "#fb9f3a"
             ],
             [
              0.8888888888888888,
              "#fdca26"
             ],
             [
              1,
              "#f0f921"
             ]
            ],
            "type": "histogram2dcontour"
           }
          ],
          "mesh3d": [
           {
            "colorbar": {
             "outlinewidth": 0,
             "ticks": ""
            },
            "type": "mesh3d"
           }
          ],
          "parcoords": [
           {
            "line": {
             "colorbar": {
              "outlinewidth": 0,
              "ticks": ""
             }
            },
            "type": "parcoords"
           }
          ],
          "pie": [
           {
            "automargin": true,
            "type": "pie"
           }
          ],
          "scatter": [
           {
            "marker": {
             "colorbar": {
              "outlinewidth": 0,
              "ticks": ""
             }
            },
            "type": "scatter"
           }
          ],
          "scatter3d": [
           {
            "line": {
             "colorbar": {
              "outlinewidth": 0,
              "ticks": ""
             }
            },
            "marker": {
             "colorbar": {
              "outlinewidth": 0,
              "ticks": ""
             }
            },
            "type": "scatter3d"
           }
          ],
          "scattercarpet": [
           {
            "marker": {
             "colorbar": {
              "outlinewidth": 0,
              "ticks": ""
             }
            },
            "type": "scattercarpet"
           }
          ],
          "scattergeo": [
           {
            "marker": {
             "colorbar": {
              "outlinewidth": 0,
              "ticks": ""
             }
            },
            "type": "scattergeo"
           }
          ],
          "scattergl": [
           {
            "marker": {
             "colorbar": {
              "outlinewidth": 0,
              "ticks": ""
             }
            },
            "type": "scattergl"
           }
          ],
          "scattermapbox": [
           {
            "marker": {
             "colorbar": {
              "outlinewidth": 0,
              "ticks": ""
             }
            },
            "type": "scattermapbox"
           }
          ],
          "scatterpolar": [
           {
            "marker": {
             "colorbar": {
              "outlinewidth": 0,
              "ticks": ""
             }
            },
            "type": "scatterpolar"
           }
          ],
          "scatterpolargl": [
           {
            "marker": {
             "colorbar": {
              "outlinewidth": 0,
              "ticks": ""
             }
            },
            "type": "scatterpolargl"
           }
          ],
          "scatterternary": [
           {
            "marker": {
             "colorbar": {
              "outlinewidth": 0,
              "ticks": ""
             }
            },
            "type": "scatterternary"
           }
          ],
          "surface": [
           {
            "colorbar": {
             "outlinewidth": 0,
             "ticks": ""
            },
            "colorscale": [
             [
              0,
              "#0d0887"
             ],
             [
              0.1111111111111111,
              "#46039f"
             ],
             [
              0.2222222222222222,
              "#7201a8"
             ],
             [
              0.3333333333333333,
              "#9c179e"
             ],
             [
              0.4444444444444444,
              "#bd3786"
             ],
             [
              0.5555555555555556,
              "#d8576b"
             ],
             [
              0.6666666666666666,
              "#ed7953"
             ],
             [
              0.7777777777777778,
              "#fb9f3a"
             ],
             [
              0.8888888888888888,
              "#fdca26"
             ],
             [
              1,
              "#f0f921"
             ]
            ],
            "type": "surface"
           }
          ],
          "table": [
           {
            "cells": {
             "fill": {
              "color": "#EBF0F8"
             },
             "line": {
              "color": "white"
             }
            },
            "header": {
             "fill": {
              "color": "#C8D4E3"
             },
             "line": {
              "color": "white"
             }
            },
            "type": "table"
           }
          ]
         },
         "layout": {
          "annotationdefaults": {
           "arrowcolor": "#2a3f5f",
           "arrowhead": 0,
           "arrowwidth": 1
          },
          "autotypenumbers": "strict",
          "coloraxis": {
           "colorbar": {
            "outlinewidth": 0,
            "ticks": ""
           }
          },
          "colorscale": {
           "diverging": [
            [
             0,
             "#8e0152"
            ],
            [
             0.1,
             "#c51b7d"
            ],
            [
             0.2,
             "#de77ae"
            ],
            [
             0.3,
             "#f1b6da"
            ],
            [
             0.4,
             "#fde0ef"
            ],
            [
             0.5,
             "#f7f7f7"
            ],
            [
             0.6,
             "#e6f5d0"
            ],
            [
             0.7,
             "#b8e186"
            ],
            [
             0.8,
             "#7fbc41"
            ],
            [
             0.9,
             "#4d9221"
            ],
            [
             1,
             "#276419"
            ]
           ],
           "sequential": [
            [
             0,
             "#0d0887"
            ],
            [
             0.1111111111111111,
             "#46039f"
            ],
            [
             0.2222222222222222,
             "#7201a8"
            ],
            [
             0.3333333333333333,
             "#9c179e"
            ],
            [
             0.4444444444444444,
             "#bd3786"
            ],
            [
             0.5555555555555556,
             "#d8576b"
            ],
            [
             0.6666666666666666,
             "#ed7953"
            ],
            [
             0.7777777777777778,
             "#fb9f3a"
            ],
            [
             0.8888888888888888,
             "#fdca26"
            ],
            [
             1,
             "#f0f921"
            ]
           ],
           "sequentialminus": [
            [
             0,
             "#0d0887"
            ],
            [
             0.1111111111111111,
             "#46039f"
            ],
            [
             0.2222222222222222,
             "#7201a8"
            ],
            [
             0.3333333333333333,
             "#9c179e"
            ],
            [
             0.4444444444444444,
             "#bd3786"
            ],
            [
             0.5555555555555556,
             "#d8576b"
            ],
            [
             0.6666666666666666,
             "#ed7953"
            ],
            [
             0.7777777777777778,
             "#fb9f3a"
            ],
            [
             0.8888888888888888,
             "#fdca26"
            ],
            [
             1,
             "#f0f921"
            ]
           ]
          },
          "colorway": [
           "#636efa",
           "#EF553B",
           "#00cc96",
           "#ab63fa",
           "#FFA15A",
           "#19d3f3",
           "#FF6692",
           "#B6E880",
           "#FF97FF",
           "#FECB52"
          ],
          "font": {
           "color": "#2a3f5f"
          },
          "geo": {
           "bgcolor": "white",
           "lakecolor": "white",
           "landcolor": "#E5ECF6",
           "showlakes": true,
           "showland": true,
           "subunitcolor": "white"
          },
          "hoverlabel": {
           "align": "left"
          },
          "hovermode": "closest",
          "mapbox": {
           "style": "light"
          },
          "paper_bgcolor": "white",
          "plot_bgcolor": "#E5ECF6",
          "polar": {
           "angularaxis": {
            "gridcolor": "white",
            "linecolor": "white",
            "ticks": ""
           },
           "bgcolor": "#E5ECF6",
           "radialaxis": {
            "gridcolor": "white",
            "linecolor": "white",
            "ticks": ""
           }
          },
          "scene": {
           "xaxis": {
            "backgroundcolor": "#E5ECF6",
            "gridcolor": "white",
            "gridwidth": 2,
            "linecolor": "white",
            "showbackground": true,
            "ticks": "",
            "zerolinecolor": "white"
           },
           "yaxis": {
            "backgroundcolor": "#E5ECF6",
            "gridcolor": "white",
            "gridwidth": 2,
            "linecolor": "white",
            "showbackground": true,
            "ticks": "",
            "zerolinecolor": "white"
           },
           "zaxis": {
            "backgroundcolor": "#E5ECF6",
            "gridcolor": "white",
            "gridwidth": 2,
            "linecolor": "white",
            "showbackground": true,
            "ticks": "",
            "zerolinecolor": "white"
           }
          },
          "shapedefaults": {
           "line": {
            "color": "#2a3f5f"
           }
          },
          "ternary": {
           "aaxis": {
            "gridcolor": "white",
            "linecolor": "white",
            "ticks": ""
           },
           "baxis": {
            "gridcolor": "white",
            "linecolor": "white",
            "ticks": ""
           },
           "bgcolor": "#E5ECF6",
           "caxis": {
            "gridcolor": "white",
            "linecolor": "white",
            "ticks": ""
           }
          },
          "title": {
           "x": 0.05
          },
          "xaxis": {
           "automargin": true,
           "gridcolor": "white",
           "linecolor": "white",
           "ticks": "",
           "title": {
            "standoff": 15
           },
           "zerolinecolor": "white",
           "zerolinewidth": 2
          },
          "yaxis": {
           "automargin": true,
           "gridcolor": "white",
           "linecolor": "white",
           "ticks": "",
           "title": {
            "standoff": 15
           },
           "zerolinecolor": "white",
           "zerolinewidth": 2
          }
         }
        },
        "title": {
         "font": {
          "color": "#4D5663"
         },
         "text": "Share price of companies"
        },
        "xaxis": {
         "gridcolor": "#E1E5ED",
         "showgrid": true,
         "tickfont": {
          "color": "#4D5663"
         },
         "title": {
          "font": {
           "color": "#4D5663"
          },
          "text": "Symbol"
         },
         "zerolinecolor": "#E1E5ED"
        },
        "yaxis": {
         "gridcolor": "#E1E5ED",
         "showgrid": true,
         "tickfont": {
          "color": "#4D5663"
         },
         "title": {
          "font": {
           "color": "#4D5663"
          },
          "text": "Price"
         },
         "zerolinecolor": "#E1E5ED"
        }
       }
      },
      "text/html": [
       "<div>                            <div id=\"1af76265-c60a-4c76-8a9d-6ab62754e525\" class=\"plotly-graph-div\" style=\"height:525px; width:100%;\"></div>            <script type=\"text/javascript\">                require([\"plotly\"], function(Plotly) {                    window.PLOTLYENV=window.PLOTLYENV || {};\n",
       "                    window.PLOTLYENV.BASE_URL='https://plot.ly';                                    if (document.getElementById(\"1af76265-c60a-4c76-8a9d-6ab62754e525\")) {                    Plotly.newPlot(                        \"1af76265-c60a-4c76-8a9d-6ab62754e525\",                        [{\"marker\": {\"color\": \"rgba(255, 153, 51, 1.0)\", \"line\": {\"width\": 1.3}, \"opacity\": 0.8, \"size\": 4, \"symbol\": \"circle\"}, \"mode\": \"markers\", \"name\": \"Industrials\", \"textfont\": {\"color\": \"#4D5663\"}, \"type\": \"scatter\", \"x\": [\"MMM\", \"AOS\", \"AYI\", \"ALK\", \"ALLE\", \"AAL\", \"AME\", \"BA\", \"CHRW\", \"CAT\", \"CTAS\", \"CSX\", \"CMI\", \"DE\", \"DAL\", \"DOV\", \"ETN\", \"EMR\", \"EFX\", \"EXPD\", \"FAST\", \"FDX\", \"FLS\", \"FLR\", \"FTV\", \"FBHS\", \"GD\", \"GE\", \"GWW\", \"HON\", \"HII\", \"INFO\", \"ITW\", \"IR\", \"JBHT\", \"JEC\", \"JCI\", \"KSU\", \"LLL\", \"LMT\", \"MAS\", \"NLSN\", \"NSC\", \"NOC\", \"PCAR\", \"PH\", \"PNR\", \"PWR\", \"RTN\", \"RSG\", \"RHI\", \"ROK\", \"COL\", \"ROP\", \"LUV\", \"SRCL\", \"TXT\", \"UAL\", \"UPS\", \"URI\", \"UTX\", \"VRSK\", \"WM\", \"XYL\"], \"y\": [222.89, 60.24, 145.41, 64.04, 77.32, 48.6, 72.05, 329.66, 90.47, 145.99, 149.32, 50.47, 165.73, 153.66, 51.23, 96.2, 79.41, 66.4, 114.0, 60.36, 52.15, 239.27, 40.82, 55.31, 69.14, 62.44, 206.05, 14.45, 258.6, 146.02, 225.37, 43.73, 156.15, 87.6, 114.81, 62.82, 36.55, 103.53, 198.79, 334.3, 40.7, 33.9, 136.89, 324.01, 66.98, 174.51, 66.67, 33.51, 198.74, 62.72, 52.26, 178.73, 133.31, 259.4, 55.63, 70.55, 55.54, 63.37, 109.28, 161.99, 127.48, 92.28, 79.12, 70.24]}, {\"marker\": {\"color\": \"rgba(55, 128, 191, 1.0)\", \"line\": {\"width\": 1.3}, \"opacity\": 0.8, \"size\": 4, \"symbol\": \"circle\"}, \"mode\": \"markers\", \"name\": \"Health Care\", \"textfont\": {\"color\": \"#4D5663\"}, \"type\": \"scatter\", \"x\": [\"ABT\", \"ABBV\", \"AET\", \"A\", \"ALXN\", \"ALGN\", \"AGN\", \"ABC\", \"AMGN\", \"ANTM\", \"BAX\", \"BDX\", \"BIIB\", \"BSX\", \"BMY\", \"CAH\", \"CELG\", \"CNC\", \"CERN\", \"CI\", \"DHR\", \"DVA\", \"XRAY\", \"EW\", \"EVHC\", \"ESRX\", \"GILD\", \"HSIC\", \"HOLX\", \"HUM\", \"IDXX\", \"ILMN\", \"INCY\", \"ISRG\", \"IQV\", \"JNJ\", \"LH\", \"LLY\", \"MCK\", \"MDT\", \"MRK\", \"MTD\", \"MYL\", \"PDCO\", \"PKI\", \"PFE\", \"DGX\", \"REGN\", \"RMD\", \"SYK\", \"COO\", \"TMO\", \"UNH\", \"UHS\", \"VAR\", \"VRTX\", \"WAT\", \"ZBH\", \"ZTS\"], \"y\": [56.27, 108.48, 178.0, 65.05, 108.47, 220.71, 164.2, 91.55, 173.12, 230.57, 62.56, 211.44, 311.79, 25.2, 62.69, 66.63, 91.02, 100.36, 61.22, 189.27, 92.16, 71.91, 56.85, 123.78, 35.34, 73.35, 78.22, 70.85, 38.8, 262.37, 169.28, 209.54, 83.92, 381.87, 95.23, 126.36, 165.46, 74.21, 150.23, 78.38, 54.73, 601.0, 39.25, 32.88, 72.06, 33.63, 96.42, 322.62, 89.26, 148.01, 223.17, 198.73, 216.46, 114.87, 112.82, 151.6, 191.79, 115.53, 71.51]}, {\"marker\": {\"color\": \"rgba(50, 171, 96, 1.0)\", \"line\": {\"width\": 1.3}, \"opacity\": 0.8, \"size\": 4, \"symbol\": \"circle\"}, \"mode\": \"markers\", \"name\": \"Information Technology\", \"textfont\": {\"color\": \"#4D5663\"}, \"type\": \"scatter\", \"x\": [\"ACN\", \"ATVI\", \"ADBE\", \"AMD\", \"AKAM\", \"ADS\", \"GOOGL\", \"GOOG\", \"APH\", \"ADI\", \"ANSS\", \"AAPL\", \"AMAT\", \"ADSK\", \"ADP\", \"AVGO\", \"CA\", \"CDNS\", \"CSCO\", \"CTXS\", \"CTSH\", \"GLW\", \"CSRA\", \"DXC\", \"EBAY\", \"EA\", \"FFIV\", \"FB\", \"FIS\", \"FISV\", \"FLIR\", \"IT\", \"GPN\", \"HRS\", \"HPE\", \"HPQ\", \"INTC\", \"IBM\", \"INTU\", \"JNPR\", \"KLAC\", \"LRCX\", \"MA\", \"MCHP\", \"MU\", \"MSFT\", \"MSI\", \"NTAP\", \"NFLX\", \"NVDA\", \"ORCL\", \"PAYX\", \"PYPL\", \"QRVO\", \"QCOM\", \"RHT\", \"CRM\", \"STX\", \"SWKS\", \"SYMC\", \"SNPS\", \"TEL\", \"TXN\", \"TSS\", \"VRSN\", \"V\", \"WDC\", \"WU\", \"XRX\", \"XLNX\"], \"y\": [150.51, 65.83, 185.16, 11.22, 62.49, 240.6, 1007.71, 1001.52, 84.44, 82.68, 148.84, 155.15, 45.75, 104.81, 108.25, 229.57, 32.66, 36.82, 38.77, 84.53, 75.16, 28.45, 30.85, 91.92, 41.02, 116.54, 137.25, 171.58, 92.74, 133.05, 46.46, 114.26, 100.59, 149.84, 15.04, 19.92, 42.75, 147.59, 152.75, 24.66, 98.54, 162.23, 160.62, 79.9, 40.0, 85.01, 98.74, 55.85, 250.1, 217.52, 46.84, 61.86, 72.32, 76.85, 62.42, 124.65, 104.03, 47.44, 99.04, 25.59, 82.62, 95.27, 97.66, 81.17, 105.62, 113.86, 80.09, 18.81, 29.8, 62.82]}, {\"marker\": {\"color\": \"rgba(128, 0, 128, 1.0)\", \"line\": {\"width\": 1.3}, \"opacity\": 0.8, \"size\": 4, \"symbol\": \"circle\"}, \"mode\": \"markers\", \"name\": \"Consumer Discretionary\", \"textfont\": {\"color\": \"#4D5663\"}, \"type\": \"scatter\", \"x\": [\"AAP\", \"AMZN\", \"APTV\", \"AZO\", \"BBY\", \"BWA\", \"KMX\", \"CCL\", \"CBS\", \"CHTR\", \"CMG\", \"CMCSA\", \"DHI\", \"DRI\", \"DISCA\", \"DISCK\", \"DISH\", \"DG\", \"DLTR\", \"EXPE\", \"F\", \"GPS\", \"GRMN\", \"GM\", \"GPC\", \"GT\", \"HBI\", \"HOG\", \"HAS\", \"HLT\", \"HD\", \"IPG\", \"KSS\", \"LB\", \"LEG\", \"LEN\", \"LKQ\", \"LOW\", \"M\", \"MAR\", \"MAT\", \"MCD\", \"MGM\", \"KORS\", \"MHK\", \"NWL\", \"NWSA\", \"NWS\", \"NKE\", \"JWN\", \"NCLH\", \"ORLY\", \"OMC\", \"RL\", \"PCLN\", \"PHM\", \"PVH\", \"ROST\", \"RCL\", \"SNI\", \"SIG\", \"SNA\", \"SWK\", \"SBUX\", \"TGT\", \"DIS\", \"TIF\", \"TWX\", \"TJX\", \"TSCO\", \"TRIP\", \"FOXA\", \"FOX\", \"ULTA\", \"UAA\", \"UA\", \"VFC\", \"VIAB\", \"WHR\", \"WYN\", \"WYNN\", \"YUM\"], \"y\": [109.63, 1350.5, 89.27, 718.57, 68.79, 51.94, 64.34, 66.76, 51.8, 348.65, 266.01, 38.19, 44.55, 91.33, 22.87, 21.58, 43.77, 95.1, 101.58, 123.03, 10.43, 31.17, 61.13, 40.75, 96.31, 30.75, 19.57, 47.54, 96.48, 78.66, 181.22, 21.34, 60.34, 47.77, 43.99, 59.11, 38.86, 95.01, 24.0, 133.88, 16.0, 158.97, 33.5, 60.03, 256.57, 27.91, 15.65, 15.85, 62.49, 47.23, 56.01, 252.22, 75.91, 101.32, 1806.06, 28.67, 142.68, 75.06, 122.45, 86.46, 49.38, 156.72, 152.86, 53.77, 71.11, 101.35, 99.62, 93.02, 74.36, 65.94, 40.05, 34.56, 34.09, 209.09, 13.14, 11.95, 78.75, 32.71, 164.95, 113.56, 169.28, 76.3]}, {\"marker\": {\"color\": \"rgba(219, 64, 82, 1.0)\", \"line\": {\"width\": 1.3}, \"opacity\": 0.8, \"size\": 4, \"symbol\": \"circle\"}, \"mode\": \"markers\", \"name\": \"Utilities\", \"textfont\": {\"color\": \"#4D5663\"}, \"type\": \"scatter\", \"x\": [\"AES\", \"LNT\", \"AEE\", \"AEP\", \"AWK\", \"CNP\", \"CMS\", \"ED\", \"D\", \"DTE\", \"DUK\", \"EIX\", \"ETR\", \"ES\", \"EXC\", \"FE\", \"NEE\", \"NI\", \"NRG\", \"PCG\", \"PNW\", \"PPL\", \"PEG\", \"SCG\", \"SRE\", \"SO\", \"WEC\", \"XEL\"], \"y\": [10.06, 37.14, 52.59, 63.38, 76.06, 25.85, 41.77, 74.73, 73.31, 98.49, 74.32, 58.07, 72.02, 56.11, 35.98, 30.64, 145.29, 22.51, 24.0, 38.24, 74.34, 29.52, 46.73, 35.6, 103.36, 43.4, 59.5, 42.44]}, {\"marker\": {\"color\": \"rgba(0, 128, 128, 1.0)\", \"line\": {\"width\": 1.3}, \"opacity\": 0.8, \"size\": 4, \"symbol\": \"circle\"}, \"mode\": \"markers\", \"name\": \"Financials\", \"textfont\": {\"color\": \"#4D5663\"}, \"type\": \"scatter\", \"x\": [\"AMG\", \"AFL\", \"ALL\", \"AXP\", \"AIG\", \"AMP\", \"AON\", \"AJG\", \"AIZ\", \"BAC\", \"BBT\", \"BRK.B\", \"BLK\", \"HRB\", \"BHF\", \"COF\", \"CBOE\", \"SCHW\", \"CB\", \"CINF\", \"C\", \"CFG\", \"CME\", \"CMA\", \"DFS\", \"ETFC\", \"RE\", \"FITB\", \"BEN\", \"GS\", \"HIG\", \"HBAN\", \"ICE\", \"IVZ\", \"JPM\", \"KEY\", \"LUK\", \"LNC\", \"L\", \"MTB\", \"MMC\", \"MET\", \"MCO\", \"MS\", \"NDAQ\", \"NAVI\", \"NTRS\", \"PBCT\", \"PNC\", \"PFG\", \"PGR\", \"PRU\", \"RJF\", \"RF\", \"SPGI\", \"STT\", \"STI\", \"SYF\", \"TROW\", \"BK\", \"TRV\", \"TMK\", \"USB\", \"UNM\", \"WFC\", \"WLTW\", \"XL\", \"ZION\"], \"y\": [179.11, 83.25, 90.06, 88.34, 58.28, 152.5, 136.05, 64.4, 85.16, 29.74, 51.07, 191.42, 509.38, 25.19, 55.44, 91.8, 111.15, 48.9, 140.39, 70.34, 71.87, 42.19, 153.04, 89.18, 72.4, 48.48, 241.06, 31.1, 38.0, 246.35, 53.34, 15.1, 67.0, 31.92, 107.88, 20.08, 23.86, 73.86, 46.05, 178.35, 79.31, 44.28, 152.14, 51.79, 75.21, 13.38, 96.2, 18.56, 149.38, 60.38, 51.07, 103.38, 86.06, 17.9, 173.31, 98.54, 65.8, 34.98, 101.99, 53.29, 135.01, 80.52, 52.65, 47.87, 55.4, 152.36, 41.26, 50.71]}, {\"marker\": {\"color\": \"rgba(255, 255, 51, 1.0)\", \"line\": {\"width\": 1.3}, \"opacity\": 0.8, \"size\": 4, \"symbol\": \"circle\"}, \"mode\": \"markers\", \"name\": \"Materials\", \"textfont\": {\"color\": \"#4D5663\"}, \"type\": \"scatter\", \"x\": [\"APD\", \"ALB\", \"AVY\", \"BLL\", \"CF\", \"DWDP\", \"EMN\", \"ECL\", \"FMC\", \"FCX\", \"IP\", \"IFF\", \"LYB\", \"MLM\", \"MON\", \"NEM\", \"NUE\", \"PKG\", \"PPG\", \"PX\", \"SEE\", \"SHW\", \"MOS\", \"VMC\", \"WRK\"], \"y\": [152.8, 105.18, 110.77, 38.44, 37.46, 68.21, 93.57, 127.76, 80.87, 17.16, 56.05, 138.0, 105.79, 208.42, 119.08, 36.61, 60.38, 111.95, 110.3, 144.07, 42.62, 387.65, 24.13, 121.47, 60.93]}, {\"marker\": {\"color\": \"rgba(128, 128, 0, 1.0)\", \"line\": {\"width\": 1.3}, \"opacity\": 0.8, \"size\": 4, \"symbol\": \"circle\"}, \"mode\": \"markers\", \"name\": \"Real Estate\", \"textfont\": {\"color\": \"#4D5663\"}, \"type\": \"scatter\", \"x\": [\"ARE\", \"AMT\", \"AIV\", \"AVB\", \"BXP\", \"CBG\", \"CCI\", \"DLR\", \"DRE\", \"EQIX\", \"EQR\", \"ESS\", \"EXR\", \"FRT\", \"GGP\", \"HCP\", \"HST\", \"IRM\", \"KIM\", \"MAC\", \"MAA\", \"PLD\", \"PSA\", \"O\", \"REG\", \"SBAC\", \"SPG\", \"SLG\", \"UDR\", \"VTR\", \"VNO\", \"HCN\", \"WY\"], \"y\": [114.58, 133.57, 38.21, 154.94, 112.09, 41.92, 103.81, 98.96, 24.52, 409.98, 55.26, 218.28, 77.56, 108.11, 21.62, 22.64, 18.75, 32.07, 14.01, 58.36, 85.39, 58.33, 180.49, 47.56, 55.58, 159.85, 152.18, 90.61, 32.92, 50.92, 66.18, 54.67, 33.6]}, {\"marker\": {\"color\": \"rgba(251, 128, 114, 1.0)\", \"line\": {\"width\": 1.3}, \"opacity\": 0.8, \"size\": 4, \"symbol\": \"circle\"}, \"mode\": \"markers\", \"name\": \"Consumer Staples\", \"textfont\": {\"color\": \"#4D5663\"}, \"type\": \"scatter\", \"x\": [\"MO\", \"ADM\", \"BF.B\", \"CPB\", \"CHD\", \"KO\", \"CL\", \"CAG\", \"STZ\", \"COST\", \"COTY\", \"CVS\", \"DPS\", \"EL\", \"GIS\", \"HRL\", \"SJM\", \"K\", \"KMB\", \"KHC\", \"KR\", \"MKC\", \"TAP\", \"MDLZ\", \"MNST\", \"PM\", \"PG\", \"SYY\", \"CLX\", \"HSY\", \"TSN\", \"WMT\", \"WBA\"], \"y\": [64.05, 41.35, 63.33, 44.83, 47.38, 43.1, 68.95, 35.49, 208.73, 178.61, 19.96, 70.55, 116.93, 131.46, 53.99, 32.21, 118.37, 65.98, 111.69, 71.58, 27.57, 101.36, 74.51, 42.68, 61.99, 100.39, 80.22, 57.0, 127.76, 97.65, 73.92, 100.02, 68.22]}, {\"marker\": {\"color\": \"rgba(128, 177, 211, 1.0)\", \"line\": {\"width\": 1.3}, \"opacity\": 0.8, \"size\": 4, \"symbol\": \"circle\"}, \"mode\": \"markers\", \"name\": \"Energy\", \"textfont\": {\"color\": \"#4D5663\"}, \"type\": \"scatter\", \"x\": [\"APC\", \"ANDV\", \"APA\", \"BHGE\", \"COG\", \"CHK\", \"CVX\", \"XEC\", \"CXO\", \"COP\", \"DVN\", \"EOG\", \"EQT\", \"XOM\", \"HAL\", \"HP\", \"HES\", \"KMI\", \"MPC\", \"NOV\", \"NFX\", \"NBL\", \"OKE\", \"PSX\", \"PXD\", \"RRC\", \"SLB\", \"FTI\", \"VLO\", \"WMB\"], \"y\": [56.2, 96.9, 37.73, 27.5, 23.01, 2.82, 112.3, 100.19, 140.09, 53.24, 34.94, 101.04, 46.25, 76.07, 47.41, 64.87, 43.0, 16.8, 62.79, 32.64, 26.38, 25.43, 54.4, 92.44, 169.16, 12.82, 67.4, 29.1, 86.77, 28.56]}, {\"marker\": {\"color\": \"rgba(128, 177, 211, 0.8999999999999999)\", \"line\": {\"width\": 1.3}, \"opacity\": 0.8, \"size\": 4, \"symbol\": \"circle\"}, \"mode\": \"markers\", \"name\": \"Telecommunication Services\", \"textfont\": {\"color\": \"#4D5663\"}, \"type\": \"scatter\", \"x\": [\"T\", \"CTL\", \"VZ\"], \"y\": [35.57, 16.2, 49.04]}],                        {\"legend\": {\"bgcolor\": \"#F5F6F9\", \"font\": {\"color\": \"#4D5663\"}}, \"paper_bgcolor\": \"#F5F6F9\", \"plot_bgcolor\": \"#F5F6F9\", \"template\": {\"data\": {\"bar\": [{\"error_x\": {\"color\": \"#2a3f5f\"}, \"error_y\": {\"color\": \"#2a3f5f\"}, \"marker\": {\"line\": {\"color\": \"#E5ECF6\", \"width\": 0.5}}, \"type\": \"bar\"}], \"barpolar\": [{\"marker\": {\"line\": {\"color\": \"#E5ECF6\", \"width\": 0.5}}, \"type\": \"barpolar\"}], \"carpet\": [{\"aaxis\": {\"endlinecolor\": \"#2a3f5f\", \"gridcolor\": \"white\", \"linecolor\": \"white\", \"minorgridcolor\": \"white\", \"startlinecolor\": \"#2a3f5f\"}, \"baxis\": {\"endlinecolor\": \"#2a3f5f\", \"gridcolor\": \"white\", \"linecolor\": \"white\", \"minorgridcolor\": \"white\", \"startlinecolor\": \"#2a3f5f\"}, \"type\": \"carpet\"}], \"choropleth\": [{\"colorbar\": {\"outlinewidth\": 0, \"ticks\": \"\"}, \"type\": \"choropleth\"}], \"contour\": [{\"colorbar\": {\"outlinewidth\": 0, \"ticks\": \"\"}, \"colorscale\": [[0.0, \"#0d0887\"], [0.1111111111111111, \"#46039f\"], [0.2222222222222222, \"#7201a8\"], [0.3333333333333333, \"#9c179e\"], [0.4444444444444444, \"#bd3786\"], [0.5555555555555556, \"#d8576b\"], [0.6666666666666666, \"#ed7953\"], [0.7777777777777778, \"#fb9f3a\"], [0.8888888888888888, \"#fdca26\"], [1.0, \"#f0f921\"]], \"type\": \"contour\"}], \"contourcarpet\": [{\"colorbar\": {\"outlinewidth\": 0, \"ticks\": \"\"}, \"type\": \"contourcarpet\"}], \"heatmap\": [{\"colorbar\": {\"outlinewidth\": 0, \"ticks\": \"\"}, \"colorscale\": [[0.0, \"#0d0887\"], [0.1111111111111111, \"#46039f\"], [0.2222222222222222, \"#7201a8\"], [0.3333333333333333, \"#9c179e\"], [0.4444444444444444, \"#bd3786\"], [0.5555555555555556, \"#d8576b\"], [0.6666666666666666, \"#ed7953\"], [0.7777777777777778, \"#fb9f3a\"], [0.8888888888888888, \"#fdca26\"], [1.0, \"#f0f921\"]], \"type\": \"heatmap\"}], \"heatmapgl\": [{\"colorbar\": {\"outlinewidth\": 0, \"ticks\": \"\"}, \"colorscale\": [[0.0, \"#0d0887\"], [0.1111111111111111, \"#46039f\"], [0.2222222222222222, \"#7201a8\"], [0.3333333333333333, \"#9c179e\"], [0.4444444444444444, \"#bd3786\"], [0.5555555555555556, \"#d8576b\"], [0.6666666666666666, \"#ed7953\"], [0.7777777777777778, \"#fb9f3a\"], [0.8888888888888888, \"#fdca26\"], [1.0, \"#f0f921\"]], \"type\": \"heatmapgl\"}], \"histogram\": [{\"marker\": {\"colorbar\": {\"outlinewidth\": 0, \"ticks\": \"\"}}, \"type\": \"histogram\"}], \"histogram2d\": [{\"colorbar\": {\"outlinewidth\": 0, \"ticks\": \"\"}, \"colorscale\": [[0.0, \"#0d0887\"], [0.1111111111111111, \"#46039f\"], [0.2222222222222222, \"#7201a8\"], [0.3333333333333333, \"#9c179e\"], [0.4444444444444444, \"#bd3786\"], [0.5555555555555556, \"#d8576b\"], [0.6666666666666666, \"#ed7953\"], [0.7777777777777778, \"#fb9f3a\"], [0.8888888888888888, \"#fdca26\"], [1.0, \"#f0f921\"]], \"type\": \"histogram2d\"}], \"histogram2dcontour\": [{\"colorbar\": {\"outlinewidth\": 0, \"ticks\": \"\"}, \"colorscale\": [[0.0, \"#0d0887\"], [0.1111111111111111, \"#46039f\"], [0.2222222222222222, \"#7201a8\"], [0.3333333333333333, \"#9c179e\"], [0.4444444444444444, \"#bd3786\"], [0.5555555555555556, \"#d8576b\"], [0.6666666666666666, \"#ed7953\"], [0.7777777777777778, \"#fb9f3a\"], [0.8888888888888888, \"#fdca26\"], [1.0, \"#f0f921\"]], \"type\": \"histogram2dcontour\"}], \"mesh3d\": [{\"colorbar\": {\"outlinewidth\": 0, \"ticks\": \"\"}, \"type\": \"mesh3d\"}], \"parcoords\": [{\"line\": {\"colorbar\": {\"outlinewidth\": 0, \"ticks\": \"\"}}, \"type\": \"parcoords\"}], \"pie\": [{\"automargin\": true, \"type\": \"pie\"}], \"scatter\": [{\"marker\": {\"colorbar\": {\"outlinewidth\": 0, \"ticks\": \"\"}}, \"type\": \"scatter\"}], \"scatter3d\": [{\"line\": {\"colorbar\": {\"outlinewidth\": 0, \"ticks\": \"\"}}, \"marker\": {\"colorbar\": {\"outlinewidth\": 0, \"ticks\": \"\"}}, \"type\": \"scatter3d\"}], \"scattercarpet\": [{\"marker\": {\"colorbar\": {\"outlinewidth\": 0, \"ticks\": \"\"}}, \"type\": \"scattercarpet\"}], \"scattergeo\": [{\"marker\": {\"colorbar\": {\"outlinewidth\": 0, \"ticks\": \"\"}}, \"type\": \"scattergeo\"}], \"scattergl\": [{\"marker\": {\"colorbar\": {\"outlinewidth\": 0, \"ticks\": \"\"}}, \"type\": \"scattergl\"}], \"scattermapbox\": [{\"marker\": {\"colorbar\": {\"outlinewidth\": 0, \"ticks\": \"\"}}, \"type\": \"scattermapbox\"}], \"scatterpolar\": [{\"marker\": {\"colorbar\": {\"outlinewidth\": 0, \"ticks\": \"\"}}, \"type\": \"scatterpolar\"}], \"scatterpolargl\": [{\"marker\": {\"colorbar\": {\"outlinewidth\": 0, \"ticks\": \"\"}}, \"type\": \"scatterpolargl\"}], \"scatterternary\": [{\"marker\": {\"colorbar\": {\"outlinewidth\": 0, \"ticks\": \"\"}}, \"type\": \"scatterternary\"}], \"surface\": [{\"colorbar\": {\"outlinewidth\": 0, \"ticks\": \"\"}, \"colorscale\": [[0.0, \"#0d0887\"], [0.1111111111111111, \"#46039f\"], [0.2222222222222222, \"#7201a8\"], [0.3333333333333333, \"#9c179e\"], [0.4444444444444444, \"#bd3786\"], [0.5555555555555556, \"#d8576b\"], [0.6666666666666666, \"#ed7953\"], [0.7777777777777778, \"#fb9f3a\"], [0.8888888888888888, \"#fdca26\"], [1.0, \"#f0f921\"]], \"type\": \"surface\"}], \"table\": [{\"cells\": {\"fill\": {\"color\": \"#EBF0F8\"}, \"line\": {\"color\": \"white\"}}, \"header\": {\"fill\": {\"color\": \"#C8D4E3\"}, \"line\": {\"color\": \"white\"}}, \"type\": \"table\"}]}, \"layout\": {\"annotationdefaults\": {\"arrowcolor\": \"#2a3f5f\", \"arrowhead\": 0, \"arrowwidth\": 1}, \"autotypenumbers\": \"strict\", \"coloraxis\": {\"colorbar\": {\"outlinewidth\": 0, \"ticks\": \"\"}}, \"colorscale\": {\"diverging\": [[0, \"#8e0152\"], [0.1, \"#c51b7d\"], [0.2, \"#de77ae\"], [0.3, \"#f1b6da\"], [0.4, \"#fde0ef\"], [0.5, \"#f7f7f7\"], [0.6, \"#e6f5d0\"], [0.7, \"#b8e186\"], [0.8, \"#7fbc41\"], [0.9, \"#4d9221\"], [1, \"#276419\"]], \"sequential\": [[0.0, \"#0d0887\"], [0.1111111111111111, \"#46039f\"], [0.2222222222222222, \"#7201a8\"], [0.3333333333333333, \"#9c179e\"], [0.4444444444444444, \"#bd3786\"], [0.5555555555555556, \"#d8576b\"], [0.6666666666666666, \"#ed7953\"], [0.7777777777777778, \"#fb9f3a\"], [0.8888888888888888, \"#fdca26\"], [1.0, \"#f0f921\"]], \"sequentialminus\": [[0.0, \"#0d0887\"], [0.1111111111111111, \"#46039f\"], [0.2222222222222222, \"#7201a8\"], [0.3333333333333333, \"#9c179e\"], [0.4444444444444444, \"#bd3786\"], [0.5555555555555556, \"#d8576b\"], [0.6666666666666666, \"#ed7953\"], [0.7777777777777778, \"#fb9f3a\"], [0.8888888888888888, \"#fdca26\"], [1.0, \"#f0f921\"]]}, \"colorway\": [\"#636efa\", \"#EF553B\", \"#00cc96\", \"#ab63fa\", \"#FFA15A\", \"#19d3f3\", \"#FF6692\", \"#B6E880\", \"#FF97FF\", \"#FECB52\"], \"font\": {\"color\": \"#2a3f5f\"}, \"geo\": {\"bgcolor\": \"white\", \"lakecolor\": \"white\", \"landcolor\": \"#E5ECF6\", \"showlakes\": true, \"showland\": true, \"subunitcolor\": \"white\"}, \"hoverlabel\": {\"align\": \"left\"}, \"hovermode\": \"closest\", \"mapbox\": {\"style\": \"light\"}, \"paper_bgcolor\": \"white\", \"plot_bgcolor\": \"#E5ECF6\", \"polar\": {\"angularaxis\": {\"gridcolor\": \"white\", \"linecolor\": \"white\", \"ticks\": \"\"}, \"bgcolor\": \"#E5ECF6\", \"radialaxis\": {\"gridcolor\": \"white\", \"linecolor\": \"white\", \"ticks\": \"\"}}, \"scene\": {\"xaxis\": {\"backgroundcolor\": \"#E5ECF6\", \"gridcolor\": \"white\", \"gridwidth\": 2, \"linecolor\": \"white\", \"showbackground\": true, \"ticks\": \"\", \"zerolinecolor\": \"white\"}, \"yaxis\": {\"backgroundcolor\": \"#E5ECF6\", \"gridcolor\": \"white\", \"gridwidth\": 2, \"linecolor\": \"white\", \"showbackground\": true, \"ticks\": \"\", \"zerolinecolor\": \"white\"}, \"zaxis\": {\"backgroundcolor\": \"#E5ECF6\", \"gridcolor\": \"white\", \"gridwidth\": 2, \"linecolor\": \"white\", \"showbackground\": true, \"ticks\": \"\", \"zerolinecolor\": \"white\"}}, \"shapedefaults\": {\"line\": {\"color\": \"#2a3f5f\"}}, \"ternary\": {\"aaxis\": {\"gridcolor\": \"white\", \"linecolor\": \"white\", \"ticks\": \"\"}, \"baxis\": {\"gridcolor\": \"white\", \"linecolor\": \"white\", \"ticks\": \"\"}, \"bgcolor\": \"#E5ECF6\", \"caxis\": {\"gridcolor\": \"white\", \"linecolor\": \"white\", \"ticks\": \"\"}}, \"title\": {\"x\": 0.05}, \"xaxis\": {\"automargin\": true, \"gridcolor\": \"white\", \"linecolor\": \"white\", \"ticks\": \"\", \"title\": {\"standoff\": 15}, \"zerolinecolor\": \"white\", \"zerolinewidth\": 2}, \"yaxis\": {\"automargin\": true, \"gridcolor\": \"white\", \"linecolor\": \"white\", \"ticks\": \"\", \"title\": {\"standoff\": 15}, \"zerolinecolor\": \"white\", \"zerolinewidth\": 2}}}, \"title\": {\"font\": {\"color\": \"#4D5663\"}, \"text\": \"Share price of companies\"}, \"xaxis\": {\"gridcolor\": \"#E1E5ED\", \"showgrid\": true, \"tickfont\": {\"color\": \"#4D5663\"}, \"title\": {\"font\": {\"color\": \"#4D5663\"}, \"text\": \"Symbol\"}, \"zerolinecolor\": \"#E1E5ED\"}, \"yaxis\": {\"gridcolor\": \"#E1E5ED\", \"showgrid\": true, \"tickfont\": {\"color\": \"#4D5663\"}, \"title\": {\"font\": {\"color\": \"#4D5663\"}, \"text\": \"Price\"}, \"zerolinecolor\": \"#E1E5ED\"}},                        {\"showLink\": true, \"linkText\": \"Export to plot.ly\", \"plotlyServerURL\": \"https://plot.ly\", \"responsive\": true}                    ).then(function(){\n",
       "                            \n",
       "var gd = document.getElementById('1af76265-c60a-4c76-8a9d-6ab62754e525');\n",
       "var x = new MutationObserver(function (mutations, observer) {{\n",
       "        var display = window.getComputedStyle(gd).display;\n",
       "        if (!display || display === 'none') {{\n",
       "            console.log([gd, 'removed!']);\n",
       "            Plotly.purge(gd);\n",
       "            observer.disconnect();\n",
       "        }}\n",
       "}});\n",
       "\n",
       "// Listen for the removal of the full notebook cells\n",
       "var notebookContainer = gd.closest('#notebook-container');\n",
       "if (notebookContainer) {{\n",
       "    x.observe(notebookContainer, {childList: true});\n",
       "}}\n",
       "\n",
       "// Listen for the clearing of the current output cell\n",
       "var outputEl = gd.closest('.output');\n",
       "if (outputEl) {{\n",
       "    x.observe(outputEl, {childList: true});\n",
       "}}\n",
       "\n",
       "                        })                };                });            </script>        </div>"
      ]
     },
     "metadata": {},
     "output_type": "display_data"
    }
   ],
   "source": [
    "data.iplot(x='Symbol',y='Price',mode='markers',categories='Sector',\n",
    "          xTitle='Symbol',\n",
    "          yTitle='Price',\n",
    "           size=4,\n",
    "          title='Share price of companies',\n",
    "          );"
   ]
  },
  {
   "cell_type": "code",
   "execution_count": 298,
   "metadata": {},
   "outputs": [
    {
     "data": {
      "application/vnd.plotly.v1+json": {
       "config": {
        "plotlyServerURL": "https://plot.ly"
       },
       "data": [
        {
         "hovertemplate": "<b>%{hovertext}</b><br><br>Sector=Industrials<br>Symbol=%{x}<br>Price=%{y}<br>Market Cap=%{marker.size}<extra></extra>",
         "hovertext": [
          "3M Company",
          "A.O. Smith Corp",
          "Acuity Brands Inc",
          "Alaska Air Group Inc",
          "Allegion",
          "American Airlines Group",
          "AMETEK Inc",
          "Boeing Company",
          "C. H. Robinson Worldwide",
          "Caterpillar Inc.",
          "Cintas Corporation",
          "CSX Corp.",
          "Cummins Inc.",
          "Deere & Co.",
          "Delta Air Lines Inc.",
          "Dover Corp.",
          "Eaton Corporation",
          "Emerson Electric Company",
          "Equifax Inc.",
          "Expeditors International",
          "Fastenal Co",
          "FedEx Corporation",
          "Flowserve Corporation",
          "Fluor Corp.",
          "Fortive Corp",
          "Fortune Brands Home & Security",
          "General Dynamics",
          "General Electric",
          "Grainger (W.W.) Inc.",
          "Honeywell Int'l Inc.",
          "Huntington Ingalls Industries",
          "IHS Markit Ltd.",
          "Illinois Tool Works",
          "Ingersoll-Rand PLC",
          "J. B. Hunt Transport Services",
          "Jacobs Engineering Group",
          "Johnson Controls International",
          "Kansas City Southern",
          "L-3 Communications Holdings",
          "Lockheed Martin Corp.",
          "Masco Corp.",
          "Nielsen Holdings",
          "Norfolk Southern Corp.",
          "Northrop Grumman Corp.",
          "PACCAR Inc.",
          "Parker-Hannifin",
          "Pentair Ltd.",
          "Quanta Services Inc.",
          "Raytheon Co.",
          "Republic Services Inc",
          "Robert Half International",
          "Rockwell Automation Inc.",
          "Rockwell Collins",
          "Roper Technologies",
          "Southwest Airlines",
          "Stericycle Inc",
          "Textron Inc.",
          "United Continental Holdings",
          "United Parcel Service",
          "United Rentals, Inc.",
          "United Technologies",
          "Verisk Analytics",
          "Waste Management Inc.",
          "Xylem Inc."
         ],
         "ids": [
          "MMM",
          "AOS",
          "AYI",
          "ALK",
          "ALLE",
          "AAL",
          "AME",
          "BA",
          "CHRW",
          "CAT",
          "CTAS",
          "CSX",
          "CMI",
          "DE",
          "DAL",
          "DOV",
          "ETN",
          "EMR",
          "EFX",
          "EXPD",
          "FAST",
          "FDX",
          "FLS",
          "FLR",
          "FTV",
          "FBHS",
          "GD",
          "GE",
          "GWW",
          "HON",
          "HII",
          "INFO",
          "ITW",
          "IR",
          "JBHT",
          "JEC",
          "JCI",
          "KSU",
          "LLL",
          "LMT",
          "MAS",
          "NLSN",
          "NSC",
          "NOC",
          "PCAR",
          "PH",
          "PNR",
          "PWR",
          "RTN",
          "RSG",
          "RHI",
          "ROK",
          "COL",
          "ROP",
          "LUV",
          "SRCL",
          "TXT",
          "UAL",
          "UPS",
          "URI",
          "UTX",
          "VRSK",
          "WM",
          "XYL"
         ],
         "legendgroup": "Industrials",
         "marker": {
          "color": "#636efa",
          "size": [
           138721055226,
           10783419933,
           6242377704,
           7903173734,
           7599609494,
           24594852352,
           17139651923,
           205617405233,
           12932483889,
           91822049046,
           16676145923,
           47340511707,
           28669230787,
           52186628646,
           38393603535,
           15566645713,
           35961772000,
           44040298425,
           14121334618,
           11040678071,
           15311373377,
           67280478816,
           5427884956,
           7978485059,
           24916503061,
           9624169008,
           64180390701,
           132249296250,
           14639308205,
           114422168609,
           10628247899,
           17969275816,
           55994378108,
           22785450609,
           12945366350,
           9326484316,
           34822224800,
           11037040988,
           16229343134,
           98102120000,
           13428792315,
           13377670080,
           40543547441,
           58782413951,
           24152102921,
           24421668509,
           12466660892,
           5330131216,
           59066255840,
           21590903863,
           7047165475,
           24123216432,
           22197870556,
           27247789759,
           34351211637,
           6218560288,
           15254672353,
           19363059152,
           96436356833,
           14654954091,
           105387272474,
           15594677147,
           35488486675,
           12915021000
          ],
          "sizemode": "area",
          "sizeref": 899453371.1333333,
          "symbol": "circle"
         },
         "mode": "markers",
         "name": "Industrials",
         "orientation": "v",
         "showlegend": true,
         "type": "scatter",
         "x": [
          "MMM",
          "AOS",
          "AYI",
          "ALK",
          "ALLE",
          "AAL",
          "AME",
          "BA",
          "CHRW",
          "CAT",
          "CTAS",
          "CSX",
          "CMI",
          "DE",
          "DAL",
          "DOV",
          "ETN",
          "EMR",
          "EFX",
          "EXPD",
          "FAST",
          "FDX",
          "FLS",
          "FLR",
          "FTV",
          "FBHS",
          "GD",
          "GE",
          "GWW",
          "HON",
          "HII",
          "INFO",
          "ITW",
          "IR",
          "JBHT",
          "JEC",
          "JCI",
          "KSU",
          "LLL",
          "LMT",
          "MAS",
          "NLSN",
          "NSC",
          "NOC",
          "PCAR",
          "PH",
          "PNR",
          "PWR",
          "RTN",
          "RSG",
          "RHI",
          "ROK",
          "COL",
          "ROP",
          "LUV",
          "SRCL",
          "TXT",
          "UAL",
          "UPS",
          "URI",
          "UTX",
          "VRSK",
          "WM",
          "XYL"
         ],
         "xaxis": "x",
         "y": [
          222.89,
          60.24,
          145.41,
          64.04,
          77.32,
          48.6,
          72.05,
          329.66,
          90.47,
          145.99,
          149.32,
          50.47,
          165.73,
          153.66,
          51.23,
          96.2,
          79.41,
          66.4,
          114,
          60.36,
          52.15,
          239.27,
          40.82,
          55.31,
          69.14,
          62.44,
          206.05,
          14.45,
          258.6,
          146.02,
          225.37,
          43.73,
          156.15,
          87.6,
          114.81,
          62.82,
          36.55,
          103.53,
          198.79,
          334.3,
          40.7,
          33.9,
          136.89,
          324.01,
          66.98,
          174.51,
          66.67,
          33.51,
          198.74,
          62.72,
          52.26,
          178.73,
          133.31,
          259.4,
          55.63,
          70.55,
          55.54,
          63.37,
          109.28,
          161.99,
          127.48,
          92.28,
          79.12,
          70.24
         ],
         "yaxis": "y"
        }
       ],
       "frames": [
        {
         "data": [
          {
           "hovertemplate": "<b>%{hovertext}</b><br><br>Sector=Industrials<br>Symbol=%{x}<br>Price=%{y}<br>Market Cap=%{marker.size}<extra></extra>",
           "hovertext": [
            "3M Company",
            "A.O. Smith Corp",
            "Acuity Brands Inc",
            "Alaska Air Group Inc",
            "Allegion",
            "American Airlines Group",
            "AMETEK Inc",
            "Boeing Company",
            "C. H. Robinson Worldwide",
            "Caterpillar Inc.",
            "Cintas Corporation",
            "CSX Corp.",
            "Cummins Inc.",
            "Deere & Co.",
            "Delta Air Lines Inc.",
            "Dover Corp.",
            "Eaton Corporation",
            "Emerson Electric Company",
            "Equifax Inc.",
            "Expeditors International",
            "Fastenal Co",
            "FedEx Corporation",
            "Flowserve Corporation",
            "Fluor Corp.",
            "Fortive Corp",
            "Fortune Brands Home & Security",
            "General Dynamics",
            "General Electric",
            "Grainger (W.W.) Inc.",
            "Honeywell Int'l Inc.",
            "Huntington Ingalls Industries",
            "IHS Markit Ltd.",
            "Illinois Tool Works",
            "Ingersoll-Rand PLC",
            "J. B. Hunt Transport Services",
            "Jacobs Engineering Group",
            "Johnson Controls International",
            "Kansas City Southern",
            "L-3 Communications Holdings",
            "Lockheed Martin Corp.",
            "Masco Corp.",
            "Nielsen Holdings",
            "Norfolk Southern Corp.",
            "Northrop Grumman Corp.",
            "PACCAR Inc.",
            "Parker-Hannifin",
            "Pentair Ltd.",
            "Quanta Services Inc.",
            "Raytheon Co.",
            "Republic Services Inc",
            "Robert Half International",
            "Rockwell Automation Inc.",
            "Rockwell Collins",
            "Roper Technologies",
            "Southwest Airlines",
            "Stericycle Inc",
            "Textron Inc.",
            "United Continental Holdings",
            "United Parcel Service",
            "United Rentals, Inc.",
            "United Technologies",
            "Verisk Analytics",
            "Waste Management Inc.",
            "Xylem Inc."
           ],
           "ids": [
            "MMM",
            "AOS",
            "AYI",
            "ALK",
            "ALLE",
            "AAL",
            "AME",
            "BA",
            "CHRW",
            "CAT",
            "CTAS",
            "CSX",
            "CMI",
            "DE",
            "DAL",
            "DOV",
            "ETN",
            "EMR",
            "EFX",
            "EXPD",
            "FAST",
            "FDX",
            "FLS",
            "FLR",
            "FTV",
            "FBHS",
            "GD",
            "GE",
            "GWW",
            "HON",
            "HII",
            "INFO",
            "ITW",
            "IR",
            "JBHT",
            "JEC",
            "JCI",
            "KSU",
            "LLL",
            "LMT",
            "MAS",
            "NLSN",
            "NSC",
            "NOC",
            "PCAR",
            "PH",
            "PNR",
            "PWR",
            "RTN",
            "RSG",
            "RHI",
            "ROK",
            "COL",
            "ROP",
            "LUV",
            "SRCL",
            "TXT",
            "UAL",
            "UPS",
            "URI",
            "UTX",
            "VRSK",
            "WM",
            "XYL"
           ],
           "legendgroup": "Industrials",
           "marker": {
            "color": "#636efa",
            "size": [
             138721055226,
             10783419933,
             6242377704,
             7903173734,
             7599609494,
             24594852352,
             17139651923,
             205617405233,
             12932483889,
             91822049046,
             16676145923,
             47340511707,
             28669230787,
             52186628646,
             38393603535,
             15566645713,
             35961772000,
             44040298425,
             14121334618,
             11040678071,
             15311373377,
             67280478816,
             5427884956,
             7978485059,
             24916503061,
             9624169008,
             64180390701,
             132249296250,
             14639308205,
             114422168609,
             10628247899,
             17969275816,
             55994378108,
             22785450609,
             12945366350,
             9326484316,
             34822224800,
             11037040988,
             16229343134,
             98102120000,
             13428792315,
             13377670080,
             40543547441,
             58782413951,
             24152102921,
             24421668509,
             12466660892,
             5330131216,
             59066255840,
             21590903863,
             7047165475,
             24123216432,
             22197870556,
             27247789759,
             34351211637,
             6218560288,
             15254672353,
             19363059152,
             96436356833,
             14654954091,
             105387272474,
             15594677147,
             35488486675,
             12915021000
            ],
            "sizemode": "area",
            "sizeref": 899453371.1333333,
            "symbol": "circle"
           },
           "mode": "markers",
           "name": "Industrials",
           "orientation": "v",
           "showlegend": true,
           "type": "scatter",
           "x": [
            "MMM",
            "AOS",
            "AYI",
            "ALK",
            "ALLE",
            "AAL",
            "AME",
            "BA",
            "CHRW",
            "CAT",
            "CTAS",
            "CSX",
            "CMI",
            "DE",
            "DAL",
            "DOV",
            "ETN",
            "EMR",
            "EFX",
            "EXPD",
            "FAST",
            "FDX",
            "FLS",
            "FLR",
            "FTV",
            "FBHS",
            "GD",
            "GE",
            "GWW",
            "HON",
            "HII",
            "INFO",
            "ITW",
            "IR",
            "JBHT",
            "JEC",
            "JCI",
            "KSU",
            "LLL",
            "LMT",
            "MAS",
            "NLSN",
            "NSC",
            "NOC",
            "PCAR",
            "PH",
            "PNR",
            "PWR",
            "RTN",
            "RSG",
            "RHI",
            "ROK",
            "COL",
            "ROP",
            "LUV",
            "SRCL",
            "TXT",
            "UAL",
            "UPS",
            "URI",
            "UTX",
            "VRSK",
            "WM",
            "XYL"
           ],
           "xaxis": "x",
           "y": [
            222.89,
            60.24,
            145.41,
            64.04,
            77.32,
            48.6,
            72.05,
            329.66,
            90.47,
            145.99,
            149.32,
            50.47,
            165.73,
            153.66,
            51.23,
            96.2,
            79.41,
            66.4,
            114,
            60.36,
            52.15,
            239.27,
            40.82,
            55.31,
            69.14,
            62.44,
            206.05,
            14.45,
            258.6,
            146.02,
            225.37,
            43.73,
            156.15,
            87.6,
            114.81,
            62.82,
            36.55,
            103.53,
            198.79,
            334.3,
            40.7,
            33.9,
            136.89,
            324.01,
            66.98,
            174.51,
            66.67,
            33.51,
            198.74,
            62.72,
            52.26,
            178.73,
            133.31,
            259.4,
            55.63,
            70.55,
            55.54,
            63.37,
            109.28,
            161.99,
            127.48,
            92.28,
            79.12,
            70.24
           ],
           "yaxis": "y"
          }
         ],
         "name": "Industrials"
        },
        {
         "data": [
          {
           "hovertemplate": "<b>%{hovertext}</b><br><br>Sector=Health Care<br>Symbol=%{x}<br>Price=%{y}<br>Market Cap=%{marker.size}<extra></extra>",
           "hovertext": [
            "Abbott Laboratories",
            "AbbVie Inc.",
            "Aetna Inc",
            "Agilent Technologies Inc",
            "Alexion Pharmaceuticals",
            "Align Technology",
            "Allergan, Plc",
            "AmerisourceBergen Corp",
            "Amgen Inc",
            "Anthem Inc.",
            "Baxter International Inc.",
            "Becton Dickinson",
            "Biogen Inc.",
            "Boston Scientific",
            "Bristol-Myers Squibb",
            "Cardinal Health Inc.",
            "Celgene Corp.",
            "Centene Corporation",
            "Cerner",
            "CIGNA Corp.",
            "Danaher Corp.",
            "DaVita Inc.",
            "Dentsply Sirona",
            "Edwards Lifesciences",
            "Envision Healthcare",
            "Express Scripts",
            "Gilead Sciences",
            "Henry Schein",
            "Hologic",
            "Humana Inc.",
            "IDEXX Laboratories",
            "Illumina Inc",
            "Incyte",
            "Intuitive Surgical Inc.",
            "IQVIA Holdings Inc.",
            "Johnson & Johnson",
            "Laboratory Corp. of America Holding",
            "Lilly (Eli) & Co.",
            "McKesson Corp.",
            "Medtronic plc",
            "Merck & Co.",
            "Mettler Toledo",
            "Mylan N.V.",
            "Patterson Companies",
            "PerkinElmer",
            "Pfizer Inc.",
            "Quest Diagnostics",
            "Regeneron",
            "ResMed",
            "Stryker Corp.",
            "The Cooper Companies",
            "Thermo Fisher Scientific",
            "United Health Group Inc.",
            "Universal Health Services, Inc.",
            "Varian Medical Systems",
            "Vertex Pharmaceuticals Inc",
            "Waters Corporation",
            "Zimmer Biomet Holdings",
            "Zoetis"
           ],
           "ids": [
            "ABT",
            "ABBV",
            "AET",
            "A",
            "ALXN",
            "ALGN",
            "AGN",
            "ABC",
            "AMGN",
            "ANTM",
            "BAX",
            "BDX",
            "BIIB",
            "BSX",
            "BMY",
            "CAH",
            "CELG",
            "CNC",
            "CERN",
            "CI",
            "DHR",
            "DVA",
            "XRAY",
            "EW",
            "EVHC",
            "ESRX",
            "GILD",
            "HSIC",
            "HOLX",
            "HUM",
            "IDXX",
            "ILMN",
            "INCY",
            "ISRG",
            "IQV",
            "JNJ",
            "LH",
            "LLY",
            "MCK",
            "MDT",
            "MRK",
            "MTD",
            "MYL",
            "PDCO",
            "PKI",
            "PFE",
            "DGX",
            "REGN",
            "RMD",
            "SYK",
            "COO",
            "TMO",
            "UNH",
            "UHS",
            "VAR",
            "VRTX",
            "WAT",
            "ZBH",
            "ZTS"
           ],
           "legendgroup": "Health Care",
           "marker": {
            "color": "#EF553B",
            "size": [
             102121042306,
             181386347059,
             59197016353,
             21984606918,
             26172439795,
             18788041378,
             56668833898,
             20587704101,
             128133340000,
             61221978627,
             35713732553,
             50910180308,
             69157726427,
             36142506007,
             102506501960,
             20493281175,
             74921079154,
             18012494506,
             21101697598,
             47680910480,
             66351150000,
             13685178000,
             13390513478,
             27447099863,
             4212729247,
             42449656350,
             108106822109,
             11452961984,
             11181493750,
             36973617235,
             15422885020,
             32295200000,
             18220961259,
             44866621303,
             20426488713,
             353062464971,
             17271388000,
             84475986228,
             31534840262,
             110107062300,
             152241530340,
             16420774443,
             21698849265,
             3209792400,
             8351767268,
             208505541949,
             13578300000,
             35950369241,
             13233622689,
             57509096756,
             11297958140,
             83226586345,
             218834811333,
             11116075286,
             10692681720,
             39369386348,
             16064078572,
             24454698119,
             35991109776
            ],
            "sizemode": "area",
            "sizeref": 899453371.1333333,
            "symbol": "circle"
           },
           "mode": "markers",
           "name": "Health Care",
           "orientation": "v",
           "showlegend": true,
           "type": "scatter",
           "x": [
            "ABT",
            "ABBV",
            "AET",
            "A",
            "ALXN",
            "ALGN",
            "AGN",
            "ABC",
            "AMGN",
            "ANTM",
            "BAX",
            "BDX",
            "BIIB",
            "BSX",
            "BMY",
            "CAH",
            "CELG",
            "CNC",
            "CERN",
            "CI",
            "DHR",
            "DVA",
            "XRAY",
            "EW",
            "EVHC",
            "ESRX",
            "GILD",
            "HSIC",
            "HOLX",
            "HUM",
            "IDXX",
            "ILMN",
            "INCY",
            "ISRG",
            "IQV",
            "JNJ",
            "LH",
            "LLY",
            "MCK",
            "MDT",
            "MRK",
            "MTD",
            "MYL",
            "PDCO",
            "PKI",
            "PFE",
            "DGX",
            "REGN",
            "RMD",
            "SYK",
            "COO",
            "TMO",
            "UNH",
            "UHS",
            "VAR",
            "VRTX",
            "WAT",
            "ZBH",
            "ZTS"
           ],
           "xaxis": "x",
           "y": [
            56.27,
            108.48,
            178,
            65.05,
            108.47,
            220.71,
            164.2,
            91.55,
            173.12,
            230.57,
            62.56,
            211.44,
            311.79,
            25.2,
            62.69,
            66.63,
            91.02,
            100.36,
            61.22,
            189.27,
            92.16,
            71.91,
            56.85,
            123.78,
            35.34,
            73.35,
            78.22,
            70.85,
            38.8,
            262.37,
            169.28,
            209.54,
            83.92,
            381.87,
            95.23,
            126.36,
            165.46,
            74.21,
            150.23,
            78.38,
            54.73,
            601,
            39.25,
            32.88,
            72.06,
            33.63,
            96.42,
            322.62,
            89.26,
            148.01,
            223.17,
            198.73,
            216.46,
            114.87,
            112.82,
            151.6,
            191.79,
            115.53,
            71.51
           ],
           "yaxis": "y"
          }
         ],
         "name": "Health Care"
        },
        {
         "data": [
          {
           "hovertemplate": "<b>%{hovertext}</b><br><br>Sector=Information Technology<br>Symbol=%{x}<br>Price=%{y}<br>Market Cap=%{marker.size}<extra></extra>",
           "hovertext": [
            "Accenture plc",
            "Activision Blizzard",
            "Adobe Systems Inc",
            "Advanced Micro Devices Inc",
            "Akamai Technologies Inc",
            "Alliance Data Systems",
            "Alphabet Inc Class A",
            "Alphabet Inc Class C",
            "Amphenol Corp",
            "Analog Devices, Inc.",
            "ANSYS",
            "Apple Inc.",
            "Applied Materials Inc",
            "Autodesk Inc",
            "Automatic Data Processing",
            "Broadcom",
            "CA, Inc.",
            "Cadence Design Systems",
            "Cisco Systems",
            "Citrix Systems",
            "Cognizant Technology Solutions",
            "Corning Inc.",
            "CSRA Inc.",
            "DXC Technology",
            "eBay Inc.",
            "Electronic Arts",
            "F5 Networks",
            "Facebook, Inc.",
            "Fidelity National Information Services",
            "Fiserv Inc",
            "FLIR Systems",
            "Gartner Inc",
            "Global Payments Inc.",
            "Harris Corporation",
            "Hewlett Packard Enterprise",
            "HP Inc.",
            "Intel Corp.",
            "International Business Machines",
            "Intuit Inc.",
            "Juniper Networks",
            "KLA-Tencor Corp.",
            "Lam Research",
            "Mastercard Inc.",
            "Microchip Technology",
            "Micron Technology",
            "Microsoft Corp.",
            "Motorola Solutions Inc.",
            "NetApp",
            "Netflix Inc.",
            "Nvidia Corporation",
            "Oracle Corp.",
            "Paychex Inc.",
            "PayPal",
            "Qorvo",
            "QUALCOMM Inc.",
            "Red Hat Inc.",
            "Salesforce.com",
            "Seagate Technology",
            "Skyworks Solutions",
            "Symantec Corp.",
            "Synopsys Inc.",
            "TE Connectivity Ltd.",
            "Texas Instruments",
            "Total System Services",
            "Verisign Inc.",
            "Visa Inc.",
            "Western Digital",
            "Western Union Co",
            "Xerox Corp.",
            "Xilinx Inc"
           ],
           "ids": [
            "ACN",
            "ATVI",
            "ADBE",
            "AMD",
            "AKAM",
            "ADS",
            "GOOGL",
            "GOOG",
            "APH",
            "ADI",
            "ANSS",
            "AAPL",
            "AMAT",
            "ADSK",
            "ADP",
            "AVGO",
            "CA",
            "CDNS",
            "CSCO",
            "CTXS",
            "CTSH",
            "GLW",
            "CSRA",
            "DXC",
            "EBAY",
            "EA",
            "FFIV",
            "FB",
            "FIS",
            "FISV",
            "FLIR",
            "IT",
            "GPN",
            "HRS",
            "HPE",
            "HPQ",
            "INTC",
            "IBM",
            "INTU",
            "JNPR",
            "KLAC",
            "LRCX",
            "MA",
            "MCHP",
            "MU",
            "MSFT",
            "MSI",
            "NTAP",
            "NFLX",
            "NVDA",
            "ORCL",
            "PAYX",
            "PYPL",
            "QRVO",
            "QCOM",
            "RHT",
            "CRM",
            "STX",
            "SWKS",
            "SYMC",
            "SNPS",
            "TEL",
            "TXN",
            "TSS",
            "VRSN",
            "V",
            "WDC",
            "WU",
            "XRX",
            "XLNX"
           ],
           "legendgroup": "Information Technology",
           "marker": {
            "color": "#00cc96",
            "size": [
             98765855553,
             52518668144,
             94550214268,
             11191663795,
             10906904066,
             13632608582,
             733823966137,
             728535558140,
             26955335395,
             31811578855,
             13155919129,
             809508034020,
             51296481503,
             24348294504,
             50337702249,
             92791974933,
             14175422936,
             10890625200,
             199425716482,
             13199167493,
             45119684067,
             25759280346,
             5134501276,
             27408621020,
             44216696399,
             37890226992,
             8744185796,
             523423036576,
             32308459680,
             26918949723,
             6706992926,
             10828314389,
             16920023264,
             18140726600,
             24800859640,
             34895294088,
             211536000000,
             142433003505,
             41233771565,
             9267350000,
             16078622033,
             27967534829,
             187102014193,
             19393095636,
             48576791974,
             689978437468,
             16626039679,
             15375210915,
             114805404842,
             138652800000,
             202302349740,
             23253666810,
             90708000000,
             9877885146,
             96282828902,
             22799923883,
             79489115000,
             14113197720,
             18493080922,
             16520497264,
             12767067883,
             34983666316,
             100262526470,
             15694951118,
             10754983829,
             270038723213,
             24760297793,
             8951609207,
             7938833340,
             17064975551
            ],
            "sizemode": "area",
            "sizeref": 899453371.1333333,
            "symbol": "circle"
           },
           "mode": "markers",
           "name": "Information Technology",
           "orientation": "v",
           "showlegend": true,
           "type": "scatter",
           "x": [
            "ACN",
            "ATVI",
            "ADBE",
            "AMD",
            "AKAM",
            "ADS",
            "GOOGL",
            "GOOG",
            "APH",
            "ADI",
            "ANSS",
            "AAPL",
            "AMAT",
            "ADSK",
            "ADP",
            "AVGO",
            "CA",
            "CDNS",
            "CSCO",
            "CTXS",
            "CTSH",
            "GLW",
            "CSRA",
            "DXC",
            "EBAY",
            "EA",
            "FFIV",
            "FB",
            "FIS",
            "FISV",
            "FLIR",
            "IT",
            "GPN",
            "HRS",
            "HPE",
            "HPQ",
            "INTC",
            "IBM",
            "INTU",
            "JNPR",
            "KLAC",
            "LRCX",
            "MA",
            "MCHP",
            "MU",
            "MSFT",
            "MSI",
            "NTAP",
            "NFLX",
            "NVDA",
            "ORCL",
            "PAYX",
            "PYPL",
            "QRVO",
            "QCOM",
            "RHT",
            "CRM",
            "STX",
            "SWKS",
            "SYMC",
            "SNPS",
            "TEL",
            "TXN",
            "TSS",
            "VRSN",
            "V",
            "WDC",
            "WU",
            "XRX",
            "XLNX"
           ],
           "xaxis": "x",
           "y": [
            150.51,
            65.83,
            185.16,
            11.22,
            62.49,
            240.6,
            1007.71,
            1001.52,
            84.44,
            82.68,
            148.84,
            155.15,
            45.75,
            104.81,
            108.25,
            229.57,
            32.66,
            36.82,
            38.77,
            84.53,
            75.16,
            28.45,
            30.85,
            91.92,
            41.02,
            116.54,
            137.25,
            171.58,
            92.74,
            133.05,
            46.46,
            114.26,
            100.59,
            149.84,
            15.04,
            19.92,
            42.75,
            147.59,
            152.75,
            24.66,
            98.54,
            162.23,
            160.62,
            79.9,
            40,
            85.01,
            98.74,
            55.85,
            250.1,
            217.52,
            46.84,
            61.86,
            72.32,
            76.85,
            62.42,
            124.65,
            104.03,
            47.44,
            99.04,
            25.59,
            82.62,
            95.27,
            97.66,
            81.17,
            105.62,
            113.86,
            80.09,
            18.81,
            29.8,
            62.82
           ],
           "yaxis": "y"
          }
         ],
         "name": "Information Technology"
        },
        {
         "data": [
          {
           "hovertemplate": "<b>%{hovertext}</b><br><br>Sector=Consumer Discretionary<br>Symbol=%{x}<br>Price=%{y}<br>Market Cap=%{marker.size}<extra></extra>",
           "hovertext": [
            "Advance Auto Parts",
            "Amazon.com Inc",
            "Aptiv Plc",
            "AutoZone Inc",
            "Best Buy Co. Inc.",
            "BorgWarner",
            "Carmax Inc",
            "Carnival Corp.",
            "CBS Corp.",
            "Charter Communications",
            "Chipotle Mexican Grill",
            "Comcast Corp.",
            "D. R. Horton",
            "Darden Restaurants",
            "Discovery Communications-A",
            "Discovery Communications-C",
            "Dish Network",
            "Dollar General",
            "Dollar Tree",
            "Expedia Inc.",
            "Ford Motor",
            "Gap Inc.",
            "Garmin Ltd.",
            "General Motors",
            "Genuine Parts",
            "Goodyear Tire & Rubber",
            "Hanesbrands Inc",
            "Harley-Davidson",
            "Hasbro Inc.",
            "Hilton Worldwide Holdings Inc",
            "Home Depot",
            "Interpublic Group",
            "Kohl's Corp.",
            "L Brands Inc.",
            "Leggett & Platt",
            "Lennar Corp.",
            "LKQ Corporation",
            "Lowe's Cos.",
            "Macy's Inc.",
            "Marriott Int'l.",
            "Mattel Inc.",
            "McDonald's Corp.",
            "MGM Resorts International",
            "Michael Kors Holdings",
            "Mohawk Industries",
            "Newell Brands",
            "News Corp. Class A",
            "News Corp. Class B",
            "Nike",
            "Nordstrom",
            "Norwegian Cruise Line",
            "O'Reilly Automotive",
            "Omnicom Group",
            "Polo Ralph Lauren Corp.",
            "Priceline.com Inc",
            "Pulte Homes Inc.",
            "PVH Corp.",
            "Ross Stores",
            "Royal Caribbean Cruises Ltd",
            "Scripps Networks Interactive Inc.",
            "Signet Jewelers",
            "Snap-On Inc.",
            "Stanley Black & Decker",
            "Starbucks Corp.",
            "Target Corp.",
            "The Walt Disney Company",
            "Tiffany & Co.",
            "Time Warner Inc.",
            "TJX Companies Inc.",
            "Tractor Supply Company",
            "TripAdvisor",
            "Twenty-First Century Fox Class A",
            "Twenty-First Century Fox Class B",
            "Ulta Salon Cosmetics & Fragrance Inc",
            "Under Armour Class A",
            "Under Armour Class C",
            "V.F. Corp.",
            "Viacom Inc.",
            "Whirlpool Corp.",
            "Wyndham Worldwide",
            "Wynn Resorts Ltd",
            "Yum! Brands Inc"
           ],
           "ids": [
            "AAP",
            "AMZN",
            "APTV",
            "AZO",
            "BBY",
            "BWA",
            "KMX",
            "CCL",
            "CBS",
            "CHTR",
            "CMG",
            "CMCSA",
            "DHI",
            "DRI",
            "DISCA",
            "DISCK",
            "DISH",
            "DG",
            "DLTR",
            "EXPE",
            "F",
            "GPS",
            "GRMN",
            "GM",
            "GPC",
            "GT",
            "HBI",
            "HOG",
            "HAS",
            "HLT",
            "HD",
            "IPG",
            "KSS",
            "LB",
            "LEG",
            "LEN",
            "LKQ",
            "LOW",
            "M",
            "MAR",
            "MAT",
            "MCD",
            "MGM",
            "KORS",
            "MHK",
            "NWL",
            "NWSA",
            "NWS",
            "NKE",
            "JWN",
            "NCLH",
            "ORLY",
            "OMC",
            "RL",
            "PCLN",
            "PHM",
            "PVH",
            "ROST",
            "RCL",
            "SNI",
            "SIG",
            "SNA",
            "SWK",
            "SBUX",
            "TGT",
            "DIS",
            "TIF",
            "TWX",
            "TJX",
            "TSCO",
            "TRIP",
            "FOXA",
            "FOX",
            "ULTA",
            "UAA",
            "UA",
            "VFC",
            "VIAB",
            "WHR",
            "WYN",
            "WYNN",
            "YUM"
           ],
           "legendgroup": "Consumer Discretionary",
           "marker": {
            "color": "#ab63fa",
            "size": [
             8123611867,
             685873374731,
             24906530300,
             19922021415,
             20831186176,
             11596117445,
             11827453706,
             49180044050,
             20431395736,
             86708878113,
             7685283970,
             186476996883,
             17390873686,
             11745595320,
             8763756733,
             8320262123,
             21032719056,
             26580644874,
             25151198417,
             19722178609,
             42414328338,
             12684517721,
             11840331607,
             61536606173,
             14554321748,
             8244568238,
             8006268615,
             8158949890,
             12732072001,
             26242415796,
             223378633329,
             8277363031,
             10570861198,
             13862042842,
             6034600480,
             14615967194,
             12469931896,
             82909678852,
             7541063495,
             50910130358,
             5843402350,
             132101623787,
             19633674337,
             10053919023,
             19897356456,
             14438346000,
             9356906461,
             9496735699,
             106776113744,
             8212509855,
             13191507318,
             21433781860,
             17377551986,
             8753430477,
             91817448863,
             8792572352,
             11478625926,
             29803566306,
             27418147452,
             11328642413,
             3034275549,
             9499107736,
             24496399600,
             76548976000,
             39816696539,
             157817273295,
             12810515320,
             74185800000,
             48181450881,
             8459271203,
             5700998508,
             44027094922,
             66135313503,
             13300000127,
             5856913571,
             5366628950,
             31797645904,
             10601008017,
             12177920000,
             11993835688,
             18225400525,
             27003303098
            ],
            "sizemode": "area",
            "sizeref": 899453371.1333333,
            "symbol": "circle"
           },
           "mode": "markers",
           "name": "Consumer Discretionary",
           "orientation": "v",
           "showlegend": true,
           "type": "scatter",
           "x": [
            "AAP",
            "AMZN",
            "APTV",
            "AZO",
            "BBY",
            "BWA",
            "KMX",
            "CCL",
            "CBS",
            "CHTR",
            "CMG",
            "CMCSA",
            "DHI",
            "DRI",
            "DISCA",
            "DISCK",
            "DISH",
            "DG",
            "DLTR",
            "EXPE",
            "F",
            "GPS",
            "GRMN",
            "GM",
            "GPC",
            "GT",
            "HBI",
            "HOG",
            "HAS",
            "HLT",
            "HD",
            "IPG",
            "KSS",
            "LB",
            "LEG",
            "LEN",
            "LKQ",
            "LOW",
            "M",
            "MAR",
            "MAT",
            "MCD",
            "MGM",
            "KORS",
            "MHK",
            "NWL",
            "NWSA",
            "NWS",
            "NKE",
            "JWN",
            "NCLH",
            "ORLY",
            "OMC",
            "RL",
            "PCLN",
            "PHM",
            "PVH",
            "ROST",
            "RCL",
            "SNI",
            "SIG",
            "SNA",
            "SWK",
            "SBUX",
            "TGT",
            "DIS",
            "TIF",
            "TWX",
            "TJX",
            "TSCO",
            "TRIP",
            "FOXA",
            "FOX",
            "ULTA",
            "UAA",
            "UA",
            "VFC",
            "VIAB",
            "WHR",
            "WYN",
            "WYNN",
            "YUM"
           ],
           "xaxis": "x",
           "y": [
            109.63,
            1350.5,
            89.27,
            718.57,
            68.79,
            51.94,
            64.34,
            66.76,
            51.8,
            348.65,
            266.01,
            38.19,
            44.55,
            91.33,
            22.87,
            21.58,
            43.77,
            95.1,
            101.58,
            123.03,
            10.43,
            31.17,
            61.13,
            40.75,
            96.31,
            30.75,
            19.57,
            47.54,
            96.48,
            78.66,
            181.22,
            21.34,
            60.34,
            47.77,
            43.99,
            59.11,
            38.86,
            95.01,
            24,
            133.88,
            16,
            158.97,
            33.5,
            60.03,
            256.57,
            27.91,
            15.65,
            15.85,
            62.49,
            47.23,
            56.01,
            252.22,
            75.91,
            101.32,
            1806.06,
            28.67,
            142.68,
            75.06,
            122.45,
            86.46,
            49.38,
            156.72,
            152.86,
            53.77,
            71.11,
            101.35,
            99.62,
            93.02,
            74.36,
            65.94,
            40.05,
            34.56,
            34.09,
            209.09,
            13.14,
            11.95,
            78.75,
            32.71,
            164.95,
            113.56,
            169.28,
            76.3
           ],
           "yaxis": "y"
          }
         ],
         "name": "Consumer Discretionary"
        },
        {
         "data": [
          {
           "hovertemplate": "<b>%{hovertext}</b><br><br>Sector=Utilities<br>Symbol=%{x}<br>Price=%{y}<br>Market Cap=%{marker.size}<extra></extra>",
           "hovertext": [
            "AES Corp",
            "Alliant Energy Corp",
            "Ameren Corp",
            "American Electric Power",
            "American Water Works Company Inc",
            "CenterPoint Energy",
            "CMS Energy",
            "Consolidated Edison",
            "Dominion Energy",
            "DTE Energy Co.",
            "Duke Energy",
            "Edison Int'l",
            "Entergy Corp.",
            "Eversource Energy",
            "Exelon Corp.",
            "FirstEnergy Corp",
            "NextEra Energy",
            "NiSource Inc.",
            "NRG Energy",
            "PG&E Corp.",
            "Pinnacle West Capital",
            "PPL Corp.",
            "Public Serv. Enterprise Inc.",
            "SCANA Corp",
            "Sempra Energy",
            "Southern Co.",
            "Wec Energy Group Inc",
            "Xcel Energy Inc"
           ],
           "ids": [
            "AES",
            "LNT",
            "AEE",
            "AEP",
            "AWK",
            "CNP",
            "CMS",
            "ED",
            "D",
            "DTE",
            "DUK",
            "EIX",
            "ETR",
            "ES",
            "EXC",
            "FE",
            "NEE",
            "NI",
            "NRG",
            "PCG",
            "PNW",
            "PPL",
            "PEG",
            "SCG",
            "SRE",
            "SO",
            "WEC",
            "XEL"
           ],
           "legendgroup": "Utilities",
           "marker": {
            "color": "#FFA15A",
            "size": [
             6920851212,
             8670163500,
             12905744906,
             31701916517,
             13906146184,
             11362043297,
             11873960824,
             23335777662,
             47543571860,
             17808073691,
             52078185682,
             19447670886,
             13116894887,
             18027633617,
             34734816899,
             13706075072,
             69661177770,
             7776566371,
             8030036023,
             20309412381,
             8397609889,
             20839814845,
             24138050331,
             5229448882,
             26163862235,
             43497224128,
             18890296993,
             21559611927
            ],
            "sizemode": "area",
            "sizeref": 899453371.1333333,
            "symbol": "circle"
           },
           "mode": "markers",
           "name": "Utilities",
           "orientation": "v",
           "showlegend": true,
           "type": "scatter",
           "x": [
            "AES",
            "LNT",
            "AEE",
            "AEP",
            "AWK",
            "CNP",
            "CMS",
            "ED",
            "D",
            "DTE",
            "DUK",
            "EIX",
            "ETR",
            "ES",
            "EXC",
            "FE",
            "NEE",
            "NI",
            "NRG",
            "PCG",
            "PNW",
            "PPL",
            "PEG",
            "SCG",
            "SRE",
            "SO",
            "WEC",
            "XEL"
           ],
           "xaxis": "x",
           "y": [
            10.06,
            37.14,
            52.59,
            63.38,
            76.06,
            25.85,
            41.77,
            74.73,
            73.31,
            98.49,
            74.32,
            58.07,
            72.02,
            56.11,
            35.98,
            30.64,
            145.29,
            22.51,
            24,
            38.24,
            74.34,
            29.52,
            46.73,
            35.6,
            103.36,
            43.4,
            59.5,
            42.44
           ],
           "yaxis": "y"
          }
         ],
         "name": "Utilities"
        },
        {
         "data": [
          {
           "hovertemplate": "<b>%{hovertext}</b><br><br>Sector=Financials<br>Symbol=%{x}<br>Price=%{y}<br>Market Cap=%{marker.size}<extra></extra>",
           "hovertext": [
            "Affiliated Managers Group Inc",
            "AFLAC Inc",
            "Allstate Corp",
            "American Express Co",
            "American International Group, Inc.",
            "Ameriprise Financial",
            "Aon plc",
            "Arthur J. Gallagher & Co.",
            "Assurant Inc",
            "Bank of America Corp",
            "BB&T Corporation",
            "Berkshire Hathaway",
            "BlackRock",
            "Block H&R",
            "Brighthouse Financial Inc",
            "Capital One Financial",
            "CBOE Holdings",
            "Charles Schwab Corporation",
            "Chubb Limited",
            "Cincinnati Financial",
            "Citigroup Inc.",
            "Citizens Financial Group",
            "CME Group Inc.",
            "Comerica Inc.",
            "Discover Financial Services",
            "E*Trade",
            "Everest Re Group Ltd.",
            "Fifth Third Bancorp",
            "Franklin Resources",
            "Goldman Sachs Group",
            "Hartford Financial Svc.Gp.",
            "Huntington Bancshares",
            "Intercontinental Exchange",
            "Invesco Ltd.",
            "JPMorgan Chase & Co.",
            "KeyCorp",
            "Leucadia National Corp.",
            "Lincoln National",
            "Loews Corp.",
            "M&T Bank Corp.",
            "Marsh & McLennan",
            "MetLife Inc.",
            "Moody's Corp",
            "Morgan Stanley",
            "Nasdaq, Inc.",
            "Navient",
            "Northern Trust Corp.",
            "People's United Financial",
            "PNC Financial Services",
            "Principal Financial Group",
            "Progressive Corp.",
            "Prudential Financial",
            "Raymond James Financial Inc.",
            "Regions Financial Corp.",
            "S&P Global, Inc.",
            "State Street Corp.",
            "SunTrust Banks",
            "Synchrony Financial",
            "T. Rowe Price Group",
            "The Bank of New York Mellon Corp.",
            "The Travelers Companies Inc.",
            "Torchmark Corp.",
            "U.S. Bancorp",
            "Unum Group",
            "Wells Fargo",
            "Willis Towers Watson",
            "XL Capital",
            "Zions Bancorp"
           ],
           "ids": [
            "AMG",
            "AFL",
            "ALL",
            "AXP",
            "AIG",
            "AMP",
            "AON",
            "AJG",
            "AIZ",
            "BAC",
            "BBT",
            "BRK.B",
            "BLK",
            "HRB",
            "BHF",
            "COF",
            "CBOE",
            "SCHW",
            "CB",
            "CINF",
            "C",
            "CFG",
            "CME",
            "CMA",
            "DFS",
            "ETFC",
            "RE",
            "FITB",
            "BEN",
            "GS",
            "HIG",
            "HBAN",
            "ICE",
            "IVZ",
            "JPM",
            "KEY",
            "LUK",
            "LNC",
            "L",
            "MTB",
            "MMC",
            "MET",
            "MCO",
            "MS",
            "NDAQ",
            "NAVI",
            "NTRS",
            "PBCT",
            "PNC",
            "PFG",
            "PGR",
            "PRU",
            "RJF",
            "RF",
            "SPGI",
            "STT",
            "STI",
            "SYF",
            "TROW",
            "BK",
            "TRV",
            "TMK",
            "USB",
            "UNM",
            "WFC",
            "WLTW",
            "XL",
            "ZION"
           ],
           "legendgroup": "Financials",
           "marker": {
            "color": "#19d3f3",
            "size": [
             10442174371,
             33422948000,
             34759468905,
             80410990000,
             54360073164,
             23472126000,
             35123123422,
             11968488290,
             4653993594,
             321478200969,
             42087562920,
             261401203633,
             85907759858,
             5381433872,
             7066613254,
             47637260000,
             12998295607,
             69750188843,
             68424670566,
             11916533018,
             192709302000,
             22008050974,
             54423298745,
             16274969256,
             27433540000,
             13754977266,
             10131892523,
             22437653700,
             21759187973,
             96978500251,
             19926305632,
             16766497291,
             41373051167,
             13620847614,
             386613611000,
             22589744920,
             8910389431,
             17123031000,
             16111166935,
             27840827434,
             41819440000,
             48679364276,
             30189978000,
             97535400000,
             12844304115,
             3692691330,
             22908130223,
             6527616000,
             73315000000,
             18457199721,
             31062780000,
             47136080000,
             13216271700,
             21500640000,
             46585950000,
             38059113300,
             32498948310,
             28893750000,
             25810865035,
             56083904906,
             38903131815,
             9614412169,
             90940115897,
             11256432318,
             281463620775,
             20780269334,
             10753423590,
             10670678640
            ],
            "sizemode": "area",
            "sizeref": 899453371.1333333,
            "symbol": "circle"
           },
           "mode": "markers",
           "name": "Financials",
           "orientation": "v",
           "showlegend": true,
           "type": "scatter",
           "x": [
            "AMG",
            "AFL",
            "ALL",
            "AXP",
            "AIG",
            "AMP",
            "AON",
            "AJG",
            "AIZ",
            "BAC",
            "BBT",
            "BRK.B",
            "BLK",
            "HRB",
            "BHF",
            "COF",
            "CBOE",
            "SCHW",
            "CB",
            "CINF",
            "C",
            "CFG",
            "CME",
            "CMA",
            "DFS",
            "ETFC",
            "RE",
            "FITB",
            "BEN",
            "GS",
            "HIG",
            "HBAN",
            "ICE",
            "IVZ",
            "JPM",
            "KEY",
            "LUK",
            "LNC",
            "L",
            "MTB",
            "MMC",
            "MET",
            "MCO",
            "MS",
            "NDAQ",
            "NAVI",
            "NTRS",
            "PBCT",
            "PNC",
            "PFG",
            "PGR",
            "PRU",
            "RJF",
            "RF",
            "SPGI",
            "STT",
            "STI",
            "SYF",
            "TROW",
            "BK",
            "TRV",
            "TMK",
            "USB",
            "UNM",
            "WFC",
            "WLTW",
            "XL",
            "ZION"
           ],
           "xaxis": "x",
           "y": [
            179.11,
            83.25,
            90.06,
            88.34,
            58.28,
            152.5,
            136.05,
            64.4,
            85.16,
            29.74,
            51.07,
            191.42,
            509.38,
            25.19,
            55.44,
            91.8,
            111.15,
            48.9,
            140.39,
            70.34,
            71.87,
            42.19,
            153.04,
            89.18,
            72.4,
            48.48,
            241.06,
            31.1,
            38,
            246.35,
            53.34,
            15.1,
            67,
            31.92,
            107.88,
            20.08,
            23.86,
            73.86,
            46.05,
            178.35,
            79.31,
            44.28,
            152.14,
            51.79,
            75.21,
            13.38,
            96.2,
            18.56,
            149.38,
            60.38,
            51.07,
            103.38,
            86.06,
            17.9,
            173.31,
            98.54,
            65.8,
            34.98,
            101.99,
            53.29,
            135.01,
            80.52,
            52.65,
            47.87,
            55.4,
            152.36,
            41.26,
            50.71
           ],
           "yaxis": "y"
          }
         ],
         "name": "Financials"
        },
        {
         "data": [
          {
           "hovertemplate": "<b>%{hovertext}</b><br><br>Sector=Materials<br>Symbol=%{x}<br>Price=%{y}<br>Market Cap=%{marker.size}<extra></extra>",
           "hovertext": [
            "Air Products & Chemicals Inc",
            "Albemarle Corp",
            "Avery Dennison Corp",
            "Ball Corp",
            "CF Industries Holdings Inc",
            "DowDuPont",
            "Eastman Chemical",
            "Ecolab Inc.",
            "FMC Corporation",
            "Freeport-McMoRan Inc.",
            "International Paper",
            "Intl Flavors & Fragrances",
            "LyondellBasell",
            "Martin Marietta Materials",
            "Monsanto Co.",
            "Newmont Mining Corporation",
            "Nucor Corp.",
            "Packaging Corporation of America",
            "PPG Industries",
            "Praxair Inc.",
            "Sealed Air",
            "Sherwin-Williams",
            "The Mosaic Company",
            "Vulcan Materials",
            "WestRock Company"
           ],
           "ids": [
            "APD",
            "ALB",
            "AVY",
            "BLL",
            "CF",
            "DWDP",
            "EMN",
            "ECL",
            "FMC",
            "FCX",
            "IP",
            "IFF",
            "LYB",
            "MLM",
            "MON",
            "NEM",
            "NUE",
            "PKG",
            "PPG",
            "PX",
            "SEE",
            "SHW",
            "MOS",
            "VMC",
            "WRK"
           ],
           "legendgroup": "Materials",
           "marker": {
            "color": "#FF6692",
            "size": [
             34638387128,
             11782151266,
             10104814319,
             13767688518,
             9209106695,
             165203312427,
             14226830813,
             38460272282,
             11273961835,
             25853969330,
             24465996443,
             11270040447,
             43556650000,
             13756812736,
             53076824328,
             19749449484,
             20003317128,
             11051273948,
             29043337549,
             42948664203,
             8001938397,
             37730994828,
             9726962131,
             16964162228,
             16433340688
            ],
            "sizemode": "area",
            "sizeref": 899453371.1333333,
            "symbol": "circle"
           },
           "mode": "markers",
           "name": "Materials",
           "orientation": "v",
           "showlegend": true,
           "type": "scatter",
           "x": [
            "APD",
            "ALB",
            "AVY",
            "BLL",
            "CF",
            "DWDP",
            "EMN",
            "ECL",
            "FMC",
            "FCX",
            "IP",
            "IFF",
            "LYB",
            "MLM",
            "MON",
            "NEM",
            "NUE",
            "PKG",
            "PPG",
            "PX",
            "SEE",
            "SHW",
            "MOS",
            "VMC",
            "WRK"
           ],
           "xaxis": "x",
           "y": [
            152.8,
            105.18,
            110.77,
            38.44,
            37.46,
            68.21,
            93.57,
            127.76,
            80.87,
            17.16,
            56.05,
            138,
            105.79,
            208.42,
            119.08,
            36.61,
            60.38,
            111.95,
            110.3,
            144.07,
            42.62,
            387.65,
            24.13,
            121.47,
            60.93
           ],
           "yaxis": "y"
          }
         ],
         "name": "Materials"
        },
        {
         "data": [
          {
           "hovertemplate": "<b>%{hovertext}</b><br><br>Sector=Real Estate<br>Symbol=%{x}<br>Price=%{y}<br>Market Cap=%{marker.size}<extra></extra>",
           "hovertext": [
            "Alexandria Real Estate Equities Inc",
            "American Tower Corp A",
            "Apartment Investment & Management",
            "AvalonBay Communities, Inc.",
            "Boston Properties",
            "CBRE Group",
            "Crown Castle International Corp.",
            "Digital Realty Trust Inc",
            "Duke Realty Corp",
            "Equinix",
            "Equity Residential",
            "Essex Property Trust, Inc.",
            "Extra Space Storage",
            "Federal Realty Investment Trust",
            "General Growth Properties Inc.",
            "HCP Inc.",
            "Host Hotels & Resorts",
            "Iron Mountain Incorporated",
            "Kimco Realty",
            "Macerich",
            "Mid-America Apartments",
            "Prologis",
            "Public Storage",
            "Realty Income Corporation",
            "Regency Centers Corporation",
            "SBA Communications",
            "Simon Property Group Inc",
            "SL Green Realty",
            "UDR Inc",
            "Ventas Inc",
            "Vornado Realty Trust",
            "Welltower Inc.",
            "Weyerhaeuser Corp."
           ],
           "ids": [
            "ARE",
            "AMT",
            "AIV",
            "AVB",
            "BXP",
            "CBG",
            "CCI",
            "DLR",
            "DRE",
            "EQIX",
            "EQR",
            "ESS",
            "EXR",
            "FRT",
            "GGP",
            "HCP",
            "HST",
            "IRM",
            "KIM",
            "MAC",
            "MAA",
            "PLD",
            "PSA",
            "O",
            "REG",
            "SBAC",
            "SPG",
            "SLG",
            "UDR",
            "VTR",
            "VNO",
            "HCN",
            "WY"
           ],
           "legendgroup": "Real Estate",
           "marker": {
            "color": "#B6E880",
            "size": [
             12043374429,
             59213892640,
             6156884142,
             21856547430,
             17799878487,
             14440591731,
             44183023189,
             21400952517,
             9035293365,
             33333813618,
             20925508143,
             14383525286,
             10133547517,
             8077368506,
             21018887283,
             10967755538,
             14394715334,
             9410249279,
             6180487499,
             8473119166,
             9992628990,
             31953288000,
             32258539942,
             13784942453,
             9858367494,
             19572031314,
             48139839531,
             8617714345,
             9050154422,
             18865999082,
             12778779911,
             20943679019,
             26070297960
            ],
            "sizemode": "area",
            "sizeref": 899453371.1333333,
            "symbol": "circle"
           },
           "mode": "markers",
           "name": "Real Estate",
           "orientation": "v",
           "showlegend": true,
           "type": "scatter",
           "x": [
            "ARE",
            "AMT",
            "AIV",
            "AVB",
            "BXP",
            "CBG",
            "CCI",
            "DLR",
            "DRE",
            "EQIX",
            "EQR",
            "ESS",
            "EXR",
            "FRT",
            "GGP",
            "HCP",
            "HST",
            "IRM",
            "KIM",
            "MAC",
            "MAA",
            "PLD",
            "PSA",
            "O",
            "REG",
            "SBAC",
            "SPG",
            "SLG",
            "UDR",
            "VTR",
            "VNO",
            "HCN",
            "WY"
           ],
           "xaxis": "x",
           "y": [
            114.58,
            133.57,
            38.21,
            154.94,
            112.09,
            41.92,
            103.81,
            98.96,
            24.52,
            409.98,
            55.26,
            218.28,
            77.56,
            108.11,
            21.62,
            22.64,
            18.75,
            32.07,
            14.01,
            58.36,
            85.39,
            58.33,
            180.49,
            47.56,
            55.58,
            159.85,
            152.18,
            90.61,
            32.92,
            50.92,
            66.18,
            54.67,
            33.6
           ],
           "yaxis": "y"
          }
         ],
         "name": "Real Estate"
        },
        {
         "data": [
          {
           "hovertemplate": "<b>%{hovertext}</b><br><br>Sector=Consumer Staples<br>Symbol=%{x}<br>Price=%{y}<br>Market Cap=%{marker.size}<extra></extra>",
           "hovertext": [
            "Altria Group Inc",
            "Archer-Daniels-Midland Co",
            "Brown-Forman Corp.",
            "Campbell Soup",
            "Church & Dwight",
            "Coca-Cola Company (The)",
            "Colgate-Palmolive",
            "Conagra Brands",
            "Constellation Brands",
            "Costco Wholesale Corp.",
            "Coty, Inc",
            "CVS Health",
            "Dr Pepper Snapple Group",
            "Estee Lauder Cos.",
            "General Mills",
            "Hormel Foods Corp.",
            "JM Smucker",
            "Kellogg Co.",
            "Kimberly-Clark",
            "Kraft Heinz Co",
            "Kroger Co.",
            "McCormick & Co.",
            "Molson Coors Brewing Company",
            "Mondelez International",
            "Monster Beverage",
            "Philip Morris International",
            "Procter & Gamble",
            "Sysco Corp.",
            "The Clorox Company",
            "The Hershey Company",
            "Tyson Foods",
            "Wal-Mart Stores",
            "Walgreens Boots Alliance"
           ],
           "ids": [
            "MO",
            "ADM",
            "BF.B",
            "CPB",
            "CHD",
            "KO",
            "CL",
            "CAG",
            "STZ",
            "COST",
            "COTY",
            "CVS",
            "DPS",
            "EL",
            "GIS",
            "HRL",
            "SJM",
            "K",
            "KMB",
            "KHC",
            "KR",
            "MKC",
            "TAP",
            "MDLZ",
            "MNST",
            "PM",
            "PG",
            "SYY",
            "CLX",
            "HSY",
            "TSN",
            "WMT",
            "WBA"
           ],
           "legendgroup": "Consumer Staples",
           "marker": {
            "color": "#FF97FF",
            "size": [
             126985101434,
             23594770663,
             5498033502,
             13467193376,
             11838963451,
             189855335601,
             61616643498,
             14379717835,
             41697453163,
             80439804508,
             13101112504,
             75323141722,
             21209783858,
             49543264457,
             31098243069,
             17338613096,
             13612394896,
             22182794875,
             39449596000,
             89618309338,
             25471355847,
             13459353253,
             12396862128,
             65827817742,
             36403831015,
             153580671803,
             206318943299,
             30445320778,
             16540418002,
             20867272020,
             26957526800,
             304680931618,
             70862541911
            ],
            "sizemode": "area",
            "sizeref": 899453371.1333333,
            "symbol": "circle"
           },
           "mode": "markers",
           "name": "Consumer Staples",
           "orientation": "v",
           "showlegend": true,
           "type": "scatter",
           "x": [
            "MO",
            "ADM",
            "BF.B",
            "CPB",
            "CHD",
            "KO",
            "CL",
            "CAG",
            "STZ",
            "COST",
            "COTY",
            "CVS",
            "DPS",
            "EL",
            "GIS",
            "HRL",
            "SJM",
            "K",
            "KMB",
            "KHC",
            "KR",
            "MKC",
            "TAP",
            "MDLZ",
            "MNST",
            "PM",
            "PG",
            "SYY",
            "CLX",
            "HSY",
            "TSN",
            "WMT",
            "WBA"
           ],
           "xaxis": "x",
           "y": [
            64.05,
            41.35,
            63.33,
            44.83,
            47.38,
            43.1,
            68.95,
            35.49,
            208.73,
            178.61,
            19.96,
            70.55,
            116.93,
            131.46,
            53.99,
            32.21,
            118.37,
            65.98,
            111.69,
            71.58,
            27.57,
            101.36,
            74.51,
            42.68,
            61.99,
            100.39,
            80.22,
            57,
            127.76,
            97.65,
            73.92,
            100.02,
            68.22
           ],
           "yaxis": "y"
          }
         ],
         "name": "Consumer Staples"
        },
        {
         "data": [
          {
           "hovertemplate": "<b>%{hovertext}</b><br><br>Sector=Energy<br>Symbol=%{x}<br>Price=%{y}<br>Market Cap=%{marker.size}<extra></extra>",
           "hovertext": [
            "Anadarko Petroleum Corp",
            "Andeavor",
            "Apache Corporation",
            "Baker Hughes, a GE Company",
            "Cabot Oil & Gas",
            "Chesapeake Energy",
            "Chevron Corp.",
            "Cimarex Energy",
            "Concho Resources",
            "ConocoPhillips",
            "Devon Energy Corp.",
            "EOG Resources",
            "EQT Corporation",
            "Exxon Mobil Corp.",
            "Halliburton Co.",
            "Helmerich & Payne",
            "Hess Corporation",
            "Kinder Morgan",
            "Marathon Petroleum",
            "National Oilwell Varco Inc.",
            "Newfield Exploration Co",
            "Noble Energy Inc",
            "ONEOK",
            "Phillips 66",
            "Pioneer Natural Resources",
            "Range Resources Corp.",
            "Schlumberger Ltd.",
            "TechnipFMC",
            "Valero Energy",
            "Williams Cos."
           ],
           "ids": [
            "APC",
            "ANDV",
            "APA",
            "BHGE",
            "COG",
            "CHK",
            "CVX",
            "XEC",
            "CXO",
            "COP",
            "DVN",
            "EOG",
            "EQT",
            "XOM",
            "HAL",
            "HP",
            "HES",
            "KMI",
            "MPC",
            "NOV",
            "NFX",
            "NBL",
            "OKE",
            "PSX",
            "PXD",
            "RRC",
            "SLB",
            "FTI",
            "VLO",
            "WMB"
           ],
           "legendgroup": "Energy",
           "marker": {
            "color": "#FECB52",
            "size": [
             32129091747,
             15696449735,
             15066280977,
             32995712852,
             10808821635,
             2626102121,
             218978820159,
             10089082025,
             22021882339,
             65482462410,
             19317380000,
             61164030149,
             12638828950,
             326148660000,
             43356557470,
             7345243806,
             14016129999,
             38612712234,
             31633740000,
             12940096785,
             5695123080,
             13177325251,
             21988472489,
             47996220000,
             29983119693,
             3255587970,
             96529311126,
             14163064455,
             39312309113,
             24802396470
            ],
            "sizemode": "area",
            "sizeref": 899453371.1333333,
            "symbol": "circle"
           },
           "mode": "markers",
           "name": "Energy",
           "orientation": "v",
           "showlegend": true,
           "type": "scatter",
           "x": [
            "APC",
            "ANDV",
            "APA",
            "BHGE",
            "COG",
            "CHK",
            "CVX",
            "XEC",
            "CXO",
            "COP",
            "DVN",
            "EOG",
            "EQT",
            "XOM",
            "HAL",
            "HP",
            "HES",
            "KMI",
            "MPC",
            "NOV",
            "NFX",
            "NBL",
            "OKE",
            "PSX",
            "PXD",
            "RRC",
            "SLB",
            "FTI",
            "VLO",
            "WMB"
           ],
           "xaxis": "x",
           "y": [
            56.2,
            96.9,
            37.73,
            27.5,
            23.01,
            2.82,
            112.3,
            100.19,
            140.09,
            53.24,
            34.94,
            101.04,
            46.25,
            76.07,
            47.41,
            64.87,
            43,
            16.8,
            62.79,
            32.64,
            26.38,
            25.43,
            54.4,
            92.44,
            169.16,
            12.82,
            67.4,
            29.1,
            86.77,
            28.56
           ],
           "yaxis": "y"
          }
         ],
         "name": "Energy"
        },
        {
         "data": [
          {
           "hovertemplate": "<b>%{hovertext}</b><br><br>Sector=Telecommunication Services<br>Symbol=%{x}<br>Price=%{y}<br>Market Cap=%{marker.size}<extra></extra>",
           "hovertext": [
            "AT&T Inc",
            "CenturyLink Inc",
            "Verizon Communications"
           ],
           "ids": [
            "T",
            "CTL",
            "VZ"
           ],
           "legendgroup": "Telecommunication Services",
           "marker": {
            "color": "#636efa",
            "size": [
             226713270000,
             18237196861,
             208092277044
            ],
            "sizemode": "area",
            "sizeref": 899453371.1333333,
            "symbol": "circle"
           },
           "mode": "markers",
           "name": "Telecommunication Services",
           "orientation": "v",
           "showlegend": true,
           "type": "scatter",
           "x": [
            "T",
            "CTL",
            "VZ"
           ],
           "xaxis": "x",
           "y": [
            35.57,
            16.2,
            49.04
           ],
           "yaxis": "y"
          }
         ],
         "name": "Telecommunication Services"
        }
       ],
       "layout": {
        "legend": {
         "itemsizing": "constant",
         "title": {
          "text": "Sector"
         },
         "tracegroupgap": 0
        },
        "margin": {
         "t": 60
        },
        "sliders": [
         {
          "active": 0,
          "currentvalue": {
           "prefix": "Sector="
          },
          "len": 0.9,
          "pad": {
           "b": 10,
           "t": 60
          },
          "steps": [
           {
            "args": [
             [
              "Industrials"
             ],
             {
              "frame": {
               "duration": 0,
               "redraw": false
              },
              "fromcurrent": true,
              "mode": "immediate",
              "transition": {
               "duration": 0,
               "easing": "linear"
              }
             }
            ],
            "label": "Industrials",
            "method": "animate"
           },
           {
            "args": [
             [
              "Health Care"
             ],
             {
              "frame": {
               "duration": 0,
               "redraw": false
              },
              "fromcurrent": true,
              "mode": "immediate",
              "transition": {
               "duration": 0,
               "easing": "linear"
              }
             }
            ],
            "label": "Health Care",
            "method": "animate"
           },
           {
            "args": [
             [
              "Information Technology"
             ],
             {
              "frame": {
               "duration": 0,
               "redraw": false
              },
              "fromcurrent": true,
              "mode": "immediate",
              "transition": {
               "duration": 0,
               "easing": "linear"
              }
             }
            ],
            "label": "Information Technology",
            "method": "animate"
           },
           {
            "args": [
             [
              "Consumer Discretionary"
             ],
             {
              "frame": {
               "duration": 0,
               "redraw": false
              },
              "fromcurrent": true,
              "mode": "immediate",
              "transition": {
               "duration": 0,
               "easing": "linear"
              }
             }
            ],
            "label": "Consumer Discretionary",
            "method": "animate"
           },
           {
            "args": [
             [
              "Utilities"
             ],
             {
              "frame": {
               "duration": 0,
               "redraw": false
              },
              "fromcurrent": true,
              "mode": "immediate",
              "transition": {
               "duration": 0,
               "easing": "linear"
              }
             }
            ],
            "label": "Utilities",
            "method": "animate"
           },
           {
            "args": [
             [
              "Financials"
             ],
             {
              "frame": {
               "duration": 0,
               "redraw": false
              },
              "fromcurrent": true,
              "mode": "immediate",
              "transition": {
               "duration": 0,
               "easing": "linear"
              }
             }
            ],
            "label": "Financials",
            "method": "animate"
           },
           {
            "args": [
             [
              "Materials"
             ],
             {
              "frame": {
               "duration": 0,
               "redraw": false
              },
              "fromcurrent": true,
              "mode": "immediate",
              "transition": {
               "duration": 0,
               "easing": "linear"
              }
             }
            ],
            "label": "Materials",
            "method": "animate"
           },
           {
            "args": [
             [
              "Real Estate"
             ],
             {
              "frame": {
               "duration": 0,
               "redraw": false
              },
              "fromcurrent": true,
              "mode": "immediate",
              "transition": {
               "duration": 0,
               "easing": "linear"
              }
             }
            ],
            "label": "Real Estate",
            "method": "animate"
           },
           {
            "args": [
             [
              "Consumer Staples"
             ],
             {
              "frame": {
               "duration": 0,
               "redraw": false
              },
              "fromcurrent": true,
              "mode": "immediate",
              "transition": {
               "duration": 0,
               "easing": "linear"
              }
             }
            ],
            "label": "Consumer Staples",
            "method": "animate"
           },
           {
            "args": [
             [
              "Energy"
             ],
             {
              "frame": {
               "duration": 0,
               "redraw": false
              },
              "fromcurrent": true,
              "mode": "immediate",
              "transition": {
               "duration": 0,
               "easing": "linear"
              }
             }
            ],
            "label": "Energy",
            "method": "animate"
           },
           {
            "args": [
             [
              "Telecommunication Services"
             ],
             {
              "frame": {
               "duration": 0,
               "redraw": false
              },
              "fromcurrent": true,
              "mode": "immediate",
              "transition": {
               "duration": 0,
               "easing": "linear"
              }
             }
            ],
            "label": "Telecommunication Services",
            "method": "animate"
           }
          ],
          "x": 0.1,
          "xanchor": "left",
          "y": 0,
          "yanchor": "top"
         }
        ],
        "template": {
         "data": {
          "bar": [
           {
            "error_x": {
             "color": "#2a3f5f"
            },
            "error_y": {
             "color": "#2a3f5f"
            },
            "marker": {
             "line": {
              "color": "#E5ECF6",
              "width": 0.5
             }
            },
            "type": "bar"
           }
          ],
          "barpolar": [
           {
            "marker": {
             "line": {
              "color": "#E5ECF6",
              "width": 0.5
             }
            },
            "type": "barpolar"
           }
          ],
          "carpet": [
           {
            "aaxis": {
             "endlinecolor": "#2a3f5f",
             "gridcolor": "white",
             "linecolor": "white",
             "minorgridcolor": "white",
             "startlinecolor": "#2a3f5f"
            },
            "baxis": {
             "endlinecolor": "#2a3f5f",
             "gridcolor": "white",
             "linecolor": "white",
             "minorgridcolor": "white",
             "startlinecolor": "#2a3f5f"
            },
            "type": "carpet"
           }
          ],
          "choropleth": [
           {
            "colorbar": {
             "outlinewidth": 0,
             "ticks": ""
            },
            "type": "choropleth"
           }
          ],
          "contour": [
           {
            "colorbar": {
             "outlinewidth": 0,
             "ticks": ""
            },
            "colorscale": [
             [
              0,
              "#0d0887"
             ],
             [
              0.1111111111111111,
              "#46039f"
             ],
             [
              0.2222222222222222,
              "#7201a8"
             ],
             [
              0.3333333333333333,
              "#9c179e"
             ],
             [
              0.4444444444444444,
              "#bd3786"
             ],
             [
              0.5555555555555556,
              "#d8576b"
             ],
             [
              0.6666666666666666,
              "#ed7953"
             ],
             [
              0.7777777777777778,
              "#fb9f3a"
             ],
             [
              0.8888888888888888,
              "#fdca26"
             ],
             [
              1,
              "#f0f921"
             ]
            ],
            "type": "contour"
           }
          ],
          "contourcarpet": [
           {
            "colorbar": {
             "outlinewidth": 0,
             "ticks": ""
            },
            "type": "contourcarpet"
           }
          ],
          "heatmap": [
           {
            "colorbar": {
             "outlinewidth": 0,
             "ticks": ""
            },
            "colorscale": [
             [
              0,
              "#0d0887"
             ],
             [
              0.1111111111111111,
              "#46039f"
             ],
             [
              0.2222222222222222,
              "#7201a8"
             ],
             [
              0.3333333333333333,
              "#9c179e"
             ],
             [
              0.4444444444444444,
              "#bd3786"
             ],
             [
              0.5555555555555556,
              "#d8576b"
             ],
             [
              0.6666666666666666,
              "#ed7953"
             ],
             [
              0.7777777777777778,
              "#fb9f3a"
             ],
             [
              0.8888888888888888,
              "#fdca26"
             ],
             [
              1,
              "#f0f921"
             ]
            ],
            "type": "heatmap"
           }
          ],
          "heatmapgl": [
           {
            "colorbar": {
             "outlinewidth": 0,
             "ticks": ""
            },
            "colorscale": [
             [
              0,
              "#0d0887"
             ],
             [
              0.1111111111111111,
              "#46039f"
             ],
             [
              0.2222222222222222,
              "#7201a8"
             ],
             [
              0.3333333333333333,
              "#9c179e"
             ],
             [
              0.4444444444444444,
              "#bd3786"
             ],
             [
              0.5555555555555556,
              "#d8576b"
             ],
             [
              0.6666666666666666,
              "#ed7953"
             ],
             [
              0.7777777777777778,
              "#fb9f3a"
             ],
             [
              0.8888888888888888,
              "#fdca26"
             ],
             [
              1,
              "#f0f921"
             ]
            ],
            "type": "heatmapgl"
           }
          ],
          "histogram": [
           {
            "marker": {
             "colorbar": {
              "outlinewidth": 0,
              "ticks": ""
             }
            },
            "type": "histogram"
           }
          ],
          "histogram2d": [
           {
            "colorbar": {
             "outlinewidth": 0,
             "ticks": ""
            },
            "colorscale": [
             [
              0,
              "#0d0887"
             ],
             [
              0.1111111111111111,
              "#46039f"
             ],
             [
              0.2222222222222222,
              "#7201a8"
             ],
             [
              0.3333333333333333,
              "#9c179e"
             ],
             [
              0.4444444444444444,
              "#bd3786"
             ],
             [
              0.5555555555555556,
              "#d8576b"
             ],
             [
              0.6666666666666666,
              "#ed7953"
             ],
             [
              0.7777777777777778,
              "#fb9f3a"
             ],
             [
              0.8888888888888888,
              "#fdca26"
             ],
             [
              1,
              "#f0f921"
             ]
            ],
            "type": "histogram2d"
           }
          ],
          "histogram2dcontour": [
           {
            "colorbar": {
             "outlinewidth": 0,
             "ticks": ""
            },
            "colorscale": [
             [
              0,
              "#0d0887"
             ],
             [
              0.1111111111111111,
              "#46039f"
             ],
             [
              0.2222222222222222,
              "#7201a8"
             ],
             [
              0.3333333333333333,
              "#9c179e"
             ],
             [
              0.4444444444444444,
              "#bd3786"
             ],
             [
              0.5555555555555556,
              "#d8576b"
             ],
             [
              0.6666666666666666,
              "#ed7953"
             ],
             [
              0.7777777777777778,
              "#fb9f3a"
             ],
             [
              0.8888888888888888,
              "#fdca26"
             ],
             [
              1,
              "#f0f921"
             ]
            ],
            "type": "histogram2dcontour"
           }
          ],
          "mesh3d": [
           {
            "colorbar": {
             "outlinewidth": 0,
             "ticks": ""
            },
            "type": "mesh3d"
           }
          ],
          "parcoords": [
           {
            "line": {
             "colorbar": {
              "outlinewidth": 0,
              "ticks": ""
             }
            },
            "type": "parcoords"
           }
          ],
          "pie": [
           {
            "automargin": true,
            "type": "pie"
           }
          ],
          "scatter": [
           {
            "marker": {
             "colorbar": {
              "outlinewidth": 0,
              "ticks": ""
             }
            },
            "type": "scatter"
           }
          ],
          "scatter3d": [
           {
            "line": {
             "colorbar": {
              "outlinewidth": 0,
              "ticks": ""
             }
            },
            "marker": {
             "colorbar": {
              "outlinewidth": 0,
              "ticks": ""
             }
            },
            "type": "scatter3d"
           }
          ],
          "scattercarpet": [
           {
            "marker": {
             "colorbar": {
              "outlinewidth": 0,
              "ticks": ""
             }
            },
            "type": "scattercarpet"
           }
          ],
          "scattergeo": [
           {
            "marker": {
             "colorbar": {
              "outlinewidth": 0,
              "ticks": ""
             }
            },
            "type": "scattergeo"
           }
          ],
          "scattergl": [
           {
            "marker": {
             "colorbar": {
              "outlinewidth": 0,
              "ticks": ""
             }
            },
            "type": "scattergl"
           }
          ],
          "scattermapbox": [
           {
            "marker": {
             "colorbar": {
              "outlinewidth": 0,
              "ticks": ""
             }
            },
            "type": "scattermapbox"
           }
          ],
          "scatterpolar": [
           {
            "marker": {
             "colorbar": {
              "outlinewidth": 0,
              "ticks": ""
             }
            },
            "type": "scatterpolar"
           }
          ],
          "scatterpolargl": [
           {
            "marker": {
             "colorbar": {
              "outlinewidth": 0,
              "ticks": ""
             }
            },
            "type": "scatterpolargl"
           }
          ],
          "scatterternary": [
           {
            "marker": {
             "colorbar": {
              "outlinewidth": 0,
              "ticks": ""
             }
            },
            "type": "scatterternary"
           }
          ],
          "surface": [
           {
            "colorbar": {
             "outlinewidth": 0,
             "ticks": ""
            },
            "colorscale": [
             [
              0,
              "#0d0887"
             ],
             [
              0.1111111111111111,
              "#46039f"
             ],
             [
              0.2222222222222222,
              "#7201a8"
             ],
             [
              0.3333333333333333,
              "#9c179e"
             ],
             [
              0.4444444444444444,
              "#bd3786"
             ],
             [
              0.5555555555555556,
              "#d8576b"
             ],
             [
              0.6666666666666666,
              "#ed7953"
             ],
             [
              0.7777777777777778,
              "#fb9f3a"
             ],
             [
              0.8888888888888888,
              "#fdca26"
             ],
             [
              1,
              "#f0f921"
             ]
            ],
            "type": "surface"
           }
          ],
          "table": [
           {
            "cells": {
             "fill": {
              "color": "#EBF0F8"
             },
             "line": {
              "color": "white"
             }
            },
            "header": {
             "fill": {
              "color": "#C8D4E3"
             },
             "line": {
              "color": "white"
             }
            },
            "type": "table"
           }
          ]
         },
         "layout": {
          "annotationdefaults": {
           "arrowcolor": "#2a3f5f",
           "arrowhead": 0,
           "arrowwidth": 1
          },
          "autotypenumbers": "strict",
          "coloraxis": {
           "colorbar": {
            "outlinewidth": 0,
            "ticks": ""
           }
          },
          "colorscale": {
           "diverging": [
            [
             0,
             "#8e0152"
            ],
            [
             0.1,
             "#c51b7d"
            ],
            [
             0.2,
             "#de77ae"
            ],
            [
             0.3,
             "#f1b6da"
            ],
            [
             0.4,
             "#fde0ef"
            ],
            [
             0.5,
             "#f7f7f7"
            ],
            [
             0.6,
             "#e6f5d0"
            ],
            [
             0.7,
             "#b8e186"
            ],
            [
             0.8,
             "#7fbc41"
            ],
            [
             0.9,
             "#4d9221"
            ],
            [
             1,
             "#276419"
            ]
           ],
           "sequential": [
            [
             0,
             "#0d0887"
            ],
            [
             0.1111111111111111,
             "#46039f"
            ],
            [
             0.2222222222222222,
             "#7201a8"
            ],
            [
             0.3333333333333333,
             "#9c179e"
            ],
            [
             0.4444444444444444,
             "#bd3786"
            ],
            [
             0.5555555555555556,
             "#d8576b"
            ],
            [
             0.6666666666666666,
             "#ed7953"
            ],
            [
             0.7777777777777778,
             "#fb9f3a"
            ],
            [
             0.8888888888888888,
             "#fdca26"
            ],
            [
             1,
             "#f0f921"
            ]
           ],
           "sequentialminus": [
            [
             0,
             "#0d0887"
            ],
            [
             0.1111111111111111,
             "#46039f"
            ],
            [
             0.2222222222222222,
             "#7201a8"
            ],
            [
             0.3333333333333333,
             "#9c179e"
            ],
            [
             0.4444444444444444,
             "#bd3786"
            ],
            [
             0.5555555555555556,
             "#d8576b"
            ],
            [
             0.6666666666666666,
             "#ed7953"
            ],
            [
             0.7777777777777778,
             "#fb9f3a"
            ],
            [
             0.8888888888888888,
             "#fdca26"
            ],
            [
             1,
             "#f0f921"
            ]
           ]
          },
          "colorway": [
           "#636efa",
           "#EF553B",
           "#00cc96",
           "#ab63fa",
           "#FFA15A",
           "#19d3f3",
           "#FF6692",
           "#B6E880",
           "#FF97FF",
           "#FECB52"
          ],
          "font": {
           "color": "#2a3f5f"
          },
          "geo": {
           "bgcolor": "white",
           "lakecolor": "white",
           "landcolor": "#E5ECF6",
           "showlakes": true,
           "showland": true,
           "subunitcolor": "white"
          },
          "hoverlabel": {
           "align": "left"
          },
          "hovermode": "closest",
          "mapbox": {
           "style": "light"
          },
          "paper_bgcolor": "white",
          "plot_bgcolor": "#E5ECF6",
          "polar": {
           "angularaxis": {
            "gridcolor": "white",
            "linecolor": "white",
            "ticks": ""
           },
           "bgcolor": "#E5ECF6",
           "radialaxis": {
            "gridcolor": "white",
            "linecolor": "white",
            "ticks": ""
           }
          },
          "scene": {
           "xaxis": {
            "backgroundcolor": "#E5ECF6",
            "gridcolor": "white",
            "gridwidth": 2,
            "linecolor": "white",
            "showbackground": true,
            "ticks": "",
            "zerolinecolor": "white"
           },
           "yaxis": {
            "backgroundcolor": "#E5ECF6",
            "gridcolor": "white",
            "gridwidth": 2,
            "linecolor": "white",
            "showbackground": true,
            "ticks": "",
            "zerolinecolor": "white"
           },
           "zaxis": {
            "backgroundcolor": "#E5ECF6",
            "gridcolor": "white",
            "gridwidth": 2,
            "linecolor": "white",
            "showbackground": true,
            "ticks": "",
            "zerolinecolor": "white"
           }
          },
          "shapedefaults": {
           "line": {
            "color": "#2a3f5f"
           }
          },
          "ternary": {
           "aaxis": {
            "gridcolor": "white",
            "linecolor": "white",
            "ticks": ""
           },
           "baxis": {
            "gridcolor": "white",
            "linecolor": "white",
            "ticks": ""
           },
           "bgcolor": "#E5ECF6",
           "caxis": {
            "gridcolor": "white",
            "linecolor": "white",
            "ticks": ""
           }
          },
          "title": {
           "x": 0.05
          },
          "xaxis": {
           "automargin": true,
           "gridcolor": "white",
           "linecolor": "white",
           "ticks": "",
           "title": {
            "standoff": 15
           },
           "zerolinecolor": "white",
           "zerolinewidth": 2
          },
          "yaxis": {
           "automargin": true,
           "gridcolor": "white",
           "linecolor": "white",
           "ticks": "",
           "title": {
            "standoff": 15
           },
           "zerolinecolor": "white",
           "zerolinewidth": 2
          }
         }
        },
        "updatemenus": [
         {
          "buttons": [
           {
            "args": [
             null,
             {
              "frame": {
               "duration": 3000,
               "redraw": false
              },
              "fromcurrent": true,
              "mode": "immediate",
              "transition": {
               "duration": 3500,
               "easing": "linear"
              }
             }
            ],
            "label": "&#9654;",
            "method": "animate"
           },
           {
            "args": [
             [
              null
             ],
             {
              "frame": {
               "duration": 0,
               "redraw": false
              },
              "fromcurrent": true,
              "mode": "immediate",
              "transition": {
               "duration": 0,
               "easing": "linear"
              }
             }
            ],
            "label": "&#9724;",
            "method": "animate"
           }
          ],
          "direction": "left",
          "pad": {
           "r": 10,
           "t": 70
          },
          "showactive": false,
          "type": "buttons",
          "x": 0.1,
          "xanchor": "right",
          "y": 0,
          "yanchor": "top"
         }
        ],
        "xaxis": {
         "anchor": "y",
         "domain": [
          0,
          1
         ],
         "title": {
          "text": "Symbol"
         }
        },
        "yaxis": {
         "anchor": "x",
         "domain": [
          0,
          1
         ],
         "title": {
          "text": "Price"
         }
        }
       }
      },
      "text/html": [
       "<div>                            <div id=\"cef0dce5-594e-4d08-bc5f-120a439494f3\" class=\"plotly-graph-div\" style=\"height:525px; width:100%;\"></div>            <script type=\"text/javascript\">                require([\"plotly\"], function(Plotly) {                    window.PLOTLYENV=window.PLOTLYENV || {};                                    if (document.getElementById(\"cef0dce5-594e-4d08-bc5f-120a439494f3\")) {                    Plotly.newPlot(                        \"cef0dce5-594e-4d08-bc5f-120a439494f3\",                        [{\"hovertemplate\": \"<b>%{hovertext}</b><br><br>Sector=Industrials<br>Symbol=%{x}<br>Price=%{y}<br>Market Cap=%{marker.size}<extra></extra>\", \"hovertext\": [\"3M Company\", \"A.O. Smith Corp\", \"Acuity Brands Inc\", \"Alaska Air Group Inc\", \"Allegion\", \"American Airlines Group\", \"AMETEK Inc\", \"Boeing Company\", \"C. H. Robinson Worldwide\", \"Caterpillar Inc.\", \"Cintas Corporation\", \"CSX Corp.\", \"Cummins Inc.\", \"Deere & Co.\", \"Delta Air Lines Inc.\", \"Dover Corp.\", \"Eaton Corporation\", \"Emerson Electric Company\", \"Equifax Inc.\", \"Expeditors International\", \"Fastenal Co\", \"FedEx Corporation\", \"Flowserve Corporation\", \"Fluor Corp.\", \"Fortive Corp\", \"Fortune Brands Home & Security\", \"General Dynamics\", \"General Electric\", \"Grainger (W.W.) Inc.\", \"Honeywell Int'l Inc.\", \"Huntington Ingalls Industries\", \"IHS Markit Ltd.\", \"Illinois Tool Works\", \"Ingersoll-Rand PLC\", \"J. B. Hunt Transport Services\", \"Jacobs Engineering Group\", \"Johnson Controls International\", \"Kansas City Southern\", \"L-3 Communications Holdings\", \"Lockheed Martin Corp.\", \"Masco Corp.\", \"Nielsen Holdings\", \"Norfolk Southern Corp.\", \"Northrop Grumman Corp.\", \"PACCAR Inc.\", \"Parker-Hannifin\", \"Pentair Ltd.\", \"Quanta Services Inc.\", \"Raytheon Co.\", \"Republic Services Inc\", \"Robert Half International\", \"Rockwell Automation Inc.\", \"Rockwell Collins\", \"Roper Technologies\", \"Southwest Airlines\", \"Stericycle Inc\", \"Textron Inc.\", \"United Continental Holdings\", \"United Parcel Service\", \"United Rentals, Inc.\", \"United Technologies\", \"Verisk Analytics\", \"Waste Management Inc.\", \"Xylem Inc.\"], \"ids\": [\"MMM\", \"AOS\", \"AYI\", \"ALK\", \"ALLE\", \"AAL\", \"AME\", \"BA\", \"CHRW\", \"CAT\", \"CTAS\", \"CSX\", \"CMI\", \"DE\", \"DAL\", \"DOV\", \"ETN\", \"EMR\", \"EFX\", \"EXPD\", \"FAST\", \"FDX\", \"FLS\", \"FLR\", \"FTV\", \"FBHS\", \"GD\", \"GE\", \"GWW\", \"HON\", \"HII\", \"INFO\", \"ITW\", \"IR\", \"JBHT\", \"JEC\", \"JCI\", \"KSU\", \"LLL\", \"LMT\", \"MAS\", \"NLSN\", \"NSC\", \"NOC\", \"PCAR\", \"PH\", \"PNR\", \"PWR\", \"RTN\", \"RSG\", \"RHI\", \"ROK\", \"COL\", \"ROP\", \"LUV\", \"SRCL\", \"TXT\", \"UAL\", \"UPS\", \"URI\", \"UTX\", \"VRSK\", \"WM\", \"XYL\"], \"legendgroup\": \"Industrials\", \"marker\": {\"color\": \"#636efa\", \"size\": [138721055226.0, 10783419933.0, 6242377704.0, 7903173734.0, 7599609494.0, 24594852352.0, 17139651923.0, 205617405233.0, 12932483889.0, 91822049046.0, 16676145923.0, 47340511707.0, 28669230787.0, 52186628646.0, 38393603535.0, 15566645713.0, 35961772000.0, 44040298425.0, 14121334618.0, 11040678071.0, 15311373377.0, 67280478816.0, 5427884956.0, 7978485059.0, 24916503061.0, 9624169008.0, 64180390701.0, 132249296250.0, 14639308205.0, 114422168609.0, 10628247899.0, 17969275816.0, 55994378108.0, 22785450609.0, 12945366350.0, 9326484316.0, 34822224800.0, 11037040988.0, 16229343134.0, 98102120000.0, 13428792315.0, 13377670080.0, 40543547441.0, 58782413951.0, 24152102921.0, 24421668509.0, 12466660892.0, 5330131216.0, 59066255840.0, 21590903863.0, 7047165475.0, 24123216432.0, 22197870556.0, 27247789759.0, 34351211637.0, 6218560288.0, 15254672353.0, 19363059152.0, 96436356833.0, 14654954091.0, 105387272474.0, 15594677147.0, 35488486675.0, 12915021000.0], \"sizemode\": \"area\", \"sizeref\": 899453371.1333333, \"symbol\": \"circle\"}, \"mode\": \"markers\", \"name\": \"Industrials\", \"orientation\": \"v\", \"showlegend\": true, \"type\": \"scatter\", \"x\": [\"MMM\", \"AOS\", \"AYI\", \"ALK\", \"ALLE\", \"AAL\", \"AME\", \"BA\", \"CHRW\", \"CAT\", \"CTAS\", \"CSX\", \"CMI\", \"DE\", \"DAL\", \"DOV\", \"ETN\", \"EMR\", \"EFX\", \"EXPD\", \"FAST\", \"FDX\", \"FLS\", \"FLR\", \"FTV\", \"FBHS\", \"GD\", \"GE\", \"GWW\", \"HON\", \"HII\", \"INFO\", \"ITW\", \"IR\", \"JBHT\", \"JEC\", \"JCI\", \"KSU\", \"LLL\", \"LMT\", \"MAS\", \"NLSN\", \"NSC\", \"NOC\", \"PCAR\", \"PH\", \"PNR\", \"PWR\", \"RTN\", \"RSG\", \"RHI\", \"ROK\", \"COL\", \"ROP\", \"LUV\", \"SRCL\", \"TXT\", \"UAL\", \"UPS\", \"URI\", \"UTX\", \"VRSK\", \"WM\", \"XYL\"], \"xaxis\": \"x\", \"y\": [222.89, 60.24, 145.41, 64.04, 77.32, 48.6, 72.05, 329.66, 90.47, 145.99, 149.32, 50.47, 165.73, 153.66, 51.23, 96.2, 79.41, 66.4, 114.0, 60.36, 52.15, 239.27, 40.82, 55.31, 69.14, 62.44, 206.05, 14.45, 258.6, 146.02, 225.37, 43.73, 156.15, 87.6, 114.81, 62.82, 36.55, 103.53, 198.79, 334.3, 40.7, 33.9, 136.89, 324.01, 66.98, 174.51, 66.67, 33.51, 198.74, 62.72, 52.26, 178.73, 133.31, 259.4, 55.63, 70.55, 55.54, 63.37, 109.28, 161.99, 127.48, 92.28, 79.12, 70.24], \"yaxis\": \"y\"}],                        {\"legend\": {\"itemsizing\": \"constant\", \"title\": {\"text\": \"Sector\"}, \"tracegroupgap\": 0}, \"margin\": {\"t\": 60}, \"sliders\": [{\"active\": 0, \"currentvalue\": {\"prefix\": \"Sector=\"}, \"len\": 0.9, \"pad\": {\"b\": 10, \"t\": 60}, \"steps\": [{\"args\": [[\"Industrials\"], {\"frame\": {\"duration\": 0, \"redraw\": false}, \"fromcurrent\": true, \"mode\": \"immediate\", \"transition\": {\"duration\": 0, \"easing\": \"linear\"}}], \"label\": \"Industrials\", \"method\": \"animate\"}, {\"args\": [[\"Health Care\"], {\"frame\": {\"duration\": 0, \"redraw\": false}, \"fromcurrent\": true, \"mode\": \"immediate\", \"transition\": {\"duration\": 0, \"easing\": \"linear\"}}], \"label\": \"Health Care\", \"method\": \"animate\"}, {\"args\": [[\"Information Technology\"], {\"frame\": {\"duration\": 0, \"redraw\": false}, \"fromcurrent\": true, \"mode\": \"immediate\", \"transition\": {\"duration\": 0, \"easing\": \"linear\"}}], \"label\": \"Information Technology\", \"method\": \"animate\"}, {\"args\": [[\"Consumer Discretionary\"], {\"frame\": {\"duration\": 0, \"redraw\": false}, \"fromcurrent\": true, \"mode\": \"immediate\", \"transition\": {\"duration\": 0, \"easing\": \"linear\"}}], \"label\": \"Consumer Discretionary\", \"method\": \"animate\"}, {\"args\": [[\"Utilities\"], {\"frame\": {\"duration\": 0, \"redraw\": false}, \"fromcurrent\": true, \"mode\": \"immediate\", \"transition\": {\"duration\": 0, \"easing\": \"linear\"}}], \"label\": \"Utilities\", \"method\": \"animate\"}, {\"args\": [[\"Financials\"], {\"frame\": {\"duration\": 0, \"redraw\": false}, \"fromcurrent\": true, \"mode\": \"immediate\", \"transition\": {\"duration\": 0, \"easing\": \"linear\"}}], \"label\": \"Financials\", \"method\": \"animate\"}, {\"args\": [[\"Materials\"], {\"frame\": {\"duration\": 0, \"redraw\": false}, \"fromcurrent\": true, \"mode\": \"immediate\", \"transition\": {\"duration\": 0, \"easing\": \"linear\"}}], \"label\": \"Materials\", \"method\": \"animate\"}, {\"args\": [[\"Real Estate\"], {\"frame\": {\"duration\": 0, \"redraw\": false}, \"fromcurrent\": true, \"mode\": \"immediate\", \"transition\": {\"duration\": 0, \"easing\": \"linear\"}}], \"label\": \"Real Estate\", \"method\": \"animate\"}, {\"args\": [[\"Consumer Staples\"], {\"frame\": {\"duration\": 0, \"redraw\": false}, \"fromcurrent\": true, \"mode\": \"immediate\", \"transition\": {\"duration\": 0, \"easing\": \"linear\"}}], \"label\": \"Consumer Staples\", \"method\": \"animate\"}, {\"args\": [[\"Energy\"], {\"frame\": {\"duration\": 0, \"redraw\": false}, \"fromcurrent\": true, \"mode\": \"immediate\", \"transition\": {\"duration\": 0, \"easing\": \"linear\"}}], \"label\": \"Energy\", \"method\": \"animate\"}, {\"args\": [[\"Telecommunication Services\"], {\"frame\": {\"duration\": 0, \"redraw\": false}, \"fromcurrent\": true, \"mode\": \"immediate\", \"transition\": {\"duration\": 0, \"easing\": \"linear\"}}], \"label\": \"Telecommunication Services\", \"method\": \"animate\"}], \"x\": 0.1, \"xanchor\": \"left\", \"y\": 0, \"yanchor\": \"top\"}], \"template\": {\"data\": {\"bar\": [{\"error_x\": {\"color\": \"#2a3f5f\"}, \"error_y\": {\"color\": \"#2a3f5f\"}, \"marker\": {\"line\": {\"color\": \"#E5ECF6\", \"width\": 0.5}}, \"type\": \"bar\"}], \"barpolar\": [{\"marker\": {\"line\": {\"color\": \"#E5ECF6\", \"width\": 0.5}}, \"type\": \"barpolar\"}], \"carpet\": [{\"aaxis\": {\"endlinecolor\": \"#2a3f5f\", \"gridcolor\": \"white\", \"linecolor\": \"white\", \"minorgridcolor\": \"white\", \"startlinecolor\": \"#2a3f5f\"}, \"baxis\": {\"endlinecolor\": \"#2a3f5f\", \"gridcolor\": \"white\", \"linecolor\": \"white\", \"minorgridcolor\": \"white\", \"startlinecolor\": \"#2a3f5f\"}, \"type\": \"carpet\"}], \"choropleth\": [{\"colorbar\": {\"outlinewidth\": 0, \"ticks\": \"\"}, \"type\": \"choropleth\"}], \"contour\": [{\"colorbar\": {\"outlinewidth\": 0, \"ticks\": \"\"}, \"colorscale\": [[0.0, \"#0d0887\"], [0.1111111111111111, \"#46039f\"], [0.2222222222222222, \"#7201a8\"], [0.3333333333333333, \"#9c179e\"], [0.4444444444444444, \"#bd3786\"], [0.5555555555555556, \"#d8576b\"], [0.6666666666666666, \"#ed7953\"], [0.7777777777777778, \"#fb9f3a\"], [0.8888888888888888, \"#fdca26\"], [1.0, \"#f0f921\"]], \"type\": \"contour\"}], \"contourcarpet\": [{\"colorbar\": {\"outlinewidth\": 0, \"ticks\": \"\"}, \"type\": \"contourcarpet\"}], \"heatmap\": [{\"colorbar\": {\"outlinewidth\": 0, \"ticks\": \"\"}, \"colorscale\": [[0.0, \"#0d0887\"], [0.1111111111111111, \"#46039f\"], [0.2222222222222222, \"#7201a8\"], [0.3333333333333333, \"#9c179e\"], [0.4444444444444444, \"#bd3786\"], [0.5555555555555556, \"#d8576b\"], [0.6666666666666666, \"#ed7953\"], [0.7777777777777778, \"#fb9f3a\"], [0.8888888888888888, \"#fdca26\"], [1.0, \"#f0f921\"]], \"type\": \"heatmap\"}], \"heatmapgl\": [{\"colorbar\": {\"outlinewidth\": 0, \"ticks\": \"\"}, \"colorscale\": [[0.0, \"#0d0887\"], [0.1111111111111111, \"#46039f\"], [0.2222222222222222, \"#7201a8\"], [0.3333333333333333, \"#9c179e\"], [0.4444444444444444, \"#bd3786\"], [0.5555555555555556, \"#d8576b\"], [0.6666666666666666, \"#ed7953\"], [0.7777777777777778, \"#fb9f3a\"], [0.8888888888888888, \"#fdca26\"], [1.0, \"#f0f921\"]], \"type\": \"heatmapgl\"}], \"histogram\": [{\"marker\": {\"colorbar\": {\"outlinewidth\": 0, \"ticks\": \"\"}}, \"type\": \"histogram\"}], \"histogram2d\": [{\"colorbar\": {\"outlinewidth\": 0, \"ticks\": \"\"}, \"colorscale\": [[0.0, \"#0d0887\"], [0.1111111111111111, \"#46039f\"], [0.2222222222222222, \"#7201a8\"], [0.3333333333333333, \"#9c179e\"], [0.4444444444444444, \"#bd3786\"], [0.5555555555555556, \"#d8576b\"], [0.6666666666666666, \"#ed7953\"], [0.7777777777777778, \"#fb9f3a\"], [0.8888888888888888, \"#fdca26\"], [1.0, \"#f0f921\"]], \"type\": \"histogram2d\"}], \"histogram2dcontour\": [{\"colorbar\": {\"outlinewidth\": 0, \"ticks\": \"\"}, \"colorscale\": [[0.0, \"#0d0887\"], [0.1111111111111111, \"#46039f\"], [0.2222222222222222, \"#7201a8\"], [0.3333333333333333, \"#9c179e\"], [0.4444444444444444, \"#bd3786\"], [0.5555555555555556, \"#d8576b\"], [0.6666666666666666, \"#ed7953\"], [0.7777777777777778, \"#fb9f3a\"], [0.8888888888888888, \"#fdca26\"], [1.0, \"#f0f921\"]], \"type\": \"histogram2dcontour\"}], \"mesh3d\": [{\"colorbar\": {\"outlinewidth\": 0, \"ticks\": \"\"}, \"type\": \"mesh3d\"}], \"parcoords\": [{\"line\": {\"colorbar\": {\"outlinewidth\": 0, \"ticks\": \"\"}}, \"type\": \"parcoords\"}], \"pie\": [{\"automargin\": true, \"type\": \"pie\"}], \"scatter\": [{\"marker\": {\"colorbar\": {\"outlinewidth\": 0, \"ticks\": \"\"}}, \"type\": \"scatter\"}], \"scatter3d\": [{\"line\": {\"colorbar\": {\"outlinewidth\": 0, \"ticks\": \"\"}}, \"marker\": {\"colorbar\": {\"outlinewidth\": 0, \"ticks\": \"\"}}, \"type\": \"scatter3d\"}], \"scattercarpet\": [{\"marker\": {\"colorbar\": {\"outlinewidth\": 0, \"ticks\": \"\"}}, \"type\": \"scattercarpet\"}], \"scattergeo\": [{\"marker\": {\"colorbar\": {\"outlinewidth\": 0, \"ticks\": \"\"}}, \"type\": \"scattergeo\"}], \"scattergl\": [{\"marker\": {\"colorbar\": {\"outlinewidth\": 0, \"ticks\": \"\"}}, \"type\": \"scattergl\"}], \"scattermapbox\": [{\"marker\": {\"colorbar\": {\"outlinewidth\": 0, \"ticks\": \"\"}}, \"type\": \"scattermapbox\"}], \"scatterpolar\": [{\"marker\": {\"colorbar\": {\"outlinewidth\": 0, \"ticks\": \"\"}}, \"type\": \"scatterpolar\"}], \"scatterpolargl\": [{\"marker\": {\"colorbar\": {\"outlinewidth\": 0, \"ticks\": \"\"}}, \"type\": \"scatterpolargl\"}], \"scatterternary\": [{\"marker\": {\"colorbar\": {\"outlinewidth\": 0, \"ticks\": \"\"}}, \"type\": \"scatterternary\"}], \"surface\": [{\"colorbar\": {\"outlinewidth\": 0, \"ticks\": \"\"}, \"colorscale\": [[0.0, \"#0d0887\"], [0.1111111111111111, \"#46039f\"], [0.2222222222222222, \"#7201a8\"], [0.3333333333333333, \"#9c179e\"], [0.4444444444444444, \"#bd3786\"], [0.5555555555555556, \"#d8576b\"], [0.6666666666666666, \"#ed7953\"], [0.7777777777777778, \"#fb9f3a\"], [0.8888888888888888, \"#fdca26\"], [1.0, \"#f0f921\"]], \"type\": \"surface\"}], \"table\": [{\"cells\": {\"fill\": {\"color\": \"#EBF0F8\"}, \"line\": {\"color\": \"white\"}}, \"header\": {\"fill\": {\"color\": \"#C8D4E3\"}, \"line\": {\"color\": \"white\"}}, \"type\": \"table\"}]}, \"layout\": {\"annotationdefaults\": {\"arrowcolor\": \"#2a3f5f\", \"arrowhead\": 0, \"arrowwidth\": 1}, \"autotypenumbers\": \"strict\", \"coloraxis\": {\"colorbar\": {\"outlinewidth\": 0, \"ticks\": \"\"}}, \"colorscale\": {\"diverging\": [[0, \"#8e0152\"], [0.1, \"#c51b7d\"], [0.2, \"#de77ae\"], [0.3, \"#f1b6da\"], [0.4, \"#fde0ef\"], [0.5, \"#f7f7f7\"], [0.6, \"#e6f5d0\"], [0.7, \"#b8e186\"], [0.8, \"#7fbc41\"], [0.9, \"#4d9221\"], [1, \"#276419\"]], \"sequential\": [[0.0, \"#0d0887\"], [0.1111111111111111, \"#46039f\"], [0.2222222222222222, \"#7201a8\"], [0.3333333333333333, \"#9c179e\"], [0.4444444444444444, \"#bd3786\"], [0.5555555555555556, \"#d8576b\"], [0.6666666666666666, \"#ed7953\"], [0.7777777777777778, \"#fb9f3a\"], [0.8888888888888888, \"#fdca26\"], [1.0, \"#f0f921\"]], \"sequentialminus\": [[0.0, \"#0d0887\"], [0.1111111111111111, \"#46039f\"], [0.2222222222222222, \"#7201a8\"], [0.3333333333333333, \"#9c179e\"], [0.4444444444444444, \"#bd3786\"], [0.5555555555555556, \"#d8576b\"], [0.6666666666666666, \"#ed7953\"], [0.7777777777777778, \"#fb9f3a\"], [0.8888888888888888, \"#fdca26\"], [1.0, \"#f0f921\"]]}, \"colorway\": [\"#636efa\", \"#EF553B\", \"#00cc96\", \"#ab63fa\", \"#FFA15A\", \"#19d3f3\", \"#FF6692\", \"#B6E880\", \"#FF97FF\", \"#FECB52\"], \"font\": {\"color\": \"#2a3f5f\"}, \"geo\": {\"bgcolor\": \"white\", \"lakecolor\": \"white\", \"landcolor\": \"#E5ECF6\", \"showlakes\": true, \"showland\": true, \"subunitcolor\": \"white\"}, \"hoverlabel\": {\"align\": \"left\"}, \"hovermode\": \"closest\", \"mapbox\": {\"style\": \"light\"}, \"paper_bgcolor\": \"white\", \"plot_bgcolor\": \"#E5ECF6\", \"polar\": {\"angularaxis\": {\"gridcolor\": \"white\", \"linecolor\": \"white\", \"ticks\": \"\"}, \"bgcolor\": \"#E5ECF6\", \"radialaxis\": {\"gridcolor\": \"white\", \"linecolor\": \"white\", \"ticks\": \"\"}}, \"scene\": {\"xaxis\": {\"backgroundcolor\": \"#E5ECF6\", \"gridcolor\": \"white\", \"gridwidth\": 2, \"linecolor\": \"white\", \"showbackground\": true, \"ticks\": \"\", \"zerolinecolor\": \"white\"}, \"yaxis\": {\"backgroundcolor\": \"#E5ECF6\", \"gridcolor\": \"white\", \"gridwidth\": 2, \"linecolor\": \"white\", \"showbackground\": true, \"ticks\": \"\", \"zerolinecolor\": \"white\"}, \"zaxis\": {\"backgroundcolor\": \"#E5ECF6\", \"gridcolor\": \"white\", \"gridwidth\": 2, \"linecolor\": \"white\", \"showbackground\": true, \"ticks\": \"\", \"zerolinecolor\": \"white\"}}, \"shapedefaults\": {\"line\": {\"color\": \"#2a3f5f\"}}, \"ternary\": {\"aaxis\": {\"gridcolor\": \"white\", \"linecolor\": \"white\", \"ticks\": \"\"}, \"baxis\": {\"gridcolor\": \"white\", \"linecolor\": \"white\", \"ticks\": \"\"}, \"bgcolor\": \"#E5ECF6\", \"caxis\": {\"gridcolor\": \"white\", \"linecolor\": \"white\", \"ticks\": \"\"}}, \"title\": {\"x\": 0.05}, \"xaxis\": {\"automargin\": true, \"gridcolor\": \"white\", \"linecolor\": \"white\", \"ticks\": \"\", \"title\": {\"standoff\": 15}, \"zerolinecolor\": \"white\", \"zerolinewidth\": 2}, \"yaxis\": {\"automargin\": true, \"gridcolor\": \"white\", \"linecolor\": \"white\", \"ticks\": \"\", \"title\": {\"standoff\": 15}, \"zerolinecolor\": \"white\", \"zerolinewidth\": 2}}}, \"updatemenus\": [{\"buttons\": [{\"args\": [null, {\"frame\": {\"duration\": 3000, \"redraw\": false}, \"fromcurrent\": true, \"mode\": \"immediate\", \"transition\": {\"duration\": 3500, \"easing\": \"linear\"}}], \"label\": \"&#9654;\", \"method\": \"animate\"}, {\"args\": [[null], {\"frame\": {\"duration\": 0, \"redraw\": false}, \"fromcurrent\": true, \"mode\": \"immediate\", \"transition\": {\"duration\": 0, \"easing\": \"linear\"}}], \"label\": \"&#9724;\", \"method\": \"animate\"}], \"direction\": \"left\", \"pad\": {\"r\": 10, \"t\": 70}, \"showactive\": false, \"type\": \"buttons\", \"x\": 0.1, \"xanchor\": \"right\", \"y\": 0, \"yanchor\": \"top\"}], \"xaxis\": {\"anchor\": \"y\", \"domain\": [0.0, 1.0], \"title\": {\"text\": \"Symbol\"}}, \"yaxis\": {\"anchor\": \"x\", \"domain\": [0.0, 1.0], \"title\": {\"text\": \"Price\"}}},                        {\"responsive\": true}                    ).then(function(){\n",
       "                            Plotly.addFrames('cef0dce5-594e-4d08-bc5f-120a439494f3', [{\"data\": [{\"hovertemplate\": \"<b>%{hovertext}</b><br><br>Sector=Industrials<br>Symbol=%{x}<br>Price=%{y}<br>Market Cap=%{marker.size}<extra></extra>\", \"hovertext\": [\"3M Company\", \"A.O. Smith Corp\", \"Acuity Brands Inc\", \"Alaska Air Group Inc\", \"Allegion\", \"American Airlines Group\", \"AMETEK Inc\", \"Boeing Company\", \"C. H. Robinson Worldwide\", \"Caterpillar Inc.\", \"Cintas Corporation\", \"CSX Corp.\", \"Cummins Inc.\", \"Deere & Co.\", \"Delta Air Lines Inc.\", \"Dover Corp.\", \"Eaton Corporation\", \"Emerson Electric Company\", \"Equifax Inc.\", \"Expeditors International\", \"Fastenal Co\", \"FedEx Corporation\", \"Flowserve Corporation\", \"Fluor Corp.\", \"Fortive Corp\", \"Fortune Brands Home & Security\", \"General Dynamics\", \"General Electric\", \"Grainger (W.W.) Inc.\", \"Honeywell Int'l Inc.\", \"Huntington Ingalls Industries\", \"IHS Markit Ltd.\", \"Illinois Tool Works\", \"Ingersoll-Rand PLC\", \"J. B. Hunt Transport Services\", \"Jacobs Engineering Group\", \"Johnson Controls International\", \"Kansas City Southern\", \"L-3 Communications Holdings\", \"Lockheed Martin Corp.\", \"Masco Corp.\", \"Nielsen Holdings\", \"Norfolk Southern Corp.\", \"Northrop Grumman Corp.\", \"PACCAR Inc.\", \"Parker-Hannifin\", \"Pentair Ltd.\", \"Quanta Services Inc.\", \"Raytheon Co.\", \"Republic Services Inc\", \"Robert Half International\", \"Rockwell Automation Inc.\", \"Rockwell Collins\", \"Roper Technologies\", \"Southwest Airlines\", \"Stericycle Inc\", \"Textron Inc.\", \"United Continental Holdings\", \"United Parcel Service\", \"United Rentals, Inc.\", \"United Technologies\", \"Verisk Analytics\", \"Waste Management Inc.\", \"Xylem Inc.\"], \"ids\": [\"MMM\", \"AOS\", \"AYI\", \"ALK\", \"ALLE\", \"AAL\", \"AME\", \"BA\", \"CHRW\", \"CAT\", \"CTAS\", \"CSX\", \"CMI\", \"DE\", \"DAL\", \"DOV\", \"ETN\", \"EMR\", \"EFX\", \"EXPD\", \"FAST\", \"FDX\", \"FLS\", \"FLR\", \"FTV\", \"FBHS\", \"GD\", \"GE\", \"GWW\", \"HON\", \"HII\", \"INFO\", \"ITW\", \"IR\", \"JBHT\", \"JEC\", \"JCI\", \"KSU\", \"LLL\", \"LMT\", \"MAS\", \"NLSN\", \"NSC\", \"NOC\", \"PCAR\", \"PH\", \"PNR\", \"PWR\", \"RTN\", \"RSG\", \"RHI\", \"ROK\", \"COL\", \"ROP\", \"LUV\", \"SRCL\", \"TXT\", \"UAL\", \"UPS\", \"URI\", \"UTX\", \"VRSK\", \"WM\", \"XYL\"], \"legendgroup\": \"Industrials\", \"marker\": {\"color\": \"#636efa\", \"size\": [138721055226.0, 10783419933.0, 6242377704.0, 7903173734.0, 7599609494.0, 24594852352.0, 17139651923.0, 205617405233.0, 12932483889.0, 91822049046.0, 16676145923.0, 47340511707.0, 28669230787.0, 52186628646.0, 38393603535.0, 15566645713.0, 35961772000.0, 44040298425.0, 14121334618.0, 11040678071.0, 15311373377.0, 67280478816.0, 5427884956.0, 7978485059.0, 24916503061.0, 9624169008.0, 64180390701.0, 132249296250.0, 14639308205.0, 114422168609.0, 10628247899.0, 17969275816.0, 55994378108.0, 22785450609.0, 12945366350.0, 9326484316.0, 34822224800.0, 11037040988.0, 16229343134.0, 98102120000.0, 13428792315.0, 13377670080.0, 40543547441.0, 58782413951.0, 24152102921.0, 24421668509.0, 12466660892.0, 5330131216.0, 59066255840.0, 21590903863.0, 7047165475.0, 24123216432.0, 22197870556.0, 27247789759.0, 34351211637.0, 6218560288.0, 15254672353.0, 19363059152.0, 96436356833.0, 14654954091.0, 105387272474.0, 15594677147.0, 35488486675.0, 12915021000.0], \"sizemode\": \"area\", \"sizeref\": 899453371.1333333, \"symbol\": \"circle\"}, \"mode\": \"markers\", \"name\": \"Industrials\", \"orientation\": \"v\", \"showlegend\": true, \"x\": [\"MMM\", \"AOS\", \"AYI\", \"ALK\", \"ALLE\", \"AAL\", \"AME\", \"BA\", \"CHRW\", \"CAT\", \"CTAS\", \"CSX\", \"CMI\", \"DE\", \"DAL\", \"DOV\", \"ETN\", \"EMR\", \"EFX\", \"EXPD\", \"FAST\", \"FDX\", \"FLS\", \"FLR\", \"FTV\", \"FBHS\", \"GD\", \"GE\", \"GWW\", \"HON\", \"HII\", \"INFO\", \"ITW\", \"IR\", \"JBHT\", \"JEC\", \"JCI\", \"KSU\", \"LLL\", \"LMT\", \"MAS\", \"NLSN\", \"NSC\", \"NOC\", \"PCAR\", \"PH\", \"PNR\", \"PWR\", \"RTN\", \"RSG\", \"RHI\", \"ROK\", \"COL\", \"ROP\", \"LUV\", \"SRCL\", \"TXT\", \"UAL\", \"UPS\", \"URI\", \"UTX\", \"VRSK\", \"WM\", \"XYL\"], \"xaxis\": \"x\", \"y\": [222.89, 60.24, 145.41, 64.04, 77.32, 48.6, 72.05, 329.66, 90.47, 145.99, 149.32, 50.47, 165.73, 153.66, 51.23, 96.2, 79.41, 66.4, 114.0, 60.36, 52.15, 239.27, 40.82, 55.31, 69.14, 62.44, 206.05, 14.45, 258.6, 146.02, 225.37, 43.73, 156.15, 87.6, 114.81, 62.82, 36.55, 103.53, 198.79, 334.3, 40.7, 33.9, 136.89, 324.01, 66.98, 174.51, 66.67, 33.51, 198.74, 62.72, 52.26, 178.73, 133.31, 259.4, 55.63, 70.55, 55.54, 63.37, 109.28, 161.99, 127.48, 92.28, 79.12, 70.24], \"yaxis\": \"y\", \"type\": \"scatter\"}], \"name\": \"Industrials\"}, {\"data\": [{\"hovertemplate\": \"<b>%{hovertext}</b><br><br>Sector=Health Care<br>Symbol=%{x}<br>Price=%{y}<br>Market Cap=%{marker.size}<extra></extra>\", \"hovertext\": [\"Abbott Laboratories\", \"AbbVie Inc.\", \"Aetna Inc\", \"Agilent Technologies Inc\", \"Alexion Pharmaceuticals\", \"Align Technology\", \"Allergan, Plc\", \"AmerisourceBergen Corp\", \"Amgen Inc\", \"Anthem Inc.\", \"Baxter International Inc.\", \"Becton Dickinson\", \"Biogen Inc.\", \"Boston Scientific\", \"Bristol-Myers Squibb\", \"Cardinal Health Inc.\", \"Celgene Corp.\", \"Centene Corporation\", \"Cerner\", \"CIGNA Corp.\", \"Danaher Corp.\", \"DaVita Inc.\", \"Dentsply Sirona\", \"Edwards Lifesciences\", \"Envision Healthcare\", \"Express Scripts\", \"Gilead Sciences\", \"Henry Schein\", \"Hologic\", \"Humana Inc.\", \"IDEXX Laboratories\", \"Illumina Inc\", \"Incyte\", \"Intuitive Surgical Inc.\", \"IQVIA Holdings Inc.\", \"Johnson & Johnson\", \"Laboratory Corp. of America Holding\", \"Lilly (Eli) & Co.\", \"McKesson Corp.\", \"Medtronic plc\", \"Merck & Co.\", \"Mettler Toledo\", \"Mylan N.V.\", \"Patterson Companies\", \"PerkinElmer\", \"Pfizer Inc.\", \"Quest Diagnostics\", \"Regeneron\", \"ResMed\", \"Stryker Corp.\", \"The Cooper Companies\", \"Thermo Fisher Scientific\", \"United Health Group Inc.\", \"Universal Health Services, Inc.\", \"Varian Medical Systems\", \"Vertex Pharmaceuticals Inc\", \"Waters Corporation\", \"Zimmer Biomet Holdings\", \"Zoetis\"], \"ids\": [\"ABT\", \"ABBV\", \"AET\", \"A\", \"ALXN\", \"ALGN\", \"AGN\", \"ABC\", \"AMGN\", \"ANTM\", \"BAX\", \"BDX\", \"BIIB\", \"BSX\", \"BMY\", \"CAH\", \"CELG\", \"CNC\", \"CERN\", \"CI\", \"DHR\", \"DVA\", \"XRAY\", \"EW\", \"EVHC\", \"ESRX\", \"GILD\", \"HSIC\", \"HOLX\", \"HUM\", \"IDXX\", \"ILMN\", \"INCY\", \"ISRG\", \"IQV\", \"JNJ\", \"LH\", \"LLY\", \"MCK\", \"MDT\", \"MRK\", \"MTD\", \"MYL\", \"PDCO\", \"PKI\", \"PFE\", \"DGX\", \"REGN\", \"RMD\", \"SYK\", \"COO\", \"TMO\", \"UNH\", \"UHS\", \"VAR\", \"VRTX\", \"WAT\", \"ZBH\", \"ZTS\"], \"legendgroup\": \"Health Care\", \"marker\": {\"color\": \"#EF553B\", \"size\": [102121042306.0, 181386347059.0, 59197016353.0, 21984606918.0, 26172439795.0, 18788041378.0, 56668833898.0, 20587704101.0, 128133340000.0, 61221978627.0, 35713732553.0, 50910180308.0, 69157726427.0, 36142506007.0, 102506501960.0, 20493281175.0, 74921079154.0, 18012494506.0, 21101697598.0, 47680910480.0, 66351150000.0, 13685178000.0, 13390513478.0, 27447099863.0, 4212729247.0, 42449656350.0, 108106822109.0, 11452961984.0, 11181493750.0, 36973617235.0, 15422885020.0, 32295200000.0, 18220961259.0, 44866621303.0, 20426488713.0, 353062464971.0, 17271388000.0, 84475986228.0, 31534840262.0, 110107062300.0, 152241530340.0, 16420774443.0, 21698849265.0, 3209792400.0, 8351767268.0, 208505541949.0, 13578300000.0, 35950369241.0, 13233622689.0, 57509096756.0, 11297958140.0, 83226586345.0, 218834811333.0, 11116075286.0, 10692681720.0, 39369386348.0, 16064078572.0, 24454698119.0, 35991109776.0], \"sizemode\": \"area\", \"sizeref\": 899453371.1333333, \"symbol\": \"circle\"}, \"mode\": \"markers\", \"name\": \"Health Care\", \"orientation\": \"v\", \"showlegend\": true, \"x\": [\"ABT\", \"ABBV\", \"AET\", \"A\", \"ALXN\", \"ALGN\", \"AGN\", \"ABC\", \"AMGN\", \"ANTM\", \"BAX\", \"BDX\", \"BIIB\", \"BSX\", \"BMY\", \"CAH\", \"CELG\", \"CNC\", \"CERN\", \"CI\", \"DHR\", \"DVA\", \"XRAY\", \"EW\", \"EVHC\", \"ESRX\", \"GILD\", \"HSIC\", \"HOLX\", \"HUM\", \"IDXX\", \"ILMN\", \"INCY\", \"ISRG\", \"IQV\", \"JNJ\", \"LH\", \"LLY\", \"MCK\", \"MDT\", \"MRK\", \"MTD\", \"MYL\", \"PDCO\", \"PKI\", \"PFE\", \"DGX\", \"REGN\", \"RMD\", \"SYK\", \"COO\", \"TMO\", \"UNH\", \"UHS\", \"VAR\", \"VRTX\", \"WAT\", \"ZBH\", \"ZTS\"], \"xaxis\": \"x\", \"y\": [56.27, 108.48, 178.0, 65.05, 108.47, 220.71, 164.2, 91.55, 173.12, 230.57, 62.56, 211.44, 311.79, 25.2, 62.69, 66.63, 91.02, 100.36, 61.22, 189.27, 92.16, 71.91, 56.85, 123.78, 35.34, 73.35, 78.22, 70.85, 38.8, 262.37, 169.28, 209.54, 83.92, 381.87, 95.23, 126.36, 165.46, 74.21, 150.23, 78.38, 54.73, 601.0, 39.25, 32.88, 72.06, 33.63, 96.42, 322.62, 89.26, 148.01, 223.17, 198.73, 216.46, 114.87, 112.82, 151.6, 191.79, 115.53, 71.51], \"yaxis\": \"y\", \"type\": \"scatter\"}], \"name\": \"Health Care\"}, {\"data\": [{\"hovertemplate\": \"<b>%{hovertext}</b><br><br>Sector=Information Technology<br>Symbol=%{x}<br>Price=%{y}<br>Market Cap=%{marker.size}<extra></extra>\", \"hovertext\": [\"Accenture plc\", \"Activision Blizzard\", \"Adobe Systems Inc\", \"Advanced Micro Devices Inc\", \"Akamai Technologies Inc\", \"Alliance Data Systems\", \"Alphabet Inc Class A\", \"Alphabet Inc Class C\", \"Amphenol Corp\", \"Analog Devices, Inc.\", \"ANSYS\", \"Apple Inc.\", \"Applied Materials Inc\", \"Autodesk Inc\", \"Automatic Data Processing\", \"Broadcom\", \"CA, Inc.\", \"Cadence Design Systems\", \"Cisco Systems\", \"Citrix Systems\", \"Cognizant Technology Solutions\", \"Corning Inc.\", \"CSRA Inc.\", \"DXC Technology\", \"eBay Inc.\", \"Electronic Arts\", \"F5 Networks\", \"Facebook, Inc.\", \"Fidelity National Information Services\", \"Fiserv Inc\", \"FLIR Systems\", \"Gartner Inc\", \"Global Payments Inc.\", \"Harris Corporation\", \"Hewlett Packard Enterprise\", \"HP Inc.\", \"Intel Corp.\", \"International Business Machines\", \"Intuit Inc.\", \"Juniper Networks\", \"KLA-Tencor Corp.\", \"Lam Research\", \"Mastercard Inc.\", \"Microchip Technology\", \"Micron Technology\", \"Microsoft Corp.\", \"Motorola Solutions Inc.\", \"NetApp\", \"Netflix Inc.\", \"Nvidia Corporation\", \"Oracle Corp.\", \"Paychex Inc.\", \"PayPal\", \"Qorvo\", \"QUALCOMM Inc.\", \"Red Hat Inc.\", \"Salesforce.com\", \"Seagate Technology\", \"Skyworks Solutions\", \"Symantec Corp.\", \"Synopsys Inc.\", \"TE Connectivity Ltd.\", \"Texas Instruments\", \"Total System Services\", \"Verisign Inc.\", \"Visa Inc.\", \"Western Digital\", \"Western Union Co\", \"Xerox Corp.\", \"Xilinx Inc\"], \"ids\": [\"ACN\", \"ATVI\", \"ADBE\", \"AMD\", \"AKAM\", \"ADS\", \"GOOGL\", \"GOOG\", \"APH\", \"ADI\", \"ANSS\", \"AAPL\", \"AMAT\", \"ADSK\", \"ADP\", \"AVGO\", \"CA\", \"CDNS\", \"CSCO\", \"CTXS\", \"CTSH\", \"GLW\", \"CSRA\", \"DXC\", \"EBAY\", \"EA\", \"FFIV\", \"FB\", \"FIS\", \"FISV\", \"FLIR\", \"IT\", \"GPN\", \"HRS\", \"HPE\", \"HPQ\", \"INTC\", \"IBM\", \"INTU\", \"JNPR\", \"KLAC\", \"LRCX\", \"MA\", \"MCHP\", \"MU\", \"MSFT\", \"MSI\", \"NTAP\", \"NFLX\", \"NVDA\", \"ORCL\", \"PAYX\", \"PYPL\", \"QRVO\", \"QCOM\", \"RHT\", \"CRM\", \"STX\", \"SWKS\", \"SYMC\", \"SNPS\", \"TEL\", \"TXN\", \"TSS\", \"VRSN\", \"V\", \"WDC\", \"WU\", \"XRX\", \"XLNX\"], \"legendgroup\": \"Information Technology\", \"marker\": {\"color\": \"#00cc96\", \"size\": [98765855553.0, 52518668144.0, 94550214268.0, 11191663795.0, 10906904066.0, 13632608582.0, 733823966137.0, 728535558140.0, 26955335395.0, 31811578855.0, 13155919129.0, 809508034020.0, 51296481503.0, 24348294504.0, 50337702249.0, 92791974933.0, 14175422936.0, 10890625200.0, 199425716482.0, 13199167493.0, 45119684067.0, 25759280346.0, 5134501276.0, 27408621020.0, 44216696399.0, 37890226992.0, 8744185796.0, 523423036576.0, 32308459680.0, 26918949723.0, 6706992926.0, 10828314389.0, 16920023264.0, 18140726600.0, 24800859640.0, 34895294088.0, 211536000000.0, 142433003505.0, 41233771565.0, 9267350000.0, 16078622033.0, 27967534829.0, 187102014193.0, 19393095636.0, 48576791974.0, 689978437468.0, 16626039679.0, 15375210915.0, 114805404842.0, 138652800000.0, 202302349740.0, 23253666810.0, 90708000000.0, 9877885146.0, 96282828902.0, 22799923883.0, 79489115000.0, 14113197720.0, 18493080922.0, 16520497264.0, 12767067883.0, 34983666316.0, 100262526470.0, 15694951118.0, 10754983829.0, 270038723213.0, 24760297793.0, 8951609207.0, 7938833340.0, 17064975551.0], \"sizemode\": \"area\", \"sizeref\": 899453371.1333333, \"symbol\": \"circle\"}, \"mode\": \"markers\", \"name\": \"Information Technology\", \"orientation\": \"v\", \"showlegend\": true, \"x\": [\"ACN\", \"ATVI\", \"ADBE\", \"AMD\", \"AKAM\", \"ADS\", \"GOOGL\", \"GOOG\", \"APH\", \"ADI\", \"ANSS\", \"AAPL\", \"AMAT\", \"ADSK\", \"ADP\", \"AVGO\", \"CA\", \"CDNS\", \"CSCO\", \"CTXS\", \"CTSH\", \"GLW\", \"CSRA\", \"DXC\", \"EBAY\", \"EA\", \"FFIV\", \"FB\", \"FIS\", \"FISV\", \"FLIR\", \"IT\", \"GPN\", \"HRS\", \"HPE\", \"HPQ\", \"INTC\", \"IBM\", \"INTU\", \"JNPR\", \"KLAC\", \"LRCX\", \"MA\", \"MCHP\", \"MU\", \"MSFT\", \"MSI\", \"NTAP\", \"NFLX\", \"NVDA\", \"ORCL\", \"PAYX\", \"PYPL\", \"QRVO\", \"QCOM\", \"RHT\", \"CRM\", \"STX\", \"SWKS\", \"SYMC\", \"SNPS\", \"TEL\", \"TXN\", \"TSS\", \"VRSN\", \"V\", \"WDC\", \"WU\", \"XRX\", \"XLNX\"], \"xaxis\": \"x\", \"y\": [150.51, 65.83, 185.16, 11.22, 62.49, 240.6, 1007.71, 1001.52, 84.44, 82.68, 148.84, 155.15, 45.75, 104.81, 108.25, 229.57, 32.66, 36.82, 38.77, 84.53, 75.16, 28.45, 30.85, 91.92, 41.02, 116.54, 137.25, 171.58, 92.74, 133.05, 46.46, 114.26, 100.59, 149.84, 15.04, 19.92, 42.75, 147.59, 152.75, 24.66, 98.54, 162.23, 160.62, 79.9, 40.0, 85.01, 98.74, 55.85, 250.1, 217.52, 46.84, 61.86, 72.32, 76.85, 62.42, 124.65, 104.03, 47.44, 99.04, 25.59, 82.62, 95.27, 97.66, 81.17, 105.62, 113.86, 80.09, 18.81, 29.8, 62.82], \"yaxis\": \"y\", \"type\": \"scatter\"}], \"name\": \"Information Technology\"}, {\"data\": [{\"hovertemplate\": \"<b>%{hovertext}</b><br><br>Sector=Consumer Discretionary<br>Symbol=%{x}<br>Price=%{y}<br>Market Cap=%{marker.size}<extra></extra>\", \"hovertext\": [\"Advance Auto Parts\", \"Amazon.com Inc\", \"Aptiv Plc\", \"AutoZone Inc\", \"Best Buy Co. Inc.\", \"BorgWarner\", \"Carmax Inc\", \"Carnival Corp.\", \"CBS Corp.\", \"Charter Communications\", \"Chipotle Mexican Grill\", \"Comcast Corp.\", \"D. R. Horton\", \"Darden Restaurants\", \"Discovery Communications-A\", \"Discovery Communications-C\", \"Dish Network\", \"Dollar General\", \"Dollar Tree\", \"Expedia Inc.\", \"Ford Motor\", \"Gap Inc.\", \"Garmin Ltd.\", \"General Motors\", \"Genuine Parts\", \"Goodyear Tire & Rubber\", \"Hanesbrands Inc\", \"Harley-Davidson\", \"Hasbro Inc.\", \"Hilton Worldwide Holdings Inc\", \"Home Depot\", \"Interpublic Group\", \"Kohl's Corp.\", \"L Brands Inc.\", \"Leggett & Platt\", \"Lennar Corp.\", \"LKQ Corporation\", \"Lowe's Cos.\", \"Macy's Inc.\", \"Marriott Int'l.\", \"Mattel Inc.\", \"McDonald's Corp.\", \"MGM Resorts International\", \"Michael Kors Holdings\", \"Mohawk Industries\", \"Newell Brands\", \"News Corp. Class A\", \"News Corp. Class B\", \"Nike\", \"Nordstrom\", \"Norwegian Cruise Line\", \"O'Reilly Automotive\", \"Omnicom Group\", \"Polo Ralph Lauren Corp.\", \"Priceline.com Inc\", \"Pulte Homes Inc.\", \"PVH Corp.\", \"Ross Stores\", \"Royal Caribbean Cruises Ltd\", \"Scripps Networks Interactive Inc.\", \"Signet Jewelers\", \"Snap-On Inc.\", \"Stanley Black & Decker\", \"Starbucks Corp.\", \"Target Corp.\", \"The Walt Disney Company\", \"Tiffany & Co.\", \"Time Warner Inc.\", \"TJX Companies Inc.\", \"Tractor Supply Company\", \"TripAdvisor\", \"Twenty-First Century Fox Class A\", \"Twenty-First Century Fox Class B\", \"Ulta Salon Cosmetics & Fragrance Inc\", \"Under Armour Class A\", \"Under Armour Class C\", \"V.F. Corp.\", \"Viacom Inc.\", \"Whirlpool Corp.\", \"Wyndham Worldwide\", \"Wynn Resorts Ltd\", \"Yum! Brands Inc\"], \"ids\": [\"AAP\", \"AMZN\", \"APTV\", \"AZO\", \"BBY\", \"BWA\", \"KMX\", \"CCL\", \"CBS\", \"CHTR\", \"CMG\", \"CMCSA\", \"DHI\", \"DRI\", \"DISCA\", \"DISCK\", \"DISH\", \"DG\", \"DLTR\", \"EXPE\", \"F\", \"GPS\", \"GRMN\", \"GM\", \"GPC\", \"GT\", \"HBI\", \"HOG\", \"HAS\", \"HLT\", \"HD\", \"IPG\", \"KSS\", \"LB\", \"LEG\", \"LEN\", \"LKQ\", \"LOW\", \"M\", \"MAR\", \"MAT\", \"MCD\", \"MGM\", \"KORS\", \"MHK\", \"NWL\", \"NWSA\", \"NWS\", \"NKE\", \"JWN\", \"NCLH\", \"ORLY\", \"OMC\", \"RL\", \"PCLN\", \"PHM\", \"PVH\", \"ROST\", \"RCL\", \"SNI\", \"SIG\", \"SNA\", \"SWK\", \"SBUX\", \"TGT\", \"DIS\", \"TIF\", \"TWX\", \"TJX\", \"TSCO\", \"TRIP\", \"FOXA\", \"FOX\", \"ULTA\", \"UAA\", \"UA\", \"VFC\", \"VIAB\", \"WHR\", \"WYN\", \"WYNN\", \"YUM\"], \"legendgroup\": \"Consumer Discretionary\", \"marker\": {\"color\": \"#ab63fa\", \"size\": [8123611867.0, 685873374731.0, 24906530300.0, 19922021415.0, 20831186176.0, 11596117445.0, 11827453706.0, 49180044050.0, 20431395736.0, 86708878113.0, 7685283970.0, 186476996883.0, 17390873686.0, 11745595320.0, 8763756733.0, 8320262123.0, 21032719056.0, 26580644874.0, 25151198417.0, 19722178609.0, 42414328338.0, 12684517721.0, 11840331607.0, 61536606173.0, 14554321748.0, 8244568238.0, 8006268615.0, 8158949890.0, 12732072001.0, 26242415796.0, 223378633329.0, 8277363031.0, 10570861198.0, 13862042842.0, 6034600480.0, 14615967194.0, 12469931896.0, 82909678852.0, 7541063495.0, 50910130358.0, 5843402350.0, 132101623787.0, 19633674337.0, 10053919023.0, 19897356456.0, 14438346000.0, 9356906461.0, 9496735699.0, 106776113744.0, 8212509855.0, 13191507318.0, 21433781860.0, 17377551986.0, 8753430477.0, 91817448863.0, 8792572352.0, 11478625926.0, 29803566306.0, 27418147452.0, 11328642413.0, 3034275549.0, 9499107736.0, 24496399600.0, 76548976000.0, 39816696539.0, 157817273295.0, 12810515320.0, 74185800000.0, 48181450881.0, 8459271203.0, 5700998508.0, 44027094922.0, 66135313503.0, 13300000127.0, 5856913571.0, 5366628950.0, 31797645904.0, 10601008017.0, 12177920000.0, 11993835688.0, 18225400525.0, 27003303098.0], \"sizemode\": \"area\", \"sizeref\": 899453371.1333333, \"symbol\": \"circle\"}, \"mode\": \"markers\", \"name\": \"Consumer Discretionary\", \"orientation\": \"v\", \"showlegend\": true, \"x\": [\"AAP\", \"AMZN\", \"APTV\", \"AZO\", \"BBY\", \"BWA\", \"KMX\", \"CCL\", \"CBS\", \"CHTR\", \"CMG\", \"CMCSA\", \"DHI\", \"DRI\", \"DISCA\", \"DISCK\", \"DISH\", \"DG\", \"DLTR\", \"EXPE\", \"F\", \"GPS\", \"GRMN\", \"GM\", \"GPC\", \"GT\", \"HBI\", \"HOG\", \"HAS\", \"HLT\", \"HD\", \"IPG\", \"KSS\", \"LB\", \"LEG\", \"LEN\", \"LKQ\", \"LOW\", \"M\", \"MAR\", \"MAT\", \"MCD\", \"MGM\", \"KORS\", \"MHK\", \"NWL\", \"NWSA\", \"NWS\", \"NKE\", \"JWN\", \"NCLH\", \"ORLY\", \"OMC\", \"RL\", \"PCLN\", \"PHM\", \"PVH\", \"ROST\", \"RCL\", \"SNI\", \"SIG\", \"SNA\", \"SWK\", \"SBUX\", \"TGT\", \"DIS\", \"TIF\", \"TWX\", \"TJX\", \"TSCO\", \"TRIP\", \"FOXA\", \"FOX\", \"ULTA\", \"UAA\", \"UA\", \"VFC\", \"VIAB\", \"WHR\", \"WYN\", \"WYNN\", \"YUM\"], \"xaxis\": \"x\", \"y\": [109.63, 1350.5, 89.27, 718.57, 68.79, 51.94, 64.34, 66.76, 51.8, 348.65, 266.01, 38.19, 44.55, 91.33, 22.87, 21.58, 43.77, 95.1, 101.58, 123.03, 10.43, 31.17, 61.13, 40.75, 96.31, 30.75, 19.57, 47.54, 96.48, 78.66, 181.22, 21.34, 60.34, 47.77, 43.99, 59.11, 38.86, 95.01, 24.0, 133.88, 16.0, 158.97, 33.5, 60.03, 256.57, 27.91, 15.65, 15.85, 62.49, 47.23, 56.01, 252.22, 75.91, 101.32, 1806.06, 28.67, 142.68, 75.06, 122.45, 86.46, 49.38, 156.72, 152.86, 53.77, 71.11, 101.35, 99.62, 93.02, 74.36, 65.94, 40.05, 34.56, 34.09, 209.09, 13.14, 11.95, 78.75, 32.71, 164.95, 113.56, 169.28, 76.3], \"yaxis\": \"y\", \"type\": \"scatter\"}], \"name\": \"Consumer Discretionary\"}, {\"data\": [{\"hovertemplate\": \"<b>%{hovertext}</b><br><br>Sector=Utilities<br>Symbol=%{x}<br>Price=%{y}<br>Market Cap=%{marker.size}<extra></extra>\", \"hovertext\": [\"AES Corp\", \"Alliant Energy Corp\", \"Ameren Corp\", \"American Electric Power\", \"American Water Works Company Inc\", \"CenterPoint Energy\", \"CMS Energy\", \"Consolidated Edison\", \"Dominion Energy\", \"DTE Energy Co.\", \"Duke Energy\", \"Edison Int'l\", \"Entergy Corp.\", \"Eversource Energy\", \"Exelon Corp.\", \"FirstEnergy Corp\", \"NextEra Energy\", \"NiSource Inc.\", \"NRG Energy\", \"PG&E Corp.\", \"Pinnacle West Capital\", \"PPL Corp.\", \"Public Serv. Enterprise Inc.\", \"SCANA Corp\", \"Sempra Energy\", \"Southern Co.\", \"Wec Energy Group Inc\", \"Xcel Energy Inc\"], \"ids\": [\"AES\", \"LNT\", \"AEE\", \"AEP\", \"AWK\", \"CNP\", \"CMS\", \"ED\", \"D\", \"DTE\", \"DUK\", \"EIX\", \"ETR\", \"ES\", \"EXC\", \"FE\", \"NEE\", \"NI\", \"NRG\", \"PCG\", \"PNW\", \"PPL\", \"PEG\", \"SCG\", \"SRE\", \"SO\", \"WEC\", \"XEL\"], \"legendgroup\": \"Utilities\", \"marker\": {\"color\": \"#FFA15A\", \"size\": [6920851212.0, 8670163500.0, 12905744906.0, 31701916517.0, 13906146184.0, 11362043297.0, 11873960824.0, 23335777662.0, 47543571860.0, 17808073691.0, 52078185682.0, 19447670886.0, 13116894887.0, 18027633617.0, 34734816899.0, 13706075072.0, 69661177770.0, 7776566371.0, 8030036023.0, 20309412381.0, 8397609889.0, 20839814845.0, 24138050331.0, 5229448882.0, 26163862235.0, 43497224128.0, 18890296993.0, 21559611927.0], \"sizemode\": \"area\", \"sizeref\": 899453371.1333333, \"symbol\": \"circle\"}, \"mode\": \"markers\", \"name\": \"Utilities\", \"orientation\": \"v\", \"showlegend\": true, \"x\": [\"AES\", \"LNT\", \"AEE\", \"AEP\", \"AWK\", \"CNP\", \"CMS\", \"ED\", \"D\", \"DTE\", \"DUK\", \"EIX\", \"ETR\", \"ES\", \"EXC\", \"FE\", \"NEE\", \"NI\", \"NRG\", \"PCG\", \"PNW\", \"PPL\", \"PEG\", \"SCG\", \"SRE\", \"SO\", \"WEC\", \"XEL\"], \"xaxis\": \"x\", \"y\": [10.06, 37.14, 52.59, 63.38, 76.06, 25.85, 41.77, 74.73, 73.31, 98.49, 74.32, 58.07, 72.02, 56.11, 35.98, 30.64, 145.29, 22.51, 24.0, 38.24, 74.34, 29.52, 46.73, 35.6, 103.36, 43.4, 59.5, 42.44], \"yaxis\": \"y\", \"type\": \"scatter\"}], \"name\": \"Utilities\"}, {\"data\": [{\"hovertemplate\": \"<b>%{hovertext}</b><br><br>Sector=Financials<br>Symbol=%{x}<br>Price=%{y}<br>Market Cap=%{marker.size}<extra></extra>\", \"hovertext\": [\"Affiliated Managers Group Inc\", \"AFLAC Inc\", \"Allstate Corp\", \"American Express Co\", \"American International Group, Inc.\", \"Ameriprise Financial\", \"Aon plc\", \"Arthur J. Gallagher & Co.\", \"Assurant Inc\", \"Bank of America Corp\", \"BB&T Corporation\", \"Berkshire Hathaway\", \"BlackRock\", \"Block H&R\", \"Brighthouse Financial Inc\", \"Capital One Financial\", \"CBOE Holdings\", \"Charles Schwab Corporation\", \"Chubb Limited\", \"Cincinnati Financial\", \"Citigroup Inc.\", \"Citizens Financial Group\", \"CME Group Inc.\", \"Comerica Inc.\", \"Discover Financial Services\", \"E*Trade\", \"Everest Re Group Ltd.\", \"Fifth Third Bancorp\", \"Franklin Resources\", \"Goldman Sachs Group\", \"Hartford Financial Svc.Gp.\", \"Huntington Bancshares\", \"Intercontinental Exchange\", \"Invesco Ltd.\", \"JPMorgan Chase & Co.\", \"KeyCorp\", \"Leucadia National Corp.\", \"Lincoln National\", \"Loews Corp.\", \"M&T Bank Corp.\", \"Marsh & McLennan\", \"MetLife Inc.\", \"Moody's Corp\", \"Morgan Stanley\", \"Nasdaq, Inc.\", \"Navient\", \"Northern Trust Corp.\", \"People's United Financial\", \"PNC Financial Services\", \"Principal Financial Group\", \"Progressive Corp.\", \"Prudential Financial\", \"Raymond James Financial Inc.\", \"Regions Financial Corp.\", \"S&P Global, Inc.\", \"State Street Corp.\", \"SunTrust Banks\", \"Synchrony Financial\", \"T. Rowe Price Group\", \"The Bank of New York Mellon Corp.\", \"The Travelers Companies Inc.\", \"Torchmark Corp.\", \"U.S. Bancorp\", \"Unum Group\", \"Wells Fargo\", \"Willis Towers Watson\", \"XL Capital\", \"Zions Bancorp\"], \"ids\": [\"AMG\", \"AFL\", \"ALL\", \"AXP\", \"AIG\", \"AMP\", \"AON\", \"AJG\", \"AIZ\", \"BAC\", \"BBT\", \"BRK.B\", \"BLK\", \"HRB\", \"BHF\", \"COF\", \"CBOE\", \"SCHW\", \"CB\", \"CINF\", \"C\", \"CFG\", \"CME\", \"CMA\", \"DFS\", \"ETFC\", \"RE\", \"FITB\", \"BEN\", \"GS\", \"HIG\", \"HBAN\", \"ICE\", \"IVZ\", \"JPM\", \"KEY\", \"LUK\", \"LNC\", \"L\", \"MTB\", \"MMC\", \"MET\", \"MCO\", \"MS\", \"NDAQ\", \"NAVI\", \"NTRS\", \"PBCT\", \"PNC\", \"PFG\", \"PGR\", \"PRU\", \"RJF\", \"RF\", \"SPGI\", \"STT\", \"STI\", \"SYF\", \"TROW\", \"BK\", \"TRV\", \"TMK\", \"USB\", \"UNM\", \"WFC\", \"WLTW\", \"XL\", \"ZION\"], \"legendgroup\": \"Financials\", \"marker\": {\"color\": \"#19d3f3\", \"size\": [10442174371.0, 33422948000.0, 34759468905.0, 80410990000.0, 54360073164.0, 23472126000.0, 35123123422.0, 11968488290.0, 4653993594.0, 321478200969.0, 42087562920.0, 261401203633.0, 85907759858.0, 5381433872.0, 7066613254.0, 47637260000.0, 12998295607.0, 69750188843.0, 68424670566.0, 11916533018.0, 192709302000.0, 22008050974.0, 54423298745.0, 16274969256.0, 27433540000.0, 13754977266.0, 10131892523.0, 22437653700.0, 21759187973.0, 96978500251.0, 19926305632.0, 16766497291.0, 41373051167.0, 13620847614.0, 386613611000.0, 22589744920.0, 8910389431.0, 17123031000.0, 16111166935.0, 27840827434.0, 41819440000.0, 48679364276.0, 30189978000.0, 97535400000.0, 12844304115.0, 3692691330.0, 22908130223.0, 6527616000.0, 73315000000.0, 18457199721.0, 31062780000.0, 47136080000.0, 13216271700.0, 21500640000.0, 46585950000.0, 38059113300.0, 32498948310.0, 28893750000.0, 25810865035.0, 56083904906.0, 38903131815.0, 9614412169.0, 90940115897.0, 11256432318.0, 281463620775.0, 20780269334.0, 10753423590.0, 10670678640.0], \"sizemode\": \"area\", \"sizeref\": 899453371.1333333, \"symbol\": \"circle\"}, \"mode\": \"markers\", \"name\": \"Financials\", \"orientation\": \"v\", \"showlegend\": true, \"x\": [\"AMG\", \"AFL\", \"ALL\", \"AXP\", \"AIG\", \"AMP\", \"AON\", \"AJG\", \"AIZ\", \"BAC\", \"BBT\", \"BRK.B\", \"BLK\", \"HRB\", \"BHF\", \"COF\", \"CBOE\", \"SCHW\", \"CB\", \"CINF\", \"C\", \"CFG\", \"CME\", \"CMA\", \"DFS\", \"ETFC\", \"RE\", \"FITB\", \"BEN\", \"GS\", \"HIG\", \"HBAN\", \"ICE\", \"IVZ\", \"JPM\", \"KEY\", \"LUK\", \"LNC\", \"L\", \"MTB\", \"MMC\", \"MET\", \"MCO\", \"MS\", \"NDAQ\", \"NAVI\", \"NTRS\", \"PBCT\", \"PNC\", \"PFG\", \"PGR\", \"PRU\", \"RJF\", \"RF\", \"SPGI\", \"STT\", \"STI\", \"SYF\", \"TROW\", \"BK\", \"TRV\", \"TMK\", \"USB\", \"UNM\", \"WFC\", \"WLTW\", \"XL\", \"ZION\"], \"xaxis\": \"x\", \"y\": [179.11, 83.25, 90.06, 88.34, 58.28, 152.5, 136.05, 64.4, 85.16, 29.74, 51.07, 191.42, 509.38, 25.19, 55.44, 91.8, 111.15, 48.9, 140.39, 70.34, 71.87, 42.19, 153.04, 89.18, 72.4, 48.48, 241.06, 31.1, 38.0, 246.35, 53.34, 15.1, 67.0, 31.92, 107.88, 20.08, 23.86, 73.86, 46.05, 178.35, 79.31, 44.28, 152.14, 51.79, 75.21, 13.38, 96.2, 18.56, 149.38, 60.38, 51.07, 103.38, 86.06, 17.9, 173.31, 98.54, 65.8, 34.98, 101.99, 53.29, 135.01, 80.52, 52.65, 47.87, 55.4, 152.36, 41.26, 50.71], \"yaxis\": \"y\", \"type\": \"scatter\"}], \"name\": \"Financials\"}, {\"data\": [{\"hovertemplate\": \"<b>%{hovertext}</b><br><br>Sector=Materials<br>Symbol=%{x}<br>Price=%{y}<br>Market Cap=%{marker.size}<extra></extra>\", \"hovertext\": [\"Air Products & Chemicals Inc\", \"Albemarle Corp\", \"Avery Dennison Corp\", \"Ball Corp\", \"CF Industries Holdings Inc\", \"DowDuPont\", \"Eastman Chemical\", \"Ecolab Inc.\", \"FMC Corporation\", \"Freeport-McMoRan Inc.\", \"International Paper\", \"Intl Flavors & Fragrances\", \"LyondellBasell\", \"Martin Marietta Materials\", \"Monsanto Co.\", \"Newmont Mining Corporation\", \"Nucor Corp.\", \"Packaging Corporation of America\", \"PPG Industries\", \"Praxair Inc.\", \"Sealed Air\", \"Sherwin-Williams\", \"The Mosaic Company\", \"Vulcan Materials\", \"WestRock Company\"], \"ids\": [\"APD\", \"ALB\", \"AVY\", \"BLL\", \"CF\", \"DWDP\", \"EMN\", \"ECL\", \"FMC\", \"FCX\", \"IP\", \"IFF\", \"LYB\", \"MLM\", \"MON\", \"NEM\", \"NUE\", \"PKG\", \"PPG\", \"PX\", \"SEE\", \"SHW\", \"MOS\", \"VMC\", \"WRK\"], \"legendgroup\": \"Materials\", \"marker\": {\"color\": \"#FF6692\", \"size\": [34638387128.0, 11782151266.0, 10104814319.0, 13767688518.0, 9209106695.0, 165203312427.0, 14226830813.0, 38460272282.0, 11273961835.0, 25853969330.0, 24465996443.0, 11270040447.0, 43556650000.0, 13756812736.0, 53076824328.0, 19749449484.0, 20003317128.0, 11051273948.0, 29043337549.0, 42948664203.0, 8001938397.0, 37730994828.0, 9726962131.0, 16964162228.0, 16433340688.0], \"sizemode\": \"area\", \"sizeref\": 899453371.1333333, \"symbol\": \"circle\"}, \"mode\": \"markers\", \"name\": \"Materials\", \"orientation\": \"v\", \"showlegend\": true, \"x\": [\"APD\", \"ALB\", \"AVY\", \"BLL\", \"CF\", \"DWDP\", \"EMN\", \"ECL\", \"FMC\", \"FCX\", \"IP\", \"IFF\", \"LYB\", \"MLM\", \"MON\", \"NEM\", \"NUE\", \"PKG\", \"PPG\", \"PX\", \"SEE\", \"SHW\", \"MOS\", \"VMC\", \"WRK\"], \"xaxis\": \"x\", \"y\": [152.8, 105.18, 110.77, 38.44, 37.46, 68.21, 93.57, 127.76, 80.87, 17.16, 56.05, 138.0, 105.79, 208.42, 119.08, 36.61, 60.38, 111.95, 110.3, 144.07, 42.62, 387.65, 24.13, 121.47, 60.93], \"yaxis\": \"y\", \"type\": \"scatter\"}], \"name\": \"Materials\"}, {\"data\": [{\"hovertemplate\": \"<b>%{hovertext}</b><br><br>Sector=Real Estate<br>Symbol=%{x}<br>Price=%{y}<br>Market Cap=%{marker.size}<extra></extra>\", \"hovertext\": [\"Alexandria Real Estate Equities Inc\", \"American Tower Corp A\", \"Apartment Investment & Management\", \"AvalonBay Communities, Inc.\", \"Boston Properties\", \"CBRE Group\", \"Crown Castle International Corp.\", \"Digital Realty Trust Inc\", \"Duke Realty Corp\", \"Equinix\", \"Equity Residential\", \"Essex Property Trust, Inc.\", \"Extra Space Storage\", \"Federal Realty Investment Trust\", \"General Growth Properties Inc.\", \"HCP Inc.\", \"Host Hotels & Resorts\", \"Iron Mountain Incorporated\", \"Kimco Realty\", \"Macerich\", \"Mid-America Apartments\", \"Prologis\", \"Public Storage\", \"Realty Income Corporation\", \"Regency Centers Corporation\", \"SBA Communications\", \"Simon Property Group Inc\", \"SL Green Realty\", \"UDR Inc\", \"Ventas Inc\", \"Vornado Realty Trust\", \"Welltower Inc.\", \"Weyerhaeuser Corp.\"], \"ids\": [\"ARE\", \"AMT\", \"AIV\", \"AVB\", \"BXP\", \"CBG\", \"CCI\", \"DLR\", \"DRE\", \"EQIX\", \"EQR\", \"ESS\", \"EXR\", \"FRT\", \"GGP\", \"HCP\", \"HST\", \"IRM\", \"KIM\", \"MAC\", \"MAA\", \"PLD\", \"PSA\", \"O\", \"REG\", \"SBAC\", \"SPG\", \"SLG\", \"UDR\", \"VTR\", \"VNO\", \"HCN\", \"WY\"], \"legendgroup\": \"Real Estate\", \"marker\": {\"color\": \"#B6E880\", \"size\": [12043374429.0, 59213892640.0, 6156884142.0, 21856547430.0, 17799878487.0, 14440591731.0, 44183023189.0, 21400952517.0, 9035293365.0, 33333813618.0, 20925508143.0, 14383525286.0, 10133547517.0, 8077368506.0, 21018887283.0, 10967755538.0, 14394715334.0, 9410249279.0, 6180487499.0, 8473119166.0, 9992628990.0, 31953288000.0, 32258539942.0, 13784942453.0, 9858367494.0, 19572031314.0, 48139839531.0, 8617714345.0, 9050154422.0, 18865999082.0, 12778779911.0, 20943679019.0, 26070297960.0], \"sizemode\": \"area\", \"sizeref\": 899453371.1333333, \"symbol\": \"circle\"}, \"mode\": \"markers\", \"name\": \"Real Estate\", \"orientation\": \"v\", \"showlegend\": true, \"x\": [\"ARE\", \"AMT\", \"AIV\", \"AVB\", \"BXP\", \"CBG\", \"CCI\", \"DLR\", \"DRE\", \"EQIX\", \"EQR\", \"ESS\", \"EXR\", \"FRT\", \"GGP\", \"HCP\", \"HST\", \"IRM\", \"KIM\", \"MAC\", \"MAA\", \"PLD\", \"PSA\", \"O\", \"REG\", \"SBAC\", \"SPG\", \"SLG\", \"UDR\", \"VTR\", \"VNO\", \"HCN\", \"WY\"], \"xaxis\": \"x\", \"y\": [114.58, 133.57, 38.21, 154.94, 112.09, 41.92, 103.81, 98.96, 24.52, 409.98, 55.26, 218.28, 77.56, 108.11, 21.62, 22.64, 18.75, 32.07, 14.01, 58.36, 85.39, 58.33, 180.49, 47.56, 55.58, 159.85, 152.18, 90.61, 32.92, 50.92, 66.18, 54.67, 33.6], \"yaxis\": \"y\", \"type\": \"scatter\"}], \"name\": \"Real Estate\"}, {\"data\": [{\"hovertemplate\": \"<b>%{hovertext}</b><br><br>Sector=Consumer Staples<br>Symbol=%{x}<br>Price=%{y}<br>Market Cap=%{marker.size}<extra></extra>\", \"hovertext\": [\"Altria Group Inc\", \"Archer-Daniels-Midland Co\", \"Brown-Forman Corp.\", \"Campbell Soup\", \"Church & Dwight\", \"Coca-Cola Company (The)\", \"Colgate-Palmolive\", \"Conagra Brands\", \"Constellation Brands\", \"Costco Wholesale Corp.\", \"Coty, Inc\", \"CVS Health\", \"Dr Pepper Snapple Group\", \"Estee Lauder Cos.\", \"General Mills\", \"Hormel Foods Corp.\", \"JM Smucker\", \"Kellogg Co.\", \"Kimberly-Clark\", \"Kraft Heinz Co\", \"Kroger Co.\", \"McCormick & Co.\", \"Molson Coors Brewing Company\", \"Mondelez International\", \"Monster Beverage\", \"Philip Morris International\", \"Procter & Gamble\", \"Sysco Corp.\", \"The Clorox Company\", \"The Hershey Company\", \"Tyson Foods\", \"Wal-Mart Stores\", \"Walgreens Boots Alliance\"], \"ids\": [\"MO\", \"ADM\", \"BF.B\", \"CPB\", \"CHD\", \"KO\", \"CL\", \"CAG\", \"STZ\", \"COST\", \"COTY\", \"CVS\", \"DPS\", \"EL\", \"GIS\", \"HRL\", \"SJM\", \"K\", \"KMB\", \"KHC\", \"KR\", \"MKC\", \"TAP\", \"MDLZ\", \"MNST\", \"PM\", \"PG\", \"SYY\", \"CLX\", \"HSY\", \"TSN\", \"WMT\", \"WBA\"], \"legendgroup\": \"Consumer Staples\", \"marker\": {\"color\": \"#FF97FF\", \"size\": [126985101434.0, 23594770663.0, 5498033502.0, 13467193376.0, 11838963451.0, 189855335601.0, 61616643498.0, 14379717835.0, 41697453163.0, 80439804508.0, 13101112504.0, 75323141722.0, 21209783858.0, 49543264457.0, 31098243069.0, 17338613096.0, 13612394896.0, 22182794875.0, 39449596000.0, 89618309338.0, 25471355847.0, 13459353253.0, 12396862128.0, 65827817742.0, 36403831015.0, 153580671803.0, 206318943299.0, 30445320778.0, 16540418002.0, 20867272020.0, 26957526800.0, 304680931618.0, 70862541911.0], \"sizemode\": \"area\", \"sizeref\": 899453371.1333333, \"symbol\": \"circle\"}, \"mode\": \"markers\", \"name\": \"Consumer Staples\", \"orientation\": \"v\", \"showlegend\": true, \"x\": [\"MO\", \"ADM\", \"BF.B\", \"CPB\", \"CHD\", \"KO\", \"CL\", \"CAG\", \"STZ\", \"COST\", \"COTY\", \"CVS\", \"DPS\", \"EL\", \"GIS\", \"HRL\", \"SJM\", \"K\", \"KMB\", \"KHC\", \"KR\", \"MKC\", \"TAP\", \"MDLZ\", \"MNST\", \"PM\", \"PG\", \"SYY\", \"CLX\", \"HSY\", \"TSN\", \"WMT\", \"WBA\"], \"xaxis\": \"x\", \"y\": [64.05, 41.35, 63.33, 44.83, 47.38, 43.1, 68.95, 35.49, 208.73, 178.61, 19.96, 70.55, 116.93, 131.46, 53.99, 32.21, 118.37, 65.98, 111.69, 71.58, 27.57, 101.36, 74.51, 42.68, 61.99, 100.39, 80.22, 57.0, 127.76, 97.65, 73.92, 100.02, 68.22], \"yaxis\": \"y\", \"type\": \"scatter\"}], \"name\": \"Consumer Staples\"}, {\"data\": [{\"hovertemplate\": \"<b>%{hovertext}</b><br><br>Sector=Energy<br>Symbol=%{x}<br>Price=%{y}<br>Market Cap=%{marker.size}<extra></extra>\", \"hovertext\": [\"Anadarko Petroleum Corp\", \"Andeavor\", \"Apache Corporation\", \"Baker Hughes, a GE Company\", \"Cabot Oil & Gas\", \"Chesapeake Energy\", \"Chevron Corp.\", \"Cimarex Energy\", \"Concho Resources\", \"ConocoPhillips\", \"Devon Energy Corp.\", \"EOG Resources\", \"EQT Corporation\", \"Exxon Mobil Corp.\", \"Halliburton Co.\", \"Helmerich & Payne\", \"Hess Corporation\", \"Kinder Morgan\", \"Marathon Petroleum\", \"National Oilwell Varco Inc.\", \"Newfield Exploration Co\", \"Noble Energy Inc\", \"ONEOK\", \"Phillips 66\", \"Pioneer Natural Resources\", \"Range Resources Corp.\", \"Schlumberger Ltd.\", \"TechnipFMC\", \"Valero Energy\", \"Williams Cos.\"], \"ids\": [\"APC\", \"ANDV\", \"APA\", \"BHGE\", \"COG\", \"CHK\", \"CVX\", \"XEC\", \"CXO\", \"COP\", \"DVN\", \"EOG\", \"EQT\", \"XOM\", \"HAL\", \"HP\", \"HES\", \"KMI\", \"MPC\", \"NOV\", \"NFX\", \"NBL\", \"OKE\", \"PSX\", \"PXD\", \"RRC\", \"SLB\", \"FTI\", \"VLO\", \"WMB\"], \"legendgroup\": \"Energy\", \"marker\": {\"color\": \"#FECB52\", \"size\": [32129091747.0, 15696449735.0, 15066280977.0, 32995712852.0, 10808821635.0, 2626102121.0, 218978820159.0, 10089082025.0, 22021882339.0, 65482462410.0, 19317380000.0, 61164030149.0, 12638828950.0, 326148660000.0, 43356557470.0, 7345243806.0, 14016129999.0, 38612712234.0, 31633740000.0, 12940096785.0, 5695123080.0, 13177325251.0, 21988472489.0, 47996220000.0, 29983119693.0, 3255587970.0, 96529311126.0, 14163064455.0, 39312309113.0, 24802396470.0], \"sizemode\": \"area\", \"sizeref\": 899453371.1333333, \"symbol\": \"circle\"}, \"mode\": \"markers\", \"name\": \"Energy\", \"orientation\": \"v\", \"showlegend\": true, \"x\": [\"APC\", \"ANDV\", \"APA\", \"BHGE\", \"COG\", \"CHK\", \"CVX\", \"XEC\", \"CXO\", \"COP\", \"DVN\", \"EOG\", \"EQT\", \"XOM\", \"HAL\", \"HP\", \"HES\", \"KMI\", \"MPC\", \"NOV\", \"NFX\", \"NBL\", \"OKE\", \"PSX\", \"PXD\", \"RRC\", \"SLB\", \"FTI\", \"VLO\", \"WMB\"], \"xaxis\": \"x\", \"y\": [56.2, 96.9, 37.73, 27.5, 23.01, 2.82, 112.3, 100.19, 140.09, 53.24, 34.94, 101.04, 46.25, 76.07, 47.41, 64.87, 43.0, 16.8, 62.79, 32.64, 26.38, 25.43, 54.4, 92.44, 169.16, 12.82, 67.4, 29.1, 86.77, 28.56], \"yaxis\": \"y\", \"type\": \"scatter\"}], \"name\": \"Energy\"}, {\"data\": [{\"hovertemplate\": \"<b>%{hovertext}</b><br><br>Sector=Telecommunication Services<br>Symbol=%{x}<br>Price=%{y}<br>Market Cap=%{marker.size}<extra></extra>\", \"hovertext\": [\"AT&T Inc\", \"CenturyLink Inc\", \"Verizon Communications\"], \"ids\": [\"T\", \"CTL\", \"VZ\"], \"legendgroup\": \"Telecommunication Services\", \"marker\": {\"color\": \"#636efa\", \"size\": [226713270000.0, 18237196861.0, 208092277044.0], \"sizemode\": \"area\", \"sizeref\": 899453371.1333333, \"symbol\": \"circle\"}, \"mode\": \"markers\", \"name\": \"Telecommunication Services\", \"orientation\": \"v\", \"showlegend\": true, \"x\": [\"T\", \"CTL\", \"VZ\"], \"xaxis\": \"x\", \"y\": [35.57, 16.2, 49.04], \"yaxis\": \"y\", \"type\": \"scatter\"}], \"name\": \"Telecommunication Services\"}]);\n",
       "                        }).then(function(){\n",
       "                            \n",
       "var gd = document.getElementById('cef0dce5-594e-4d08-bc5f-120a439494f3');\n",
       "var x = new MutationObserver(function (mutations, observer) {{\n",
       "        var display = window.getComputedStyle(gd).display;\n",
       "        if (!display || display === 'none') {{\n",
       "            console.log([gd, 'removed!']);\n",
       "            Plotly.purge(gd);\n",
       "            observer.disconnect();\n",
       "        }}\n",
       "}});\n",
       "\n",
       "// Listen for the removal of the full notebook cells\n",
       "var notebookContainer = gd.closest('#notebook-container');\n",
       "if (notebookContainer) {{\n",
       "    x.observe(notebookContainer, {childList: true});\n",
       "}}\n",
       "\n",
       "// Listen for the clearing of the current output cell\n",
       "var outputEl = gd.closest('.output');\n",
       "if (outputEl) {{\n",
       "    x.observe(outputEl, {childList: true});\n",
       "}}\n",
       "\n",
       "                        })                };                });            </script>        </div>"
      ]
     },
     "metadata": {},
     "output_type": "display_data"
    }
   ],
   "source": [
    "f=px.scatter(data,x='Symbol',y='Price',animation_frame=data.Sector,\n",
    "           animation_group='Symbol',\n",
    "          color='Sector',hover_name='Name',size='Market Cap',size_max=30)\n",
    "\n",
    "f.layout.updatemenus[0].buttons[0].args[1]['frame']['duration'] = 3000\n",
    "f.layout.updatemenus[0].buttons[0].args[1]['transition']['duration'] = 3500\n",
    "\n",
    "f"
   ]
  },
  {
   "cell_type": "code",
   "execution_count": null,
   "metadata": {},
   "outputs": [],
   "source": []
  }
 ],
 "metadata": {
  "kernelspec": {
   "display_name": "Python 3",
   "language": "python",
   "name": "python3"
  },
  "language_info": {
   "codemirror_mode": {
    "name": "ipython",
    "version": 3
   },
   "file_extension": ".py",
   "mimetype": "text/x-python",
   "name": "python",
   "nbconvert_exporter": "python",
   "pygments_lexer": "ipython3",
   "version": "3.8.5"
  }
 },
 "nbformat": 4,
 "nbformat_minor": 4
}
